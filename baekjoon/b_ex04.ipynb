{
 "cells": [
  {
   "cell_type": "markdown",
   "metadata": {},
   "source": [
    "# 1차원 배열"
   ]
  },
  {
   "cell_type": "markdown",
   "metadata": {},
   "source": [
    "## 10818번 - 최소, 최대\n",
    "\n",
    "- 문제  \n",
    "    N개의 정수가 주어진다. 이때, 최솟값과 최댓값을 구하는 프로그램을 작성하시오.\n",
    "\n",
    "- 입력  \n",
    "    첫째 줄에 정수의 개수 N (1 ≤ N ≤ 1,000,000)이 주어진다. 둘째 줄에는 N개의 정수를 공백으로 구분해서 주어진다. 모든 정수는 -1,000,000보다 크거나 같고, 1,000,000보다 작거나 같은 정수이다.\n",
    "\n",
    "- 출력  \n",
    "    첫째 줄에 주어진 정수 N개의 최솟값과 최댓값을 공백으로 구분해 출력한다.\n",
    "\n",
    "- 예시 입력  \n",
    "5  \n",
    "20 10 35 30 7  \n",
    "\n",
    "- 예시 출력  \n",
    "7 35  "
   ]
  },
  {
   "cell_type": "code",
   "execution_count": 2,
   "metadata": {},
   "outputs": [
    {
     "name": "stdout",
     "output_type": "stream",
     "text": [
      "7 35\n"
     ]
    }
   ],
   "source": [
    "num = int(input())\n",
    "numbers = list(map(int, input().split(maxsplit=num)))\n",
    "print(min(numbers), max(numbers))"
   ]
  },
  {
   "cell_type": "markdown",
   "metadata": {},
   "source": [
    "## 2562번 - 최댓값\n",
    "\n",
    "- 문제  \n",
    "    9개의 서로 다른 자연수가 주어질 때, 이들 중 최댓값을 찾고 그 최댓값이 몇 번째 수인지를 구하는 프로그램을 작성하시오.\n",
    "\n",
    "    예를 들어, 서로 다른 9개의 자연수\n",
    "\n",
    "    3, 29, 38, 12, 57, 74, 40, 85, 61\n",
    "\n",
    "    이 주어지면, 이들 중 최댓값은 85이고, 이 값은 8번째 수이다.\n",
    "\n",
    "- 입력  \n",
    "    첫째 줄부터 아홉 번째 줄까지 한 줄에 하나의 자연수가 주어진다. 주어지는 자연수는 100 보다 작다.\n",
    "\n",
    "- 출력  \n",
    "    첫째 줄에 최댓값을 출력하고, 둘째 줄에 최댓값이 몇 번째 수인지를 출력한다.\n",
    "\n",
    "- 예시 입력  \n",
    "3  \n",
    "29  \n",
    "38  \n",
    "12  \n",
    "57  \n",
    "74  \n",
    "40  \n",
    "85  \n",
    "61  \n",
    "\n",
    "- 예시 출력  \n",
    "85  \n",
    "8  "
   ]
  },
  {
   "cell_type": "code",
   "execution_count": 4,
   "metadata": {},
   "outputs": [
    {
     "name": "stdout",
     "output_type": "stream",
     "text": [
      "85 8\n"
     ]
    }
   ],
   "source": [
    "num_list = []\n",
    "for i in range(9):\n",
    "    num_list.append(int(input()))\n",
    "m = max(num_list)\n",
    "print(m, num_list.index(m) + 1)"
   ]
  },
  {
   "cell_type": "markdown",
   "metadata": {},
   "source": [
    "## 3052번 - 나머지\n",
    "\n",
    "- 문제  \n",
    "    두 자연수 A와 B가 있을 때, A%B는 A를 B로 나눈 나머지 이다. 예를 들어, 7, 14, 27, 38을 3으로 나눈 나머지는 1, 2, 0, 2이다. \n",
    "\n",
    "    수 10개를 입력받은 뒤, 이를 42로 나눈 나머지를 구한다. 그 다음 서로 다른 값이 몇 개 있는지 출력하는 프로그램을 작성하시오.\n",
    "\n",
    "- 입력  \n",
    "    첫째 줄부터 열번째 줄 까지 숫자가 한 줄에 하나씩 주어진다. 이 숫자는 1,000보다 작거나 같고, 음이 아닌 정수이다.\n",
    "\n",
    "- 출력  \n",
    "    첫째 줄에, 42로 나누었을 때, 서로 다른 나머지가 몇 개 있는지 출력한다.\n",
    "\n",
    "- 예시 입력1  \n",
    "1  \n",
    "2  \n",
    "3  \n",
    "4  \n",
    "5  \n",
    "6  \n",
    "7  \n",
    "8  \n",
    "9  \n",
    "10  \n",
    "\n",
    "- 예시 출력1  \n",
    "10\n",
    "\n",
    "- 예시 입력2  \n",
    "42  \n",
    "84  \n",
    "252  \n",
    "420  \n",
    "840  \n",
    "126  \n",
    "42  \n",
    "84  \n",
    "420  \n",
    "126  \n",
    "\n",
    "- 예시 출력2  \n",
    "1\n",
    "\n",
    "- 예시 입력3  \n",
    "39  \n",
    "40  \n",
    "41  \n",
    "42  \n",
    "43  \n",
    "44  \n",
    "82  \n",
    "83  \n",
    "84  \n",
    "85  \n",
    "\n",
    "- 예시 출력3  \n",
    "6"
   ]
  },
  {
   "cell_type": "code",
   "execution_count": 7,
   "metadata": {},
   "outputs": [
    {
     "name": "stdout",
     "output_type": "stream",
     "text": [
      "6\n"
     ]
    }
   ],
   "source": [
    "num_list = []\n",
    "for i in range(10):\n",
    "    num_list.append( int(input()) )\n",
    "mod_list = [x % 42 for x in num_list]\n",
    "num_set = set(mod_list)\n",
    "print( len(num_set) )"
   ]
  },
  {
   "cell_type": "markdown",
   "metadata": {},
   "source": [
    "## 1546번 - 평균\n",
    "\n",
    "- 문제  \n",
    "    세준이는 기말고사를 망쳤다. 세준이는 점수를 조작해서 집에 가져가기로 했다. 일단 세준이는 자기 점수 중에 최댓값을 골랐다. 이 값을 M이라고 한다. 그리고 나서 모든     점수를 점수/M*100으로 고쳤다.\n",
    "\n",
    "    예를 들어, 세준이의 최고점이 70이고, 수학점수가 50이었으면 수학점수는 50/70*100이 되어 71.43점이 된다.\n",
    "\n",
    "    세준이의 성적을 위의 방법대로 새로 계산했을 때, 새로운 평균을 구하는 프로그램을 작성하시오.\n",
    "\n",
    "- 입력  \n",
    "    첫째 줄에 시험 본 과목의 개수 N이 주어진다. 이 값은 1000보다 작거나 같다. 둘째 줄에 세준이의 현재 성적이 주어진다. 이 값은 100보다 작거나 같은 음이 아닌 정수이고, 적어도 하나의 값은 0보다 크다.\n",
    "\n",
    "- 출력  \n",
    "    첫째 줄에 새로운 평균을 출력한다. 실제 정답과 출력값의 절대오차 또는 상대오차가 $10^{-2}$ 이하이면 정답이다.\n",
    "\n",
    "    예시 입력|예시 출력\n",
    "    -|-\n",
    "    3</br>40 80 60 | 75.0\n",
    "    3</br>10 20 30 | 66.666667\n",
    "    4</br>1 100 100 100 | 75.25\n",
    "    5</br>1 2 4 8 16 | 38.75\n",
    "    2</br>3 10 | 65.0\n",
    "    4</br>10 20 0 100 | 32.5\n",
    "    1</br>50 | 100.0\n",
    "    9</br>10 20 30 40 50 60 70 80 90 | 55.55555555555556"
   ]
  },
  {
   "cell_type": "code",
   "execution_count": 11,
   "metadata": {},
   "outputs": [
    {
     "name": "stdout",
     "output_type": "stream",
     "text": [
      "65.0\n"
     ]
    }
   ],
   "source": [
    "r = int(input())\n",
    "num_list = list( map(int, input().split(maxsplit=r)) )\n",
    "mod_num_list = [x/max(num_list)*100 for x in num_list]\n",
    "print( sum(mod_num_list) / len(mod_num_list) )"
   ]
  },
  {
   "cell_type": "markdown",
   "metadata": {},
   "source": [
    "## 8958번 - OX퀴즈\n",
    "\n",
    "- 문제  \n",
    "    \"OOXXOXXOOO\"와 같은 OX퀴즈의 결과가 있다. O는 문제를 맞은 것이고, X는 문제를 틀린 것이다. 문제를 맞은 경우 그 문제의 점수는 그 문제까지 연속된 O의 개수가 된다. 예를 \n",
    "    들어, 10번 문제의 점수는 3이 된다.\n",
    "    \"OOXXOXXOOO\"의 점수는 1+2+0+0+1+0+0+1+2+3 = 10점이다.\n",
    "    OX퀴즈의 결과가 주어졌을 때, 점수를 구하는 프로그램을 작성하시오.\n",
    "\n",
    "- 입력  \n",
    "    첫째 줄에 테스트 케이스의 개수가 주어진다. 각 테스트 케이스는 한 줄로 이루어져 있고, 길이가 0보다 크고 80보다 작은 문자열이 주어진다. 문자열은 O와 X만으로 이루어져 있다.\n",
    "\n",
    "- 출력  \n",
    "    각 테스트 케이스마다 점수를 출력한다.\n",
    "\n",
    "- 예시 입력  \n",
    "5  \n",
    "OOXXOXXOOO  \n",
    "OOXXOOXXOO  \n",
    "OXOXOXOXOXOXOX  \n",
    "OOOOOOOOOO  \n",
    "OOOOXOOOOXOOOOX  \n",
    "\n",
    "- 예시 출력  \n",
    "10  \n",
    "9  \n",
    "7  \n",
    "55  \n",
    "30  "
   ]
  },
  {
   "cell_type": "code",
   "execution_count": 12,
   "metadata": {},
   "outputs": [
    {
     "name": "stdout",
     "output_type": "stream",
     "text": [
      "10\n",
      "9\n",
      "7\n",
      "55\n",
      "30\n"
     ]
    }
   ],
   "source": [
    "r = int(input())\n",
    "for i in range(r):\n",
    "    ex = input()\n",
    "    p = 0\n",
    "    result = 0\n",
    "    for s in ex:\n",
    "        if s == 'O':\n",
    "            p += 1\n",
    "        else:\n",
    "            p = 0\n",
    "        result += p\n",
    "    print(result)"
   ]
  },
  {
   "cell_type": "markdown",
   "metadata": {},
   "source": [
    "## 4344번 - 평균은 넘겠지\n",
    "\n",
    "- 문제  \n",
    "    대학생 새내기들의 90%는 자신이 반에서 평균은 넘는다고 생각한다. 당신은 그들에게 슬픈 진실을 알려줘야 한다.\n",
    "\n",
    "- 입력  \n",
    "    첫째 줄에는 테스트 케이스의 개수 C가 주어진다.\n",
    "\n",
    "    둘째 줄부터 각 테스트 케이스마다 학생의 수 N(1 ≤ N ≤ 1000, N은 정수)이 첫 수로 주어지고, 이어서 N명의 점수가 주어진다. 점수는 0보다 크거나 같고, 100보다 작거나 같은 정수이다.\n",
    "\n",
    "- 출력  \n",
    "    각 케이스마다 한 줄씩 평균을 넘는 학생들의 비율을 반올림하여 소수점 셋째 자리까지 출력한다.\n",
    "\n",
    "- 예시 입력  \n",
    "5  \n",
    "5 50 50 70 80 100  \n",
    "7 100 95 90 80 70 60 50  \n",
    "3 70 90 80  \n",
    "3 70 90 81  \n",
    "9 100 99 98 97 96 95 94 93 91  \n",
    "\n",
    "- 예시 출력  \n",
    "40.000%  \n",
    "57.143%  \n",
    "33.333%  \n",
    "66.667%  \n",
    "55.556%  "
   ]
  },
  {
   "cell_type": "code",
   "execution_count": 19,
   "metadata": {},
   "outputs": [
    {
     "name": "stdout",
     "output_type": "stream",
     "text": [
      "40.000%\n",
      "57.143%\n",
      "33.333%\n",
      "66.667%\n",
      "55.556%\n"
     ]
    }
   ],
   "source": [
    "r = int(input())\n",
    "for i in range(r):\n",
    "    num_list = list( map(int, input().split()) )\n",
    "    n = num_list[0]\n",
    "    numbers = num_list[1:]\n",
    "    m = sum(numbers) / len(numbers)\n",
    "    mod = [x for x in numbers if x > m]\n",
    "    result = ( len(mod) / len(numbers) ) * 100\n",
    "    print(f'{result:.3f}%')"
   ]
  },
  {
   "cell_type": "markdown",
   "metadata": {},
   "source": [
    "# 코드 마지막"
   ]
  }
 ],
 "metadata": {
  "interpreter": {
   "hash": "569b4317022eb29baeafb3d0f1f739310808ea28ce83ca127a35db1c01070585"
  },
  "kernelspec": {
   "display_name": "Python 3.9.12 ('base')",
   "language": "python",
   "name": "python3"
  },
  "language_info": {
   "codemirror_mode": {
    "name": "ipython",
    "version": 3
   },
   "file_extension": ".py",
   "mimetype": "text/x-python",
   "name": "python",
   "nbconvert_exporter": "python",
   "pygments_lexer": "ipython3",
   "version": "3.9.12"
  },
  "orig_nbformat": 4
 },
 "nbformat": 4,
 "nbformat_minor": 2
}
