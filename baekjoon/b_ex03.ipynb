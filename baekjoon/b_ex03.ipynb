{
 "cells": [
  {
   "cell_type": "markdown",
   "metadata": {},
   "source": [
    "# 반복문"
   ]
  },
  {
   "cell_type": "markdown",
   "metadata": {},
   "source": [
    "## 2739번 - 구구단\n",
    "\n",
    "- 문제  \n",
    "N을 입력받은 뒤, 구구단 N단을 출력하는 프로그램을 작성하시오. 출력 형식에 맞춰서 출력하면 된다.\n",
    "\n",
    "- 입력  \n",
    "첫째 줄에 N이 주어진다. N은 1보다 크거나 같고, 9보다 작거나 같다.\n",
    "\n",
    "- 출력  \n",
    "출력형식과 같게 N\\*1부터 N*9까지 출력한다.\n",
    "\n",
    "- 예시 입력  \n",
    "2\n",
    "- 예시 출력  \n",
    "2 * 1 = 2  \n",
    "2 * 2 = 4  \n",
    "2 * 3 = 6  \n",
    "2 * 4 = 8  \n",
    "2 * 5 = 10  \n",
    "2 * 6 = 12  \n",
    "2 * 7 = 14  \n",
    "2 * 8 = 16  \n",
    "2 * 9 = 18"
   ]
  },
  {
   "cell_type": "code",
   "execution_count": 2,
   "metadata": {},
   "outputs": [
    {
     "name": "stdout",
     "output_type": "stream",
     "text": [
      "2 * 1 = 2\n",
      "2 * 2 = 4\n",
      "2 * 3 = 6\n",
      "2 * 4 = 8\n",
      "2 * 5 = 10\n",
      "2 * 6 = 12\n",
      "2 * 7 = 14\n",
      "2 * 8 = 16\n",
      "2 * 9 = 18\n"
     ]
    }
   ],
   "source": [
    "num = int( input() )\n",
    "for i in range(1, 10):\n",
    "    print(f'{num} * {i} = {num*i}')"
   ]
  },
  {
   "cell_type": "markdown",
   "metadata": {},
   "source": [
    "## 10950번 - A + B - 3\n",
    "\n",
    "- 문제  \n",
    "두 정수 A와 B를 입력받은 다음, A+B를 출력하는 프로그램을 작성하시오.\n",
    "\n",
    "- 입력  \n",
    "  첫째 줄에 테스트 케이스의 개수 T가 주어진다.\n",
    "\n",
    "  각 테스트 케이스는 한 줄로 이루어져 있으며, 각 줄에 A와 B가 주어진다. (0 < A, B < 10)\n",
    "\n",
    "- 출력  \n",
    "각 테스트 케이스마다 A+B를 출력한다.\n",
    "\n",
    "- 예시 입력  \n",
    "5  \n",
    "1 1  \n",
    "2 3  \n",
    "3 4  \n",
    "9 8  \n",
    "5 2  \n",
    "\n",
    "- 예시 출력  \n",
    "2  \n",
    "5  \n",
    "7  \n",
    "17  \n",
    "7  "
   ]
  },
  {
   "cell_type": "code",
   "execution_count": 8,
   "metadata": {},
   "outputs": [
    {
     "name": "stdout",
     "output_type": "stream",
     "text": [
      "2\n",
      "5\n",
      "7\n",
      "17\n",
      "7\n"
     ]
    }
   ],
   "source": [
    "num = int( input() )\n",
    "for i in range(num):\n",
    "    num1, num2 = map( int, input().split() )\n",
    "    print(num1 + num2)"
   ]
  },
  {
   "cell_type": "markdown",
   "metadata": {},
   "source": [
    "## 8393번 - 합\n",
    "\n",
    "- 문제  \n",
    "n이 주어졌을 때, 1부터 n까지 합을 구하는 프로그램을 작성하시오.\n",
    "\n",
    "- 입력  \n",
    "첫째 줄에 n (1 ≤ n ≤ 10,000)이 주어진다.\n",
    "\n",
    "- 출력  \n",
    "1부터 n까지 합을 출력한다.\n",
    "\n",
    "- 예제 입력  \n",
    "3\n",
    "\n",
    "- 예제 출력  \n",
    "6"
   ]
  },
  {
   "cell_type": "code",
   "execution_count": 6,
   "metadata": {},
   "outputs": [
    {
     "name": "stdout",
     "output_type": "stream",
     "text": [
      "6\n"
     ]
    }
   ],
   "source": [
    "num = int(input())\n",
    "sum = 0\n",
    "for i in range(1, num+1):\n",
    "    sum += i\n",
    "print(sum)"
   ]
  },
  {
   "cell_type": "markdown",
   "metadata": {},
   "source": [
    "## 25304번 - 영수증\n",
    "\n",
    "- 문제  \n",
    "  준원이는 저번 주에 살면서 처음으로 코스트코를 가 봤다. 정말 멋졌다. 그런데, 몇 개 담지도 않았는데 수상하게 높은 금액이 나오는 것이다! 준원이는 영수증을 보면서 정확하게 계산된 것이 맞는지 확인해보려 한다.  \n",
    "\n",
    "  영수증에 적힌,  \n",
    "\n",
    "    - 구매한 각 물건의 가격과 개수\n",
    "    - 구매한 물건들의 총 금액\n",
    "    \n",
    "  을 보고, 구매한 물건의 가격과 개수로 계산한 총 금액이 영수증에 적힌 총 금액과 일치하는지 검사해보자.\n",
    "\n",
    "- 입력  \n",
    "  첫째 줄에는 영수증에 적힌 총 금액 $X$가 주어진다.  \n",
    "\n",
    "  둘째 줄에는 영수증에 적힌 구매한 물건의 종류의 수 $N$이 주어진다.  \n",
    "\n",
    "  이후 $N$개의 줄에는 각 물건의 가격 $a$와 개수 $b$가 공백을 사이에 두고 주어진다.  \n",
    "\n",
    "- 출력\n",
    "구매한 물건의 가격과 개수로 계산한 총 금액이 영수증에 적힌 총 금액과 일치하면 Yes를 출력한다. 일치하지 않는다면 No를 출력한다.\n",
    "\n",
    "- 제한  \n",
    " $1 ≤ X ≤ 1\\,000\\,000\\,000$   \n",
    " $1 ≤ N ≤ 100$   \n",
    " $1 ≤ a ≤ 1\\,000\\,000$   \n",
    " $1 ≤ b ≤ 10$   \n",
    "\n",
    "- 예시 입력  \n",
    "260000  \n",
    "4  \n",
    "20000 5  \n",
    "30000 2  \n",
    "10000 6  \n",
    "5000 8  \n",
    "\n",
    "- 예시 출력  \n",
    "Yes"
   ]
  },
  {
   "cell_type": "code",
   "execution_count": 7,
   "metadata": {},
   "outputs": [
    {
     "name": "stdout",
     "output_type": "stream",
     "text": [
      "Yes\n"
     ]
    }
   ],
   "source": [
    "X = int(input())\n",
    "N = int(input())\n",
    "S = 0\n",
    "for i in range(N):\n",
    "    price, num = map( int, input().split() )\n",
    "    S += price * num\n",
    "if X == S:\n",
    "    print('Yes')\n",
    "else:\n",
    "    print('No')"
   ]
  },
  {
   "cell_type": "markdown",
   "metadata": {},
   "source": [
    "## 15552번 - 빠른 A + B\n",
    "\n",
    "- 문제  \n",
    "  본격적으로 for문 문제를 풀기 전에 주의해야 할 점이 있다. 입출력 방식이 느리면 여러 줄을 입력받거나 출력할 때 시간초과가 날 수 있다는 점이다.\n",
    "\n",
    "  C++을 사용하고 있고 cin/cout을 사용하고자 한다면, cin.tie(NULL)과 sync_with_stdio(false)를 둘 다 적용해 주고, endl 대신 개행문자(\\n)를 쓰자. 단, 이렇게 하면 더 이상 scanf/printf/puts/getchar/putchar 등 C의 입출력 방식을 사용하면 안 된다.\n",
    "\n",
    "  Java를 사용하고 있다면, Scanner와 System.out.println 대신 BufferedReader와 BufferedWriter를 사용할 수 있다. BufferedWriter.flush는 맨 마지막에 한 번만 하면 된다.\n",
    "\n",
    "  Python을 사용하고 있다면, input 대신 sys.stdin.readline을 사용할 수 있다. 단, 이때는 맨 끝의 개행문자까지 같이 입력받기 때문에 문자열을 저장하고 싶을 경우 .rstrip()을 추가로 해 주는 것이 좋다.\n",
    "\n",
    "  또한 입력과 출력 스트림은 별개이므로, 테스트케이스를 전부 입력받아서 저장한 뒤 전부 출력할 필요는 없다. 테스트케이스를 하나 받은 뒤 하나 출력해도 된다.\n",
    "\n",
    "  자세한 설명 및 다른 언어의 경우는 이 글에 설명되어 있다.\n",
    "\n",
    "  이 블로그 글에서 BOJ의 기타 여러 가지 팁을 볼 수 있다.\n",
    "\n",
    "- 입력  \n",
    "첫 줄에 테스트케이스의 개수 T가 주어진다. T는 최대 1,000,000이다. 다음 T줄에는 각각 두 정수 A와 B가 주어진다. A와 B는 1 이상, 1,000 이하이다.\n",
    "\n",
    "- 출력  \n",
    "각 테스트케이스마다 A+B를 한 줄에 하나씩 순서대로 출력한다.\n",
    "\n",
    "- 예시 입력  \n",
    "5  \n",
    "1 1  \n",
    "12 34  \n",
    "5 500  \n",
    "40 60  \n",
    "1000 1000  \n",
    "\n",
    "- 예시 출력  \n",
    "2  \n",
    "46  \n",
    "505  \n",
    "100  \n",
    "2000  "
   ]
  },
  {
   "cell_type": "code",
   "execution_count": 8,
   "metadata": {},
   "outputs": [
    {
     "name": "stdout",
     "output_type": "stream",
     "text": [
      "2\n",
      "46\n",
      "505\n",
      "100\n",
      "2000\n"
     ]
    }
   ],
   "source": [
    "# 백준에서는 시간 초과 오류 발생\n",
    "r = int(input())\n",
    "for i in range(r):\n",
    "    n1, n2 = map(int, input().split())\n",
    "    print(n1 + n2)"
   ]
  },
  {
   "cell_type": "code",
   "execution_count": 1,
   "metadata": {},
   "outputs": [],
   "source": [
    "import sys"
   ]
  },
  {
   "cell_type": "code",
   "execution_count": 2,
   "metadata": {},
   "outputs": [],
   "source": [
    "# 백준에서는 정상 작동, jupyter에서는 작동 안됨.\n",
    "import sys\n",
    "r = int(input())\n",
    "for i in range(r):\n",
    "    n1, n2 = map(int, sys.stdin.readline().split()) # 작동안되는 코드\n",
    "    print(n1 + n2)"
   ]
  },
  {
   "cell_type": "markdown",
   "metadata": {},
   "source": [
    "## 11021번 - A + B - 7\n",
    "\n",
    "- 문제  \n",
    "두 정수 A와 B를 입력받은 다음, A+B를 출력하는 프로그램을 작성하시오.\n",
    "\n",
    "- 입력  \n",
    "  첫째 줄에 테스트 케이스의 개수 T가 주어진다.\n",
    "\n",
    "  각 테스트 케이스는 한 줄로 이루어져 있으며, 각 줄에 A와 B가 주어진다. (0 < A, B < 10)\n",
    "\n",
    "- 출력  \n",
    "각 테스트 케이스마다 \"Case #x: \"를 출력한 다음, A+B를 출력한다. 테스트 케이스 번호는 1부터 시작한다.\n",
    "\n",
    "- 예시 입력  \n",
    "5  \n",
    "1 1  \n",
    "2 3  \n",
    "3 4  \n",
    "9 8  \n",
    "5 2  \n",
    "\n",
    "- 예시 출력  \n",
    "Case #1: 2  \n",
    "Case #2: 5  \n",
    "Case #3: 7  \n",
    "Case #4: 17  \n",
    "Case #5: 7  "
   ]
  },
  {
   "cell_type": "code",
   "execution_count": 3,
   "metadata": {},
   "outputs": [
    {
     "name": "stdout",
     "output_type": "stream",
     "text": [
      "Case #1: 2\n",
      "Case #2: 5\n",
      "Case #3: 7\n",
      "Case #4: 17\n",
      "Case #5: 7\n"
     ]
    }
   ],
   "source": [
    "r = int(input())\n",
    "for i in range(r):\n",
    "    n1, n2 = map(int, input().split())\n",
    "    print(f'Case #{i+1}: {n1 + n2}')"
   ]
  },
  {
   "cell_type": "markdown",
   "metadata": {},
   "source": [
    "## 11022번 - A + B - 8\n",
    "\n",
    "- 문제  \n",
    "두 정수 A와 B를 입력받은 다음, A+B를 출력하는 프로그램을 작성하시오.\n",
    "\n",
    "- 입력  \n",
    "  첫째 줄에 테스트 케이스의 개수 T가 주어진다.\n",
    "\n",
    "  각 테스트 케이스는 한 줄로 이루어져 있으며, 각 줄에 A와 B가 주어진다. (0 < A, B < 10)\n",
    "\n",
    "- 출력  \n",
    "  각 테스트 케이스마다 \"Case #x: A + B = C\" 형식으로 출력한다. x는 테스트 케이스 번호이고 1부터 시작하며, C는 A+B이다.\n",
    "\n",
    "- 예시 입력  \n",
    "5  \n",
    "1 1  \n",
    "2 3  \n",
    "3 4  \n",
    "9 8  \n",
    "5 2  \n",
    "\n",
    "- 예시 출력  \n",
    "Case #1: 1 + 1 = 2  \n",
    "Case #2: 2 + 3 = 5  \n",
    "Case #3: 3 + 4 = 7  \n",
    "Case #4: 9 + 8 = 17  \n",
    "Case #5: 5 + 2 = 7  "
   ]
  },
  {
   "cell_type": "code",
   "execution_count": 4,
   "metadata": {},
   "outputs": [
    {
     "name": "stdout",
     "output_type": "stream",
     "text": [
      "Case #1: 1 + 1 = 2\n",
      "Case #2: 2 + 3 = 5\n",
      "Case #3: 3 + 4 = 7\n",
      "Case #4: 9 + 8 = 17\n",
      "Case #5: 5 + 2 = 7\n"
     ]
    }
   ],
   "source": [
    "r = int(input())\n",
    "for i in range(r):\n",
    "    n1, n2 = map(int, input().split())\n",
    "    print(f'Case #{i+1}: {n1} + {n2} = {n1 + n2}')"
   ]
  },
  {
   "cell_type": "markdown",
   "metadata": {},
   "source": [
    "## 2438번 - 별 찍기 - 1\n",
    "\n",
    "- 문제  \n",
    "첫째 줄에는 별 1개, 둘째 줄에는 별 2개, N번째 줄에는 별 N개를 찍는 문제\n",
    "\n",
    "- 입력  \n",
    "첫째 줄에 N(1 ≤ N ≤ 100)이 주어진다.\n",
    "\n",
    "- 출력  \n",
    "첫째 줄부터 N번째 줄까지 차례대로 별을 출력한다.\n",
    "\n",
    "- 예시 입력  \n",
    "5  \n",
    "\n",
    "- 예시 출력  \n",
    "\\*  \n",
    "\\**  \n",
    "\\***  \n",
    "\\****  \n",
    "\\*****  "
   ]
  },
  {
   "cell_type": "code",
   "execution_count": 10,
   "metadata": {},
   "outputs": [
    {
     "name": "stdout",
     "output_type": "stream",
     "text": [
      "*\n",
      "**\n",
      "***\n",
      "****\n",
      "*****\n"
     ]
    }
   ],
   "source": [
    "r = int(input())\n",
    "for i in range(r):\n",
    "    print('*' * (i+1))"
   ]
  },
  {
   "cell_type": "markdown",
   "metadata": {},
   "source": [
    "## 2439번 - 별 찍기 - 2\n",
    "\n",
    "- 문제  \n",
    "  첫째 줄에는 별 1개, 둘째 줄에는 별 2개, N번째 줄에는 별 N개를 찍는 문제\n",
    "\n",
    "  하지만, 오른쪽을 기준으로 정렬한 별(예제 참고)을 출력하시오.\n",
    "\n",
    "- 입력  \n",
    "  첫째 줄에 N(1 ≤ N ≤ 100)이 주어진다.\n",
    "\n",
    "- 출력  \n",
    "  첫째 줄부터 N번째 줄까지 차례대로 별을 출력한다.\n",
    "\n",
    "- 예시 입력  \n",
    "5  \n",
    "\n",
    "- 예시 출력  \n",
    "  ```\n",
    "      *\n",
    "     **\n",
    "    ***\n",
    "   ****\n",
    "  *****\n",
    "  ```"
   ]
  },
  {
   "cell_type": "code",
   "execution_count": 19,
   "metadata": {},
   "outputs": [
    {
     "name": "stdout",
     "output_type": "stream",
     "text": [
      "    *\n",
      "   **\n",
      "  ***\n",
      " ****\n",
      "*****\n"
     ]
    }
   ],
   "source": [
    "r = int(input())\n",
    "for i in range(r):\n",
    "    s = '*' * (i+1)\n",
    "    print(f\"{s:>{r}}\")"
   ]
  },
  {
   "cell_type": "code",
   "execution_count": 21,
   "metadata": {},
   "outputs": [
    {
     "name": "stdout",
     "output_type": "stream",
     "text": [
      "  *\n",
      " **\n",
      "***\n"
     ]
    }
   ],
   "source": [
    "r = int(input())\n",
    "for i in range(1, r+1):\n",
    "    print(\" \" * (r - i) + \"*\" * i )"
   ]
  },
  {
   "cell_type": "markdown",
   "metadata": {},
   "source": [
    "## 10871번 - X보다 작은 수\n",
    "\n",
    "- 문제  \n",
    "    정수 N개로 이루어진 수열 A와 정수 X가 주어진다. 이때, A에서 X보다 작은 수를 모두 출력하는 프로그램을 작성하시오.\n",
    "\n",
    "- 입력  \n",
    "    첫째 줄에 N과 X가 주어진다. (1 ≤ N, X ≤ 10,000)\n",
    "\n",
    "    둘째 줄에 수열 A를 이루는 정수 N개가 주어진다. 주어지는 정수는 모두 1보다 크거나 같고, 10,000보다 작거나 같은 정수이다.\n",
    "\n",
    "- 출력  \n",
    "    X보다 작은 수를 입력받은 순서대로 공백으로 구분해 출력한다. X보다 작은 수는 적어도 하나 존재한다.\n",
    "\n",
    "- 예시 입력  \n",
    "10 5  \n",
    "1 10 4 9 2 3 8 5 7 6  \n",
    "\n",
    "- 예시 출력  \n",
    "1 4 2 3"
   ]
  },
  {
   "cell_type": "code",
   "execution_count": 23,
   "metadata": {},
   "outputs": [
    {
     "name": "stdout",
     "output_type": "stream",
     "text": [
      "1 4 2 3 "
     ]
    }
   ],
   "source": [
    "N, X = map(int, input().split())\n",
    "numbers = list( map(int, input().split()) )\n",
    "for n in numbers:\n",
    "    if n < X:\n",
    "        print(n, end=' ')"
   ]
  },
  {
   "cell_type": "markdown",
   "metadata": {},
   "source": [
    "## 10952번 - A + B - 5\n",
    "\n",
    "- 문제  \n",
    "    두 정수 A와 B를 입력받은 다음, A+B를 출력하는 프로그램을 작성하시오.\n",
    "\n",
    "- 입력  \n",
    "    입력은 여러 개의 테스트 케이스로 이루어져 있다.\n",
    "\n",
    "    각 테스트 케이스는 한 줄로 이루어져 있으며, 각 줄에 A와 B가 주어진다. (0 < A, B < 10)\n",
    "\n",
    "    입력의 마지막에는 0 두 개가 들어온다.\n",
    "\n",
    "- 출력  \n",
    "    각 테스트 케이스마다 A+B를 출력한다.\n",
    "\n",
    "- 예시 입력  \n",
    "1 1  \n",
    "2 3  \n",
    "3 4  \n",
    "9 8  \n",
    "5 2  \n",
    "0 0  \n",
    "\n",
    "- 예시 출력  \n",
    "2  \n",
    "5  \n",
    "7  \n",
    "17  \n",
    "7  "
   ]
  },
  {
   "cell_type": "code",
   "execution_count": 27,
   "metadata": {},
   "outputs": [
    {
     "name": "stdout",
     "output_type": "stream",
     "text": [
      "2\n",
      "5\n",
      "7\n",
      "17\n",
      "7\n"
     ]
    }
   ],
   "source": [
    "while True:\n",
    "    n1, n2 = map( int, input().split() )\n",
    "    if n1 + n2 != 0:\n",
    "        print(n1 + n2)\n",
    "    else:\n",
    "        break"
   ]
  },
  {
   "cell_type": "markdown",
   "metadata": {},
   "source": [
    "## 10951번 - A + B - 4\n",
    "\n",
    "- 문제  \n",
    "    두 정수 A와 B를 입력받은 다음, A+B를 출력하는 프로그램을 작성하시오.\n",
    "\n",
    "- 입력  \n",
    "    입력은 여러 개의 테스트 케이스로 이루어져 있다.\n",
    "\n",
    "    각 테스트 케이스는 한 줄로 이루어져 있으며, 각 줄에 A와 B가 주어진다. (0 < A, B < 10)\n",
    "\n",
    "- 출력  \n",
    "    각 테스트 케이스마다 A+B를 출력한다.\n",
    "\n",
    "- 예시 입력  \n",
    "1 1  \n",
    "2 3  \n",
    "3 4  \n",
    "9 8  \n",
    "5 2  \n",
    "\n",
    "- 예시 출력  \n",
    "2  \n",
    "5  \n",
    "7  \n",
    "17  \n",
    "7  "
   ]
  },
  {
   "cell_type": "code",
   "execution_count": 29,
   "metadata": {},
   "outputs": [
    {
     "name": "stdout",
     "output_type": "stream",
     "text": [
      "2\n",
      "5\n",
      "7\n",
      "17\n",
      "7\n"
     ]
    }
   ],
   "source": [
    "while True:\n",
    "    try:\n",
    "        n1, n2 = map( int, input().split() )\n",
    "        print(n1 + n2)\n",
    "    except:\n",
    "        break"
   ]
  },
  {
   "cell_type": "markdown",
   "metadata": {},
   "source": [
    "## 1110번 - 더하기 사이클\n",
    "\n",
    "- 문제  \n",
    "    0보다 크거나 같고, 99보다 작거나 같은 정수가 주어질 때 다음과 같은 연산을 할 수 있다. 먼저 주어진 수가 10보다 작다면 앞에 0을 붙여 두 자리 수로 만들고, 각 자리의 숫자를 더한다. 그 다음, 주어진 수의 가장 오른쪽 자리 수와 앞에서 구한 합의 가장 오른쪽 자리 수를 이어 붙이면 새로운 수를 만들 수 있다. 다음 예를 보자.\n",
    "\n",
    "    26부터 시작한다. 2+6 = 8이다. 새로운 수는 68이다. 6+8 = 14이다. 새로운 수는 84이다. 8+4 = 12이다. 새로운 수는 42이다. 4+2 = 6이다. 새로운 수는 26이다.\n",
    "\n",
    "    위의 예는 4번만에 원래 수로 돌아올 수 있다. 따라서 26의 사이클의 길이는 4이다.\n",
    "\n",
    "    N이 주어졌을 때, N의 사이클의 길이를 구하는 프로그램을 작성하시오.\n",
    "\n",
    "- 입력  \n",
    "    첫째 줄에 N이 주어진다. N은 0보다 크거나 같고, 99보다 작거나 같은 정수이다.\n",
    "\n",
    "- 출력  \n",
    "    첫째 줄에 N의 사이클 길이를 출력한다.\n",
    "\n",
    "    예시 입력|예시 출력\n",
    "    --|--\n",
    "    26|4\n",
    "    55|3\n",
    "    1|60\n",
    "    0|1\n",
    "    71|12"
   ]
  },
  {
   "cell_type": "code",
   "execution_count": 35,
   "metadata": {},
   "outputs": [
    {
     "name": "stdout",
     "output_type": "stream",
     "text": [
      "12\n"
     ]
    }
   ],
   "source": [
    "num = int(input())\n",
    "a = num // 10\n",
    "b = num % 10\n",
    "i = 0\n",
    "while True:\n",
    "    temp =  b * 10 + (a + b) % 10\n",
    "    i += 1\n",
    "    if num == temp:\n",
    "        break\n",
    "    else:\n",
    "        a = temp // 10\n",
    "        b = temp % 10\n",
    "print(i)"
   ]
  },
  {
   "cell_type": "markdown",
   "metadata": {},
   "source": [
    "# 코드 마지막"
   ]
  }
 ],
 "metadata": {
  "interpreter": {
   "hash": "569b4317022eb29baeafb3d0f1f739310808ea28ce83ca127a35db1c01070585"
  },
  "kernelspec": {
   "display_name": "Python 3.9.12 ('base')",
   "language": "python",
   "name": "python3"
  },
  "language_info": {
   "codemirror_mode": {
    "name": "ipython",
    "version": 3
   },
   "file_extension": ".py",
   "mimetype": "text/x-python",
   "name": "python",
   "nbconvert_exporter": "python",
   "pygments_lexer": "ipython3",
   "version": "3.9.12"
  },
  "orig_nbformat": 4
 },
 "nbformat": 4,
 "nbformat_minor": 2
}
