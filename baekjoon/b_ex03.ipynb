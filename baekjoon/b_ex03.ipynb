{
 "cells": [
  {
   "cell_type": "markdown",
   "metadata": {},
   "source": [
    "# 반복문"
   ]
  },
  {
   "cell_type": "markdown",
   "metadata": {},
   "source": [
    "## 2739번 - 구구단\n",
    "\n",
    "- 문제\n",
    "N을 입력받은 뒤, 구구단 N단을 출력하는 프로그램을 작성하시오. 출력 형식에 맞춰서 출력하면 된다.\n",
    "\n",
    "- 입력\n",
    "첫째 줄에 N이 주어진다. N은 1보다 크거나 같고, 9보다 작거나 같다.\n",
    "\n",
    "- 출력\n",
    "출력형식과 같게 N\\*1부터 N*9까지 출력한다.\n",
    "\n",
    "- 예시 입력  \n",
    "2\n",
    "- 예시 출력  \n",
    "2 * 1 = 2  \n",
    "2 * 2 = 4  \n",
    "2 * 3 = 6  \n",
    "2 * 4 = 8  \n",
    "2 * 5 = 10  \n",
    "2 * 6 = 12  \n",
    "2 * 7 = 14  \n",
    "2 * 8 = 16  \n",
    "2 * 9 = 18"
   ]
  },
  {
   "cell_type": "code",
   "execution_count": 2,
   "metadata": {},
   "outputs": [
    {
     "name": "stdout",
     "output_type": "stream",
     "text": [
      "2 * 1 = 2\n",
      "2 * 2 = 4\n",
      "2 * 3 = 6\n",
      "2 * 4 = 8\n",
      "2 * 5 = 10\n",
      "2 * 6 = 12\n",
      "2 * 7 = 14\n",
      "2 * 8 = 16\n",
      "2 * 9 = 18\n"
     ]
    }
   ],
   "source": [
    "num = int( input() )\n",
    "for i in range(1, 10):\n",
    "    print(f'{num} * {i} = {num*i}')"
   ]
  },
  {
   "cell_type": "markdown",
   "metadata": {},
   "source": [
    "## 10950번 - A + B - 3\n",
    "\n",
    "- 문제\n",
    "두 정수 A와 B를 입력받은 다음, A+B를 출력하는 프로그램을 작성하시오.\n",
    "\n",
    "- 입력\n",
    "첫째 줄에 테스트 케이스의 개수 T가 주어진다.\n",
    "\n",
    "각 테스트 케이스는 한 줄로 이루어져 있으며, 각 줄에 A와 B가 주어진다. (0 < A, B < 10)\n",
    "\n",
    "- 출력\n",
    "각 테스트 케이스마다 A+B를 출력한다.\n",
    "\n",
    "- 예시 입력  \n",
    "5  \n",
    "1 1  \n",
    "2 3  \n",
    "3 4  \n",
    "9 8  \n",
    "5 2  \n",
    "\n",
    "- 예시 출력  \n",
    "2  \n",
    "5  \n",
    "7  \n",
    "17  \n",
    "7  "
   ]
  },
  {
   "cell_type": "code",
   "execution_count": 8,
   "metadata": {},
   "outputs": [
    {
     "name": "stdout",
     "output_type": "stream",
     "text": [
      "2\n",
      "5\n",
      "7\n",
      "17\n",
      "7\n"
     ]
    }
   ],
   "source": [
    "num = int( input() )\n",
    "for i in range(num):\n",
    "    num1, num2 = map( int, input().split() )\n",
    "    print(num1 + num2)"
   ]
  },
  {
   "cell_type": "markdown",
   "metadata": {},
   "source": [
    "## 8393번 - 합"
   ]
  },
  {
   "cell_type": "markdown",
   "metadata": {},
   "source": [
    "## 25304번 - 영수증"
   ]
  },
  {
   "cell_type": "markdown",
   "metadata": {},
   "source": [
    "## 15552번 - 빠른 A + B"
   ]
  },
  {
   "cell_type": "markdown",
   "metadata": {},
   "source": [
    "## 11021번 - A + B - 7"
   ]
  },
  {
   "cell_type": "markdown",
   "metadata": {},
   "source": [
    "## 11022번 - A + B - 8"
   ]
  },
  {
   "cell_type": "markdown",
   "metadata": {},
   "source": [
    "## 2438번 - 별 찍기 - 1"
   ]
  },
  {
   "cell_type": "markdown",
   "metadata": {},
   "source": [
    "## 2439번 - 별 찍기 - 2"
   ]
  },
  {
   "cell_type": "markdown",
   "metadata": {},
   "source": [
    "## 10871번 - X보다 작은 수"
   ]
  },
  {
   "cell_type": "markdown",
   "metadata": {},
   "source": [
    "## 10952번 - A + B - 5"
   ]
  },
  {
   "cell_type": "markdown",
   "metadata": {},
   "source": [
    "## 10951번 - A + B - 4"
   ]
  },
  {
   "cell_type": "markdown",
   "metadata": {},
   "source": [
    "## 1110번 - 더하기 사이클"
   ]
  },
  {
   "cell_type": "code",
   "execution_count": null,
   "metadata": {},
   "outputs": [],
   "source": []
  }
 ],
 "metadata": {
  "interpreter": {
   "hash": "569b4317022eb29baeafb3d0f1f739310808ea28ce83ca127a35db1c01070585"
  },
  "kernelspec": {
   "display_name": "Python 3.9.12 ('base')",
   "language": "python",
   "name": "python3"
  },
  "language_info": {
   "codemirror_mode": {
    "name": "ipython",
    "version": 3
   },
   "file_extension": ".py",
   "mimetype": "text/x-python",
   "name": "python",
   "nbconvert_exporter": "python",
   "pygments_lexer": "ipython3",
   "version": "3.9.12"
  },
  "orig_nbformat": 4
 },
 "nbformat": 4,
 "nbformat_minor": 2
}
