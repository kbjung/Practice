{
 "cells": [
  {
   "cell_type": "code",
   "execution_count": 1,
   "metadata": {},
   "outputs": [],
   "source": [
    "from bs4 import BeautifulSoup"
   ]
  },
  {
   "cell_type": "code",
   "execution_count": 2,
   "metadata": {},
   "outputs": [],
   "source": [
    "page = '''\n",
    "<html>\n",
    "<title>나의 홈페이지</title>\n",
    "<body>\n",
    "<div>\n",
    "    <a href=\"https://www.naver.com/\">naver</a>\n",
    "    <a href=\"https://www.google.com\">google</a>\n",
    "    <img height=\"300\" src=\"dog_01.jpg\" width=\"500\"/>\n",
    "    <p> 내가 가장 좋아하는 동물은 강아지입니다.</p>\n",
    "    <p> 나는 그리고 네이버 홈페이지에 자주 갑니다.</p>\n",
    "    <p class=\"p3\"> 강아지 사진과 네이버 링크 </p>\n",
    "    <p id=\"p4\"> 간단한 나의 홈페이지를 만들다.</p>\n",
    "<p class=\"p3\"> 강아지 사진과 네이버 링크222 </p>\n",
    "</div>\n",
    "</body>\n",
    "</html>\n",
    "'''"
   ]
  },
  {
   "cell_type": "code",
   "execution_count": 3,
   "metadata": {},
   "outputs": [
    {
     "name": "stdout",
     "output_type": "stream",
     "text": [
      "<title>나의 홈페이지</title>\n"
     ]
    }
   ],
   "source": [
    "# html parse\n",
    "# BeautifulSoup(페이지 정보, 'parse 종류')\n",
    "# parser 종류 : lxml, html.parser, html5lib, xml \n",
    "soup = BeautifulSoup(page, 'lxml')\n",
    "print(soup.title)"
   ]
  },
  {
   "cell_type": "code",
   "execution_count": 4,
   "metadata": {},
   "outputs": [
    {
     "name": "stdout",
     "output_type": "stream",
     "text": [
      "<a href=\"https://www.naver.com/\">naver</a>\n",
      "naver\n",
      " 내가 가장 좋아하는 동물은 강아지입니다.\n"
     ]
    }
   ],
   "source": [
    "# 태그명 soup.태그명 => 해당 요소의 정보를 가져온다.(맨 윗줄 하나)\n",
    "# print(soup.title)\n",
    "# print(soup.body)\n",
    "# print(soup.div)\n",
    "# print(soup.img)\n",
    "print(soup.a)\n",
    "print(soup.a.text)\n",
    "print(soup.div.p.text)"
   ]
  },
  {
   "cell_type": "code",
   "execution_count": 5,
   "metadata": {},
   "outputs": [
    {
     "name": "stdout",
     "output_type": "stream",
     "text": [
      "<p id=\"p4\"> 간단한 나의 홈페이지를 만들다.</p>\n",
      "[<p> 내가 가장 좋아하는 동물은 강아지입니다.</p>, <p> 나는 그리고 네이버 홈페이지에 자주 갑니다.</p>, <p class=\"p3\"> 강아지 사진과 네이버 링크 </p>, <p id=\"p4\"> 간단한 나의 홈페이지를 만들다.</p>, <p class=\"p3\"> 강아지 사진과 네이버 링크222 </p>]\n"
     ]
    }
   ],
   "source": [
    "# id, class 를 활용해서 정보 가져오기 - 하나의 요소(find)\n",
    "# id, class 를 활용해서 정보 가져오기 - 모든 요소(find_all)\n",
    "print(soup.find(id=\"p4\"))\n",
    "print(soup.find_all(\"p\"))"
   ]
  },
  {
   "cell_type": "code",
   "execution_count": 6,
   "metadata": {},
   "outputs": [
    {
     "name": "stdout",
     "output_type": "stream",
     "text": [
      "naver\n",
      "[<a href=\"https://www.naver.com/\">naver</a>, <a href=\"https://www.google.com\">google</a>]\n"
     ]
    }
   ],
   "source": [
    "# find, find_all\n",
    "# 2-2 실습하기 - naver와 모든 a태그 요소 가져오기\n",
    "# naver 정보\n",
    "# 모든 a태그 정보 가져오기\n",
    "print(soup.find(\"a\").text)\n",
    "print(soup.find_all(\"a\")) # 타입 : BS의 리스트 형태"
   ]
  },
  {
   "cell_type": "code",
   "execution_count": 7,
   "metadata": {},
   "outputs": [
    {
     "name": "stdout",
     "output_type": "stream",
     "text": [
      "<p id=\"p4\"> 간단한 나의 홈페이지를 만들다.</p>\n"
     ]
    }
   ],
   "source": [
    "# 2-2 (추가) div 요소 정보를 가지고 온 후, p(id=\"p4\")요소 가져오기 - 댓글달기\n",
    "# my sol1.\n",
    "div = soup.div\n",
    "print(div.find(\"p\", id=\"p4\"))"
   ]
  },
  {
   "cell_type": "code",
   "execution_count": 8,
   "metadata": {},
   "outputs": [
    {
     "name": "stdout",
     "output_type": "stream",
     "text": [
      "<p id=\"p4\"> 간단한 나의 홈페이지를 만들다.</p>\n"
     ]
    }
   ],
   "source": [
    "# my sol2.\n",
    "print(soup.div.find(\"p\", id=\"p4\"))"
   ]
  },
  {
   "cell_type": "code",
   "execution_count": 9,
   "metadata": {},
   "outputs": [],
   "source": [
    "# 2-3 실습해보기\n",
    "# 한줄 코드\n",
    "# class 정보를 이용해서 p3인 것을 가져와서 2번째 요소의 text를 가져오기."
   ]
  },
  {
   "cell_type": "code",
   "execution_count": 10,
   "metadata": {},
   "outputs": [
    {
     "name": "stdout",
     "output_type": "stream",
     "text": [
      " 강아지 사진과 네이버 링크222 \n"
     ]
    }
   ],
   "source": [
    "# my sol1.\n",
    "p = soup.find_all(class_=\"p3\")\n",
    "# print(p)\n",
    "print(p[1].text)"
   ]
  },
  {
   "cell_type": "code",
   "execution_count": 11,
   "metadata": {},
   "outputs": [
    {
     "name": "stdout",
     "output_type": "stream",
     "text": [
      " 강아지 사진과 네이버 링크222 \n"
     ]
    }
   ],
   "source": [
    "# sol.\n",
    "print(soup.find_all(class_=\"p3\")[1].text)"
   ]
  },
  {
   "cell_type": "code",
   "execution_count": 12,
   "metadata": {},
   "outputs": [
    {
     "name": "stdout",
     "output_type": "stream",
     "text": [
      "https://www.naver.com/\n"
     ]
    }
   ],
   "source": [
    "# 2-3 (추가) a태그의 link 정보 가져오기\n",
    "# my sol.\n",
    "links = soup.find_all(\"a\")\n",
    "print(links[0][\"href\"])"
   ]
  },
  {
   "cell_type": "code",
   "execution_count": 13,
   "metadata": {},
   "outputs": [
    {
     "name": "stdout",
     "output_type": "stream",
     "text": [
      "google\n"
     ]
    }
   ],
   "source": [
    "# sol.\n",
    "\n",
    "# 2-4 실습해 보기 google 텍스트 정보 가져오기\n",
    "# my sol.\n",
    "print(soup.find_all(\"a\")[1].text)"
   ]
  },
  {
   "cell_type": "code",
   "execution_count": 14,
   "metadata": {},
   "outputs": [
    {
     "name": "stdout",
     "output_type": "stream",
     "text": [
      "[<p> 내가 가장 좋아하는 동물은 강아지입니다.</p>, <p> 나는 그리고 네이버 홈페이지에 자주 갑니다.</p>, <p class=\"p3\"> 강아지 사진과 네이버 링크 </p>, <p id=\"p4\"> 간단한 나의 홈페이지를 만들다.</p>, <p class=\"p3\"> 강아지 사진과 네이버 링크222 </p>]\n"
     ]
    }
   ],
   "source": [
    "# 2-5 (추가) p태그 전체 가져오기\n",
    "print(soup.find_all(\"p\"))"
   ]
  },
  {
   "cell_type": "code",
   "execution_count": null,
   "metadata": {},
   "outputs": [],
   "source": []
  }
 ],
 "metadata": {
  "interpreter": {
   "hash": "569b4317022eb29baeafb3d0f1f739310808ea28ce83ca127a35db1c01070585"
  },
  "kernelspec": {
   "display_name": "Python 3.9.12 ('base')",
   "language": "python",
   "name": "python3"
  },
  "language_info": {
   "codemirror_mode": {
    "name": "ipython",
    "version": 3
   },
   "file_extension": ".py",
   "mimetype": "text/x-python",
   "name": "python",
   "nbconvert_exporter": "python",
   "pygments_lexer": "ipython3",
   "version": "3.9.12"
  },
  "orig_nbformat": 4
 },
 "nbformat": 4,
 "nbformat_minor": 2
}
