{
 "cells": [
  {
   "cell_type": "code",
   "execution_count": 1,
   "metadata": {},
   "outputs": [],
   "source": [
    "from bs4 import BeautifulSoup\n",
    "from urllib.request import urlopen"
   ]
  },
  {
   "cell_type": "code",
   "execution_count": 2,
   "metadata": {},
   "outputs": [],
   "source": [
    "page = '''\n",
    "<html>\n",
    "<title>나의 홈페이지</title>\n",
    "<body>\n",
    "<div>\n",
    "<a href=\"https://www.naver.com/\">naver</a>\n",
    "<a href=\"https://www.google.com\">google</a>\n",
    "<img height=\"300\" src=\"dog_01.jpg\" width=\"500\"/>\n",
    "<p> 내가 가장 좋아하는 동물은 강아지입니다.</p>\n",
    "<p> 나는 그리고 네이버 홈페이지에 자주 갑니다.</p>\n",
    "<p class=\"p3\"> 강아지 사진과 네이버 링크 </p>\n",
    "<p id=\"p4\"> 간단한 나의 홈페이지를 만들다.</p>\n",
    "<p class=\"p3\"> 강아지 사진과 네이버 링크222 </p>\n",
    "</div>\n",
    "</body>\n",
    "</html>\n",
    "'''"
   ]
  },
  {
   "cell_type": "code",
   "execution_count": 3,
   "metadata": {},
   "outputs": [],
   "source": [
    "soup = BeautifulSoup(page, 'lxml') # html.parser, html5lib, lxml(anaconda)"
   ]
  },
  {
   "cell_type": "code",
   "execution_count": 4,
   "metadata": {},
   "outputs": [
    {
     "name": "stdout",
     "output_type": "stream",
     "text": [
      "<title>나의 홈페이지</title>\n"
     ]
    }
   ],
   "source": [
    "# title 요소 정보 가져오기\n",
    "print(soup.title)"
   ]
  },
  {
   "cell_type": "code",
   "execution_count": 5,
   "metadata": {},
   "outputs": [
    {
     "name": "stdout",
     "output_type": "stream",
     "text": [
      "<a href=\"https://www.naver.com/\">naver</a>\n"
     ]
    }
   ],
   "source": [
    "# a 태그 요소 가져오기(첫 번째 줄만)\n",
    "print(soup.a)"
   ]
  },
  {
   "cell_type": "code",
   "execution_count": 6,
   "metadata": {},
   "outputs": [
    {
     "name": "stdout",
     "output_type": "stream",
     "text": [
      "[<a href=\"https://www.naver.com/\">naver</a>, <a href=\"https://www.google.com\">google</a>]\n"
     ]
    }
   ],
   "source": [
    "# a 태그 요소 가져오기\n",
    "print(soup.find_all(\"a\"))"
   ]
  },
  {
   "cell_type": "code",
   "execution_count": 9,
   "metadata": {},
   "outputs": [
    {
     "data": {
      "text/plain": [
       "'https://www.naver.com/'"
      ]
     },
     "execution_count": 9,
     "metadata": {},
     "output_type": "execute_result"
    }
   ],
   "source": [
    "# a 태그의 링크 주소 가져오기(첫 번째 줄만)\n",
    "soup.a['href']"
   ]
  },
  {
   "cell_type": "code",
   "execution_count": 7,
   "metadata": {},
   "outputs": [
    {
     "name": "stdout",
     "output_type": "stream",
     "text": [
      "[<p> 내가 가장 좋아하는 동물은 강아지입니다.</p>, <p> 나는 그리고 네이버 홈페이지에 자주 갑니다.</p>, <p class=\"p3\"> 강아지 사진과 네이버 링크 </p>, <p id=\"p4\"> 간단한 나의 홈페이지를 만들다.</p>, <p class=\"p3\"> 강아지 사진과 네이버 링크222 </p>]\n"
     ]
    }
   ],
   "source": [
    "# 7-2 (추가) p태그 전체 가져오기\n",
    "print(soup.find_all(\"p\"))"
   ]
  },
  {
   "cell_type": "code",
   "execution_count": 8,
   "metadata": {},
   "outputs": [
    {
     "name": "stdout",
     "output_type": "stream",
     "text": [
      "<p id=\"p4\"> 간단한 나의 홈페이지를 만들다.</p>\n"
     ]
    }
   ],
   "source": [
    "# 7-2 (추가) p태그의 id가 p4인 요소 가져오기\n",
    "print(soup.find(id=\"p4\"))"
   ]
  }
 ],
 "metadata": {
  "interpreter": {
   "hash": "569b4317022eb29baeafb3d0f1f739310808ea28ce83ca127a35db1c01070585"
  },
  "kernelspec": {
   "display_name": "Python 3.9.12 ('base')",
   "language": "python",
   "name": "python3"
  },
  "language_info": {
   "codemirror_mode": {
    "name": "ipython",
    "version": 3
   },
   "file_extension": ".py",
   "mimetype": "text/x-python",
   "name": "python",
   "nbconvert_exporter": "python",
   "pygments_lexer": "ipython3",
   "version": "3.9.12"
  },
  "orig_nbformat": 4
 },
 "nbformat": 4,
 "nbformat_minor": 2
}
