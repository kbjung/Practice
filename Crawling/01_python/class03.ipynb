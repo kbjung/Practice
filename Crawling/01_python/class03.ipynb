{
 "cells": [
  {
   "cell_type": "code",
   "execution_count": null,
   "metadata": {
    "id": "bMd-c2__oHER"
   },
   "outputs": [],
   "source": [
    "### CTRL + MB : 현재 셀 아래 생성\n",
    "### CTRL + MA : 현재 셀 위에 생성\n",
    "### CTRL + ENTER : 현재 셀 실행\n",
    "### SHIFT + ENTER : 현재 셀 실행하고 다음 셀로 없으면 셀 추가 \n",
    "### CTRL + MD : 셀 삭제 "
   ]
  },
  {
   "cell_type": "code",
   "execution_count": 3,
   "metadata": {
    "colab": {
     "base_uri": "https://localhost:8080/"
    },
    "id": "1ol7Ox3eXeC1",
    "outputId": "8fa5eed8-15cd-4e72-932a-8936ff765860"
   },
   "outputs": [
    {
     "name": "stdout",
     "output_type": "stream",
     "text": [
      "과자\n",
      "찌개\n"
     ]
    }
   ],
   "source": [
    "myfood = ['과자', '찌개', '제육볶음']\n",
    "for x in range(0,2):  \n",
    "    print(myfood[x])"
   ]
  },
  {
   "cell_type": "code",
   "execution_count": 2,
   "metadata": {
    "colab": {
     "base_uri": "https://localhost:8080/",
     "height": 53
    },
    "id": "fN5nc3MKZS5i",
    "outputId": "0180271c-c68c-480f-e3c5-504421b40a52"
   },
   "outputs": [
    {
     "name": "stdout",
     "output_type": "stream",
     "text": [
      "test\n"
     ]
    },
    {
     "data": {
      "application/vnd.google.colaboratory.intrinsic+json": {
       "type": "string"
      },
      "text/plain": [
       "'test'"
      ]
     },
     "execution_count": 2,
     "metadata": {},
     "output_type": "execute_result"
    }
   ],
   "source": [
    "### print()\n",
    "input()"
   ]
  },
  {
   "cell_type": "code",
   "execution_count": 4,
   "metadata": {
    "id": "XC0dK54Fn-CQ"
   },
   "outputs": [],
   "source": [
    "## 변수\n",
    "## 자료형 변환 int(), str(), float(), list(), set(), dict()\n",
    "## 연산자 : +, -, *, /, //, %, **\n",
    "## 비교연산자 ==, !=, <=, >=, =<(x)\n",
    "## and, or, not\n",
    "## in\n",
    "## if\n"
   ]
  },
  {
   "cell_type": "markdown",
   "metadata": {
    "id": "nU-PM6kmpO8Q"
   },
   "source": [
    "### 들여쓰기\n",
    "```\n",
    "if (조건식):\n",
    "____실행문1\n",
    "____실행문2\n",
    "\n",
    "if (조건식):\n",
    "____실행문1\n",
    "____실행문2\n",
    "else:\n",
    "____실행문1\n",
    "____실행문2\n",
    "\n",
    "if (조건식):\n",
    "____실행문1\n",
    "____실행문2\n",
    "elif (조건식):\n",
    "____실행문1\n",
    "____실행문2\n",
    "else:\n",
    "____실행문1\n",
    "____실행문2\n",
    "```"
   ]
  },
  {
   "cell_type": "code",
   "execution_count": 6,
   "metadata": {
    "colab": {
     "base_uri": "https://localhost:8080/"
    },
    "id": "UiRZdTL_qD8d",
    "outputId": "fbdacf8c-1f32-4cd2-96c9-3995f22e81c5"
   },
   "outputs": [
    {
     "name": "stdout",
     "output_type": "stream",
     "text": [
      "[0, 2, 4, 6, 8]\n"
     ]
    }
   ],
   "source": [
    "a = list(range(0,10,2))\n",
    "print(a)"
   ]
  },
  {
   "cell_type": "markdown",
   "metadata": {
    "id": "QZ_AghQpp2Ho"
   },
   "source": [
    "```python\n",
    "for x in range(0,10,1):\n",
    "  print(x)\n",
    "\n",
    "a = ['a', 'b', 'c']\n",
    "for x in a:\n",
    "  print(x)\n",
    "\n",
    "a = ['a', 'b', 'c']\n",
    "for i, s in enumerate(a):\n",
    "  print(i, s)\n",
    "```"
   ]
  },
  {
   "cell_type": "code",
   "execution_count": 8,
   "metadata": {
    "colab": {
     "base_uri": "https://localhost:8080/"
    },
    "id": "qu4y7DCdqpAg",
    "outputId": "1373a70b-47be-42ba-a490-813f0a8031e3"
   },
   "outputs": [
    {
     "name": "stdout",
     "output_type": "stream",
     "text": [
      "0\n",
      "1\n",
      "2\n",
      "3\n",
      "4\n",
      "5\n",
      "6\n",
      "7\n",
      "8\n",
      "9\n"
     ]
    }
   ],
   "source": [
    "for x in range(0,10,1):\n",
    "  print(x)"
   ]
  },
  {
   "cell_type": "code",
   "execution_count": 9,
   "metadata": {
    "colab": {
     "base_uri": "https://localhost:8080/"
    },
    "id": "Vv_oAGLNqp6f",
    "outputId": "2a561a48-3111-48f4-9a16-b14b7d00514a"
   },
   "outputs": [
    {
     "name": "stdout",
     "output_type": "stream",
     "text": [
      "a\n",
      "b\n",
      "c\n"
     ]
    }
   ],
   "source": [
    "a = ['a', 'b', 'c']\n",
    "for x in a:\n",
    "  print(x)"
   ]
  },
  {
   "cell_type": "code",
   "execution_count": 1,
   "metadata": {},
   "outputs": [
    {
     "name": "stdout",
     "output_type": "stream",
     "text": [
      "0 a\n",
      "1 b\n",
      "2 c\n"
     ]
    }
   ],
   "source": [
    "a = ['a', 'b', 'c']\n",
    "for i, s in enumerate(a): # enumerate : 인덱스(i)와 값(s)을 순서대로 출력하는 함수\n",
    "    print(i, s)"
   ]
  },
  {
   "cell_type": "markdown",
   "metadata": {
    "id": "6hV9DzW9sC1o"
   },
   "source": [
    "* 실습. 내가 좋아하는 음식 3가지를 리스트로 만들고 이를 출력해보기"
   ]
  },
  {
   "cell_type": "code",
   "execution_count": 10,
   "metadata": {
    "colab": {
     "base_uri": "https://localhost:8080/"
    },
    "id": "IBP9Bbq8tXS-",
    "outputId": "7f90ecbe-c1b1-4cce-cbbb-829d31ab1c60"
   },
   "outputs": [
    {
     "data": {
      "text/plain": [
       "[175, 180, 176, 180, 155]"
      ]
     },
     "execution_count": 10,
     "metadata": {},
     "output_type": "execute_result"
    }
   ],
   "source": [
    "h1 = 175\n",
    "h2 = 180\n",
    "h3 = 176\n",
    "h4 = 180\n",
    "h5 = 155\n",
    "\n",
    "height_2_1 = [175, 180, 176, 180, 155]\n",
    "height_2_1"
   ]
  },
  {
   "cell_type": "code",
   "execution_count": 11,
   "metadata": {
    "colab": {
     "base_uri": "https://localhost:8080/"
    },
    "id": "G3VU_5QYseMk",
    "outputId": "d80ccad6-e4d9-4c6c-9cf7-2a76059989e1"
   },
   "outputs": [
    {
     "name": "stdout",
     "output_type": "stream",
     "text": [
      "a\n",
      "b\n",
      "c\n"
     ]
    }
   ],
   "source": [
    "myfood = ['a', 'b', 'c']\n",
    "\n",
    "for x in myfood:\n",
    "  print(x)\n"
   ]
  },
  {
   "cell_type": "markdown",
   "metadata": {
    "id": "VHBUY2JJt6XJ"
   },
   "source": [
    "```\n",
    "def 함수명():\n",
    "___실행문\n",
    "\n",
    "class 클래스명:\n",
    "___\n",
    "```"
   ]
  },
  {
   "cell_type": "code",
   "execution_count": 16,
   "metadata": {
    "colab": {
     "base_uri": "https://localhost:8080/"
    },
    "id": "ruyiLuc2u-Wk",
    "outputId": "6177a075-eda8-41dd-e1ef-8c76250b97ac"
   },
   "outputs": [
    {
     "name": "stdout",
     "output_type": "stream",
     "text": [
      "빙고\n"
     ]
    }
   ],
   "source": [
    "# 10월, 18살 이상\n",
    "age = 19\n",
    "birth_month = 10\n",
    "\n",
    "if age>=18:\n",
    "  if birth_month == 10:\n",
    "    print(\"빙고\")"
   ]
  },
  {
   "cell_type": "code",
   "execution_count": 18,
   "metadata": {
    "colab": {
     "base_uri": "https://localhost:8080/"
    },
    "id": "Uwvne0cBvoR7",
    "outputId": "165f3d40-8f9b-4873-d464-429a9330e2c7"
   },
   "outputs": [
    {
     "name": "stdout",
     "output_type": "stream",
     "text": [
      "0\n",
      "1\n",
      "2\n"
     ]
    }
   ],
   "source": [
    "menu = [\"초콜릿\",\"햄버거\",\"피자\"]\n",
    "for i, x in enumerate(menu):\n",
    "  print(i)"
   ]
  },
  {
   "cell_type": "code",
   "execution_count": 23,
   "metadata": {
    "colab": {
     "base_uri": "https://localhost:8080/"
    },
    "id": "Wld9tFd5wgTa",
    "outputId": "f14525b6-9a31-486b-b767-5bec691f8b8d"
   },
   "outputs": [
    {
     "name": "stdout",
     "output_type": "stream",
     "text": [
      "(0, '초콜릿')\n",
      "(1, '햄버거')\n",
      "(2, '피자')\n"
     ]
    }
   ],
   "source": [
    "menu = [\"초콜릿\",\"햄버거\",\"피자\"]\n",
    "for x in enumerate(menu):\n",
    "  print(x)"
   ]
  },
  {
   "cell_type": "code",
   "execution_count": 24,
   "metadata": {
    "colab": {
     "base_uri": "https://localhost:8080/"
    },
    "id": "z0lHI86Mw2wB",
    "outputId": "9bbb675a-1f30-405b-8a2f-46b0be9584d5"
   },
   "outputs": [
    {
     "name": "stdout",
     "output_type": "stream",
     "text": [
      "(0, '초콜릿')\n",
      "<class 'tuple'>\n",
      "(1, '햄버거')\n",
      "<class 'tuple'>\n",
      "(2, '피자')\n",
      "<class 'tuple'>\n"
     ]
    }
   ],
   "source": [
    "for i in enumerate(menu):\n",
    "  print(i)\n",
    "  print(type(i))"
   ]
  },
  {
   "cell_type": "code",
   "execution_count": 27,
   "metadata": {
    "colab": {
     "base_uri": "https://localhost:8080/"
    },
    "id": "SCzhH1NlxKRe",
    "outputId": "413b34b1-145b-4a4e-948b-1565be793f9f"
   },
   "outputs": [
    {
     "name": "stdout",
     "output_type": "stream",
     "text": [
      "합은 5 입니다.\n",
      "5 와 2의 합은 7 입니다.\n",
      "5 와 2의 합은 7입니다.\n",
      "5 와 2의 나눈 값은 2.50입니다.\n",
      "5 와 2의 나눈 값은 2.5입니다.\n"
     ]
    }
   ],
   "source": [
    "### if \n",
    "### for\n",
    "a = 5\n",
    "b = 2\n",
    "plus = a + b\n",
    "mul = a * b\n",
    "div = a / b # 결과값 형변환 5/2 = 2.5\n",
    "remainder = a % b\n",
    "power = a ** b\n",
    "\n",
    "print(\"합은 %d 입니다.\" % (5.0))\n",
    "print(\"%d 와 %d의 합은 %d 입니다.\" % (a, b, plus))\n",
    "print(\"{} 와 {}의 합은 {}입니다.\".format(a, b, plus))\n",
    "print(\"{} 와 {}의 나눈 값은 {:.2f}입니다.\".format(a, b, div))\n",
    "print(f\"{a} 와 {b}의 나눈 값은 {div}입니다.\")"
   ]
  },
  {
   "cell_type": "code",
   "execution_count": 28,
   "metadata": {
    "id": "6sNHJnhC0VyC"
   },
   "outputs": [],
   "source": [
    "### 함수\n",
    "def print1():\n",
    "  print(\"====\")"
   ]
  },
  {
   "cell_type": "code",
   "execution_count": 29,
   "metadata": {
    "colab": {
     "base_uri": "https://localhost:8080/"
    },
    "id": "xs3Bh-Ch1k0I",
    "outputId": "b3c57599-4440-462e-8b3b-7b81c419d7a5"
   },
   "outputs": [
    {
     "name": "stdout",
     "output_type": "stream",
     "text": [
      "주문을 받고\n",
      "원두를 넣는다\n",
      "기계를 돌려서 원액을 뽑고\n",
      "원액 및 재료를 넣어 커피를 만든다.\n"
     ]
    }
   ],
   "source": [
    "print(\"주문을 받고\")\n",
    "print(\"원두를 넣는다\")\n",
    "print(\"기계를 돌려서 원액을 뽑고\")\n",
    "print(\"원액 및 재료를 넣어 커피를 만든다.\")"
   ]
  },
  {
   "cell_type": "code",
   "execution_count": 30,
   "metadata": {
    "colab": {
     "base_uri": "https://localhost:8080/"
    },
    "id": "e_lLuv-h2Lbk",
    "outputId": "e4aa09d5-0d0a-4848-f155-bc13a3f8e738"
   },
   "outputs": [
    {
     "name": "stdout",
     "output_type": "stream",
     "text": [
      "주문을 받고\n",
      "원두를 넣는다\n",
      "기계를 돌려서 원액을 뽑고\n",
      "원액 및 재료를 넣어 커피를 만든다.\n",
      "주문을 받고\n",
      "원두를 넣는다\n",
      "기계를 돌려서 원액을 뽑고\n",
      "원액 및 재료를 넣어 커피를 만든다.\n",
      "주문을 받고\n",
      "원두를 넣는다\n",
      "기계를 돌려서 원액을 뽑고\n",
      "원액 및 재료를 넣어 커피를 만든다.\n",
      "주문을 받고\n",
      "원두를 넣는다\n",
      "기계를 돌려서 원액을 뽑고\n",
      "원액 및 재료를 넣어 커피를 만든다.\n",
      "주문을 받고\n",
      "원두를 넣는다\n",
      "기계를 돌려서 원액을 뽑고\n",
      "원액 및 재료를 넣어 커피를 만든다.\n"
     ]
    }
   ],
   "source": [
    "print(\"주문을 받고\")\n",
    "print(\"원두를 넣는다\")\n",
    "print(\"기계를 돌려서 원액을 뽑고\")\n",
    "print(\"원액 및 재료를 넣어 커피를 만든다.\")\n",
    "\n",
    "print(\"주문을 받고\")\n",
    "print(\"원두를 넣는다\")\n",
    "print(\"기계를 돌려서 원액을 뽑고\")\n",
    "print(\"원액 및 재료를 넣어 커피를 만든다.\")\n",
    "\n",
    "print(\"주문을 받고\")\n",
    "print(\"원두를 넣는다\")\n",
    "print(\"기계를 돌려서 원액을 뽑고\")\n",
    "print(\"원액 및 재료를 넣어 커피를 만든다.\")\n",
    "\n",
    "print(\"주문을 받고\")\n",
    "print(\"원두를 넣는다\")\n",
    "print(\"기계를 돌려서 원액을 뽑고\")\n",
    "print(\"원액 및 재료를 넣어 커피를 만든다.\")\n",
    "\n",
    "print(\"주문을 받고\")\n",
    "print(\"원두를 넣는다\")\n",
    "print(\"기계를 돌려서 원액을 뽑고\")\n",
    "print(\"원액 및 재료를 넣어 커피를 만든다.\")\n"
   ]
  },
  {
   "cell_type": "code",
   "execution_count": 31,
   "metadata": {
    "id": "lymti71O2Nfj"
   },
   "outputs": [],
   "source": [
    "def coffee_make():\n",
    "  print(\"주문을 받고\")\n",
    "  print(\"원두를 넣는다\")\n",
    "  print(\"기계를 돌려서 원액을 뽑고\")\n",
    "  print(\"원액 및 재료를 넣어 커피를 만든다.\")\n",
    "\n"
   ]
  },
  {
   "cell_type": "code",
   "execution_count": 32,
   "metadata": {
    "colab": {
     "base_uri": "https://localhost:8080/"
    },
    "id": "pK8mXppq2hY4",
    "outputId": "7d96c393-61cf-4567-d3a7-c5c1e615582e"
   },
   "outputs": [
    {
     "name": "stdout",
     "output_type": "stream",
     "text": [
      "주문을 받고\n",
      "원두를 넣는다\n",
      "기계를 돌려서 원액을 뽑고\n",
      "원액 및 재료를 넣어 커피를 만든다.\n"
     ]
    }
   ],
   "source": [
    "coffee_make()"
   ]
  },
  {
   "cell_type": "code",
   "execution_count": 33,
   "metadata": {
    "colab": {
     "base_uri": "https://localhost:8080/"
    },
    "id": "ytx_q2TA2k5G",
    "outputId": "1a981ae7-fbff-49bc-94ff-019c25daadd3"
   },
   "outputs": [
    {
     "name": "stdout",
     "output_type": "stream",
     "text": [
      "주문을 받고\n",
      "원두를 넣는다\n",
      "기계를 돌려서 원액을 뽑고\n",
      "원액 및 재료를 넣어 커피를 만든다.\n"
     ]
    }
   ],
   "source": [
    "coffee_make()"
   ]
  },
  {
   "cell_type": "code",
   "execution_count": 34,
   "metadata": {
    "colab": {
     "base_uri": "https://localhost:8080/"
    },
    "id": "UEVnb20b2lRm",
    "outputId": "9dd960e1-7c58-44e9-e1dc-8e7b86652902"
   },
   "outputs": [
    {
     "name": "stdout",
     "output_type": "stream",
     "text": [
      "주문을 받고\n",
      "원두를 넣는다\n",
      "기계를 돌려서 원액을 뽑고\n",
      "원액 및 재료를 넣어 커피를 만든다.\n"
     ]
    }
   ],
   "source": [
    "coffee_make()"
   ]
  },
  {
   "cell_type": "code",
   "execution_count": 35,
   "metadata": {
    "colab": {
     "base_uri": "https://localhost:8080/"
    },
    "id": "NpGVvCw_2lrS",
    "outputId": "dd7b2277-1ba1-40d9-9a49-8f283d0b00df"
   },
   "outputs": [
    {
     "name": "stdout",
     "output_type": "stream",
     "text": [
      "주문을 받고\n",
      "원두를 넣는다\n",
      "기계를 돌려서 원액을 뽑고\n",
      "원액 및 재료를 넣어 커피를 만든다.\n"
     ]
    }
   ],
   "source": [
    "coffee_make()"
   ]
  },
  {
   "cell_type": "markdown",
   "metadata": {
    "id": "fbi1CZ6g2mDb"
   },
   "source": [
    "```\n",
    "def 함수명():\n",
    "  실행문1\n",
    "  실행문2\n",
    "  for x in range():\n",
    "    print(x)\n",
    "\n",
    "  if (조건식1):\n",
    "    print(x)\n",
    "```"
   ]
  },
  {
   "cell_type": "markdown",
   "metadata": {
    "id": "NVOPzNSC3WKP"
   },
   "source": [
    "```\n",
    "## 일을 시키고, 끝\n",
    "def 함수명():\n",
    "  실행문1\n",
    "\n",
    "## 일을 시키고, 결과를 전달.\n",
    "def 함수명():\n",
    "  result = 5+3\n",
    "  return result\n",
    "\n",
    "## 일을 시키고, 결과를 전달.(정보를 전달)\n",
    "def 함수명(num1, num2):\n",
    "  result = num1 + num2\n",
    "  return result\n",
    "\n",
    "## 일을 시키고, 결과를 전달.(정보를 전달)\n",
    "def 함수명(num1, num2=0):\n",
    "  result = num1 + num2\n",
    "  return result\n",
    "```"
   ]
  },
  {
   "cell_type": "markdown",
   "metadata": {
    "id": "gFkZS2Fq4dbF"
   },
   "source": [
    "* 실습 3-1. 아래 출력하는 함수 작성하기 \n",
    " * ========================\n",
    " * ========================\n",
    "\n",
    "* 실습 3-2. 아래 출력하는 함수 작성하기. 호출한 친구에게 결과 완성. '성공'(True)값 전달\n",
    " * ========================\n",
    " * ========================"
   ]
  },
  {
   "cell_type": "markdown",
   "metadata": {
    "id": "kQuoKIJr45tf"
   },
   "source": [
    "* 실습 3-3. 두 값을 전달받아, 이를 더하는 함수 만들어보기\n",
    "* 실습 3-4. 하나의 값은 0으로 초기값 지정, 두 개의 값을 더하는 함수 만들어보기"
   ]
  },
  {
   "cell_type": "code",
   "execution_count": 36,
   "metadata": {
    "id": "7bch0YeW5jqo"
   },
   "outputs": [],
   "source": [
    "# 3-1\n",
    "def twoline():\n",
    "  print(\"======================\")\n",
    "  print(\"======================\")"
   ]
  },
  {
   "cell_type": "code",
   "execution_count": 37,
   "metadata": {
    "colab": {
     "base_uri": "https://localhost:8080/"
    },
    "id": "Zpc2fmXP5Fgk",
    "outputId": "d836d8e7-b83a-47a6-907b-322b1e108e49"
   },
   "outputs": [
    {
     "name": "stdout",
     "output_type": "stream",
     "text": [
      "======================\n",
      "======================\n"
     ]
    }
   ],
   "source": [
    "twoline()"
   ]
  },
  {
   "cell_type": "code",
   "execution_count": 43,
   "metadata": {
    "id": "vD8_yA0m5l7a"
   },
   "outputs": [],
   "source": [
    "# 3-1 \n",
    "# 3-2\n",
    "def twoline_r():\n",
    "  print(\"======================\")\n",
    "  print(\"======================\")\n",
    "  return True"
   ]
  },
  {
   "cell_type": "code",
   "execution_count": 46,
   "metadata": {
    "colab": {
     "base_uri": "https://localhost:8080/"
    },
    "id": "F_YTOM4a6ZuM",
    "outputId": "be34a177-ff05-4501-d816-ff37bba75efe"
   },
   "outputs": [
    {
     "name": "stdout",
     "output_type": "stream",
     "text": [
      "======================\n",
      "======================\n",
      "함수 실행 성공\n"
     ]
    }
   ],
   "source": [
    "abc = twoline_r()\n",
    "\n",
    "if abc==True:\n",
    "  print(\"함수 실행 성공\")\n",
    "else:\n",
    "  print(\"함수 실행 실패\")"
   ]
  },
  {
   "cell_type": "code",
   "execution_count": 45,
   "metadata": {
    "colab": {
     "base_uri": "https://localhost:8080/"
    },
    "id": "_xaBX5dB6dqN",
    "outputId": "bfb40ea1-81ba-4c9d-f40d-0e87e00eafcd"
   },
   "outputs": [
    {
     "name": "stdout",
     "output_type": "stream",
     "text": [
      "======================\n",
      "======================\n"
     ]
    },
    {
     "data": {
      "text/plain": [
       "True"
      ]
     },
     "execution_count": 45,
     "metadata": {},
     "output_type": "execute_result"
    }
   ],
   "source": [
    "twoline_r()"
   ]
  },
  {
   "cell_type": "code",
   "execution_count": 47,
   "metadata": {
    "id": "5mUAku4s7Bde"
   },
   "outputs": [],
   "source": [
    "def two_plus(num1, num2):\n",
    "  r = num1 + num2\n",
    "  return r"
   ]
  },
  {
   "cell_type": "code",
   "execution_count": 48,
   "metadata": {
    "colab": {
     "base_uri": "https://localhost:8080/"
    },
    "id": "RgLcuCfa8Bgy",
    "outputId": "cd8815f3-1f2f-45ce-e64c-d8e99f0e7e48"
   },
   "outputs": [
    {
     "name": "stdout",
     "output_type": "stream",
     "text": [
      "첫번째수1\n",
      "두번째수3\n",
      "두 값의 합은 : 4\n"
     ]
    }
   ],
   "source": [
    "a = int(input(\"첫번째수\"))\n",
    "b = int(input(\"두번째수\"))\n",
    "\n",
    "last = two_plus(a, b)\n",
    "print(\"두 값의 합은 :\", last)"
   ]
  },
  {
   "cell_type": "code",
   "execution_count": 74,
   "metadata": {
    "id": "puqDC7LZ8TXX"
   },
   "outputs": [],
   "source": [
    "def two_plus(num1, num2):\n",
    "  r = num1 + num2\n",
    "  return r"
   ]
  },
  {
   "cell_type": "code",
   "execution_count": 75,
   "metadata": {
    "colab": {
     "base_uri": "https://localhost:8080/",
     "height": 190
    },
    "id": "q3Fb2UiHOZy0",
    "outputId": "57720631-95b8-4588-9b6d-364e0dd56cf2"
   },
   "outputs": [
    {
     "ename": "TypeError",
     "evalue": "ignored",
     "output_type": "error",
     "traceback": [
      "\u001b[0;31m---------------------------------------------------------------------------\u001b[0m",
      "\u001b[0;31mTypeError\u001b[0m                                 Traceback (most recent call last)",
      "\u001b[0;32m<ipython-input-75-707a274e8a1b>\u001b[0m in \u001b[0;36m<module>\u001b[0;34m()\u001b[0m\n\u001b[0;32m----> 1\u001b[0;31m \u001b[0mval\u001b[0m \u001b[0;34m=\u001b[0m \u001b[0mtwo_plus\u001b[0m\u001b[0;34m(\u001b[0m\u001b[0;36m3\u001b[0m\u001b[0;34m)\u001b[0m\u001b[0;34m\u001b[0m\u001b[0;34m\u001b[0m\u001b[0m\n\u001b[0m\u001b[1;32m      2\u001b[0m \u001b[0mprint\u001b[0m\u001b[0;34m(\u001b[0m\u001b[0mval\u001b[0m \u001b[0;34m*\u001b[0m \u001b[0;36m2\u001b[0m\u001b[0;34m)\u001b[0m\u001b[0;34m\u001b[0m\u001b[0;34m\u001b[0m\u001b[0m\n",
      "\u001b[0;31mTypeError\u001b[0m: two_plus() missing 1 required positional argument: 'num2'"
     ]
    }
   ],
   "source": [
    "val = two_plus(3)\n",
    "print(val * 2)"
   ]
  },
  {
   "cell_type": "code",
   "execution_count": 76,
   "metadata": {
    "id": "EiYBWkYtPgwf"
   },
   "outputs": [],
   "source": [
    "def two_plus1(num1, num2=0):\n",
    "  r = num1 + num2\n",
    "  return r"
   ]
  },
  {
   "cell_type": "code",
   "execution_count": 77,
   "metadata": {
    "colab": {
     "base_uri": "https://localhost:8080/"
    },
    "id": "utCAp1bHRtnT",
    "outputId": "82196702-396a-4405-ab5b-bddafcbd9bee"
   },
   "outputs": [
    {
     "name": "stdout",
     "output_type": "stream",
     "text": [
      "6\n"
     ]
    }
   ],
   "source": [
    "val = two_plus1(3)\n",
    "print(val * 2)"
   ]
  },
  {
   "cell_type": "code",
   "execution_count": 60,
   "metadata": {
    "id": "2DH-RnajRxD6"
   },
   "outputs": [],
   "source": [
    "def print1(c):\n",
    "  print(c)"
   ]
  },
  {
   "cell_type": "code",
   "execution_count": 61,
   "metadata": {
    "colab": {
     "base_uri": "https://localhost:8080/"
    },
    "id": "FtQJOVSPSVz_",
    "outputId": "995f3f8c-a3da-4001-a847-52576acc6033"
   },
   "outputs": [
    {
     "name": "stdout",
     "output_type": "stream",
     "text": [
      "test\n"
     ]
    }
   ],
   "source": [
    "print1(\"test\")"
   ]
  },
  {
   "cell_type": "code",
   "execution_count": 62,
   "metadata": {
    "id": "GDslI4zxSYAC"
   },
   "outputs": [],
   "source": [
    "def print1(c1, c2=\"\", c3=\"\"):\n",
    "  print(c1, c2, c3)"
   ]
  },
  {
   "cell_type": "code",
   "execution_count": 65,
   "metadata": {
    "colab": {
     "base_uri": "https://localhost:8080/"
    },
    "id": "ltdsoCBNSwv5",
    "outputId": "4735c8a5-8d85-4df8-92fe-dc18d6d43d93"
   },
   "outputs": [
    {
     "name": "stdout",
     "output_type": "stream",
     "text": [
      "hello world \n"
     ]
    }
   ],
   "source": [
    "print1(\"hello\", \"world\")"
   ]
  },
  {
   "cell_type": "code",
   "execution_count": 72,
   "metadata": {
    "id": "i4_wxlx9Syyx"
   },
   "outputs": [],
   "source": [
    "def print2(c1, c2=\"\", c3=\"\", sep_a=''):\n",
    "  print(c1, c2, c3, sep=sep_a)"
   ]
  },
  {
   "cell_type": "code",
   "execution_count": 73,
   "metadata": {
    "colab": {
     "base_uri": "https://localhost:8080/"
    },
    "id": "wDpKJiwOTfdT",
    "outputId": "3ebdfd6e-c511-4935-a900-c2dcfa8666ac"
   },
   "outputs": [
    {
     "name": "stdout",
     "output_type": "stream",
     "text": [
      "hello      \n"
     ]
    }
   ],
   "source": [
    "print2(\"hello\", sep_a=\"   \")"
   ]
  },
  {
   "cell_type": "code",
   "execution_count": 68,
   "metadata": {
    "id": "6gT2ZHwVTlBD"
   },
   "outputs": [],
   "source": [
    "# 넘겨받은 값이 하나라도 20자 이상이면 출력안시킴.\n",
    "def print3(c1, c2=\"\", c3=\"\"):\n",
    "  if len(c1) >=20 or len(c2) >=20 or len(c3) >=20:\n",
    "    return \"불합격\"\n",
    "  else:\n",
    "    print(c1, c2, c3)"
   ]
  },
  {
   "cell_type": "code",
   "execution_count": 69,
   "metadata": {
    "colab": {
     "base_uri": "https://localhost:8080/",
     "height": 35
    },
    "id": "nHl0VTLBUL9u",
    "outputId": "0c993141-7086-440e-9386-7dbabd7f66f3"
   },
   "outputs": [
    {
     "data": {
      "application/vnd.google.colaboratory.intrinsic+json": {
       "type": "string"
      },
      "text/plain": [
       "'불합격'"
      ]
     },
     "execution_count": 69,
     "metadata": {},
     "output_type": "execute_result"
    }
   ],
   "source": [
    "print3(\"daslfjalkdsjflkajljewflkjawlkjflkajg\", 2)"
   ]
  },
  {
   "cell_type": "code",
   "execution_count": 78,
   "metadata": {
    "colab": {
     "base_uri": "https://localhost:8080/"
    },
    "id": "4s-82zyvUQYI",
    "outputId": "2f28359f-27fa-4466-9627-e0a14dc111b9"
   },
   "outputs": [
    {
     "name": "stdout",
     "output_type": "stream",
     "text": [
      "Hello, World!\n"
     ]
    }
   ],
   "source": [
    "### 들여쓰기 ,: - 들여쓰기\n",
    "### 함수\n",
    "### 리스트, 딕셔너리, 집합\n",
    "### 문자열\n",
    "str1 = \"Hello, ____  World!\"\n",
    "print(str1)"
   ]
  },
  {
   "cell_type": "code",
   "execution_count": 84,
   "metadata": {
    "colab": {
     "base_uri": "https://localhost:8080/"
    },
    "id": "UU1owE5MeGWR",
    "outputId": "13136068-eebb-42af-c2c2-8c5e7c786906"
   },
   "outputs": [
    {
     "name": "stdout",
     "output_type": "stream",
     "text": [
      "H\n",
      "e\n",
      "Hello\n",
      "World!\n",
      "Hello, World!\n"
     ]
    }
   ],
   "source": [
    "print(str1[0])\n",
    "print(str1[1])\n",
    "print(str1[0:5])\n",
    "print(str1[-6:])\n",
    "print(str1[ : ])"
   ]
  },
  {
   "cell_type": "code",
   "execution_count": 85,
   "metadata": {
    "colab": {
     "base_uri": "https://localhost:8080/"
    },
    "id": "PLT8jUz2eSA7",
    "outputId": "f06377f9-fc7c-4392-8d0c-6cb69c13845d"
   },
   "outputs": [
    {
     "data": {
      "text/plain": [
       "[1, 3, 4, 5, 'a']"
      ]
     },
     "execution_count": 85,
     "metadata": {},
     "output_type": "execute_result"
    }
   ],
   "source": [
    "### 리스트\n",
    "a = [1,3,4,5, 'a']\n",
    "a"
   ]
  },
  {
   "cell_type": "code",
   "execution_count": 88,
   "metadata": {
    "colab": {
     "base_uri": "https://localhost:8080/"
    },
    "id": "W0qM1ht2fxBZ",
    "outputId": "763afbc4-9a36-48ce-92ff-a4798efaa3fb"
   },
   "outputs": [
    {
     "name": "stdout",
     "output_type": "stream",
     "text": [
      "5\n",
      "5\n",
      "[4, 5]\n",
      "[1, 4, 'a']\n"
     ]
    }
   ],
   "source": [
    "print(a[3])\n",
    "print(a[-2])\n",
    "print(a[2:4])\n",
    "print(a[0:5:2])"
   ]
  },
  {
   "cell_type": "code",
   "execution_count": 89,
   "metadata": {
    "colab": {
     "base_uri": "https://localhost:8080/"
    },
    "id": "1YT3BWVZf7s1",
    "outputId": "3a7c4f85-7b01-4546-907e-97923f690787"
   },
   "outputs": [
    {
     "name": "stdout",
     "output_type": "stream",
     "text": [
      "[5, 3]\n"
     ]
    }
   ],
   "source": [
    "print(a[-2:-5:-2])"
   ]
  },
  {
   "cell_type": "code",
   "execution_count": 90,
   "metadata": {
    "colab": {
     "base_uri": "https://localhost:8080/"
    },
    "id": "WYk7jpFEg5rU",
    "outputId": "cd71763f-de8d-481a-a9da-31b8f43199f3"
   },
   "outputs": [
    {
     "name": "stdout",
     "output_type": "stream",
     "text": [
      "[1, 2, 3, 4, 5]\n"
     ]
    }
   ],
   "source": [
    "a = [ 1,2,3,4,5]\n",
    "print(a)"
   ]
  },
  {
   "cell_type": "code",
   "execution_count": 91,
   "metadata": {
    "colab": {
     "base_uri": "https://localhost:8080/"
    },
    "id": "UCdqQ8XmhOS6",
    "outputId": "dcf2bd0c-64d5-47d5-ebf7-efbf3084dc28"
   },
   "outputs": [
    {
     "name": "stdout",
     "output_type": "stream",
     "text": [
      "2\n"
     ]
    }
   ],
   "source": [
    "a1 = [ [1,2], [11,22], [111,222]]\n",
    "print(a1[0][1])"
   ]
  },
  {
   "cell_type": "code",
   "execution_count": 92,
   "metadata": {
    "id": "hRs2khIChaMr"
   },
   "outputs": [],
   "source": [
    "### 실습 for문을 이용해서 2, 22, 222를 출력시켜보기"
   ]
  },
  {
   "cell_type": "code",
   "execution_count": 94,
   "metadata": {
    "colab": {
     "base_uri": "https://localhost:8080/"
    },
    "id": "ujbFczWZhgS_",
    "outputId": "8c37cf9d-2112-44ed-c839-efc8bdd796f8"
   },
   "outputs": [
    {
     "name": "stdout",
     "output_type": "stream",
     "text": [
      "2\n",
      "22\n",
      "222\n"
     ]
    }
   ],
   "source": [
    "a1 = [ [1,2], [11,22], [111,222]]\n",
    "\n",
    "for x in a1:\n",
    "  print(x[1])"
   ]
  },
  {
   "cell_type": "code",
   "execution_count": 96,
   "metadata": {
    "colab": {
     "base_uri": "https://localhost:8080/"
    },
    "id": "Qjke-imZiKRW",
    "outputId": "9cf1f33c-c44c-4f2f-8df7-53961e1e3948"
   },
   "outputs": [
    {
     "name": "stdout",
     "output_type": "stream",
     "text": [
      "222\n"
     ]
    }
   ],
   "source": [
    "a1 = [ [1,2], [11,22], [111,222]]\n",
    "\n",
    "for x in a1:\n",
    "  if x[1] >=100:\n",
    "    print(x[1])"
   ]
  },
  {
   "cell_type": "code",
   "execution_count": 97,
   "metadata": {
    "colab": {
     "base_uri": "https://localhost:8080/"
    },
    "id": "FuT1fCTYjPdY",
    "outputId": "2a94a87d-2099-4cfc-9222-60c698b9f403"
   },
   "outputs": [
    {
     "name": "stdout",
     "output_type": "stream",
     "text": [
      "[1, 2, 3, 1, 2, 3, 4]\n"
     ]
    }
   ],
   "source": [
    "### 문자열 - 인덱싱, 슬라이싱\n",
    "### 리스트 - 인덱싱, 슬라이싱\n",
    "### 리스트 \n",
    "\n",
    "a = [1,2,3]\n",
    "b = [1,2,3,4]\n",
    "print(a + b)"
   ]
  },
  {
   "cell_type": "code",
   "execution_count": 98,
   "metadata": {
    "colab": {
     "base_uri": "https://localhost:8080/"
    },
    "id": "4Wyb-Ggzjwsx",
    "outputId": "3ad121b1-ac22-42d6-9fec-72cff6db4a25"
   },
   "outputs": [
    {
     "name": "stdout",
     "output_type": "stream",
     "text": [
      "[1, 2, 3, 4, 5]\n"
     ]
    }
   ],
   "source": [
    "a.append(4)\n",
    "a.append(5)\n",
    "print(a)"
   ]
  },
  {
   "cell_type": "code",
   "execution_count": 99,
   "metadata": {
    "colab": {
     "base_uri": "https://localhost:8080/"
    },
    "id": "slIrtgHVkNKw",
    "outputId": "bb9a9193-83d8-49bc-de01-d3681285c0ad"
   },
   "outputs": [
    {
     "name": "stdout",
     "output_type": "stream",
     "text": [
      "[1, 2, 3, 4]\n"
     ]
    }
   ],
   "source": [
    "a.remove(5)\n",
    "print(a)"
   ]
  },
  {
   "cell_type": "code",
   "execution_count": 100,
   "metadata": {
    "colab": {
     "base_uri": "https://localhost:8080/"
    },
    "id": "PYQ9nhKokUjM",
    "outputId": "d0c9c316-0b5b-4fd0-db77-859ea450391f"
   },
   "outputs": [
    {
     "name": "stdout",
     "output_type": "stream",
     "text": [
      "[1, 2, 3, [1, 2, 3, 4]]\n"
     ]
    }
   ],
   "source": [
    "a = [1,2,3]\n",
    "b = [1,2,3,4]\n",
    "\n",
    "a.append(b)\n",
    "print(a)"
   ]
  },
  {
   "cell_type": "code",
   "execution_count": 101,
   "metadata": {
    "colab": {
     "base_uri": "https://localhost:8080/"
    },
    "id": "X8rRb93zke72",
    "outputId": "bb79421c-b110-4a26-f207-c07737f38e8d"
   },
   "outputs": [
    {
     "data": {
      "text/plain": [
       "[1, 2, 3, 1, 2, 3, 4]"
      ]
     },
     "execution_count": 101,
     "metadata": {},
     "output_type": "execute_result"
    }
   ],
   "source": [
    "a = [1,2,3]\n",
    "b = [1,2,3,4]\n",
    "\n",
    "for x in b:\n",
    "  a.append(x)\n",
    "a"
   ]
  },
  {
   "cell_type": "code",
   "execution_count": 102,
   "metadata": {
    "id": "VPQmOFSGk0fU"
   },
   "outputs": [],
   "source": [
    "a = [1,2,3]\n",
    "b = [1,2,3,4]\n",
    "\n",
    "a.extend(b)"
   ]
  },
  {
   "cell_type": "code",
   "execution_count": 103,
   "metadata": {
    "colab": {
     "base_uri": "https://localhost:8080/"
    },
    "id": "OQWP009mk6xp",
    "outputId": "e170780c-44a2-469a-f578-080903f4588a"
   },
   "outputs": [
    {
     "name": "stdout",
     "output_type": "stream",
     "text": [
      "[1, 2, 3, 1, 2, 3, 4]\n"
     ]
    }
   ],
   "source": [
    "print(a)"
   ]
  },
  {
   "cell_type": "code",
   "execution_count": 105,
   "metadata": {
    "colab": {
     "base_uri": "https://localhost:8080/"
    },
    "id": "ra-frfePk7qg",
    "outputId": "0a4e92f9-c090-4629-8a67-6e573c402483"
   },
   "outputs": [
    {
     "name": "stdout",
     "output_type": "stream",
     "text": [
      "원하는 음식은 :a\n",
      "원하는 음식은 :b\n",
      "원하는 음식은 :\n",
      "원하는 음식은 :c\n",
      "원하는 음식은 :q\n",
      "['a', 'b', '', 'c']\n",
      "제거할 음식 :b\n",
      "제거할 음식 :q\n"
     ]
    }
   ],
   "source": [
    "myfood = []\n",
    "\n",
    "# 원하는 음식 추가\n",
    "for i in range(999):\n",
    "  one_food = input(\"원하는 음식은 :\")\n",
    "  if one_food=='q':\n",
    "    break\n",
    "  else:\n",
    "    myfood.append(one_food)\n",
    "\n",
    "# 다이어트를 위해서 음식을 제거하기\n",
    "# 음식을 빼주기.\n",
    "print(myfood)\n",
    "for i in range(999):\n",
    "  remove_food = input(\"제거할 음식 :\")\n",
    "  if remove_food=='q':\n",
    "    break\n",
    "  else:\n",
    "    myfood.remove(remove_food)\n",
    "\n",
    "print(\"마지막 음식 리스트 : \", myfood)"
   ]
  },
  {
   "cell_type": "markdown",
   "metadata": {
    "id": "JHi-uMeXpkpN"
   },
   "source": [
    "### 리스트 : [ ]\n",
    "### 튜플 : ()\n",
    "### 리스트 vs 튜플 \n",
    "  * 공통점 :  둘 다 순서가 있다. \n",
    "  * 리스트는 원소 변경 가능.\n",
    "  * 튜플은 원소 변경이 어렵다.\n",
    "    * 튜플을 왜 쓸까? 더 적은 메모리, 빠른 속도\n",
    "\n",
    "### 딕셔너리 : { key1:val1, key2:val2, key3:val3  }\n",
    "### 튜플 : set()"
   ]
  },
  {
   "cell_type": "code",
   "execution_count": 108,
   "metadata": {
    "colab": {
     "base_uri": "https://localhost:8080/"
    },
    "id": "azwlbUEKsItK",
    "outputId": "02600237-b84d-48b0-c012-d1d157117e08"
   },
   "outputs": [
    {
     "name": "stdout",
     "output_type": "stream",
     "text": [
      "[1, 2, 3, 4]\n",
      "(1, 2, 3, 4)\n",
      "<class 'list'> <class 'tuple'>\n"
     ]
    }
   ],
   "source": [
    "a = [1,2,3,4]\n",
    "a1 = (1,2,3,4)\n",
    "\n",
    "print(a)\n",
    "print(a1)\n",
    "print(type(a), type(a1))"
   ]
  },
  {
   "cell_type": "code",
   "execution_count": 109,
   "metadata": {
    "id": "qClaME3usQz9"
   },
   "outputs": [],
   "source": [
    "dict1 = { 'a':\"val1\", 'b':\"val2\", 'c':\"val2\"  }\n"
   ]
  },
  {
   "cell_type": "code",
   "execution_count": 110,
   "metadata": {
    "colab": {
     "base_uri": "https://localhost:8080/"
    },
    "id": "dRpPhhazufIa",
    "outputId": "57628ea4-c90f-4a89-c324-87d58d38cfc1"
   },
   "outputs": [
    {
     "name": "stdout",
     "output_type": "stream",
     "text": [
      "[1, 2, 30, 4]\n"
     ]
    }
   ],
   "source": [
    "a = [1,2,3,4]\n",
    "a[2] = 30\n",
    "print(a)"
   ]
  },
  {
   "cell_type": "code",
   "execution_count": 111,
   "metadata": {
    "colab": {
     "base_uri": "https://localhost:8080/",
     "height": 210
    },
    "id": "X5GFGydXujkl",
    "outputId": "717d7750-d041-4a84-b0a8-1b9b8ab5f5a1"
   },
   "outputs": [
    {
     "ename": "TypeError",
     "evalue": "ignored",
     "output_type": "error",
     "traceback": [
      "\u001b[0;31m---------------------------------------------------------------------------\u001b[0m",
      "\u001b[0;31mTypeError\u001b[0m                                 Traceback (most recent call last)",
      "\u001b[0;32m<ipython-input-111-a97be19256bb>\u001b[0m in \u001b[0;36m<module>\u001b[0;34m()\u001b[0m\n\u001b[1;32m      1\u001b[0m \u001b[0ma\u001b[0m \u001b[0;34m=\u001b[0m \u001b[0;34m(\u001b[0m\u001b[0;36m1\u001b[0m\u001b[0;34m,\u001b[0m\u001b[0;36m2\u001b[0m\u001b[0;34m,\u001b[0m\u001b[0;36m3\u001b[0m\u001b[0;34m,\u001b[0m\u001b[0;36m4\u001b[0m\u001b[0;34m)\u001b[0m\u001b[0;34m\u001b[0m\u001b[0;34m\u001b[0m\u001b[0m\n\u001b[0;32m----> 2\u001b[0;31m \u001b[0ma\u001b[0m\u001b[0;34m[\u001b[0m\u001b[0;36m2\u001b[0m\u001b[0;34m]\u001b[0m \u001b[0;34m=\u001b[0m \u001b[0;36m30\u001b[0m\u001b[0;34m\u001b[0m\u001b[0;34m\u001b[0m\u001b[0m\n\u001b[0m\u001b[1;32m      3\u001b[0m \u001b[0mprint\u001b[0m\u001b[0;34m(\u001b[0m\u001b[0ma\u001b[0m\u001b[0;34m)\u001b[0m\u001b[0;34m\u001b[0m\u001b[0;34m\u001b[0m\u001b[0m\n",
      "\u001b[0;31mTypeError\u001b[0m: 'tuple' object does not support item assignment"
     ]
    }
   ],
   "source": [
    "a = (1,2,3,4)\n",
    "a[2] = 30\n",
    "print(a)"
   ]
  },
  {
   "cell_type": "code",
   "execution_count": 1,
   "metadata": {
    "colab": {
     "base_uri": "https://localhost:8080/"
    },
    "id": "c3dMR0KLutC7",
    "outputId": "cbe9a097-4150-4953-c83d-fe996b25173a"
   },
   "outputs": [
    {
     "data": {
      "text/plain": [
       "['사과', '애플']"
      ]
     },
     "execution_count": 1,
     "metadata": {},
     "output_type": "execute_result"
    }
   ],
   "source": [
    "dict1 = { 'apple':[\"사과\", \"애플\"], \n",
    "          'run':['달리다', '동작하다.'], \n",
    "          'class':('수업','반') }\n",
    "\n",
    "dict1['apple']"
   ]
  },
  {
   "cell_type": "code",
   "execution_count": 114,
   "metadata": {
    "colab": {
     "base_uri": "https://localhost:8080/"
    },
    "id": "m7hTaq4-vg1p",
    "outputId": "f5b3a41a-5f3e-49ff-d7dd-21a8fbbc89ac"
   },
   "outputs": [
    {
     "data": {
      "text/plain": [
       "dict_items([('apple', ['사과', '애플']), ('run', ['달리다', '동작하다.']), ('class', ('수업', '반'))])"
      ]
     },
     "execution_count": 114,
     "metadata": {},
     "output_type": "execute_result"
    }
   ],
   "source": [
    "# 키, 값 전체 출력\n",
    "dict1.items()"
   ]
  },
  {
   "cell_type": "code",
   "execution_count": 115,
   "metadata": {
    "colab": {
     "base_uri": "https://localhost:8080/"
    },
    "id": "nlPnx5Amvo5f",
    "outputId": "59b09eff-4e2a-44a8-a529-8ca176857269"
   },
   "outputs": [
    {
     "name": "stdout",
     "output_type": "stream",
     "text": [
      "dict_keys(['apple', 'run', 'class'])\n",
      "dict_values([['사과', '애플'], ['달리다', '동작하다.'], ('수업', '반')])\n"
     ]
    }
   ],
   "source": [
    "# 키 값만 출력\n",
    "print(dict1.keys() )\n",
    "\n",
    "# 값만 출력\n",
    "print(dict1.values() )"
   ]
  },
  {
   "cell_type": "code",
   "execution_count": 2,
   "metadata": {
    "colab": {
     "base_uri": "https://localhost:8080/"
    },
    "id": "hzUwAgZmv6td",
    "outputId": "b685cd32-6747-470a-da45-6da1a3fdb132"
   },
   "outputs": [
    {
     "name": "stdout",
     "output_type": "stream",
     "text": [
      "단어 : apple 뜻 : ['사과', '애플']\n",
      "단어 : run 뜻 : ['달리다', '동작하다.']\n",
      "단어 : class 뜻 : ('수업', '반')\n"
     ]
    }
   ],
   "source": [
    "dict1 = { 'apple':[\"사과\", \"애플\"], \n",
    "          'run':['달리다', '동작하다.'], \n",
    "          'class':('수업','반') }\n",
    "\n",
    "for key, val in dict1.items():\n",
    "  print(\"단어 :\", key, \"뜻 :\", val)"
   ]
  },
  {
   "cell_type": "code",
   "execution_count": 122,
   "metadata": {
    "colab": {
     "base_uri": "https://localhost:8080/"
    },
    "id": "boitmlaHwtMH",
    "outputId": "3c8c4a84-e095-4834-b140-ee2d7f1e3bcc"
   },
   "outputs": [
    {
     "name": "stdout",
     "output_type": "stream",
     "text": [
      "{'apple': ['사과', '애플'], 'run': ['달리다', '동작하다.'], 'class': ('수업', '반')}\n",
      "추가할 단어seoul\n",
      "의미서울\n"
     ]
    }
   ],
   "source": [
    "### 단어 사전 추가 프로그램 만들기 \n",
    "\n",
    "### 사전 리스트 출력 \n",
    "### 추가 할 단어와 뜻 입력 받기 \n",
    "### 딕셔너리에 단어와 뜻을 추가하기\n",
    "\n",
    "print(dict1)\n",
    "word = input(\"추가할 단어\")\n",
    "def1 = input(\"의미\")\n",
    "\n",
    "dict1[word] = def1"
   ]
  },
  {
   "cell_type": "code",
   "execution_count": 123,
   "metadata": {
    "colab": {
     "base_uri": "https://localhost:8080/"
    },
    "id": "RYy_O4ity7ss",
    "outputId": "bae91221-9318-4760-c2c4-beed4288396e"
   },
   "outputs": [
    {
     "name": "stdout",
     "output_type": "stream",
     "text": [
      "{'apple': ['사과', '애플'], 'run': ['달리다', '동작하다.'], 'class': ('수업', '반'), 'seoul': '서울'}\n"
     ]
    }
   ],
   "source": [
    "print(dict1)"
   ]
  },
  {
   "cell_type": "code",
   "execution_count": 127,
   "metadata": {
    "colab": {
     "base_uri": "https://localhost:8080/"
    },
    "id": "gSTRATtxzB3u",
    "outputId": "deaaf8b6-83f9-49f9-8d9f-22d97fc556ef"
   },
   "outputs": [
    {
     "data": {
      "text/plain": [
       "dict"
      ]
     },
     "execution_count": 127,
     "metadata": {},
     "output_type": "execute_result"
    }
   ],
   "source": [
    "type(dict1)"
   ]
  },
  {
   "cell_type": "code",
   "execution_count": 128,
   "metadata": {
    "colab": {
     "base_uri": "https://localhost:8080/"
    },
    "id": "kZTlUYWUzXBe",
    "outputId": "3b0752b2-436e-42af-a8ab-37643cc77aa7"
   },
   "outputs": [
    {
     "data": {
      "text/plain": [
       "dict_items"
      ]
     },
     "execution_count": 128,
     "metadata": {},
     "output_type": "execute_result"
    }
   ],
   "source": [
    "type(dict1.items())"
   ]
  },
  {
   "cell_type": "code",
   "execution_count": 129,
   "metadata": {
    "colab": {
     "base_uri": "https://localhost:8080/"
    },
    "id": "bNnSomdzzYt8",
    "outputId": "99cffa8d-432f-4094-9cc2-e828aeaecca1"
   },
   "outputs": [
    {
     "name": "stdout",
     "output_type": "stream",
     "text": [
      "apple ['사과', '애플']\n",
      "run ['달리다', '동작하다.']\n",
      "class ('수업', '반')\n",
      "seoul 서울\n"
     ]
    }
   ],
   "source": [
    "for a, b in dict1.items():\n",
    "  print(a, b)"
   ]
  },
  {
   "cell_type": "code",
   "execution_count": 130,
   "metadata": {
    "colab": {
     "base_uri": "https://localhost:8080/",
     "height": 192
    },
    "id": "6uLEoz470Cgh",
    "outputId": "5e89bf83-04ea-4ea3-a07b-6e1d5dec77ee"
   },
   "outputs": [
    {
     "ename": "ValueError",
     "evalue": "ignored",
     "output_type": "error",
     "traceback": [
      "\u001b[0;31m---------------------------------------------------------------------------\u001b[0m",
      "\u001b[0;31mValueError\u001b[0m                                Traceback (most recent call last)",
      "\u001b[0;32m<ipython-input-130-e88af9007e9d>\u001b[0m in \u001b[0;36m<module>\u001b[0;34m()\u001b[0m\n\u001b[0;32m----> 1\u001b[0;31m \u001b[0;32mfor\u001b[0m \u001b[0ma\u001b[0m\u001b[0;34m,\u001b[0m \u001b[0mb\u001b[0m \u001b[0;32min\u001b[0m \u001b[0mdict1\u001b[0m\u001b[0;34m:\u001b[0m\u001b[0;34m\u001b[0m\u001b[0;34m\u001b[0m\u001b[0m\n\u001b[0m\u001b[1;32m      2\u001b[0m   \u001b[0mprint\u001b[0m\u001b[0;34m(\u001b[0m\u001b[0ma\u001b[0m\u001b[0;34m,\u001b[0m \u001b[0mb\u001b[0m\u001b[0;34m)\u001b[0m\u001b[0;34m\u001b[0m\u001b[0;34m\u001b[0m\u001b[0m\n",
      "\u001b[0;31mValueError\u001b[0m: too many values to unpack (expected 2)"
     ]
    }
   ],
   "source": [
    "for a, b in dict1:\n",
    "  print(a, b)"
   ]
  },
  {
   "cell_type": "markdown",
   "metadata": {
    "id": "4oWaY8Bj0Gu9"
   },
   "source": [
    "### 숫자형\n",
    " * 1,2,3,4\n",
    " * 1.0, 2.0, 3.0,\n",
    "\n",
    "### 사칙연산\n",
    " * +, -, *, /\n",
    " * \\**\n",
    " * %, //\n",
    "\n",
    "### 문자열 자료형\n",
    " * \"\", ''\n",
    " * \"\"\"  \"\"\" ,  '''  '''\n",
    "\n",
    "### 문자열 연산\n",
    " * 문자열 더하기 : +\n",
    " * 문자열 곱하기 : \"333\" * 2\n",
    " * 문자열 길이 구하기 : len()\n"
   ]
  },
  {
   "cell_type": "markdown",
   "metadata": {
    "id": "L-towZrw7ixN"
   },
   "source": [
    "### 문자열 인덱싱과 슬라이싱\n",
    " * 문자열 인덱싱, 슬라이싱 \n",
    "    * 문자열 인덱싱(하나의 값 선택), 슬라이싱(조각으로 값을 뽑는다.)\n",
    " * 문자열 포매팅\n",
    "    * print(\"%d\" % (a))\n",
    "    * print(\"{} {}\".format(a, b))\n",
    "    * print(f\"{a} {b}\")\n",
    "\n",
    "### 리스트 자료형 \n",
    " * 리스트 연산(+) : \n",
    " * 리스트 길이 구하기(len)\n",
    " * del a[2]\n",
    " * append(), remove(), extend() ...\n",
    "\n",
    "### 리스트와 튜플\n",
    " * [], ()\n",
    " \n",
    "### 딕셔너리\n",
    " * {}\n",
    " * del a[1]\n",
    " * dicts.items(), dicts.keys(), dicts.values()\n",
    "\n",
    "### 불 자료형 - True, False\n",
    "\n",
    "### if문\n",
    " * "
   ]
  },
  {
   "cell_type": "code",
   "execution_count": null,
   "metadata": {
    "id": "yPP-aOrs_xK2"
   },
   "outputs": [],
   "source": []
  }
 ],
 "metadata": {
  "colab": {
   "name": "20210830.ipynb",
   "provenance": []
  },
  "interpreter": {
   "hash": "569b4317022eb29baeafb3d0f1f739310808ea28ce83ca127a35db1c01070585"
  },
  "kernelspec": {
   "display_name": "Python 3.9.12 ('base')",
   "language": "python",
   "name": "python3"
  },
  "language_info": {
   "codemirror_mode": {
    "name": "ipython",
    "version": 3
   },
   "file_extension": ".py",
   "mimetype": "text/x-python",
   "name": "python",
   "nbconvert_exporter": "python",
   "pygments_lexer": "ipython3",
   "version": "3.9.12"
  }
 },
 "nbformat": 4,
 "nbformat_minor": 1
}
