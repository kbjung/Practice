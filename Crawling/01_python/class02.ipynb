{
 "cells": [
  {
   "cell_type": "code",
   "execution_count": null,
   "metadata": {
    "colab": {
     "base_uri": "https://localhost:8080/"
    },
    "id": "EbQp6kv6OEhn",
    "outputId": "8605cf01-57f4-45f7-f1c4-0cf3913b1f59"
   },
   "outputs": [
    {
     "name": "stdout",
     "output_type": "stream",
     "text": [
      "10\n"
     ]
    }
   ],
   "source": [
    "### 셀 실행(하나의 셀 추가) : SHIFT + ENTER\n",
    "print(10)"
   ]
  },
  {
   "cell_type": "code",
   "execution_count": null,
   "metadata": {
    "colab": {
     "base_uri": "https://localhost:8080/"
    },
    "id": "elax7IPpPDcw",
    "outputId": "992da753-0aac-4b63-b7d2-dff758d28175"
   },
   "outputs": [
    {
     "name": "stdout",
     "output_type": "stream",
     "text": [
      "10\n"
     ]
    }
   ],
   "source": [
    "### 셀 실행(하나의 셀 추가 없음) : CTRL + ENTER\n",
    "print(10)"
   ]
  },
  {
   "cell_type": "code",
   "execution_count": null,
   "metadata": {
    "colab": {
     "base_uri": "https://localhost:8080/"
    },
    "id": "XadPnM8jPTEe",
    "outputId": "a0c24312-38b3-4f8b-f2db-600fec125478"
   },
   "outputs": [
    {
     "name": "stdout",
     "output_type": "stream",
     "text": [
      "10\n",
      "hello\n"
     ]
    }
   ],
   "source": [
    "print(10)  # 숫자, 변수, 문자열 \n",
    "print(\"hello\")   # \"\", ''"
   ]
  },
  {
   "cell_type": "code",
   "execution_count": null,
   "metadata": {
    "colab": {
     "base_uri": "https://localhost:8080/"
    },
    "id": "u3XZz_-IP1cR",
    "outputId": "5ecc3250-d19a-45dd-aaed-7eacee62c230"
   },
   "outputs": [
    {
     "name": "stdout",
     "output_type": "stream",
     "text": [
      "100 50 hello\n"
     ]
    }
   ],
   "source": [
    "math = 100\n",
    "eng = 50\n",
    "str1 = \"hello\"\n",
    "\n",
    "print(math, eng, str1)"
   ]
  },
  {
   "cell_type": "code",
   "execution_count": null,
   "metadata": {
    "colab": {
     "base_uri": "https://localhost:8080/",
     "height": 35
    },
    "id": "2jgcjT6lQefq",
    "outputId": "17df7423-8e9b-4907-f558-d7a61ae65b0e"
   },
   "outputs": [
    {
     "data": {
      "application/vnd.google.colaboratory.intrinsic+json": {
       "type": "string"
      },
      "text/plain": [
       "'HelloWorld'"
      ]
     },
     "execution_count": 7,
     "metadata": {},
     "output_type": "execute_result"
    }
   ],
   "source": [
    "## 문자열과 문자열을 이어주기 ''\n",
    "\"Hello\" + \"World\""
   ]
  },
  {
   "cell_type": "code",
   "execution_count": null,
   "metadata": {
    "colab": {
     "base_uri": "https://localhost:8080/"
    },
    "id": "9WFVv7GERVJv",
    "outputId": "c5804e3d-9755-4907-915f-b20c998099de"
   },
   "outputs": [
    {
     "name": "stdout",
     "output_type": "stream",
     "text": [
      "\n",
      "line1\n",
      "line2\n",
      "line3\n",
      "\n"
     ]
    }
   ],
   "source": [
    "str1 = \"\"\"\n",
    "line1\n",
    "line2\n",
    "line3\n",
    "\"\"\"\n",
    "print(str1)"
   ]
  },
  {
   "cell_type": "code",
   "execution_count": null,
   "metadata": {
    "colab": {
     "base_uri": "https://localhost:8080/"
    },
    "id": "OLNd9ljzRrkn",
    "outputId": "06d9309a-b4ff-40a4-befc-d982e9c64ea8"
   },
   "outputs": [
    {
     "name": "stdout",
     "output_type": "stream",
     "text": [
      "hello \n",
      "world\n"
     ]
    }
   ],
   "source": [
    "print(\"hello \\n world\")"
   ]
  },
  {
   "cell_type": "code",
   "execution_count": null,
   "metadata": {
    "colab": {
     "base_uri": "https://localhost:8080/"
    },
    "id": "M1MzgPGUR3Dv",
    "outputId": "390354d4-dd9d-419a-a987-02020c9b6000"
   },
   "outputs": [
    {
     "name": "stdout",
     "output_type": "stream",
     "text": [
      "abc\n",
      "1234\n",
      "abc 1234\n"
     ]
    }
   ],
   "source": [
    "### 파이썬에서 내장함수\n",
    "# 6-8 (실습) id와 패스워드를 입력받아서 출력해 보기\n",
    "id = input()\n",
    "pwd = input()\n",
    "print(id, pwd)"
   ]
  },
  {
   "cell_type": "code",
   "execution_count": null,
   "metadata": {
    "id": "K59xvtabTDHq"
   },
   "outputs": [],
   "source": [
    "### print()\n",
    "### input()"
   ]
  },
  {
   "cell_type": "code",
   "execution_count": null,
   "metadata": {
    "colab": {
     "base_uri": "https://localhost:8080/"
    },
    "id": "HmBXsciUTtpI",
    "outputId": "69dafa9b-9340-460a-a0fe-325c3f8255e7"
   },
   "outputs": [
    {
     "name": "stdout",
     "output_type": "stream",
     "text": [
      "100\n",
      "110 <class 'int'>\n"
     ]
    }
   ],
   "source": [
    "age = input()\n",
    "age = int(age)\n",
    "print(age + 10, type(age))"
   ]
  },
  {
   "cell_type": "markdown",
   "metadata": {
    "id": "40yvu0GFUUUa"
   },
   "source": [
    "### 자료형\n",
    " * int : 정수형\n",
    " * float : 실수형\n",
    " * str : 문자열\n",
    " * set : 집합\n",
    " * dict : 딕셔너리(사전)\n",
    " * list : 리스트\n"
   ]
  },
  {
   "cell_type": "code",
   "execution_count": null,
   "metadata": {
    "colab": {
     "base_uri": "https://localhost:8080/"
    },
    "id": "-2l-fLWqU_SJ",
    "outputId": "6b554a56-637d-4971-ae73-f796836d535f"
   },
   "outputs": [
    {
     "data": {
      "text/plain": [
       "str"
      ]
     },
     "execution_count": 16,
     "metadata": {},
     "output_type": "execute_result"
    }
   ],
   "source": [
    "type('a')"
   ]
  },
  {
   "cell_type": "code",
   "execution_count": null,
   "metadata": {
    "colab": {
     "base_uri": "https://localhost:8080/"
    },
    "id": "ZuDVUeCPVBDs",
    "outputId": "9330bba6-be40-4423-d7c7-83bd51bc9b85"
   },
   "outputs": [
    {
     "name": "stdout",
     "output_type": "stream",
     "text": [
      "333222\n"
     ]
    }
   ],
   "source": [
    "# print(), input(), type()\n",
    "# 형변환 함수 : int(), float(), str()\n",
    "print( str(333222) )"
   ]
  },
  {
   "cell_type": "code",
   "execution_count": null,
   "metadata": {
    "colab": {
     "base_uri": "https://localhost:8080/"
    },
    "id": "clJGLHfkVimX",
    "outputId": "59defe48-33b6-478c-cfed-e51ffa0af5e3"
   },
   "outputs": [
    {
     "name": "stdout",
     "output_type": "stream",
     "text": [
      "나이는 :20\n",
      "당신의 나이는\n",
      "20\n",
      "입니다.\n"
     ]
    }
   ],
   "source": [
    "age = int( input(\"나이는 :\") )\n",
    "print(\"당신의 나이는\", age, \"입니다.\", sep=\"\\n\")"
   ]
  },
  {
   "cell_type": "code",
   "execution_count": null,
   "metadata": {
    "colab": {
     "base_uri": "https://localhost:8080/"
    },
    "id": "Y5zZB-L3XKWr",
    "outputId": "f2d52704-a14c-42cf-e336-f2c7c6ddd288"
   },
   "outputs": [
    {
     "name": "stdout",
     "output_type": "stream",
     "text": [
      "3   5   2\n"
     ]
    }
   ],
   "source": [
    "### print()\n",
    "### input() : 사용자 입력\n",
    "### type() : str, int, float, dict, list\n",
    "### print(______, sep=\" \")\n",
    "print(3,5,2, sep='   ', end='\\n')"
   ]
  },
  {
   "cell_type": "code",
   "execution_count": null,
   "metadata": {
    "colab": {
     "base_uri": "https://localhost:8080/"
    },
    "id": "hylTQ7Olawrt",
    "outputId": "4d28bb9a-a2b0-4182-de3e-78c82d45016d"
   },
   "outputs": [
    {
     "name": "stdout",
     "output_type": "stream",
     "text": [
      "1\n",
      "3\n",
      "2\n"
     ]
    }
   ],
   "source": [
    "print(1)\n",
    "print(3)\n",
    "print(2)"
   ]
  },
  {
   "cell_type": "code",
   "execution_count": null,
   "metadata": {
    "colab": {
     "base_uri": "https://localhost:8080/"
    },
    "id": "K8EUm0f3bPq3",
    "outputId": "9a76a1e1-d2df-4553-8c54-2dbbed893b0c"
   },
   "outputs": [
    {
     "name": "stdout",
     "output_type": "stream",
     "text": [
      "1 3 2  "
     ]
    }
   ],
   "source": [
    "print(1, end=\" \")\n",
    "print(3, end=\" \")\n",
    "print(2, end=\"  \")"
   ]
  },
  {
   "cell_type": "markdown",
   "metadata": {
    "id": "EaA2s2Robrar"
   },
   "source": [
    "### 연산자\n",
    " * +, -, /, *, //, %, \n",
    " * 2**5\n",
    " "
   ]
  },
  {
   "cell_type": "code",
   "execution_count": null,
   "metadata": {
    "colab": {
     "base_uri": "https://localhost:8080/"
    },
    "id": "Qe5DucvWcDjv",
    "outputId": "46a0fcb1-744a-482b-e876-bb3d3e1812a2"
   },
   "outputs": [
    {
     "name": "stdout",
     "output_type": "stream",
     "text": [
      "32\n"
     ]
    }
   ],
   "source": [
    "print(2**5)"
   ]
  },
  {
   "cell_type": "markdown",
   "metadata": {
    "id": "WN94pQ07cGNz"
   },
   "source": [
    "### 비교 연산자"
   ]
  },
  {
   "cell_type": "markdown",
   "metadata": {
    "id": "oSfsEiKScKCl"
   },
   "source": [
    "* == : 같다.\n",
    "* != : 다르다.\n",
    "* \\>= : 크거나 같다.\n",
    "* <= : 작거나 같다."
   ]
  },
  {
   "cell_type": "code",
   "execution_count": null,
   "metadata": {
    "colab": {
     "base_uri": "https://localhost:8080/",
     "height": 136
    },
    "id": "x26_sEE3ccXe",
    "outputId": "7af1bad1-ef1a-4568-d709-df081fca659d"
   },
   "outputs": [
    {
     "ename": "SyntaxError",
     "evalue": "ignored",
     "output_type": "error",
     "traceback": [
      "\u001b[0;36m  File \u001b[0;32m\"<ipython-input-30-6e3adc349418>\"\u001b[0;36m, line \u001b[0;32m1\u001b[0m\n\u001b[0;31m    3 => 5\u001b[0m\n\u001b[0m       ^\u001b[0m\n\u001b[0;31mSyntaxError\u001b[0m\u001b[0;31m:\u001b[0m invalid syntax\n"
     ]
    }
   ],
   "source": [
    "3 => 5"
   ]
  },
  {
   "cell_type": "code",
   "execution_count": null,
   "metadata": {
    "colab": {
     "base_uri": "https://localhost:8080/"
    },
    "id": "b3rURIBXclGc",
    "outputId": "777fbf1e-904e-4433-e98f-7f79a4c34808"
   },
   "outputs": [
    {
     "data": {
      "text/plain": [
       "True"
      ]
     },
     "execution_count": 31,
     "metadata": {},
     "output_type": "execute_result"
    }
   ],
   "source": [
    "1 == 1"
   ]
  },
  {
   "cell_type": "code",
   "execution_count": null,
   "metadata": {
    "colab": {
     "base_uri": "https://localhost:8080/"
    },
    "id": "8WWI2xlvcrxc",
    "outputId": "a3d9887c-4d00-451e-987b-367a6d95fc37"
   },
   "outputs": [
    {
     "data": {
      "text/plain": [
       "False"
      ]
     },
     "execution_count": 32,
     "metadata": {},
     "output_type": "execute_result"
    }
   ],
   "source": [
    "1 != 1"
   ]
  },
  {
   "cell_type": "code",
   "execution_count": null,
   "metadata": {
    "colab": {
     "base_uri": "https://localhost:8080/"
    },
    "id": "3kmDY5wAcySm",
    "outputId": "84d3acb1-eaa0-4531-dfa1-790808551475"
   },
   "outputs": [
    {
     "data": {
      "text/plain": [
       "bool"
      ]
     },
     "execution_count": 33,
     "metadata": {},
     "output_type": "execute_result"
    }
   ],
   "source": [
    "# True, False - \n",
    "type(True)"
   ]
  },
  {
   "cell_type": "code",
   "execution_count": null,
   "metadata": {
    "colab": {
     "base_uri": "https://localhost:8080/",
     "height": 173
    },
    "id": "8FNQ-NLec_bv",
    "outputId": "797be808-62d4-431b-97a2-aaed188d6b84"
   },
   "outputs": [
    {
     "ename": "NameError",
     "evalue": "ignored",
     "output_type": "error",
     "traceback": [
      "\u001b[0;31m---------------------------------------------------------------------------\u001b[0m",
      "\u001b[0;31mNameError\u001b[0m                                 Traceback (most recent call last)",
      "\u001b[0;32m<ipython-input-34-6f4d8242c3d0>\u001b[0m in \u001b[0;36m<module>\u001b[0;34m()\u001b[0m\n\u001b[0;32m----> 1\u001b[0;31m \u001b[0mtype\u001b[0m\u001b[0;34m(\u001b[0m\u001b[0mtrue\u001b[0m\u001b[0;34m)\u001b[0m\u001b[0;34m\u001b[0m\u001b[0;34m\u001b[0m\u001b[0m\n\u001b[0m",
      "\u001b[0;31mNameError\u001b[0m: name 'true' is not defined"
     ]
    }
   ],
   "source": [
    "type(true)"
   ]
  },
  {
   "cell_type": "code",
   "execution_count": null,
   "metadata": {
    "id": "DTZMuDbEd3E5"
   },
   "outputs": [],
   "source": []
  },
  {
   "cell_type": "code",
   "execution_count": null,
   "metadata": {
    "colab": {
     "base_uri": "https://localhost:8080/"
    },
    "id": "PTm6Ly9HdL8M",
    "outputId": "496db929-46db-40ee-dbe2-dda14a18f994"
   },
   "outputs": [
    {
     "name": "stdout",
     "output_type": "stream",
     "text": [
      "a\n",
      "False\n"
     ]
    }
   ],
   "source": [
    "### 연산자\n",
    "### 비교연산자\n",
    "### and, or, not\n",
    "### A and B  : \n",
    "###   A 또는 B가 False -> False\n",
    "###   A 와 B가 둘다 True -> True\n",
    "### A or B : \n",
    "###   A 또는 B가 둘중 하나라도 True => True\n",
    "### not A : True 이면 False, False이면 True\n",
    "\n",
    "print( 10 and 'a' )\n",
    "print(not True)  # False"
   ]
  },
  {
   "cell_type": "code",
   "execution_count": null,
   "metadata": {
    "colab": {
     "base_uri": "https://localhost:8080/"
    },
    "id": "FpY9AOI8d42g",
    "outputId": "43f173fd-38b3-4801-96f5-b53e9dc88367"
   },
   "outputs": [
    {
     "name": "stdout",
     "output_type": "stream",
     "text": [
      "True\n",
      "False\n",
      "True\n",
      "False\n",
      "True\n"
     ]
    }
   ],
   "source": [
    "print(True and True)\n",
    "print(True and False)\n",
    "print(True or True)\n",
    "print(False or False)\n",
    "print(1==1 and 1>0)"
   ]
  },
  {
   "cell_type": "code",
   "execution_count": null,
   "metadata": {
    "colab": {
     "base_uri": "https://localhost:8080/"
    },
    "id": "5jt3JzKSd8PE",
    "outputId": "fd5f3fe3-9637-4131-dfc1-e8d9cfac9644"
   },
   "outputs": [
    {
     "name": "stdout",
     "output_type": "stream",
     "text": [
      "True\n"
     ]
    }
   ],
   "source": [
    "if (10 and 'a'):\n",
    "  print(\"True\")\n",
    "else:\n",
    "  print(\"False\")"
   ]
  },
  {
   "cell_type": "code",
   "execution_count": null,
   "metadata": {
    "id": "vVR0dLYzeHdI"
   },
   "outputs": [],
   "source": [
    "# 0 : False\n",
    "# 0이외의 모든 값은 : True"
   ]
  },
  {
   "cell_type": "code",
   "execution_count": null,
   "metadata": {
    "colab": {
     "base_uri": "https://localhost:8080/"
    },
    "id": "UIn8n-B8eS-F",
    "outputId": "fc4c15a8-24f5-4df2-a122-8b4457d7bbef"
   },
   "outputs": [
    {
     "name": "stdout",
     "output_type": "stream",
     "text": [
      "3\n"
     ]
    }
   ],
   "source": [
    "### .ipynb : \n",
    "### .py : \n",
    "print(3)"
   ]
  },
  {
   "cell_type": "code",
   "execution_count": null,
   "metadata": {
    "id": "EKw0MB05f1NF"
   },
   "outputs": [],
   "source": [
    "### 15일은 여성이면서 18살 이상 출입 가능\n",
    "### 30일은 남성이면서 18살 이상 출입 가능\n",
    "### 놀이공원\n",
    "\n",
    "### 여성인지 남성인지 입력\n",
    "### 18살이상인 입력.\n",
    "### 오늘 날짜 입력 받기.\n",
    "### 출력\n"
   ]
  },
  {
   "cell_type": "code",
   "execution_count": null,
   "metadata": {
    "colab": {
     "base_uri": "https://localhost:8080/"
    },
    "id": "O0xUcay1g8m7",
    "outputId": "b1c8e623-5532-4f22-a958-fb54c4e1ff6c"
   },
   "outputs": [
    {
     "data": {
      "text/plain": [
       "True"
      ]
     },
     "execution_count": 48,
     "metadata": {},
     "output_type": "execute_result"
    }
   ],
   "source": [
    "today = 15\n",
    "mygender = 'female'\n",
    "age = 19\n",
    "(  (mygender=='female') and (age>=18) ) and (today==15)"
   ]
  },
  {
   "cell_type": "code",
   "execution_count": null,
   "metadata": {
    "id": "wzAF6_-GhUv_"
   },
   "outputs": [],
   "source": [
    "### print() : 출력함수\n",
    "### input()\n",
    "### 연산자, 비교연산자, and, or, not\n",
    "### str(), int(), float(), list(), dict(), set()"
   ]
  },
  {
   "cell_type": "markdown",
   "metadata": {
    "id": "yzHgFVAth7rY"
   },
   "source": [
    "```\n",
    "if (조건문):\n",
    "[들여쓰기]실행문1  \n",
    "[들여쓰기]실행문2\n",
    "\n",
    "if (조건문):\n",
    "   실행문1  \n",
    "   실행문2\n",
    "else:\n",
    "   실행문1  \n",
    "   실행문2\n",
    "\n",
    "if (score>=90):\n",
    "   print(\"A\")\n",
    "elif (score>=80):\n",
    "   print(\"B\")\n",
    "```"
   ]
  },
  {
   "cell_type": "code",
   "execution_count": null,
   "metadata": {
    "colab": {
     "base_uri": "https://localhost:8080/"
    },
    "id": "lcluoHzdjF_b",
    "outputId": "58333f86-4e35-478a-8a3a-637cd1a43045"
   },
   "outputs": [
    {
     "name": "stdout",
     "output_type": "stream",
     "text": [
      "점수는 :50\n",
      "F\n"
     ]
    }
   ],
   "source": [
    "score = int(input(\"점수는 :\"))\n",
    "\n",
    "if score >= 90:\n",
    "  print(\"A\")\n",
    "elif score >=80:\n",
    "  print(\"B\")\n",
    "elif score >=70:\n",
    "  print(\"C\")\n",
    "elif score >=60:\n",
    "  print(\"D\")\n",
    "else:\n",
    "  print(\"F\")\n"
   ]
  },
  {
   "cell_type": "code",
   "execution_count": null,
   "metadata": {
    "colab": {
     "base_uri": "https://localhost:8080/",
     "height": 35
    },
    "id": "HHm0XHUcj5lU",
    "outputId": "5ee7de24-9463-4d9c-dc47-e72aa51c0f4b"
   },
   "outputs": [
    {
     "data": {
      "application/vnd.google.colaboratory.intrinsic+json": {
       "type": "string"
      },
      "text/plain": [
       "'Python'"
      ]
     },
     "execution_count": 53,
     "metadata": {},
     "output_type": "execute_result"
    }
   ],
   "source": [
    "True and 'Python'"
   ]
  },
  {
   "cell_type": "code",
   "execution_count": null,
   "metadata": {
    "colab": {
     "base_uri": "https://localhost:8080/",
     "height": 35
    },
    "id": "SRfeO6Hrkq0J",
    "outputId": "b5617bc9-f5d5-4843-8d30-3a2bd429f96f"
   },
   "outputs": [
    {
     "data": {
      "application/vnd.google.colaboratory.intrinsic+json": {
       "type": "string"
      },
      "text/plain": [
       "'a'"
      ]
     },
     "execution_count": 59,
     "metadata": {},
     "output_type": "execute_result"
    }
   ],
   "source": [
    "'Python' and 'a'"
   ]
  },
  {
   "cell_type": "code",
   "execution_count": null,
   "metadata": {
    "colab": {
     "base_uri": "https://localhost:8080/"
    },
    "id": "8NnG7dAQkt5e",
    "outputId": "0df56bb6-3d3f-4887-9c68-2c872f664a9d"
   },
   "outputs": [
    {
     "name": "stdout",
     "output_type": "stream",
     "text": [
      "0\n",
      "10\n"
     ]
    }
   ],
   "source": [
    "print(0 and 'a')\n",
    "print('a' and 10)"
   ]
  },
  {
   "cell_type": "code",
   "execution_count": null,
   "metadata": {
    "colab": {
     "base_uri": "https://localhost:8080/"
    },
    "id": "B7c8z49dk95d",
    "outputId": "9769d22d-e59d-442f-9c7e-63bfd9b62088"
   },
   "outputs": [
    {
     "name": "stdout",
     "output_type": "stream",
     "text": [
      "a\n"
     ]
    }
   ],
   "source": [
    "print('a' or 0)"
   ]
  },
  {
   "cell_type": "code",
   "execution_count": null,
   "metadata": {
    "id": "bbMcx5NllQc7"
   },
   "outputs": [],
   "source": []
  }
 ],
 "metadata": {
  "colab": {
   "name": "20210827_class.ipynb",
   "provenance": []
  },
  "kernelspec": {
   "display_name": "Python 3",
   "language": "python",
   "name": "python3"
  },
  "language_info": {
   "codemirror_mode": {
    "name": "ipython",
    "version": 3
   },
   "file_extension": ".py",
   "mimetype": "text/x-python",
   "name": "python",
   "nbconvert_exporter": "python",
   "pygments_lexer": "ipython3",
   "version": "3.8.8"
  }
 },
 "nbformat": 4,
 "nbformat_minor": 1
}
