{
 "cells": [
  {
   "cell_type": "markdown",
   "id": "d0908b0f",
   "metadata": {
    "id": "40yvu0GFUUUa"
   },
   "source": [
    "### 자료형\n",
    " * int : 정수형\n",
    " * float : 실수형\n",
    " * str : 문자열\n",
    " * set : 집합\n",
    " * dict : 딕셔너리(사전)\n",
    " * list : 리스트\n"
   ]
  },
  {
   "cell_type": "markdown",
   "id": "bb3422b6",
   "metadata": {},
   "source": [
    "### print함수 설명"
   ]
  },
  {
   "cell_type": "code",
   "execution_count": 11,
   "id": "df0f8d16",
   "metadata": {},
   "outputs": [],
   "source": [
    "age = 20"
   ]
  },
  {
   "cell_type": "code",
   "execution_count": 15,
   "id": "7f753e6c",
   "metadata": {},
   "outputs": [
    {
     "name": "stdout",
     "output_type": "stream",
     "text": [
      "A 20 B\n"
     ]
    }
   ],
   "source": [
    "print('A', age, 'B')"
   ]
  },
  {
   "cell_type": "code",
   "execution_count": null,
   "id": "a4087818",
   "metadata": {},
   "outputs": [],
   "source": []
  },
  {
   "cell_type": "code",
   "execution_count": 16,
   "id": "b121936e",
   "metadata": {},
   "outputs": [
    {
     "name": "stdout",
     "output_type": "stream",
     "text": [
      "A 20 B\n",
      "A 20 B\n",
      "A20B\n",
      "A20B\n",
      "\n",
      "A 20 BA 20 B\n"
     ]
    }
   ],
   "source": [
    "age = 20\n",
    "print(\"A\", age, \"B\")\n",
    "print(\"A\", age, \"B\", sep=\" \") # sep : ,에 대한 설정. 기본은 \" \".\n",
    "print(\"A\", age, \"B\", sep=\"\")\n",
    "print('A' '20' 'B')\n",
    "print()\n",
    "print(\"A\", age, \"B\", sep=\" \", end=\"\") # end : 문장 끝에 대한 설정. 기본은 /n(한줄 띄기).\n",
    "print(\"A\", age, \"B\", sep=\" \")\n",
    "# sep, end는 옵션."
   ]
  },
  {
   "cell_type": "markdown",
   "id": "4b622e9a",
   "metadata": {
    "id": "EaA2s2Robrar"
   },
   "source": [
    "### 연산자\n",
    " * +, -, /, *, //(몫), %(나머지), **(제곱)"
   ]
  },
  {
   "cell_type": "markdown",
   "id": "6c112d7c",
   "metadata": {
    "id": "WN94pQ07cGNz"
   },
   "source": [
    "### 비교 연산자\n",
    "* == : 같다.\n",
    "* != : 다르다.\n",
    "* \\>= : 크거나 같다.\n",
    "* <= : 작거나 같다."
   ]
  },
  {
   "cell_type": "markdown",
   "id": "50de0545",
   "metadata": {},
   "source": [
    "### 조건문\n",
    "* if 조건문:\n",
    "* bool 자료형(True, False 출력)"
   ]
  },
  {
   "cell_type": "code",
   "execution_count": 4,
   "id": "5d98982c",
   "metadata": {},
   "outputs": [
    {
     "data": {
      "text/plain": [
       "bool"
      ]
     },
     "execution_count": 4,
     "metadata": {},
     "output_type": "execute_result"
    }
   ],
   "source": [
    "type(True)"
   ]
  },
  {
   "cell_type": "code",
   "execution_count": 26,
   "id": "cb34252b",
   "metadata": {},
   "outputs": [
    {
     "name": "stdout",
     "output_type": "stream",
     "text": [
      "False\n"
     ]
    }
   ],
   "source": [
    "# '0'은 False, '0'이 아닌 값은 모두 True이다.\n",
    "if 10 and 0: # True and False => False\n",
    "    print(\"True\")\n",
    "else:\n",
    "    print(\"False\")"
   ]
  },
  {
   "cell_type": "code",
   "execution_count": 2,
   "id": "39aefa10",
   "metadata": {},
   "outputs": [
    {
     "name": "stdout",
     "output_type": "stream",
     "text": [
      "a\n"
     ]
    }
   ],
   "source": [
    "print(10 and \"a\") # True면 마지막 문장 출력"
   ]
  },
  {
   "cell_type": "markdown",
   "id": "916d9971",
   "metadata": {},
   "source": [
    "* 연산자\n",
    "* 비교연산자\n",
    "* and, or, not\n",
    "* A and B  : \n",
    "    * A 또는 B가 False -> False\n",
    "    * A 와 B가 둘다 True -> True\n",
    "* A or B : \n",
    "    * A 또는 B가 둘중 하나라도 True => True\n",
    "* not A : True 이면 False, False이면 True"
   ]
  },
  {
   "cell_type": "code",
   "execution_count": 29,
   "id": "91f53ef5",
   "metadata": {},
   "outputs": [
    {
     "name": "stdout",
     "output_type": "stream",
     "text": [
      "123\n"
     ]
    }
   ],
   "source": [
    "a = int(input('숫자를 입력하세요'))\n",
    "print(a)"
   ]
  },
  {
   "cell_type": "code",
   "execution_count": 30,
   "id": "7b1543fc",
   "metadata": {},
   "outputs": [
    {
     "data": {
      "text/plain": [
       "int"
      ]
     },
     "execution_count": 30,
     "metadata": {},
     "output_type": "execute_result"
    }
   ],
   "source": [
    "type(a)"
   ]
  },
  {
   "cell_type": "code",
   "execution_count": 35,
   "id": "151dafc1",
   "metadata": {},
   "outputs": [
    {
     "ename": "ValueError",
     "evalue": "invalid literal for int() with base 10: 'ㅁㄴㅇㄹ'",
     "output_type": "error",
     "traceback": [
      "\u001b[1;31m---------------------------------------------------------------------------\u001b[0m",
      "\u001b[1;31mValueError\u001b[0m                                Traceback (most recent call last)",
      "\u001b[1;32mc:\\Users\\kbjoo\\Documents\\Google_Drive\\GitHub\\Study\\Crawling\\01_python\\class01.ipynb Cell 16'\u001b[0m in \u001b[0;36m<cell line: 1>\u001b[1;34m()\u001b[0m\n\u001b[1;32m----> <a href='vscode-notebook-cell:/c%3A/Users/kbjoo/Documents/Google_Drive/GitHub/Study/Crawling/01_python/class01.ipynb#ch0000037?line=0'>1</a>\u001b[0m v \u001b[39m=\u001b[39m \u001b[39mint\u001b[39;49m(\u001b[39minput\u001b[39;49m(\u001b[39m'\u001b[39;49m\u001b[39m속도를 숫자로 입력해주세요 : \u001b[39;49m\u001b[39m'\u001b[39;49m))\n\u001b[0;32m      <a href='vscode-notebook-cell:/c%3A/Users/kbjoo/Documents/Google_Drive/GitHub/Study/Crawling/01_python/class01.ipynb#ch0000037?line=1'>2</a>\u001b[0m \u001b[39mif\u001b[39;00m v \u001b[39m>\u001b[39m\u001b[39m=\u001b[39m\u001b[39m60\u001b[39m:\n\u001b[0;32m      <a href='vscode-notebook-cell:/c%3A/Users/kbjoo/Documents/Google_Drive/GitHub/Study/Crawling/01_python/class01.ipynb#ch0000037?line=2'>3</a>\u001b[0m     \u001b[39mprint\u001b[39m(\u001b[39m'\u001b[39m\u001b[39m빠름\u001b[39m\u001b[39m'\u001b[39m)\n",
      "\u001b[1;31mValueError\u001b[0m: invalid literal for int() with base 10: 'ㅁㄴㅇㄹ'"
     ]
    }
   ],
   "source": [
    "v = int(input('속도를 숫자로 입력해주세요 : '))\n",
    "if v >=60:\n",
    "    print('빠름')\n",
    "elif 60 > v >=40:\n",
    "    print('보통')\n",
    "elif 40 > v >=20:\n",
    "    print('느림')\n",
    "else:\n",
    "    print('멈춤')"
   ]
  }
 ],
 "metadata": {
  "interpreter": {
   "hash": "569b4317022eb29baeafb3d0f1f739310808ea28ce83ca127a35db1c01070585"
  },
  "kernelspec": {
   "display_name": "Python 3.9.12 ('base')",
   "language": "python",
   "name": "python3"
  },
  "language_info": {
   "codemirror_mode": {
    "name": "ipython",
    "version": 3
   },
   "file_extension": ".py",
   "mimetype": "text/x-python",
   "name": "python",
   "nbconvert_exporter": "python",
   "pygments_lexer": "ipython3",
   "version": "3.9.12"
  }
 },
 "nbformat": 4,
 "nbformat_minor": 5
}
