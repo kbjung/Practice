{
 "cells": [
  {
   "cell_type": "code",
   "execution_count": 1,
   "metadata": {},
   "outputs": [],
   "source": [
    "from urllib.request import urlopen\n",
    "from bs4 import BeautifulSoup"
   ]
  },
  {
   "cell_type": "code",
   "execution_count": null,
   "metadata": {},
   "outputs": [],
   "source": [
    "## 01 우리가 가져올 URL\n",
    "## 02 원하는 정보의 위치(span id)\n",
    "## url : https://finance.naver.com/sise/\n",
    "## tag : span, id : KOSPI_now"
   ]
  },
  {
   "cell_type": "code",
   "execution_count": 2,
   "metadata": {},
   "outputs": [
    {
     "name": "stdout",
     "output_type": "stream",
     "text": [
      "<http.client.HTTPResponse object at 0x000001A921C98160>\n"
     ]
    }
   ],
   "source": [
    "## html 코드를 요청해서 가져온다.\n",
    "url = \"https://finance.naver.com/sise/\"\n",
    "page = urlopen(url)\n",
    "print(page)"
   ]
  },
  {
   "cell_type": "code",
   "execution_count": 3,
   "metadata": {},
   "outputs": [
    {
     "name": "stdout",
     "output_type": "stream",
     "text": [
      "코스피 현재 지수 : 2,867.38\n"
     ]
    }
   ],
   "source": [
    "## 구체적인 html 확인하고, 구조화\n",
    "soup = BeautifulSoup(page, \"html.parser\")\n",
    "KOSPI = soup.find(\"span\", id=\"KOSPI_now\")\n",
    "print(\"코스피 현재 지수 :\", KOSPI.text)"
   ]
  },
  {
   "cell_type": "code",
   "execution_count": 4,
   "metadata": {},
   "outputs": [
    {
     "name": "stdout",
     "output_type": "stream",
     "text": [
      "코스닥 현재 지수 : 860.42\n"
     ]
    }
   ],
   "source": [
    "# 6-3 (추가) 코스닥 지수, KOSPI200 지수 가져오기\n",
    "## 코스닥, KOSPI200지수 가져오기\n",
    "KOSDAQ = soup.find(\"span\", id=\"KOSDAQ_now\")\n",
    "print(\"코스닥 현재 지수 :\", KOSDAQ.text)"
   ]
  },
  {
   "cell_type": "code",
   "execution_count": 5,
   "metadata": {},
   "outputs": [
    {
     "name": "stdout",
     "output_type": "stream",
     "text": [
      "KOSPI200 현재 지수 : 395.79\n"
     ]
    }
   ],
   "source": [
    "## KOSPI200지수 가져오기\n",
    "KPI200 = soup.find(\"span\", id=\"KPI200_now\")\n",
    "print(\"KOSPI200 현재 지수 :\", KPI200.text)"
   ]
  },
  {
   "cell_type": "code",
   "execution_count": 9,
   "metadata": {},
   "outputs": [
    {
     "name": "stdout",
     "output_type": "stream",
     "text": [
      "[<span class=\"up\">87,800</span>, <span class=\"blind\">상승</span>, <span class=\"up\">95,100</span>, <span class=\"blind\">상승</span>, <span class=\"up\">22,250</span>, <span class=\"blind\">상승</span>, <span class=\"up\">2,825</span>, <span class=\"blind\">상승</span>, <span class=\"up\">14,670</span>, <span class=\"blind\">상한가</span>, <span class=\"up\">238,500</span>, <span class=\"blind\">상승</span>, <span class=\"up\">4,550</span>, <span class=\"blind\">상승</span>, <span class=\"up\">187,200</span>, <span class=\"blind\">상승</span>, <span class=\"dn\">274,500</span>, <span class=\"blind\">하락</span>, <span class=\"up\">19,120</span>, <span class=\"blind\">상승</span>]\n"
     ]
    }
   ],
   "source": [
    "# 6-3 (추가) 인기 검색 종목과 가격 가져오기\n",
    "fav = soup.find(\"ul\", id=\"popularItemList\")\n",
    "name = fav.find_all(\"a\")\n",
    "num = fav.find_all(\"span\")\n",
    "print(num)"
   ]
  },
  {
   "cell_type": "code",
   "execution_count": 16,
   "metadata": {},
   "outputs": [
    {
     "name": "stdout",
     "output_type": "stream",
     "text": [
      "삼성전자 87,800 상승\n",
      "HLB 95,100 상승\n",
      "두산에너빌리티 22,250 상승\n"
     ]
    }
   ],
   "source": [
    "print(name[0].text, num[0].text, num[1].text)\n",
    "print(name[1].text, num[2].text, num[3].text)\n",
    "print(name[2].text, num[4].text, num[5].text)"
   ]
  },
  {
   "cell_type": "code",
   "execution_count": 19,
   "metadata": {},
   "outputs": [
    {
     "name": "stdout",
     "output_type": "stream",
     "text": [
      "1위 : 삼성전자 87,800원 상승\n",
      "2위 : HLB 95,100원 상승\n",
      "3위 : 두산에너빌리티 22,250원 상승\n",
      "4위 : 우리기술 2,825원 상승\n",
      "5위 : 한전산업 14,670원 상한가\n",
      "6위 : SK하이닉스 238,500원 상승\n",
      "7위 : HB테크놀러지 4,550원 상승\n",
      "8위 : 셀트리온 187,200원 상승\n",
      "9위 : 현대차 274,500원 하락\n",
      "10위 : 한화시스템 19,120원 상승\n"
     ]
    }
   ],
   "source": [
    "rank = 0\n",
    "for i in range(10):\n",
    "\trank += 1\n",
    "\tprint(rank, \"위 : \", name[i].text, ' ', num[i*2].text, \"원 \", num[i*2+1].text, sep='')"
   ]
  },
  {
   "cell_type": "code",
   "execution_count": 8,
   "metadata": {},
   "outputs": [
    {
     "name": "stdout",
     "output_type": "stream",
     "text": [
      "삼성전자\n",
      "HLB\n",
      "두산에너빌리티\n",
      "우리기술\n",
      "한전산업\n",
      "SK하이닉스\n",
      "HB테크놀러지\n",
      "셀트리온\n",
      "현대차\n",
      "한화시스템\n",
      "87,800\n",
      "상승\n",
      "95,100\n",
      "상승\n",
      "22,250\n",
      "상승\n",
      "2,825\n",
      "상승\n",
      "14,670\n",
      "상한가\n",
      "238,500\n",
      "상승\n",
      "4,550\n",
      "상승\n",
      "187,200\n",
      "상승\n",
      "274,500\n",
      "하락\n",
      "19,120\n",
      "상승\n"
     ]
    }
   ],
   "source": [
    "# 6-3 (추가) 인기 검색 종목과 가격 가져오기(해설)\n",
    "data = soup.find(\"ul\", class_=\"lst_pop\")\n",
    "dat_all = data.find_all(\"a\")\n",
    "value_all = data.find_all(\"span\")\n",
    "\n",
    "for one in dat_all:\n",
    "\tprint(one.text)\n",
    "\n",
    "for one in value_all:\n",
    "\tprint(one.text)"
   ]
  }
 ],
 "metadata": {
  "interpreter": {
   "hash": "569b4317022eb29baeafb3d0f1f739310808ea28ce83ca127a35db1c01070585"
  },
  "kernelspec": {
   "display_name": "Python 3.9.12 ('base')",
   "language": "python",
   "name": "python3"
  },
  "language_info": {
   "codemirror_mode": {
    "name": "ipython",
    "version": 3
   },
   "file_extension": ".py",
   "mimetype": "text/x-python",
   "name": "python",
   "nbconvert_exporter": "python",
   "pygments_lexer": "ipython3",
   "version": "3.9.12"
  },
  "orig_nbformat": 4
 },
 "nbformat": 4,
 "nbformat_minor": 2
}
