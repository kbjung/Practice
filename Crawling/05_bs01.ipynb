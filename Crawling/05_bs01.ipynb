{
 "cells": [
  {
   "cell_type": "code",
   "execution_count": null,
   "metadata": {},
   "outputs": [],
   "source": [
    "from bs4 import BeautifulSoup"
   ]
  },
  {
   "cell_type": "code",
   "execution_count": null,
   "metadata": {},
   "outputs": [],
   "source": [
    "page1 = '''\n",
    "<html>\n",
    "<title>나의 홈페이지</title>\n",
    "<body>\n",
    "\n",
    "<div>\n",
    "    \n",
    "</div>\n",
    "\n",
    "<div>\n",
    "    \n",
    "</div>\n",
    "\n",
    "<div>\n",
    "    <a href=\"https://www.naver.com/\">naver</a>\n",
    "    <a href=\"https://www.google.com\">google</a>\n",
    "    <p class=\"p3\"> [영역1] 필요없는 정보1 </p>\n",
    "    <p class=\"p3\"> [영역1] 필요없는 정보3 </p>\n",
    "    <p id=\"p4\"> [영역1] 필요없는 정보2 </p>\n",
    "</div>\n",
    "<div>\n",
    "    <a href=\"https://www.naver.com/\">naver</a>\n",
    "    <a href=\"https://www.google.com\">google</a>\n",
    "    <p class=\"p3\"> [영역2] 강아지 사진과 네이버 링크 </p>\n",
    "    <p class=\"p3\"> [영역2] 강아지 사진과 네이버 링크222 </p>\n",
    "    <p id=\"p4\"> [영역2] 간단한 나의 홈페이지를 만들다.</p>\n",
    "</div>\n",
    "</body>\n",
    "</html>\n",
    "'''"
   ]
  },
  {
   "cell_type": "code",
   "execution_count": null,
   "metadata": {},
   "outputs": [],
   "source": [
    "#\n",
    "soup1 = BeautifulSoup(page1, 'lxml')\n",
    "# print( soup1.title )"
   ]
  },
  {
   "cell_type": "code",
   "execution_count": null,
   "metadata": {},
   "outputs": [],
   "source": [
    "#\n",
    "# one_info = soup1.find_all(\"div\")\n",
    "# print(len(one_info))\n",
    "# print(one_info[3])"
   ]
  },
  {
   "cell_type": "code",
   "execution_count": null,
   "metadata": {},
   "outputs": [],
   "source": [
    "# wanted_info = soup1.find_all('div')[3]\n",
    "# print(wanted_info)\n",
    "# last_info_multi = wanted_info.find_all('p', class_=\"p3\")\n",
    "# print(last_info_multi)\n",
    "#\n",
    "# for one in last_info_multi:\n",
    "# \tprint(one.text)"
   ]
  },
  {
   "cell_type": "code",
   "execution_count": null,
   "metadata": {},
   "outputs": [],
   "source": [
    "# 3-3 (추가) 아래 정보 가져오기\n",
    "#     <p class=\"p3\"> [영역1] 필요없는 정보1 </p>\n",
    "#     <p class=\"p3\"> [영역1] 필요없는 정보3 </p>"
   ]
  },
  {
   "cell_type": "code",
   "execution_count": null,
   "metadata": {},
   "outputs": [],
   "source": [
    "# sol.\n",
    "wanted_info = soup1.find_all('div')[2]\n",
    "print(wanted_info)\n",
    "last_info_multi = wanted_info.find_all('p', class_=\"p3\")\n",
    "print(last_info_multi)"
   ]
  },
  {
   "cell_type": "code",
   "execution_count": null,
   "metadata": {},
   "outputs": [],
   "source": [
    "for one in last_info_multi:\n",
    "\tprint(one.text)"
   ]
  },
  {
   "cell_type": "code",
   "execution_count": null,
   "metadata": {},
   "outputs": [],
   "source": [
    "# 3-3 (추가) 이를 우리가 원하는 리스트에 담아보기 - 댓글 달기"
   ]
  },
  {
   "cell_type": "code",
   "execution_count": null,
   "metadata": {},
   "outputs": [],
   "source": [
    "# # my sol1.\n",
    "# div2 = soup1.find_all('div')[2]\n",
    "# want_div2 = div2.find_all(class_=\"p3\")\n",
    "# list1 = []\n",
    "# for i in want_div2:\n",
    "# \tlist1.append(i.text)\n",
    "# print(list1)"
   ]
  },
  {
   "cell_type": "code",
   "execution_count": null,
   "metadata": {},
   "outputs": [],
   "source": [
    "# sol.\n",
    "a = []\n",
    "for one in last_info_multi:\n",
    "\ta.append(one.text)"
   ]
  },
  {
   "cell_type": "code",
   "execution_count": null,
   "metadata": {},
   "outputs": [],
   "source": [
    "# children : 자기자신의 태그 제외하고 나머지 태그 리스트 형태로 가져온다.\n",
    "wanted_info = soup1.find_all('div')[2]\n",
    "print(wanted_info.children) # div 태그의 한 단계 낮은 태그들을 리스트로 모음.\n",
    "print(list(wanted_info.children)[9])"
   ]
  },
  {
   "cell_type": "code",
   "execution_count": null,
   "metadata": {},
   "outputs": [],
   "source": []
  }
 ],
 "metadata": {
  "language_info": {
   "name": "python"
  },
  "orig_nbformat": 4
 },
 "nbformat": 4,
 "nbformat_minor": 2
}
