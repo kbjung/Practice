{
 "cells": [
  {
   "cell_type": "code",
   "execution_count": 1,
   "id": "3f56e358",
   "metadata": {},
   "outputs": [],
   "source": [
    "import os"
   ]
  },
  {
   "cell_type": "code",
   "execution_count": 3,
   "id": "5fd2967b",
   "metadata": {},
   "outputs": [
    {
     "data": {
      "text/plain": [
       "'D:\\\\Data\\\\문서\\\\GitHub\\\\LikeLion_13th_DataCourse\\\\codeclass\\\\2021.09.10'"
      ]
     },
     "execution_count": 3,
     "metadata": {},
     "output_type": "execute_result"
    }
   ],
   "source": [
    "### 작업 디렉토리\n",
    "os.getcwd()"
   ]
  },
  {
   "cell_type": "code",
   "execution_count": 84,
   "id": "a1377490",
   "metadata": {},
   "outputs": [
    {
     "name": "stdout",
     "output_type": "stream",
     "text": [
      "Requirement already satisfied: selenium in c:\\users\\kbjoo\\anaconda3\\lib\\site-packages (3.141.0)Note: you may need to restart the kernel to use updated packages.\n",
      "\n",
      "Requirement already satisfied: urllib3 in c:\\users\\kbjoo\\anaconda3\\lib\\site-packages (from selenium) (1.26.4)\n"
     ]
    }
   ],
   "source": [
    "pip install selenium"
   ]
  },
  {
   "cell_type": "code",
   "execution_count": 23,
   "id": "9038ae95",
   "metadata": {},
   "outputs": [],
   "source": [
    "from selenium import webdriver\n",
    "from bs4 import BeautifulSoup"
   ]
  },
  {
   "cell_type": "code",
   "execution_count": 24,
   "id": "bd200a29",
   "metadata": {},
   "outputs": [],
   "source": [
    "import time\n",
    "\n",
    "url = 'https://pythonstart.github.io/web/'\n",
    "start = time.time()\n",
    "driver = webdriver.Chrome('chromedriver')\n",
    "driver.get(url)"
   ]
  },
  {
   "cell_type": "code",
   "execution_count": 25,
   "id": "220a1940",
   "metadata": {},
   "outputs": [
    {
     "data": {
      "text/plain": [
       "<selenium.webdriver.remote.webelement.WebElement (session=\"75cd7849c0481df9a0f65380ca2d630a\", element=\"88b9ebc8-7fee-49c5-a7d9-44bdef9b26ca\")>"
      ]
     },
     "execution_count": 25,
     "metadata": {},
     "output_type": "execute_result"
    }
   ],
   "source": [
    "a_tag = driver.find_element_by_tag_name(\"a\")\n",
    "a_tag"
   ]
  },
  {
   "cell_type": "code",
   "execution_count": 26,
   "id": "ce43da0f",
   "metadata": {},
   "outputs": [
    {
     "name": "stdout",
     "output_type": "stream",
     "text": [
      "01. 제목 가져오기(title)\n",
      "a\n"
     ]
    }
   ],
   "source": [
    "## 내용을 보고 싶다.\n",
    "print(a_tag.text)\n",
    "\n",
    "## 가져온 정보의 tag를 보고 싶다.\n",
    "print(a_tag.tag_name)"
   ]
  },
  {
   "cell_type": "code",
   "execution_count": 27,
   "id": "91d891bf",
   "metadata": {},
   "outputs": [],
   "source": [
    "## 클릭을 하고 싶다.\n",
    "a_tag.click()"
   ]
  },
  {
   "cell_type": "code",
   "execution_count": 28,
   "id": "ae0cffd2",
   "metadata": {},
   "outputs": [
    {
     "data": {
      "text/plain": [
       "<selenium.webdriver.remote.webelement.WebElement (session=\"75cd7849c0481df9a0f65380ca2d630a\", element=\"cdae8665-0407-4ae2-ae3d-4627f694fffd\")>"
      ]
     },
     "execution_count": 28,
     "metadata": {},
     "output_type": "execute_result"
    }
   ],
   "source": [
    "a_tag = driver.find_element_by_name(\"text_get\")\n",
    "a_tag"
   ]
  },
  {
   "cell_type": "code",
   "execution_count": 29,
   "id": "9cab19ec",
   "metadata": {},
   "outputs": [],
   "source": [
    "## 클릭을 하고 싶다.\n",
    "a_tag.click()"
   ]
  },
  {
   "cell_type": "code",
   "execution_count": 30,
   "id": "c6141beb",
   "metadata": {},
   "outputs": [
    {
     "data": {
      "text/plain": [
       "[<selenium.webdriver.remote.webelement.WebElement (session=\"75cd7849c0481df9a0f65380ca2d630a\", element=\"88b9ebc8-7fee-49c5-a7d9-44bdef9b26ca\")>,\n",
       " <selenium.webdriver.remote.webelement.WebElement (session=\"75cd7849c0481df9a0f65380ca2d630a\", element=\"cdae8665-0407-4ae2-ae3d-4627f694fffd\")>,\n",
       " <selenium.webdriver.remote.webelement.WebElement (session=\"75cd7849c0481df9a0f65380ca2d630a\", element=\"33c5409a-c57b-423a-905d-17f8caa31196\")>,\n",
       " <selenium.webdriver.remote.webelement.WebElement (session=\"75cd7849c0481df9a0f65380ca2d630a\", element=\"568577c0-dc0a-4590-ac15-cefefa78c191\")>,\n",
       " <selenium.webdriver.remote.webelement.WebElement (session=\"75cd7849c0481df9a0f65380ca2d630a\", element=\"2635b40a-c566-409f-8580-f61892fb6454\")>,\n",
       " <selenium.webdriver.remote.webelement.WebElement (session=\"75cd7849c0481df9a0f65380ca2d630a\", element=\"4a3e6092-5959-4662-b107-3ea87fb5a991\")>,\n",
       " <selenium.webdriver.remote.webelement.WebElement (session=\"75cd7849c0481df9a0f65380ca2d630a\", element=\"3f501434-7d74-4c81-b753-6007f719dea9\")>,\n",
       " <selenium.webdriver.remote.webelement.WebElement (session=\"75cd7849c0481df9a0f65380ca2d630a\", element=\"7febeffc-713c-44d8-b3c2-b0fe6f8e67fa\")>,\n",
       " <selenium.webdriver.remote.webelement.WebElement (session=\"75cd7849c0481df9a0f65380ca2d630a\", element=\"ffe6feeb-767e-4b26-b9ac-834d306dd6c5\")>,\n",
       " <selenium.webdriver.remote.webelement.WebElement (session=\"75cd7849c0481df9a0f65380ca2d630a\", element=\"a714b29c-ee30-43a7-9086-779e1621ffc8\")>]"
      ]
     },
     "execution_count": 30,
     "metadata": {},
     "output_type": "execute_result"
    }
   ],
   "source": [
    "all_tag = driver.find_elements_by_tag_name(\"a\")\n",
    "all_tag"
   ]
  },
  {
   "cell_type": "code",
   "execution_count": 31,
   "id": "7c971b2b",
   "metadata": {},
   "outputs": [
    {
     "name": "stdout",
     "output_type": "stream",
     "text": [
      "01. 제목 가져오기(title)\n",
      "02. 텍스트 가져오기(p)\n",
      "03. 링크 가져오기(a)\n",
      "04. 이미지 정보 가져오기(img)\n",
      "05. 리스트 정보 가져오기(ul,ol)\n",
      "06. id를 활용한 정보 획득\n",
      "07. class를 활용한 정보 획득\n",
      "08. 하나의 이미지 다운로드\n",
      "09. 여러개의 이미지 다운로드\n",
      "10. 랭킹 정보 가져오기(웹 크롤링)\n"
     ]
    }
   ],
   "source": [
    "for one in all_tag:\n",
    "    print(one.text)"
   ]
  },
  {
   "cell_type": "code",
   "execution_count": 36,
   "id": "83f681c7",
   "metadata": {},
   "outputs": [
    {
     "data": {
      "text/plain": [
       "'a714b29c-ee30-43a7-9086-779e1621ffc8'"
      ]
     },
     "execution_count": 36,
     "metadata": {},
     "output_type": "execute_result"
    }
   ],
   "source": [
    "all_tag = driver.find_elements_by_tag_name(\"a\")\n",
    "all_tag[9].id"
   ]
  },
  {
   "cell_type": "code",
   "execution_count": 37,
   "id": "dcbff005",
   "metadata": {},
   "outputs": [
    {
     "name": "stdout",
     "output_type": "stream",
     "text": [
      "01. 제목 가져오기(title)\n",
      "03. 링크 가져오기(a)\n"
     ]
    }
   ],
   "source": [
    "name_tag = driver.find_elements_by_name(\"link_get\")\n",
    "for one in name_tag:\n",
    "    print(one.text)"
   ]
  },
  {
   "cell_type": "code",
   "execution_count": 41,
   "id": "d99c27e0",
   "metadata": {
    "scrolled": true
   },
   "outputs": [
    {
     "data": {
      "text/plain": [
       "'10. 랭킹 정보 가져오기(웹 크롤링)'"
      ]
     },
     "execution_count": 41,
     "metadata": {},
     "output_type": "execute_result"
    }
   ],
   "source": [
    "# 3-4 (추가) id를 가져오기(10번째) a요소\n",
    "\n",
    "a_tag = driver.find_element_by_id(\"rank\")\n",
    "a_tag.text"
   ]
  },
  {
   "cell_type": "code",
   "execution_count": 42,
   "id": "47b52b92",
   "metadata": {},
   "outputs": [
    {
     "name": "stdout",
     "output_type": "stream",
     "text": [
      "01. 제목 가져오기(title)\n",
      "03. 링크 가져오기(a)\n"
     ]
    }
   ],
   "source": [
    "# 3-4 (추가) name를 이용해서 1,3번째 요소 가져와서 텍스트 출력해 보기\n",
    "\n",
    "a_tag = driver.find_elements_by_name(\"link_get\")\n",
    "for one in a_tag:\n",
    "    print(one.text)"
   ]
  },
  {
   "cell_type": "code",
   "execution_count": 44,
   "id": "c2aa80f1",
   "metadata": {},
   "outputs": [
    {
     "data": {
      "text/plain": [
       "'10. 랭킹 정보 가져오기(웹 크롤링)'"
      ]
     },
     "execution_count": 44,
     "metadata": {},
     "output_type": "execute_result"
    }
   ],
   "source": [
    "content = driver.find_element_by_css_selector(\"body ul a#rank\")\n",
    "content.text"
   ]
  },
  {
   "cell_type": "code",
   "execution_count": 45,
   "id": "e134f0b1",
   "metadata": {},
   "outputs": [
    {
     "data": {
      "text/plain": [
       "'my web page'"
      ]
     },
     "execution_count": 45,
     "metadata": {},
     "output_type": "execute_result"
    }
   ],
   "source": [
    "content = driver.find_element_by_css_selector(\"body h1\")\n",
    "content.text"
   ]
  },
  {
   "cell_type": "code",
   "execution_count": 46,
   "id": "2e4b92a0",
   "metadata": {},
   "outputs": [
    {
     "data": {
      "text/plain": [
       "'01. 제목 가져오기(title)'"
      ]
     },
     "execution_count": 46,
     "metadata": {},
     "output_type": "execute_result"
    }
   ],
   "source": [
    "content = driver.find_element_by_css_selector(\"ul a\")\n",
    "content.text"
   ]
  },
  {
   "cell_type": "code",
   "execution_count": 47,
   "id": "14c2fe00",
   "metadata": {},
   "outputs": [
    {
     "name": "stdout",
     "output_type": "stream",
     "text": [
      "01. 제목 가져오기(title)\n",
      "02. 텍스트 가져오기(p)\n",
      "03. 링크 가져오기(a)\n",
      "04. 이미지 정보 가져오기(img)\n",
      "05. 리스트 정보 가져오기(ul,ol)\n",
      "06. id를 활용한 정보 획득\n",
      "07. class를 활용한 정보 획득\n",
      "08. 하나의 이미지 다운로드\n",
      "09. 여러개의 이미지 다운로드\n",
      "10. 랭킹 정보 가져오기(웹 크롤링)\n"
     ]
    }
   ],
   "source": [
    "content = driver.find_elements_by_css_selector(\"ul a\")\n",
    "for one in content:\n",
    "    print(one.text)"
   ]
  },
  {
   "cell_type": "code",
   "execution_count": 48,
   "id": "ca3f7db0",
   "metadata": {},
   "outputs": [
    {
     "data": {
      "text/plain": [
       "'01. 제목 가져오기(title)'"
      ]
     },
     "execution_count": 48,
     "metadata": {},
     "output_type": "execute_result"
    }
   ],
   "source": [
    "content = driver.find_element_by_link_text(\"01. 제목 가져오기(title)\")\n",
    "content.text"
   ]
  },
  {
   "cell_type": "markdown",
   "id": "dc767a61",
   "metadata": {},
   "source": [
    "### 네이버 웹 페이지를 띄우고, 검색한 이후에, 정보를 확인하기"
   ]
  },
  {
   "cell_type": "code",
   "execution_count": 43,
   "id": "a3d05b26",
   "metadata": {},
   "outputs": [],
   "source": [
    "from selenium import webdriver\n",
    "from bs4 import BeautifulSoup"
   ]
  },
  {
   "cell_type": "code",
   "execution_count": 50,
   "id": "f7637224",
   "metadata": {},
   "outputs": [],
   "source": [
    "url = \"http://news.naver.com\"\n",
    "driver = webdriver.Chrome(\"chromedriver\")\n",
    "driver.get(url)"
   ]
  },
  {
   "cell_type": "code",
   "execution_count": 45,
   "id": "4f3627e9",
   "metadata": {},
   "outputs": [],
   "source": [
    "## 검색 입력창 xpath : //*[@id=\"lnb.searchForm\"]/fieldset/input[1]\n",
    "## 검색 버튼 xpath : //*[@id=\"lnb.searchForm\"]/fieldset/button"
   ]
  },
  {
   "cell_type": "code",
   "execution_count": 56,
   "id": "2dcd4e6a",
   "metadata": {},
   "outputs": [],
   "source": [
    "sel_a = driver.find_element_by_xpath('//*[@id=\"lnb.searchForm\"]/fieldset/input[1]')\n",
    "sel_b = driver.find_element_by_xpath('//*[@id=\"lnb.searchForm\"]/fieldset/button')"
   ]
  },
  {
   "cell_type": "code",
   "execution_count": 57,
   "id": "b41c6a98",
   "metadata": {},
   "outputs": [],
   "source": [
    "# 검색시키기\n",
    "sel_a.send_keys('미세먼지')\n",
    "sel_b.click()"
   ]
  },
  {
   "cell_type": "code",
   "execution_count": 58,
   "id": "d1a8de95",
   "metadata": {},
   "outputs": [
    {
     "data": {
      "text/plain": [
       "<title>네이버 뉴스</title>"
      ]
     },
     "execution_count": 58,
     "metadata": {},
     "output_type": "execute_result"
    }
   ],
   "source": [
    "page = driver.page_source #xpath 통해 가져온 페이지를 담기.\n",
    "soup = BeautifulSoup(page, \"lxml\")\n",
    "soup.title"
   ]
  },
  {
   "cell_type": "code",
   "execution_count": 62,
   "id": "f684e968",
   "metadata": {},
   "outputs": [
    {
     "ename": "AttributeError",
     "evalue": "'NoneType' object has no attribute 'find'",
     "output_type": "error",
     "traceback": [
      "\u001b[1;31m---------------------------------------------------------------------------\u001b[0m",
      "\u001b[1;31mAttributeError\u001b[0m                            Traceback (most recent call last)",
      "\u001b[1;32m<ipython-input-62-4a30dc157543>\u001b[0m in \u001b[0;36m<module>\u001b[1;34m\u001b[0m\n\u001b[1;32m----> 1\u001b[1;33m \u001b[0mall_news\u001b[0m \u001b[1;33m=\u001b[0m \u001b[0msoup\u001b[0m\u001b[1;33m.\u001b[0m\u001b[0mfind\u001b[0m\u001b[1;33m(\u001b[0m\u001b[1;34m\"div\"\u001b[0m\u001b[1;33m,\u001b[0m \u001b[0mclass_\u001b[0m\u001b[1;33m=\u001b[0m\u001b[1;34m\"news_area\"\u001b[0m\u001b[1;33m)\u001b[0m\u001b[1;33m.\u001b[0m\u001b[0mfind\u001b[0m\u001b[1;33m(\u001b[0m\u001b[1;34m\"a\"\u001b[0m\u001b[1;33m)\u001b[0m\u001b[1;33m\u001b[0m\u001b[1;33m\u001b[0m\u001b[0m\n\u001b[0m\u001b[0;32m      2\u001b[0m \u001b[0mall_news\u001b[0m\u001b[1;33m\u001b[0m\u001b[1;33m\u001b[0m\u001b[0m\n",
      "\u001b[1;31mAttributeError\u001b[0m: 'NoneType' object has no attribute 'find'"
     ]
    }
   ],
   "source": [
    "all_news = soup.find(\"div\", class_=\"news_area\").find(\"a\")\n",
    "all_news"
   ]
  },
  {
   "cell_type": "markdown",
   "id": "1b738ffb",
   "metadata": {},
   "source": [
    "### 4-4 (추가) 다음페이지 검색해보기"
   ]
  },
  {
   "cell_type": "code",
   "execution_count": 29,
   "id": "6e6ef43c",
   "metadata": {},
   "outputs": [],
   "source": [
    "url = \"https://www.daum.net/\"\n",
    "driver = webdriver.Chrome(\"chromedriver\")\n",
    "driver.get(url)"
   ]
  },
  {
   "cell_type": "code",
   "execution_count": 30,
   "id": "854be74c",
   "metadata": {},
   "outputs": [],
   "source": [
    "## 검색 입력창 xpath : //*[@id=\"q\"]\n",
    "## 검색 버튼 xpath : //*[@id=\"daumSearch\"]/fieldset/div/div/button[2]"
   ]
  },
  {
   "cell_type": "code",
   "execution_count": 31,
   "id": "42818af7",
   "metadata": {},
   "outputs": [],
   "source": [
    "sel_a = driver.find_element_by_xpath('//*[@id=\"q\"]')\n",
    "sel_b = driver.find_element_by_xpath('//*[@id=\"daumSearch\"]/fieldset/div/div/button[2]')"
   ]
  },
  {
   "cell_type": "code",
   "execution_count": 32,
   "id": "897d3f32",
   "metadata": {},
   "outputs": [],
   "source": [
    "# 검색시키기\n",
    "sel_a.send_keys('미세먼지')\n",
    "sel_b.click()"
   ]
  },
  {
   "cell_type": "markdown",
   "id": "63634472",
   "metadata": {},
   "source": [
    "### 4-4 (추가) 다른 페이지에서 검색해보고, 원하는 정보 가져와 보기"
   ]
  },
  {
   "cell_type": "code",
   "execution_count": 34,
   "id": "3759fbc6",
   "metadata": {},
   "outputs": [],
   "source": [
    "url = \"https://www.google.com/\"\n",
    "driver = webdriver.Chrome(\"chromedriver\")\n",
    "driver.get(url)"
   ]
  },
  {
   "cell_type": "code",
   "execution_count": 35,
   "id": "9d00f844",
   "metadata": {},
   "outputs": [],
   "source": [
    "## 검색 입력창 xpath : /html/body/div[1]/div[3]/form/div[1]/div[1]/div[1]/div/div[2]/input\n",
    "## 검색 버튼 xpath : /html/body/div[1]/div[3]/form/div[1]/div[1]/div[3]/center/input[1]"
   ]
  },
  {
   "cell_type": "code",
   "execution_count": 36,
   "id": "07300825",
   "metadata": {},
   "outputs": [],
   "source": [
    "sel_a = driver.find_element_by_xpath('/html/body/div[1]/div[3]/form/div[1]/div[1]/div[1]/div/div[2]/input')\n",
    "sel_b = driver.find_element_by_xpath('/html/body/div[1]/div[3]/form/div[1]/div[1]/div[3]/center/input[1]')"
   ]
  },
  {
   "cell_type": "code",
   "execution_count": 37,
   "id": "ec6d1fa3",
   "metadata": {},
   "outputs": [],
   "source": [
    "# 검색시키기\n",
    "sel_a.send_keys('미세먼지')\n",
    "sel_b.click()"
   ]
  },
  {
   "cell_type": "markdown",
   "id": "fc216eca",
   "metadata": {},
   "source": [
    "### 아마존에서 검색하기"
   ]
  },
  {
   "cell_type": "code",
   "execution_count": 64,
   "id": "09a45d22",
   "metadata": {},
   "outputs": [],
   "source": [
    "from selenium import webdriver\n",
    "from bs4 import BeautifulSoup"
   ]
  },
  {
   "cell_type": "code",
   "execution_count": 86,
   "id": "1b2a2b52",
   "metadata": {},
   "outputs": [],
   "source": [
    "url = 'https://www.amazon.com/'\n",
    "driver = webdriver.Chrome('chromedriver')\n",
    "driver.get(url)"
   ]
  },
  {
   "cell_type": "code",
   "execution_count": 87,
   "id": "229f9f23",
   "metadata": {},
   "outputs": [],
   "source": [
    "## 검색 입력창 xpath : //*[@id=\"twotabsearchtextbox\"]\n",
    "## 검색 버튼 xpath : //*[@id=\"nav-search-submit-button\"]"
   ]
  },
  {
   "cell_type": "code",
   "execution_count": 88,
   "id": "20721243",
   "metadata": {},
   "outputs": [],
   "source": [
    "sel_a = driver.find_element_by_xpath('//*[@id=\"twotabsearchtextbox\"]')\n",
    "sel_b = driver.find_element_by_xpath('//*[@id=\"nav-search-submit-button\"]')"
   ]
  },
  {
   "cell_type": "code",
   "execution_count": 89,
   "id": "e98ef8d9",
   "metadata": {},
   "outputs": [],
   "source": [
    "sel_a.send_keys('iphone 12')\n",
    "sel_b.click()"
   ]
  },
  {
   "cell_type": "code",
   "execution_count": 90,
   "id": "bf07d783",
   "metadata": {},
   "outputs": [
    {
     "data": {
      "text/plain": [
       "<title>Amazon.com : iphone 12</title>"
      ]
     },
     "execution_count": 90,
     "metadata": {},
     "output_type": "execute_result"
    }
   ],
   "source": [
    "page = driver.page_source #xpath 통해 가져온 페이지를 담기.\n",
    "soup = BeautifulSoup(page, \"lxml\")\n",
    "soup.title"
   ]
  },
  {
   "cell_type": "markdown",
   "id": "e28a9357",
   "metadata": {},
   "source": [
    "### 5-3 실습 확인 - 하나의 상품의 링크를 가져와 보기"
   ]
  },
  {
   "cell_type": "code",
   "execution_count": 92,
   "id": "475c8bc1",
   "metadata": {},
   "outputs": [
    {
     "data": {
      "text/plain": [
       "'Apple iPhone 12, 64GB, Black - Fully Unlocked (Renewed)  '"
      ]
     },
     "execution_count": 92,
     "metadata": {},
     "output_type": "execute_result"
    }
   ],
   "source": [
    "tmp = soup.find(\"h2\", class_=\"a-size-mini a-spacing-none a-color-base s-line-clamp-2\")\n",
    "tmp.text"
   ]
  },
  {
   "cell_type": "code",
   "execution_count": 93,
   "id": "a326c463",
   "metadata": {},
   "outputs": [
    {
     "data": {
      "text/plain": [
       "'/Apple-iPhone-12-64GB-Black/dp/B08PP5MSVB/ref=sr_1_1?dchild=1&keywords=iphone+12&qid=1631252047&sr=8-1'"
      ]
     },
     "execution_count": 93,
     "metadata": {},
     "output_type": "execute_result"
    }
   ],
   "source": [
    "detail = tmp.find(\"a\", class_=\"a-link-normal a-text-normal\")[\"href\"]\n",
    "detail"
   ]
  },
  {
   "cell_type": "code",
   "execution_count": 94,
   "id": "960a22fa",
   "metadata": {},
   "outputs": [
    {
     "data": {
      "text/plain": [
       "'https://www.amazon.com//Apple-iPhone-12-64GB-Black/dp/B08PP5MSVB/ref=sr_1_1?dchild=1&keywords=iphone+12&qid=1631252047&sr=8-1'"
      ]
     },
     "execution_count": 94,
     "metadata": {},
     "output_type": "execute_result"
    }
   ],
   "source": [
    "link_url = url + detail\n",
    "link_url"
   ]
  },
  {
   "cell_type": "markdown",
   "id": "e4d8ac1a",
   "metadata": {},
   "source": [
    "### 5-3 (추가) 전체 상품의 링크를 가져와 보기"
   ]
  },
  {
   "cell_type": "code",
   "execution_count": 97,
   "id": "f34fe461",
   "metadata": {},
   "outputs": [
    {
     "data": {
      "text/plain": [
       "'https://www.amazon.com/s?k=iphone+12&ref=nb_sb_noss'"
      ]
     },
     "execution_count": 97,
     "metadata": {},
     "output_type": "execute_result"
    }
   ],
   "source": [
    "driver.current_url"
   ]
  }
 ],
 "metadata": {
  "kernelspec": {
   "display_name": "Python 3",
   "language": "python",
   "name": "python3"
  },
  "language_info": {
   "codemirror_mode": {
    "name": "ipython",
    "version": 3
   },
   "file_extension": ".py",
   "mimetype": "text/x-python",
   "name": "python",
   "nbconvert_exporter": "python",
   "pygments_lexer": "ipython3",
   "version": "3.8.8"
  }
 },
 "nbformat": 4,
 "nbformat_minor": 5
}
