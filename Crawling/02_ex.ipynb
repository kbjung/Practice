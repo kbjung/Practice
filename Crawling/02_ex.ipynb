{
 "cells": [
  {
   "cell_type": "code",
   "execution_count": 1,
   "metadata": {},
   "outputs": [],
   "source": [
    "from urllib.request import urlopen\n",
    "from bs4 import BeautifulSoup\n",
    "import requests"
   ]
  },
  {
   "cell_type": "code",
   "execution_count": 2,
   "metadata": {},
   "outputs": [],
   "source": [
    "# url\n",
    "# tag, id, classes\n",
    "# 다우산업지수, 나스닥 종합, S&P 500"
   ]
  },
  {
   "cell_type": "code",
   "execution_count": 38,
   "metadata": {},
   "outputs": [],
   "source": [
    "url = \"https://finance.naver.com/world/\"\n",
    "page = urlopen(url)\n",
    "soup = BeautifulSoup(page, \"html.parser\")\n",
    "# res = requests.get(url)\n",
    "# soup = BeautifulSoup(res.content, \"html.parser\")\n",
    "print(soup.title.text)"
   ]
  },
  {
   "cell_type": "code",
   "execution_count": 44,
   "metadata": {},
   "outputs": [
    {
     "name": "stdout",
     "output_type": "stream",
     "text": [
      "<dd class=\"point_status\"><strong>14,578.54</strong><em>52.38</em><span><span>+</span>0.36%</span><span class=\"blind\">상승</span></dd>\n"
     ]
    }
   ],
   "source": [
    "Daw = soup.find('ul', class_='data_lst', id='worldIndexColumn1').find('dd', class_='point_status')\n",
    "print(Daw)"
   ]
  },
  {
   "cell_type": "code",
   "execution_count": 33,
   "metadata": {},
   "outputs": [
    {
     "name": "stdout",
     "output_type": "stream",
     "text": [
      "다우 산업지수 : 14,578.54\n"
     ]
    }
   ],
   "source": [
    "fav = Daw.find(\"strong\")\n",
    "print(\"다우 산업지수 :\", fav.text)"
   ]
  },
  {
   "cell_type": "code",
   "execution_count": 36,
   "metadata": {},
   "outputs": [
    {
     "name": "stdout",
     "output_type": "stream",
     "text": [
      "[<strong>14,578.54</strong>, <strong>12,135.02</strong>, <strong>6,411.74</strong>]\n"
     ]
    }
   ],
   "source": [
    "Daw = soup.select('ul.data_lst#worldIndexColumn1 dd.point_status strong')\n",
    "print(Daw)"
   ]
  },
  {
   "cell_type": "code",
   "execution_count": 34,
   "metadata": {},
   "outputs": [
    {
     "data": {
      "text/plain": [
       "9"
      ]
     },
     "execution_count": 34,
     "metadata": {},
     "output_type": "execute_result"
    }
   ],
   "source": [
    "dds = soup.find_all('dd', class_='point_status')\n",
    "len(dds)"
   ]
  },
  {
   "cell_type": "code",
   "execution_count": 35,
   "metadata": {},
   "outputs": [
    {
     "data": {
      "text/plain": [
       "[<dd class=\"point_status\"><strong>14,578.54</strong><em>52.38</em><span><span>+</span>0.36%</span><span class=\"blind\">상승</span></dd>,\n",
       " <dd class=\"point_status\"><strong>12,135.02</strong><em>262.89</em><span><span>-</span>2.12%</span><span class=\"blind\">하락</span></dd>,\n",
       " <dd class=\"point_status\"><strong>6,411.74</strong><em>24.18</em><span><span>+</span>0.38%</span><span class=\"blind\">상승</span></dd>,\n",
       " <dd class=\"point_status\"><strong>3,267.52</strong><em>11.00</em><span><span>+</span>0.34%</span><span class=\"blind\">상승</span></dd>,\n",
       " <dd class=\"point_status\"><strong>2,234.40</strong><em>2.22</em><span><span>-</span>0.10%</span><span class=\"blind\">하락</span></dd>,\n",
       " <dd class=\"point_status\"><strong>3,731.42</strong><em>19.78</em><span><span>+</span>0.53%</span><span class=\"blind\">상승</span></dd>,\n",
       " <dd class=\"point_status\"><strong>1,569.19</strong><em>6.34</em><span><span>+</span>0.41%</span><span class=\"blind\">상승</span></dd>,\n",
       " <dd class=\"point_status\"><strong>22,299.63</strong><em>165.19</em><span><span>-</span>0.74%</span><span class=\"blind\">하락</span></dd>,\n",
       " <dd class=\"point_status\"><strong>7,795.31</strong><em>6.22</em><span><span>+</span>0.07%</span><span class=\"blind\">상승</span></dd>]"
      ]
     },
     "execution_count": 35,
     "metadata": {},
     "output_type": "execute_result"
    }
   ],
   "source": [
    "dds"
   ]
  },
  {
   "cell_type": "code",
   "execution_count": 46,
   "metadata": {},
   "outputs": [
    {
     "name": "stdout",
     "output_type": "stream",
     "text": [
      "<dd class=\"point_status\"><strong>3,267.52</strong><em>11.00</em><span><span>+</span>0.34%</span><span class=\"blind\">상승</span></dd>\n"
     ]
    }
   ],
   "source": [
    "Nasdaq = soup.find('ul', class_='data_lst', id='worldIndexColumn2').find('dd', class_='point_status')\n",
    "print(Nasdaq)"
   ]
  },
  {
   "cell_type": "code",
   "execution_count": 50,
   "metadata": {},
   "outputs": [
    {
     "name": "stdout",
     "output_type": "stream",
     "text": [
      "나스닥 종합지수 : 3,267.52\n"
     ]
    }
   ],
   "source": [
    "fav = Nasdaq.find(\"strong\")\n",
    "print(\"나스닥 종합지수 :\", fav.text)"
   ]
  },
  {
   "cell_type": "code",
   "execution_count": 51,
   "metadata": {},
   "outputs": [
    {
     "name": "stdout",
     "output_type": "stream",
     "text": [
      "<dd class=\"point_status\"><strong>1,569.19</strong><em>6.34</em><span><span>+</span>0.41%</span><span class=\"blind\">상승</span></dd>\n"
     ]
    }
   ],
   "source": [
    "Sp = soup.find('ul', class_='data_lst', id='worldIndexColumn3').find('dd', class_='point_status')\n",
    "print(Sp)"
   ]
  },
  {
   "cell_type": "code",
   "execution_count": 52,
   "metadata": {},
   "outputs": [
    {
     "name": "stdout",
     "output_type": "stream",
     "text": [
      "S&P 500 지수 : 1,569.19\n"
     ]
    }
   ],
   "source": [
    "fav = Sp.find(\"strong\")\n",
    "print(\"S&P 500 지수 :\", fav.text)"
   ]
  }
 ],
 "metadata": {
  "interpreter": {
   "hash": "569b4317022eb29baeafb3d0f1f739310808ea28ce83ca127a35db1c01070585"
  },
  "kernelspec": {
   "display_name": "Python 3.9.12 ('base')",
   "language": "python",
   "name": "python3"
  },
  "language_info": {
   "codemirror_mode": {
    "name": "ipython",
    "version": 3
   },
   "file_extension": ".py",
   "mimetype": "text/x-python",
   "name": "python",
   "nbconvert_exporter": "python",
   "pygments_lexer": "ipython3",
   "version": "3.9.12"
  },
  "orig_nbformat": 4
 },
 "nbformat": 4,
 "nbformat_minor": 2
}
