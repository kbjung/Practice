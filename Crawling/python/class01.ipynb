{
 "cells": [
  {
   "cell_type": "markdown",
   "id": "d0908b0f",
   "metadata": {
    "id": "40yvu0GFUUUa"
   },
   "source": [
    "### 자료형\n",
    " * int : 정수형\n",
    " * float : 실수형\n",
    " * str : 문자열\n",
    " * set : 집합\n",
    " * dict : 딕셔너리(사전)\n",
    " * list : 리스트\n"
   ]
  },
  {
   "cell_type": "markdown",
   "id": "bb3422b6",
   "metadata": {},
   "source": [
    "### print함수 설명"
   ]
  },
  {
   "cell_type": "code",
   "execution_count": 2,
   "id": "b121936e",
   "metadata": {},
   "outputs": [
    {
     "name": "stdout",
     "output_type": "stream",
     "text": [
      "A 20 B\n",
      "A 20 B\n",
      "A20B\n",
      "A20B\n",
      "\n",
      "A 20 BA 20 B\n"
     ]
    }
   ],
   "source": [
    "age = 20\n",
    "print(\"A\", age, \"B\")\n",
    "print(\"A\", age, \"B\", sep=\" \") # sep : ,에 대한 설정. 기본은 \" \".\n",
    "print(\"A\", age, \"B\", sep=\"\")\n",
    "print('A' '20' 'B')\n",
    "print()\n",
    "print(\"A\", age, \"B\", sep=\" \", end=\"\") # end : 문장 끝에 대한 설정. 기본은 /n(한줄 띄기).\n",
    "print(\"A\", age, \"B\", sep=\" \")\n",
    "# sep, end는 옵션."
   ]
  },
  {
   "cell_type": "markdown",
   "id": "4b622e9a",
   "metadata": {
    "id": "EaA2s2Robrar"
   },
   "source": [
    "### 연산자\n",
    " * +, -, /, *, //(몫), %(나머지), **(제곱)"
   ]
  },
  {
   "cell_type": "markdown",
   "id": "6c112d7c",
   "metadata": {
    "id": "WN94pQ07cGNz"
   },
   "source": [
    "### 비교 연산자\n",
    "* == : 같다.\n",
    "* != : 다르다.\n",
    "* \\>= : 크거나 같다.\n",
    "* <= : 작거나 같다."
   ]
  },
  {
   "cell_type": "markdown",
   "id": "50de0545",
   "metadata": {},
   "source": [
    "### 조건문\n",
    "* if 조건문:\n",
    "* bool 자료형(True, False 출력)"
   ]
  },
  {
   "cell_type": "code",
   "execution_count": 4,
   "id": "5d98982c",
   "metadata": {},
   "outputs": [
    {
     "data": {
      "text/plain": [
       "bool"
      ]
     },
     "execution_count": 4,
     "metadata": {},
     "output_type": "execute_result"
    }
   ],
   "source": [
    "type(True)"
   ]
  },
  {
   "cell_type": "code",
   "execution_count": 6,
   "id": "cb34252b",
   "metadata": {},
   "outputs": [
    {
     "name": "stdout",
     "output_type": "stream",
     "text": [
      "False\n"
     ]
    }
   ],
   "source": [
    "# '0'은 False, '0'이 아닌 값은 모두 True이다.\n",
    "if 10 and 0: # True and False => False\n",
    "    print(\"True\")\n",
    "else:\n",
    "    print(\"False\")"
   ]
  },
  {
   "cell_type": "code",
   "execution_count": 2,
   "id": "39aefa10",
   "metadata": {},
   "outputs": [
    {
     "name": "stdout",
     "output_type": "stream",
     "text": [
      "a\n"
     ]
    }
   ],
   "source": [
    "print(10 and \"a\") # True면 마지막 문장 출력"
   ]
  },
  {
   "cell_type": "markdown",
   "id": "916d9971",
   "metadata": {},
   "source": [
    "* 연산자\n",
    "* 비교연산자\n",
    "* and, or, not\n",
    "* A and B  : \n",
    "    * A 또는 B가 False -> False\n",
    "    * A 와 B가 둘다 True -> True\n",
    "* A or B : \n",
    "    * A 또는 B가 둘중 하나라도 True => True\n",
    "* not A : True 이면 False, False이면 True"
   ]
  },
  {
   "cell_type": "code",
   "execution_count": null,
   "id": "91f53ef5",
   "metadata": {},
   "outputs": [],
   "source": []
  }
 ],
 "metadata": {
  "interpreter": {
   "hash": "569b4317022eb29baeafb3d0f1f739310808ea28ce83ca127a35db1c01070585"
  },
  "kernelspec": {
   "display_name": "Python 3.9.12 ('base')",
   "language": "python",
   "name": "python3"
  },
  "language_info": {
   "codemirror_mode": {
    "name": "ipython",
    "version": 3
   },
   "file_extension": ".py",
   "mimetype": "text/x-python",
   "name": "python",
   "nbconvert_exporter": "python",
   "pygments_lexer": "ipython3",
   "version": "3.9.12"
  }
 },
 "nbformat": 4,
 "nbformat_minor": 5
}
