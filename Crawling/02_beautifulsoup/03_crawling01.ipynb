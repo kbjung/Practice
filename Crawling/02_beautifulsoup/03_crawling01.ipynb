{
 "cells": [
  {
   "cell_type": "code",
   "execution_count": null,
   "metadata": {},
   "outputs": [],
   "source": [
    "from urllib.request import urlopen\n",
    "import requests\n",
    "from bs4 import BeautifulSoup"
   ]
  },
  {
   "cell_type": "code",
   "execution_count": 2,
   "metadata": {},
   "outputs": [],
   "source": [
    "## 01 우리가 가져올 URL\n",
    "## 02 원하는 정보의 위치(span id)\n",
    "## url : https://finance.naver.com/sise/\n",
    "## tag : span, id : KOSPI_now"
   ]
  },
  {
   "cell_type": "code",
   "execution_count": 36,
   "metadata": {},
   "outputs": [
    {
     "name": "stdout",
     "output_type": "stream",
     "text": [
      "<http.client.HTTPResponse object at 0x0000025488028FD0>\n"
     ]
    }
   ],
   "source": [
    "## html 코드를 요청해서 가져온다.\n",
    "url = \"https://finance.naver.com/sise/\"\n",
    "page = urlopen(url)\n",
    "print(page)"
   ]
  },
  {
   "cell_type": "code",
   "execution_count": 42,
   "metadata": {},
   "outputs": [
    {
     "name": "stdout",
     "output_type": "stream",
     "text": [
      "<Response [200]>\n"
     ]
    }
   ],
   "source": [
    "res = requests.get(url)\n",
    "print(res)"
   ]
  },
  {
   "cell_type": "code",
   "execution_count": 5,
   "metadata": {},
   "outputs": [
    {
     "name": "stdout",
     "output_type": "stream",
     "text": [
      "코스피 현재 지수 : 2,867.38\n"
     ]
    }
   ],
   "source": [
    "## 구체적인 html 확인하고, 구조화\n",
    "soup = BeautifulSoup(page, \"html.parser\")\n",
    "KOSPI = soup.find(\"span\", id=\"KOSPI_now\")\n",
    "print(\"코스피 현재 지수 :\", KOSPI.text)"
   ]
  },
  {
   "cell_type": "code",
   "execution_count": 94,
   "metadata": {},
   "outputs": [
    {
     "data": {
      "text/plain": [
       "'국내증시 : 네이버페이 증권'"
      ]
     },
     "execution_count": 94,
     "metadata": {},
     "output_type": "execute_result"
    }
   ],
   "source": [
    "soup = BeautifulSoup(page, \"html.parser\")\n",
    "soup.title.text"
   ]
  },
  {
   "cell_type": "code",
   "execution_count": 93,
   "metadata": {},
   "outputs": [
    {
     "data": {
      "text/plain": [
       "'국내증시 : 네이버페이 증권'"
      ]
     },
     "execution_count": 93,
     "metadata": {},
     "output_type": "execute_result"
    }
   ],
   "source": [
    "soup2 = BeautifulSoup(res.text, 'html.parser')\n",
    "soup2.title.text"
   ]
  },
  {
   "cell_type": "code",
   "execution_count": 18,
   "metadata": {},
   "outputs": [
    {
     "data": {
      "text/plain": [
       "'2,678.50'"
      ]
     },
     "execution_count": 18,
     "metadata": {},
     "output_type": "execute_result"
    }
   ],
   "source": [
    "kospi = soup.find('span', id='KOSPI_now').text\n",
    "kospi"
   ]
  },
  {
   "cell_type": "code",
   "execution_count": 20,
   "metadata": {},
   "outputs": [
    {
     "data": {
      "text/plain": [
       "2678.5"
      ]
     },
     "execution_count": 20,
     "metadata": {},
     "output_type": "execute_result"
    }
   ],
   "source": [
    "float(kospi.replace(',', ''))"
   ]
  },
  {
   "cell_type": "code",
   "execution_count": 24,
   "metadata": {},
   "outputs": [
    {
     "data": {
      "text/plain": [
       "'2,678.50'"
      ]
     },
     "execution_count": 24,
     "metadata": {},
     "output_type": "execute_result"
    }
   ],
   "source": [
    "soup.select_one('#KOSPI_now').text"
   ]
  },
  {
   "cell_type": "code",
   "execution_count": 6,
   "metadata": {},
   "outputs": [
    {
     "name": "stdout",
     "output_type": "stream",
     "text": [
      "코스피 현재 지수 : 2,867.38\n"
     ]
    }
   ],
   "source": [
    "soup = BeautifulSoup(res.content, 'html.parser')\n",
    "KOSPI = soup.find(\"span\", id=\"KOSPI_now\")\n",
    "print(\"코스피 현재 지수 :\", KOSPI.text)"
   ]
  },
  {
   "cell_type": "code",
   "execution_count": 4,
   "metadata": {},
   "outputs": [
    {
     "name": "stdout",
     "output_type": "stream",
     "text": [
      "코스닥 현재 지수 : 860.42\n"
     ]
    }
   ],
   "source": [
    "# 6-3 (추가) 코스닥 지수, KOSPI200 지수 가져오기\n",
    "## 코스닥, KOSPI200지수 가져오기\n",
    "KOSDAQ = soup.find(\"span\", id=\"KOSDAQ_now\")\n",
    "print(\"코스닥 현재 지수 :\", KOSDAQ.text)"
   ]
  },
  {
   "cell_type": "code",
   "execution_count": 5,
   "metadata": {},
   "outputs": [
    {
     "name": "stdout",
     "output_type": "stream",
     "text": [
      "KOSPI200 현재 지수 : 395.79\n"
     ]
    }
   ],
   "source": [
    "## KOSPI200지수 가져오기\n",
    "KPI200 = soup.find(\"span\", id=\"KPI200_now\")\n",
    "print(\"KOSPI200 현재 지수 :\", KPI200.text)"
   ]
  },
  {
   "cell_type": "code",
   "execution_count": 26,
   "metadata": {},
   "outputs": [
    {
     "name": "stdout",
     "output_type": "stream",
     "text": [
      "코스피 현재 지수 : 2,678.50\n",
      "코스닥 현재 지수 : 766.81\n",
      "코스피200 현재 지수 : 362.78\n"
     ]
    }
   ],
   "source": [
    "print('코스피 현재 지수 :', soup.find('span', id='KOSPI_now').text)\n",
    "print('코스닥 현재 지수 :', soup.find('span', id='KOSDAQ_now').text)\n",
    "print('코스피200 현재 지수 :', soup.find('span', id='KPI200_now').text)"
   ]
  },
  {
   "cell_type": "code",
   "execution_count": null,
   "metadata": {},
   "outputs": [],
   "source": []
  },
  {
   "cell_type": "code",
   "execution_count": 27,
   "metadata": {},
   "outputs": [
    {
     "name": "stdout",
     "output_type": "stream",
     "text": [
      "코스피 현재 지수 : 2,678.50\n",
      "코스닥 현재 지수 : 766.81\n",
      "코스피200 현재 지수 : 362.78\n"
     ]
    }
   ],
   "source": [
    "print('코스피 현재 지수 :', soup.select_one('#KOSPI_now').text)\n",
    "print('코스닥 현재 지수 :', soup.select_one('#KOSDAQ_now').text)\n",
    "print('코스피200 현재 지수 :', soup.select_one('#KPI200_now').text)"
   ]
  },
  {
   "cell_type": "code",
   "execution_count": 9,
   "metadata": {},
   "outputs": [
    {
     "name": "stdout",
     "output_type": "stream",
     "text": [
      "[<span class=\"up\">87,800</span>, <span class=\"blind\">상승</span>, <span class=\"up\">95,100</span>, <span class=\"blind\">상승</span>, <span class=\"up\">22,250</span>, <span class=\"blind\">상승</span>, <span class=\"up\">2,825</span>, <span class=\"blind\">상승</span>, <span class=\"up\">14,670</span>, <span class=\"blind\">상한가</span>, <span class=\"up\">238,500</span>, <span class=\"blind\">상승</span>, <span class=\"up\">4,550</span>, <span class=\"blind\">상승</span>, <span class=\"up\">187,200</span>, <span class=\"blind\">상승</span>, <span class=\"dn\">274,500</span>, <span class=\"blind\">하락</span>, <span class=\"up\">19,120</span>, <span class=\"blind\">상승</span>]\n"
     ]
    }
   ],
   "source": [
    "# 6-3 (추가) 인기 검색 종목과 가격 가져오기\n",
    "fav = soup.find(\"ul\", id=\"popularItemList\")\n",
    "name = fav.find_all(\"a\")\n",
    "num = fav.find_all(\"span\")\n",
    "print(num)"
   ]
  },
  {
   "cell_type": "code",
   "execution_count": 16,
   "metadata": {},
   "outputs": [
    {
     "name": "stdout",
     "output_type": "stream",
     "text": [
      "삼성전자 87,800 상승\n",
      "HLB 95,100 상승\n",
      "두산에너빌리티 22,250 상승\n"
     ]
    }
   ],
   "source": [
    "print(name[0].text, num[0].text, num[1].text)\n",
    "print(name[1].text, num[2].text, num[3].text)\n",
    "print(name[2].text, num[4].text, num[5].text)"
   ]
  },
  {
   "cell_type": "code",
   "execution_count": 19,
   "metadata": {},
   "outputs": [
    {
     "name": "stdout",
     "output_type": "stream",
     "text": [
      "1위 : 삼성전자 87,800원 상승\n",
      "2위 : HLB 95,100원 상승\n",
      "3위 : 두산에너빌리티 22,250원 상승\n",
      "4위 : 우리기술 2,825원 상승\n",
      "5위 : 한전산업 14,670원 상한가\n",
      "6위 : SK하이닉스 238,500원 상승\n",
      "7위 : HB테크놀러지 4,550원 상승\n",
      "8위 : 셀트리온 187,200원 상승\n",
      "9위 : 현대차 274,500원 하락\n",
      "10위 : 한화시스템 19,120원 상승\n"
     ]
    }
   ],
   "source": [
    "rank = 0\n",
    "for i in range(10):\n",
    "\trank += 1\n",
    "\tprint(rank, \"위 : \", name[i].text, ' ', num[i*2].text, \"원 \", num[i*2+1].text, sep='')"
   ]
  },
  {
   "cell_type": "code",
   "execution_count": 8,
   "metadata": {},
   "outputs": [
    {
     "name": "stdout",
     "output_type": "stream",
     "text": [
      "삼성전자\n",
      "HLB\n",
      "두산에너빌리티\n",
      "우리기술\n",
      "한전산업\n",
      "SK하이닉스\n",
      "HB테크놀러지\n",
      "셀트리온\n",
      "현대차\n",
      "한화시스템\n",
      "87,800\n",
      "상승\n",
      "95,100\n",
      "상승\n",
      "22,250\n",
      "상승\n",
      "2,825\n",
      "상승\n",
      "14,670\n",
      "상한가\n",
      "238,500\n",
      "상승\n",
      "4,550\n",
      "상승\n",
      "187,200\n",
      "상승\n",
      "274,500\n",
      "하락\n",
      "19,120\n",
      "상승\n"
     ]
    }
   ],
   "source": [
    "# 6-3 (추가) 인기 검색 종목과 가격 가져오기(해설)\n",
    "data = soup.find(\"ul\", class_=\"lst_pop\")\n",
    "dat_all = data.find_all(\"a\")\n",
    "value_all = data.find_all(\"span\")\n",
    "\n",
    "for one in dat_all:\n",
    "\tprint(one.text)\n",
    "\n",
    "for one in value_all:\n",
    "\tprint(one.text)"
   ]
  },
  {
   "cell_type": "code",
   "execution_count": 57,
   "metadata": {},
   "outputs": [
    {
     "data": {
      "text/plain": [
       "<ul class=\"lst_pop\" id=\"popularItemList\">\n",
       "<li><em>1.</em><a href=\"/item/main.naver?code=005930\" onclick=\"clickcr(this,'boa.list','005930','1',event)\">삼성전자</a><span class=\"dn\">75,600</span><em class=\"bu_p bu_pdn\"><span class=\"blind\">하락</span></em></li>\n",
       "<li><em>2.</em><a href=\"/item/main.naver?code=034020\" onclick=\"clickcr(this,'boa.list','034020','2',event)\">두산에너빌리티</a><span class=\"up\">18,550</span><em class=\"bu_p bu_pup\"><span class=\"blind\">상승</span></em></li>\n",
       "<li><em>3.</em><a href=\"/item/main.naver?code=000660\" onclick=\"clickcr(this,'boa.list','000660','3',event)\">SK하이닉스</a><span class=\"dn\">174,500</span><em class=\"bu_p bu_pdn\"><span class=\"blind\">하락</span></em></li>\n",
       "<li><em>4.</em><a href=\"/item/main.naver?code=000100\" onclick=\"clickcr(this,'boa.list','000100','4',event)\">유한양행</a><span class=\"up\">115,700</span><em class=\"bu_p bu_pup\"><span class=\"blind\">상승</span></em></li>\n",
       "<li><em>5.</em><a href=\"/item/main.naver?code=006400\" onclick=\"clickcr(this,'boa.list','006400','5',event)\">삼성SDI</a><span class=\"up\">349,000</span><em class=\"bu_p bu_pup\"><span class=\"blind\">상승</span></em></li>\n",
       "<li><em>6.</em><a href=\"/item/main.naver?code=456070\" onclick=\"clickcr(this,'boa.list','456070','6',event)\">이엔셀</a><span class=\"up\">28,150</span><em class=\"bu_p bu_pup\"><span class=\"blind\">상승</span></em></li>\n",
       "<li><em>7.</em><a href=\"/item/main.naver?code=476080\" onclick=\"clickcr(this,'boa.list','476080','7',event)\">M83</a><span class=\"up\">24,550</span><em class=\"bu_p bu_pup\"><span class=\"blind\">상승</span></em></li>\n",
       "<li><em>8.</em><a href=\"/item/main.naver?code=352820\" onclick=\"clickcr(this,'boa.list','352820','8',event)\">하이브</a><span class=\"up\">185,300</span><em class=\"bu_p bu_pup\"><span class=\"blind\">상승</span></em></li>\n",
       "<li><em>9.</em><a href=\"/item/main.naver?code=068270\" onclick=\"clickcr(this,'boa.list','068270','9',event)\">셀트리온</a><span class=\"up\">202,000</span><em class=\"bu_p bu_pup\"><span class=\"blind\">상승</span></em></li>\n",
       "<li><em>10.</em><a href=\"/item/main.naver?code=196170\" onclick=\"clickcr(this,'boa.list','196170','10',event)\">알테오젠</a><span class=\"up\">320,500</span><em class=\"bu_p bu_pup\"><span class=\"blind\">상승</span></em></li>\n",
       "</ul>"
      ]
     },
     "execution_count": 57,
     "metadata": {},
     "output_type": "execute_result"
    }
   ],
   "source": [
    "fav = soup.select_one('#popularItemList')\n",
    "fav"
   ]
  },
  {
   "cell_type": "code",
   "execution_count": 54,
   "metadata": {},
   "outputs": [
    {
     "data": {
      "text/plain": [
       "[<a href=\"/item/main.naver?code=005930\" onclick=\"clickcr(this,'boa.list','005930','1',event)\">삼성전자</a>,\n",
       " <a href=\"/item/main.naver?code=034020\" onclick=\"clickcr(this,'boa.list','034020','2',event)\">두산에너빌리티</a>,\n",
       " <a href=\"/item/main.naver?code=000660\" onclick=\"clickcr(this,'boa.list','000660','3',event)\">SK하이닉스</a>,\n",
       " <a href=\"/item/main.naver?code=000100\" onclick=\"clickcr(this,'boa.list','000100','4',event)\">유한양행</a>,\n",
       " <a href=\"/item/main.naver?code=006400\" onclick=\"clickcr(this,'boa.list','006400','5',event)\">삼성SDI</a>,\n",
       " <a href=\"/item/main.naver?code=456070\" onclick=\"clickcr(this,'boa.list','456070','6',event)\">이엔셀</a>,\n",
       " <a href=\"/item/main.naver?code=476080\" onclick=\"clickcr(this,'boa.list','476080','7',event)\">M83</a>,\n",
       " <a href=\"/item/main.naver?code=352820\" onclick=\"clickcr(this,'boa.list','352820','8',event)\">하이브</a>,\n",
       " <a href=\"/item/main.naver?code=068270\" onclick=\"clickcr(this,'boa.list','068270','9',event)\">셀트리온</a>,\n",
       " <a href=\"/item/main.naver?code=196170\" onclick=\"clickcr(this,'boa.list','196170','10',event)\">알테오젠</a>]"
      ]
     },
     "execution_count": 54,
     "metadata": {},
     "output_type": "execute_result"
    }
   ],
   "source": [
    "soup.select_one('#popularItemList').select('a')"
   ]
  },
  {
   "cell_type": "code",
   "execution_count": 55,
   "metadata": {},
   "outputs": [
    {
     "name": "stdout",
     "output_type": "stream",
     "text": [
      "삼성전자\n",
      "두산에너빌리티\n",
      "SK하이닉스\n",
      "유한양행\n",
      "삼성SDI\n",
      "이엔셀\n",
      "M83\n",
      "하이브\n",
      "셀트리온\n",
      "알테오젠\n"
     ]
    }
   ],
   "source": [
    "for one in soup.select_one('#popularItemList').select('a'):\n",
    "    print(one.text)"
   ]
  },
  {
   "cell_type": "code",
   "execution_count": 59,
   "metadata": {},
   "outputs": [
    {
     "data": {
      "text/plain": [
       "[<li><em>1.</em><a href=\"/item/main.naver?code=005930\" onclick=\"clickcr(this,'boa.list','005930','1',event)\">삼성전자</a><span class=\"dn\">75,600</span><em class=\"bu_p bu_pdn\"><span class=\"blind\">하락</span></em></li>,\n",
       " <li><em>2.</em><a href=\"/item/main.naver?code=034020\" onclick=\"clickcr(this,'boa.list','034020','2',event)\">두산에너빌리티</a><span class=\"up\">18,550</span><em class=\"bu_p bu_pup\"><span class=\"blind\">상승</span></em></li>,\n",
       " <li><em>3.</em><a href=\"/item/main.naver?code=000660\" onclick=\"clickcr(this,'boa.list','000660','3',event)\">SK하이닉스</a><span class=\"dn\">174,500</span><em class=\"bu_p bu_pdn\"><span class=\"blind\">하락</span></em></li>,\n",
       " <li><em>4.</em><a href=\"/item/main.naver?code=000100\" onclick=\"clickcr(this,'boa.list','000100','4',event)\">유한양행</a><span class=\"up\">115,700</span><em class=\"bu_p bu_pup\"><span class=\"blind\">상승</span></em></li>,\n",
       " <li><em>5.</em><a href=\"/item/main.naver?code=006400\" onclick=\"clickcr(this,'boa.list','006400','5',event)\">삼성SDI</a><span class=\"up\">349,000</span><em class=\"bu_p bu_pup\"><span class=\"blind\">상승</span></em></li>,\n",
       " <li><em>6.</em><a href=\"/item/main.naver?code=456070\" onclick=\"clickcr(this,'boa.list','456070','6',event)\">이엔셀</a><span class=\"up\">28,150</span><em class=\"bu_p bu_pup\"><span class=\"blind\">상승</span></em></li>,\n",
       " <li><em>7.</em><a href=\"/item/main.naver?code=476080\" onclick=\"clickcr(this,'boa.list','476080','7',event)\">M83</a><span class=\"up\">24,550</span><em class=\"bu_p bu_pup\"><span class=\"blind\">상승</span></em></li>,\n",
       " <li><em>8.</em><a href=\"/item/main.naver?code=352820\" onclick=\"clickcr(this,'boa.list','352820','8',event)\">하이브</a><span class=\"up\">185,300</span><em class=\"bu_p bu_pup\"><span class=\"blind\">상승</span></em></li>,\n",
       " <li><em>9.</em><a href=\"/item/main.naver?code=068270\" onclick=\"clickcr(this,'boa.list','068270','9',event)\">셀트리온</a><span class=\"up\">202,000</span><em class=\"bu_p bu_pup\"><span class=\"blind\">상승</span></em></li>,\n",
       " <li><em>10.</em><a href=\"/item/main.naver?code=196170\" onclick=\"clickcr(this,'boa.list','196170','10',event)\">알테오젠</a><span class=\"up\">320,500</span><em class=\"bu_p bu_pup\"><span class=\"blind\">상승</span></em></li>]"
      ]
     },
     "execution_count": 59,
     "metadata": {},
     "output_type": "execute_result"
    }
   ],
   "source": [
    "tag_lis = fav.select('li')\n",
    "tag_lis"
   ]
  },
  {
   "cell_type": "code",
   "execution_count": 80,
   "metadata": {},
   "outputs": [
    {
     "data": {
      "text/plain": [
       "10"
      ]
     },
     "execution_count": 80,
     "metadata": {},
     "output_type": "execute_result"
    }
   ],
   "source": [
    "len(tag_lis)"
   ]
  },
  {
   "cell_type": "code",
   "execution_count": 81,
   "metadata": {},
   "outputs": [
    {
     "data": {
      "text/plain": [
       "<li><em>1.</em><a href=\"/item/main.naver?code=005930\" onclick=\"clickcr(this,'boa.list','005930','1',event)\">삼성전자</a><span class=\"dn\">75,600</span><em class=\"bu_p bu_pdn\"><span class=\"blind\">하락</span></em></li>"
      ]
     },
     "execution_count": 81,
     "metadata": {},
     "output_type": "execute_result"
    }
   ],
   "source": [
    "tag_lis[0]"
   ]
  },
  {
   "cell_type": "code",
   "execution_count": 83,
   "metadata": {},
   "outputs": [
    {
     "data": {
      "text/plain": [
       "'1'"
      ]
     },
     "execution_count": 83,
     "metadata": {},
     "output_type": "execute_result"
    }
   ],
   "source": [
    "tag_lis[0].select_one('em').text.replace('.', '')"
   ]
  },
  {
   "cell_type": "code",
   "execution_count": 84,
   "metadata": {},
   "outputs": [
    {
     "data": {
      "text/plain": [
       "'삼성전자'"
      ]
     },
     "execution_count": 84,
     "metadata": {},
     "output_type": "execute_result"
    }
   ],
   "source": [
    "tag_lis[0].select_one('a').text"
   ]
  },
  {
   "cell_type": "code",
   "execution_count": 85,
   "metadata": {},
   "outputs": [
    {
     "data": {
      "text/plain": [
       "'75,600'"
      ]
     },
     "execution_count": 85,
     "metadata": {},
     "output_type": "execute_result"
    }
   ],
   "source": [
    "tag_lis[0].select_one('span').text"
   ]
  },
  {
   "cell_type": "code",
   "execution_count": 86,
   "metadata": {},
   "outputs": [
    {
     "data": {
      "text/plain": [
       "'하락'"
      ]
     },
     "execution_count": 86,
     "metadata": {},
     "output_type": "execute_result"
    }
   ],
   "source": [
    "tag_lis[0].select_one('span.blind').text"
   ]
  },
  {
   "cell_type": "code",
   "execution_count": 90,
   "metadata": {},
   "outputs": [
    {
     "data": {
      "text/plain": [
       "'ac'"
      ]
     },
     "execution_count": 90,
     "metadata": {},
     "output_type": "execute_result"
    }
   ],
   "source": [
    "'abc'.replace('b', '')"
   ]
  },
  {
   "cell_type": "code",
   "execution_count": 91,
   "metadata": {},
   "outputs": [
    {
     "data": {
      "text/plain": [
       "'abcde'"
      ]
     },
     "execution_count": 91,
     "metadata": {},
     "output_type": "execute_result"
    }
   ],
   "source": [
    "'abc'  + 'de'"
   ]
  },
  {
   "cell_type": "code",
   "execution_count": 73,
   "metadata": {},
   "outputs": [
    {
     "name": "stdout",
     "output_type": "stream",
     "text": [
      "1위 : 삼성전자 75,600 하락\n",
      "2위 : 두산에너빌리티 18,550 상승\n",
      "3위 : SK하이닉스 174,500 하락\n",
      "4위 : 유한양행 115,700 상승\n",
      "5위 : 삼성SDI 349,000 상승\n",
      "6위 : 이엔셀 28,150 상승\n",
      "7위 : M83 24,550 상승\n",
      "8위 : 하이브 185,300 상승\n",
      "9위 : 셀트리온 202,000 상승\n",
      "10위 : 알테오젠 320,500 상승\n"
     ]
    }
   ],
   "source": [
    "for one in tag_lis:\n",
    "    rank = one.select_one('em').text.replace('.', '') + '위 :'\n",
    "    stock_name = one.select_one('a').text\n",
    "    stock_price = one.select_one('span').text\n",
    "    stock_updn = one.select_one('span.blind').text\n",
    "    print(rank, stock_name, stock_price, stock_updn)"
   ]
  },
  {
   "cell_type": "code",
   "execution_count": null,
   "metadata": {},
   "outputs": [],
   "source": []
  }
 ],
 "metadata": {
  "interpreter": {
   "hash": "569b4317022eb29baeafb3d0f1f739310808ea28ce83ca127a35db1c01070585"
  },
  "kernelspec": {
   "display_name": "Python 3.9.12 ('base')",
   "language": "python",
   "name": "python3"
  },
  "language_info": {
   "codemirror_mode": {
    "name": "ipython",
    "version": 3
   },
   "file_extension": ".py",
   "mimetype": "text/x-python",
   "name": "python",
   "nbconvert_exporter": "python",
   "pygments_lexer": "ipython3",
   "version": "3.9.12"
  },
  "orig_nbformat": 4
 },
 "nbformat": 4,
 "nbformat_minor": 2
}
