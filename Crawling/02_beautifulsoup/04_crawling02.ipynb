{
 "cells": [
  {
   "cell_type": "code",
   "execution_count": 1,
   "metadata": {},
   "outputs": [],
   "source": [
    "from urllib.request import urlopen\n",
    "from bs4 import BeautifulSoup as bs"
   ]
  },
  {
   "cell_type": "code",
   "execution_count": 2,
   "metadata": {},
   "outputs": [
    {
     "data": {
      "text/plain": [
       "'코스피 : 네이버페이 증권'"
      ]
     },
     "execution_count": 2,
     "metadata": {},
     "output_type": "execute_result"
    }
   ],
   "source": [
    "url = 'https://finance.naver.com/sise/sise_index.nhn?code=KOSPI'\n",
    "page = urlopen(url)\n",
    "soup = bs(page, 'lxml')\n",
    "soup.title.text"
   ]
  },
  {
   "cell_type": "markdown",
   "metadata": {},
   "source": [
    "## 3-6 코스피 정보 가져오기"
   ]
  },
  {
   "cell_type": "code",
   "execution_count": 3,
   "metadata": {},
   "outputs": [
    {
     "name": "stdout",
     "output_type": "stream",
     "text": [
      "거래량(천주) : 2,867.38\n"
     ]
    }
   ],
   "source": [
    "Que = soup.find(id=\"now_value\")\n",
    "print('거래량(천주) :', Que.text)"
   ]
  },
  {
   "cell_type": "code",
   "execution_count": 4,
   "metadata": {},
   "outputs": [
    {
     "name": "stdout",
     "output_type": "stream",
     "text": [
      "장중 최고가 : 2,875.37\n"
     ]
    }
   ],
   "source": [
    "High = soup.find(id=\"high_value\")\n",
    "print(\"장중 최고가 :\", High.text)"
   ]
  },
  {
   "cell_type": "code",
   "execution_count": 21,
   "metadata": {},
   "outputs": [
    {
     "name": "stdout",
     "output_type": "stream",
     "text": [
      "<list_iterator object at 0x000001CEC4D465B0>\n"
     ]
    }
   ],
   "source": [
    "table_kos_index = soup.find(class_=\"table_kos_index\").children\n",
    "print(table_kos_index)"
   ]
  },
  {
   "cell_type": "code",
   "execution_count": 22,
   "metadata": {},
   "outputs": [
    {
     "name": "stdout",
     "output_type": "stream",
     "text": [
      "0 \n",
      "\n",
      "1 <caption>코스피 주요시세</caption>\n",
      "2 \n",
      "\n",
      "3 <tr>\n",
      "<th class=\"th\"><span class=\"blind\">거래량(천주)</span></th>\n",
      "<td class=\"td\" id=\"quant\">316,232</td>\n",
      "<th class=\"th2\"><span class=\"blind\">거래대금(백만)</span></th>\n",
      "<td class=\"td2\" id=\"amount\">5,777,405</td>\n",
      "</tr>\n",
      "4 \n",
      "\n",
      "5 <tr>\n",
      "<th><span class=\"blind\">장중최고</span></th>\n",
      "<td class=\"td\" id=\"high_value\">2,412.47</td>\n",
      "<th><span class=\"blind\">장중최저</span></th>\n",
      "<td class=\"td2\" id=\"low_value\">2,385.65</td>\n",
      "</tr>\n",
      "6 \n",
      "\n",
      "7 <tr>\n",
      "<th><span class=\"blind\">52주최고</span></th>\n",
      "<td class=\"td\">3,296.17</td>\n",
      "<th><span class=\"blind\">52주최저</span></th>\n",
      "<td class=\"td2\">2,276.63</td>\n",
      "</tr>\n",
      "8 \n",
      "\n",
      "9 <tr>\n",
      "<th class=\"th\"><span class=\"blind\">등락/종목</span></th>\n",
      "<td class=\"td3\" colspan=\"3\">\n",
      "<ul>\n",
      "<li class=\"lst\"><span class=\"blind\">상한종목수</span><a href=\"/sise/sise_upper.naver\"><span>1</span></a></li>\n",
      "<li class=\"lst2\"><span class=\"blind\">상승종목수</span><a href=\"/sise/sise_rise.naver\"><span>427</span></a></li>\n",
      "<li class=\"lst3\"><span class=\"blind\">보합종목수</span><a href=\"/sise/sise_steady.naver\"><span>100</span></a></li>\n",
      "<li class=\"lst4\"><span class=\"blind\">하락종목수</span><a href=\"/sise/sise_fall.naver\"><span>400</span></a></li>\n",
      "<li class=\"lst5\"><span class=\"blind\">하한종목수</span><a href=\"/sise/sise_lower.naver\"><span>0</span></a></li>\n",
      "</ul>\n",
      "</td>\n",
      "</tr>\n",
      "10 \n",
      "\n"
     ]
    }
   ],
   "source": [
    "list1 = list(table_kos_index)\n",
    "for i, b in enumerate(list1):\n",
    "\tprint(i, b)\n",
    "# 52주 인덱스 : 7"
   ]
  },
  {
   "cell_type": "code",
   "execution_count": 23,
   "metadata": {},
   "outputs": [
    {
     "name": "stdout",
     "output_type": "stream",
     "text": [
      "52주 최고가 : 3,296.17\n"
     ]
    }
   ],
   "source": [
    "print(\"52주 최고가 :\",list1[7].find(class_=\"td\").text)"
   ]
  },
  {
   "cell_type": "markdown",
   "metadata": {},
   "source": [
    "## 3-7 (추가) 투자자별 매매동향, 프로그램 매매동향"
   ]
  },
  {
   "cell_type": "code",
   "execution_count": 14,
   "metadata": {},
   "outputs": [
    {
     "name": "stdout",
     "output_type": "stream",
     "text": [
      "개인 : -2,829억\n",
      "외국인 : +924억\n",
      "기관 : +1,932억\n",
      "차익 : +163억\n",
      "비차익 : +932억\n",
      "전체 : +1,095억\n"
     ]
    }
   ],
   "source": [
    "lst_kor_info = soup.dl\n",
    "# print(lst_kor_info)\n",
    "all_info = lst_kor_info.find_all(\"dd\")\n",
    "# print(all_info[0]) # 투자별 매매동향 개인\n",
    "# print(all_info[3]) # 프로그램 매매동향 차익\n",
    "# print(all_info[4]) # 프로그램 매매동향 비차익\n",
    "# print(all_info[5]) # 프로그램 매매동향 전체\n",
    "# 개인, 외국인, 기관 매매 동향\n",
    "print(\"개인 :\", all_info[0].span.text)\n",
    "print(\"외국인 :\", all_info[1].span.text)\n",
    "print(\"기관 :\", all_info[2].span.text)\n",
    "\n",
    "# 프로그램 매매 동향\n",
    "print(\"차익 :\", all_info[3].span.text)\n",
    "print(\"비차익 :\", all_info[4].span.text)\n",
    "print(\"전체 :\", all_info[5].span.text)"
   ]
  },
  {
   "cell_type": "markdown",
   "metadata": {},
   "source": [
    "## 3-8 실습 - 시황뉴스"
   ]
  },
  {
   "cell_type": "code",
   "execution_count": 17,
   "metadata": {},
   "outputs": [
    {
     "name": "stdout",
     "output_type": "stream",
     "text": [
      "[<span class=\"tit\"><a href=\"/news/news_read.naver?article_id=0013332762&amp;office_id=001&amp;mode=LSS3D&amp;type=0&amp;section_id=101&amp;section_id2=258&amp;section_id3=401&amp;page=1\">코스피 0.44% 상승 마감…2거래일 만에 2,400선 회복</a></span>, <span class=\"tit\"><a href=\"/news/news_read.naver?article_id=0004079991&amp;office_id=011&amp;mode=LSS3D&amp;type=0&amp;section_id=101&amp;section_id2=258&amp;section_id3=401&amp;page=1\">[코스피(마감)] 10.55포인트(0.44%) 오른 2403.69 마감</a></span>, <span class=\"tit\"><a href=\"/news/news_read.naver?article_id=0005122982&amp;office_id=277&amp;mode=LSS3D&amp;type=0&amp;section_id=101&amp;section_id2=258&amp;section_id3=401&amp;page=1\">코스피, 13.46P 상승한 2406.60 마감(0.44%↑)</a></span>, <span class=\"tit\"><a href=\"/news/news_read.naver?article_id=0005276581&amp;office_id=018&amp;mode=LSS3D&amp;type=0&amp;section_id=101&amp;section_id2=258&amp;section_id3=401&amp;page=1\">[마감]코스피 외국인 1053억 순매수</a></span>, <span class=\"tit\"><a href=\"/news/news_read.naver?article_id=0005276580&amp;office_id=018&amp;mode=LSS3D&amp;type=0&amp;section_id=101&amp;section_id2=258&amp;section_id3=401&amp;page=1\">[마감]코스피 기관 1948억 순매수</a></span>]\n"
     ]
    }
   ],
   "source": [
    "news = soup.find(class_=\"sise_report\")\n",
    "lst_news = news.find_all(\"span\", class_=\"tit\")\n",
    "print(lst_news) # 시황 뉴스 리스트"
   ]
  },
  {
   "cell_type": "code",
   "execution_count": 18,
   "metadata": {},
   "outputs": [
    {
     "name": "stdout",
     "output_type": "stream",
     "text": [
      "코스피 0.44% 상승 마감…2거래일 만에 2,400선 회복\n"
     ]
    }
   ],
   "source": [
    "print(lst_news[0].text)"
   ]
  },
  {
   "cell_type": "code",
   "execution_count": 24,
   "metadata": {},
   "outputs": [
    {
     "name": "stdout",
     "output_type": "stream",
     "text": [
      "코스피 0.44% 상승 마감…2거래일 만에 2,400선 회복\n",
      "[코스피(마감)] 10.55포인트(0.44%) 오른 2403.69 마감\n",
      "코스피, 13.46P 상승한 2406.60 마감(0.44%↑)\n",
      "[마감]코스피 외국인 1053억 순매수\n",
      "[마감]코스피 기관 1948억 순매수\n"
     ]
    }
   ],
   "source": [
    "for i in lst_news:\n",
    "\tprint(i.text)"
   ]
  },
  {
   "cell_type": "markdown",
   "metadata": {},
   "source": [
    "## 3-8 (추가) 시황정보 리포트 정보 가져오기"
   ]
  },
  {
   "cell_type": "code",
   "execution_count": 25,
   "metadata": {},
   "outputs": [
    {
     "name": "stdout",
     "output_type": "stream",
     "text": [
      "[<span class=\"tit\"><a href=\"/research/market_info_read.naver?nid=23128&amp;page=1\">교보박스 브리핑</a></span>, <span class=\"tit\"><a href=\"/research/market_info_read.naver?nid=23127&amp;page=1\">[DS Daily] 뉴욕 한장</a></span>, <span class=\"tit\"><a href=\"/research/market_info_read.naver?nid=23126&amp;page=1\">eBest Global Market Daily</a></span>, <span class=\"tit\"><a href=\"/research/market_info_read.naver?nid=23125&amp;page=1\">교보박스 브리핑</a></span>, <span class=\"tit\"><a href=\"/research/market_info_read.naver?nid=23124&amp;page=1\">[DS Daily] 뉴욕 한장</a></span>]\n"
     ]
    }
   ],
   "source": [
    "news_all = soup.find_all(class_=\"sise_report\")\n",
    "report = news_all[1].find_all(\"span\", class_=\"tit\")\n",
    "print(report) # 시황정보 리포트 리스트"
   ]
  },
  {
   "cell_type": "code",
   "execution_count": 26,
   "metadata": {},
   "outputs": [
    {
     "name": "stdout",
     "output_type": "stream",
     "text": [
      "교보박스 브리핑\n",
      "[DS Daily] 뉴욕 한장\n",
      "eBest Global Market Daily\n",
      "교보박스 브리핑\n",
      "[DS Daily] 뉴욕 한장\n"
     ]
    }
   ],
   "source": [
    "for i in report:\n",
    "\tprint(i.text)"
   ]
  },
  {
   "cell_type": "code",
   "execution_count": null,
   "metadata": {},
   "outputs": [],
   "source": []
  }
 ],
 "metadata": {
  "interpreter": {
   "hash": "569b4317022eb29baeafb3d0f1f739310808ea28ce83ca127a35db1c01070585"
  },
  "kernelspec": {
   "display_name": "Python 3.9.12 ('base')",
   "language": "python",
   "name": "python3"
  },
  "language_info": {
   "codemirror_mode": {
    "name": "ipython",
    "version": 3
   },
   "file_extension": ".py",
   "mimetype": "text/x-python",
   "name": "python",
   "nbconvert_exporter": "python",
   "pygments_lexer": "ipython3",
   "version": "3.9.12"
  },
  "orig_nbformat": 4
 },
 "nbformat": 4,
 "nbformat_minor": 2
}
