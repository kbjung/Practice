{
 "cells": [
  {
   "cell_type": "code",
   "execution_count": 1,
   "id": "bd333644",
   "metadata": {},
   "outputs": [],
   "source": [
    "from selenium import webdriver\n",
    "from bs4 import BeautifulSoup"
   ]
  },
  {
   "cell_type": "code",
   "execution_count": 3,
   "id": "a2a85436",
   "metadata": {},
   "outputs": [],
   "source": [
    "driver = webdriver.Chrome('chromedriver')\n",
    "\n",
    "## https://www.amazon.com/\n",
    "url = 'https://www.amazon.com/'\n",
    "driver.get(url)"
   ]
  },
  {
   "cell_type": "code",
   "execution_count": 4,
   "id": "41a53503",
   "metadata": {},
   "outputs": [],
   "source": [
    "# 검색창\n",
    "sel_input = driver.find_element_by_xpath('//*[@id=\"twotabsearchtextbox\"]')\n",
    "# 검색 버튼 요소\n",
    "sel_search = driver.find_element_by_xpath('/html/body/div[1]/header/div/div[1]/div[2]/div/form/div[3]/div/span/input')"
   ]
  },
  {
   "cell_type": "code",
   "execution_count": 5,
   "id": "4d4ae3bb",
   "metadata": {},
   "outputs": [],
   "source": [
    "# 검색창에 값 입력\n",
    "word = \"computer\"\n",
    "\n",
    "sel_input.clear()\n",
    "sel_input.send_keys(word)"
   ]
  },
  {
   "cell_type": "code",
   "execution_count": 6,
   "id": "cb4ea933",
   "metadata": {},
   "outputs": [],
   "source": [
    "sel_search.click()"
   ]
  },
  {
   "cell_type": "code",
   "execution_count": 7,
   "id": "f8edf626",
   "metadata": {},
   "outputs": [
    {
     "data": {
      "text/plain": [
       "<title>Amazon.com : computer</title>"
      ]
     },
     "execution_count": 7,
     "metadata": {},
     "output_type": "execute_result"
    }
   ],
   "source": [
    "page = driver.page_source\n",
    "soup = BeautifulSoup(page, 'html.parser')\n",
    "# soup.find_all('span', class_='a-size-medium a-color-base a-text-normal')\n",
    "soup.title"
   ]
  },
  {
   "cell_type": "code",
   "execution_count": 8,
   "id": "3dcc4626",
   "metadata": {},
   "outputs": [
    {
     "data": {
      "text/plain": [
       "'https://www.amazon.com/s?k=computer&ref=nb_sb_noss_2'"
      ]
     },
     "execution_count": 8,
     "metadata": {},
     "output_type": "execute_result"
    }
   ],
   "source": [
    "current_url = driver.current_url\n",
    "current_url"
   ]
  },
  {
   "cell_type": "code",
   "execution_count": 9,
   "id": "966d69d3",
   "metadata": {},
   "outputs": [
    {
     "name": "stdout",
     "output_type": "stream",
     "text": [
      "<h2 class=\"a-size-mini a-spacing-none a-color-base s-line-clamp-2\"><a class=\"a-link-normal a-text-normal\" href=\"/HP-ProDesk-600-G1-SFF/dp/B07BCGW85X/ref=sr_1_1?dchild=1&amp;keywords=computer&amp;qid=1631254016&amp;sr=8-1\"><span class=\"a-size-medium a-color-base a-text-normal\">HP ProDesk 600 G1 SFF Slim Business Desktop Computer, Intel i5-4570 up to 3.60 GHz, 8GB RAM, 500GB HDD, DVD, USB 3.0, Windows 10 Pro 64 Bit (Renewed) (8GB RAM | 500GB HDD) (Renewed)</span> </a> </h2>\n",
      "HP ProDesk 600 G1 SFF Slim Business Desktop Computer, Intel i5-4570 up to 3.60 GHz, 8GB RAM, 500GB HDD, DVD, USB 3.0, Windows 10 Pro 64 Bit (Renewed) (8GB RAM | 500GB HDD) (Renewed)\n",
      "\n",
      "/HP-ProDesk-600-G1-SFF/dp/B07BCGW85X/ref=sr_1_1?dchild=1&keywords=computer&qid=1631254016&sr=8-1\n"
     ]
    }
   ],
   "source": [
    "tmp = soup.find_all('h2', class_='a-size-mini a-spacing-none a-color-base s-line-clamp-2')[0]\n",
    "print(tmp)\n",
    "print(tmp.span.text)\n",
    "print()\n",
    "print(tmp.a.attrs['href'])"
   ]
  },
  {
   "cell_type": "code",
   "execution_count": 10,
   "id": "621f74ed",
   "metadata": {},
   "outputs": [
    {
     "data": {
      "text/plain": [
       "'https://www.amazon.com/s?k=computer&ref=nb_sb_noss_2/HP-ProDesk-600-G1-SFF/dp/B07BCGW85X/ref=sr_1_1?dchild=1&keywords=computer&qid=1631254016&sr=8-1'"
      ]
     },
     "execution_count": 10,
     "metadata": {},
     "output_type": "execute_result"
    }
   ],
   "source": [
    "# 전체 URL을 얻는다.\n",
    "current_url + tmp.a.attrs['href']"
   ]
  },
  {
   "cell_type": "markdown",
   "id": "788858cd",
   "metadata": {},
   "source": [
    "### 아마존 리뷰 가져오기"
   ]
  },
  {
   "cell_type": "code",
   "execution_count": 12,
   "id": "7581f6ec",
   "metadata": {},
   "outputs": [],
   "source": [
    "driver = webdriver.Chrome('chromedriver')\n",
    "\n",
    "## https://www.amazon.com/\n",
    "url = 'https://www.amazon.com/HP-24-inch-Computer-Processor-24-dd0010/dp/B0849GZCQR/ref=sr_1_2?dchild=1&keywords=computer&qid=1631254252&sr=8-2'\n",
    "driver.get(url)"
   ]
  },
  {
   "cell_type": "code",
   "execution_count": 13,
   "id": "9ce7946c",
   "metadata": {},
   "outputs": [],
   "source": [
    "### 첫번째 리뷰 버튼 : //*[@id=\"acrCustomerReviewText\"]\n",
    "first_review = driver.find_element_by_xpath('//*[@id=\"acrCustomerReviewText\"]')\n",
    "first_review.click()"
   ]
  },
  {
   "cell_type": "code",
   "execution_count": 14,
   "id": "fd7501d3",
   "metadata": {},
   "outputs": [],
   "source": [
    "### 두번째 리뷰 버튼 : //*[@id=\"reviews-medley-footer\"]/div[2]/a\n",
    "second_review = driver.find_element_by_xpath('//*[@id=\"reviews-medley-footer\"]/div[2]/a')\n",
    "second_review.click()"
   ]
  },
  {
   "cell_type": "code",
   "execution_count": 15,
   "id": "27241fd4",
   "metadata": {},
   "outputs": [],
   "source": [
    "### 페이지 정보를 넘겨받고, 하나의 리뷰를 가져오기"
   ]
  },
  {
   "cell_type": "code",
   "execution_count": 16,
   "id": "3b7293c2",
   "metadata": {},
   "outputs": [
    {
     "data": {
      "text/plain": [
       "<title>Amazon.com: Customer reviews: HP 24-inch All-in-One Desktop Computer, AMD Athlon Silver 3050U Processor, 8 GB RAM, 256 GB SSD, Windows 10 Home (24-dd0010, White)</title>"
      ]
     },
     "execution_count": 16,
     "metadata": {},
     "output_type": "execute_result"
    }
   ],
   "source": [
    "page = driver.page_source # 페이지 정보 전달\n",
    "soup = BeautifulSoup(page, \"lxml\")\n",
    "soup.title"
   ]
  },
  {
   "cell_type": "code",
   "execution_count": 19,
   "id": "90c28abd",
   "metadata": {},
   "outputs": [
    {
     "data": {
      "text/plain": [
       "\"This is the worst computer that I've ever owned , I have high speed internet and nothing has ben uploaded in this computer and it's so slow that it's just shy of me taking a hammer to it,this computer took me back to dialup that's how slow it is. I bought it for my business that I open on Oct. 15th and really dont think it's going to work out wish I could return it\""
      ]
     },
     "execution_count": 19,
     "metadata": {},
     "output_type": "execute_result"
    }
   ],
   "source": [
    "# 하나의 정보 확인\n",
    "txt = soup.find_all(\"span\", class_=\"a-size-base review-text review-text-content\")\n",
    "txt[0].text.strip()"
   ]
  },
  {
   "cell_type": "code",
   "execution_count": 23,
   "id": "e724026d",
   "metadata": {},
   "outputs": [
    {
     "name": "stdout",
     "output_type": "stream",
     "text": [
      "[\"This is the worst computer that I've ever owned , I have high speed internet and nothing has ben uploaded in this computer and it's so slow that it's just shy of me taking a hammer to it,this computer took me back to dialup that's how slow it is. I bought it for my business that I open on Oct. 15th and really dont think it's going to work out wish I could return it\", 'I am very happy with the design of the computer. It is thin and looks great. The 24\" screen is bright and has a good resolution. I find the speed to be adequate as well. The set up was easy, and I was able to get it set up the way I wanted almost immediately. It was much quicker than I thought it would be.  If I had a complaint it would be that the DVD drawer on the side seems to be a little flimsy. I feel like I have to be extra careful with it. I like the keyboard but not the mouse. Probably just a personal preference. Otherwise, I am very happy with my purchase.', 'I honestly am just going to be up front. With Covid, we we employees at my job were all sent home to work and I bought this sweet desk. Well we\\'ve since (just managers) have been brought back to the site. I have a laptop and perfectly capable s20 ultra. But I felt depressed with this desk I pimped out with led lights and cool pics of all of my family. So thats why I got this. <<wrote all this and now 6 short months later I don\\'t even use it. It\\'s slow, loud, cheaply made. The specs seemed to be that of meeting my needs. I can\\'t even play YouTube vids past 1080p. My 3 year old laptop xps is way more on point. I ended up buying a 34\" ultrawide curved monitor and have the laptop hidden behind that which is such a better option. I\\'m trying to give this thing away. Its just not what its cut out to be. :( first pic there it sits next to my old dual monitors (work from home). And second pic is what I now use. Third pic. Buy a nice monitor and a small but good laptop and boom.', 'Very slow to boot up.Too much bloatware to uninstalled.', 'My wife and I use a computer like old people so this computer is perfect for us. We have also found that HP is a great brand when it comes to computers and printers. Our 300.00 laptop we bought 5 years ago still works great too. If you are looking for a good basic desk top that does not take up a lot space and works like a charm then this will work great for you.', 'This is a great computer (has been the last three weeks). I am a young, impatient, business owner and was fully expecting to return this if it showed and signs of sluggishness, I realized I didn’t spend much on it but figured I would try it out. I don’t do gaming or anything but the picture quality is nice and it is fast to do anything a computer should be fast at, the extent of what I do is load large architectural drawings and this does a pretty good job there!It looks nice and modern on my desk, speakers are good I think but I use a Bluetooth either way.I bought my own wireless keyboard and mouse prior to receiving it and after doing some research.If you’re not creating video content or gaming, this is an amazing computer for general use and I definitely suggest it!', 'Love how clean and tucked away everything is.  Love the big screen and it’s great for watching Ghost Adventures on Hulu! 😁', \"I like the all in one feature on this. The last 3 laptops I had all had issues with the opening and closing, the wires got crossed or the plastic hinges fell apart and it just wouldn't work any longer. So I love this one. Of course I can't take it with me when I go somewhere, but I have a tablet and can use that when I'm on the go. The screen on this is amazing, the speed is good and it has a large memory. I'm loving it so far.\", 'I love this computer. I use it mostly for completing school work but sometimes play games. The only thing I don’t like is that there is a loud buzzing sound when it’s been running for a while. I’m assuming it’s the fan inside. Otherwise everything works great.', \"This was an impressive computer in all respects, except 3 months after delivery it went dead.  Unresponsive to its power button, mouse or keyboard and automatic repair.  No way to get into it to even return to factory defaults and HP would not assist me in taking out the hard drive.  I did get Amazon's guarantee they would wipe the hard drive when it was returned.  I liked this model so much I bought another one, but from another vendor because Amazon was out of stock.\"]\n"
     ]
    },
    {
     "data": {
      "text/plain": [
       "10"
      ]
     },
     "execution_count": 23,
     "metadata": {},
     "output_type": "execute_result"
    }
   ],
   "source": [
    "all_r = soup.find_all(\"span\", class_=\"a-size-base review-text review-text-content\")\n",
    "\n",
    "all_review = []\n",
    "for one in all_r:\n",
    "    tmp = one.text\n",
    "    review = tmp.strip()\n",
    "    all_review.append(review)\n",
    "    \n",
    "print(all_review)\n",
    "len(all_review)"
   ]
  },
  {
   "cell_type": "code",
   "execution_count": 24,
   "id": "5e1b8957",
   "metadata": {},
   "outputs": [],
   "source": [
    "import pandas as pd"
   ]
  },
  {
   "cell_type": "code",
   "execution_count": 25,
   "id": "29577eb2",
   "metadata": {},
   "outputs": [],
   "source": [
    "dict_dat = {\"review\" : all_review}\n",
    "dat = pd.DataFrame(dict_dat)\n",
    "dat.to_csv(\"amazon_firstpage_review.csv\", index=False)\n",
    "dat.to_excel(\"amazon_firstpage_review.xlsx\", index=False)"
   ]
  },
  {
   "cell_type": "code",
   "execution_count": null,
   "id": "4f0ac709",
   "metadata": {},
   "outputs": [],
   "source": [
    "# 리뷰 페이지 중 두번째 페이지 xpath: //*[@id=\"cm_cr-pagination_bar\"]/ul/li[2]/a"
   ]
  },
  {
   "cell_type": "code",
   "execution_count": 26,
   "id": "f789dd52",
   "metadata": {},
   "outputs": [],
   "source": [
    "second_review_page = driver.find_element_by_xpath('//*[@id=\"cm_cr-pagination_bar\"]/ul/li[2]/a')\n",
    "second_review_page.click()"
   ]
  },
  {
   "cell_type": "code",
   "execution_count": 27,
   "id": "76422c5d",
   "metadata": {},
   "outputs": [
    {
     "data": {
      "text/plain": [
       "<title>Amazon.com: Customer reviews: HP 24-inch All-in-One Desktop Computer, AMD Athlon Silver 3050U Processor, 8 GB RAM, 256 GB SSD, Windows 10 Home (24-dd0010, White)</title>"
      ]
     },
     "execution_count": 27,
     "metadata": {},
     "output_type": "execute_result"
    }
   ],
   "source": [
    "review_page2 = driver.page_source\n",
    "soup2 = BeautifulSoup(review_page2, \"lxml\")\n",
    "soup2.title"
   ]
  },
  {
   "cell_type": "code",
   "execution_count": 31,
   "id": "19793aeb",
   "metadata": {},
   "outputs": [
    {
     "data": {
      "text/plain": [
       "\"Computer is easy to work with.  Setup was a breeze.  But, any new computer takes time to adjust your settings, learn new ways to work with it and add the programs and apps that you want.  It's good looking and very responsive.  The corded keyboard and mouse were vey lightweight and I replaced them with some better quality wireless ones.  I would buy again.\""
      ]
     },
     "execution_count": 31,
     "metadata": {},
     "output_type": "execute_result"
    }
   ],
   "source": [
    "reviews = soup2.find_all(\"span\", class_=\"a-size-base review-text review-text-content\")\n",
    "reviews[0].text.strip()"
   ]
  },
  {
   "cell_type": "code",
   "execution_count": 32,
   "id": "37b39603",
   "metadata": {},
   "outputs": [
    {
     "data": {
      "text/plain": [
       "[\"Computer is easy to work with.  Setup was a breeze.  But, any new computer takes time to adjust your settings, learn new ways to work with it and add the programs and apps that you want.  It's good looking and very responsive.  The corded keyboard and mouse were vey lightweight and I replaced them with some better quality wireless ones.  I would buy again.\",\n",
       " 'After much research, I bought this computer for my partner, as she was getting frustrated with her 3-year old one. This one is a keeper.Is it  the fastest machine in the world ... no; but on the other hand, it is not the slowest either. In fact, its speed is more than adequate. Is it a good \"gaming\" computer? Absolutely not! The graphics are \"par excellence,\" and the sound from the front loaded speakers is much better than I expected. However, for $500 including 8 gigs of ram and a 256 gb SSD , I do not think that the value can be beat.  It is very well constructed and solid, except for the DVD read/write drive. You must be gentle with it, but it works fine. We also appreciate the hidden, private, and covered camera and built-in microphone which becomes observable and usable only when you want to use it. We always had to put a covering over the camera and over the microphone port in all the other machines in our house hold including the smart TV\\'s.',\n",
       " \"Easy to set up. A lady's voice walks you through the whole set up process. Clear vivid picture, fast moving through different applications, windows 10 working fine, comes with word, excel and many other significant programs that are perfect for me. The CDROM made my printer set up a breeze and easy set up instructions like where all of the plugs go into where. Even easy for ME! Very pleased and would highly recommend especially if you need the CD because new models coming out don't have the CD. You would have to buy a separate CD unit (only about $40.00) but why have to. Again GREAT Computer!\",\n",
       " 'Very easy to set up as there were no wires to the printer, and to the screen, etc.  Everything hooked right up and talked to each other.  I did purchase an extra USB setup as I have many small items that only charge from a USB cord with no option for plugging in to an outlet.  I would have loved a second screen but it does not have the ability to add a traditional plug in one, so I will have to wait and buy a wireless one down the road.  Good speed.  Hate all of the HP and Microsoft \"you need this\" because I like to keep my PC simple, but for the mean time I have let them have their way to monitor me to the end of the earth.  I got this particular set up for the cost, and the fact that I really do not do \"a lot\" on my PC, no gaming etc. I can\\'t stand laptops and I run an Etsy business so this is perfecto! With Windows 11 on the horizon my other PC was not compatible to it anyways.  And if forced me to update items I had purchased long ago so my graphics programs, etc., are all in 2021 now - to the future - and beyond!',\n",
       " \"HP customer service is the worst! I bought this item, and, within the first 5 weeks, it went black on the screen. I had to travel 60 miles round trip to mail it back to them, in the carton, HP provided. It was over a 2 week wait to have it returned to me. It only stayed fixed for a few more weeks. Now I can't get the right department, to return it to them, once again. The screen goes black intermittently, sporadically. I give up. I love the large screen, but, other than that, I think it's a waste of money. I DO NOT recommend this to anyone. I am HUGELY disappointed, and I juts hope the screen stays on. ARRGGH!\",\n",
       " 'The screen doesn\\'t glare as much as others, easier on the eyes. Of course, the negatives are that Microsoft tries to overwhelm you with their products and add ons, most of which you don\\'t need anyway. The tilt screen is really nice. It\\'s thin and lightweight. It\\'s kinda weird that they put the model and serial numbers where you can\\'t reach them unless you turn the screen upside down. I do like it, but it\\'s taking me an inordinate amount of time to get all my \"stuff\" on there. The worst thing is they give you a keyboard and mouse with cables instead of cordless! Ug.',\n",
       " 'Pro: The computer is an upgrade from our 10 year old system.  Love the large screen, microphone and camera work well for online classes and meetings. Keyboard works well.Con: System runs a little slow.  The mouse is a struggle and will need to be replaced. I have to click on the mouse numerous times to get it to respond.',\n",
       " 'This HP All in-one model is an awesome value at a surprisingly low price point if two things are acceptable: no touchscreen and the 8 GB main memory is shared with Graphics (so only 6 GB effective for programs).  For my desk/office use, I only use mouse/keyboard so no issue for me.  Boot-up/setup was easy and flawless, the performance boost from the 256 GB SSD drive is huge (if you are used to a \"hard\" disk drive), graphics are clear, and including a writable DVD drive is a nice plus.  You \"pop up\" the webcam when needed, although the HP webcam quality is not the best.  This system is TOTALLY quiet.  Great choice.',\n",
       " \"This replaced a cheapo Dell AIO I had been using as a bedside browser and streaming video player. The Dell was a single core CPU with the world's slowest hard drive - really, it would take 20 minutes to do a reboot and heaven help me if Microsloth decided to update Windows 10.The HP won't win any prizes as a gaming PC, but it isn't meant to be one. With two physical cores and whatever AMD calls hyperthreading, the CPU is more than adequate for browsing and video watching. The SSD is a screamer compared to my old hard drive. I also like the fact the webcam is on a manually operated pop-up - I never liked the thought that someone could hack my system and use the camera without my knowledge.The two negatives are the amount of bloatware the system came with, which HP keeps re-installing when I uninstall them. The second is the lack of any information on updating the memory with a second SODIMM. The online manual from HP is a joke as far as hardware is concerned and searching the Internet resulted in zero hardware maintenance docs or articles on disassembly. Even looking up the model number on Crucial or a few other memory retailers came back with no matches. If I hadn't found a mention of a motherboard model # I wouldn't even have known there is supposed to be a second SODIMM slot.Oh, yeah, I just saw the 'Rate features'  of this review. I don't use the touch screen function, so I can't say how well that works. I would rate the value of the units as average, although the mouse and keyboard are super-cheap. I threw out the keyboard and replaced with an old mechanical keyboard I had laying around.One final complaint: for a relatively new system, why doesn't it have a USB type-C port? Most modern USB peripherals require a type-C port and it irritates me that HP left one off.\",\n",
       " \"I have not found anything I do not like about this computer. It has a huge clear screen, it's fast, camera and speakers are top notch. Easy set up...love it!\"]"
      ]
     },
     "execution_count": 32,
     "metadata": {},
     "output_type": "execute_result"
    }
   ],
   "source": [
    "all_review = []\n",
    "for one in reviews:\n",
    "    tmp = one.text.strip()\n",
    "    all_review.append(tmp)\n",
    "    \n",
    "all_review"
   ]
  },
  {
   "cell_type": "code",
   "execution_count": 33,
   "id": "97495da7",
   "metadata": {},
   "outputs": [],
   "source": [
    "dict_dat = {\"review\" : all_review}\n",
    "dat = pd.DataFrame(dict_dat)\n",
    "dat.to_csv(\"amazon_secondpage_review.csv\", index=False)\n",
    "dat.to_excel(\"amazon_secondpage_review.xlsx\", index=False)"
   ]
  },
  {
   "cell_type": "code",
   "execution_count": null,
   "id": "9c6a153c",
   "metadata": {},
   "outputs": [],
   "source": []
  }
 ],
 "metadata": {
  "kernelspec": {
   "display_name": "Python 3",
   "language": "python",
   "name": "python3"
  },
  "language_info": {
   "codemirror_mode": {
    "name": "ipython",
    "version": 3
   },
   "file_extension": ".py",
   "mimetype": "text/x-python",
   "name": "python",
   "nbconvert_exporter": "python",
   "pygments_lexer": "ipython3",
   "version": "3.8.8"
  }
 },
 "nbformat": 4,
 "nbformat_minor": 5
}
