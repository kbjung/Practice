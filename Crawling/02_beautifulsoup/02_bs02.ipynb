{
 "cells": [
  {
   "cell_type": "code",
   "execution_count": 2,
   "metadata": {},
   "outputs": [],
   "source": [
    "from bs4 import BeautifulSoup"
   ]
  },
  {
   "cell_type": "code",
   "execution_count": 3,
   "metadata": {},
   "outputs": [],
   "source": [
    "page1 = '''\n",
    "<html>\n",
    "<title>나의 홈페이지</title>\n",
    "<body>\n",
    "\n",
    "<div>\n",
    "    \n",
    "</div>\n",
    "\n",
    "<div>\n",
    "    \n",
    "</div>\n",
    "\n",
    "<div>\n",
    "    <a href=\"https://www.naver.com/\">naver</a>\n",
    "    <a href=\"https://www.google.com\">google</a>\n",
    "    <p class=\"p3\"> [영역1] 필요없는 정보1 </p>\n",
    "    <p class=\"p3\"> [영역1] 필요없는 정보3 </p>\n",
    "    <p id=\"p4\"> [영역1] 필요없는 정보2 </p>\n",
    "</div>\n",
    "<div>\n",
    "    <a href=\"https://www.naver.com/\">naver</a>\n",
    "    <a href=\"https://www.google.com\">google</a>\n",
    "    <p class=\"p3\"> [영역2] 강아지 사진과 네이버 링크 </p>\n",
    "    <p class=\"p3\"> [영역2] 강아지 사진과 네이버 링크222 </p>\n",
    "    <p id=\"p4\"> [영역2] 간단한 나의 홈페이지를 만들다.</p>\n",
    "</div>\n",
    "</body>\n",
    "</html>\n",
    "'''"
   ]
  },
  {
   "cell_type": "code",
   "execution_count": 4,
   "metadata": {},
   "outputs": [
    {
     "name": "stdout",
     "output_type": "stream",
     "text": [
      "<title>나의 홈페이지</title>\n"
     ]
    }
   ],
   "source": [
    "# 1. title 출력\n",
    "soup = BeautifulSoup(page1, 'lxml')\n",
    "print( soup.title )"
   ]
  },
  {
   "cell_type": "code",
   "execution_count": 5,
   "metadata": {},
   "outputs": [],
   "source": [
    "# 2. 아래 정보 출력\n",
    "# [영역2] 강아지 사진과 네이버 링크 \n",
    "# [영역2] 강아지 사진과 네이버 링크222 "
   ]
  },
  {
   "cell_type": "code",
   "execution_count": 6,
   "metadata": {},
   "outputs": [
    {
     "name": "stdout",
     "output_type": "stream",
     "text": [
      "4\n",
      "<div>\n",
      "<a href=\"https://www.naver.com/\">naver</a>\n",
      "<a href=\"https://www.google.com\">google</a>\n",
      "<p class=\"p3\"> [영역2] 강아지 사진과 네이버 링크 </p>\n",
      "<p class=\"p3\"> [영역2] 강아지 사진과 네이버 링크222 </p>\n",
      "<p id=\"p4\"> [영역2] 간단한 나의 홈페이지를 만들다.</p>\n",
      "</div>\n"
     ]
    }
   ],
   "source": [
    "one_info = soup.find_all(\"div\")\n",
    "print(len(one_info))\n",
    "print(one_info[3])"
   ]
  },
  {
   "cell_type": "code",
   "execution_count": 7,
   "metadata": {},
   "outputs": [
    {
     "name": "stdout",
     "output_type": "stream",
     "text": [
      "<div>\n",
      "<a href=\"https://www.naver.com/\">naver</a>\n",
      "<a href=\"https://www.google.com\">google</a>\n",
      "<p class=\"p3\"> [영역2] 강아지 사진과 네이버 링크 </p>\n",
      "<p class=\"p3\"> [영역2] 강아지 사진과 네이버 링크222 </p>\n",
      "<p id=\"p4\"> [영역2] 간단한 나의 홈페이지를 만들다.</p>\n",
      "</div>\n"
     ]
    }
   ],
   "source": [
    "wanted_info = soup.find_all('div')[3]\n",
    "print(wanted_info)"
   ]
  },
  {
   "cell_type": "code",
   "execution_count": 8,
   "metadata": {},
   "outputs": [
    {
     "name": "stdout",
     "output_type": "stream",
     "text": [
      "[<p class=\"p3\"> [영역2] 강아지 사진과 네이버 링크 </p>, <p class=\"p3\"> [영역2] 강아지 사진과 네이버 링크222 </p>]\n"
     ]
    }
   ],
   "source": [
    "last_info_multi = wanted_info.find_all('p', class_=\"p3\")\n",
    "print(last_info_multi)"
   ]
  },
  {
   "cell_type": "code",
   "execution_count": 9,
   "metadata": {},
   "outputs": [
    {
     "name": "stdout",
     "output_type": "stream",
     "text": [
      " [영역2] 강아지 사진과 네이버 링크 \n",
      " [영역2] 강아지 사진과 네이버 링크222 \n"
     ]
    }
   ],
   "source": [
    "for one in last_info_multi:\n",
    "\tprint(one.text)"
   ]
  },
  {
   "cell_type": "code",
   "execution_count": null,
   "metadata": {},
   "outputs": [],
   "source": [
    "# 3. 아래 정보 가져오기\n",
    "# <p class=\"p3\"> [영역1] 필요없는 정보1 </p>\n",
    "# <p class=\"p3\"> [영역1] 필요없는 정보3 </p>"
   ]
  },
  {
   "cell_type": "code",
   "execution_count": 9,
   "metadata": {},
   "outputs": [
    {
     "name": "stdout",
     "output_type": "stream",
     "text": [
      "<div>\n",
      "<a href=\"https://www.naver.com/\">naver</a>\n",
      "<a href=\"https://www.google.com\">google</a>\n",
      "<p class=\"p3\"> [영역1] 필요없는 정보1 </p>\n",
      "<p class=\"p3\"> [영역1] 필요없는 정보3 </p>\n",
      "<p id=\"p4\"> [영역1] 필요없는 정보2 </p>\n",
      "</div>\n",
      "[<p class=\"p3\"> [영역1] 필요없는 정보1 </p>, <p class=\"p3\"> [영역1] 필요없는 정보3 </p>]\n"
     ]
    }
   ],
   "source": [
    "# sol1. find 이용\n",
    "wanted_info = soup.find_all('div')[2]\n",
    "print(wanted_info)\n",
    "last_info_multi = wanted_info.find_all('p', class_=\"p3\")\n",
    "print(last_info_multi)"
   ]
  },
  {
   "cell_type": "code",
   "execution_count": 10,
   "metadata": {},
   "outputs": [
    {
     "name": "stdout",
     "output_type": "stream",
     "text": [
      " [영역1] 필요없는 정보1 \n",
      " [영역1] 필요없는 정보3 \n"
     ]
    }
   ],
   "source": [
    "for one in last_info_multi:\n",
    "\tprint(one.text)"
   ]
  },
  {
   "cell_type": "code",
   "execution_count": null,
   "metadata": {},
   "outputs": [],
   "source": [
    "## sol2. select 이용"
   ]
  },
  {
   "cell_type": "code",
   "execution_count": 13,
   "metadata": {},
   "outputs": [
    {
     "name": "stdout",
     "output_type": "stream",
     "text": [
      "<div>\n",
      "<a href=\"https://www.naver.com/\">naver</a>\n",
      "<a href=\"https://www.google.com\">google</a>\n",
      "<p class=\"p3\"> [영역2] 강아지 사진과 네이버 링크 </p>\n",
      "<p class=\"p3\"> [영역2] 강아지 사진과 네이버 링크222 </p>\n",
      "<p id=\"p4\"> [영역2] 간단한 나의 홈페이지를 만들다.</p>\n",
      "</div>\n"
     ]
    }
   ],
   "source": [
    "print(soup.select('div')[3])"
   ]
  },
  {
   "cell_type": "code",
   "execution_count": 14,
   "metadata": {},
   "outputs": [
    {
     "name": "stdout",
     "output_type": "stream",
     "text": [
      "[<p class=\"p3\"> [영역2] 강아지 사진과 네이버 링크 </p>, <p class=\"p3\"> [영역2] 강아지 사진과 네이버 링크222 </p>]\n"
     ]
    }
   ],
   "source": [
    "print(soup.select('div')[3].select('p.p3'))"
   ]
  },
  {
   "cell_type": "code",
   "execution_count": 15,
   "metadata": {},
   "outputs": [
    {
     "name": "stdout",
     "output_type": "stream",
     "text": [
      " [영역2] 강아지 사진과 네이버 링크 \n",
      " [영역2] 강아지 사진과 네이버 링크222 \n"
     ]
    }
   ],
   "source": [
    "for one in soup.select('div')[3].select('p.p3'):\n",
    "    print(one.text)"
   ]
  },
  {
   "cell_type": "code",
   "execution_count": 11,
   "metadata": {},
   "outputs": [],
   "source": [
    "# 4. (추가) 이를 우리가 원하는 리스트에 담아보기"
   ]
  },
  {
   "cell_type": "code",
   "execution_count": 12,
   "metadata": {},
   "outputs": [],
   "source": [
    "# # my sol1.\n",
    "# div2 = soup1.find_all('div')[2]\n",
    "# want_div2 = div2.find_all(class_=\"p3\")\n",
    "# list1 = []\n",
    "# for i in want_div2:\n",
    "# \tlist1.append(i.text)\n",
    "# print(list1)"
   ]
  },
  {
   "cell_type": "code",
   "execution_count": 15,
   "metadata": {},
   "outputs": [
    {
     "name": "stdout",
     "output_type": "stream",
     "text": [
      "[' [영역1] 필요없는 정보1 ', ' [영역1] 필요없는 정보3 ']\n"
     ]
    }
   ],
   "source": [
    "# sol.\n",
    "a = []\n",
    "for one in last_info_multi:\n",
    "\ta.append(one.text)\n",
    "print(a)"
   ]
  },
  {
   "cell_type": "code",
   "execution_count": null,
   "metadata": {},
   "outputs": [],
   "source": [
    "# 5. 아래 내용 가져오기\n",
    "# [영역2] 간단한 나의 홈페이지를 만들다."
   ]
  },
  {
   "cell_type": "code",
   "execution_count": 16,
   "metadata": {},
   "outputs": [
    {
     "name": "stdout",
     "output_type": "stream",
     "text": [
      "[<div>\n",
      "</div>, <div>\n",
      "</div>, <div>\n",
      "<a href=\"https://www.naver.com/\">naver</a>\n",
      "<a href=\"https://www.google.com\">google</a>\n",
      "<p class=\"p3\"> [영역1] 필요없는 정보1 </p>\n",
      "<p class=\"p3\"> [영역1] 필요없는 정보3 </p>\n",
      "<p id=\"p4\"> [영역1] 필요없는 정보2 </p>\n",
      "</div>, <div>\n",
      "<a href=\"https://www.naver.com/\">naver</a>\n",
      "<a href=\"https://www.google.com\">google</a>\n",
      "<p class=\"p3\"> [영역2] 강아지 사진과 네이버 링크 </p>\n",
      "<p class=\"p3\"> [영역2] 강아지 사진과 네이버 링크222 </p>\n",
      "<p id=\"p4\"> [영역2] 간단한 나의 홈페이지를 만들다.</p>\n",
      "</div>]\n"
     ]
    }
   ],
   "source": [
    "# sol1. find 이용\n",
    "div = soup.find_all('div')\n",
    "print(div)"
   ]
  },
  {
   "cell_type": "code",
   "execution_count": 17,
   "metadata": {},
   "outputs": [
    {
     "name": "stdout",
     "output_type": "stream",
     "text": [
      " [영역2] 간단한 나의 홈페이지를 만들다.\n"
     ]
    }
   ],
   "source": [
    "p4 = div[-1].find('p', id='p4')\n",
    "print(p4.text)"
   ]
  },
  {
   "cell_type": "code",
   "execution_count": 20,
   "metadata": {},
   "outputs": [
    {
     "name": "stdout",
     "output_type": "stream",
     "text": [
      " [영역2] 간단한 나의 홈페이지를 만들다.\n"
     ]
    }
   ],
   "source": [
    "# sol2. select 이용\n",
    "p4 = soup.select('div')[-1].select_one('p#p4')\n",
    "print(p4.text)"
   ]
  },
  {
   "cell_type": "code",
   "execution_count": 21,
   "metadata": {},
   "outputs": [
    {
     "name": "stdout",
     "output_type": "stream",
     "text": [
      "[<p id=\"p4\"> [영역1] 필요없는 정보2 </p>, <p id=\"p4\"> [영역2] 간단한 나의 홈페이지를 만들다.</p>]\n"
     ]
    }
   ],
   "source": [
    "p4s = soup.select('p#p4')\n",
    "print(p4s)"
   ]
  },
  {
   "cell_type": "code",
   "execution_count": 22,
   "metadata": {},
   "outputs": [
    {
     "name": "stdout",
     "output_type": "stream",
     "text": [
      " [영역2] 간단한 나의 홈페이지를 만들다.\n"
     ]
    }
   ],
   "source": [
    "p4 = p4s[1]\n",
    "print(p4.text)"
   ]
  },
  {
   "cell_type": "code",
   "execution_count": 7,
   "metadata": {},
   "outputs": [
    {
     "name": "stdout",
     "output_type": "stream",
     "text": [
      "<list_iterator object at 0x000001B6A7453250>\n",
      "<p id=\"p4\"> [영역1] 필요없는 정보2 </p>\n"
     ]
    }
   ],
   "source": [
    "# 참고.\n",
    "# children : 자기자신의 태그 제외하고 나머지 태그 리스트 형태로 가져온다.\n",
    "wanted_info = soup.find_all('div')[2]\n",
    "print(wanted_info.children) # div 태그의 한 단계 낮은 태그들을 리스트로 모음.\n",
    "print(list(wanted_info.children)[9])"
   ]
  }
 ],
 "metadata": {
  "interpreter": {
   "hash": "569b4317022eb29baeafb3d0f1f739310808ea28ce83ca127a35db1c01070585"
  },
  "kernelspec": {
   "display_name": "Python 3.9.12 ('base')",
   "language": "python",
   "name": "python3"
  },
  "language_info": {
   "codemirror_mode": {
    "name": "ipython",
    "version": 3
   },
   "file_extension": ".py",
   "mimetype": "text/x-python",
   "name": "python",
   "nbconvert_exporter": "python",
   "pygments_lexer": "ipython3",
   "version": "3.9.12"
  },
  "orig_nbformat": 4
 },
 "nbformat": 4,
 "nbformat_minor": 2
}
