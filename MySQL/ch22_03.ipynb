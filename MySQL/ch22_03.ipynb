{
 "cells": [
  {
   "cell_type": "markdown",
   "metadata": {},
   "source": [
    "# SQL 데이터 조회 과정\n",
    "1\\. MySQL 연결하기 - 연결자 = pymysql.connect(연결 옵션)  \n",
    "2\\. 커서 생성하기 - 커서이름 = 연결자.cursor()  \n",
    "3\\. 데이터 조회하기 - 커서이름.execute(\"SELECT 문장\")  \n",
    "4\\. 조회한 데이터 출력하기 - 커서이름.fetchone() <- 반복  \n",
    "5\\. MySQL 연결 종료하기 - 연결자.close()  "
   ]
  },
  {
   "cell_type": "code",
   "execution_count": 1,
   "metadata": {},
   "outputs": [],
   "source": [
    "import pymysql"
   ]
  },
  {
   "cell_type": "code",
   "execution_count": 2,
   "metadata": {},
   "outputs": [
    {
     "name": "stdout",
     "output_type": "stream",
     "text": [
      "사용자ID   사용자이름   이메일   출생연도\n",
      "-------------------------------------------\n",
      " hong               홍지윤         hong@naver.com   1996\n",
      "  kim               김태연           kim@daum.net   2011\n",
      " star               별사랑         star@paran.com   1990\n",
      " yang               양지은         yang@gmail.com   1993\n",
      "   su                수지        suji@hanbit.com   1994\n"
     ]
    }
   ],
   "source": [
    "# 전역변수 선언부\n",
    "conn, cur = None, None\n",
    "data1, data2, data3, data4 = \"\", \"\", \"\", \"\"\n",
    "row = None\n",
    "\n",
    "# 메인코드\n",
    "conn = pymysql.connect(host='127.0.0.1', user='root', password='0000', db='soloDB', charset='utf8')\n",
    "cur = conn.cursor()\n",
    "\n",
    "cur.execute(\"SELECT * FROM userTable\")\n",
    "\n",
    "print(\"사용자ID   사용자이름   이메일   출생연도\")\n",
    "print(\"-------------------------------------------\")\n",
    "\n",
    "while(True):\n",
    "    row = cur.fetchone()\n",
    "    if row == None:\n",
    "        break\n",
    "    data1 = row[0]\n",
    "    data2 = row[1]\n",
    "    data3 = row[2]\n",
    "    data4 = row[3]\n",
    "    print(\"%5s   %15s   %20s   %d\" %(data1, data2, data3, data4))\n",
    "\n",
    "conn.close()"
   ]
  },
  {
   "cell_type": "code",
   "execution_count": null,
   "metadata": {},
   "outputs": [],
   "source": []
  }
 ],
 "metadata": {
  "interpreter": {
   "hash": "569b4317022eb29baeafb3d0f1f739310808ea28ce83ca127a35db1c01070585"
  },
  "kernelspec": {
   "display_name": "Python 3.9.12 ('base')",
   "language": "python",
   "name": "python3"
  },
  "language_info": {
   "codemirror_mode": {
    "name": "ipython",
    "version": 3
   },
   "file_extension": ".py",
   "mimetype": "text/x-python",
   "name": "python",
   "nbconvert_exporter": "python",
   "pygments_lexer": "ipython3",
   "version": "3.9.12"
  },
  "orig_nbformat": 4
 },
 "nbformat": 4,
 "nbformat_minor": 2
}
