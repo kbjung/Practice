{
 "cells": [
  {
   "cell_type": "markdown",
   "metadata": {},
   "source": [
    "# SQL 연결, 데이터 입력 과정\n",
    "1\\. MySQL 연결하기 - 연결자 = pymysql.connect(연결 옵션)  \n",
    "2\\. 커서 생성하기 - 커서이름 = 연결자.cursor()  \n",
    "3\\. 테이블 만들기 - 커서이름.execute(\"CREATE TABLE 문장\")  \n",
    "4\\. 데이터 입력하기 - 커서이름.execute(\"INSERT 문장\") <- 반복  \n",
    "5\\. 입력한 데이터 저장하기 - 연결자.commit()  \n",
    "6\\. MySQL 연결 종료하기 - 연결자.close()  "
   ]
  },
  {
   "cell_type": "code",
   "execution_count": 2,
   "metadata": {},
   "outputs": [],
   "source": [
    "data1 = 'id'\n",
    "data2 = 'name'\n",
    "data3 = 'email'\n",
    "data4 = 'birth'"
   ]
  },
  {
   "cell_type": "code",
   "execution_count": 3,
   "metadata": {},
   "outputs": [
    {
     "data": {
      "text/plain": [
       "\"INSERT INTO userTable VALUES('id','name','email',birth)\""
      ]
     },
     "execution_count": 3,
     "metadata": {},
     "output_type": "execute_result"
    }
   ],
   "source": [
    "\"INSERT INTO userTable VALUES('\" + data1 + \"','\" + data2 + \"','\" + data3 + \"',\" + data4 + \")\""
   ]
  },
  {
   "cell_type": "code",
   "execution_count": 4,
   "metadata": {},
   "outputs": [],
   "source": [
    "import pymysql\n",
    "# 전역변수 선언부\n",
    "conn, cur = None, None\n",
    "data1, data2, data3, data4 = \"\", \"\", \"\", \"\"\n",
    "sql = \"\"\n",
    "\n",
    "# 메인코드\n",
    "conn = pymysql.connect(host='127.0.0.1', user='root', password='0000', db='soloDB', charset='utf8')\n",
    "cur = conn.cursor()\n",
    "\n",
    "while(True):\n",
    "    data1 = input('사용자 ID : ')\n",
    "    if data1 == \"\":\n",
    "        break;\n",
    "    data2 = input('사용자 이름 : ')\n",
    "    data3 = input('사용자 이메일 : ')\n",
    "    data4 = input('사용자 출생연도 : ')\n",
    "    sql = \"INSERT INTO userTable VALUES('\" + data1 + \"','\" + data2 + \"','\" + data3 + \"',\" + data4 + \")\"\n",
    "    cur.execute(sql)\n",
    "\n",
    "    conn.commit()\n",
    "    conn.close()"
   ]
  }
 ],
 "metadata": {
  "interpreter": {
   "hash": "569b4317022eb29baeafb3d0f1f739310808ea28ce83ca127a35db1c01070585"
  },
  "kernelspec": {
   "display_name": "Python 3.9.12 ('base')",
   "language": "python",
   "name": "python3"
  },
  "language_info": {
   "codemirror_mode": {
    "name": "ipython",
    "version": 3
   },
   "file_extension": ".py",
   "mimetype": "text/x-python",
   "name": "python",
   "nbconvert_exporter": "python",
   "pygments_lexer": "ipython3",
   "version": "3.9.12"
  },
  "orig_nbformat": 4
 },
 "nbformat": 4,
 "nbformat_minor": 2
}
