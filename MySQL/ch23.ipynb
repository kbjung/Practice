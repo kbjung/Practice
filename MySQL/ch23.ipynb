{
 "cells": [
  {
   "cell_type": "code",
   "execution_count": 1,
   "metadata": {},
   "outputs": [],
   "source": [
    "from tkinter import *"
   ]
  },
  {
   "cell_type": "code",
   "execution_count": 3,
   "metadata": {},
   "outputs": [],
   "source": [
    "root = Tk()\n",
    "root.mainloop() # 윈도우 창 띄우기"
   ]
  },
  {
   "cell_type": "code",
   "execution_count": 6,
   "metadata": {},
   "outputs": [],
   "source": [
    "root = Tk()\n",
    "root.title('혼공 GUI 연습')\n",
    "root.geometry('400x200') # 창의 크기 설정\n",
    "root.mainloop()"
   ]
  },
  {
   "cell_type": "code",
   "execution_count": 7,
   "metadata": {},
   "outputs": [],
   "source": [
    "root = Tk()\n",
    "root.geometry('300x100')\n",
    "\n",
    "label1 = Label(root, text='혼공 SQL은')\n",
    "label2 = Label(root, text='쉽습니다.', font=('궁서체', 30), bg='blue', fg='yellow')\n",
    "\n",
    "label1.pack()\n",
    "label2.pack()\n",
    "\n",
    "root.mainloop()"
   ]
  },
  {
   "cell_type": "code",
   "execution_count": 9,
   "metadata": {},
   "outputs": [],
   "source": [
    "from tkinter import messagebox\n",
    "\n",
    "def clickButton():\n",
    "    messagebox.showinfo('버튼 클릭', '버튼을 눌렀습니다..')\n",
    "\n",
    "root = Tk()\n",
    "root.geometry('200x200')\n",
    "\n",
    "button1 = Button(root, text='여기를 클릭하세요', fg='red', bg='yellow', command=clickButton)\n",
    "button1.pack(expand=1)\n",
    "\n",
    "root.mainloop()"
   ]
  },
  {
   "cell_type": "code",
   "execution_count": 10,
   "metadata": {},
   "outputs": [],
   "source": [
    "root = Tk()\n",
    "\n",
    "button1 = Button(root, text='혼공1')\n",
    "button2 = Button(root, text='혼공2')\n",
    "button3 = Button(root, text='혼공3')\n",
    "\n",
    "button1.pack(side=LEFT)\n",
    "button2.pack(side=LEFT)\n",
    "button3.pack(side=LEFT)\n",
    "\n",
    "root.mainloop()"
   ]
  },
  {
   "cell_type": "code",
   "execution_count": 11,
   "metadata": {},
   "outputs": [],
   "source": [
    "root = Tk()\n",
    "\n",
    "button1 = Button(root, text='혼공1')\n",
    "button2 = Button(root, text='혼공2')\n",
    "button3 = Button(root, text='혼공3')\n",
    "\n",
    "button1.pack(side=TOP, fill=X, padx=10, pady=10)\n",
    "button2.pack(side=TOP, fill=X, padx=10, pady=10)\n",
    "button3.pack(side=TOP, fill=X, padx=10, pady=10)\n",
    "\n",
    "root.mainloop()"
   ]
  },
  {
   "cell_type": "code",
   "execution_count": 12,
   "metadata": {},
   "outputs": [],
   "source": [
    "root = Tk()\n",
    "root.geometry('200x250')\n",
    "\n",
    "upFrame = Frame(root)\n",
    "upFrame.pack()\n",
    "downFrame = Frame(root)\n",
    "downFrame.pack()\n",
    "\n",
    "editBox = Entry(upFrame, width=10)\n",
    "editBox.pack(padx=20, pady=20)\n",
    "\n",
    "listbox = Listbox(downFrame, bg='yellow')\n",
    "listbox.pack()\n",
    "\n",
    "listbox.insert(END, '하나')\n",
    "listbox.insert(END, '둘')\n",
    "listbox.insert(END, '셋')\n",
    "\n",
    "root.mainloop()"
   ]
  },
  {
   "cell_type": "markdown",
   "metadata": {},
   "source": [
    "## GUI 프로그램\n",
    "- 코드 복사해옴."
   ]
  },
  {
   "cell_type": "code",
   "execution_count": 14,
   "metadata": {},
   "outputs": [],
   "source": [
    "import pymysql\n",
    "from tkinter import *\n",
    "from tkinter import messagebox"
   ]
  },
  {
   "cell_type": "code",
   "execution_count": 16,
   "metadata": {},
   "outputs": [],
   "source": [
    "## 메인 코드부\n",
    "def insertData() :\n",
    "    conn, cur = None, None\n",
    "    data1, data2, data3, data4 = \"\", \"\", \"\", \"\"\n",
    "    sql=\"\"\n",
    "\n",
    "    conn = pymysql.connect(host='127.0.0.1', user='root', password='0000', db='soloDB', charset='utf8')\n",
    "    cur = conn.cursor()\n",
    "\n",
    "    data1 = edt1.get();    data2 = edt2.get();    data3 = edt3.get();    data4 = edt4.get()\n",
    "    sql = \"INSERT INTO userTable VALUES('\" + data1 + \"','\" + data2 + \"','\" + data3 + \"',\" + data4 + \")\"\n",
    "    cur.execute(sql)\n",
    "\n",
    "    conn.commit()\n",
    "    conn.close()\n",
    "\n",
    "    messagebox.showinfo('성공', '데이터 입력 성공')\n",
    "\n",
    "\n",
    "def selectData() :\n",
    "    strData1, strData2, strData3, strData4  = [], [], [], []\n",
    "\n",
    "    conn = pymysql.connect(host='127.0.0.1', user='root', password='0000', db='soloDB', charset='utf8')\n",
    "    cur = conn.cursor()\n",
    "    cur.execute(\"SELECT * FROM userTable\")\n",
    "    \n",
    "    strData1.append(\"사용자 ID\")\n",
    "    strData2.append(\"사용자 이름\")\n",
    "    strData3.append(\"사용자 이메일\")\n",
    "    strData4.append(\"사용자 출생연도\")\n",
    "    strData1.append(\"-----------\")\n",
    "    strData2.append(\"-----------\")\n",
    "    strData3.append(\"-----------\")\n",
    "    strData4.append(\"-----------\")\n",
    "    \n",
    "    while (True) :\n",
    "        row = cur.fetchone()\n",
    "        if row== None :\n",
    "            break\n",
    "        strData1.append(row[0])\n",
    "        strData2.append(row[1])\n",
    "        strData3.append(row[2])\n",
    "        strData4.append(row[3])\n",
    "\n",
    "    listData1.delete(0,listData1.size() - 1)\n",
    "    listData2.delete(0,listData2.size() - 1)\n",
    "    listData3.delete(0,listData3.size() - 1)\n",
    "    listData4.delete(0,listData4.size() - 1)\n",
    "    \n",
    "    for item1, item2, item3, item4 in zip(strData1, strData2, strData3, strData4 ):\n",
    "        listData1.insert(END, item1)\n",
    "        listData2.insert(END, item2)\n",
    "        listData3.insert(END, item3)\n",
    "        listData4.insert(END, item4)\n",
    "        \n",
    "    conn.close()    \n",
    "\n",
    "\n",
    "## 메인 코드부\n",
    "root = Tk()\n",
    "root.geometry(\"600x300\")\n",
    "root.title(\"완전한 GUI 응용 프로그램\")\n",
    "\n",
    "edtFrame = Frame(root)\n",
    "edtFrame.pack()\n",
    "listFrame = Frame(root)\n",
    "listFrame.pack(side = BOTTOM,fill=BOTH, expand=1)\n",
    "\n",
    "edt1= Entry(edtFrame, width=10);    edt1.pack(side=LEFT,padx=10,pady=10)\n",
    "edt2= Entry(edtFrame, width=10);    edt2.pack(side=LEFT,padx=10,pady=10)\n",
    "edt3= Entry(edtFrame, width=10);    edt3.pack(side=LEFT,padx=10,pady=10)\n",
    "edt4= Entry(edtFrame, width=10);    edt4.pack(side=LEFT,padx=10,pady=10)\n",
    "\n",
    "btnInsert = Button(edtFrame, text=\"입력\", command = insertData)\n",
    "btnInsert.pack(side=LEFT,padx=10,pady=10)\n",
    "btnSelect = Button(edtFrame, text=\"조회\", command =selectData )\n",
    "btnSelect.pack(side=LEFT,padx=10,pady=10)\n",
    "\n",
    "listData1 = Listbox(listFrame,bg = 'yellow')\n",
    "listData1.pack(side=LEFT,fill=BOTH, expand=1)\n",
    "listData2 = Listbox(listFrame,bg = 'yellow')\n",
    "listData2.pack(side=LEFT,fill=BOTH, expand=1)\n",
    "listData3 = Listbox(listFrame,bg = 'yellow')\n",
    "listData3.pack(side=LEFT,fill=BOTH, expand=1)\n",
    "listData4 = Listbox(listFrame,bg = 'yellow')\n",
    "listData4.pack(side=LEFT,fill=BOTH, expand=1)\n",
    "\n",
    "root.mainloop()"
   ]
  },
  {
   "cell_type": "code",
   "execution_count": null,
   "metadata": {},
   "outputs": [],
   "source": []
  }
 ],
 "metadata": {
  "interpreter": {
   "hash": "569b4317022eb29baeafb3d0f1f739310808ea28ce83ca127a35db1c01070585"
  },
  "kernelspec": {
   "display_name": "Python 3.9.12 ('base')",
   "language": "python",
   "name": "python3"
  },
  "language_info": {
   "codemirror_mode": {
    "name": "ipython",
    "version": 3
   },
   "file_extension": ".py",
   "mimetype": "text/x-python",
   "name": "python",
   "nbconvert_exporter": "python",
   "pygments_lexer": "ipython3",
   "version": "3.9.12"
  },
  "orig_nbformat": 4
 },
 "nbformat": 4,
 "nbformat_minor": 2
}
