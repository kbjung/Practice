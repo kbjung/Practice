{
  "nbformat": 4,
  "nbformat_minor": 0,
  "metadata": {
    "colab": {
      "provenance": [],
      "toc_visible": true,
      "collapsed_sections": []
    },
    "kernelspec": {
      "name": "python3",
      "display_name": "Python 3"
    },
    "language_info": {
      "name": "python"
    },
    "accelerator": "GPU"
  },
  "cells": [
    {
      "cell_type": "markdown",
      "source": [
        "# 4-1. Pytorch Tutorial"
      ],
      "metadata": {
        "id": "ArouFM_PADlS"
      }
    },
    {
      "cell_type": "markdown",
      "source": [
        "## pakage import"
      ],
      "metadata": {
        "id": "2nvtwB44ypCK"
      }
    },
    {
      "cell_type": "code",
      "execution_count": 1,
      "metadata": {
        "id": "8yKttE_qx6GE"
      },
      "outputs": [],
      "source": [
        "import numpy as np\n",
        "\n",
        "import torch\n",
        "from torch import nn\n",
        "from torch.utils.data import Dataset, DataLoader\n",
        "\n",
        "from torchvision import datasets, transforms\n",
        "\n",
        "import matplotlib.pyplot as plt"
      ]
    },
    {
      "cell_type": "markdown",
      "source": [
        "## 4-1-1. Torch tensor란"
      ],
      "metadata": {
        "id": "cvq5MkkQy5DA"
      }
    },
    {
      "cell_type": "code",
      "source": [
        "a = torch.tensor([[1.0, 4.0], [4.0, 3.0]], device=0)\n",
        "b = torch.tensor([[4, 3], [1, 4], [1, 2]], dtype=torch.int64, device='cpu')\n",
        "print(a)\n",
        "print(b)"
      ],
      "metadata": {
        "colab": {
          "base_uri": "https://localhost:8080/"
        },
        "id": "dU8j3lMpym-I",
        "outputId": "2af3f6d8-eb65-482f-ee56-678c3349e3c5"
      },
      "execution_count": null,
      "outputs": [
        {
          "output_type": "stream",
          "name": "stdout",
          "text": [
            "tensor([[1., 4.],\n",
            "        [4., 3.]], device='cuda:0')\n",
            "tensor([[4, 3],\n",
            "        [1, 4],\n",
            "        [1, 2]])\n"
          ]
        }
      ]
    },
    {
      "cell_type": "code",
      "source": [
        "print(a.dtype, a.device, a.shape)\n",
        "print(b.dtype, b.device, b.shape)"
      ],
      "metadata": {
        "colab": {
          "base_uri": "https://localhost:8080/"
        },
        "id": "BQ-QPco0zZwv",
        "outputId": "2fba82b0-6759-4e66-cff9-88c7ad5927d8"
      },
      "execution_count": null,
      "outputs": [
        {
          "output_type": "stream",
          "name": "stdout",
          "text": [
            "torch.float32 cuda:0 torch.Size([2, 2])\n",
            "torch.int64 cpu torch.Size([3, 2])\n"
          ]
        }
      ]
    },
    {
      "cell_type": "code",
      "source": [
        "a = torch.Tensor([[4, 2], [2, 1]])\n",
        "print(a.dtype, a.device)"
      ],
      "metadata": {
        "colab": {
          "base_uri": "https://localhost:8080/"
        },
        "id": "Wuiv946i0Z54",
        "outputId": "c4641b64-5b39-4dad-95de-88e41ce622d9"
      },
      "execution_count": null,
      "outputs": [
        {
          "output_type": "stream",
          "name": "stdout",
          "text": [
            "torch.float32 cpu\n"
          ]
        }
      ]
    },
    {
      "cell_type": "code",
      "source": [
        "a = torch.ones([2, 3])\n",
        "b = torch.zeros([3, 2], dtype=torch.int64)\n",
        "c = torch.eye(4)\n",
        "d = torch.rand([2, 4, 3])  "
      ],
      "metadata": {
        "id": "pzKiWjCx0jek"
      },
      "execution_count": null,
      "outputs": []
    },
    {
      "cell_type": "code",
      "source": [
        "print(a)\n",
        "print(b)\n",
        "print(c)\n",
        "print(d)"
      ],
      "metadata": {
        "colab": {
          "base_uri": "https://localhost:8080/"
        },
        "id": "U9gYNUjR1PCT",
        "outputId": "7ef0885c-8a12-44b7-b792-5f46e4ef1bdb"
      },
      "execution_count": null,
      "outputs": [
        {
          "output_type": "stream",
          "name": "stdout",
          "text": [
            "tensor([[1., 1., 1.],\n",
            "        [1., 1., 1.]])\n",
            "tensor([[0, 0],\n",
            "        [0, 0],\n",
            "        [0, 0]])\n",
            "tensor([[1., 0., 0., 0.],\n",
            "        [0., 1., 0., 0.],\n",
            "        [0., 0., 1., 0.],\n",
            "        [0., 0., 0., 1.]])\n",
            "tensor([[[0.3145, 0.9455, 0.1947],\n",
            "         [0.2652, 0.3791, 0.3721],\n",
            "         [0.4361, 0.7967, 0.0696],\n",
            "         [0.9716, 0.0476, 0.8572]],\n",
            "\n",
            "        [[0.1304, 0.8133, 0.0749],\n",
            "         [0.7270, 0.6376, 0.0318],\n",
            "         [0.9444, 0.3746, 0.0669],\n",
            "         [0.1307, 0.2664, 0.9708]]])\n"
          ]
        }
      ]
    },
    {
      "cell_type": "code",
      "source": [
        "d = np.array([[2, 5, 4], [4, 2, 1], [5, 7, 4]])\n",
        "a = torch.tensor(d)\n",
        "b = torch.from_numpy(d)\n",
        "\n",
        "print(a)\n",
        "print(b)\n",
        "print(d)"
      ],
      "metadata": {
        "colab": {
          "base_uri": "https://localhost:8080/"
        },
        "id": "wK0kWW8g1RPz",
        "outputId": "407fb1f2-adc4-4250-c7e2-42c025dbb81e"
      },
      "execution_count": null,
      "outputs": [
        {
          "output_type": "stream",
          "name": "stdout",
          "text": [
            "tensor([[2, 5, 4],\n",
            "        [4, 2, 1],\n",
            "        [5, 7, 4]])\n",
            "tensor([[2, 5, 4],\n",
            "        [4, 2, 1],\n",
            "        [5, 7, 4]])\n",
            "[[2 5 4]\n",
            " [4 2 1]\n",
            " [5 7 4]]\n"
          ]
        }
      ]
    },
    {
      "cell_type": "code",
      "source": [
        " d[0, 0] = 100\n",
        " print(a)\n",
        " print(b)"
      ],
      "metadata": {
        "colab": {
          "base_uri": "https://localhost:8080/"
        },
        "id": "IU38kFLM1vrZ",
        "outputId": "da9f104c-b83f-4df7-a3c1-34ce4dc13c4a"
      },
      "execution_count": null,
      "outputs": [
        {
          "output_type": "stream",
          "name": "stdout",
          "text": [
            "tensor([[2, 5, 4],\n",
            "        [4, 2, 1],\n",
            "        [5, 7, 4]])\n",
            "tensor([[100,   5,   4],\n",
            "        [  4,   2,   1],\n",
            "        [  5,   7,   4]])\n"
          ]
        }
      ]
    },
    {
      "cell_type": "code",
      "source": [
        "b = torch.ones_like(a)\n",
        "c = torch.zeros_like(a, dtype=torch.float)\n",
        "d = torch.rand_like(a, dtype=torch.float)\n",
        "\n",
        "print(b)\n",
        "print(c)\n",
        "print(d)"
      ],
      "metadata": {
        "colab": {
          "base_uri": "https://localhost:8080/"
        },
        "id": "SoMxs_Dy2J4X",
        "outputId": "6c9c8f18-7529-4a82-98d3-36c54e6c7c27"
      },
      "execution_count": null,
      "outputs": [
        {
          "output_type": "stream",
          "name": "stdout",
          "text": [
            "tensor([[1, 1, 1],\n",
            "        [1, 1, 1],\n",
            "        [1, 1, 1]])\n",
            "tensor([[0., 0., 0.],\n",
            "        [0., 0., 0.],\n",
            "        [0., 0., 0.]])\n",
            "tensor([[0.5743, 0.4334, 0.2920],\n",
            "        [0.9646, 0.5094, 0.7291],\n",
            "        [0.8593, 0.6486, 0.2571]])\n"
          ]
        }
      ]
    },
    {
      "cell_type": "markdown",
      "source": [
        "### gpu 사용"
      ],
      "metadata": {
        "id": "78lT-Msx8UMK"
      }
    },
    {
      "cell_type": "code",
      "source": [
        "torch.cuda.is_available()"
      ],
      "metadata": {
        "colab": {
          "base_uri": "https://localhost:8080/"
        },
        "id": "3xx3KzA63WPd",
        "outputId": "ef30e278-505a-4db9-e00e-9a855235594e"
      },
      "execution_count": null,
      "outputs": [
        {
          "output_type": "execute_result",
          "data": {
            "text/plain": [
              "True"
            ]
          },
          "metadata": {},
          "execution_count": 3
        }
      ]
    },
    {
      "cell_type": "code",
      "source": [
        "if torch.cuda.is_available():\n",
        "  a = torch.tensor([[4, 3, 2], [1, 2, 3]])\n",
        "  print(a)\n",
        "  b = a.to('cuda')\n",
        "  print(b)"
      ],
      "metadata": {
        "colab": {
          "base_uri": "https://localhost:8080/"
        },
        "id": "doLUTNVU3xVP",
        "outputId": "228f48e4-602b-44a3-b690-9734bbd5a080"
      },
      "execution_count": null,
      "outputs": [
        {
          "output_type": "stream",
          "name": "stdout",
          "text": [
            "tensor([[4, 3, 2],\n",
            "        [1, 2, 3]])\n",
            "tensor([[4, 3, 2],\n",
            "        [1, 2, 3]], device='cuda:0')\n"
          ]
        }
      ]
    },
    {
      "cell_type": "code",
      "source": [
        "b[0][0] = 100\n",
        "print(a)\n",
        "print(b)"
      ],
      "metadata": {
        "colab": {
          "base_uri": "https://localhost:8080/"
        },
        "id": "c3sEo1ln4XKW",
        "outputId": "8ae6f7bf-5ca5-472e-dca1-79c06c475f2e"
      },
      "execution_count": null,
      "outputs": [
        {
          "output_type": "stream",
          "name": "stdout",
          "text": [
            "tensor([[4, 3, 2],\n",
            "        [1, 2, 3]])\n",
            "tensor([[100,   3,   2],\n",
            "        [  1,   2,   3]], device='cuda:0')\n"
          ]
        }
      ]
    },
    {
      "cell_type": "markdown",
      "source": [
        "### concat, stack, squeeze, unsqueeze"
      ],
      "metadata": {
        "id": "FM1KIdmp8XlH"
      }
    },
    {
      "cell_type": "code",
      "source": [
        "a = torch.rand([2, 3])\n",
        "b = torch.rand([2, 3])\n",
        "print(a)\n",
        "print(b)"
      ],
      "metadata": {
        "colab": {
          "base_uri": "https://localhost:8080/"
        },
        "id": "uaeMu9qD47Bo",
        "outputId": "55b97be6-2e76-40c1-c2c3-e73dee57d823"
      },
      "execution_count": null,
      "outputs": [
        {
          "output_type": "stream",
          "name": "stdout",
          "text": [
            "tensor([[0.3062, 0.5970, 0.3831],\n",
            "        [0.1304, 0.5641, 0.2215]])\n",
            "tensor([[0.6166, 0.0990, 0.0286],\n",
            "        [0.8445, 0.9684, 0.7971]])\n"
          ]
        }
      ]
    },
    {
      "cell_type": "code",
      "source": [
        "c = torch.cat([a, b], dim=0)\n",
        "d = torch.cat([a, b], dim=1)\n",
        "print(c)\n",
        "print(c.shape)\n",
        "print(d)\n",
        "print(d.shape)"
      ],
      "metadata": {
        "colab": {
          "base_uri": "https://localhost:8080/"
        },
        "id": "aizBJ86X5QAF",
        "outputId": "c076877b-7c78-4769-abe5-56975770bc57"
      },
      "execution_count": null,
      "outputs": [
        {
          "output_type": "stream",
          "name": "stdout",
          "text": [
            "tensor([[0.3062, 0.5970, 0.3831],\n",
            "        [0.1304, 0.5641, 0.2215],\n",
            "        [0.6166, 0.0990, 0.0286],\n",
            "        [0.8445, 0.9684, 0.7971]])\n",
            "torch.Size([4, 3])\n",
            "tensor([[0.3062, 0.5970, 0.3831, 0.6166, 0.0990, 0.0286],\n",
            "        [0.1304, 0.5641, 0.2215, 0.8445, 0.9684, 0.7971]])\n",
            "torch.Size([2, 6])\n"
          ]
        }
      ]
    },
    {
      "cell_type": "code",
      "source": [
        "c = torch.stack([a, b], dim=0)\n",
        "d = torch.stack([a, b], dim=1)\n",
        "e = torch.stack([a, b], dim=2)\n",
        "print(c)\n",
        "print(c.shape)\n",
        "print(d)\n",
        "print(d.shape)\n",
        "print(e)\n",
        "print(e.shape)"
      ],
      "metadata": {
        "colab": {
          "base_uri": "https://localhost:8080/"
        },
        "id": "nMxrTAkf5dTJ",
        "outputId": "ccc388d7-fa27-4afe-a3a7-6999db778815"
      },
      "execution_count": null,
      "outputs": [
        {
          "output_type": "stream",
          "name": "stdout",
          "text": [
            "tensor([[[0.3062, 0.5970, 0.3831],\n",
            "         [0.1304, 0.5641, 0.2215]],\n",
            "\n",
            "        [[0.6166, 0.0990, 0.0286],\n",
            "         [0.8445, 0.9684, 0.7971]]])\n",
            "torch.Size([2, 2, 3])\n",
            "tensor([[[0.3062, 0.5970, 0.3831],\n",
            "         [0.6166, 0.0990, 0.0286]],\n",
            "\n",
            "        [[0.1304, 0.5641, 0.2215],\n",
            "         [0.8445, 0.9684, 0.7971]]])\n",
            "torch.Size([2, 2, 3])\n",
            "tensor([[[0.3062, 0.6166],\n",
            "         [0.5970, 0.0990],\n",
            "         [0.3831, 0.0286]],\n",
            "\n",
            "        [[0.1304, 0.8445],\n",
            "         [0.5641, 0.9684],\n",
            "         [0.2215, 0.7971]]])\n",
            "torch.Size([2, 3, 2])\n"
          ]
        }
      ]
    },
    {
      "cell_type": "code",
      "source": [
        "c = torch.hstack([a, b])\n",
        "print(c)\n",
        "print(c.shape)\n",
        "d = torch.vstack([a, b])\n",
        "print(d)\n",
        "print(d.shape)"
      ],
      "metadata": {
        "colab": {
          "base_uri": "https://localhost:8080/"
        },
        "id": "FH4RnhhI53NG",
        "outputId": "873ab887-0984-4646-f254-f64796d0461e"
      },
      "execution_count": null,
      "outputs": [
        {
          "output_type": "stream",
          "name": "stdout",
          "text": [
            "tensor([[0.3062, 0.5970, 0.3831, 0.6166, 0.0990, 0.0286],\n",
            "        [0.1304, 0.5641, 0.2215, 0.8445, 0.9684, 0.7971]])\n",
            "torch.Size([2, 6])\n",
            "tensor([[0.3062, 0.5970, 0.3831],\n",
            "        [0.1304, 0.5641, 0.2215],\n",
            "        [0.6166, 0.0990, 0.0286],\n",
            "        [0.8445, 0.9684, 0.7971]])\n",
            "torch.Size([4, 3])\n"
          ]
        }
      ]
    },
    {
      "cell_type": "code",
      "source": [
        "print(a)\n",
        "a = torch.unsqueeze(a, dim=1)\n",
        "print(a)\n",
        "print(a.shape)\n",
        "\n",
        "a = torch.squeeze(a)\n",
        "print(a)\n",
        "print(a.shape)"
      ],
      "metadata": {
        "colab": {
          "base_uri": "https://localhost:8080/"
        },
        "id": "OxtUo9Fp7oc8",
        "outputId": "9f5a56cc-70c9-4665-86bb-0a2dd5f1b9c5"
      },
      "execution_count": null,
      "outputs": [
        {
          "output_type": "stream",
          "name": "stdout",
          "text": [
            "tensor([[0.3062, 0.5970, 0.3831],\n",
            "        [0.1304, 0.5641, 0.2215]])\n",
            "tensor([[[0.3062, 0.5970, 0.3831]],\n",
            "\n",
            "        [[0.1304, 0.5641, 0.2215]]])\n",
            "torch.Size([2, 1, 3])\n",
            "tensor([[0.3062, 0.5970, 0.3831],\n",
            "        [0.1304, 0.5641, 0.2215]])\n",
            "torch.Size([2, 3])\n"
          ]
        }
      ]
    },
    {
      "cell_type": "markdown",
      "source": [
        "### Arithmetic operations"
      ],
      "metadata": {
        "id": "3qInj_tJ8nl9"
      }
    },
    {
      "cell_type": "code",
      "source": [
        "a = torch.tensor(np.array(list(range(12)))).reshape(3, 4)\n",
        "b = torch.tensor(np.array(list(range(8)))).reshape(4, 2)\n",
        "print(np.array(list(range(12))))\n",
        "print(torch.tensor(np.array(list(range(12)))))\n",
        "print(a)\n",
        "print(b)"
      ],
      "metadata": {
        "colab": {
          "base_uri": "https://localhost:8080/"
        },
        "id": "jaPKo2Jk75T9",
        "outputId": "e4c5da64-8158-47fe-ece6-f98121fc8b36"
      },
      "execution_count": null,
      "outputs": [
        {
          "output_type": "stream",
          "name": "stdout",
          "text": [
            "[ 0  1  2  3  4  5  6  7  8  9 10 11]\n",
            "tensor([ 0,  1,  2,  3,  4,  5,  6,  7,  8,  9, 10, 11])\n",
            "tensor([[ 0,  1,  2,  3],\n",
            "        [ 4,  5,  6,  7],\n",
            "        [ 8,  9, 10, 11]])\n",
            "tensor([[0, 1],\n",
            "        [2, 3],\n",
            "        [4, 5],\n",
            "        [6, 7]])\n"
          ]
        }
      ]
    },
    {
      "cell_type": "code",
      "source": [
        "c = a @ b\n",
        "print(c)"
      ],
      "metadata": {
        "colab": {
          "base_uri": "https://localhost:8080/"
        },
        "id": "O-EqKWgT88qH",
        "outputId": "0c12694b-6dd0-49f8-9af5-ed8667ee3511"
      },
      "execution_count": null,
      "outputs": [
        {
          "output_type": "stream",
          "name": "stdout",
          "text": [
            "tensor([[ 28,  34],\n",
            "        [ 76,  98],\n",
            "        [124, 162]])\n"
          ]
        }
      ]
    },
    {
      "cell_type": "code",
      "source": [
        "d = torch.matmul(a, b)\n",
        "print(d)"
      ],
      "metadata": {
        "colab": {
          "base_uri": "https://localhost:8080/"
        },
        "id": "W_FCLW5N9DsZ",
        "outputId": "b1dad38d-b8cb-40c7-9bf4-05e7d0b4062f"
      },
      "execution_count": null,
      "outputs": [
        {
          "output_type": "stream",
          "name": "stdout",
          "text": [
            "tensor([[ 28,  34],\n",
            "        [ 76,  98],\n",
            "        [124, 162]])\n"
          ]
        }
      ]
    },
    {
      "cell_type": "code",
      "source": [
        "torch.matmul(a, b, out=e)\n",
        "print(e)"
      ],
      "metadata": {
        "colab": {
          "base_uri": "https://localhost:8080/",
          "height": 197
        },
        "id": "SpHsgAAC9RLR",
        "outputId": "e009b4f8-2469-4ed5-ad50-49c9125cd7fc"
      },
      "execution_count": null,
      "outputs": [
        {
          "output_type": "error",
          "ename": "RuntimeError",
          "evalue": "ignored",
          "traceback": [
            "\u001b[0;31m---------------------------------------------------------------------------\u001b[0m",
            "\u001b[0;31mRuntimeError\u001b[0m                              Traceback (most recent call last)",
            "\u001b[0;32m<ipython-input-28-a816e2ec9c6f>\u001b[0m in \u001b[0;36m<module>\u001b[0;34m\u001b[0m\n\u001b[0;32m----> 1\u001b[0;31m \u001b[0mtorch\u001b[0m\u001b[0;34m.\u001b[0m\u001b[0mmatmul\u001b[0m\u001b[0;34m(\u001b[0m\u001b[0ma\u001b[0m\u001b[0;34m,\u001b[0m \u001b[0mb\u001b[0m\u001b[0;34m,\u001b[0m \u001b[0mout\u001b[0m\u001b[0;34m=\u001b[0m\u001b[0me\u001b[0m\u001b[0;34m)\u001b[0m\u001b[0;34m\u001b[0m\u001b[0;34m\u001b[0m\u001b[0m\n\u001b[0m\u001b[1;32m      2\u001b[0m \u001b[0mprint\u001b[0m\u001b[0;34m(\u001b[0m\u001b[0me\u001b[0m\u001b[0;34m)\u001b[0m\u001b[0;34m\u001b[0m\u001b[0;34m\u001b[0m\u001b[0m\n",
            "\u001b[0;31mRuntimeError\u001b[0m: Expected out tensor to have dtype long int, but got float instead"
          ]
        }
      ]
    },
    {
      "cell_type": "code",
      "source": [
        "a = torch.tensor(np.array(list(range(6)))).reshape(2, 3)\n",
        "b = torch.tensor(np.array(list(range(10, 16)))).reshape(2, 3)\n",
        "print(a)\n",
        "print(b)"
      ],
      "metadata": {
        "colab": {
          "base_uri": "https://localhost:8080/"
        },
        "id": "Hfj_FWRD9V-Q",
        "outputId": "f234f854-8f11-404b-e685-4b1f490c739d"
      },
      "execution_count": null,
      "outputs": [
        {
          "output_type": "stream",
          "name": "stdout",
          "text": [
            "tensor([[0, 1, 2],\n",
            "        [3, 4, 5]])\n",
            "tensor([[10, 11, 12],\n",
            "        [13, 14, 15]])\n"
          ]
        }
      ]
    },
    {
      "cell_type": "code",
      "source": [
        "c = a * b\n",
        "print(c)"
      ],
      "metadata": {
        "colab": {
          "base_uri": "https://localhost:8080/"
        },
        "id": "52-Acgtz-C0K",
        "outputId": "c7d9df19-22ab-410b-8aed-1b8929a7b962"
      },
      "execution_count": null,
      "outputs": [
        {
          "output_type": "stream",
          "name": "stdout",
          "text": [
            "tensor([[ 0, 11, 24],\n",
            "        [39, 56, 75]])\n"
          ]
        }
      ]
    },
    {
      "cell_type": "code",
      "source": [
        "d = torch.mul(a, b)\n",
        "print(d)"
      ],
      "metadata": {
        "colab": {
          "base_uri": "https://localhost:8080/"
        },
        "id": "If4zhbT4-HX7",
        "outputId": "30958274-b2ae-4e9a-bf95-dc3dc211f4b1"
      },
      "execution_count": null,
      "outputs": [
        {
          "output_type": "stream",
          "name": "stdout",
          "text": [
            "tensor([[ 0, 11, 24],\n",
            "        [39, 56, 75]])\n"
          ]
        }
      ]
    },
    {
      "cell_type": "code",
      "source": [
        "agg = d.sum()\n",
        "v = agg.item()\n",
        "print(v, type(v))"
      ],
      "metadata": {
        "colab": {
          "base_uri": "https://localhost:8080/"
        },
        "id": "R3I3Fuua-Kww",
        "outputId": "84fe842c-78f3-47db-b5ce-a78276994e57"
      },
      "execution_count": null,
      "outputs": [
        {
          "output_type": "stream",
          "name": "stdout",
          "text": [
            "205 <class 'int'>\n"
          ]
        }
      ]
    },
    {
      "cell_type": "code",
      "source": [
        "print(a)\n",
        "a.add_(5)\n",
        "print(a)\n",
        "a.add_(b)\n",
        "print(a)"
      ],
      "metadata": {
        "colab": {
          "base_uri": "https://localhost:8080/"
        },
        "id": "ebr6ptN1-Sox",
        "outputId": "7dbfc86c-36b6-49a0-f4c2-29daaeccffb4"
      },
      "execution_count": null,
      "outputs": [
        {
          "output_type": "stream",
          "name": "stdout",
          "text": [
            "tensor([[0, 1, 2],\n",
            "        [3, 4, 5]])\n",
            "tensor([[ 5,  6,  7],\n",
            "        [ 8,  9, 10]])\n",
            "tensor([[15, 17, 19],\n",
            "        [21, 23, 25]])\n"
          ]
        }
      ]
    },
    {
      "cell_type": "markdown",
      "source": [
        "### tensor to numpy array"
      ],
      "metadata": {
        "id": "aD29oxqY8uJA"
      }
    },
    {
      "cell_type": "code",
      "source": [
        "a = torch.ones(5)\n",
        "print(a)\n",
        "b = a.numpy()\n",
        "print(b)"
      ],
      "metadata": {
        "colab": {
          "base_uri": "https://localhost:8080/"
        },
        "id": "3-Bogxos-_bE",
        "outputId": "35ea18ec-556e-4285-f4ca-f0c18e184911"
      },
      "execution_count": null,
      "outputs": [
        {
          "output_type": "stream",
          "name": "stdout",
          "text": [
            "tensor([1., 1., 1., 1., 1.])\n",
            "[1. 1. 1. 1. 1.]\n"
          ]
        }
      ]
    },
    {
      "cell_type": "code",
      "source": [
        "a.add_(5)\n",
        "print(a)\n",
        "print(b)"
      ],
      "metadata": {
        "colab": {
          "base_uri": "https://localhost:8080/"
        },
        "id": "OnzEcn6s_cqQ",
        "outputId": "a50ed7cb-5f66-46e0-f304-66b329cf23bb"
      },
      "execution_count": null,
      "outputs": [
        {
          "output_type": "stream",
          "name": "stdout",
          "text": [
            "tensor([6., 6., 6., 6., 6.])\n",
            "[6. 6. 6. 6. 6.]\n"
          ]
        }
      ]
    },
    {
      "cell_type": "markdown",
      "source": [
        "## 4-1-2. Datasets and dataloaders\n"
      ],
      "metadata": {
        "id": "DZ606izT7CNi"
      }
    },
    {
      "cell_type": "markdown",
      "source": [
        "### Dataset"
      ],
      "metadata": {
        "id": "6w-EgUOb80P_"
      }
    },
    {
      "cell_type": "code",
      "source": [
        "# Custom dataset\n",
        "\n",
        "class LionDataset(Dataset):\n",
        "  def __init__(self, data, target, transform=None, target_transform=None):\n",
        "    self.data = data\n",
        "    self.target = target\n",
        "    self.transform = transform\n",
        "    self.target_transform = target_transform\n",
        "    pass\n",
        "\n",
        "  def __len__(self):\n",
        "    return len(self.data)\n",
        "\n",
        "  def __getitem__(self, idx): # 인덱스로 데이터에 접근 가능하게 해준다.\n",
        "    x = self.data[idx]\n",
        "    y = self.target[idx]\n",
        "\n",
        "    if self.transform:\n",
        "      x = self.transform(x)\n",
        "    if self.target_transform:\n",
        "      y = self.target_transform(y)\n",
        "\n",
        "    return x, y"
      ],
      "metadata": {
        "id": "xs5gBHuI_gx0"
      },
      "execution_count": null,
      "outputs": []
    },
    {
      "cell_type": "code",
      "source": [
        "data = np.array(list(range(100)), dtype=np.float).reshape(-1, 2)\n",
        "target = np.array([[i] * 5 for i in range(10)]).reshape(-1)\n",
        "\n",
        "print(data)\n",
        "print(target)"
      ],
      "metadata": {
        "colab": {
          "base_uri": "https://localhost:8080/"
        },
        "id": "6T70fY1F9uMk",
        "outputId": "0fbbd971-aa80-45bd-d62c-bf895b9e5ef4"
      },
      "execution_count": null,
      "outputs": [
        {
          "output_type": "stream",
          "name": "stdout",
          "text": [
            "[[ 0.  1.]\n",
            " [ 2.  3.]\n",
            " [ 4.  5.]\n",
            " [ 6.  7.]\n",
            " [ 8.  9.]\n",
            " [10. 11.]\n",
            " [12. 13.]\n",
            " [14. 15.]\n",
            " [16. 17.]\n",
            " [18. 19.]\n",
            " [20. 21.]\n",
            " [22. 23.]\n",
            " [24. 25.]\n",
            " [26. 27.]\n",
            " [28. 29.]\n",
            " [30. 31.]\n",
            " [32. 33.]\n",
            " [34. 35.]\n",
            " [36. 37.]\n",
            " [38. 39.]\n",
            " [40. 41.]\n",
            " [42. 43.]\n",
            " [44. 45.]\n",
            " [46. 47.]\n",
            " [48. 49.]\n",
            " [50. 51.]\n",
            " [52. 53.]\n",
            " [54. 55.]\n",
            " [56. 57.]\n",
            " [58. 59.]\n",
            " [60. 61.]\n",
            " [62. 63.]\n",
            " [64. 65.]\n",
            " [66. 67.]\n",
            " [68. 69.]\n",
            " [70. 71.]\n",
            " [72. 73.]\n",
            " [74. 75.]\n",
            " [76. 77.]\n",
            " [78. 79.]\n",
            " [80. 81.]\n",
            " [82. 83.]\n",
            " [84. 85.]\n",
            " [86. 87.]\n",
            " [88. 89.]\n",
            " [90. 91.]\n",
            " [92. 93.]\n",
            " [94. 95.]\n",
            " [96. 97.]\n",
            " [98. 99.]]\n",
            "[0 0 0 0 0 1 1 1 1 1 2 2 2 2 2 3 3 3 3 3 4 4 4 4 4 5 5 5 5 5 6 6 6 6 6 7 7\n",
            " 7 7 7 8 8 8 8 8 9 9 9 9 9]\n"
          ]
        },
        {
          "output_type": "stream",
          "name": "stderr",
          "text": [
            "/usr/local/lib/python3.7/dist-packages/ipykernel_launcher.py:1: DeprecationWarning: `np.float` is a deprecated alias for the builtin `float`. To silence this warning, use `float` by itself. Doing this will not modify any behavior and is safe. If you specifically wanted the numpy scalar type, use `np.float64` here.\n",
            "Deprecated in NumPy 1.20; for more details and guidance: https://numpy.org/devdocs/release/1.20.0-notes.html#deprecations\n",
            "  \"\"\"Entry point for launching an IPython kernel.\n"
          ]
        }
      ]
    },
    {
      "cell_type": "code",
      "source": [
        "lion = LionDataset(data=data, target=target)\n",
        "\n",
        "print(lion[1])\n",
        "print(lion[12])\n",
        "print(lion[27])"
      ],
      "metadata": {
        "colab": {
          "base_uri": "https://localhost:8080/"
        },
        "id": "7hQkOT_U93Ft",
        "outputId": "ae70ec4a-ca4e-452a-cf37-bbe24d52d710"
      },
      "execution_count": null,
      "outputs": [
        {
          "output_type": "stream",
          "name": "stdout",
          "text": [
            "(array([2., 3.]), 0)\n",
            "(array([24., 25.]), 2)\n",
            "(array([54., 55.]), 5)\n"
          ]
        }
      ]
    },
    {
      "cell_type": "markdown",
      "source": [
        "### dataLoader"
      ],
      "metadata": {
        "id": "fccPAkIf-hUR"
      }
    },
    {
      "cell_type": "code",
      "source": [
        "loader = DataLoader(dataset=lion, batch_size=10, shuffle=True)\n",
        "\n",
        "for i, batch in enumerate(loader):\n",
        "  x, y = batch\n",
        "  if i == 0:\n",
        "    print(x)\n",
        "    print(y)\n",
        "  print(x.shape)"
      ],
      "metadata": {
        "colab": {
          "base_uri": "https://localhost:8080/"
        },
        "id": "BcZB-j5a-IhK",
        "outputId": "48659217-8c9f-488c-fe3e-b8d8ee959c89"
      },
      "execution_count": null,
      "outputs": [
        {
          "output_type": "stream",
          "name": "stdout",
          "text": [
            "tensor([[24., 25.],\n",
            "        [60., 61.],\n",
            "        [78., 79.],\n",
            "        [46., 47.],\n",
            "        [54., 55.],\n",
            "        [68., 69.],\n",
            "        [ 2.,  3.],\n",
            "        [74., 75.],\n",
            "        [32., 33.],\n",
            "        [66., 67.]], dtype=torch.float64)\n",
            "tensor([2, 6, 7, 4, 5, 6, 0, 7, 3, 6])\n",
            "torch.Size([10, 2])\n",
            "torch.Size([10, 2])\n",
            "torch.Size([10, 2])\n",
            "torch.Size([10, 2])\n",
            "torch.Size([10, 2])\n"
          ]
        }
      ]
    },
    {
      "cell_type": "code",
      "source": [
        "loader = DataLoader(dataset=lion, batch_size=10)\n",
        "\n",
        "for i, batch in enumerate(loader):\n",
        "  x, y = batch\n",
        "  if i == 0:\n",
        "    print(x)\n",
        "    print(y)\n",
        "    print(x.shape)"
      ],
      "metadata": {
        "colab": {
          "base_uri": "https://localhost:8080/"
        },
        "id": "wCFRxt5o-wqV",
        "outputId": "f365eebf-d73b-4211-ba75-796cfb591c98"
      },
      "execution_count": null,
      "outputs": [
        {
          "output_type": "stream",
          "name": "stdout",
          "text": [
            "tensor([[ 0.,  1.],\n",
            "        [ 2.,  3.],\n",
            "        [ 4.,  5.],\n",
            "        [ 6.,  7.],\n",
            "        [ 8.,  9.],\n",
            "        [10., 11.],\n",
            "        [12., 13.],\n",
            "        [14., 15.],\n",
            "        [16., 17.],\n",
            "        [18., 19.]], dtype=torch.float64)\n",
            "tensor([0, 0, 0, 0, 0, 1, 1, 1, 1, 1])\n",
            "torch.Size([10, 2])\n"
          ]
        }
      ]
    },
    {
      "cell_type": "markdown",
      "source": [
        "### torchvision datasets"
      ],
      "metadata": {
        "id": "ymXJv4V0_Qj3"
      }
    },
    {
      "cell_type": "code",
      "source": [
        "from google.colab import drive\n",
        "drive.mount('/content/drive')"
      ],
      "metadata": {
        "colab": {
          "base_uri": "https://localhost:8080/"
        },
        "id": "57rinhDn_H_z",
        "outputId": "ab178966-5e69-4f12-d599-7fd6173c9a88"
      },
      "execution_count": 2,
      "outputs": [
        {
          "output_type": "stream",
          "name": "stdout",
          "text": [
            "Mounted at /content/drive\n"
          ]
        }
      ]
    },
    {
      "cell_type": "code",
      "source": [
        "import os\n",
        "root = os.path.join(os.getcwd(), \"drive\", \"MyDrive\", \"프로그래밍_정보\", \"쏘카 ai 엔지니어 육성 부트캠프 2기\", \"강의\", \"data\")\n",
        "ds = datasets.FashionMNIST(root=root, train=True, download=True, transform=transforms.ToTensor())\n",
        "\n",
        "ds[0]"
      ],
      "metadata": {
        "colab": {
          "base_uri": "https://localhost:8080/"
        },
        "id": "AJyhFnEz_fIs",
        "outputId": "7ee0ad00-09f5-481f-bd24-2db9392254e7"
      },
      "execution_count": 3,
      "outputs": [
        {
          "output_type": "execute_result",
          "data": {
            "text/plain": [
              "(tensor([[[0.0000, 0.0000, 0.0000, 0.0000, 0.0000, 0.0000, 0.0000, 0.0000,\n",
              "           0.0000, 0.0000, 0.0000, 0.0000, 0.0000, 0.0000, 0.0000, 0.0000,\n",
              "           0.0000, 0.0000, 0.0000, 0.0000, 0.0000, 0.0000, 0.0000, 0.0000,\n",
              "           0.0000, 0.0000, 0.0000, 0.0000],\n",
              "          [0.0000, 0.0000, 0.0000, 0.0000, 0.0000, 0.0000, 0.0000, 0.0000,\n",
              "           0.0000, 0.0000, 0.0000, 0.0000, 0.0000, 0.0000, 0.0000, 0.0000,\n",
              "           0.0000, 0.0000, 0.0000, 0.0000, 0.0000, 0.0000, 0.0000, 0.0000,\n",
              "           0.0000, 0.0000, 0.0000, 0.0000],\n",
              "          [0.0000, 0.0000, 0.0000, 0.0000, 0.0000, 0.0000, 0.0000, 0.0000,\n",
              "           0.0000, 0.0000, 0.0000, 0.0000, 0.0000, 0.0000, 0.0000, 0.0000,\n",
              "           0.0000, 0.0000, 0.0000, 0.0000, 0.0000, 0.0000, 0.0000, 0.0000,\n",
              "           0.0000, 0.0000, 0.0000, 0.0000],\n",
              "          [0.0000, 0.0000, 0.0000, 0.0000, 0.0000, 0.0000, 0.0000, 0.0000,\n",
              "           0.0000, 0.0000, 0.0000, 0.0000, 0.0039, 0.0000, 0.0000, 0.0510,\n",
              "           0.2863, 0.0000, 0.0000, 0.0039, 0.0157, 0.0000, 0.0000, 0.0000,\n",
              "           0.0000, 0.0039, 0.0039, 0.0000],\n",
              "          [0.0000, 0.0000, 0.0000, 0.0000, 0.0000, 0.0000, 0.0000, 0.0000,\n",
              "           0.0000, 0.0000, 0.0000, 0.0000, 0.0118, 0.0000, 0.1412, 0.5333,\n",
              "           0.4980, 0.2431, 0.2118, 0.0000, 0.0000, 0.0000, 0.0039, 0.0118,\n",
              "           0.0157, 0.0000, 0.0000, 0.0118],\n",
              "          [0.0000, 0.0000, 0.0000, 0.0000, 0.0000, 0.0000, 0.0000, 0.0000,\n",
              "           0.0000, 0.0000, 0.0000, 0.0000, 0.0235, 0.0000, 0.4000, 0.8000,\n",
              "           0.6902, 0.5255, 0.5647, 0.4824, 0.0902, 0.0000, 0.0000, 0.0000,\n",
              "           0.0000, 0.0471, 0.0392, 0.0000],\n",
              "          [0.0000, 0.0000, 0.0000, 0.0000, 0.0000, 0.0000, 0.0000, 0.0000,\n",
              "           0.0000, 0.0000, 0.0000, 0.0000, 0.0000, 0.0000, 0.6078, 0.9255,\n",
              "           0.8118, 0.6980, 0.4196, 0.6118, 0.6314, 0.4275, 0.2510, 0.0902,\n",
              "           0.3020, 0.5098, 0.2824, 0.0588],\n",
              "          [0.0000, 0.0000, 0.0000, 0.0000, 0.0000, 0.0000, 0.0000, 0.0000,\n",
              "           0.0000, 0.0000, 0.0000, 0.0039, 0.0000, 0.2706, 0.8118, 0.8745,\n",
              "           0.8549, 0.8471, 0.8471, 0.6392, 0.4980, 0.4745, 0.4784, 0.5725,\n",
              "           0.5529, 0.3451, 0.6745, 0.2588],\n",
              "          [0.0000, 0.0000, 0.0000, 0.0000, 0.0000, 0.0000, 0.0000, 0.0000,\n",
              "           0.0000, 0.0039, 0.0039, 0.0039, 0.0000, 0.7843, 0.9098, 0.9098,\n",
              "           0.9137, 0.8980, 0.8745, 0.8745, 0.8431, 0.8353, 0.6431, 0.4980,\n",
              "           0.4824, 0.7686, 0.8980, 0.0000],\n",
              "          [0.0000, 0.0000, 0.0000, 0.0000, 0.0000, 0.0000, 0.0000, 0.0000,\n",
              "           0.0000, 0.0000, 0.0000, 0.0000, 0.0000, 0.7176, 0.8824, 0.8471,\n",
              "           0.8745, 0.8941, 0.9216, 0.8902, 0.8784, 0.8706, 0.8784, 0.8667,\n",
              "           0.8745, 0.9608, 0.6784, 0.0000],\n",
              "          [0.0000, 0.0000, 0.0000, 0.0000, 0.0000, 0.0000, 0.0000, 0.0000,\n",
              "           0.0000, 0.0000, 0.0000, 0.0000, 0.0000, 0.7569, 0.8941, 0.8549,\n",
              "           0.8353, 0.7765, 0.7059, 0.8314, 0.8235, 0.8275, 0.8353, 0.8745,\n",
              "           0.8627, 0.9529, 0.7922, 0.0000],\n",
              "          [0.0000, 0.0000, 0.0000, 0.0000, 0.0000, 0.0000, 0.0000, 0.0000,\n",
              "           0.0000, 0.0039, 0.0118, 0.0000, 0.0471, 0.8588, 0.8627, 0.8314,\n",
              "           0.8549, 0.7529, 0.6627, 0.8902, 0.8157, 0.8549, 0.8784, 0.8314,\n",
              "           0.8863, 0.7725, 0.8196, 0.2039],\n",
              "          [0.0000, 0.0000, 0.0000, 0.0000, 0.0000, 0.0000, 0.0000, 0.0000,\n",
              "           0.0000, 0.0000, 0.0235, 0.0000, 0.3882, 0.9569, 0.8706, 0.8627,\n",
              "           0.8549, 0.7961, 0.7765, 0.8667, 0.8431, 0.8353, 0.8706, 0.8627,\n",
              "           0.9608, 0.4667, 0.6549, 0.2196],\n",
              "          [0.0000, 0.0000, 0.0000, 0.0000, 0.0000, 0.0000, 0.0000, 0.0000,\n",
              "           0.0000, 0.0157, 0.0000, 0.0000, 0.2157, 0.9255, 0.8941, 0.9020,\n",
              "           0.8941, 0.9412, 0.9098, 0.8353, 0.8549, 0.8745, 0.9176, 0.8510,\n",
              "           0.8510, 0.8196, 0.3608, 0.0000],\n",
              "          [0.0000, 0.0000, 0.0039, 0.0157, 0.0235, 0.0275, 0.0078, 0.0000,\n",
              "           0.0000, 0.0000, 0.0000, 0.0000, 0.9294, 0.8863, 0.8510, 0.8745,\n",
              "           0.8706, 0.8588, 0.8706, 0.8667, 0.8471, 0.8745, 0.8980, 0.8431,\n",
              "           0.8549, 1.0000, 0.3020, 0.0000],\n",
              "          [0.0000, 0.0118, 0.0000, 0.0000, 0.0000, 0.0000, 0.0000, 0.0000,\n",
              "           0.0000, 0.2431, 0.5686, 0.8000, 0.8941, 0.8118, 0.8353, 0.8667,\n",
              "           0.8549, 0.8157, 0.8275, 0.8549, 0.8784, 0.8745, 0.8588, 0.8431,\n",
              "           0.8784, 0.9569, 0.6235, 0.0000],\n",
              "          [0.0000, 0.0000, 0.0000, 0.0000, 0.0706, 0.1725, 0.3216, 0.4196,\n",
              "           0.7412, 0.8941, 0.8627, 0.8706, 0.8510, 0.8863, 0.7843, 0.8039,\n",
              "           0.8275, 0.9020, 0.8784, 0.9176, 0.6902, 0.7373, 0.9804, 0.9725,\n",
              "           0.9137, 0.9333, 0.8431, 0.0000],\n",
              "          [0.0000, 0.2235, 0.7333, 0.8157, 0.8784, 0.8667, 0.8784, 0.8157,\n",
              "           0.8000, 0.8392, 0.8157, 0.8196, 0.7843, 0.6235, 0.9608, 0.7569,\n",
              "           0.8078, 0.8745, 1.0000, 1.0000, 0.8667, 0.9176, 0.8667, 0.8275,\n",
              "           0.8627, 0.9098, 0.9647, 0.0000],\n",
              "          [0.0118, 0.7922, 0.8941, 0.8784, 0.8667, 0.8275, 0.8275, 0.8392,\n",
              "           0.8039, 0.8039, 0.8039, 0.8627, 0.9412, 0.3137, 0.5882, 1.0000,\n",
              "           0.8980, 0.8667, 0.7373, 0.6039, 0.7490, 0.8235, 0.8000, 0.8196,\n",
              "           0.8706, 0.8941, 0.8824, 0.0000],\n",
              "          [0.3843, 0.9137, 0.7765, 0.8235, 0.8706, 0.8980, 0.8980, 0.9176,\n",
              "           0.9765, 0.8627, 0.7608, 0.8431, 0.8510, 0.9451, 0.2549, 0.2863,\n",
              "           0.4157, 0.4588, 0.6588, 0.8588, 0.8667, 0.8431, 0.8510, 0.8745,\n",
              "           0.8745, 0.8784, 0.8980, 0.1137],\n",
              "          [0.2941, 0.8000, 0.8314, 0.8000, 0.7569, 0.8039, 0.8275, 0.8824,\n",
              "           0.8471, 0.7255, 0.7725, 0.8078, 0.7765, 0.8353, 0.9412, 0.7647,\n",
              "           0.8902, 0.9608, 0.9373, 0.8745, 0.8549, 0.8314, 0.8196, 0.8706,\n",
              "           0.8627, 0.8667, 0.9020, 0.2627],\n",
              "          [0.1882, 0.7961, 0.7176, 0.7608, 0.8353, 0.7725, 0.7255, 0.7451,\n",
              "           0.7608, 0.7529, 0.7922, 0.8392, 0.8588, 0.8667, 0.8627, 0.9255,\n",
              "           0.8824, 0.8471, 0.7804, 0.8078, 0.7294, 0.7098, 0.6941, 0.6745,\n",
              "           0.7098, 0.8039, 0.8078, 0.4510],\n",
              "          [0.0000, 0.4784, 0.8588, 0.7569, 0.7020, 0.6706, 0.7176, 0.7686,\n",
              "           0.8000, 0.8235, 0.8353, 0.8118, 0.8275, 0.8235, 0.7843, 0.7686,\n",
              "           0.7608, 0.7490, 0.7647, 0.7490, 0.7765, 0.7529, 0.6902, 0.6118,\n",
              "           0.6549, 0.6941, 0.8235, 0.3608],\n",
              "          [0.0000, 0.0000, 0.2902, 0.7412, 0.8314, 0.7490, 0.6863, 0.6745,\n",
              "           0.6863, 0.7098, 0.7255, 0.7373, 0.7412, 0.7373, 0.7569, 0.7765,\n",
              "           0.8000, 0.8196, 0.8235, 0.8235, 0.8275, 0.7373, 0.7373, 0.7608,\n",
              "           0.7529, 0.8471, 0.6667, 0.0000],\n",
              "          [0.0078, 0.0000, 0.0000, 0.0000, 0.2588, 0.7843, 0.8706, 0.9294,\n",
              "           0.9373, 0.9490, 0.9647, 0.9529, 0.9569, 0.8667, 0.8627, 0.7569,\n",
              "           0.7490, 0.7020, 0.7137, 0.7137, 0.7098, 0.6902, 0.6510, 0.6588,\n",
              "           0.3882, 0.2275, 0.0000, 0.0000],\n",
              "          [0.0000, 0.0000, 0.0000, 0.0000, 0.0000, 0.0000, 0.0000, 0.1569,\n",
              "           0.2392, 0.1725, 0.2824, 0.1608, 0.1373, 0.0000, 0.0000, 0.0000,\n",
              "           0.0000, 0.0000, 0.0000, 0.0000, 0.0000, 0.0000, 0.0000, 0.0000,\n",
              "           0.0000, 0.0000, 0.0000, 0.0000],\n",
              "          [0.0000, 0.0000, 0.0000, 0.0000, 0.0000, 0.0000, 0.0000, 0.0000,\n",
              "           0.0000, 0.0000, 0.0000, 0.0000, 0.0000, 0.0000, 0.0000, 0.0000,\n",
              "           0.0000, 0.0000, 0.0000, 0.0000, 0.0000, 0.0000, 0.0000, 0.0000,\n",
              "           0.0000, 0.0000, 0.0000, 0.0000],\n",
              "          [0.0000, 0.0000, 0.0000, 0.0000, 0.0000, 0.0000, 0.0000, 0.0000,\n",
              "           0.0000, 0.0000, 0.0000, 0.0000, 0.0000, 0.0000, 0.0000, 0.0000,\n",
              "           0.0000, 0.0000, 0.0000, 0.0000, 0.0000, 0.0000, 0.0000, 0.0000,\n",
              "           0.0000, 0.0000, 0.0000, 0.0000]]]), 9)"
            ]
          },
          "metadata": {},
          "execution_count": 3
        }
      ]
    },
    {
      "cell_type": "code",
      "source": [
        "ds[0][0].shape"
      ],
      "metadata": {
        "colab": {
          "base_uri": "https://localhost:8080/"
        },
        "id": "52Dclx-Z_tmd",
        "outputId": "497edf40-4572-4717-adc9-d645b5317d1c"
      },
      "execution_count": 4,
      "outputs": [
        {
          "output_type": "execute_result",
          "data": {
            "text/plain": [
              "torch.Size([1, 28, 28])"
            ]
          },
          "metadata": {},
          "execution_count": 4
        }
      ]
    },
    {
      "cell_type": "code",
      "source": [
        "len(ds[0])"
      ],
      "metadata": {
        "colab": {
          "base_uri": "https://localhost:8080/"
        },
        "id": "Nen1EfsN_zZM",
        "outputId": "76e6138f-f779-42fc-daef-406fa1d9c9c6"
      },
      "execution_count": 5,
      "outputs": [
        {
          "output_type": "execute_result",
          "data": {
            "text/plain": [
              "2"
            ]
          },
          "metadata": {},
          "execution_count": 5
        }
      ]
    },
    {
      "cell_type": "code",
      "source": [
        "loader = DataLoader(dataset=ds, batch_size=256, shuffle=True)\n",
        "batch = next(iter(loader))\n",
        "\n",
        "fig = plt.figure(figsize=(10, 10))\n",
        "for i in range(9):\n",
        "  x = batch[0][i]\n",
        "  ax = fig.add_subplot(3, 3, i+1)\n",
        "  ax.imshow(x.squeeze(), cmap=\"gray\")\n",
        "fig.show()"
      ],
      "metadata": {
        "colab": {
          "base_uri": "https://localhost:8080/",
          "height": 593
        },
        "id": "N7VQYlPQAr-O",
        "outputId": "3da1bfd7-ba33-45d7-efd9-15e7f45076eb"
      },
      "execution_count": 6,
      "outputs": [
        {
          "output_type": "display_data",
          "data": {
            "text/plain": [
              "<Figure size 720x720 with 9 Axes>"
            ],
            "image/png": "[encoded data removed]"
          },
          "metadata": {
            "needs_background": "light"
          }
        }
      ]
    },
    {
      "cell_type": "markdown",
      "source": [
        "## 4-1-3. torch.nn.Module"
      ],
      "metadata": {
        "id": "Esh8Zye1h3Ad"
      }
    },
    {
      "cell_type": "code",
      "source": [
        "device = 'cuda' if torch.cuda.is_available() else 'cuda'\n",
        "print(device)"
      ],
      "metadata": {
        "colab": {
          "base_uri": "https://localhost:8080/"
        },
        "id": "OyQfNEg3iDCA",
        "outputId": "dd90a529-03b1-4e3b-bc5d-5aeb6558013c"
      },
      "execution_count": 2,
      "outputs": [
        {
          "output_type": "stream",
          "name": "stdout",
          "text": [
            "cuda\n"
          ]
        }
      ]
    },
    {
      "cell_type": "markdown",
      "source": [
        "### Define model"
      ],
      "metadata": {
        "id": "O1uC0Rjjh7q7"
      }
    },
    {
      "cell_type": "code",
      "source": [
        "class LionLinear(nn.Module):\n",
        "  def __init__(self, input_dim, output_dim):\n",
        "    super().__init__()\n",
        "    \n",
        "    self.input_dim = input_dim\n",
        "    self.output_dim = output_dim\n",
        "\n",
        "    self.flatten = nn.Flatten()\n",
        "    self.classifier = nn.Linear(input_dim, output_dim)\n",
        "    self.act = nn.ReLU()\n",
        "\n",
        "  def forward(self, x):\n",
        "    x = self.flatten(x)\n",
        "    x = self.classifier(x)\n",
        "    x = self.act(x)\n",
        "    return x"
      ],
      "metadata": {
        "id": "2GFJDbOJA-2W"
      },
      "execution_count": 3,
      "outputs": []
    },
    {
      "cell_type": "code",
      "source": [
        "linear_model = LionLinear(28*28, 10).to(device)\n",
        "print(linear_model)"
      ],
      "metadata": {
        "colab": {
          "base_uri": "https://localhost:8080/"
        },
        "id": "PhH3xlJ6ikvW",
        "outputId": "1dc8b984-fc49-4e2d-c0fa-cfead76c922c"
      },
      "execution_count": 4,
      "outputs": [
        {
          "output_type": "stream",
          "name": "stdout",
          "text": [
            "LionLinear(\n",
            "  (flatten): Flatten(start_dim=1, end_dim=-1)\n",
            "  (classifier): Linear(in_features=784, out_features=10, bias=True)\n",
            "  (act): ReLU()\n",
            ")\n"
          ]
        }
      ]
    },
    {
      "cell_type": "code",
      "source": [
        "print(linear_model.classifier)"
      ],
      "metadata": {
        "colab": {
          "base_uri": "https://localhost:8080/"
        },
        "id": "tL_vAWQiitNr",
        "outputId": "8bcf1100-46a0-4647-89c9-dc93572658e9"
      },
      "execution_count": 5,
      "outputs": [
        {
          "output_type": "stream",
          "name": "stdout",
          "text": [
            "Linear(in_features=784, out_features=10, bias=True)\n"
          ]
        }
      ]
    },
    {
      "cell_type": "code",
      "source": [
        "X = torch.rand(5, 28, 28).to(device)\n",
        "print(X.shape)\n",
        "y = linear_model(X)\n",
        "print(y.shape)\n",
        "prob = nn.Softmax(dim=1)(y)\n",
        "print(prob)\n",
        "y_hat = prob.argmax(1)\n",
        "print(y_hat)"
      ],
      "metadata": {
        "colab": {
          "base_uri": "https://localhost:8080/"
        },
        "id": "wTFBch5Bjlu2",
        "outputId": "6d132f78-93ab-4f35-ec48-90a5acdfdb29"
      },
      "execution_count": 6,
      "outputs": [
        {
          "output_type": "stream",
          "name": "stdout",
          "text": [
            "torch.Size([5, 28, 28])\n",
            "torch.Size([5, 10])\n",
            "tensor([[0.0952, 0.0905, 0.0973, 0.0911, 0.0905, 0.0905, 0.1102, 0.0905, 0.1356,\n",
            "         0.1084],\n",
            "        [0.1006, 0.0937, 0.1169, 0.1134, 0.0937, 0.0937, 0.0937, 0.0987, 0.1022,\n",
            "         0.0937],\n",
            "        [0.0864, 0.0864, 0.1138, 0.1016, 0.0864, 0.0935, 0.0864, 0.0956, 0.1633,\n",
            "         0.0864],\n",
            "        [0.0905, 0.0905, 0.0905, 0.0905, 0.0917, 0.0905, 0.0928, 0.1073, 0.1652,\n",
            "         0.0905],\n",
            "        [0.1063, 0.0893, 0.1089, 0.0893, 0.0935, 0.0893, 0.0893, 0.1161, 0.1278,\n",
            "         0.0904]], device='cuda:0', grad_fn=<SoftmaxBackward0>)\n",
            "tensor([8, 2, 8, 8, 8], device='cuda:0')\n"
          ]
        }
      ]
    },
    {
      "cell_type": "code",
      "source": [
        "class LionFlatten(nn.Module):\n",
        "  def __init__(self):\n",
        "    super().__init__()\n",
        "    pass\n",
        "\n",
        "  def forward(self, x):\n",
        "    return x.reshape(x.shape[0], -1)"
      ],
      "metadata": {
        "id": "fsGLeqC2jpIb"
      },
      "execution_count": 7,
      "outputs": []
    },
    {
      "cell_type": "code",
      "source": [
        "print(X.shape)\n",
        "fla = LionFlatten()\n",
        "print(fla(X).shape)"
      ],
      "metadata": {
        "colab": {
          "base_uri": "https://localhost:8080/"
        },
        "id": "xf8_XccckRWB",
        "outputId": "440ef056-2a21-4df1-a892-3bc61bef8858"
      },
      "execution_count": 8,
      "outputs": [
        {
          "output_type": "stream",
          "name": "stdout",
          "text": [
            "torch.Size([5, 28, 28])\n",
            "torch.Size([5, 784])\n"
          ]
        }
      ]
    },
    {
      "cell_type": "code",
      "source": [
        "class LionLayer(nn.Module):\n",
        "  def __init__(self, input_dim, output_dim):\n",
        "    super().__init__()\n",
        "    \n",
        "    self.input_dim = input_dim\n",
        "    self.output_dim = output_dim\n",
        "\n",
        "    self.layer = nn.Linear(self.input_dim, self.output_dim)\n",
        "    pass\n",
        "\n",
        "  def forward(self, x):\n",
        "    assert x.shape[-1] == self.input_dim, \"Input dimension mismatch\"\n",
        "    return self.layer(x)"
      ],
      "metadata": {
        "id": "N582zWsokTD4"
      },
      "execution_count": 9,
      "outputs": []
    },
    {
      "cell_type": "code",
      "source": [
        "lin = LionLayer(28 * 28, 20).to(device)\n",
        "print(lin)\n",
        "print(lin(fla(X)).shape)"
      ],
      "metadata": {
        "colab": {
          "base_uri": "https://localhost:8080/"
        },
        "id": "ee9mW3HhkVp3",
        "outputId": "fa00b72f-df6b-42e8-e1ef-c4924014dbdc"
      },
      "execution_count": 10,
      "outputs": [
        {
          "output_type": "stream",
          "name": "stdout",
          "text": [
            "LionLayer(\n",
            "  (layer): Linear(in_features=784, out_features=20, bias=True)\n",
            ")\n",
            "torch.Size([5, 20])\n"
          ]
        }
      ]
    },
    {
      "cell_type": "code",
      "source": [
        "class LionMLP(nn.Module):\n",
        "  def __init__(self, input_dim, hidden_dim, output_dim):\n",
        "    super().__init__()\n",
        "\n",
        "    self.input_dim = input_dim\n",
        "    self.hidden_dim = hidden_dim\n",
        "    self.output_dim = output_dim\n",
        "\n",
        "    self.flatten = LionFlatten()\n",
        "    self.linear_1 = LionLayer(self.input_dim, self.hidden_dim)\n",
        "    self.linear_2 = LionLayer(self.hidden_dim, self.output_dim)\n",
        "    self.act_1 = nn.ReLU()\n",
        "    self.act_2 = nn.Softmax()\n",
        "    pass\n",
        "\n",
        "  def forward(self, x):\n",
        "    x = self.flatten(x)\n",
        "    x = self.act_1(self.linear_1(x))\n",
        "    x = self.act_2(self.linear_2(x))\n",
        "    return x\n"
      ],
      "metadata": {
        "id": "i8FHEo9NkXPe"
      },
      "execution_count": 11,
      "outputs": []
    },
    {
      "cell_type": "code",
      "source": [
        "mlp = LionMLP(28*28, 50, 10)\n",
        "print(mlp)"
      ],
      "metadata": {
        "colab": {
          "base_uri": "https://localhost:8080/"
        },
        "id": "AEhqrnc6kb0C",
        "outputId": "475acf0d-7b18-4d23-d346-1254504aabdf"
      },
      "execution_count": 12,
      "outputs": [
        {
          "output_type": "stream",
          "name": "stdout",
          "text": [
            "LionMLP(\n",
            "  (flatten): LionFlatten()\n",
            "  (linear_1): LionLayer(\n",
            "    (layer): Linear(in_features=784, out_features=50, bias=True)\n",
            "  )\n",
            "  (linear_2): LionLayer(\n",
            "    (layer): Linear(in_features=50, out_features=10, bias=True)\n",
            "  )\n",
            "  (act_1): ReLU()\n",
            "  (act_2): Softmax(dim=None)\n",
            ")\n"
          ]
        }
      ]
    },
    {
      "cell_type": "code",
      "source": [
        "class LionMLP(nn.Module):\n",
        "  def __init__(self, input_dim, hidden_dim, output_dim):\n",
        "    super().__init__()\n",
        "\n",
        "    self.input_dim = input_dim\n",
        "    self.hidden_dim = hidden_dim\n",
        "    self.output_dim = output_dim\n",
        "\n",
        "    self.flatten = LionFlatten()\n",
        "    self.linear_1 = LionLayer(self.input_dim, self.hidden_dim)\n",
        "    self.linear_2 = LionLayer(self.hidden_dim, self.output_dim)\n",
        "    self.act_1 = nn.ReLU()\n",
        "    self.act_2 = nn.Softmax()\n",
        "\n",
        "    self.model = nn.Sequential(self.flatten, self.linear_1, self.act_1, self.linear_2, self.act_2)\n",
        "    pass\n",
        "\n",
        "  def forward(self, x):\n",
        "    return self.model(x)"
      ],
      "metadata": {
        "id": "2HxQTyujkcxP"
      },
      "execution_count": 13,
      "outputs": []
    },
    {
      "cell_type": "code",
      "source": [
        "mlp = LionMLP(28 * 28, 40, 10)\n",
        "print(mlp)"
      ],
      "metadata": {
        "colab": {
          "base_uri": "https://localhost:8080/"
        },
        "id": "G4DhJL4Akdzw",
        "outputId": "0515047a-1405-47f4-c591-7b750ef6bc95"
      },
      "execution_count": 14,
      "outputs": [
        {
          "output_type": "stream",
          "name": "stdout",
          "text": [
            "LionMLP(\n",
            "  (flatten): LionFlatten()\n",
            "  (linear_1): LionLayer(\n",
            "    (layer): Linear(in_features=784, out_features=40, bias=True)\n",
            "  )\n",
            "  (linear_2): LionLayer(\n",
            "    (layer): Linear(in_features=40, out_features=10, bias=True)\n",
            "  )\n",
            "  (act_1): ReLU()\n",
            "  (act_2): Softmax(dim=None)\n",
            "  (model): Sequential(\n",
            "    (0): LionFlatten()\n",
            "    (1): LionLayer(\n",
            "      (layer): Linear(in_features=784, out_features=40, bias=True)\n",
            "    )\n",
            "    (2): ReLU()\n",
            "    (3): LionLayer(\n",
            "      (layer): Linear(in_features=40, out_features=10, bias=True)\n",
            "    )\n",
            "    (4): Softmax(dim=None)\n",
            "  )\n",
            ")\n"
          ]
        }
      ]
    },
    {
      "cell_type": "code",
      "source": [],
      "metadata": {
        "id": "_n38GtNHke8I"
      },
      "execution_count": null,
      "outputs": []
    }
  ]
}