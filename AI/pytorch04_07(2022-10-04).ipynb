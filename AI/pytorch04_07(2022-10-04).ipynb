{
  "nbformat": 4,
  "nbformat_minor": 0,
  "metadata": {
    "colab": {
      "provenance": [],
      "toc_visible": true
    },
    "kernelspec": {
      "name": "python3",
      "display_name": "Python 3"
    },
    "language_info": {
      "name": "python"
    },
    "accelerator": "GPU"
  },
  "cells": [
    {
      "cell_type": "markdown",
      "source": [
        "# pakage import"
      ],
      "metadata": {
        "id": "2nvtwB44ypCK"
      }
    },
    {
      "cell_type": "code",
      "execution_count": 2,
      "metadata": {
        "id": "8yKttE_qx6GE"
      },
      "outputs": [],
      "source": [
        "import numpy as np\n",
        "\n",
        "import torch\n",
        "from torch import nn\n",
        "from torch.utils.data import Dataset, DataLoader\n",
        "\n",
        "from torchvision import datasets, transforms\n",
        "\n",
        "import matplotlib.pyplot as plt"
      ]
    },
    {
      "cell_type": "markdown",
      "source": [
        "## Torch tensor란"
      ],
      "metadata": {
        "id": "cvq5MkkQy5DA"
      }
    },
    {
      "cell_type": "code",
      "source": [
        "a = torch.tensor([[1.0, 4.0], [4.0, 3.0]], device=0)\n",
        "b = torch.tensor([[4, 3], [1, 4], [1, 2]], dtype=torch.int64, device='cpu')\n",
        "print(a)\n",
        "print(b)"
      ],
      "metadata": {
        "colab": {
          "base_uri": "https://localhost:8080/"
        },
        "id": "dU8j3lMpym-I",
        "outputId": "2af3f6d8-eb65-482f-ee56-678c3349e3c5"
      },
      "execution_count": 7,
      "outputs": [
        {
          "output_type": "stream",
          "name": "stdout",
          "text": [
            "tensor([[1., 4.],\n",
            "        [4., 3.]], device='cuda:0')\n",
            "tensor([[4, 3],\n",
            "        [1, 4],\n",
            "        [1, 2]])\n"
          ]
        }
      ]
    },
    {
      "cell_type": "code",
      "source": [
        "print(a.dtype, a.device, a.shape)\n",
        "print(b.dtype, b.device, b.shape)"
      ],
      "metadata": {
        "colab": {
          "base_uri": "https://localhost:8080/"
        },
        "id": "BQ-QPco0zZwv",
        "outputId": "2fba82b0-6759-4e66-cff9-88c7ad5927d8"
      },
      "execution_count": 8,
      "outputs": [
        {
          "output_type": "stream",
          "name": "stdout",
          "text": [
            "torch.float32 cuda:0 torch.Size([2, 2])\n",
            "torch.int64 cpu torch.Size([3, 2])\n"
          ]
        }
      ]
    },
    {
      "cell_type": "code",
      "source": [
        "a = torch.Tensor([[4, 2], [2, 1]])\n",
        "print(a.dtype, a.device)"
      ],
      "metadata": {
        "colab": {
          "base_uri": "https://localhost:8080/"
        },
        "id": "Wuiv946i0Z54",
        "outputId": "c4641b64-5b39-4dad-95de-88e41ce622d9"
      },
      "execution_count": 5,
      "outputs": [
        {
          "output_type": "stream",
          "name": "stdout",
          "text": [
            "torch.float32 cpu\n"
          ]
        }
      ]
    },
    {
      "cell_type": "code",
      "source": [
        "a = torch.ones([2, 3])\n",
        "b = torch.zeros([3, 2], dtype=torch.int64)\n",
        "c = torch.eye(4)\n",
        "d = torch.rand([2, 4, 3])  "
      ],
      "metadata": {
        "id": "pzKiWjCx0jek"
      },
      "execution_count": 6,
      "outputs": []
    },
    {
      "cell_type": "code",
      "source": [
        "print(a)\n",
        "print(b)\n",
        "print(c)\n",
        "print(d)"
      ],
      "metadata": {
        "colab": {
          "base_uri": "https://localhost:8080/"
        },
        "id": "U9gYNUjR1PCT",
        "outputId": "7ef0885c-8a12-44b7-b792-5f46e4ef1bdb"
      },
      "execution_count": 7,
      "outputs": [
        {
          "output_type": "stream",
          "name": "stdout",
          "text": [
            "tensor([[1., 1., 1.],\n",
            "        [1., 1., 1.]])\n",
            "tensor([[0, 0],\n",
            "        [0, 0],\n",
            "        [0, 0]])\n",
            "tensor([[1., 0., 0., 0.],\n",
            "        [0., 1., 0., 0.],\n",
            "        [0., 0., 1., 0.],\n",
            "        [0., 0., 0., 1.]])\n",
            "tensor([[[0.3145, 0.9455, 0.1947],\n",
            "         [0.2652, 0.3791, 0.3721],\n",
            "         [0.4361, 0.7967, 0.0696],\n",
            "         [0.9716, 0.0476, 0.8572]],\n",
            "\n",
            "        [[0.1304, 0.8133, 0.0749],\n",
            "         [0.7270, 0.6376, 0.0318],\n",
            "         [0.9444, 0.3746, 0.0669],\n",
            "         [0.1307, 0.2664, 0.9708]]])\n"
          ]
        }
      ]
    },
    {
      "cell_type": "code",
      "source": [
        "d = np.array([[2, 5, 4], [4, 2, 1], [5, 7, 4]])\n",
        "a = torch.tensor(d)\n",
        "b = torch.from_numpy(d)\n",
        "\n",
        "print(a)\n",
        "print(b)\n",
        "print(d)"
      ],
      "metadata": {
        "colab": {
          "base_uri": "https://localhost:8080/"
        },
        "id": "wK0kWW8g1RPz",
        "outputId": "407fb1f2-adc4-4250-c7e2-42c025dbb81e"
      },
      "execution_count": 8,
      "outputs": [
        {
          "output_type": "stream",
          "name": "stdout",
          "text": [
            "tensor([[2, 5, 4],\n",
            "        [4, 2, 1],\n",
            "        [5, 7, 4]])\n",
            "tensor([[2, 5, 4],\n",
            "        [4, 2, 1],\n",
            "        [5, 7, 4]])\n",
            "[[2 5 4]\n",
            " [4 2 1]\n",
            " [5 7 4]]\n"
          ]
        }
      ]
    },
    {
      "cell_type": "code",
      "source": [
        " d[0, 0] = 100\n",
        " print(a)\n",
        " print(b)"
      ],
      "metadata": {
        "colab": {
          "base_uri": "https://localhost:8080/"
        },
        "id": "IU38kFLM1vrZ",
        "outputId": "da9f104c-b83f-4df7-a3c1-34ce4dc13c4a"
      },
      "execution_count": 10,
      "outputs": [
        {
          "output_type": "stream",
          "name": "stdout",
          "text": [
            "tensor([[2, 5, 4],\n",
            "        [4, 2, 1],\n",
            "        [5, 7, 4]])\n",
            "tensor([[100,   5,   4],\n",
            "        [  4,   2,   1],\n",
            "        [  5,   7,   4]])\n"
          ]
        }
      ]
    },
    {
      "cell_type": "code",
      "source": [
        "b = torch.ones_like(a)\n",
        "c = torch.zeros_like(a, dtype=torch.float)\n",
        "d = torch.rand_like(a, dtype=torch.float)\n",
        "\n",
        "print(b)\n",
        "print(c)\n",
        "print(d)"
      ],
      "metadata": {
        "colab": {
          "base_uri": "https://localhost:8080/"
        },
        "id": "SoMxs_Dy2J4X",
        "outputId": "6c9c8f18-7529-4a82-98d3-36c54e6c7c27"
      },
      "execution_count": 11,
      "outputs": [
        {
          "output_type": "stream",
          "name": "stdout",
          "text": [
            "tensor([[1, 1, 1],\n",
            "        [1, 1, 1],\n",
            "        [1, 1, 1]])\n",
            "tensor([[0., 0., 0.],\n",
            "        [0., 0., 0.],\n",
            "        [0., 0., 0.]])\n",
            "tensor([[0.5743, 0.4334, 0.2920],\n",
            "        [0.9646, 0.5094, 0.7291],\n",
            "        [0.8593, 0.6486, 0.2571]])\n"
          ]
        }
      ]
    },
    {
      "cell_type": "code",
      "source": [
        "torch.cuda.is_available()"
      ],
      "metadata": {
        "colab": {
          "base_uri": "https://localhost:8080/"
        },
        "id": "3xx3KzA63WPd",
        "outputId": "ef30e278-505a-4db9-e00e-9a855235594e"
      },
      "execution_count": 3,
      "outputs": [
        {
          "output_type": "execute_result",
          "data": {
            "text/plain": [
              "True"
            ]
          },
          "metadata": {},
          "execution_count": 3
        }
      ]
    },
    {
      "cell_type": "code",
      "source": [
        "if torch.cuda.is_available():\n",
        "  a = torch.tensor([[4, 3, 2], [1, 2, 3]])\n",
        "  print(a)\n",
        "  b = a.to('cuda')\n",
        "  print(b)"
      ],
      "metadata": {
        "colab": {
          "base_uri": "https://localhost:8080/"
        },
        "id": "doLUTNVU3xVP",
        "outputId": "228f48e4-602b-44a3-b690-9734bbd5a080"
      },
      "execution_count": 5,
      "outputs": [
        {
          "output_type": "stream",
          "name": "stdout",
          "text": [
            "tensor([[4, 3, 2],\n",
            "        [1, 2, 3]])\n",
            "tensor([[4, 3, 2],\n",
            "        [1, 2, 3]], device='cuda:0')\n"
          ]
        }
      ]
    },
    {
      "cell_type": "code",
      "source": [
        "b[0][0] = 100\n",
        "print(a)\n",
        "print(b)"
      ],
      "metadata": {
        "colab": {
          "base_uri": "https://localhost:8080/"
        },
        "id": "c3sEo1ln4XKW",
        "outputId": "8ae6f7bf-5ca5-472e-dca1-79c06c475f2e"
      },
      "execution_count": 6,
      "outputs": [
        {
          "output_type": "stream",
          "name": "stdout",
          "text": [
            "tensor([[4, 3, 2],\n",
            "        [1, 2, 3]])\n",
            "tensor([[100,   3,   2],\n",
            "        [  1,   2,   3]], device='cuda:0')\n"
          ]
        }
      ]
    },
    {
      "cell_type": "code",
      "source": [
        "a = torch.rand([2, 3])\n",
        "b = torch.rand([2, 3])\n",
        "print(a)\n",
        "print(b)"
      ],
      "metadata": {
        "colab": {
          "base_uri": "https://localhost:8080/"
        },
        "id": "uaeMu9qD47Bo",
        "outputId": "55b97be6-2e76-40c1-c2c3-e73dee57d823"
      },
      "execution_count": 20,
      "outputs": [
        {
          "output_type": "stream",
          "name": "stdout",
          "text": [
            "tensor([[0.3062, 0.5970, 0.3831],\n",
            "        [0.1304, 0.5641, 0.2215]])\n",
            "tensor([[0.6166, 0.0990, 0.0286],\n",
            "        [0.8445, 0.9684, 0.7971]])\n"
          ]
        }
      ]
    },
    {
      "cell_type": "code",
      "source": [
        "c = torch.cat([a, b], dim=0)\n",
        "d = torch.cat([a, b], dim=1)\n",
        "print(c)\n",
        "print(c.shape)\n",
        "print(d)\n",
        "print(d.shape)"
      ],
      "metadata": {
        "colab": {
          "base_uri": "https://localhost:8080/"
        },
        "id": "aizBJ86X5QAF",
        "outputId": "c076877b-7c78-4769-abe5-56975770bc57"
      },
      "execution_count": 21,
      "outputs": [
        {
          "output_type": "stream",
          "name": "stdout",
          "text": [
            "tensor([[0.3062, 0.5970, 0.3831],\n",
            "        [0.1304, 0.5641, 0.2215],\n",
            "        [0.6166, 0.0990, 0.0286],\n",
            "        [0.8445, 0.9684, 0.7971]])\n",
            "torch.Size([4, 3])\n",
            "tensor([[0.3062, 0.5970, 0.3831, 0.6166, 0.0990, 0.0286],\n",
            "        [0.1304, 0.5641, 0.2215, 0.8445, 0.9684, 0.7971]])\n",
            "torch.Size([2, 6])\n"
          ]
        }
      ]
    },
    {
      "cell_type": "code",
      "source": [
        "c = torch.stack([a, b], dim=0)\n",
        "d = torch.stack([a, b], dim=1)\n",
        "e = torch.stack([a, b], dim=2)\n",
        "print(c)\n",
        "print(c.shape)\n",
        "print(d)\n",
        "print(d.shape)\n",
        "print(e)\n",
        "print(e.shape)"
      ],
      "metadata": {
        "colab": {
          "base_uri": "https://localhost:8080/"
        },
        "id": "nMxrTAkf5dTJ",
        "outputId": "ccc388d7-fa27-4afe-a3a7-6999db778815"
      },
      "execution_count": 22,
      "outputs": [
        {
          "output_type": "stream",
          "name": "stdout",
          "text": [
            "tensor([[[0.3062, 0.5970, 0.3831],\n",
            "         [0.1304, 0.5641, 0.2215]],\n",
            "\n",
            "        [[0.6166, 0.0990, 0.0286],\n",
            "         [0.8445, 0.9684, 0.7971]]])\n",
            "torch.Size([2, 2, 3])\n",
            "tensor([[[0.3062, 0.5970, 0.3831],\n",
            "         [0.6166, 0.0990, 0.0286]],\n",
            "\n",
            "        [[0.1304, 0.5641, 0.2215],\n",
            "         [0.8445, 0.9684, 0.7971]]])\n",
            "torch.Size([2, 2, 3])\n",
            "tensor([[[0.3062, 0.6166],\n",
            "         [0.5970, 0.0990],\n",
            "         [0.3831, 0.0286]],\n",
            "\n",
            "        [[0.1304, 0.8445],\n",
            "         [0.5641, 0.9684],\n",
            "         [0.2215, 0.7971]]])\n",
            "torch.Size([2, 3, 2])\n"
          ]
        }
      ]
    },
    {
      "cell_type": "code",
      "source": [
        "c = torch.hstack([a, b])\n",
        "print(c)\n",
        "print(c.shape)\n",
        "d = torch.vstack([a, b])\n",
        "print(d)\n",
        "print(d.shape)"
      ],
      "metadata": {
        "colab": {
          "base_uri": "https://localhost:8080/"
        },
        "id": "FH4RnhhI53NG",
        "outputId": "873ab887-0984-4646-f254-f64796d0461e"
      },
      "execution_count": 23,
      "outputs": [
        {
          "output_type": "stream",
          "name": "stdout",
          "text": [
            "tensor([[0.3062, 0.5970, 0.3831, 0.6166, 0.0990, 0.0286],\n",
            "        [0.1304, 0.5641, 0.2215, 0.8445, 0.9684, 0.7971]])\n",
            "torch.Size([2, 6])\n",
            "tensor([[0.3062, 0.5970, 0.3831],\n",
            "        [0.1304, 0.5641, 0.2215],\n",
            "        [0.6166, 0.0990, 0.0286],\n",
            "        [0.8445, 0.9684, 0.7971]])\n",
            "torch.Size([4, 3])\n"
          ]
        }
      ]
    },
    {
      "cell_type": "code",
      "source": [
        "print(a)\n",
        "a = torch.unsqueeze(a, dim=1)\n",
        "print(a)\n",
        "print(a.shape)\n",
        "\n",
        "a = torch.squeeze(a)\n",
        "print(a)\n",
        "print(a.shape)"
      ],
      "metadata": {
        "colab": {
          "base_uri": "https://localhost:8080/"
        },
        "id": "OxtUo9Fp7oc8",
        "outputId": "9f5a56cc-70c9-4665-86bb-0a2dd5f1b9c5"
      },
      "execution_count": 24,
      "outputs": [
        {
          "output_type": "stream",
          "name": "stdout",
          "text": [
            "tensor([[0.3062, 0.5970, 0.3831],\n",
            "        [0.1304, 0.5641, 0.2215]])\n",
            "tensor([[[0.3062, 0.5970, 0.3831]],\n",
            "\n",
            "        [[0.1304, 0.5641, 0.2215]]])\n",
            "torch.Size([2, 1, 3])\n",
            "tensor([[0.3062, 0.5970, 0.3831],\n",
            "        [0.1304, 0.5641, 0.2215]])\n",
            "torch.Size([2, 3])\n"
          ]
        }
      ]
    },
    {
      "cell_type": "code",
      "source": [
        "a = torch.tensor(np.array(list(range(12)))).reshape(3, 4)\n",
        "b = torch.tensor(np.array(list(range(8)))).reshape(4, 2)\n",
        "print(np.array(list(range(12))))\n",
        "print(torch.tensor(np.array(list(range(12)))))\n",
        "print(a)\n",
        "print(b)"
      ],
      "metadata": {
        "colab": {
          "base_uri": "https://localhost:8080/"
        },
        "id": "jaPKo2Jk75T9",
        "outputId": "e4c5da64-8158-47fe-ece6-f98121fc8b36"
      },
      "execution_count": 25,
      "outputs": [
        {
          "output_type": "stream",
          "name": "stdout",
          "text": [
            "[ 0  1  2  3  4  5  6  7  8  9 10 11]\n",
            "tensor([ 0,  1,  2,  3,  4,  5,  6,  7,  8,  9, 10, 11])\n",
            "tensor([[ 0,  1,  2,  3],\n",
            "        [ 4,  5,  6,  7],\n",
            "        [ 8,  9, 10, 11]])\n",
            "tensor([[0, 1],\n",
            "        [2, 3],\n",
            "        [4, 5],\n",
            "        [6, 7]])\n"
          ]
        }
      ]
    },
    {
      "cell_type": "code",
      "source": [
        "c = a @ b\n",
        "print(c)"
      ],
      "metadata": {
        "colab": {
          "base_uri": "https://localhost:8080/"
        },
        "id": "O-EqKWgT88qH",
        "outputId": "0c12694b-6dd0-49f8-9af5-ed8667ee3511"
      },
      "execution_count": 26,
      "outputs": [
        {
          "output_type": "stream",
          "name": "stdout",
          "text": [
            "tensor([[ 28,  34],\n",
            "        [ 76,  98],\n",
            "        [124, 162]])\n"
          ]
        }
      ]
    },
    {
      "cell_type": "code",
      "source": [
        "d = torch.matmul(a, b)\n",
        "print(d)"
      ],
      "metadata": {
        "colab": {
          "base_uri": "https://localhost:8080/"
        },
        "id": "W_FCLW5N9DsZ",
        "outputId": "b1dad38d-b8cb-40c7-9bf4-05e7d0b4062f"
      },
      "execution_count": 27,
      "outputs": [
        {
          "output_type": "stream",
          "name": "stdout",
          "text": [
            "tensor([[ 28,  34],\n",
            "        [ 76,  98],\n",
            "        [124, 162]])\n"
          ]
        }
      ]
    },
    {
      "cell_type": "code",
      "source": [
        "torch.matmul(a, b, out=e)\n",
        "print(e)"
      ],
      "metadata": {
        "colab": {
          "base_uri": "https://localhost:8080/",
          "height": 197
        },
        "id": "SpHsgAAC9RLR",
        "outputId": "e009b4f8-2469-4ed5-ad50-49c9125cd7fc"
      },
      "execution_count": 28,
      "outputs": [
        {
          "output_type": "error",
          "ename": "RuntimeError",
          "evalue": "ignored",
          "traceback": [
            "\u001b[0;31m---------------------------------------------------------------------------\u001b[0m",
            "\u001b[0;31mRuntimeError\u001b[0m                              Traceback (most recent call last)",
            "\u001b[0;32m<ipython-input-28-a816e2ec9c6f>\u001b[0m in \u001b[0;36m<module>\u001b[0;34m\u001b[0m\n\u001b[0;32m----> 1\u001b[0;31m \u001b[0mtorch\u001b[0m\u001b[0;34m.\u001b[0m\u001b[0mmatmul\u001b[0m\u001b[0;34m(\u001b[0m\u001b[0ma\u001b[0m\u001b[0;34m,\u001b[0m \u001b[0mb\u001b[0m\u001b[0;34m,\u001b[0m \u001b[0mout\u001b[0m\u001b[0;34m=\u001b[0m\u001b[0me\u001b[0m\u001b[0;34m)\u001b[0m\u001b[0;34m\u001b[0m\u001b[0;34m\u001b[0m\u001b[0m\n\u001b[0m\u001b[1;32m      2\u001b[0m \u001b[0mprint\u001b[0m\u001b[0;34m(\u001b[0m\u001b[0me\u001b[0m\u001b[0;34m)\u001b[0m\u001b[0;34m\u001b[0m\u001b[0;34m\u001b[0m\u001b[0m\n",
            "\u001b[0;31mRuntimeError\u001b[0m: Expected out tensor to have dtype long int, but got float instead"
          ]
        }
      ]
    },
    {
      "cell_type": "code",
      "source": [
        "a = torch.tensor(np.array(list(range(6)))).reshape(2, 3)\n",
        "b = torch.tensor(np.array(list(range(10, 16)))).reshape(2, 3)\n",
        "print(a)\n",
        "print(b)"
      ],
      "metadata": {
        "colab": {
          "base_uri": "https://localhost:8080/"
        },
        "id": "Hfj_FWRD9V-Q",
        "outputId": "f234f854-8f11-404b-e685-4b1f490c739d"
      },
      "execution_count": 29,
      "outputs": [
        {
          "output_type": "stream",
          "name": "stdout",
          "text": [
            "tensor([[0, 1, 2],\n",
            "        [3, 4, 5]])\n",
            "tensor([[10, 11, 12],\n",
            "        [13, 14, 15]])\n"
          ]
        }
      ]
    },
    {
      "cell_type": "code",
      "source": [
        "c = a * b\n",
        "print(c)"
      ],
      "metadata": {
        "colab": {
          "base_uri": "https://localhost:8080/"
        },
        "id": "52-Acgtz-C0K",
        "outputId": "c7d9df19-22ab-410b-8aed-1b8929a7b962"
      },
      "execution_count": 30,
      "outputs": [
        {
          "output_type": "stream",
          "name": "stdout",
          "text": [
            "tensor([[ 0, 11, 24],\n",
            "        [39, 56, 75]])\n"
          ]
        }
      ]
    },
    {
      "cell_type": "code",
      "source": [
        "d = torch.mul(a, b)\n",
        "print(d)"
      ],
      "metadata": {
        "colab": {
          "base_uri": "https://localhost:8080/"
        },
        "id": "If4zhbT4-HX7",
        "outputId": "30958274-b2ae-4e9a-bf95-dc3dc211f4b1"
      },
      "execution_count": 31,
      "outputs": [
        {
          "output_type": "stream",
          "name": "stdout",
          "text": [
            "tensor([[ 0, 11, 24],\n",
            "        [39, 56, 75]])\n"
          ]
        }
      ]
    },
    {
      "cell_type": "code",
      "source": [
        "agg = d.sum()\n",
        "v = agg.item()\n",
        "print(v, type(v))"
      ],
      "metadata": {
        "colab": {
          "base_uri": "https://localhost:8080/"
        },
        "id": "R3I3Fuua-Kww",
        "outputId": "84fe842c-78f3-47db-b5ce-a78276994e57"
      },
      "execution_count": 32,
      "outputs": [
        {
          "output_type": "stream",
          "name": "stdout",
          "text": [
            "205 <class 'int'>\n"
          ]
        }
      ]
    },
    {
      "cell_type": "code",
      "source": [
        "print(a)\n",
        "a.add_(5)\n",
        "print(a)\n",
        "a.add_(b)\n",
        "print(a)"
      ],
      "metadata": {
        "colab": {
          "base_uri": "https://localhost:8080/"
        },
        "id": "ebr6ptN1-Sox",
        "outputId": "7dbfc86c-36b6-49a0-f4c2-29daaeccffb4"
      },
      "execution_count": 33,
      "outputs": [
        {
          "output_type": "stream",
          "name": "stdout",
          "text": [
            "tensor([[0, 1, 2],\n",
            "        [3, 4, 5]])\n",
            "tensor([[ 5,  6,  7],\n",
            "        [ 8,  9, 10]])\n",
            "tensor([[15, 17, 19],\n",
            "        [21, 23, 25]])\n"
          ]
        }
      ]
    },
    {
      "cell_type": "code",
      "source": [
        "a = torch.ones(5)\n",
        "print(a)\n",
        "b = a.numpy()\n",
        "print(b)"
      ],
      "metadata": {
        "colab": {
          "base_uri": "https://localhost:8080/"
        },
        "id": "3-Bogxos-_bE",
        "outputId": "35ea18ec-556e-4285-f4ca-f0c18e184911"
      },
      "execution_count": 34,
      "outputs": [
        {
          "output_type": "stream",
          "name": "stdout",
          "text": [
            "tensor([1., 1., 1., 1., 1.])\n",
            "[1. 1. 1. 1. 1.]\n"
          ]
        }
      ]
    },
    {
      "cell_type": "code",
      "source": [
        "a.add_(5)\n",
        "print(a)\n",
        "print(b)"
      ],
      "metadata": {
        "colab": {
          "base_uri": "https://localhost:8080/"
        },
        "id": "OnzEcn6s_cqQ",
        "outputId": "a50ed7cb-5f66-46e0-f304-66b329cf23bb"
      },
      "execution_count": 35,
      "outputs": [
        {
          "output_type": "stream",
          "name": "stdout",
          "text": [
            "tensor([6., 6., 6., 6., 6.])\n",
            "[6. 6. 6. 6. 6.]\n"
          ]
        }
      ]
    },
    {
      "cell_type": "code",
      "source": [],
      "metadata": {
        "id": "xs5gBHuI_gx0"
      },
      "execution_count": null,
      "outputs": []
    }
  ]
}