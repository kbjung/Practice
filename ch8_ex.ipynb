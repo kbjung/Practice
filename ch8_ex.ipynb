{
 "cells": [
  {
   "cell_type": "markdown",
   "metadata": {},
   "source": [
    "# 8장 종합문제"
   ]
  },
  {
   "cell_type": "markdown",
   "metadata": {},
   "source": [
    "## Q1 문자열 바꾸기\n",
    "다음과 같은 문자열이 있다.\n",
    "\n",
    "`a:b:c:d`\n",
    "\n",
    "문자열의 split와 join 함수를 사용하여 위 문자열을 다음과 같이 고치시오.\n",
    "\n",
    "`a#b#c#d`"
   ]
  },
  {
   "cell_type": "markdown",
   "metadata": {},
   "source": [
    "### A1"
   ]
  },
  {
   "cell_type": "code",
   "execution_count": 2,
   "metadata": {},
   "outputs": [
    {
     "data": {
      "text/plain": [
       "'a#b#c#d'"
      ]
     },
     "execution_count": 2,
     "metadata": {},
     "output_type": "execute_result"
    }
   ],
   "source": [
    "'#'.join('a:b:c:d'.split(':'))"
   ]
  },
  {
   "cell_type": "code",
   "execution_count": 124,
   "metadata": {},
   "outputs": [
    {
     "data": {
      "text/plain": [
       "['a', 'b', 'c', 'd']"
      ]
     },
     "execution_count": 124,
     "metadata": {},
     "output_type": "execute_result"
    }
   ],
   "source": [
    "'a:b:c:d'.split(':')"
   ]
  },
  {
   "cell_type": "markdown",
   "metadata": {},
   "source": [
    "### 답지"
   ]
  },
  {
   "cell_type": "code",
   "execution_count": 25,
   "metadata": {},
   "outputs": [
    {
     "data": {
      "text/plain": [
       "['a', 'b', 'c', 'd']"
      ]
     },
     "execution_count": 25,
     "metadata": {},
     "output_type": "execute_result"
    }
   ],
   "source": [
    "a = \"a:b:c:d\"\n",
    "b = a.split(\":\")\n",
    "b"
   ]
  },
  {
   "cell_type": "code",
   "execution_count": 26,
   "metadata": {},
   "outputs": [
    {
     "data": {
      "text/plain": [
       "'a#b#c#d'"
      ]
     },
     "execution_count": 26,
     "metadata": {},
     "output_type": "execute_result"
    }
   ],
   "source": [
    "c = \"#\".join(b)\n",
    "c"
   ]
  },
  {
   "cell_type": "markdown",
   "metadata": {},
   "source": [
    "## Q2 딕셔너리 값 추출하기\n",
    "다음은 딕셔너리의 a에서 'C'라는 key에 해당하는 value를 출력하는 프로그램이다.\n",
    "\n",
    "```python\n",
    ">>> a = {'A':90, 'B':80}\n",
    ">>> a['C']\n",
    "Traceback (most recent call last):\n",
    "  File \"<stdin>\", line 1, in <module>\n",
    "KeyError: 'C'\n",
    "```\n",
    "\n",
    "a 딕셔너리에는 'C'라는 key가 없으므로 위와 같은 오류가 발생한다. 'C'에 해당하는 key 값이 없을 경우 오류 대신 70을 얻을 수 있도록 수정하시오."
   ]
  },
  {
   "cell_type": "markdown",
   "metadata": {},
   "source": [
    "### A2"
   ]
  },
  {
   "cell_type": "code",
   "execution_count": 126,
   "metadata": {},
   "outputs": [
    {
     "name": "stdout",
     "output_type": "stream",
     "text": [
      "70\n"
     ]
    }
   ],
   "source": [
    "a = {'A':90, 'B':80}\n",
    "try:\n",
    "    print(a['C'])\n",
    "except:\n",
    "    print(70)   "
   ]
  },
  {
   "cell_type": "markdown",
   "metadata": {},
   "source": [
    "### 답지"
   ]
  },
  {
   "cell_type": "code",
   "execution_count": 128,
   "metadata": {},
   "outputs": [
    {
     "data": {
      "text/plain": [
       "70"
      ]
     },
     "execution_count": 128,
     "metadata": {},
     "output_type": "execute_result"
    }
   ],
   "source": [
    "# 답지\n",
    "a = {'A':90, 'B':80}\n",
    "a.get('C', 70)"
   ]
  },
  {
   "cell_type": "markdown",
   "metadata": {},
   "source": [
    "## Q3 리스트의 더하기와 extend 함수\n",
    "다음과 같은 리스트 a가 있다.\n",
    "\n",
    "`>>> a = [1, 2, 3]`\n",
    "\n",
    "리스트 a에 [4, 5]를 + 기호를 사용하여 더한 결과는 다음과 같다.\n",
    "\n",
    "```python\n",
    ">>> a = [1, 2, 3]\n",
    ">>> a = a + [4,5]\n",
    ">>> a\n",
    "[1, 2, 3, 4, 5]\n",
    "```\n",
    "\n",
    "리스트 a에 [4,5]를 extend를 사용하여 더한 결과는 다음과 같다.\n",
    "\n",
    "```python\n",
    ">>> a = [1, 2, 3]\n",
    ">>> a.extend([4, 5])\n",
    ">>> a\n",
    "[1, 2, 3, 4, 5]\n",
    "```\n",
    "\n",
    "`+` 기호를 사용하여 더한 것과 extend한 것의 차이점이 있을까? 있다면 그 차이점을 설명하시오."
   ]
  },
  {
   "cell_type": "markdown",
   "metadata": {},
   "source": [
    "### A3\n",
    "* 동일하다"
   ]
  },
  {
   "cell_type": "code",
   "execution_count": 2,
   "metadata": {},
   "outputs": [
    {
     "data": {
      "text/plain": [
       "[1, 2, 3, 4, 5]"
      ]
     },
     "execution_count": 2,
     "metadata": {},
     "output_type": "execute_result"
    }
   ],
   "source": [
    "a = [1, 2, 3]\n",
    "a = a + [4, 5]\n",
    "a"
   ]
  },
  {
   "cell_type": "code",
   "execution_count": 3,
   "metadata": {},
   "outputs": [
    {
     "name": "stdout",
     "output_type": "stream",
     "text": [
      "0 1 1391149869360\n",
      "1 2 1391149869392\n",
      "2 3 1391149869424\n",
      "3 4 1391149869456\n",
      "4 5 1391149869488\n"
     ]
    }
   ],
   "source": [
    "for i, n in enumerate(a):\n",
    "    print(i, n, id(n))"
   ]
  },
  {
   "cell_type": "code",
   "execution_count": 4,
   "metadata": {},
   "outputs": [
    {
     "data": {
      "text/plain": [
       "[1, 2, 3, 4, 5]"
      ]
     },
     "execution_count": 4,
     "metadata": {},
     "output_type": "execute_result"
    }
   ],
   "source": [
    "b = [1, 2 ,3]\n",
    "b.extend([4, 5])\n",
    "b"
   ]
  },
  {
   "cell_type": "code",
   "execution_count": 5,
   "metadata": {},
   "outputs": [
    {
     "name": "stdout",
     "output_type": "stream",
     "text": [
      "0 1 1391149869360\n",
      "1 2 1391149869392\n",
      "2 3 1391149869424\n",
      "3 4 1391149869456\n",
      "4 5 1391149869488\n"
     ]
    }
   ],
   "source": [
    "for i, n in enumerate(b):\n",
    "    print(i, n, id(n))"
   ]
  },
  {
   "cell_type": "markdown",
   "metadata": {},
   "source": [
    "### 답지\n",
    "* +로 진행하면 새로운 주소에 리스트를 만든다.\n",
    "* extend로 진행하면 기존 주소 리스트에 더하는 방식으로 진행된다."
   ]
  },
  {
   "cell_type": "code",
   "execution_count": 129,
   "metadata": {},
   "outputs": [
    {
     "data": {
      "text/plain": [
       "1623222489536"
      ]
     },
     "execution_count": 129,
     "metadata": {},
     "output_type": "execute_result"
    }
   ],
   "source": [
    "a = [1,2,3]\n",
    "id(a)"
   ]
  },
  {
   "cell_type": "code",
   "execution_count": 131,
   "metadata": {},
   "outputs": [
    {
     "data": {
      "text/plain": [
       "1623222035904"
      ]
     },
     "execution_count": 131,
     "metadata": {},
     "output_type": "execute_result"
    }
   ],
   "source": [
    "a = a + [4,5]\n",
    "id(a)"
   ]
  },
  {
   "cell_type": "code",
   "execution_count": 132,
   "metadata": {},
   "outputs": [
    {
     "data": {
      "text/plain": [
       "1623222977024"
      ]
     },
     "execution_count": 132,
     "metadata": {},
     "output_type": "execute_result"
    }
   ],
   "source": [
    "b = [1,2,3]\n",
    "id(b)"
   ]
  },
  {
   "cell_type": "code",
   "execution_count": 133,
   "metadata": {},
   "outputs": [
    {
     "data": {
      "text/plain": [
       "1623222977024"
      ]
     },
     "execution_count": 133,
     "metadata": {},
     "output_type": "execute_result"
    }
   ],
   "source": [
    "b.extend([4,5])\n",
    "id(b)"
   ]
  },
  {
   "cell_type": "markdown",
   "metadata": {},
   "source": [
    "## Q4 리스트 총합 구하기\n",
    "다음은 A학급 학생의 점수를 나타내는 리스트이다. 다음 리스트에서 50점 이상 점수의 총합을 구하시오.\n",
    "\n",
    "`A = [20, 55, 67, 82, 45, 33, 90, 87, 100, 25]`"
   ]
  },
  {
   "cell_type": "markdown",
   "metadata": {},
   "source": [
    "### A4"
   ]
  },
  {
   "cell_type": "code",
   "execution_count": 11,
   "metadata": {},
   "outputs": [
    {
     "data": {
      "text/plain": [
       "481"
      ]
     },
     "execution_count": 11,
     "metadata": {},
     "output_type": "execute_result"
    }
   ],
   "source": [
    "A = [20, 55, 67, 82, 45, 33, 90, 87, 100, 25]\n",
    "sum( list(filter(lambda x: x >=50, A)) )"
   ]
  },
  {
   "cell_type": "code",
   "execution_count": 12,
   "metadata": {},
   "outputs": [
    {
     "data": {
      "text/plain": [
       "<filter at 0x143ed5d0bb0>"
      ]
     },
     "execution_count": 12,
     "metadata": {},
     "output_type": "execute_result"
    }
   ],
   "source": [
    "filter(lambda x: x >=50, A)"
   ]
  },
  {
   "cell_type": "code",
   "execution_count": 13,
   "metadata": {},
   "outputs": [
    {
     "data": {
      "text/plain": [
       "[55, 67, 82, 90, 87, 100]"
      ]
     },
     "execution_count": 13,
     "metadata": {},
     "output_type": "execute_result"
    }
   ],
   "source": [
    "list(filter(lambda x: x >=50, A))"
   ]
  },
  {
   "cell_type": "markdown",
   "metadata": {},
   "source": [
    "### 답지"
   ]
  },
  {
   "cell_type": "code",
   "execution_count": 134,
   "metadata": {},
   "outputs": [
    {
     "name": "stdout",
     "output_type": "stream",
     "text": [
      "481\n"
     ]
    }
   ],
   "source": [
    "A = [20, 55, 67, 82, 45, 33, 90, 87, 100, 25]\n",
    "result = 0\n",
    "while A:\n",
    "    mark = A.pop()\n",
    "    if mark >= 50:\n",
    "        result += mark\n",
    "print(result)"
   ]
  },
  {
   "cell_type": "markdown",
   "metadata": {},
   "source": [
    "## Q5 피보나치 함수\n",
    "첫 번째 항의 값이 0이고 두 번째 항의 값이 1일 때, 이후에 이어지는 항은 이전의 두 항을 더한 값으로 이루어지는 수열을 피보나치 수열이라고 한다.\n",
    "\n",
    "`0, 1, 1, 2, 3, 5, 8, 13, ...`\n",
    "\n",
    "입력을 정수 n으로 받았을 때, n 이하까지의 피보나치 수열을 출력하는 함수를 작성해 보자."
   ]
  },
  {
   "cell_type": "markdown",
   "metadata": {},
   "source": [
    "### A5"
   ]
  },
  {
   "cell_type": "code",
   "execution_count": 19,
   "metadata": {},
   "outputs": [
    {
     "name": "stdout",
     "output_type": "stream",
     "text": [
      "양수를 입력해주세요.\n",
      "양수를 입력해주세요.\n",
      "[0, 1, 1, 2, 3, 5, 8]\n"
     ]
    }
   ],
   "source": [
    "while True:\n",
    "    try:\n",
    "        n = int(input('입력한 숫자 이하까지의 피보나치 수열을 출력합니다. 숫자를 입력하세요.(양수를 입력하세요) :'))\n",
    "        break\n",
    "    except:\n",
    "        print('양수를 입력해주세요.')\n",
    "\n",
    "plist = []\n",
    "a1, a2 = 0, 1\n",
    "plist.append(a1)\n",
    "plist.append(a2)\n",
    "while True:\n",
    "    a1, a2 = a2, a1 + a2\n",
    "    if a2 <= n:\n",
    "        plist.append(a2)\n",
    "    else:\n",
    "        break\n",
    "print(plist)"
   ]
  },
  {
   "cell_type": "markdown",
   "metadata": {},
   "source": [
    "### 답지\n",
    "* 재귀호출 활용\n",
    "1. fib(0) -> 0 반환\n",
    "2. fib(1) -> 1 반환\n",
    "3. fib(2) -> fib(0) + fib(1) -> 0 + 1 -> 1 반환\n",
    "4. fib(3) -> fib(1) + fib(2) -> 1 + 1 -> 2 반환\n",
    "5. fib(4) -> fib(2) + fib(3) -> 1 + 2 -> 3 반환\n",
    "6. ..."
   ]
  },
  {
   "cell_type": "code",
   "execution_count": 135,
   "metadata": {},
   "outputs": [
    {
     "name": "stdout",
     "output_type": "stream",
     "text": [
      "0\n",
      "1\n",
      "1\n",
      "2\n",
      "3\n",
      "5\n",
      "8\n",
      "13\n",
      "21\n",
      "34\n"
     ]
    }
   ],
   "source": [
    "def fib(n):\n",
    "    if n == 0: return 0\n",
    "    if n == 1: return 1\n",
    "    return fib(n-2) + fib(n-1)\n",
    "\n",
    "for i in range(10):\n",
    "    print(fib(i))"
   ]
  },
  {
   "cell_type": "markdown",
   "metadata": {},
   "source": [
    "## Q6 숫자의 총합 구하기\n",
    "사용자로부터 다음과 같은 숫자를 입력받아 입력받은 숫자의 총합을 구하는 프로그램을 작성하시오. (단 숫자는 콤마로 구분하여 입력한다.)\n",
    "\n",
    "`65,45,2,3,45,8`"
   ]
  },
  {
   "cell_type": "markdown",
   "metadata": {},
   "source": [
    "### A6"
   ]
  },
  {
   "cell_type": "code",
   "execution_count": 9,
   "metadata": {},
   "outputs": [
    {
     "name": "stdout",
     "output_type": "stream",
     "text": [
      "입력한 숫자들 : ['1', '2', '3', '4']\n",
      "총합:  10\n"
     ]
    }
   ],
   "source": [
    "num_list = input(\"입력한 숫자의 합을 구합니다. 숫자를 입력하세요.(숫자는 콤마로 구분해주세요) :\")\n",
    "temp = num_list.split(',')\n",
    "print('입력한 숫자들 :', temp)\n",
    "print('총합: ', sum(list(map(lambda x: int(x), temp))))"
   ]
  },
  {
   "cell_type": "code",
   "execution_count": 138,
   "metadata": {},
   "outputs": [
    {
     "name": "stdout",
     "output_type": "stream",
     "text": [
      "입력한 숫자들 : [1, 2, 3, 4]\n",
      "총합 : 10\n"
     ]
    }
   ],
   "source": [
    "num_list = input(\"입력한 숫자의 합을 구합니다. 숫자를 입력하세요.(숫자는 콤마로 구분해주세요) :\")\n",
    "temp = num_list.split(',')\n",
    "int_temp = [int(one) for one in temp]\n",
    "print('입력한 숫자들 :', int_temp)\n",
    "print('총합 :', sum(int_temp) )"
   ]
  },
  {
   "cell_type": "markdown",
   "metadata": {},
   "source": [
    "### 답지"
   ]
  },
  {
   "cell_type": "code",
   "execution_count": 137,
   "metadata": {},
   "outputs": [
    {
     "name": "stdout",
     "output_type": "stream",
     "text": [
      "65,45,2,3,45,8\n",
      "168\n"
     ]
    }
   ],
   "source": [
    "user_input = input(\"숫자를 입력하세요: \")\n",
    "numbers = user_input.split(\",\")\n",
    "total = 0\n",
    "for n in numbers:\n",
    "    total += int(n)    # 입력은 문자열이므로 숫자로 변환해야 한다.\n",
    "print(user_input)\n",
    "print(total)"
   ]
  },
  {
   "cell_type": "markdown",
   "metadata": {},
   "source": [
    "## Q7 한 줄 구구단\n",
    "사용자로부터 2~9의 숫자 중 하나를 입력받아 해당 숫자의 구구단을 한 줄로 출력하는 프로그램을 작성하시오.\n",
    "\n",
    "실행 예)\n",
    "\n",
    "```\n",
    "구구단을 출력할 숫자를 입력하세요(2~9): 2\n",
    "2 4 6 8 10 12 14 16 18\n",
    "```"
   ]
  },
  {
   "cell_type": "markdown",
   "metadata": {},
   "source": [
    "### A7"
   ]
  },
  {
   "cell_type": "code",
   "execution_count": 15,
   "metadata": {},
   "outputs": [],
   "source": [
    "def gugu(x):\n",
    "    for i in range(1, 10):\n",
    "        print(x*i, end=' ')"
   ]
  },
  {
   "cell_type": "code",
   "execution_count": 18,
   "metadata": {},
   "outputs": [
    {
     "name": "stdout",
     "output_type": "stream",
     "text": [
      "2~9사이 숫자를 입력하세요.\n",
      "2~9사이 숫자를 입력하세요.\n",
      "4 8 12 16 20 24 28 32 36 "
     ]
    }
   ],
   "source": [
    "while True:\n",
    "    try:\n",
    "        num = int( input(\"구구단을 출력할 숫자를 입력하세요(2~9) :\"))\n",
    "        if num >=2 and num <=9:\n",
    "            gugu(num)\n",
    "            break\n",
    "        else:\n",
    "            print('2~9사이 숫자를 입력하세요.')\n",
    "    except:\n",
    "        print('2~9사이 숫자를 입력하세요.')"
   ]
  },
  {
   "cell_type": "markdown",
   "metadata": {},
   "source": [
    "### 답지"
   ]
  },
  {
   "cell_type": "code",
   "execution_count": 139,
   "metadata": {},
   "outputs": [
    {
     "name": "stdout",
     "output_type": "stream",
     "text": [
      "2 4 6 8 10 12 14 16 18 "
     ]
    }
   ],
   "source": [
    "user_input = input(\"구구단을 출력할 숫자를 입력하세요(2~9):\")\n",
    "dan = int(user_input)       # 입력 문자열을 숫자로 변환\n",
    "for i in range(1, 10):\n",
    "    print(i*dan, end= ' ')  # 한 줄로 출력하기 위해 줄 바꿈 문자 대신 공백 문자를 마지막에 출력한다."
   ]
  },
  {
   "cell_type": "markdown",
   "metadata": {},
   "source": [
    "## Q8 역순 저장\n",
    "다음과 같은 내용의 파일 abc.txt가 있다.\n",
    "\n",
    "```\n",
    "AAA\n",
    "BBB\n",
    "CCC\n",
    "DDD\n",
    "EEE\n",
    "```\n",
    "\n",
    "이 파일의 내용을 다음과 같이 역순으로 바꾸어 저장하시오.\n",
    "\n",
    "```\n",
    "EEE\n",
    "DDD\n",
    "CCC\n",
    "BBB\n",
    "AAA\n",
    "```"
   ]
  },
  {
   "cell_type": "markdown",
   "metadata": {},
   "source": [
    "### A8"
   ]
  },
  {
   "cell_type": "code",
   "execution_count": 26,
   "metadata": {},
   "outputs": [
    {
     "name": "stdout",
     "output_type": "stream",
     "text": [
      "AAA\n",
      "\n",
      "BBB\n",
      "\n",
      "CCC\n",
      "\n",
      "DDD\n",
      "\n",
      "EEE\n"
     ]
    }
   ],
   "source": [
    "f = open('abc.txt')\n",
    "lines = f.readlines()\n",
    "for line in lines:\n",
    "    print(line)\n",
    "f.close()"
   ]
  },
  {
   "cell_type": "code",
   "execution_count": 32,
   "metadata": {},
   "outputs": [
    {
     "data": {
      "text/plain": [
       "['AAA', 'BBB', 'CCC', 'DDD', 'EEE']"
      ]
     },
     "execution_count": 32,
     "metadata": {},
     "output_type": "execute_result"
    }
   ],
   "source": [
    "temp_lines = []\n",
    "for line in lines:\n",
    "    temp_lines.append(line.strip())\n",
    "temp_lines"
   ]
  },
  {
   "cell_type": "code",
   "execution_count": 34,
   "metadata": {},
   "outputs": [
    {
     "name": "stdout",
     "output_type": "stream",
     "text": [
      "['EEE', 'DDD', 'CCC', 'BBB', 'AAA']\n"
     ]
    }
   ],
   "source": [
    "temp_lines.sort(reverse=True)\n",
    "print(temp_lines)"
   ]
  },
  {
   "cell_type": "code",
   "execution_count": 36,
   "metadata": {},
   "outputs": [],
   "source": [
    "g = open('cba.txt', 'w')\n",
    "for one in temp_lines:\n",
    "    g.write(one + '\\n')\n",
    "g.close()"
   ]
  },
  {
   "cell_type": "code",
   "execution_count": 45,
   "metadata": {},
   "outputs": [
    {
     "name": "stdout",
     "output_type": "stream",
     "text": [
      "EEE\n",
      "DDD\n",
      "CCC\n",
      "BBB\n",
      "AAA\n"
     ]
    }
   ],
   "source": [
    "with open('cba.txt') as f:\n",
    "    for one in f.readlines():\n",
    "        print(one.strip())"
   ]
  },
  {
   "cell_type": "code",
   "execution_count": 37,
   "metadata": {},
   "outputs": [],
   "source": [
    "with open('cba2.txt', 'w') as g:\n",
    "    for one in temp_lines:\n",
    "        g.write(one + '\\n')"
   ]
  },
  {
   "cell_type": "code",
   "execution_count": 46,
   "metadata": {},
   "outputs": [
    {
     "name": "stdout",
     "output_type": "stream",
     "text": [
      "EEE\n",
      "DDD\n",
      "CCC\n",
      "BBB\n",
      "AAA\n"
     ]
    }
   ],
   "source": [
    "with open('cba2.txt') as f:\n",
    "    for one in f.readlines():\n",
    "        print(one.strip())"
   ]
  },
  {
   "cell_type": "markdown",
   "metadata": {},
   "source": [
    "### 답지\n",
    "* reverse 활용"
   ]
  },
  {
   "cell_type": "code",
   "execution_count": 141,
   "metadata": {},
   "outputs": [],
   "source": [
    "f = open('abc2.txt', 'r')\n",
    "lines = f.readlines()    # 모든 라인을 읽음\n",
    "f.close()\n",
    "\n",
    "lines.reverse()          # 읽은 라인을 역순으로 정렬\n",
    "\n",
    "f = open('abc2.txt', 'w')\n",
    "for line in lines:\n",
    "    line = line.strip()  # 포함되어 있는 줄 바꿈 문자 제거\n",
    "    f.write(line)\n",
    "    f.write('\\n')        # 줄 바꿈 문자 삽입\n",
    "f.close()"
   ]
  },
  {
   "cell_type": "markdown",
   "metadata": {},
   "source": [
    "## Q9 평균값 구하기\n",
    "다음과 같이 총 10줄로 이루어진 sample.txt 파일이 있다. sample.txt 파일의 숫자 값을 모두 읽어 총합과 평균 값을 구한 후 평균 값을 result.txt 파일에 쓰는 프로그램을 작성하시오.\n",
    "\n",
    "```\n",
    "70\n",
    "60\n",
    "55\n",
    "75\n",
    "95\n",
    "90\n",
    "80\n",
    "80\n",
    "85\n",
    "100\n",
    "```"
   ]
  },
  {
   "cell_type": "markdown",
   "metadata": {},
   "source": [
    "### A9"
   ]
  },
  {
   "cell_type": "code",
   "execution_count": 142,
   "metadata": {},
   "outputs": [
    {
     "name": "stdout",
     "output_type": "stream",
     "text": [
      "[70, 60, 55, 75, 95, 90, 80, 80, 85, 100]\n",
      "790\n",
      "79.0\n"
     ]
    }
   ],
   "source": [
    "num_list2 = []\n",
    "with open('sample.txt') as f:\n",
    "    for one in f.readlines():\n",
    "        num_list2.append( int(one) )\n",
    "print(num_list2)\n",
    "s = sum(num_list2)\n",
    "avg = s / len(num_list2)\n",
    "print(s)\n",
    "print(avg)"
   ]
  },
  {
   "cell_type": "code",
   "execution_count": 143,
   "metadata": {},
   "outputs": [],
   "source": [
    "with open('result.txt', 'w') as f:\n",
    "    f.write( str(avg) )"
   ]
  },
  {
   "cell_type": "code",
   "execution_count": 144,
   "metadata": {},
   "outputs": [
    {
     "name": "stdout",
     "output_type": "stream",
     "text": [
      "79.0\n"
     ]
    }
   ],
   "source": [
    "with open('result.txt') as f:\n",
    "    print(f.read())"
   ]
  },
  {
   "cell_type": "markdown",
   "metadata": {},
   "source": [
    "### 답지"
   ]
  },
  {
   "cell_type": "code",
   "execution_count": 145,
   "metadata": {},
   "outputs": [],
   "source": [
    "f = open(\"sample2.txt\")\n",
    "lines = f.readlines( )  # sample.txt를 줄 단위로 모두 읽는다.\n",
    "f.close( )\n",
    "\n",
    "total = 0\n",
    "for line in lines:\n",
    "    score = int(line)  # 줄에 적힌 점수를 숫자형으로 변환한다.\n",
    "    total += score\n",
    "average = total / len(lines)\n",
    "\n",
    "f = open(\"result2.txt\", \"w\")\n",
    "f.write(str(average))\n",
    "f.close()"
   ]
  },
  {
   "cell_type": "markdown",
   "metadata": {},
   "source": [
    "## Q10 사칙연산 계산기\n",
    "다음과 같이 동작하는 클래스 Calculator를 작성하시오.\n",
    "```python\n",
    ">>> cal1 = Calculator([1,2,3,4,5])\n",
    ">>> cal1.sum() # 합계\n",
    "15\n",
    ">>> cal1.avg() # 평균\n",
    "3.0\n",
    ">>> cal2 = Calculator([6,7,8,9,10])\n",
    ">>> cal2.sum() # 합계\n",
    "40\n",
    ">>> cal2.avg() # 평균\n",
    "8.0\n",
    "```"
   ]
  },
  {
   "cell_type": "markdown",
   "metadata": {},
   "source": [
    "### A10"
   ]
  },
  {
   "cell_type": "code",
   "execution_count": 2,
   "metadata": {},
   "outputs": [],
   "source": [
    "class Calculator:\n",
    "    def __init__(self, a):\n",
    "        self.a = a\n",
    "    def sum(self):\n",
    "        return print( sum(self.a) )\n",
    "    def avg(self):\n",
    "        return print( sum(self.a) / len(self.a) )"
   ]
  },
  {
   "cell_type": "code",
   "execution_count": 3,
   "metadata": {},
   "outputs": [
    {
     "name": "stdout",
     "output_type": "stream",
     "text": [
      "15\n"
     ]
    }
   ],
   "source": [
    "cal1 = Calculator([1,2,3,4,5])\n",
    "cal1.sum()"
   ]
  },
  {
   "cell_type": "code",
   "execution_count": 57,
   "metadata": {},
   "outputs": [
    {
     "name": "stdout",
     "output_type": "stream",
     "text": [
      "3.0\n"
     ]
    }
   ],
   "source": [
    "cal1.avg()"
   ]
  },
  {
   "cell_type": "code",
   "execution_count": 61,
   "metadata": {},
   "outputs": [
    {
     "name": "stdout",
     "output_type": "stream",
     "text": [
      "40\n"
     ]
    }
   ],
   "source": [
    "cal2 = Calculator([6,7,8,9,10])\n",
    "cal2.sum()"
   ]
  },
  {
   "cell_type": "code",
   "execution_count": 62,
   "metadata": {},
   "outputs": [
    {
     "name": "stdout",
     "output_type": "stream",
     "text": [
      "8.0\n"
     ]
    }
   ],
   "source": [
    "cal2.avg()"
   ]
  },
  {
   "cell_type": "markdown",
   "metadata": {},
   "source": [
    "### 답지"
   ]
  },
  {
   "cell_type": "code",
   "execution_count": 4,
   "metadata": {},
   "outputs": [
    {
     "name": "stdout",
     "output_type": "stream",
     "text": [
      "15\n",
      "3.0\n",
      "40\n",
      "8.0\n"
     ]
    }
   ],
   "source": [
    "class Calculator:\n",
    "    def __init__(self, numberList): \n",
    "        self.numberList = numberList\n",
    "\n",
    "    def sum(self): \n",
    "        result = 0\n",
    "        for num in self.numberList: \n",
    "            result += num\n",
    "        return result\n",
    "\n",
    "    def avg(self):\n",
    "        total = self.sum()\n",
    "        return total / len(self.numberList)\n",
    "\n",
    "cal1 = Calculator([1,2,3,4,5]) \n",
    "print(cal1.sum())\n",
    "print(cal1.avg())\n",
    "\n",
    "cal2 = Calculator([6,7,8,9,10]) \n",
    "print(cal2.sum())\n",
    "print(cal2.avg())"
   ]
  },
  {
   "cell_type": "markdown",
   "metadata": {},
   "source": [
    "## Q11 모듈 사용 방법\n",
    "`C:\\doit` 디렉터리에 mymod.py 파이썬 모듈이 있다고 가정해 보자. 명령 프롬프트 창에서 파이썬 셸을 열어 이 모듈을 import해서 사용할 수 있는 방법을 모두 기술하시오. (즉 다음과 같이 `import mymod`를 수행할 때 오류가 없어야 한다.)\n",
    "```python\n",
    ">>> import mymod\n",
    ">>>\n",
    "```"
   ]
  },
  {
   "cell_type": "markdown",
   "metadata": {},
   "source": [
    "### A11"
   ]
  },
  {
   "cell_type": "markdown",
   "metadata": {},
   "source": [
    "### 답지"
   ]
  },
  {
   "cell_type": "markdown",
   "metadata": {},
   "source": [
    "파이썬 셸에서 mymod.py 모듈을 인식하기 위해서는 다음과 같은 3가지 방법이 있을 수 있다.\n",
    "\n",
    "1) sys 모듈 사용하기\n",
    "\n",
    "다음과 같이 `sys.path` 에 `C:\\doit` 이라는 디렉터리를 추가하면 `C:\\doit` 이라는 디렉터리에 있는 mymod 모듈을 사용할 수 있게 된다.\n",
    "\n",
    "```python\n",
    ">>> import sys\n",
    ">>> sys.path.append(\"c:/doit\")\n",
    ">>> import mymod\n",
    "```\n",
    "\n",
    "2) PYTHONPATH 환경 변수 사용하기\n",
    "\n",
    "다음처럼 `PYTHONPATH` 환경 변수에 `C:\\doit` 디렉터리를 지정하면 `C:\\doit` 디렉터리에 있는 mymod 모듈을 사용할 수 있게 된다.\n",
    "\n",
    "```\n",
    "C:\\Users\\home>set PYTHONPATH=c:\\doit\n",
    "C:\\Users\\home>python\n",
    ">>> import mymod\n",
    "```\n",
    "\n",
    "3) 현재 디렉터리 사용하기\n",
    "\n",
    "파이썬 셸을 mymod.py가 있는 위치로 이동하여 실행해도 mymod 모듈을 사용할 수 있게 된다. 왜냐하면 `sys.path` 에는 현재 디렉터리인 `.` 이 항상 포함되어 있기 때문이다.\n",
    "\n",
    "```\n",
    "C:\\Users\\home>cd c:\\doit\n",
    "C:\\doit>python\n",
    ">>> import mymod\n",
    "```"
   ]
  },
  {
   "cell_type": "markdown",
   "metadata": {},
   "source": [
    "## Q12 오류와 예외 처리\n",
    "다음 코드의 실행 결과를 예측하고 그 이유에 대해 설명하시오.\n",
    "\n",
    "```python\n",
    "result = 0\n",
    "\n",
    "try:\n",
    "    [1, 2, 3][3]\n",
    "    \"a\"+1\n",
    "    4 / 0\n",
    "except TypeError:\n",
    "    result += 1\n",
    "except ZeroDivisionError:\n",
    "    result += 2\n",
    "except IndexError:\n",
    "    result += 3\n",
    "finally:\n",
    "    result += 4\n",
    "\n",
    "print(result)\n",
    "```"
   ]
  },
  {
   "cell_type": "markdown",
   "metadata": {},
   "source": [
    "### A12\n",
    "* 7 출력\n",
    "    1. 리스트의 인덱스는 최대가 2인데, 3 인덱스를 호출하니 인덱스 오류 발생. result 값이 3이됨. \n",
    "    2. finally 코드는 최종적으로 무조건 실행하므로 result 값이 7이 됨."
   ]
  },
  {
   "cell_type": "markdown",
   "metadata": {},
   "source": [
    "### 답지\n",
    "\n",
    "7이 출력된다.\n",
    "\n",
    "1. result의 초깃값은 0이다.\n",
    "2. try문 안의 `[1, 2, 3][3]` 이라는 문장 수행 시 `IndexError`가 발생하여 `except IndexError:` 구문으로 이동하게 되어 result에 3이 더해져 3이 된다.\n",
    "3. 최종적으로 finally 구문이 실행되어 result에 4가 더해져 7이 된다.\n",
    "4. `print(result)`가 수행되어 result의 최종 값인 7이 출력된다."
   ]
  },
  {
   "cell_type": "markdown",
   "metadata": {},
   "source": [
    "## Q13 DashInsert 함수\n",
    "DashInsert 함수는 숫자로 구성된 문자열을 입력받은 뒤 문자열 안에서 홀수가 연속되면 두 수 사이에 `-` 를 추가하고, 짝수가 연속되면 `*` 를 추가하는 기능을 갖고 있다. DashInsert 함수를 완성하시오.\n",
    "\n",
    "```\n",
    "입력 예시: 4546793\n",
    "출력 예시: 454*67-9-3\n",
    "```"
   ]
  },
  {
   "cell_type": "markdown",
   "metadata": {},
   "source": [
    "### A13"
   ]
  },
  {
   "cell_type": "markdown",
   "metadata": {},
   "source": [
    "### 답지"
   ]
  },
  {
   "cell_type": "code",
   "execution_count": 5,
   "metadata": {},
   "outputs": [
    {
     "data": {
      "text/plain": [
       "[4, 5, 4, 6, 7, 9, 3]"
      ]
     },
     "execution_count": 5,
     "metadata": {},
     "output_type": "execute_result"
    }
   ],
   "source": [
    "data = \"4546793\"\n",
    "numbers = list(map(int, data))   # 숫자 문자열을 숫자 리스트로 변경\n",
    "numbers"
   ]
  },
  {
   "cell_type": "code",
   "execution_count": 7,
   "metadata": {},
   "outputs": [
    {
     "name": "stdout",
     "output_type": "stream",
     "text": [
      "454*67-9-3\n"
     ]
    }
   ],
   "source": [
    "result = []\n",
    "\n",
    "for i, num in enumerate(numbers):\n",
    "    result.append(str(num))\n",
    "    if i < len(numbers)-1:                   # 다음 수가 있다면\n",
    "        is_odd = num % 2 == 1                # 현재 수가 홀수\n",
    "        is_next_odd = numbers[i+1] % 2 == 1  # 다음 수가 홀수\n",
    "        if is_odd and is_next_odd:           # 연속 홀수\n",
    "            result.append(\"-\")\n",
    "        elif not is_odd and not is_next_odd: # 연속 짝수\n",
    "            result.append(\"*\")\n",
    "\n",
    "print(\"\".join(result))"
   ]
  },
  {
   "cell_type": "markdown",
   "metadata": {},
   "source": [
    "## Q14 문자열 압축하기\n",
    "문자열을 입력받아 같은 문자가 연속적으로 반복되는 경우에 그 반복 횟수를 표시해 문자열을 압축하여 표시하시오.\n",
    "\n",
    "```\n",
    "입력 예시: aaabbcccccca\n",
    "출력 예시: a3b2c6a1\n",
    "```"
   ]
  },
  {
   "cell_type": "markdown",
   "metadata": {},
   "source": [
    "### A14"
   ]
  },
  {
   "cell_type": "markdown",
   "metadata": {},
   "source": [
    "#### #1(X)"
   ]
  },
  {
   "cell_type": "code",
   "execution_count": 3,
   "metadata": {},
   "outputs": [
    {
     "name": "stdout",
     "output_type": "stream",
     "text": [
      "a\n",
      "a\n",
      "a\n",
      "b\n",
      "b\n",
      "c\n",
      "c\n",
      "c\n",
      "c\n",
      "c\n",
      "c\n",
      "a\n"
     ]
    }
   ],
   "source": [
    "text = \"aaabbcccccca\"\n",
    "for one in text:\n",
    "    print(one)"
   ]
  },
  {
   "cell_type": "code",
   "execution_count": 5,
   "metadata": {},
   "outputs": [
    {
     "data": {
      "text/plain": [
       "4"
      ]
     },
     "execution_count": 5,
     "metadata": {},
     "output_type": "execute_result"
    }
   ],
   "source": [
    "text.count('a')"
   ]
  },
  {
   "cell_type": "code",
   "execution_count": 6,
   "metadata": {},
   "outputs": [
    {
     "data": {
      "text/plain": [
       "['a',\n",
       " '4',\n",
       " 'a',\n",
       " '4',\n",
       " 'a',\n",
       " '4',\n",
       " 'b',\n",
       " '2',\n",
       " 'b',\n",
       " '2',\n",
       " 'c',\n",
       " '6',\n",
       " 'c',\n",
       " '6',\n",
       " 'c',\n",
       " '6',\n",
       " 'c',\n",
       " '6',\n",
       " 'c',\n",
       " '6',\n",
       " 'c',\n",
       " '6',\n",
       " 'a',\n",
       " '4']"
      ]
     },
     "execution_count": 6,
     "metadata": {},
     "output_type": "execute_result"
    }
   ],
   "source": [
    "count_list = []\n",
    "for one in text:\n",
    "    count_list.append(one)\n",
    "    count_list.append(str(text.count(one)))\n",
    "count_list"
   ]
  },
  {
   "cell_type": "code",
   "execution_count": 7,
   "metadata": {},
   "outputs": [
    {
     "data": {
      "text/plain": [
       "['a', '4', 'b', '2', 'c', '6']"
      ]
     },
     "execution_count": 7,
     "metadata": {},
     "output_type": "execute_result"
    }
   ],
   "source": [
    "sort_count_list = []\n",
    "for one in count_list:\n",
    "    if one not in sort_count_list:\n",
    "        sort_count_list.append(one)\n",
    "sort_count_list"
   ]
  },
  {
   "cell_type": "code",
   "execution_count": 8,
   "metadata": {},
   "outputs": [
    {
     "data": {
      "text/plain": [
       "'a4b2c6'"
      ]
     },
     "execution_count": 8,
     "metadata": {},
     "output_type": "execute_result"
    }
   ],
   "source": [
    "''.join(sort_count_list)"
   ]
  },
  {
   "cell_type": "markdown",
   "metadata": {},
   "source": [
    "#### #2"
   ]
  },
  {
   "cell_type": "code",
   "execution_count": 9,
   "metadata": {},
   "outputs": [],
   "source": [
    "text = \"aaabbcccccca\""
   ]
  },
  {
   "cell_type": "code",
   "execution_count": 11,
   "metadata": {},
   "outputs": [
    {
     "name": "stdout",
     "output_type": "stream",
     "text": [
      "a3b2c6a1\n"
     ]
    }
   ],
   "source": [
    "count = 0\n",
    "temp = ''\n",
    "result = ''\n",
    "\n",
    "for one in text:\n",
    "    if temp != one:\n",
    "        temp = one\n",
    "        if count:\n",
    "            result += str(count)\n",
    "        result += one\n",
    "        count = 1\n",
    "    else:\n",
    "        count += 1\n",
    "\n",
    "if count:\n",
    "    result += str(count)\n",
    "\n",
    "print(result) "
   ]
  },
  {
   "cell_type": "markdown",
   "metadata": {},
   "source": [
    "### 답지\n",
    "먼저 입력 문자열의 문자를 확인하여 동일한 문자가 들어올 경우에는 해당 문자의 숫자 값을 증가시킨다. 만약 다른 문자가 들어올 경우에는 해당 문자의 숫자 값을 1로 초기화하는 방법을 사용하여 작성한 코드이다."
   ]
  },
  {
   "cell_type": "code",
   "execution_count": 9,
   "metadata": {},
   "outputs": [
    {
     "name": "stdout",
     "output_type": "stream",
     "text": [
      "a3b2c6a1\n"
     ]
    }
   ],
   "source": [
    "def compress_string(s):\n",
    "    _c = \"\"\n",
    "    cnt = 0\n",
    "    result = \"\"\n",
    "    for c in s:\n",
    "        if c != _c:\n",
    "            _c = c\n",
    "            if cnt: result += str(cnt)\n",
    "            result += c\n",
    "            cnt = 1\n",
    "        else:\n",
    "            cnt +=1\n",
    "    if cnt: result += str(cnt)\n",
    "    return result\n",
    "\n",
    "print(compress_string(\"aaabbcccccca\"))  # a3b2c6a1 출력"
   ]
  },
  {
   "cell_type": "markdown",
   "metadata": {},
   "source": [
    "## Q15 Duplicate Numbers\n",
    "0~9의 문자로 된 숫자를 입력받았을 때, 이 입력값이 0~9의 모든 숫자를 각각 한 번씩만 사용한 것인지 확인하는 함수를 작성하시오.\n",
    "\n",
    "```\n",
    "입력 예시: 0123456789 01234 01234567890 6789012345 012322456789\n",
    "출력 예시: True False False True False\n",
    "```"
   ]
  },
  {
   "cell_type": "markdown",
   "metadata": {},
   "source": [
    "### A15"
   ]
  },
  {
   "cell_type": "code",
   "execution_count": 12,
   "metadata": {},
   "outputs": [],
   "source": [
    "s = '0123456789'"
   ]
  },
  {
   "cell_type": "code",
   "execution_count": 15,
   "metadata": {},
   "outputs": [
    {
     "name": "stdout",
     "output_type": "stream",
     "text": [
      "True\n"
     ]
    }
   ],
   "source": [
    "result = []\n",
    "for one in s:\n",
    "    if one not in result:\n",
    "        result.append(one)\n",
    "if len(result) == 10:\n",
    "    print('True')\n",
    "else:\n",
    "    print('False')"
   ]
  },
  {
   "cell_type": "code",
   "execution_count": 16,
   "metadata": {},
   "outputs": [
    {
     "name": "stdout",
     "output_type": "stream",
     "text": [
      "False\n"
     ]
    }
   ],
   "source": [
    "s = '01234'\n",
    "\n",
    "result = []\n",
    "for one in s:\n",
    "    if one not in result:\n",
    "        result.append(one)\n",
    "if len(result) == 10:\n",
    "    print('True')\n",
    "else:\n",
    "    print('False')"
   ]
  },
  {
   "cell_type": "code",
   "execution_count": 20,
   "metadata": {},
   "outputs": [],
   "source": [
    "def function(s):\n",
    "    result = []\n",
    "    for one in s:\n",
    "        if one not in result:\n",
    "            result.append(one)\n",
    "        else:\n",
    "            return False\n",
    "    return len(result) == 10"
   ]
  },
  {
   "cell_type": "code",
   "execution_count": 22,
   "metadata": {},
   "outputs": [
    {
     "name": "stdout",
     "output_type": "stream",
     "text": [
      "False\n",
      "True\n",
      "False\n"
     ]
    }
   ],
   "source": [
    "print(function('01234567890'))\n",
    "print(function('6789012345'))\n",
    "print(function('012322456789'))"
   ]
  },
  {
   "cell_type": "markdown",
   "metadata": {},
   "source": [
    "### 답지"
   ]
  },
  {
   "cell_type": "code",
   "execution_count": 10,
   "metadata": {},
   "outputs": [
    {
     "name": "stdout",
     "output_type": "stream",
     "text": [
      "True\n",
      "False\n",
      "False\n",
      "True\n",
      "False\n"
     ]
    }
   ],
   "source": [
    "def chkDupNum(s):\n",
    "    result = []\n",
    "    for num in s:\n",
    "        if num not in result:\n",
    "            result.append(num)\n",
    "        else:\n",
    "            return False\n",
    "    return len(result) == 10\n",
    "\n",
    "print(chkDupNum(\"0123456789\"))      # True 리턴\n",
    "print(chkDupNum(\"01234\"))           # False 리턴\n",
    "print(chkDupNum(\"01234567890\"))     # False 리턴\n",
    "print(chkDupNum(\"6789012345\"))      # True 리턴\n",
    "print(chkDupNum(\"012322456789\"))    # False 리턴"
   ]
  },
  {
   "cell_type": "markdown",
   "metadata": {},
   "source": [
    "리스트 자료형을 사용하여 중복된 값이 있는지 먼저 조사한다. 중복된 값이 있을 경우는 False를 리턴한다. 최종적으로 중복된 값이 없을 경우 0~9까지의 숫자가 모두 사용되었는지 판단하기 위해 입력 문자열의 숫자 값을 저장한 리스트 자료형의 총 개수가 10인지를 조사하여 10일 경우는 True, 아닐 경우는 False를 리턴한다."
   ]
  },
  {
   "cell_type": "markdown",
   "metadata": {},
   "source": [
    "## Q16 모스 부호 해독\n",
    "문자열 형식으로 입력받은 모스 부호(dot:`.` dash:`-`)를 해독하여 영어 문장으로 출력하는 프로그램을 작성하시오.\n",
    "\n",
    "글자와 글자 사이는 공백 1개, 단어와 단어 사이는 공백 2개로 구분한다.\n",
    "예를 들어 다음 모스 부호는 \"HE SLEEPS EARLY\"로 해석해야 한다.\n",
    "\n",
    "`.... .  ... .-.. . . .--. ...  . .- .-. .-.. -.--`\n",
    "\n",
    "모스부호 규칙 표\n",
    "\n",
    "문자|부호|문자|부호\n",
    "-|-|-|-\n",
    "A|.-|N|-.\n",
    "B|-...|O|---\n",
    "C|-.-.|P|.--.\n",
    "D|-..|Q|--.-\n",
    "E|.|R|.-.\n",
    "F|..-.|S|...\n",
    "G|--.|T|-\n",
    "H|....|U|..-\n",
    "I|..|V|...-\n",
    "J|.---|W|.--\n",
    "K|-.-|X|-..-\n",
    "L|.-..|Y|-.--\n",
    "M|--|Z|--.."
   ]
  },
  {
   "cell_type": "markdown",
   "metadata": {},
   "source": [
    "### A16"
   ]
  },
  {
   "cell_type": "code",
   "execution_count": 75,
   "metadata": {},
   "outputs": [
    {
     "data": {
      "text/plain": [
       "['....',\n",
       " '.',\n",
       " '',\n",
       " '...',\n",
       " '.-..',\n",
       " '.',\n",
       " '.',\n",
       " '.--.',\n",
       " '...',\n",
       " '',\n",
       " '.',\n",
       " '.-',\n",
       " '.-.',\n",
       " '.-..',\n",
       " '-.--']"
      ]
     },
     "execution_count": 75,
     "metadata": {},
     "output_type": "execute_result"
    }
   ],
   "source": [
    "dict = {'.-':'A', '-...':'B', '-.-.':'C', '-..':'D', '.':'E', '..-.':'F', '--.':'G', '....':'H', '..':'I', '.---':'J', '-.-':'K', '.-..':'L', '--':'M', '-.':'N', '---':'O', '.--.':'P', '--.-':'Q', '.-.':'R', '...':'S', '-':'T', '..-':'U', '...-':'V', '.--':'W', '-..-':'X', '-.--':'Y', '--..':'Z', '':' '}\n",
    "p = '.... .  ... .-.. . . .--. ...  . .- .-. .-.. -.--'\n",
    "temp = p.split(' ')\n",
    "temp"
   ]
  },
  {
   "cell_type": "code",
   "execution_count": 76,
   "metadata": {},
   "outputs": [
    {
     "name": "stdout",
     "output_type": "stream",
     "text": [
      "H\n",
      "E\n",
      " \n",
      "S\n",
      "L\n",
      "E\n",
      "E\n",
      "P\n",
      "S\n",
      " \n",
      "E\n",
      "A\n",
      "R\n",
      "L\n",
      "Y\n"
     ]
    }
   ],
   "source": [
    "for one in temp:\n",
    "    print(dict[one])"
   ]
  },
  {
   "cell_type": "code",
   "execution_count": 77,
   "metadata": {},
   "outputs": [
    {
     "data": {
      "text/plain": [
       "['H', 'E', ' ', 'S', 'L', 'E', 'E', 'P', 'S', ' ', 'E', 'A', 'R', 'L', 'Y']"
      ]
     },
     "execution_count": 77,
     "metadata": {},
     "output_type": "execute_result"
    }
   ],
   "source": [
    "trans_list = []\n",
    "for one in temp:\n",
    "    trans_list.append(dict[one])\n",
    "trans_list"
   ]
  },
  {
   "cell_type": "code",
   "execution_count": 78,
   "metadata": {},
   "outputs": [
    {
     "data": {
      "text/plain": [
       "'HE SLEEPS EARLY'"
      ]
     },
     "execution_count": 78,
     "metadata": {},
     "output_type": "execute_result"
    }
   ],
   "source": [
    "''.join(trans_list)"
   ]
  },
  {
   "cell_type": "code",
   "execution_count": 12,
   "metadata": {},
   "outputs": [
    {
     "name": "stdout",
     "output_type": "stream",
     "text": [
      "HE SLEEPS EARLY\n"
     ]
    }
   ],
   "source": [
    "dict = {'.-':'A', '-...':'B', '-.-.':'C', '-..':'D', '.':'E', '..-.':'F', '--.':'G', '....':'H', '..':'I', '.---':'J', '-.-':'K', '.-..':'L', '--':'M', '-.':'N', '---':'O', '.--.':'P', '--.-':'Q', '.-.':'R', '...':'S', '-':'T', '..-':'U', '...-':'V', '.--':'W', '-..-':'X', '-.--':'Y', '--..':'Z', '':' '}\n",
    "p = '.... .  ... .-.. . . .--. ...  . .- .-. .-.. -.--'\n",
    "\n",
    "temp = p.split(' ')\n",
    "trans_list = []\n",
    "for one in temp:\n",
    "    trans_list.append(dict[one])\n",
    "print(''.join(trans_list))"
   ]
  },
  {
   "cell_type": "markdown",
   "metadata": {},
   "source": [
    "### 답지"
   ]
  },
  {
   "cell_type": "code",
   "execution_count": 11,
   "metadata": {},
   "outputs": [
    {
     "name": "stdout",
     "output_type": "stream",
     "text": [
      "HE SLEEPS EARLY \n"
     ]
    }
   ],
   "source": [
    "dic = {\n",
    "    '.-':'A','-...':'B','-.-.':'C','-..':'D','.':'E','..-.':'F',\n",
    "    '--.':'G','....':'H','..':'I','.---':'J','-.-':'K','.-..':'L',\n",
    "    '--':'M','-.':'N','---':'O','.--.':'P','--.-':'Q','.-.':'R',\n",
    "    '...':'S','-':'T','..-':'U','...-':'V','.--':'W','-..-':'X',\n",
    "    '-.--':'Y','--..':'Z'\n",
    "}\n",
    "\n",
    "def morse(src):\n",
    "    result = []\n",
    "    for word in src.split(\"  \"):\n",
    "        for char in word.split(\" \"):\n",
    "            result.append(dic[char])\n",
    "        result.append(\" \")\n",
    "    return \"\".join(result)\n",
    "\n",
    "\n",
    "print(morse('.... .  ... .-.. . . .--. ...  . .- .-. .-.. -.--'))"
   ]
  },
  {
   "cell_type": "markdown",
   "metadata": {},
   "source": [
    "## Q17 기초 메타 문자\n",
    "다음 중 정규식 `a[.]{3,}b`과 매치되는 문자열은 무엇일까?\n",
    "\n",
    "1. `acccb`\n",
    "2. `a....b`\n",
    "3. `aaab`\n",
    "4. `a.cccb`"
   ]
  },
  {
   "cell_type": "markdown",
   "metadata": {},
   "source": [
    "### A17\n",
    "* 2번"
   ]
  },
  {
   "cell_type": "markdown",
   "metadata": {},
   "source": [
    "### 답지\n",
    "- 2번"
   ]
  },
  {
   "cell_type": "code",
   "execution_count": 13,
   "metadata": {},
   "outputs": [
    {
     "name": "stdout",
     "output_type": "stream",
     "text": [
      "None\n",
      "<re.Match object; span=(0, 6), match='a....b'>\n",
      "None\n",
      "None\n"
     ]
    }
   ],
   "source": [
    "import re\n",
    "\n",
    "p = re.compile(\"a[.]{3,}b\")\n",
    "\n",
    "print(p.match(\"acccb\"))    # None\n",
    "print(p.match(\"a....b\"))   # 매치 객체 출력\n",
    "print(p.match(\"aaab\"))     # None\n",
    "print(p.match(\"a.cccb\"))   # None"
   ]
  },
  {
   "cell_type": "markdown",
   "metadata": {},
   "source": [
    "## Q18 문자열 검색\n",
    "다음 코드의 결괏값은 무엇일까?\n",
    "\n",
    "```python\n",
    ">>> import re\n",
    ">>> p = re.compile(\"[a-z]+\")\n",
    ">>> m = p.search(\"5 python\")\n",
    ">>> m.start() + m.end()\n",
    "```"
   ]
  },
  {
   "cell_type": "markdown",
   "metadata": {},
   "source": [
    "### A18\n",
    "* m.start() = 2\n",
    "* m.end() = 7\n",
    "* 결괏값 = 9"
   ]
  },
  {
   "cell_type": "markdown",
   "metadata": {},
   "source": [
    "### 답지\n",
    "- 10\n",
    "* m.start() = 2\n",
    "* m.end() = 8"
   ]
  },
  {
   "cell_type": "code",
   "execution_count": 14,
   "metadata": {},
   "outputs": [
    {
     "name": "stdout",
     "output_type": "stream",
     "text": [
      "10\n"
     ]
    }
   ],
   "source": [
    "import re\n",
    "\n",
    "p = re.compile('[a-z]+')\n",
    "m = p.search(\"5 python\")\n",
    "print(m.start() + m.end())  # 10 출력"
   ]
  },
  {
   "cell_type": "code",
   "execution_count": 16,
   "metadata": {},
   "outputs": [
    {
     "name": "stdout",
     "output_type": "stream",
     "text": [
      "python\n",
      "pytho\n"
     ]
    }
   ],
   "source": [
    "a = \"5 python\"\n",
    "print(a[2:8])\n",
    "print(a[2:7])"
   ]
  },
  {
   "cell_type": "markdown",
   "metadata": {},
   "source": [
    "## Q19 그루핑\n",
    "다음과 같은 문자열에서 휴대폰 번호 뒷자리인 숫자 4개를 ####로 바꾸는 프로그램을 정규식을 사용하여 작성하시오.\n",
    "\n",
    "```\n",
    "\"\"\"\n",
    "park 010-9999-9988\n",
    "kim 010-9909-7789\n",
    "lee 010-8789-7768\n",
    "\"\"\"\n",
    "```"
   ]
  },
  {
   "cell_type": "markdown",
   "metadata": {},
   "source": [
    "### A19"
   ]
  },
  {
   "cell_type": "code",
   "execution_count": 108,
   "metadata": {},
   "outputs": [
    {
     "data": {
      "text/plain": [
       "'park 010-9999-9988'"
      ]
     },
     "execution_count": 108,
     "metadata": {},
     "output_type": "execute_result"
    }
   ],
   "source": [
    "import re\n",
    "p = re.compile(r\"(\\w+)\\s(\\d+)[-](\\d+)[-](\\d+)\", re.MULTILINE)\n",
    "data = '''park 010-9999-9988\n",
    "kim 010-9909-7789\n",
    "lee 010-8789-7768\n",
    "'''\n",
    "m = p.search(data)\n",
    "m.group()"
   ]
  },
  {
   "cell_type": "code",
   "execution_count": 109,
   "metadata": {},
   "outputs": [
    {
     "data": {
      "text/plain": [
       "[('park', '010', '9999', '9988'),\n",
       " ('kim', '010', '9909', '7789'),\n",
       " ('lee', '010', '8789', '7768')]"
      ]
     },
     "execution_count": 109,
     "metadata": {},
     "output_type": "execute_result"
    }
   ],
   "source": [
    "p.findall(data)"
   ]
  },
  {
   "cell_type": "code",
   "execution_count": 110,
   "metadata": {},
   "outputs": [
    {
     "name": "stdout",
     "output_type": "stream",
     "text": [
      "\n",
      "park 010-9999-####\n",
      "kim 010-9909-####\n",
      "lee 010-8789-####\n",
      "\n"
     ]
    }
   ],
   "source": [
    "pat = p.sub(\"\\g<1> \\g<2>-\\g<3>-####\", data)\n",
    "print(pat)"
   ]
  },
  {
   "cell_type": "code",
   "execution_count": 22,
   "metadata": {},
   "outputs": [
    {
     "name": "stdout",
     "output_type": "stream",
     "text": [
      "park 010-9999\n",
      "9988\n"
     ]
    }
   ],
   "source": [
    "import re\n",
    "p = re.compile(r\"(\\w+\\s\\d+[-]\\d+)[-](\\d+)\")\n",
    "data = '''park 010-9999-9988\n",
    "kim 010-9909-7789\n",
    "lee 010-8789-7768\n",
    "'''\n",
    "m = p.search(data)\n",
    "print(m.group(1))\n",
    "print(m.group(2))"
   ]
  },
  {
   "cell_type": "code",
   "execution_count": 23,
   "metadata": {},
   "outputs": [
    {
     "name": "stdout",
     "output_type": "stream",
     "text": [
      "park 010-9999-####\n",
      "kim 010-9909-####\n",
      "lee 010-8789-####\n",
      "\n"
     ]
    }
   ],
   "source": [
    "print(p.sub(\"\\g<1>-####\", data))"
   ]
  },
  {
   "cell_type": "markdown",
   "metadata": {},
   "source": [
    "### 답지"
   ]
  },
  {
   "cell_type": "code",
   "execution_count": 17,
   "metadata": {},
   "outputs": [
    {
     "name": "stdout",
     "output_type": "stream",
     "text": [
      "\n",
      "park 010-9999-####\n",
      "kim 010-9909-####\n",
      "lee 010-8789-####\n",
      "\n"
     ]
    }
   ],
   "source": [
    "import re\n",
    "\n",
    "s = \"\"\"\n",
    "park 010-9999-9988\n",
    "kim 010-9909-7789\n",
    "lee 010-8789-7768\n",
    "\"\"\"\n",
    "\n",
    "pat = re.compile(\"(\\d{3}[-]\\d{4})[-]\\d{4}\")\n",
    "result = pat.sub(\"\\g<1>-####\", s)\n",
    "\n",
    "print(result)"
   ]
  },
  {
   "cell_type": "markdown",
   "metadata": {},
   "source": [
    "## Q20 전방 탐색\n",
    "다음은 이메일 주소를 나타내는 정규식이다. 이 정규식은 park@naver.com, kim@daum.net, lee@myhome.co.kr 등과 매치된다. 긍정형 전방 탐색 기법을 사용하여 .com, .net이 아닌 이메일 주소는 제외시키는 정규식을 작성하시오.\n",
    "\n",
    "`.*[@].*[.].*$`"
   ]
  },
  {
   "cell_type": "markdown",
   "metadata": {},
   "source": [
    "### A20"
   ]
  },
  {
   "cell_type": "code",
   "execution_count": 123,
   "metadata": {},
   "outputs": [
    {
     "name": "stdout",
     "output_type": "stream",
     "text": [
      "['park@naver.com', 'kim@daum.net']\n"
     ]
    }
   ],
   "source": [
    "p = re.compile(\".*[@].*[.](?=com$|net$).*$\", re.M)\n",
    "data = '''park@naver.com\n",
    "kim@daum.net\n",
    "lee@myhome.co.kr\n",
    "'''\n",
    "print(p.findall(data))"
   ]
  },
  {
   "cell_type": "markdown",
   "metadata": {},
   "source": [
    "### 답지"
   ]
  },
  {
   "cell_type": "code",
   "execution_count": 24,
   "metadata": {},
   "outputs": [
    {
     "name": "stdout",
     "output_type": "stream",
     "text": [
      "<re.Match object; span=(0, 16), match='pahkey@gmail.com'>\n",
      "<re.Match object; span=(0, 12), match='kim@daum.net'>\n",
      "None\n"
     ]
    }
   ],
   "source": [
    "pat = re.compile(\".*[@].*[.](?=com$|net$).*$\")\n",
    "\n",
    "print(pat.match(\"pahkey@gmail.com\"))\n",
    "print(pat.match(\"kim@daum.net\"))\n",
    "print(pat.match(\"lee@myhome.co.kr\"))"
   ]
  },
  {
   "cell_type": "markdown",
   "metadata": {},
   "source": [
    "# 코드 마지막"
   ]
  }
 ],
 "metadata": {
  "interpreter": {
   "hash": "569b4317022eb29baeafb3d0f1f739310808ea28ce83ca127a35db1c01070585"
  },
  "kernelspec": {
   "display_name": "Python 3.9.12 ('base')",
   "language": "python",
   "name": "python3"
  },
  "language_info": {
   "codemirror_mode": {
    "name": "ipython",
    "version": 3
   },
   "file_extension": ".py",
   "mimetype": "text/x-python",
   "name": "python",
   "nbconvert_exporter": "python",
   "pygments_lexer": "ipython3",
   "version": "3.9.12"
  },
  "orig_nbformat": 4
 },
 "nbformat": 4,
 "nbformat_minor": 2
}
