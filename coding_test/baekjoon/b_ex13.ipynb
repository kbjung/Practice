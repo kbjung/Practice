{
 "cells": [
  {
   "cell_type": "markdown",
   "metadata": {},
   "source": [
    "# 기하1"
   ]
  },
  {
   "cell_type": "markdown",
   "metadata": {},
   "source": [
    "## 1085번 - 직사각형에서 탈출\n",
    "\n",
    "- 문제  \n",
    "    한수는 지금 (x, y)에 있다. 직사각형은 각 변이 좌표축에 평행하고, 왼쪽 아래 꼭짓점은 (0, 0), 오른쪽 위 꼭짓점은 (w, h)에 있다. 직사각형의 경계선까지 가는 거리의 최솟값을 구하는 프로그램을 작성하시오.\n",
    "\n",
    "- 입력  \n",
    "    첫째 줄에 x, y, w, h가 주어진다.\n",
    "\n",
    "- 출력  \n",
    "    첫째 줄에 문제의 정답을 출력한다.\n",
    "\n",
    "- 제한  \n",
    "    - 1 ≤ w, h ≤ 1,000\n",
    "    - 1 ≤ x ≤ w-1\n",
    "    - 1 ≤ y ≤ h-1\n",
    "    - x, y, w, h는 정수    \n",
    "\n",
    "    예제 입력|예제 출력\n",
    "    -|-\n",
    "    6 2 10 3|1\n",
    "    1 1 5 5|1\n",
    "    653 375 1000 1000|347\n",
    "    161 181 762 375|161\n"
   ]
  },
  {
   "cell_type": "code",
   "execution_count": 5,
   "metadata": {},
   "outputs": [
    {
     "name": "stdout",
     "output_type": "stream",
     "text": [
      "161\n"
     ]
    }
   ],
   "source": [
    "x, y, w, h = map(int, input().split())\n",
    "mx = w - x\n",
    "if x <= mx:\n",
    "    best_x = x\n",
    "else:\n",
    "    best_x = mx\n",
    "my = h - y\n",
    "if y <= my:\n",
    "    best_y = y\n",
    "else:\n",
    "    best_y = my\n",
    "if best_x <= best_y:\n",
    "    print(best_x)\n",
    "else:\n",
    "    print(best_y)"
   ]
  },
  {
   "cell_type": "markdown",
   "metadata": {},
   "source": [
    "### 풀이1(30840KB, 68ms, 75B)"
   ]
  },
  {
   "cell_type": "code",
   "execution_count": 10,
   "metadata": {},
   "outputs": [
    {
     "name": "stdout",
     "output_type": "stream",
     "text": [
      "161\n"
     ]
    }
   ],
   "source": [
    "x, y, w, h = map(int, input().split())\n",
    "print(min(min(w-x, x), min(h-y, y)))"
   ]
  },
  {
   "cell_type": "markdown",
   "metadata": {},
   "source": [
    "### 풀이2(30840KB, 68ms, 65B)"
   ]
  },
  {
   "cell_type": "code",
   "execution_count": 11,
   "metadata": {},
   "outputs": [
    {
     "name": "stdout",
     "output_type": "stream",
     "text": [
      "1\n"
     ]
    }
   ],
   "source": [
    "x, y, w, h = map(int, input().split())\n",
    "print(min(w-x, x, h-y, y))"
   ]
  },
  {
   "cell_type": "markdown",
   "metadata": {},
   "source": [
    "## 3009번 - 네 번째 점\n",
    "\n",
    "- 문제  \n",
    "    세 점이 주어졌을 때, 축에 평행한 직사각형을 만들기 위해서 필요한 네 번째 점을 찾는 프로그램을 작성하시오.\n",
    "\n",
    "- 입력  \n",
    "    세 점의 좌표가 한 줄에 하나씩 주어진다. 좌표는 1보다 크거나 같고, 1000보다 작거나 같은 정수이다.\n",
    "\n",
    "- 출력  \n",
    "    직사각형의 네 번째 점의 좌표를 출력한다.\n",
    "\n",
    "- 예시 입력1  \n",
    "    5 5  \n",
    "    5 7  \n",
    "    7 5  \n",
    "- 예시 출력1  \n",
    "    7 7  \n",
    "\n",
    "- 예시 입력2  \n",
    "    30 20  \n",
    "    10 10  \n",
    "    10 20  \n",
    "- 예시 출력2  \n",
    "    30 10"
   ]
  },
  {
   "cell_type": "code",
   "execution_count": 6,
   "metadata": {},
   "outputs": [
    {
     "data": {
      "text/plain": [
       "{(3, 4)}"
      ]
     },
     "execution_count": 6,
     "metadata": {},
     "output_type": "execute_result"
    }
   ],
   "source": [
    "t1 = {(1, 2), (3, 4)}\n",
    "t2 = {(1, 2)}\n",
    "t1 - t2"
   ]
  },
  {
   "cell_type": "code",
   "execution_count": 32,
   "metadata": {},
   "outputs": [
    {
     "name": "stdout",
     "output_type": "stream",
     "text": [
      "{5, 7}\n",
      "{5, 7}\n",
      "{(7, 5), (5, 5), (7, 7), (5, 7)}\n",
      "{(7, 7)}\n",
      "7 7\n"
     ]
    }
   ],
   "source": [
    "from itertools import product\n",
    "x1, y1 = map(int, input().split())\n",
    "x2, y2 = map(int, input().split())\n",
    "x3, y3 = map(int, input().split())\n",
    "x_set = {x1, x2, x3}\n",
    "y_set = {y1, y2, y3}\n",
    "print(x_set)\n",
    "print(y_set)\n",
    "a = set(product(x_set, y_set))\n",
    "print(a)\n",
    "b = {(x1, y1), (x2, y2), (x3, y3)}\n",
    "print(a - b)\n",
    "print(*list(a - b)[0])"
   ]
  },
  {
   "cell_type": "markdown",
   "metadata": {},
   "source": [
    "### 풀이1(30840KB, 68ms, 265B)"
   ]
  },
  {
   "cell_type": "code",
   "execution_count": null,
   "metadata": {},
   "outputs": [],
   "source": [
    "from itertools import product\n",
    "x1, y1 = map(int, input().split())\n",
    "x2, y2 = map(int, input().split())\n",
    "x3, y3 = map(int, input().split())\n",
    "x_set = {x1, x2, x3}\n",
    "y_set = {y1, y2, y3}\n",
    "a = set(product(x_set, y_set))\n",
    "b = {(x1, y1), (x2, y2), (x3, y3)}\n",
    "print(*list(a - b)[0])"
   ]
  },
  {
   "cell_type": "code",
   "execution_count": 16,
   "metadata": {},
   "outputs": [
    {
     "data": {
      "text/plain": [
       "[[5, 5], [5, 7], [7, 5]]"
      ]
     },
     "execution_count": 16,
     "metadata": {},
     "output_type": "execute_result"
    }
   ],
   "source": [
    "[list(map(int, input().split())) for _ in range(3)]"
   ]
  },
  {
   "cell_type": "code",
   "execution_count": 17,
   "metadata": {},
   "outputs": [
    {
     "data": {
      "text/plain": [
       "5"
      ]
     },
     "execution_count": 17,
     "metadata": {},
     "output_type": "execute_result"
    }
   ],
   "source": [
    "point_set = [[5, 5], [5, 7], [7, 5]]\n",
    "point_set[0][0]"
   ]
  },
  {
   "cell_type": "code",
   "execution_count": 20,
   "metadata": {},
   "outputs": [
    {
     "data": {
      "text/plain": [
       "{5, 7}"
      ]
     },
     "execution_count": 20,
     "metadata": {},
     "output_type": "execute_result"
    }
   ],
   "source": [
    "x_set"
   ]
  },
  {
   "cell_type": "code",
   "execution_count": 21,
   "metadata": {},
   "outputs": [
    {
     "data": {
      "text/plain": [
       "{5, 7}"
      ]
     },
     "execution_count": 21,
     "metadata": {},
     "output_type": "execute_result"
    }
   ],
   "source": [
    "y_set"
   ]
  },
  {
   "cell_type": "code",
   "execution_count": 22,
   "metadata": {},
   "outputs": [
    {
     "name": "stdout",
     "output_type": "stream",
     "text": [
      "(1, 2, 3)\n",
      "1\n"
     ]
    }
   ],
   "source": [
    "t1 = tuple([1, 2, 3])\n",
    "print(t1)\n",
    "print(t1[0])"
   ]
  },
  {
   "cell_type": "code",
   "execution_count": 23,
   "metadata": {},
   "outputs": [
    {
     "data": {
      "text/plain": [
       "(1, 2)"
      ]
     },
     "execution_count": 23,
     "metadata": {},
     "output_type": "execute_result"
    }
   ],
   "source": [
    "t2 = tuple((1, 2))\n",
    "t2"
   ]
  },
  {
   "cell_type": "code",
   "execution_count": 24,
   "metadata": {},
   "outputs": [
    {
     "ename": "TypeError",
     "evalue": "unsupported operand type(s) for -: 'tuple' and 'tuple'",
     "output_type": "error",
     "traceback": [
      "\u001b[1;31m---------------------------------------------------------------------------\u001b[0m",
      "\u001b[1;31mTypeError\u001b[0m                                 Traceback (most recent call last)",
      "\u001b[1;32mc:\\Users\\kbjoo\\Documents\\Google_Drive\\GitHub\\Study\\coding_test\\baekjoon\\b_ex13.ipynb Cell 18'\u001b[0m in \u001b[0;36m<cell line: 1>\u001b[1;34m()\u001b[0m\n\u001b[1;32m----> <a href='vscode-notebook-cell:/c%3A/Users/kbjoo/Documents/Google_Drive/GitHub/Study/coding_test/baekjoon/b_ex13.ipynb#ch0000025?line=0'>1</a>\u001b[0m \u001b[39mprint\u001b[39m(t1 \u001b[39m-\u001b[39;49m t2)\n",
      "\u001b[1;31mTypeError\u001b[0m: unsupported operand type(s) for -: 'tuple' and 'tuple'"
     ]
    }
   ],
   "source": [
    "print(t1 - t2)"
   ]
  },
  {
   "cell_type": "code",
   "execution_count": 27,
   "metadata": {},
   "outputs": [
    {
     "data": {
      "text/plain": [
       "[1, 2, 3]"
      ]
     },
     "execution_count": 27,
     "metadata": {},
     "output_type": "execute_result"
    }
   ],
   "source": [
    "t = {1, 2, 3}\n",
    "list(t)"
   ]
  },
  {
   "cell_type": "code",
   "execution_count": 28,
   "metadata": {},
   "outputs": [
    {
     "data": {
      "text/plain": [
       "{1, 2, 3}"
      ]
     },
     "execution_count": 28,
     "metadata": {},
     "output_type": "execute_result"
    }
   ],
   "source": [
    "t = [1, 2, 3]\n",
    "set(t)"
   ]
  },
  {
   "cell_type": "code",
   "execution_count": 29,
   "metadata": {},
   "outputs": [
    {
     "ename": "TypeError",
     "evalue": "unhashable type: 'list'",
     "output_type": "error",
     "traceback": [
      "\u001b[1;31m---------------------------------------------------------------------------\u001b[0m",
      "\u001b[1;31mTypeError\u001b[0m                                 Traceback (most recent call last)",
      "\u001b[1;32mc:\\Users\\kbjoo\\Documents\\Google_Drive\\GitHub\\Study\\coding_test\\baekjoon\\b_ex13.ipynb Cell 22'\u001b[0m in \u001b[0;36m<cell line: 2>\u001b[1;34m()\u001b[0m\n\u001b[0;32m      <a href='vscode-notebook-cell:/c%3A/Users/kbjoo/Documents/Google_Drive/GitHub/Study/coding_test/baekjoon/b_ex13.ipynb#ch0000029?line=0'>1</a>\u001b[0m t \u001b[39m=\u001b[39m [[\u001b[39m1\u001b[39m, \u001b[39m2\u001b[39m], [\u001b[39m3\u001b[39m, \u001b[39m4\u001b[39m]]\n\u001b[1;32m----> <a href='vscode-notebook-cell:/c%3A/Users/kbjoo/Documents/Google_Drive/GitHub/Study/coding_test/baekjoon/b_ex13.ipynb#ch0000029?line=1'>2</a>\u001b[0m \u001b[39mset\u001b[39;49m(t)\n",
      "\u001b[1;31mTypeError\u001b[0m: unhashable type: 'list'"
     ]
    }
   ],
   "source": [
    "t = [[1, 2], [3, 4]]\n",
    "set(t)"
   ]
  },
  {
   "cell_type": "code",
   "execution_count": 30,
   "metadata": {},
   "outputs": [
    {
     "data": {
      "text/plain": [
       "{(1, 2), (3, 4)}"
      ]
     },
     "execution_count": 30,
     "metadata": {},
     "output_type": "execute_result"
    }
   ],
   "source": [
    "t = [(1, 2), (3, 4)]\n",
    "set(t)"
   ]
  },
  {
   "cell_type": "code",
   "execution_count": 41,
   "metadata": {},
   "outputs": [
    {
     "name": "stdout",
     "output_type": "stream",
     "text": [
      "(1, 2)\n"
     ]
    }
   ],
   "source": [
    "t = {(1, 2)}\n",
    "print(*t)"
   ]
  },
  {
   "cell_type": "code",
   "execution_count": 44,
   "metadata": {},
   "outputs": [
    {
     "name": "stdout",
     "output_type": "stream",
     "text": [
      "1 2\n"
     ]
    }
   ],
   "source": [
    "print(*list(*t))"
   ]
  },
  {
   "cell_type": "code",
   "execution_count": 45,
   "metadata": {},
   "outputs": [
    {
     "name": "stdout",
     "output_type": "stream",
     "text": [
      "{5, 7}\n",
      "{5, 7}\n",
      "{(7, 5), (5, 5), (7, 7), (5, 7)}\n",
      "{(7, 5), (5, 5), (5, 7)}\n",
      "{(7, 7)}\n",
      "7 7\n"
     ]
    }
   ],
   "source": [
    "from itertools import product\n",
    "# point_set = [list(map(int, input().split())) for _ in range(3)]\n",
    "points = ((5, 5), (5, 7), (7, 5))\n",
    "x_set = {a[0] for a in points}\n",
    "y_set = {a[1] for a in points}\n",
    "print(x_set)\n",
    "print(y_set)\n",
    "a = set(product(x_set, y_set))\n",
    "print(a)\n",
    "print(set(points))\n",
    "print(a - set(points))\n",
    "print(*list(*(a - set(points))))"
   ]
  },
  {
   "cell_type": "markdown",
   "metadata": {},
   "source": [
    "### 풀이2(30840KB, 68ms, 222B)"
   ]
  },
  {
   "cell_type": "code",
   "execution_count": 49,
   "metadata": {},
   "outputs": [
    {
     "name": "stdout",
     "output_type": "stream",
     "text": [
      "7 7\n"
     ]
    }
   ],
   "source": [
    "from itertools import product\n",
    "points = tuple(tuple(map(int, input().split())) for _ in range(3))\n",
    "x_set = {a[0] for a in points}\n",
    "y_set = {a[1] for a in points}\n",
    "a = set(product(x_set, y_set))\n",
    "print(*list(*(a - set(points))))"
   ]
  },
  {
   "cell_type": "markdown",
   "metadata": {},
   "source": [
    "### 풀이3(30840KB, 72ms, 255B)"
   ]
  },
  {
   "cell_type": "code",
   "execution_count": null,
   "metadata": {},
   "outputs": [],
   "source": [
    "from itertools import product\n",
    "import sys\n",
    "points = tuple(tuple(map(int, sys.stdin.readline().rstrip().split())) for _ in range(3))\n",
    "x_set = {a[0] for a in points}\n",
    "y_set = {a[1] for a in points}\n",
    "a = set(product(x_set, y_set))\n",
    "print(*list(*(a - set(points))))"
   ]
  },
  {
   "cell_type": "markdown",
   "metadata": {},
   "source": [
    "### 참고(제출 번호 : 14533246, 아이디 : bvba, 29284KB, 56ms, 75B)"
   ]
  },
  {
   "cell_type": "code",
   "execution_count": 1,
   "metadata": {},
   "outputs": [
    {
     "name": "stdout",
     "output_type": "stream",
     "text": [
      "7 7\n"
     ]
    }
   ],
   "source": [
    "x=0;y=0\n",
    "for _ in range(3):a,b=map(int,input().split());x^=a;y^=b\n",
    "print(x,y)"
   ]
  },
  {
   "cell_type": "markdown",
   "metadata": {},
   "source": [
    "#### XOR(배타적 논리합)\n",
    "- 비트간 배타적 논리합은 특정 비트의 반전이므로, 2회 반복하면 원래대로 된다. 즉  \n",
    "    (P ^ K) ^ K = P"
   ]
  },
  {
   "cell_type": "code",
   "execution_count": 2,
   "metadata": {},
   "outputs": [
    {
     "name": "stdout",
     "output_type": "stream",
     "text": [
      "5 5\n"
     ]
    }
   ],
   "source": [
    "x, y = 0, 0\n",
    "a, b = 5, 5\n",
    "x ^= a\n",
    "y ^= b\n",
    "print(x, y)"
   ]
  },
  {
   "cell_type": "code",
   "execution_count": 3,
   "metadata": {},
   "outputs": [
    {
     "name": "stdout",
     "output_type": "stream",
     "text": [
      "0 2\n"
     ]
    }
   ],
   "source": [
    "a, b = 5, 7\n",
    "x ^= a\n",
    "y ^= b\n",
    "print(x, y)"
   ]
  },
  {
   "cell_type": "code",
   "execution_count": 4,
   "metadata": {},
   "outputs": [
    {
     "name": "stdout",
     "output_type": "stream",
     "text": [
      "7 7\n"
     ]
    }
   ],
   "source": [
    "a, b = 7, 5\n",
    "x ^= a\n",
    "y ^= b\n",
    "print(x, y)"
   ]
  },
  {
   "cell_type": "code",
   "execution_count": 5,
   "metadata": {},
   "outputs": [
    {
     "name": "stdout",
     "output_type": "stream",
     "text": [
      "30 20\n"
     ]
    }
   ],
   "source": [
    "x, y = 0, 0\n",
    "a, b = 30, 20\n",
    "x ^= a\n",
    "y ^= b\n",
    "print(x, y)"
   ]
  },
  {
   "cell_type": "code",
   "execution_count": 6,
   "metadata": {},
   "outputs": [
    {
     "name": "stdout",
     "output_type": "stream",
     "text": [
      "20 30\n"
     ]
    }
   ],
   "source": [
    "a, b = 10, 10\n",
    "x ^= a\n",
    "y ^= b\n",
    "print(x, y)"
   ]
  },
  {
   "cell_type": "code",
   "execution_count": 7,
   "metadata": {},
   "outputs": [
    {
     "name": "stdout",
     "output_type": "stream",
     "text": [
      "30 10\n"
     ]
    }
   ],
   "source": [
    "a, b = 10, 20\n",
    "x ^= a\n",
    "y ^= b\n",
    "print(x, y)"
   ]
  },
  {
   "cell_type": "markdown",
   "metadata": {},
   "source": [
    "## 4153번 - 직각삼각형\n",
    "\n",
    "- 문제  \n",
    "    과거 이집트인들은 각 변들의 길이가 3, 4, 5인 삼각형이 직각 삼각형인것을 알아냈다. 주어진 세변의 길이로 삼각형이 직각인지 아닌지 구분하시오. <img src='img/4153.png' align='right'>\n",
    "\n",
    "- 입력  \n",
    "    입력은 여러개의 테스트케이스로 주어지며 마지막줄에는 0 0 0이 입력된다. 각 테스트케이스는 모두 30,000보다 작은 양의 정수로 주어지며, 각 입력은 변의 길이를 의미한다.\n",
    "\n",
    "- 출력  \n",
    "    각 입력에 대해 직각 삼각형이 맞다면 \"right\", 아니라면 \"wrong\"을 출력한다.\n",
    "\n",
    "- 예제 입력  \n",
    "    6 8 10  \n",
    "    25 52 60  \n",
    "    5 12 13  \n",
    "    0 0 0  \n",
    "- 예제 출력  \n",
    "    right  \n",
    "    wrong  \n",
    "    right  "
   ]
  },
  {
   "cell_type": "code",
   "execution_count": 5,
   "metadata": {},
   "outputs": [
    {
     "data": {
      "text/plain": [
       "[1, 2, 3]"
      ]
     },
     "execution_count": 5,
     "metadata": {},
     "output_type": "execute_result"
    }
   ],
   "source": [
    "sorted([1, 3, 2])"
   ]
  },
  {
   "cell_type": "markdown",
   "metadata": {},
   "source": [
    "### 풀이(30840KB, 72ms, 265B)"
   ]
  },
  {
   "cell_type": "code",
   "execution_count": 7,
   "metadata": {},
   "outputs": [
    {
     "name": "stdout",
     "output_type": "stream",
     "text": [
      "right\n",
      "wrong\n",
      "right\n"
     ]
    }
   ],
   "source": [
    "while True:\n",
    "    a, b, c = map(int, input().split())\n",
    "    if a == 0 & b == 0 & c == 0:\n",
    "        break\n",
    "    else:\n",
    "        temp = sorted([a, b, c])\n",
    "        if temp[2] ** 2 == temp[1] ** 2 + temp[0] ** 2:\n",
    "            print('right')\n",
    "        else:\n",
    "            print('wrong')"
   ]
  },
  {
   "cell_type": "markdown",
   "metadata": {},
   "source": [
    "## 2477번 - 참외밭\n",
    "\n",
    "- 문제  \n",
    "    시골에 있는 태양이의 삼촌 댁에는 커다란 참외밭이 있다. 문득 태양이는 이 밭에서 자라는 참외가 도대체 몇 개나 되는지 궁금해졌다. 어떻게 알아낼 수 있는지 골똘히 생각하다가 드디어 좋은 아이디어가 떠올랐다. 유레카! $1m^2$의 넓이에 자라는 참외 개수를 헤아린 다음, 참외밭의 넓이를 구하면 비례식을 이용하여 참외의 총개수를 구할 수 있다.\n",
    "\n",
    "    $1m^2$의 넓이에 자라는 참외의 개수는 헤아렸고, 이제 참외밭의 넓이만 구하면 된다. 참외밭은 ㄱ-자 모양이거나 ㄱ-자를 90도, 180도, 270도 회전한 모양(┏, ┗, ┛ 모양)의 육각형이다. 다행히도 밭의 경계(육각형의 변)는 모두 동서 방향이거나 남북 방향이었다. 밭의 한 모퉁이에서 출발하여 밭의 둘레를 돌면서 밭경계 길이를 모두 측정하였다.\n",
    "\n",
    "    <center><img src='img/2477.png'></center>\n",
    "\n",
    "    예를 들어 참외밭이 위 그림과 같은 모양이라고 하자. 그림에서 오른쪽은 동쪽, 왼쪽은 서쪽, 아래쪽은 남쪽, 위쪽은 북쪽이다. 이 그림의 왼쪽위 꼭짓점에서 출발하여, 반시계방향으로 남쪽으로 30m, 동쪽으로 60m, 남쪽으로 20m, 동쪽으로 100m, 북쪽으로 50m, 서쪽으로 160m 이동하면 다시 출발점으로 되돌아가게 된다.\n",
    "\n",
    "    위 그림의 참외밭  면적은 $6800m^2$이다. 만약 $1m^2$의 넓이에 자라는 참외의 개수가 7이라면, 이 밭에서 자라는 참외의 개수는 47600으로 계산된다.\n",
    "\n",
    "    $1m^2$의 넓이에 자라는 참외의 개수와, 참외밭을 이루는 육각형의 임의의 한 꼭짓점에서 출발하여 반시계방향으로 둘레를 돌면서 지나는 변의 방향과 길이가 순서대로 주어진다. 이 참외밭에서 자라는 참외의 수를 구하는 프로그램을 작성하시오.\n",
    "\n",
    "- 입력  \n",
    "    첫 번째 줄에 $1m^2$의 넓이에 자라는 참외의 개수를 나타내는 양의 정수 K (1 ≤ K ≤ 20)가 주어진다. 참외밭을 나타내는 육각형의 임의의 한 꼭짓점에서 출발하여 반시계방향으로 둘레를 돌면서 지나는 변의 방향과 길이 (1 이상 500 이하의 정수) 가 둘째 줄부터 일곱 번째 줄까지 한 줄에 하나씩 순서대로 주어진다. 변의 방향에서 동쪽은 1, 서쪽은 2, 남쪽은 3, 북쪽은 4로 나타낸다.\n",
    "\n",
    "- 출력  \n",
    "    첫째 줄에 입력으로 주어진 밭에서 자라는 참외의 수를 출력한다.\n",
    "\n",
    "- 예시 입력  \n",
    "    7  \n",
    "    4 50  \n",
    "    2 160  \n",
    "    3 30  \n",
    "    1 60  \n",
    "    3 20  \n",
    "    1 100  \n",
    "- 예시 출력  \n",
    "    47600"
   ]
  },
  {
   "cell_type": "code",
   "execution_count": 12,
   "metadata": {},
   "outputs": [
    {
     "data": {
      "text/plain": [
       "(3, 4, 1, 2)"
      ]
     },
     "execution_count": 12,
     "metadata": {},
     "output_type": "execute_result"
    }
   ],
   "source": [
    "tuple([3, 4, 1, 2])"
   ]
  },
  {
   "cell_type": "code",
   "execution_count": 13,
   "metadata": {},
   "outputs": [
    {
     "name": "stdout",
     "output_type": "stream",
     "text": [
      "47600\n"
     ]
    }
   ],
   "source": [
    "K = 7\n",
    "a = [4, 2, 3, 1, 3, 1]\n",
    "b = [50, 160, 30, 60, 20, 100]\n",
    "d = {(4, 2, 3, 1, 3, 1):[0, 1, 3, 4],\n",
    "     (2, 3, 1, 3, 1, 4):[5, 1, 2, 3],\n",
    "     (3, 1, 3, 1, 4, 2):[4, 5, 1, 2],\n",
    "     (1, 3, 1, 4, 2, 3):[3, 4, 0, 5],\n",
    "     (3, 1, 4, 2, 3, 1):[2, 3, 5, 0],\n",
    "     (1, 4, 2, 3, 1, 3):[1, 2, 4, 5]}\n",
    "at = d[tuple(a)]\n",
    "S = b[at[0]] * b[at[1]] - b[at[2]] * b[at[3]]\n",
    "print(K * S)"
   ]
  },
  {
   "cell_type": "code",
   "execution_count": 16,
   "metadata": {},
   "outputs": [
    {
     "name": "stdout",
     "output_type": "stream",
     "text": [
      "[1]\n",
      "[3]\n"
     ]
    }
   ],
   "source": [
    "a, b = [], []\n",
    "a.append(1)\n",
    "b.append(3)\n",
    "print(a)\n",
    "print(b)"
   ]
  },
  {
   "cell_type": "markdown",
   "metadata": {},
   "source": [
    "### 풀이1(keyerror)"
   ]
  },
  {
   "cell_type": "code",
   "execution_count": 20,
   "metadata": {},
   "outputs": [
    {
     "name": "stdout",
     "output_type": "stream",
     "text": [
      "3\n"
     ]
    }
   ],
   "source": [
    "K = int(input())\n",
    "a, b = [], []\n",
    "for _ in range(6):\n",
    "    m, n = map(int, input().split())\n",
    "    a.append(m)\n",
    "    b.append(n)\n",
    "d = {(4, 2, 3, 1, 3, 1):[0, 1, 3, 4],\n",
    "     (2, 3, 1, 3, 1, 4):[5, 0, 2, 3],\n",
    "     (3, 1, 3, 1, 4, 2):[4, 5, 1, 2],\n",
    "     (1, 3, 1, 4, 2, 3):[3, 4, 0, 1],\n",
    "     (3, 1, 4, 2, 3, 1):[2, 3, 5, 0],\n",
    "     (1, 4, 2, 3, 1, 3):[1, 2, 4, 5]}\n",
    "at = d[tuple(a)]\n",
    "S = b[at[0]] * b[at[1]] - b[at[2]] * b[at[3]]\n",
    "print(K * S)"
   ]
  },
  {
   "cell_type": "code",
   "execution_count": 18,
   "metadata": {},
   "outputs": [
    {
     "data": {
      "text/plain": [
       "[0, 1, 3, 4]"
      ]
     },
     "execution_count": 18,
     "metadata": {},
     "output_type": "execute_result"
    }
   ],
   "source": [
    "at"
   ]
  },
  {
   "cell_type": "code",
   "execution_count": 19,
   "metadata": {},
   "outputs": [
    {
     "data": {
      "text/plain": [
       "0"
      ]
     },
     "execution_count": 19,
     "metadata": {},
     "output_type": "execute_result"
    }
   ],
   "source": [
    "at[0]"
   ]
  },
  {
   "cell_type": "code",
   "execution_count": 17,
   "metadata": {},
   "outputs": [
    {
     "data": {
      "text/plain": [
       "[4, 5, 1, 2]"
      ]
     },
     "execution_count": 17,
     "metadata": {},
     "output_type": "execute_result"
    }
   ],
   "source": [
    "d[(3, 1, 3, 1, 4, 2)]"
   ]
  },
  {
   "cell_type": "markdown",
   "metadata": {},
   "source": [
    "### 풀이2(틀림)"
   ]
  },
  {
   "cell_type": "code",
   "execution_count": 32,
   "metadata": {},
   "outputs": [
    {
     "name": "stdout",
     "output_type": "stream",
     "text": [
      "47600\n"
     ]
    }
   ],
   "source": [
    "K = int(input())\n",
    "a, b = [], []\n",
    "for i in range(6):\n",
    "    m, n = map(int, input().split())\n",
    "    a.append(m)\n",
    "    b.append(n)\n",
    "idxs = []\n",
    "for j in range(1, 5):\n",
    "    if a.count(j) == 1:\n",
    "        idxs.append(a.index(j))\n",
    "if (0 in idxs) & (5 in idxs):\n",
    "    idx = 5\n",
    "else:\n",
    "    idx = min(idxs) - 2\n",
    "S = b[idxs[0]] * b[idxs[1]] - b[idx] * b[idx - 1]\n",
    "print(K * S)"
   ]
  },
  {
   "cell_type": "code",
   "execution_count": 27,
   "metadata": {},
   "outputs": [
    {
     "data": {
      "text/plain": [
       "[1, 0]"
      ]
     },
     "execution_count": 27,
     "metadata": {},
     "output_type": "execute_result"
    }
   ],
   "source": [
    "idxs"
   ]
  },
  {
   "cell_type": "code",
   "execution_count": 28,
   "metadata": {},
   "outputs": [
    {
     "data": {
      "text/plain": [
       "True"
      ]
     },
     "execution_count": 28,
     "metadata": {},
     "output_type": "execute_result"
    }
   ],
   "source": [
    "1 in idxs"
   ]
  },
  {
   "cell_type": "code",
   "execution_count": 29,
   "metadata": {},
   "outputs": [
    {
     "data": {
      "text/plain": [
       "True"
      ]
     },
     "execution_count": 29,
     "metadata": {},
     "output_type": "execute_result"
    }
   ],
   "source": [
    "0 in idxs"
   ]
  },
  {
   "cell_type": "code",
   "execution_count": 31,
   "metadata": {},
   "outputs": [
    {
     "data": {
      "text/plain": [
       "True"
      ]
     },
     "execution_count": 31,
     "metadata": {},
     "output_type": "execute_result"
    }
   ],
   "source": [
    "(0 in idxs) & (1 in idxs)"
   ]
  },
  {
   "cell_type": "code",
   "execution_count": 33,
   "metadata": {},
   "outputs": [],
   "source": [
    "a = [[*map(int, input().split())] for _ in range(6)]"
   ]
  },
  {
   "cell_type": "code",
   "execution_count": 34,
   "metadata": {},
   "outputs": [
    {
     "data": {
      "text/plain": [
       "[[4, 50], [2, 160], [3, 30], [1, 60], [3, 20], [1, 100]]"
      ]
     },
     "execution_count": 34,
     "metadata": {},
     "output_type": "execute_result"
    }
   ],
   "source": [
    "a"
   ]
  },
  {
   "cell_type": "markdown",
   "metadata": {},
   "source": [
    "### 풀이3(30840KB, 68ms, 286B)"
   ]
  },
  {
   "cell_type": "code",
   "execution_count": 46,
   "metadata": {},
   "outputs": [
    {
     "name": "stdout",
     "output_type": "stream",
     "text": [
      "47600\n"
     ]
    }
   ],
   "source": [
    "K = int(input())\n",
    "a = [[*map(int, input().split())] for _ in range(6)]\n",
    "h, w = 0, 0\n",
    "for i, s in enumerate(a):\n",
    "    if s[0] < 3 and h < s[1]:\n",
    "        h, h_idx = s[1], i\n",
    "    elif s[0] > 2 and w < s[1]:\n",
    "        w, w_idx = s[1], i\n",
    "S = (h * w) - (a[h_idx - 3][1] * a[w_idx - 3][1])\n",
    "print(K * S)"
   ]
  },
  {
   "cell_type": "code",
   "execution_count": 42,
   "metadata": {},
   "outputs": [
    {
     "data": {
      "text/plain": [
       "[[4, 50], [2, 160], [3, 30], [1, 60], [3, 20], [1, 100]]"
      ]
     },
     "execution_count": 42,
     "metadata": {},
     "output_type": "execute_result"
    }
   ],
   "source": [
    "a"
   ]
  },
  {
   "cell_type": "code",
   "execution_count": 43,
   "metadata": {},
   "outputs": [
    {
     "data": {
      "text/plain": [
       "[1, 100]"
      ]
     },
     "execution_count": 43,
     "metadata": {},
     "output_type": "execute_result"
    }
   ],
   "source": [
    "s"
   ]
  },
  {
   "cell_type": "code",
   "execution_count": 44,
   "metadata": {},
   "outputs": [
    {
     "data": {
      "text/plain": [
       "([160, 1], [50, 0])"
      ]
     },
     "execution_count": 44,
     "metadata": {},
     "output_type": "execute_result"
    }
   ],
   "source": [
    "h, w"
   ]
  },
  {
   "cell_type": "markdown",
   "metadata": {},
   "source": [
    "## 3053번 - 택시 기하학\n",
    "\n",
    "- 문제  \n",
    "    19세기 독일 수학자 헤르만 민코프스키는 비유클리드 기하학 중 택시 기하학을 고안했다.\n",
    "\n",
    "    택시 기하학에서 두 점 T1(x1,y1), T2(x2,y2) 사이의 거리는 다음과 같이 구할 수 있다.\n",
    "\n",
    "    D(T1,T2) = |x1-x2| + |y1-y2|\n",
    "\n",
    "    두 점 사이의 거리를 제외한 나머지 정의는 유클리드 기하학에서의 정의와 같다.\n",
    "\n",
    "    따라서 택시 기하학에서 원의 정의는 유클리드 기하학에서 원의 정의와 같다.\n",
    "\n",
    "    원: 평면 상의 어떤 점에서 거리가 일정한 점들의 집합\n",
    "\n",
    "    반지름 R이 주어졌을 때, 유클리드 기하학에서 원의 넓이와, 택시 기하학에서 원의 넓이를 구하는 프로그램을 작성하시오.\n",
    "\n",
    "- 입력  \n",
    "    첫째 줄에 반지름 R이 주어진다. R은 10,000보다 작거나 같은 자연수이다.\n",
    "\n",
    "- 출력  \n",
    "    첫째 줄에는 유클리드 기하학에서 반지름이 R인 원의 넓이를, 둘째 줄에는 택시 기하학에서 반지름이 R인 원의 넓이를 출력한다. 정답과의 오차는 0.0001까지 허용한다.\n",
    "\n",
    "    예시 입력|예시 출력\n",
    "    -|-\n",
    "    1|3.141593</br>2.000000\n",
    "    21|1385.442360</br>882.000000\n",
    "    42|5541.769441</br>3528.000000"
   ]
  },
  {
   "cell_type": "markdown",
   "metadata": {},
   "source": [
    "### 풀이1(32952KB, 68ms, 69B)"
   ]
  },
  {
   "cell_type": "code",
   "execution_count": 2,
   "metadata": {},
   "outputs": [
    {
     "name": "stdout",
     "output_type": "stream",
     "text": [
      "1385.4423602330987\n",
      "882.0\n"
     ]
    }
   ],
   "source": [
    "from math import pi\n",
    "R = int(input())\n",
    "print(R**2*pi)\n",
    "print((R*2)**2/2)"
   ]
  },
  {
   "cell_type": "code",
   "execution_count": 3,
   "metadata": {},
   "outputs": [
    {
     "data": {
      "text/plain": [
       "3.141592653589793"
      ]
     },
     "execution_count": 3,
     "metadata": {},
     "output_type": "execute_result"
    }
   ],
   "source": [
    "pi"
   ]
  },
  {
   "cell_type": "markdown",
   "metadata": {},
   "source": [
    "### 풀이2(30840KB, 68ms, 54B)"
   ]
  },
  {
   "cell_type": "code",
   "execution_count": 6,
   "metadata": {},
   "outputs": [
    {
     "name": "stdout",
     "output_type": "stream",
     "text": [
      "1385.4423366 882\n"
     ]
    }
   ],
   "source": [
    "R = int(input())\n",
    "print((R**2)*3.14159265359, (R**2)*2)"
   ]
  },
  {
   "cell_type": "markdown",
   "metadata": {},
   "source": [
    "## 1002번 - 터렛\n",
    "\n",
    "- 문제  \n",
    "    조규현과 백승환은 터렛에 근무하는 직원이다. 하지만 워낙 존재감이 없어서 인구수는 차지하지 않는다. 다음은 조규현과 백승환의 사진이다.\n",
    "\n",
    "    <center><img src='img/1002.png' width='15%' height='15%'></center>\n",
    "    \n",
    "    이석원은 조규현과 백승환에게 상대편 마린(류재명)의 위치를 계산하라는 명령을 내렸다. 조규현과 백승환은 각각 자신의 터렛 위치에서 현재 적까지의 거리를 계산했다.\n",
    "\n",
    "    조규현의 좌표 ($x_1$, $y_1$)와 백승환의 좌표 ($x_2$, $y_2$)가 주어지고, 조규현이 계산한 류재명과의 거리 $r_1$과 백승환이 계산한 류재명과의 거리 $r_2$가 주어졌을 때, 류재명이 있을 수 있는 좌표의 수를 출력하는 프로그램을 작성하시오.\n",
    "\n",
    "- 입력  \n",
    "    첫째 줄에 테스트 케이스의 개수 T가 주어진다. 각 테스트 케이스는 다음과 같이 이루어져 있다.\n",
    "\n",
    "    한 줄에 $x_1, y_1, r_1, x_2, y_2, r_2$가 주어진다. $x_1, y_1, x_2, y_2$는 -10,000보다 크거나 같고, 10,000보다 작거나 같은 정수이고, $r_1, r_2$는 10,000보다 작거나 같은 자연수이다.\n",
    "\n",
    "- 출력  \n",
    "    각 테스트 케이스마다 류재명이 있을 수 있는 위치의 수를 출력한다. 만약 류재명이 있을 수 있는 위치의 개수가 무한대일 경우에는 -1을 출력한다.\n",
    "\n",
    "- 예제 입력  \n",
    "    3  \n",
    "    0 0 13 40 0 37  \n",
    "    0 0 3 0 7 4  \n",
    "    1 1 1 1 1 5  \n",
    "- 예제 출력  \n",
    "    2  \n",
    "    1  \n",
    "    0  "
   ]
  },
  {
   "cell_type": "code",
   "execution_count": 7,
   "metadata": {},
   "outputs": [
    {
     "data": {
      "text/plain": [
       "True"
      ]
     },
     "execution_count": 7,
     "metadata": {},
     "output_type": "execute_result"
    }
   ],
   "source": [
    "1.0 == 1"
   ]
  },
  {
   "cell_type": "code",
   "execution_count": 10,
   "metadata": {},
   "outputs": [
    {
     "data": {
      "text/plain": [
       "4"
      ]
     },
     "execution_count": 10,
     "metadata": {},
     "output_type": "execute_result"
    }
   ],
   "source": [
    "abs(1 - 5)"
   ]
  },
  {
   "cell_type": "code",
   "execution_count": 12,
   "metadata": {},
   "outputs": [
    {
     "data": {
      "text/plain": [
       "0.0"
      ]
     },
     "execution_count": 12,
     "metadata": {},
     "output_type": "execute_result"
    }
   ],
   "source": [
    "0**(1/2)"
   ]
  },
  {
   "cell_type": "code",
   "execution_count": 13,
   "metadata": {},
   "outputs": [
    {
     "data": {
      "text/plain": [
       "True"
      ]
     },
     "execution_count": 13,
     "metadata": {},
     "output_type": "execute_result"
    }
   ],
   "source": [
    "0**(1/2) == 0"
   ]
  },
  {
   "cell_type": "markdown",
   "metadata": {},
   "source": [
    "### 풀이1(틀림)"
   ]
  },
  {
   "cell_type": "code",
   "execution_count": 15,
   "metadata": {},
   "outputs": [
    {
     "name": "stdout",
     "output_type": "stream",
     "text": [
      "2\n",
      "1\n",
      "0\n"
     ]
    }
   ],
   "source": [
    "T = int(input())\n",
    "for _ in range(T):\n",
    "    x1, y1, r1, x2, y2, r2 = map(int, input().split())\n",
    "    h = ((x2 - x1)**2 + (y2 - y1)**2)**(1/2)\n",
    "    if h > 0:\n",
    "        if r1 + r2 < h:\n",
    "            print(0)\n",
    "        elif r1 + r2 > h:\n",
    "            print(2)\n",
    "        elif r1 + r2 == h:\n",
    "            print(1)\n",
    "        elif abs(r1 - r2) == h:\n",
    "            print(1)\n",
    "    elif h == 0:\n",
    "        if r1 == r2:\n",
    "            print(-1)\n",
    "        elif r1 != r2:\n",
    "            print(0)"
   ]
  },
  {
   "cell_type": "markdown",
   "metadata": {},
   "source": [
    "### 풀이2(틀림)"
   ]
  },
  {
   "cell_type": "code",
   "execution_count": 16,
   "metadata": {},
   "outputs": [
    {
     "name": "stdout",
     "output_type": "stream",
     "text": [
      "2\n",
      "1\n",
      "0\n"
     ]
    }
   ],
   "source": [
    "from math import sqrt\n",
    "T = int(input())\n",
    "for _ in range(T):\n",
    "    x1, y1, r1, x2, y2, r2 = map(int, input().split())\n",
    "    h = sqrt((x2 - x1)**2 + (y2 - y1)**2)\n",
    "    if h > 0:\n",
    "        if r1 + r2 < h:\n",
    "            print(0)\n",
    "        elif r1 + r2 > h:\n",
    "            print(2)\n",
    "        elif r1 + r2 == h:\n",
    "            print(1)\n",
    "        elif abs(r1 - r2) == h:\n",
    "            print(1)\n",
    "    elif h == 0:\n",
    "        if r1 == r2:\n",
    "            print(-1)\n",
    "        elif r1 != r2:\n",
    "            print(0)"
   ]
  },
  {
   "cell_type": "markdown",
   "metadata": {},
   "source": [
    "### 풀이3(틀림)"
   ]
  },
  {
   "cell_type": "code",
   "execution_count": 17,
   "metadata": {},
   "outputs": [
    {
     "name": "stdout",
     "output_type": "stream",
     "text": [
      "2\n",
      "1\n",
      "0\n"
     ]
    }
   ],
   "source": [
    "T = int(input())\n",
    "for _ in range(T):\n",
    "    x1, y1, r1, x2, y2, r2 = map(int, input().split())\n",
    "    h = (x2 - x1)**2 + (y2 - y1)**2\n",
    "    if h > 0:\n",
    "        if (r1 + r2)**2 < h:\n",
    "            print(0)\n",
    "        elif (r1 + r2)**2 > h:\n",
    "            print(2)\n",
    "        elif (r1 + r2)**2 == h:\n",
    "            print(1)\n",
    "        elif (r1 - r2)**2 == h:\n",
    "            print(1)\n",
    "    elif h == 0:\n",
    "        if r1 == r2:\n",
    "            print(-1)\n",
    "        elif r1 != r2:\n",
    "            print(0)"
   ]
  },
  {
   "cell_type": "markdown",
   "metadata": {},
   "source": [
    "### 풀이4(틀림)"
   ]
  },
  {
   "cell_type": "code",
   "execution_count": null,
   "metadata": {},
   "outputs": [],
   "source": [
    "T = int(input())\n",
    "for _ in range(T):\n",
    "    x1, y1, r1, x2, y2, r2 = map(int, input().split())\n",
    "    h = int((x2 - x1)**2 + (y2 - y1)**2)\n",
    "    if h > 0:\n",
    "        if (r1 + r2)**2 < h:\n",
    "            print(0)\n",
    "        elif (r1 + r2)**2 > h:\n",
    "            print(2)\n",
    "        elif (r1 + r2)**2 == h:\n",
    "            print(1)\n",
    "        elif (r1 - r2)**2 == h:\n",
    "            print(1)\n",
    "    elif h == 0:\n",
    "        if r1 == r2:\n",
    "            print(-1)\n",
    "        elif r1 != r2:\n",
    "            print(0)"
   ]
  },
  {
   "cell_type": "code",
   "execution_count": 22,
   "metadata": {},
   "outputs": [
    {
     "data": {
      "text/plain": [
       "int"
      ]
     },
     "execution_count": 22,
     "metadata": {},
     "output_type": "execute_result"
    }
   ],
   "source": [
    "type((1 - 3)**2)"
   ]
  },
  {
   "cell_type": "markdown",
   "metadata": {},
   "source": [
    "### 풀이5(틀림)"
   ]
  },
  {
   "cell_type": "code",
   "execution_count": 31,
   "metadata": {},
   "outputs": [
    {
     "name": "stdout",
     "output_type": "stream",
     "text": [
      "1\n"
     ]
    }
   ],
   "source": [
    "T = int(input())\n",
    "for _ in range(T):\n",
    "    x1, y1, r1, x2, y2, r2 = map(int, input().split())\n",
    "    h = ((x2 - x1)**2 + (y2 - y1)**2)**(1/2)\n",
    "    if h > r1 + r2: # 만나지 않음\n",
    "        print(0)\n",
    "    elif h == r1 + r2: # 외접\n",
    "        print(1)\n",
    "    elif h < r1 + r2 and h != 0: # 두 점에서 만남 \n",
    "        print(2)\n",
    "    elif h == abs(r1 - r2): # 내접\n",
    "        print(1)\n",
    "    elif h < abs(r1 - r2) and h != 0: # 한원을 다른 원이 포함\n",
    "        print(0)\n",
    "    elif h == 0 and r1 == r2: # 두 원이 겹침\n",
    "        print(-1)"
   ]
  },
  {
   "cell_type": "markdown",
   "metadata": {},
   "source": [
    "### 풀이6(틀림)"
   ]
  },
  {
   "cell_type": "code",
   "execution_count": null,
   "metadata": {},
   "outputs": [],
   "source": [
    "T = int(input())\n",
    "for _ in range(T):\n",
    "    x1, y1, r1, x2, y2, r2 = map(int, input().split())\n",
    "    h2 = (x2 - x1)**2 + (y2 - y1)**2\n",
    "    if h2 > (r1 + r2)**2: # 만나지 않음\n",
    "        print(0)\n",
    "    elif h2 == (r1 + r2)**2: # 외접\n",
    "        print(1)\n",
    "    elif h2 < (r1 + r2)**2 and h2 != 0: # 두 점에서 만남 \n",
    "        print(2)\n",
    "    elif h2 == (r1 - r2)**2: # 내접\n",
    "        print(1)\n",
    "    elif h2 < (r1 - r2)**2 and h2 != 0: # 한원을 다른 원이 포함\n",
    "        print(0)\n",
    "    elif h2 == 0 and r1 == r2: # 두 원이 겹침\n",
    "        print(-1)"
   ]
  },
  {
   "cell_type": "markdown",
   "metadata": {},
   "source": [
    "### 풀이7(30840KB, 80ms, 490B)"
   ]
  },
  {
   "cell_type": "code",
   "execution_count": null,
   "metadata": {},
   "outputs": [],
   "source": [
    "T = int(input())\n",
    "for _ in range(T):\n",
    "    x1, y1, r1, x2, y2, r2 = map(int, input().split())\n",
    "    h = ((x2 - x1)**2 + (y2 - y1)**2)**(1/2)\n",
    "    if h == 0 and r1 == r2: # 두 원이 겹침\n",
    "        print(-1)\n",
    "    elif h == r1 + r2: # 외접\n",
    "        print(1)\n",
    "    elif h == abs(r1 - r2): # 내접\n",
    "        print(1)\n",
    "    elif h > r1 + r2: # 만나지 않음\n",
    "        print(0)\n",
    "    elif h < abs(r1 - r2): # 한원을 다른 원이 포함\n",
    "        print(0)\n",
    "    else: # 두 점에서 만남 \n",
    "        print(2)"
   ]
  },
  {
   "cell_type": "markdown",
   "metadata": {},
   "source": [
    "## 1004번 - 어린왕자"
   ]
  },
  {
   "cell_type": "markdown",
   "metadata": {},
   "source": [
    "## 1358번 - 하키"
   ]
  },
  {
   "cell_type": "markdown",
   "metadata": {},
   "source": [
    "# 코드 마지막"
   ]
  }
 ],
 "metadata": {
  "interpreter": {
   "hash": "569b4317022eb29baeafb3d0f1f739310808ea28ce83ca127a35db1c01070585"
  },
  "kernelspec": {
   "display_name": "Python 3.9.12 ('base')",
   "language": "python",
   "name": "python3"
  },
  "language_info": {
   "codemirror_mode": {
    "name": "ipython",
    "version": 3
   },
   "file_extension": ".py",
   "mimetype": "text/x-python",
   "name": "python",
   "nbconvert_exporter": "python",
   "pygments_lexer": "ipython3",
   "version": "3.9.12"
  },
  "orig_nbformat": 4
 },
 "nbformat": 4,
 "nbformat_minor": 2
}
