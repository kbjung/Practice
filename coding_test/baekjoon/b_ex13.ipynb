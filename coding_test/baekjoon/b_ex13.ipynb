{
 "cells": [
  {
   "cell_type": "markdown",
   "metadata": {},
   "source": [
    "# 기하1"
   ]
  },
  {
   "cell_type": "markdown",
   "metadata": {},
   "source": [
    "## 1085번 - 직사각형에서 탈출\n",
    "\n",
    "- 문제  \n",
    "    한수는 지금 (x, y)에 있다. 직사각형은 각 변이 좌표축에 평행하고, 왼쪽 아래 꼭짓점은 (0, 0), 오른쪽 위 꼭짓점은 (w, h)에 있다. 직사각형의 경계선까지 가는 거리의 최솟값을 구하는 프로그램을 작성하시오.\n",
    "\n",
    "- 입력  \n",
    "    첫째 줄에 x, y, w, h가 주어진다.\n",
    "\n",
    "- 출력  \n",
    "    첫째 줄에 문제의 정답을 출력한다.\n",
    "\n",
    "- 제한  \n",
    "    - 1 ≤ w, h ≤ 1,000\n",
    "    - 1 ≤ x ≤ w-1\n",
    "    - 1 ≤ y ≤ h-1\n",
    "    - x, y, w, h는 정수    \n",
    "\n",
    "    예제 입력|예제 출력\n",
    "    -|-\n",
    "    6 2 10 3|1\n",
    "    1 1 5 5|1\n",
    "    653 375 1000 1000|347\n",
    "    161 181 762 375|161\n"
   ]
  },
  {
   "cell_type": "code",
   "execution_count": 5,
   "metadata": {},
   "outputs": [
    {
     "name": "stdout",
     "output_type": "stream",
     "text": [
      "161\n"
     ]
    }
   ],
   "source": [
    "x, y, w, h = map(int, input().split())\n",
    "mx = w - x\n",
    "if x <= mx:\n",
    "    best_x = x\n",
    "else:\n",
    "    best_x = mx\n",
    "my = h - y\n",
    "if y <= my:\n",
    "    best_y = y\n",
    "else:\n",
    "    best_y = my\n",
    "if best_x <= best_y:\n",
    "    print(best_x)\n",
    "else:\n",
    "    print(best_y)"
   ]
  },
  {
   "cell_type": "markdown",
   "metadata": {},
   "source": [
    "### 풀이(30840KB, 68ms, 75B)"
   ]
  },
  {
   "cell_type": "code",
   "execution_count": 10,
   "metadata": {},
   "outputs": [
    {
     "name": "stdout",
     "output_type": "stream",
     "text": [
      "161\n"
     ]
    }
   ],
   "source": [
    "x, y, w, h = map(int, input().split())\n",
    "print(min(min(w-x, x), min(h-y, y)))"
   ]
  },
  {
   "cell_type": "markdown",
   "metadata": {},
   "source": [
    "## 3009번 - 네 번째 점"
   ]
  },
  {
   "cell_type": "markdown",
   "metadata": {},
   "source": [
    "## 4153번 - 직각삼각형"
   ]
  },
  {
   "cell_type": "markdown",
   "metadata": {},
   "source": [
    "## 2477번 - 참외밭"
   ]
  },
  {
   "cell_type": "markdown",
   "metadata": {},
   "source": [
    "## 3053번 - 택시 기하학"
   ]
  },
  {
   "cell_type": "markdown",
   "metadata": {},
   "source": [
    "## 1002번 - 터렛"
   ]
  },
  {
   "cell_type": "markdown",
   "metadata": {},
   "source": [
    "## 1004번 - 어린왕자"
   ]
  },
  {
   "cell_type": "markdown",
   "metadata": {},
   "source": [
    "## 1358번 - 하키"
   ]
  },
  {
   "cell_type": "markdown",
   "metadata": {},
   "source": []
  },
  {
   "cell_type": "code",
   "execution_count": null,
   "metadata": {},
   "outputs": [],
   "source": []
  }
 ],
 "metadata": {
  "interpreter": {
   "hash": "569b4317022eb29baeafb3d0f1f739310808ea28ce83ca127a35db1c01070585"
  },
  "kernelspec": {
   "display_name": "Python 3.9.12 ('base')",
   "language": "python",
   "name": "python3"
  },
  "language_info": {
   "codemirror_mode": {
    "name": "ipython",
    "version": 3
   },
   "file_extension": ".py",
   "mimetype": "text/x-python",
   "name": "python",
   "nbconvert_exporter": "python",
   "pygments_lexer": "ipython3",
   "version": "3.9.12"
  },
  "orig_nbformat": 4
 },
 "nbformat": 4,
 "nbformat_minor": 2
}
