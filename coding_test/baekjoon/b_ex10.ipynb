{
 "cells": [
  {
   "cell_type": "markdown",
   "metadata": {},
   "source": [
    "# 재귀"
   ]
  },
  {
   "cell_type": "markdown",
   "metadata": {},
   "source": [
    "## 10872번 - 팩토리얼\n",
    "\n",
    "- 문제  \n",
    "    0보다 크거나 같은 정수 N이 주어진다. 이때, N!을 출력하는 프로그램을 작성하시오.\n",
    "\n",
    "- 입력  \n",
    "    첫째 줄에 정수 N(0 ≤ N ≤ 12)이 주어진다.\n",
    "\n",
    "- 출력  \n",
    "    첫째 줄에 N!을 출력한다.\n",
    "\n",
    "- 예제 입력1  \n",
    "    10\n",
    "- 예제 출력1  \n",
    "    3628800\n",
    "- 예제 입력2  \n",
    "    0\n",
    "- 예제 출력2  \n",
    "    1"
   ]
  },
  {
   "cell_type": "markdown",
   "metadata": {},
   "source": [
    "### 풀이"
   ]
  },
  {
   "cell_type": "code",
   "execution_count": 2,
   "metadata": {},
   "outputs": [
    {
     "name": "stdout",
     "output_type": "stream",
     "text": [
      "1\n"
     ]
    }
   ],
   "source": [
    "N = int(input())\n",
    "result = 1\n",
    "for i in range(1, N + 1):\n",
    "    result *= i\n",
    "print(result)"
   ]
  },
  {
   "cell_type": "markdown",
   "metadata": {},
   "source": [
    "## 10870번 - 피보나치 수 5\n",
    "\n",
    "- 문제  \n",
    "    피보나치 수는 0과 1로 시작한다. 0번째 피보나치 수는 0이고, 1번째 피보나치 수는 1이다. 그 다음 2번째 부터는 바로 앞 두 피보나치 수의 합이 된다.\n",
    "\n",
    "    이를 식으로 써보면 Fn = Fn-1 + Fn-2 (n ≥ 2)가 된다.\n",
    "\n",
    "    n=17일때 까지 피보나치 수를 써보면 다음과 같다.\n",
    "\n",
    "    0, 1, 1, 2, 3, 5, 8, 13, 21, 34, 55, 89, 144, 233,  377, 610, 987, 1597\n",
    "\n",
    "    n이 주어졌을 때, n번째 피보나치 수를 구하는 프로그램을 작성하시오.\n",
    "\n",
    "- 입력  \n",
    "    첫째 줄에 n이 주어진다. n은 20보다 작거나 같은 자연수 또는 0이다.\n",
    "\n",
    "- 출력  \n",
    "    첫째 줄에 n번째 피보나치 수를 출력한다.\n",
    "\n",
    "- 예제 입력  \n",
    "    10\n",
    "- 예제 출력  \n",
    "    55"
   ]
  },
  {
   "cell_type": "markdown",
   "metadata": {},
   "source": [
    "### 풀이"
   ]
  },
  {
   "cell_type": "code",
   "execution_count": 9,
   "metadata": {},
   "outputs": [
    {
     "name": "stdout",
     "output_type": "stream",
     "text": [
      "55\n"
     ]
    }
   ],
   "source": [
    "def piv(n):\n",
    "    if n == 0:\n",
    "        return 0\n",
    "    elif n == 1:\n",
    "        return 1\n",
    "    return piv(n-1) + piv(n-2)\n",
    "p_list = [piv(i) for i in range(21)]\n",
    "n = int(input())\n",
    "print(p_list[n])"
   ]
  },
  {
   "cell_type": "markdown",
   "metadata": {},
   "source": [
    "## 25501번 - 재귀의 귀재\n",
    "\n",
    " - 문제 \n",
    "    정휘는 후배들이 재귀 함수를 잘 다루는 재귀의 귀재인지 알아보기 위해 재귀 함수와 관련된 문제를 출제하기로 했다.\n",
    "\n",
    "    팰린드롬이란, 앞에서부터 읽었을 때와 뒤에서부터 읽었을 때가 같은 문자열을 말한다. 팰린드롬의 예시로 AAA, ABBA, ABABA 등이 있고, 팰린드롬이 아닌 문자열의 예시로 ABCA, PALINDROME 등이 있다.\n",
    "\n",
    "    어떤 문자열이 팰린드롬인지 판별하는 문제는 재귀 함수를 이용해 쉽게 해결할 수 있다. 아래 코드의 isPalindrome 함수는 주어진 문자열이 팰린드롬이면 1, 팰린드롬이 아니면 0을 반환하는 함수다.\n",
    "\n",
    "    ```\n",
    "    #include <stdio.h>\n",
    "    #include <string.h>\n",
    "\n",
    "    int recursion(const char *s, int l, int r){\n",
    "        if(l >= r) return 1;\n",
    "        else if(s[l] != s[r]) return 0;\n",
    "        else return recursion(s, l+1, r-1);\n",
    "    }\n",
    "\n",
    "    int isPalindrome(const char *s){\n",
    "        return recursion(s, 0, strlen(s)-1);\n",
    "    }\n",
    "\n",
    "    int main(){\n",
    "        printf(\"ABBA: %d\\n\", isPalindrome(\"ABBA\")); // 1\n",
    "        printf(\"ABC: %d\\n\", isPalindrome(\"ABC\"));   // 0\n",
    "    }\n",
    "    ```\n",
    "\n",
    "    정휘는 위에 작성된 isPalindrome 함수를 이용하여 어떤 문자열이 팰린드롬인지 여부를 판단하려고 한다.\n",
    "\n",
    "    구체적으로는, 문자열 $S$를 isPalindrome 함수의 인자로 전달하여 팰린드롬 여부를 반환값으로 알아낼 것이다. 더불어 판별하는 과정에서 recursion 함수를 몇 번 호출하는지 셀 것이다.\n",
    "\n",
    "    정휘를 따라 여러분도 함수의 반환값과 recursion 함수의 호출 횟수를 구해보자.\n",
    "\n",
    "- 입력\n",
    "    첫째 줄에 테스트케이스의 개수 $T$가 주어진다. ($1 \\leq T \\leq 1\\,000$)\n",
    "\n",
    "    둘째 줄부터 $T$개의 줄에 알파벳 대문자로 구성된 문자열 $S$가 주어진다. ($1 \\leq \\vert S\\vert \\leq 1\\,000$)\n",
    "\n",
    "- 출력\n",
    "    각 테스트케이스마다, isPalindrome 함수의 반환값과 recursion 함수의 호출 횟수를 한 줄에 공백으로 구분하여 출력한다.\n",
    "\n",
    "- 예제 입력  \n",
    "    5  \n",
    "    AAA  \n",
    "    ABBA  \n",
    "    ABABA  \n",
    "    ABCA  \n",
    "    PALINDROME  \n",
    "- 예제 출력  \n",
    "    1 2  \n",
    "    1 3  \n",
    "    1 3  \n",
    "    0 2  \n",
    "    0 1  \n",
    "- 힌트  \n",
    "    Python 3  \n",
    "    ```python\n",
    "    def recursion(s, l, r):\n",
    "        if l >= r: return 1\n",
    "        elif s[l] != s[r]: return 0\n",
    "        else: return recursion(s, l+1, r-1)\n",
    "\n",
    "    def isPalindrome(s):\n",
    "        return recursion(s, 0, len(s)-1)\n",
    "\n",
    "    print('ABBA:', isPalindrome('ABBA'))\n",
    "    print('ABC:', isPalindrome('ABC'))\n",
    "    ```"
   ]
  },
  {
   "cell_type": "code",
   "execution_count": 1,
   "metadata": {},
   "outputs": [
    {
     "name": "stdout",
     "output_type": "stream",
     "text": [
      "ABBA: 1\n",
      "ABC: 0\n"
     ]
    }
   ],
   "source": [
    "def recursion(s, l, r):\n",
    "    if l >= r: return 1\n",
    "    elif s[l] != s[r]: return 0\n",
    "    else: return recursion(s, l+1, r-1)\n",
    "\n",
    "def isPalindrome(s):\n",
    "    return recursion(s, 0, len(s)-1)\n",
    "\n",
    "print('ABBA:', isPalindrome('ABBA'))\n",
    "print('ABC:', isPalindrome('ABC'))"
   ]
  },
  {
   "cell_type": "markdown",
   "metadata": {},
   "source": [
    "### 풀이1"
   ]
  },
  {
   "cell_type": "code",
   "execution_count": 5,
   "metadata": {},
   "outputs": [
    {
     "name": "stdout",
     "output_type": "stream",
     "text": [
      "1 2\n",
      "1 3\n",
      "1 3\n",
      "0 2\n",
      "0 1\n"
     ]
    }
   ],
   "source": [
    "def recursion(s, l, r):\n",
    "    if l >= r: return 1, l+1\n",
    "    elif s[l] != s[r]: return 0, l+1\n",
    "    else: return recursion(s, l+1, r-1)\n",
    "\n",
    "def isPalindrome(s):\n",
    "    return recursion(s, 0, len(s)-1)\n",
    "\n",
    "T = int(input())\n",
    "for _ in range(T):\n",
    "    S = input()\n",
    "    print(*isPalindrome(S))"
   ]
  },
  {
   "cell_type": "code",
   "execution_count": 6,
   "metadata": {},
   "outputs": [],
   "source": [
    "import sys\n",
    "def recursion(s, l, r):\n",
    "    if l >= r: return 1, l+1\n",
    "    elif s[l] != s[r]: return 0, l+1\n",
    "    else: return recursion(s, l+1, r-1)\n",
    "\n",
    "def isPalindrome(s):\n",
    "    return recursion(s, 0, len(s)-1)\n",
    "\n",
    "T = int(sys.stdin.readline())\n",
    "for _ in range(T):\n",
    "    S = sys.stdin.readline().rstrip()\n",
    "    print(*isPalindrome(S))"
   ]
  },
  {
   "cell_type": "markdown",
   "metadata": {},
   "source": [
    "## 24060번 - 알고리즘 수업 - 병합 정렬 1\n",
    "\n",
    "- 문제  \n",
    "    오늘도 서준이는 병합 정렬 수업 조교를 하고 있다. 아빠가 수업한 내용을 학생들이 잘 이해했는지 문제를 통해서 확인해보자.\n",
    "\n",
    "    N개의 서로 다른 양의 정수가 저장된 배열 A가 있다. 병합 정렬로 배열 A를 오름차순 정렬할 경우 배열 A에 K 번째 저장되는 수를 구해서 우리 서준이를 도와주자.\n",
    "\n",
    "    크기가 N인 배열에 대한 병합 정렬 의사 코드는 다음과 같다.\n",
    "\n",
    "    ```\n",
    "    merge_sort(A[p..r]) { # A[p..r]을 오름차순 정렬한다.\n",
    "        if (p < r) then {\n",
    "            q <- ⌊(p + r) / 2⌋;       # q는 p, r의 중간 지점\n",
    "            merge_sort(A, p, q);      # 전반부 정렬\n",
    "            merge_sort(A, q + 1, r);  # 후반부 정렬\n",
    "            merge(A, p, q, r);        # 병합\n",
    "        }\n",
    "    }\n",
    "\n",
    "    # A[p..q]와 A[q+1..r]을 병합하여 A[p..r]을 오름차순 정렬된 상태로 만든다.\n",
    "    # A[p..q]와 A[q+1..r]은 이미 오름차순으로 정렬되어 있다.\n",
    "    merge(A[], p, q, r) {\n",
    "        i <- p; j <- q + 1; t <- 1;\n",
    "        while (i ≤ q and j ≤ r) {\n",
    "            if (A[i] ≤ A[j])\n",
    "            then tmp[t++] <- A[i++]; # tmp[t] <- A[i]; t++; i++;\n",
    "            else tmp[t++] <- A[j++]; # tmp[t] <- A[j]; t++; j++;\n",
    "        }\n",
    "        while (i ≤ q)  # 왼쪽 배열 부분이 남은 경우\n",
    "            tmp[t++] <- A[i++];\n",
    "        while (j ≤ r)  # 오른쪽 배열 부분이 남은 경우\n",
    "            tmp[t++] <- A[j++];\n",
    "        i <- p; t <- 1;\n",
    "        while (i ≤ r)  # 결과를 A[p..r]에 저장\n",
    "            A[i++] <- tmp[t++]; \n",
    "    }\n",
    "    ```\n",
    "\n",
    "- 입력  \n",
    "    첫째 줄에 배열 A의 크기 N(5 ≤ N ≤ 500,000), 저장 횟수 K($1 ≤ K ≤ 10^8$)가 주어진다.\n",
    "\n",
    "    다음 줄에 서로 다른 배열 A의 원소 $A_1, A_2, ..., A_N$이 주어진다. ($1 ≤ A_i ≤ 109$)\n",
    "\n",
    "- 출력  \n",
    "    배열 A에 K 번째 저장 되는 수를 출력한다. 저장 횟수가 K 보다 작으면 -1을 출력한다.\n",
    "\n",
    "- 예제 입력1  \n",
    "    5 7  \n",
    "    4 5 1 3 2  \n",
    "- 예제 출력1  \n",
    "    3  \n",
    "    - 4 5 1 3 2 -> **4** 5 1 3 2 -> 4 **5** 1 3 2 -> **1** 5 1 3 2 -> 1 **4** 1 3 2 -> 1 4 **5** 3 2 -> 1 4 5 **2** 2 -> 1 4 5 2 **3** -> **1** 4 5 2 3 -> 1 **2** 5 2 3 -> 1 2 **3** 2 3 -> 1 2 3 **4** 3 -> 1 2 3 4 **5**. 총 12회 저장이 발생하고 일곱 번째 저장되는 수는 3이다.  \n",
    "- 예제 입력2  \n",
    "    5 13  \n",
    "    4 5 1 3 2  \n",
    "- 예제 출력2  \n",
    "    -1  \n",
    "    - 저장 횟수 12가 K 보다 작으므로 -1을 출력한다."
   ]
  },
  {
   "cell_type": "markdown",
   "metadata": {},
   "source": [
    "### 참고\n",
    "- https://www.daleseo.com/sort-merge/"
   ]
  },
  {
   "cell_type": "code",
   "execution_count": 21,
   "metadata": {},
   "outputs": [],
   "source": [
    "def merge_sort(arr):\n",
    "    def sort(low, high):\n",
    "        if high - low < 2:\n",
    "            return\n",
    "        mid = (low + high) // 2\n",
    "        sort(low, mid)\n",
    "        sort(mid, high)\n",
    "        merge(low, mid, high)\n",
    "\n",
    "    def merge(low, mid, high):\n",
    "        temp = []\n",
    "        l, m = low, mid\n",
    "        while l < mid and m < high:\n",
    "            if arr[l] < arr[m]:\n",
    "                temp.append(arr[l])\n",
    "                l += 1\n",
    "            else:\n",
    "                temp.append(arr[m])\n",
    "                m += 1\n",
    "\n",
    "        while l < mid:\n",
    "            temp.append(arr[l])\n",
    "            l += 1\n",
    "        while m < high:\n",
    "            temp.append(arr[m])\n",
    "            m += 1\n",
    "        for i in range(low, high):\n",
    "            arr[i] = temp[i - low]\n",
    "    return sort(0, len(arr))"
   ]
  },
  {
   "cell_type": "code",
   "execution_count": 22,
   "metadata": {},
   "outputs": [
    {
     "data": {
      "text/plain": [
       "[1, 2, 3, 4, 5]"
      ]
     },
     "execution_count": 22,
     "metadata": {},
     "output_type": "execute_result"
    }
   ],
   "source": [
    "a = [4, 5, 1, 3, 2]\n",
    "merge_sort(a)\n",
    "a"
   ]
  },
  {
   "cell_type": "code",
   "execution_count": 85,
   "metadata": {},
   "outputs": [],
   "source": [
    "def test(a, b):\n",
    "    global n\n",
    "    n = 0\n",
    "    if a - b < 2:\n",
    "        return\n",
    "    mid = (a + b) // 2\n",
    "    test(a, mid)\n",
    "    n += 1\n",
    "    print('test1')\n",
    "    test(mid, b)\n",
    "    n += 1\n",
    "    print('test2')\n",
    "    def m_test(a, mid, b):\n",
    "        print(f'{a}, {mid}, {b}')\n",
    "    m_test(a, mid, b)\n",
    "    n += 1"
   ]
  },
  {
   "cell_type": "code",
   "execution_count": 86,
   "metadata": {},
   "outputs": [],
   "source": [
    "test(1, 0)"
   ]
  },
  {
   "cell_type": "code",
   "execution_count": 87,
   "metadata": {},
   "outputs": [
    {
     "name": "stdout",
     "output_type": "stream",
     "text": [
      "test1\n",
      "test2\n",
      "2, 1, 0\n"
     ]
    }
   ],
   "source": [
    "test(2, 0)"
   ]
  },
  {
   "cell_type": "code",
   "execution_count": 88,
   "metadata": {},
   "outputs": [
    {
     "name": "stdout",
     "output_type": "stream",
     "text": [
      "test1\n",
      "test2\n",
      "5, 4, 3\n",
      "test1\n",
      "test2\n",
      "5, 3, 2\n",
      "test1\n",
      "test1\n",
      "test2\n",
      "2, 1, 0\n",
      "test2\n",
      "5, 2, 0\n"
     ]
    }
   ],
   "source": [
    "test(5, 0)"
   ]
  },
  {
   "cell_type": "code",
   "execution_count": 89,
   "metadata": {},
   "outputs": [
    {
     "data": {
      "text/plain": [
       "4"
      ]
     },
     "execution_count": 89,
     "metadata": {},
     "output_type": "execute_result"
    }
   ],
   "source": [
    "n"
   ]
  },
  {
   "cell_type": "code",
   "execution_count": 103,
   "metadata": {},
   "outputs": [],
   "source": [
    "def merge_sort(arr):\n",
    "    def sort(low, high):\n",
    "        global num1\n",
    "        num1 = 0\n",
    "        if high - low < 2:\n",
    "            return\n",
    "        mid = (low + high) // 2\n",
    "        sort(low, mid)\n",
    "        num1 += 1\n",
    "        print(f'num1 = {num1}')\n",
    "        print()\n",
    "        sort(mid, high)\n",
    "        num1 += 1\n",
    "        print(f'num1 = {num1}')\n",
    "        print()\n",
    "        merge(low, mid, high)\n",
    "        num1 += 1\n",
    "        print(f'num1 = {num1}')\n",
    "        print()\n",
    "\n",
    "    def merge(low, mid, high):\n",
    "        global num2\n",
    "        num2 = 1\n",
    "        temp = []\n",
    "        l, m = low, mid\n",
    "        while l < mid and m < high:\n",
    "            if arr[l] < arr[m]:\n",
    "                temp.append(arr[l])\n",
    "                print(arr[l])\n",
    "                l += 1\n",
    "                num2 += 1\n",
    "                print(f'num2 = {num2}')\n",
    "                print(temp)\n",
    "                print()\n",
    "            else:\n",
    "                temp.append(arr[m])\n",
    "                print(arr[m])\n",
    "                m += 1\n",
    "                num2 += 1\n",
    "                print(f'num2 = {num2}')\n",
    "                print(temp)\n",
    "                print()\n",
    "        while l < mid:\n",
    "            temp.append(arr[l])\n",
    "            print(arr[l])\n",
    "            l += 1\n",
    "            num2 += 1\n",
    "            print(f'num2 = {num2}')\n",
    "            print(temp)\n",
    "            print()\n",
    "        while m < high:\n",
    "            temp.append(arr[m])\n",
    "            print(arr[m])\n",
    "            m += 1\n",
    "            num2 += 1\n",
    "            print(f'num2 = {num2}')\n",
    "            print(temp)\n",
    "            print()\n",
    "        for i in range(low, high):\n",
    "            arr[i] = temp[i - low]\n",
    "    return sort(0, len(arr))"
   ]
  },
  {
   "cell_type": "code",
   "execution_count": 104,
   "metadata": {},
   "outputs": [
    {
     "name": "stdout",
     "output_type": "stream",
     "text": [
      "num1 = 1\n",
      "\n",
      "num1 = 1\n",
      "\n",
      "4\n",
      "num2 = 2\n",
      "[4]\n",
      "\n",
      "5\n",
      "num2 = 3\n",
      "[4, 5]\n",
      "\n",
      "num1 = 2\n",
      "\n",
      "num1 = 3\n",
      "\n",
      "num1 = 1\n",
      "\n",
      "num1 = 1\n",
      "\n",
      "num1 = 1\n",
      "\n",
      "2\n",
      "num2 = 2\n",
      "[2]\n",
      "\n",
      "3\n",
      "num2 = 3\n",
      "[2, 3]\n",
      "\n",
      "num1 = 2\n",
      "\n",
      "num1 = 3\n",
      "\n",
      "1\n",
      "num2 = 2\n",
      "[1]\n",
      "\n",
      "2\n",
      "num2 = 3\n",
      "[1, 2]\n",
      "\n",
      "3\n",
      "num2 = 4\n",
      "[1, 2, 3]\n",
      "\n",
      "num1 = 4\n",
      "\n",
      "num1 = 5\n",
      "\n",
      "1\n",
      "num2 = 2\n",
      "[1]\n",
      "\n",
      "2\n",
      "num2 = 3\n",
      "[1, 2]\n",
      "\n",
      "3\n",
      "num2 = 4\n",
      "[1, 2, 3]\n",
      "\n",
      "4\n",
      "num2 = 5\n",
      "[1, 2, 3, 4]\n",
      "\n",
      "5\n",
      "num2 = 6\n",
      "[1, 2, 3, 4, 5]\n",
      "\n",
      "num1 = 6\n",
      "\n"
     ]
    },
    {
     "data": {
      "text/plain": [
       "([1, 2, 3, 4, 5], 6, 6)"
      ]
     },
     "execution_count": 104,
     "metadata": {},
     "output_type": "execute_result"
    }
   ],
   "source": [
    "a = [4, 5, 1, 3, 2]\n",
    "merge_sort(a)\n",
    "a, num1, num2"
   ]
  },
  {
   "cell_type": "code",
   "execution_count": 134,
   "metadata": {},
   "outputs": [],
   "source": [
    "def merge_sort(arr):\n",
    "    global n, s, d\n",
    "    n, s = 0, 0\n",
    "    d = dict()\n",
    "    def sort(low, high):\n",
    "        if high - low < 2:\n",
    "            return\n",
    "        mid = (low + high) // 2\n",
    "        sort(low, mid)\n",
    "        sort(mid, high)\n",
    "        merge(low, mid, high)\n",
    "\n",
    "    def merge(low, mid, high):\n",
    "        global n, s, d\n",
    "        temp = []\n",
    "        l, m = low, mid\n",
    "        while l < mid and m < high:\n",
    "            if arr[l] < arr[m]:\n",
    "                n += 1\n",
    "                d[n] = arr[l]\n",
    "                print(f'n = {n}')\n",
    "                print(arr[l])\n",
    "                print()\n",
    "                temp.append(arr[l])\n",
    "                l += 1\n",
    "            else:\n",
    "                n += 1\n",
    "                d[n] = arr[m]\n",
    "                print(f'n = {n}')\n",
    "                print(arr[m])\n",
    "                print()\n",
    "                temp.append(arr[m])\n",
    "                m += 1\n",
    "        while l < mid:\n",
    "            n += 1\n",
    "            d[n] = arr[l]\n",
    "            print(f'n = {n}')\n",
    "            print(arr[l])\n",
    "            print(temp)\n",
    "            temp.append(arr[l])\n",
    "            l += 1\n",
    "        while m < high:\n",
    "            n += 1\n",
    "            d[n] = arr[m]\n",
    "            print(f'n = {n}')\n",
    "            print(arr[m])\n",
    "            print()\n",
    "            temp.append(arr[m])\n",
    "            m += 1\n",
    "        for i in range(low, high):\n",
    "            arr[i] = temp[i - low]\n",
    "        print(temp)\n",
    "        print(arr)\n",
    "        print()\n",
    "    return sort(0, len(arr))"
   ]
  },
  {
   "cell_type": "code",
   "execution_count": 137,
   "metadata": {},
   "outputs": [
    {
     "name": "stdout",
     "output_type": "stream",
     "text": [
      "n = 1\n",
      "4\n",
      "\n",
      "n = 2\n",
      "5\n",
      "\n",
      "[4, 5]\n",
      "[4, 5, 1, 3, 2]\n",
      "\n",
      "n = 3\n",
      "2\n",
      "\n",
      "n = 4\n",
      "3\n",
      "[2]\n",
      "[2, 3]\n",
      "[4, 5, 1, 2, 3]\n",
      "\n",
      "n = 5\n",
      "1\n",
      "\n",
      "n = 6\n",
      "2\n",
      "\n",
      "n = 7\n",
      "3\n",
      "\n",
      "[1, 2, 3]\n",
      "[4, 5, 1, 2, 3]\n",
      "\n",
      "n = 8\n",
      "1\n",
      "\n",
      "n = 9\n",
      "2\n",
      "\n",
      "n = 10\n",
      "3\n",
      "\n",
      "n = 11\n",
      "4\n",
      "[1, 2, 3]\n",
      "n = 12\n",
      "5\n",
      "[1, 2, 3, 4]\n",
      "[1, 2, 3, 4, 5]\n",
      "[1, 2, 3, 4, 5]\n",
      "\n"
     ]
    },
    {
     "data": {
      "text/plain": [
       "[1, 2, 3, 4, 5]"
      ]
     },
     "execution_count": 137,
     "metadata": {},
     "output_type": "execute_result"
    }
   ],
   "source": [
    "a = [4, 5, 1, 3, 2]\n",
    "merge_sort(a)\n",
    "a"
   ]
  },
  {
   "cell_type": "code",
   "execution_count": 136,
   "metadata": {},
   "outputs": [
    {
     "data": {
      "text/plain": [
       "{1: 4, 2: 5, 3: 2, 4: 3, 5: 1, 6: 2, 7: 3, 8: 1, 9: 2, 10: 3, 11: 4, 12: 5}"
      ]
     },
     "execution_count": 136,
     "metadata": {},
     "output_type": "execute_result"
    }
   ],
   "source": [
    "d"
   ]
  },
  {
   "cell_type": "code",
   "execution_count": 138,
   "metadata": {},
   "outputs": [],
   "source": [
    "def merge_sort(arr):\n",
    "    global n, d\n",
    "    n = 0\n",
    "    d = dict()\n",
    "    def sort(low, high):\n",
    "        if high - low < 2:\n",
    "            return\n",
    "        mid = (low + high) // 2\n",
    "        sort(low, mid)\n",
    "        sort(mid, high)\n",
    "        merge(low, mid, high)\n",
    "\n",
    "    def merge(low, mid, high):\n",
    "        global n, s, d\n",
    "        temp = []\n",
    "        l, m = low, mid\n",
    "        while l < mid and m < high:\n",
    "            if arr[l] < arr[m]:\n",
    "                n += 1\n",
    "                d[n] = arr[l]\n",
    "                temp.append(arr[l])\n",
    "                l += 1\n",
    "            else:\n",
    "                n += 1\n",
    "                d[n] = arr[m]\n",
    "                temp.append(arr[m])\n",
    "                m += 1\n",
    "        while l < mid:\n",
    "            n += 1\n",
    "            d[n] = arr[l]\n",
    "            temp.append(arr[l])\n",
    "            l += 1\n",
    "        while m < high:\n",
    "            n += 1\n",
    "            d[n] = arr[m]\n",
    "            temp.append(arr[m])\n",
    "            m += 1\n",
    "        for i in range(low, high):\n",
    "            arr[i] = temp[i - low]\n",
    "    return sort(0, len(arr))"
   ]
  },
  {
   "cell_type": "code",
   "execution_count": 139,
   "metadata": {},
   "outputs": [
    {
     "data": {
      "text/plain": [
       "[1, 2, 3, 4, 5]"
      ]
     },
     "execution_count": 139,
     "metadata": {},
     "output_type": "execute_result"
    }
   ],
   "source": [
    "a = [4, 5, 1, 3, 2]\n",
    "merge_sort(a)\n",
    "a"
   ]
  },
  {
   "cell_type": "code",
   "execution_count": 140,
   "metadata": {},
   "outputs": [
    {
     "data": {
      "text/plain": [
       "{1: 4, 2: 5, 3: 2, 4: 3, 5: 1, 6: 2, 7: 3, 8: 1, 9: 2, 10: 3, 11: 4, 12: 5}"
      ]
     },
     "execution_count": 140,
     "metadata": {},
     "output_type": "execute_result"
    }
   ],
   "source": [
    "d"
   ]
  },
  {
   "cell_type": "markdown",
   "metadata": {},
   "source": [
    "### 풀이1(틀림)"
   ]
  },
  {
   "cell_type": "code",
   "execution_count": 1,
   "metadata": {},
   "outputs": [
    {
     "name": "stdout",
     "output_type": "stream",
     "text": [
      "3\n"
     ]
    }
   ],
   "source": [
    "def merge_sort(arr):\n",
    "    global n, d\n",
    "    n = 0\n",
    "    d = dict()\n",
    "    def sort(low, high):\n",
    "        if high - low < 2:\n",
    "            return\n",
    "        mid = (low + high) // 2\n",
    "        sort(low, mid)\n",
    "        sort(mid, high)\n",
    "        merge(low, mid, high)\n",
    "\n",
    "    def merge(low, mid, high):\n",
    "        global n, d\n",
    "        temp = []\n",
    "        l, m = low, mid\n",
    "        while l < mid and m < high:\n",
    "            if arr[l] < arr[m]:\n",
    "                n += 1\n",
    "                d[n] = arr[l]\n",
    "                temp.append(arr[l])\n",
    "                l += 1\n",
    "            else:\n",
    "                n += 1\n",
    "                d[n] = arr[m]\n",
    "                temp.append(arr[m])\n",
    "                m += 1\n",
    "        while l < mid:\n",
    "            n += 1\n",
    "            d[n] = arr[l]\n",
    "            temp.append(arr[l])\n",
    "            l += 1\n",
    "        while m < high:\n",
    "            n += 1\n",
    "            d[n] = arr[m]\n",
    "            temp.append(arr[m])\n",
    "            m += 1\n",
    "        for i in range(low, high):\n",
    "            arr[i] = temp[i - low]\n",
    "    return sort(0, len(arr))\n",
    "N, K = map(int, input().split())\n",
    "A = list(map(int, input().split()))\n",
    "merge_sort(A)\n",
    "try:\n",
    "    print(d[K])\n",
    "except:\n",
    "    print(-1)"
   ]
  },
  {
   "cell_type": "code",
   "execution_count": 2,
   "metadata": {},
   "outputs": [
    {
     "data": {
      "text/plain": [
       "{1: 4, 2: 5, 3: 2, 4: 3, 5: 1, 6: 2, 7: 3, 8: 1, 9: 2, 10: 3, 11: 4, 12: 5}"
      ]
     },
     "execution_count": 2,
     "metadata": {},
     "output_type": "execute_result"
    }
   ],
   "source": [
    "d"
   ]
  },
  {
   "cell_type": "markdown",
   "metadata": {},
   "source": [
    "### 참고\n",
    "- https://bblackscene21.tistory.com/8"
   ]
  },
  {
   "cell_type": "code",
   "execution_count": 5,
   "metadata": {},
   "outputs": [
    {
     "name": "stdout",
     "output_type": "stream",
     "text": [
      "[1, 2, 3, 4, 5]\n"
     ]
    }
   ],
   "source": [
    "sublist = [4, 5, 1, 3, 2]\n",
    "\n",
    "def mergeSort(list):\n",
    "\tsize = len(list)\n",
    "\tif size <= 1: return list\n",
    "\n",
    "\tmid = len(list) // 2\n",
    "\tleft = mergeSort(list[:mid])\n",
    "\tright = mergeSort(list[mid:])\n",
    "\tmerged = merge(left, right)\n",
    "\treturn merged\n",
    "\n",
    "def merge(list1, list2):\n",
    "\tglobal n, d\n",
    "\tn = 0\n",
    "\td = dict()\n",
    "\tmerged = []\n",
    "\twhile len(list1) > 0 and len(list2) > 0:\n",
    "\t\tn += 1\n",
    "\t\tif list1[0] <= list2[0]:\n",
    "\t\t\td[n] = list1[0]\n",
    "\t\t\tmerged.append(list1.pop(0))\n",
    "\t\telse:\n",
    "\t\t\td[n] = list2[0]\n",
    "\t\t\tmerged.append(list2.pop(0))\n",
    "\n",
    "\tif len(list1) > 0:\n",
    "\t\tmerged += list1\n",
    "\t\tn += 1\n",
    "\t\td[n] = list1\n",
    "\tif len(list2) > 0:\n",
    "\t\tmerged += list2\n",
    "\t\tn += 1\n",
    "\t\td[n] = list2\n",
    "\n",
    "\treturn merged\n",
    "\n",
    "\n",
    "sorted = mergeSort(sublist)\n",
    "print (sorted)"
   ]
  },
  {
   "cell_type": "code",
   "execution_count": 6,
   "metadata": {},
   "outputs": [
    {
     "data": {
      "text/plain": [
       "{1: 1, 2: 2, 3: 3, 4: [4, 5]}"
      ]
     },
     "execution_count": 6,
     "metadata": {},
     "output_type": "execute_result"
    }
   ],
   "source": [
    "d"
   ]
  },
  {
   "cell_type": "code",
   "execution_count": null,
   "metadata": {},
   "outputs": [],
   "source": [
    "def mergeSort(list,p,q): #q= inclusive\n",
    "\tif p>= q: return\n",
    "\tmid = (p + q) // 2\n",
    "\tmergeSort(list, p, mid)\n",
    "\tmergeSort(list, mid+ 1, q)\n",
    "\tmerge(list, p, mid + 1, q)\n",
    "\n",
    "def merge(list, left, right, end):\n",
    "\tglobal num, d\n",
    "\tnum = 0\n",
    "\td = dict()\n",
    "\tmerged = []\n",
    "\tl, r = left, right\n",
    "\twhile l < right and r <= end:\n",
    "\t\tnum += 1\n",
    "\t\tif list[l] <= list[r]:\n",
    "\t\t\td[num] = list[l]\n",
    "\t\t\tmerged.append(list[l])\n",
    "\t\t\tl +=1\n",
    "\t\telse:\n",
    "\t\t\td[num] = list[r]\n",
    "\t\t\tmerged.append(list[r])\n",
    "\t\t\tr +=1\n",
    "\twhile l < right:\n",
    "\t\tnum += 1\n",
    "\t\td[num] = list[l]\n",
    "\t\tmerged.append(list[l])\n",
    "\t\tl +=1\n",
    "\twhile r <= end:\n",
    "\t\tnum += 1\n",
    "\t\td[num] = list[r]\n",
    "\t\tmerged.append(list[r])\n",
    "\t\tr+=1\n",
    "\n",
    "\tl = left\n",
    "\tfor n in merged:\n",
    "\t\tnum += 1\n",
    "\t\td[num] = n\n",
    "\t\tlist[l] = n\t\n",
    "\t\tl +=1\n",
    "\n",
    "sublist = [4, 5, 1, 3, 2]\n",
    "print(sublist)\n",
    "sorted = mergeSort(sublist, 0, len(sublist) - 1)\n",
    "print(sublist)"
   ]
  },
  {
   "cell_type": "code",
   "execution_count": 5,
   "metadata": {},
   "outputs": [
    {
     "name": "stdout",
     "output_type": "stream",
     "text": [
      "[4, 5, 1, 3, 2]\n",
      "[1, 2, 3, 4, 5]\n"
     ]
    }
   ],
   "source": [
    "def mergeSort(list,p,q): #q= inclusive\n",
    "\tif p>= q: return\n",
    "\tmid = (p + q) // 2\n",
    "\tmergeSort(list, p, mid)\n",
    "\tmergeSort(list, mid+ 1, q)\n",
    "\tmerge(list, p, mid + 1, q)\n",
    "\n",
    "def merge(list, left, right, end):\n",
    "\tmerged = []\n",
    "\tl, r = left, right\n",
    "\twhile l < right and r <= end:\n",
    "\t\tif list[l] <= list[r]:\n",
    "\t\t\tmerged.append(list[l])\n",
    "\t\t\tl +=1\n",
    "\t\telse:\n",
    "\t\t\tmerged.append(list[r])\n",
    "\t\t\tr +=1\n",
    "\twhile l < right:\n",
    "\t\tmerged.append(list[l])\n",
    "\t\tl +=1\n",
    "\twhile r <= end:\n",
    "\t\tmerged.append(list[r])\n",
    "\t\tr+=1\n",
    "\n",
    "\tl = left\n",
    "\tfor n in merged:\n",
    "\t\tlist[l] = n\t\n",
    "\t\tl +=1\n",
    "\n",
    "sublist = [4, 5, 1, 3, 2]\n",
    "print(sublist)\n",
    "sorted = mergeSort(sublist, 0, len(sublist) - 1)\n",
    "print(sublist)"
   ]
  },
  {
   "cell_type": "code",
   "execution_count": 10,
   "metadata": {},
   "outputs": [
    {
     "data": {
      "text/plain": [
       "{1: 1, 2: 2, 3: 3, 4: 4, 5: 5, 6: 1, 7: 2, 8: 3, 9: 4, 10: 5}"
      ]
     },
     "execution_count": 10,
     "metadata": {},
     "output_type": "execute_result"
    }
   ],
   "source": [
    "d"
   ]
  },
  {
   "cell_type": "code",
   "execution_count": 34,
   "metadata": {},
   "outputs": [],
   "source": [
    "def merge_sort(arr):\n",
    "    global num, n_dict\n",
    "    num, n_dict = 0, dict()\n",
    "    def sort(start, end):\n",
    "        if start >= end:\n",
    "            return\n",
    "        mid = (start + end) // 2\n",
    "        sort(start, mid)\n",
    "        sort(mid + 1, end)\n",
    "        merge(start, mid, end)\n",
    "\n",
    "    def merge(start, mid, end):\n",
    "        global num, n_dict\n",
    "        print(f'arr = {arr}')\n",
    "        print(f'start, mid, end = {start}, {mid}, {end}')\n",
    "        s, m = start, mid + 1\n",
    "        temp = []\n",
    "        while s <= mid and m <= end:\n",
    "            if arr[s] <= arr[m]:\n",
    "                temp.append(arr[s])\n",
    "                s += 1\n",
    "            else:\n",
    "                temp.append(arr[m])\n",
    "                m += 1\n",
    "        while s <= mid:\n",
    "            temp.append(arr[s])\n",
    "            s += 1\n",
    "        while m <= end:\n",
    "            temp.append(arr[m])\n",
    "            m += 1\n",
    "        s = start\n",
    "        t = 0\n",
    "        while s <= end:\n",
    "            num += 1\n",
    "            n_dict[num] = temp[t]\n",
    "            print(f'arr = {arr}')\n",
    "            print(f'temp = {temp}')\n",
    "            arr[s] = temp[t]\n",
    "            print(f'arr = {arr}')\n",
    "            print('===============')\n",
    "            s += 1\n",
    "            t += 1\n",
    "    return sort(0, len(arr) - 1)"
   ]
  },
  {
   "cell_type": "code",
   "execution_count": 35,
   "metadata": {},
   "outputs": [
    {
     "name": "stdout",
     "output_type": "stream",
     "text": [
      "arr = [4, 5, 1, 3, 2]\n",
      "start, mid, end = 0, 0, 1\n",
      "arr = [4, 5, 1, 3, 2]\n",
      "temp = [4, 5]\n",
      "arr = [4, 5, 1, 3, 2]\n",
      "===============\n",
      "arr = [4, 5, 1, 3, 2]\n",
      "temp = [4, 5]\n",
      "arr = [4, 5, 1, 3, 2]\n",
      "===============\n",
      "arr = [4, 5, 1, 3, 2]\n",
      "start, mid, end = 0, 1, 2\n",
      "arr = [4, 5, 1, 3, 2]\n",
      "temp = [1, 4, 5]\n",
      "arr = [1, 5, 1, 3, 2]\n",
      "===============\n",
      "arr = [1, 5, 1, 3, 2]\n",
      "temp = [1, 4, 5]\n",
      "arr = [1, 4, 1, 3, 2]\n",
      "===============\n",
      "arr = [1, 4, 1, 3, 2]\n",
      "temp = [1, 4, 5]\n",
      "arr = [1, 4, 5, 3, 2]\n",
      "===============\n",
      "arr = [1, 4, 5, 3, 2]\n",
      "start, mid, end = 3, 3, 4\n",
      "arr = [1, 4, 5, 3, 2]\n",
      "temp = [2, 3]\n",
      "arr = [1, 4, 5, 2, 2]\n",
      "===============\n",
      "arr = [1, 4, 5, 2, 2]\n",
      "temp = [2, 3]\n",
      "arr = [1, 4, 5, 2, 3]\n",
      "===============\n",
      "arr = [1, 4, 5, 2, 3]\n",
      "start, mid, end = 0, 2, 4\n",
      "arr = [1, 4, 5, 2, 3]\n",
      "temp = [1, 2, 3, 4, 5]\n",
      "arr = [1, 4, 5, 2, 3]\n",
      "===============\n",
      "arr = [1, 4, 5, 2, 3]\n",
      "temp = [1, 2, 3, 4, 5]\n",
      "arr = [1, 2, 5, 2, 3]\n",
      "===============\n",
      "arr = [1, 2, 5, 2, 3]\n",
      "temp = [1, 2, 3, 4, 5]\n",
      "arr = [1, 2, 3, 2, 3]\n",
      "===============\n",
      "arr = [1, 2, 3, 2, 3]\n",
      "temp = [1, 2, 3, 4, 5]\n",
      "arr = [1, 2, 3, 4, 3]\n",
      "===============\n",
      "arr = [1, 2, 3, 4, 3]\n",
      "temp = [1, 2, 3, 4, 5]\n",
      "arr = [1, 2, 3, 4, 5]\n",
      "===============\n",
      "sorted a = [1, 2, 3, 4, 5]\n"
     ]
    }
   ],
   "source": [
    "a = [4, 5, 1, 3, 2]\n",
    "# print(a)\n",
    "merge_sort(a)\n",
    "print(f'sorted a = {a}')"
   ]
  },
  {
   "cell_type": "code",
   "execution_count": 36,
   "metadata": {},
   "outputs": [
    {
     "data": {
      "text/plain": [
       "12"
      ]
     },
     "execution_count": 36,
     "metadata": {},
     "output_type": "execute_result"
    }
   ],
   "source": [
    "num"
   ]
  },
  {
   "cell_type": "code",
   "execution_count": 37,
   "metadata": {},
   "outputs": [
    {
     "data": {
      "text/plain": [
       "{1: 4, 2: 5, 3: 1, 4: 4, 5: 5, 6: 2, 7: 3, 8: 1, 9: 2, 10: 3, 11: 4, 12: 5}"
      ]
     },
     "execution_count": 37,
     "metadata": {},
     "output_type": "execute_result"
    }
   ],
   "source": [
    "n_dict"
   ]
  },
  {
   "cell_type": "markdown",
   "metadata": {},
   "source": [
    "### 풀이2(시간 초과)"
   ]
  },
  {
   "cell_type": "code",
   "execution_count": 50,
   "metadata": {},
   "outputs": [],
   "source": [
    "def merge_sort(arr):\n",
    "    global num, ndict\n",
    "    num, ndict = 0, dict()\n",
    "    def sort(start, end):\n",
    "        if start >= end:\n",
    "            return\n",
    "        mid = (start + end) // 2\n",
    "        sort(start, mid)\n",
    "        sort(mid + 1, end)\n",
    "        merge(start, mid, end)\n",
    "\n",
    "    def merge(start, mid, end):\n",
    "        global num, ndict\n",
    "        s, m = start, mid + 1\n",
    "        temp = []\n",
    "        while s <= mid and m <= end:\n",
    "            if arr[s] <= arr[m]:\n",
    "                temp.append(arr[s])\n",
    "                s += 1\n",
    "            else:\n",
    "                temp.append(arr[m])\n",
    "                m += 1\n",
    "        while s <= mid:\n",
    "            temp.append(arr[s])\n",
    "            s += 1\n",
    "        while m <= end:\n",
    "            temp.append(arr[m])\n",
    "            m += 1\n",
    "        s = start\n",
    "        t = 0\n",
    "        while s <= end:\n",
    "            num += 1\n",
    "            ndict[num] = temp[t]\n",
    "            arr[s] = temp[t]\n",
    "            s += 1\n",
    "            t += 1\n",
    "    return sort(0, len(arr) - 1)\n",
    "\n",
    "N, K = map(int, input().split())\n",
    "arr = list(map(int, input().split()))\n",
    "d = dict()\n",
    "merge_sort(arr)"
   ]
  },
  {
   "cell_type": "code",
   "execution_count": 51,
   "metadata": {},
   "outputs": [
    {
     "data": {
      "text/plain": [
       "3"
      ]
     },
     "execution_count": 51,
     "metadata": {},
     "output_type": "execute_result"
    }
   ],
   "source": [
    "ndict[K]"
   ]
  },
  {
   "cell_type": "code",
   "execution_count": 52,
   "metadata": {},
   "outputs": [
    {
     "data": {
      "text/plain": [
       "[1, 2, 3, 4, 5]"
      ]
     },
     "execution_count": 52,
     "metadata": {},
     "output_type": "execute_result"
    }
   ],
   "source": [
    "arr"
   ]
  },
  {
   "cell_type": "markdown",
   "metadata": {},
   "source": [
    "### 풀이3(시간 초과)"
   ]
  },
  {
   "cell_type": "code",
   "execution_count": null,
   "metadata": {},
   "outputs": [],
   "source": [
    "import sys\n",
    "def merge_sort(arr):\n",
    "    global num, n_dict\n",
    "    num, n_dict = 0, dict()\n",
    "    def sort(start, end):\n",
    "        if start >= end:\n",
    "            return\n",
    "        mid = (start + end) // 2\n",
    "        sort(start, mid)\n",
    "        sort(mid + 1, end)\n",
    "        merge(start, mid, end)\n",
    "\n",
    "    def merge(start, mid, end):\n",
    "        global num, n_dict\n",
    "        s, m = start, mid + 1\n",
    "        temp = []\n",
    "        while s <= mid and m <= end:\n",
    "            if arr[s] <= arr[m]:\n",
    "                temp.append(arr[s])\n",
    "                s += 1\n",
    "            else:\n",
    "                temp.append(arr[m])\n",
    "                m += 1\n",
    "        while s <= mid:\n",
    "            temp.append(arr[s])\n",
    "            s += 1\n",
    "        while m <= end:\n",
    "            temp.append(arr[m])\n",
    "            m += 1\n",
    "        s = start\n",
    "        t = 0\n",
    "        while s <= end:\n",
    "            num += 1\n",
    "            n_dict[num] = temp[t]\n",
    "            arr[s] = temp[t]\n",
    "            s += 1\n",
    "            t += 1\n",
    "    return sort(0, len(arr) - 1)\n",
    "\n",
    "N, K = map(int, sys.stdin.readline().rstrip().split())\n",
    "arr = list(map(int, sys.stdin.readline().rstrip().split()))\n",
    "merge_sort(arr)\n",
    "print(n_dict[K])"
   ]
  },
  {
   "cell_type": "markdown",
   "metadata": {},
   "source": [
    "### 풀이4(시간 초과)"
   ]
  },
  {
   "cell_type": "code",
   "execution_count": 62,
   "metadata": {},
   "outputs": [
    {
     "name": "stdout",
     "output_type": "stream",
     "text": [
      "3\n"
     ]
    }
   ],
   "source": [
    "def merge_sort(arr):\n",
    "    global num, ndict\n",
    "    num, ndict = 0, dict()\n",
    "    def sort(start, end):\n",
    "        if start >= end:\n",
    "            return\n",
    "        mid = (start + end) // 2\n",
    "        sort(start, mid)\n",
    "        sort(mid + 1, end)\n",
    "        merge(start, mid, end)\n",
    "\n",
    "    def merge(start, mid, end):\n",
    "        global num, ndict\n",
    "        s, m = start, mid + 1\n",
    "        temp = []\n",
    "        while s <= mid and m <= end:\n",
    "            if arr[s] <= arr[m]:\n",
    "                temp.append(arr[s])\n",
    "                s += 1\n",
    "            else:\n",
    "                temp.append(arr[m])\n",
    "                m += 1\n",
    "        while s <= mid:\n",
    "            temp.append(arr[s])\n",
    "            s += 1\n",
    "        while m <= end:\n",
    "            temp.append(arr[m])\n",
    "            m += 1\n",
    "        s = start\n",
    "        t = 0\n",
    "        while s <= end:\n",
    "            num += 1\n",
    "            ndict[num] = temp[t]\n",
    "            arr[s] = temp[t]\n",
    "            s += 1\n",
    "            t += 1\n",
    "    return sort(0, len(arr) - 1)\n",
    "\n",
    "N, K = map(int, input().split())\n",
    "arr = list(map(int, input().split()))\n",
    "d = dict()\n",
    "merge_sort(arr)\n",
    "if num >= K:\n",
    "    print(ndict[K])\n",
    "else:\n",
    "    print(-1)"
   ]
  },
  {
   "cell_type": "code",
   "execution_count": 61,
   "metadata": {},
   "outputs": [
    {
     "data": {
      "text/plain": [
       "{1: 4, 2: 5, 3: 1, 4: 4, 5: 5, 6: 2, 7: 3, 8: 1, 9: 2, 10: 3, 11: 4, 12: 5}"
      ]
     },
     "execution_count": 61,
     "metadata": {},
     "output_type": "execute_result"
    }
   ],
   "source": [
    "ndict"
   ]
  },
  {
   "cell_type": "markdown",
   "metadata": {},
   "source": [
    "### 풀이5(시간 초과)"
   ]
  },
  {
   "cell_type": "code",
   "execution_count": 67,
   "metadata": {},
   "outputs": [
    {
     "name": "stdout",
     "output_type": "stream",
     "text": [
      "-1\n"
     ]
    }
   ],
   "source": [
    "def merge_sort(arr):\n",
    "    def sort(start, end):\n",
    "        if start >= end:\n",
    "            return\n",
    "        mid = (start + end) // 2\n",
    "        sort(start, mid)\n",
    "        sort(mid + 1, end)\n",
    "        merge(start, mid, end)\n",
    "\n",
    "    def merge(start, mid, end):\n",
    "        s, m = start, mid + 1\n",
    "        temp = []\n",
    "        while s <= mid and m <= end:\n",
    "            if arr[s] <= arr[m]:\n",
    "                temp.append(arr[s])\n",
    "                s += 1\n",
    "            else:\n",
    "                temp.append(arr[m])\n",
    "                m += 1\n",
    "        while s <= mid:\n",
    "            temp.append(arr[s])\n",
    "            s += 1\n",
    "        while m <= end:\n",
    "            temp.append(arr[m])\n",
    "            m += 1\n",
    "        s = start\n",
    "        t = 0\n",
    "        while s <= end:\n",
    "            ndict[len(ndict) + 1] = temp[t]\n",
    "            arr[s] = temp[t]\n",
    "            s += 1\n",
    "            t += 1\n",
    "    return sort(0, len(arr) - 1)\n",
    "\n",
    "N, K = map(int, input().split())\n",
    "arr = list(map(int, input().split()))\n",
    "ndict = dict()\n",
    "merge_sort(arr)\n",
    "if len(ndict) >= K:\n",
    "    print(ndict[K])\n",
    "else:\n",
    "    print(-1)"
   ]
  },
  {
   "cell_type": "code",
   "execution_count": 65,
   "metadata": {},
   "outputs": [
    {
     "data": {
      "text/plain": [
       "[10, 11, 3, 4, 5]"
      ]
     },
     "execution_count": 65,
     "metadata": {},
     "output_type": "execute_result"
    }
   ],
   "source": [
    "a = [1, 2, 3, 4, 5]\n",
    "b = [10, 11]\n",
    "a[:2] = b\n",
    "a"
   ]
  },
  {
   "cell_type": "markdown",
   "metadata": {},
   "source": [
    "### 풀이6(틀림)"
   ]
  },
  {
   "cell_type": "code",
   "execution_count": null,
   "metadata": {},
   "outputs": [],
   "source": [
    "def merge_sort(arr):\n",
    "    def sort(start, end):\n",
    "        if start >= end:\n",
    "            return\n",
    "        mid = (start + end) // 2\n",
    "        sort(start, mid)\n",
    "        sort(mid + 1, end)\n",
    "        merge(start, mid, end)\n",
    "\n",
    "    def merge(start, mid, end):\n",
    "        s, m = start, mid + 1\n",
    "        temp = []\n",
    "        while s <= mid and m <= end:\n",
    "            if arr[s] <= arr[m]:\n",
    "                temp.append(arr[s])\n",
    "                s += 1\n",
    "            else:\n",
    "                temp.append(arr[m])\n",
    "                m += 1\n",
    "        while s <= mid:\n",
    "            temp.append(arr[s])\n",
    "            s += 1\n",
    "        while m <= end:\n",
    "            temp.append(arr[m])\n",
    "            m += 1\n",
    "        s = start\n",
    "        t = 0\n",
    "        while s <= end:\n",
    "            ndict[len(ndict) + 1] = temp[t]\n",
    "            s += 1\n",
    "            t += 1\n",
    "        arr[:len(temp)] = temp\n",
    "    return sort(0, len(arr) - 1)\n",
    "\n",
    "N, K = map(int, input().split())\n",
    "arr = list(map(int, input().split()))\n",
    "ndict = dict()\n",
    "merge_sort(arr)\n",
    "if len(ndict) >= K:\n",
    "    print(ndict[K])\n",
    "else:\n",
    "    print(-1)"
   ]
  },
  {
   "cell_type": "code",
   "execution_count": null,
   "metadata": {},
   "outputs": [],
   "source": [
    "import sys\n",
    "def merge_sort(arr):\n",
    "    def sort(start, end):\n",
    "        if start >= end:\n",
    "            return\n",
    "        mid = (start + end) // 2\n",
    "        sort(start, mid)\n",
    "        sort(mid + 1, end)\n",
    "        merge(start, mid, end)\n",
    "\n",
    "    def merge(start, mid, end):\n",
    "        s, m = start, mid + 1\n",
    "        temp = []\n",
    "        while s <= mid and m <= end:\n",
    "            if arr[s] <= arr[m]:\n",
    "                temp.append(arr[s])\n",
    "                s += 1\n",
    "            else:\n",
    "                temp.append(arr[m])\n",
    "                m += 1\n",
    "        while s <= mid:\n",
    "            temp.append(arr[s])\n",
    "            s += 1\n",
    "        while m <= end:\n",
    "            temp.append(arr[m])\n",
    "            m += 1\n",
    "        s = start\n",
    "        t = 0\n",
    "        while s <= end:\n",
    "            ndict[len(ndict) + 1] = temp[t]\n",
    "            s += 1\n",
    "            t += 1\n",
    "        arr[:len(temp)] = temp\n",
    "    return sort(0, len(arr) - 1)\n",
    "\n",
    "N, K = map(int, sys.stdin.readline().rstrip().split())\n",
    "arr = list(map(int, sys.stdin.readline().rstrip().split()))\n",
    "ndict = dict()\n",
    "merge_sort(arr)\n",
    "if len(ndict) >= K:\n",
    "    print(ndict[K])\n",
    "else:\n",
    "    print(-1)"
   ]
  },
  {
   "cell_type": "markdown",
   "metadata": {},
   "source": [
    "### 풀이8(시간 초과)"
   ]
  },
  {
   "cell_type": "code",
   "execution_count": null,
   "metadata": {},
   "outputs": [],
   "source": [
    "def merge_sort(arr):\n",
    "    def sort(start, end):\n",
    "        if start >= end:\n",
    "            return\n",
    "        mid = (start + end) // 2\n",
    "        sort(start, mid)\n",
    "        sort(mid + 1, end)\n",
    "        merge(start, mid, end)\n",
    "\n",
    "    def merge(start, mid, end):\n",
    "        s, m = start, mid + 1\n",
    "        temp = []\n",
    "        while s <= mid and m <= end:\n",
    "            if arr[s] <= arr[m]:\n",
    "                temp.append(arr[s])\n",
    "                s += 1\n",
    "            else:\n",
    "                temp.append(arr[m])\n",
    "                m += 1\n",
    "        while s <= mid:\n",
    "            temp.append(arr[s])\n",
    "            s += 1\n",
    "        while m <= end:\n",
    "            temp.append(arr[m])\n",
    "            m += 1\n",
    "        s = start\n",
    "        t = 0\n",
    "        while s <= end:\n",
    "            ndict[len(ndict) + 1] = temp[t]\n",
    "            s += 1\n",
    "            t += 1\n",
    "        arr[start:len(temp)] = temp\n",
    "    return sort(0, len(arr) - 1)\n",
    "\n",
    "N, K = map(int, input().split())\n",
    "arr = list(map(int, input().split()))\n",
    "ndict = dict()\n",
    "merge_sort(arr)\n",
    "if len(ndict) >= K:\n",
    "    print(ndict[K])\n",
    "else:\n",
    "    print(-1)"
   ]
  },
  {
   "cell_type": "code",
   "execution_count": null,
   "metadata": {},
   "outputs": [],
   "source": [
    "import sys\n",
    "def merge_sort(arr):\n",
    "    def sort(start, end):\n",
    "        if start >= end:\n",
    "            return\n",
    "        mid = (start + end) // 2\n",
    "        sort(start, mid)\n",
    "        sort(mid + 1, end)\n",
    "        merge(start, mid, end)\n",
    "\n",
    "    def merge(start, mid, end):\n",
    "        s, m = start, mid + 1\n",
    "        temp = []\n",
    "        while s <= mid and m <= end:\n",
    "            if arr[s] <= arr[m]:\n",
    "                temp.append(arr[s])\n",
    "                s += 1\n",
    "            else:\n",
    "                temp.append(arr[m])\n",
    "                m += 1\n",
    "        while s <= mid:\n",
    "            temp.append(arr[s])\n",
    "            s += 1\n",
    "        while m <= end:\n",
    "            temp.append(arr[m])\n",
    "            m += 1\n",
    "        s = start\n",
    "        t = 0\n",
    "        while s <= end:\n",
    "            ndict[len(ndict) + 1] = temp[t]\n",
    "            s += 1\n",
    "            t += 1\n",
    "        arr[start:len(temp)] = temp\n",
    "    return sort(0, len(arr) - 1)\n",
    "\n",
    "N, K = map(int, sys.stdin.readline().rstrip().split())\n",
    "arr = list(map(int, sys.stdin.readline().rstrip().split()))\n",
    "ndict = dict()\n",
    "merge_sort(arr)\n",
    "if len(ndict) >= K:\n",
    "    print(ndict[K])\n",
    "else:\n",
    "    print(-1)"
   ]
  },
  {
   "cell_type": "markdown",
   "metadata": {},
   "source": [
    "### 참고\n",
    "- https://jih3508.tistory.com/12"
   ]
  },
  {
   "cell_type": "code",
   "execution_count": null,
   "metadata": {},
   "outputs": [],
   "source": [
    "def merge_sort(A, p, r):\n",
    "    if(p < r and count <= K):\n",
    "        q = (p + r) // 2\n",
    "        merge_sort(A, p , q)\n",
    "        merge_sort(A, q + 1, r)\n",
    "        merge(A, p, q, r)\n",
    "        \n",
    "def merge(A, p, q, r):\n",
    "    global count, result\n",
    "    i, j = p, q + 1\n",
    "    tmp = []\n",
    "    \n",
    "    while i <= q and j <= r:\n",
    "        if(A[i] <= A[j]):\n",
    "            tmp.append(A[i])\n",
    "            i += 1\n",
    "        else:\n",
    "            tmp.append(A[j])\n",
    "            j += 1\n",
    "        \n",
    "    while i <= q:\n",
    "        tmp.append(A[i])\n",
    "        i += 1\n",
    "    \n",
    "    while j <= r:\n",
    "        tmp.append(A[j])\n",
    "        j += 1\n",
    "    \n",
    "    i, t = p, 0\n",
    "    \n",
    "    while i <= r:\n",
    "        A[i] = tmp[t]\n",
    "        count += 1\n",
    "        if count == K:\n",
    "            result = A[i]\n",
    "            break\n",
    "        i += 1\n",
    "        t += 1\n",
    "\n",
    "N, K = map(int, input().split())\n",
    "A = list(map(int, input().split()))\n",
    "count = 0\n",
    "result = -1\n",
    "merge_sort(A, 0, N - 1)\n",
    "print(result)"
   ]
  },
  {
   "cell_type": "markdown",
   "metadata": {},
   "source": [
    "### 풀이9(89468KB, 3892ms, 928B)"
   ]
  },
  {
   "cell_type": "code",
   "execution_count": 1,
   "metadata": {},
   "outputs": [
    {
     "name": "stdout",
     "output_type": "stream",
     "text": [
      "3\n"
     ]
    }
   ],
   "source": [
    "def merge_sort(arr, start, end):\n",
    "    if (start < end) and (num <= K):\n",
    "        mid = (start + end) // 2\n",
    "        merge_sort(arr, start, mid)\n",
    "        merge_sort(arr, mid + 1, end)\n",
    "        merge(arr, start, mid, end)\n",
    "\n",
    "def merge(arr, start, mid, end):\n",
    "    global num, result\n",
    "    s, m = start, mid + 1\n",
    "    temp = []\n",
    "    while s <= mid and m <= end:\n",
    "        if arr[s] <= arr[m]:\n",
    "            temp.append(arr[s])\n",
    "            s += 1\n",
    "        else:\n",
    "            temp.append(arr[m])\n",
    "            m += 1\n",
    "    while s <= mid:\n",
    "        temp.append(arr[s])\n",
    "        s += 1\n",
    "    while m <= end:\n",
    "        temp.append(arr[m])\n",
    "        m += 1\n",
    "    s = start\n",
    "    t = 0\n",
    "    while s <= end:\n",
    "        arr[s] = temp[t]\n",
    "        num += 1\n",
    "        if num == K:\n",
    "            result = arr[s]\n",
    "            break\n",
    "        s += 1\n",
    "        t += 1\n",
    "\n",
    "N, K = map(int, input().split())\n",
    "arr = list(map(int, input().split()))\n",
    "num = 0\n",
    "result = -1\n",
    "merge_sort(arr, 0, N - 1)\n",
    "print(result)"
   ]
  },
  {
   "cell_type": "markdown",
   "metadata": {},
   "source": [
    "### 풀이10(89468KB, 3956ms, 1061B)"
   ]
  },
  {
   "cell_type": "code",
   "execution_count": 11,
   "metadata": {},
   "outputs": [
    {
     "name": "stdout",
     "output_type": "stream",
     "text": [
      "3\n"
     ]
    }
   ],
   "source": [
    "def merge_sort(arr):\n",
    "    def sort(start, end):\n",
    "        if (start < end) and (num <= K):\n",
    "            mid = (start + end) // 2\n",
    "            sort(start, mid)\n",
    "            sort(mid + 1, end)\n",
    "            merge(start, mid, end)\n",
    "\n",
    "    def merge(start, mid, end):\n",
    "        global num, result\n",
    "        s, m = start, mid + 1\n",
    "        temp = []\n",
    "        while s <= mid and m <= end:\n",
    "            if arr[s] <= arr[m]:\n",
    "                temp.append(arr[s])\n",
    "                s += 1\n",
    "            else:\n",
    "                temp.append(arr[m])\n",
    "                m += 1\n",
    "        while s <= mid:\n",
    "            temp.append(arr[s])\n",
    "            s += 1\n",
    "        while m <= end:\n",
    "            temp.append(arr[m])\n",
    "            m += 1\n",
    "        s = start\n",
    "        t = 0\n",
    "        while s <= end:\n",
    "            arr[s] = temp[t]\n",
    "            num += 1\n",
    "            if num == K:\n",
    "                result = arr[s]\n",
    "                break\n",
    "            s += 1\n",
    "            t += 1\n",
    "    return sort(0, len(arr) - 1)\n",
    "\n",
    "N, K = map(int, input().split())\n",
    "arr = list(map(int, input().split()))\n",
    "num = 0\n",
    "result = -1\n",
    "merge_sort(arr)\n",
    "print(result)"
   ]
  },
  {
   "cell_type": "markdown",
   "metadata": {},
   "source": [
    "## 2447번 - 별 찍기 - 10\n",
    "\n",
    "- 문제\n",
    "    재귀적인 패턴으로 별을 찍어 보자. N이 3의 거듭제곱(3, 9, 27, ...)이라고 할 때, 크기 N의 패턴은 N×N 정사각형 모양이다.\n",
    "\n",
    "    크기 3의 패턴은 가운데에 공백이 있고, 가운데를 제외한 모든 칸에 별이 하나씩 있는 패턴이다.\n",
    "    ```\n",
    "    ***\n",
    "    * *\n",
    "    ***\n",
    "    ```\n",
    "    N이 3보다 클 경우, 크기 N의 패턴은 공백으로 채워진 가운데의 (N/3)×(N/3) 정사각형을 크기 N/3의 패턴으로 둘러싼 형태이다. 예를 들어 크기 27의 패턴은 예제 출력 1과 같다.\n",
    "\n",
    "- 입력  \n",
    "    첫째 줄에 N이 주어진다. N은 3의 거듭제곱이다. 즉 어떤 정수 k에 대해 $N=3^k$이며, 이때 1 ≤ k < 8이다.\n",
    "\n",
    "- 출력  \n",
    "    첫째 줄부터 N번째 줄까지 별을 출력한다.\n",
    "\n",
    "- 예제 입력  \n",
    "    27\n",
    "- 예제 출력  \n",
    "    ```\n",
    "    ***************************\n",
    "    * ** ** ** ** ** ** ** ** *\n",
    "    ***************************\n",
    "    ***   ******   ******   ***\n",
    "    * *   * ** *   * ** *   * *\n",
    "    ***   ******   ******   ***\n",
    "    ***************************\n",
    "    * ** ** ** ** ** ** ** ** *\n",
    "    ***************************\n",
    "    *********         *********\n",
    "    * ** ** *         * ** ** *\n",
    "    *********         *********\n",
    "    ***   ***         ***   ***\n",
    "    * *   * *         * *   * *\n",
    "    ***   ***         ***   ***\n",
    "    *********         *********\n",
    "    * ** ** *         * ** ** *\n",
    "    *********         *********\n",
    "    ***************************\n",
    "    * ** ** ** ** ** ** ** ** *\n",
    "    ***************************\n",
    "    ***   ******   ******   ***\n",
    "    * *   * ** *   * ** *   * *\n",
    "    ***   ******   ******   ***\n",
    "    ***************************\n",
    "    * ** ** ** ** ** ** ** ** *\n",
    "    ***************************\n",
    "    ```"
   ]
  },
  {
   "cell_type": "code",
   "execution_count": 1,
   "metadata": {},
   "outputs": [
    {
     "name": "stdout",
     "output_type": "stream",
     "text": [
      "***\n",
      "* *\n",
      "***\n"
     ]
    }
   ],
   "source": [
    "n = 3\n",
    "for i in range(n):\n",
    "    for j in range(n):\n",
    "        if i == n//3 and j == n//3:\n",
    "            print(' ', end='')\n",
    "        else:\n",
    "            print('*', end='')\n",
    "    print()"
   ]
  },
  {
   "cell_type": "code",
   "execution_count": 6,
   "metadata": {},
   "outputs": [],
   "source": [
    "def draw_star(num):\n",
    "    d = int(num ** 1/2)\n",
    "    for i in range(d):\n",
    "        for j in range(d):\n",
    "            if i == d//3 and j == d//3:\n",
    "                print(' '*j, end='')\n",
    "            else:\n",
    "                star()\n",
    "        print()\n",
    "\n",
    "def star():\n",
    "    n = 3\n",
    "    for i in range(n):\n",
    "        for j in range(n):\n",
    "            if i == n//3 and j == n//3:\n",
    "                print(' ', end='')\n",
    "            else:\n",
    "                print('*', end='')\n",
    "        print()"
   ]
  },
  {
   "cell_type": "code",
   "execution_count": 8,
   "metadata": {},
   "outputs": [
    {
     "name": "stdout",
     "output_type": "stream",
     "text": [
      "\n"
     ]
    }
   ],
   "source": [
    "draw_star(3)"
   ]
  },
  {
   "cell_type": "code",
   "execution_count": 13,
   "metadata": {},
   "outputs": [],
   "source": [
    "def star(x, y):\n",
    "    if x == 1 and y == 1:\n",
    "        print(' ', end='')\n",
    "    else:\n",
    "        print('*', end='')\n",
    "\n",
    "def draw_star(num):\n",
    "    for i in range(num):\n",
    "        for j in range(num):\n",
    "            star(i, j)\n",
    "        print()"
   ]
  },
  {
   "cell_type": "code",
   "execution_count": 14,
   "metadata": {},
   "outputs": [
    {
     "name": "stdout",
     "output_type": "stream",
     "text": [
      "***\n",
      "* *\n",
      "***\n"
     ]
    }
   ],
   "source": [
    "draw_star(3)"
   ]
  },
  {
   "cell_type": "code",
   "execution_count": null,
   "metadata": {},
   "outputs": [],
   "source": [
    "#  3 = 3 ** 1\n",
    "#  9 = 3 ** 2\n",
    "# 27 = 3 ** 3\n",
    "# num = 3 ** n\n",
    "\n",
    "def func(num):\n",
    "    d = int(num**1/2)\n",
    "    for i in range(d):\n",
    "        for j in range(d):\n",
    "            if i == 1 and j == 1:\n",
    "                print(' '*function(i, j), end='')\n",
    "            else:\n",
    "                print('*'*function(i, j), end='')\n",
    "        print()\n",
    "def function(x, y):\n",
    "    if x == 1 and y == 1:\n",
    "        return 0\n",
    "    else:\n",
    "        return 1\n"
   ]
  },
  {
   "cell_type": "markdown",
   "metadata": {},
   "source": [
    "### 참고\n",
    "- https://study-all-night.tistory.com/5"
   ]
  },
  {
   "cell_type": "code",
   "execution_count": null,
   "metadata": {},
   "outputs": [],
   "source": [
    "def draw_star(n) :\n",
    "    global Map\n",
    "    \n",
    "    if n == 3 :\n",
    "        Map[0][:3] = Map[2][:3] = [1]*3\n",
    "        Map[1][:3] = [1, 0, 1]\n",
    "        return\n",
    "\n",
    "    a = n//3\n",
    "    draw_star(n//3)\n",
    "    for i in range(3) :\n",
    "        for j in range(3) :\n",
    "            if i == 1 and j == 1 :\n",
    "                continue\n",
    "            for k in range(a) :\n",
    "                Map[a*i+k][a*j:a*(j+1)] = Map[k][:a] # 핵심 아이디어\n",
    "                # Map의 각 행의 a열만큼 복사해 다음 a열만큼에 붙여넣는다.\n",
    "                # a=3일때\n",
    "                    # i=0, k=0 : (0,0)(0,1)(0,2) => (0,0)(0,1)(0,2), => (0,3)(0,4)(0,5), => (0,6)(0,7)(0,8)\n",
    "                    # i=0, k=1 : (1,0)(1,1)(1,2) => (1,0)(1,1)(1,2), => (1,3)(1,4)(1,5), => (1,6)(1,7)(1,8)\n",
    "                    # ...\n",
    "                    # i=1, k=0 : (3,0)(3,1)(3,2) => (3,0)(3,1)(3,2), => j=1 continue   , => (3,6)(3,7)(3,8)\n",
    "                    # ...\n",
    "                    # i=2, k=0 : (6,0)(6,1)(6,2) => (6,0)(6,1)(6,2), => (6,3)(6,4)(6,5), => (6,6)(6,7)(6,8)\n",
    "                    # ...\n",
    "                    # i=2, k=2 : (8,0)(8,1)(8,2) => (8,0)(8,1)(8,2), => (8,3)(8,4)(8,5), => (8,6)(8,7)(8,8)\n",
    "\n",
    "N = int(input())      \n",
    "\n",
    "# 메인 데이터 선언\n",
    "Map = [[0 for i in range(N)] for i in range(N)]\n",
    "\n",
    "draw_star(N)\n",
    "\n",
    "for i in Map :\n",
    "    for j in i :\n",
    "        if j :\n",
    "            print('*', end = '')\n",
    "        else :\n",
    "            print(' ', end = '')\n",
    "    print()"
   ]
  },
  {
   "cell_type": "code",
   "execution_count": 17,
   "metadata": {},
   "outputs": [
    {
     "name": "stdout",
     "output_type": "stream",
     "text": [
      "( 0, 0)( 0, 1)( 0, 2)( 0, 3)( 0, 4)( 0, 5)( 0, 6)( 0, 7)( 0, 8)( 0, 9)( 0,10)( 0,11)( 0,12)( 0,13)( 0,14)( 0,15)( 0,16)( 0,17)( 0,18)( 0,19)( 0,20)( 0,21)( 0,22)( 0,23)( 0,24)( 0,25)( 0,26)\n",
      "( 1, 0)( 1, 1)( 1, 2)( 1, 3)( 1, 4)( 1, 5)( 1, 6)( 1, 7)( 1, 8)( 1, 9)( 1,10)( 1,11)( 1,12)( 1,13)( 1,14)( 1,15)( 1,16)( 1,17)( 1,18)( 1,19)( 1,20)( 1,21)( 1,22)( 1,23)( 1,24)( 1,25)( 1,26)\n",
      "( 2, 0)( 2, 1)( 2, 2)( 2, 3)( 2, 4)( 2, 5)( 2, 6)( 2, 7)( 2, 8)( 2, 9)( 2,10)( 2,11)( 2,12)( 2,13)( 2,14)( 2,15)( 2,16)( 2,17)( 2,18)( 2,19)( 2,20)( 2,21)( 2,22)( 2,23)( 2,24)( 2,25)( 2,26)\n",
      "( 3, 0)( 3, 1)( 3, 2)( 3, 3)( 3, 4)( 3, 5)( 3, 6)( 3, 7)( 3, 8)( 3, 9)( 3,10)( 3,11)( 3,12)( 3,13)( 3,14)( 3,15)( 3,16)( 3,17)( 3,18)( 3,19)( 3,20)( 3,21)( 3,22)( 3,23)( 3,24)( 3,25)( 3,26)\n",
      "( 4, 0)( 4, 1)( 4, 2)( 4, 3)( 4, 4)( 4, 5)( 4, 6)( 4, 7)( 4, 8)( 4, 9)( 4,10)( 4,11)( 4,12)( 4,13)( 4,14)( 4,15)( 4,16)( 4,17)( 4,18)( 4,19)( 4,20)( 4,21)( 4,22)( 4,23)( 4,24)( 4,25)( 4,26)\n",
      "( 5, 0)( 5, 1)( 5, 2)( 5, 3)( 5, 4)( 5, 5)( 5, 6)( 5, 7)( 5, 8)( 5, 9)( 5,10)( 5,11)( 5,12)( 5,13)( 5,14)( 5,15)( 5,16)( 5,17)( 5,18)( 5,19)( 5,20)( 5,21)( 5,22)( 5,23)( 5,24)( 5,25)( 5,26)\n",
      "( 6, 0)( 6, 1)( 6, 2)( 6, 3)( 6, 4)( 6, 5)( 6, 6)( 6, 7)( 6, 8)( 6, 9)( 6,10)( 6,11)( 6,12)( 6,13)( 6,14)( 6,15)( 6,16)( 6,17)( 6,18)( 6,19)( 6,20)( 6,21)( 6,22)( 6,23)( 6,24)( 6,25)( 6,26)\n",
      "( 7, 0)( 7, 1)( 7, 2)( 7, 3)( 7, 4)( 7, 5)( 7, 6)( 7, 7)( 7, 8)( 7, 9)( 7,10)( 7,11)( 7,12)( 7,13)( 7,14)( 7,15)( 7,16)( 7,17)( 7,18)( 7,19)( 7,20)( 7,21)( 7,22)( 7,23)( 7,24)( 7,25)( 7,26)\n",
      "( 8, 0)( 8, 1)( 8, 2)( 8, 3)( 8, 4)( 8, 5)( 8, 6)( 8, 7)( 8, 8)( 8, 9)( 8,10)( 8,11)( 8,12)( 8,13)( 8,14)( 8,15)( 8,16)( 8,17)( 8,18)( 8,19)( 8,20)( 8,21)( 8,22)( 8,23)( 8,24)( 8,25)( 8,26)\n",
      "( 9, 0)( 9, 1)( 9, 2)( 9, 3)( 9, 4)( 9, 5)( 9, 6)( 9, 7)( 9, 8)( 9, 9)( 9,10)( 9,11)( 9,12)( 9,13)( 9,14)( 9,15)( 9,16)( 9,17)( 9,18)( 9,19)( 9,20)( 9,21)( 9,22)( 9,23)( 9,24)( 9,25)( 9,26)\n",
      "(10, 0)(10, 1)(10, 2)(10, 3)(10, 4)(10, 5)(10, 6)(10, 7)(10, 8)(10, 9)(10,10)(10,11)(10,12)(10,13)(10,14)(10,15)(10,16)(10,17)(10,18)(10,19)(10,20)(10,21)(10,22)(10,23)(10,24)(10,25)(10,26)\n",
      "(11, 0)(11, 1)(11, 2)(11, 3)(11, 4)(11, 5)(11, 6)(11, 7)(11, 8)(11, 9)(11,10)(11,11)(11,12)(11,13)(11,14)(11,15)(11,16)(11,17)(11,18)(11,19)(11,20)(11,21)(11,22)(11,23)(11,24)(11,25)(11,26)\n",
      "(12, 0)(12, 1)(12, 2)(12, 3)(12, 4)(12, 5)(12, 6)(12, 7)(12, 8)(12, 9)(12,10)(12,11)(12,12)(12,13)(12,14)(12,15)(12,16)(12,17)(12,18)(12,19)(12,20)(12,21)(12,22)(12,23)(12,24)(12,25)(12,26)\n",
      "(13, 0)(13, 1)(13, 2)(13, 3)(13, 4)(13, 5)(13, 6)(13, 7)(13, 8)(13, 9)(13,10)(13,11)(13,12)(13,13)(13,14)(13,15)(13,16)(13,17)(13,18)(13,19)(13,20)(13,21)(13,22)(13,23)(13,24)(13,25)(13,26)\n",
      "(14, 0)(14, 1)(14, 2)(14, 3)(14, 4)(14, 5)(14, 6)(14, 7)(14, 8)(14, 9)(14,10)(14,11)(14,12)(14,13)(14,14)(14,15)(14,16)(14,17)(14,18)(14,19)(14,20)(14,21)(14,22)(14,23)(14,24)(14,25)(14,26)\n",
      "(15, 0)(15, 1)(15, 2)(15, 3)(15, 4)(15, 5)(15, 6)(15, 7)(15, 8)(15, 9)(15,10)(15,11)(15,12)(15,13)(15,14)(15,15)(15,16)(15,17)(15,18)(15,19)(15,20)(15,21)(15,22)(15,23)(15,24)(15,25)(15,26)\n",
      "(16, 0)(16, 1)(16, 2)(16, 3)(16, 4)(16, 5)(16, 6)(16, 7)(16, 8)(16, 9)(16,10)(16,11)(16,12)(16,13)(16,14)(16,15)(16,16)(16,17)(16,18)(16,19)(16,20)(16,21)(16,22)(16,23)(16,24)(16,25)(16,26)\n",
      "(17, 0)(17, 1)(17, 2)(17, 3)(17, 4)(17, 5)(17, 6)(17, 7)(17, 8)(17, 9)(17,10)(17,11)(17,12)(17,13)(17,14)(17,15)(17,16)(17,17)(17,18)(17,19)(17,20)(17,21)(17,22)(17,23)(17,24)(17,25)(17,26)\n",
      "(18, 0)(18, 1)(18, 2)(18, 3)(18, 4)(18, 5)(18, 6)(18, 7)(18, 8)(18, 9)(18,10)(18,11)(18,12)(18,13)(18,14)(18,15)(18,16)(18,17)(18,18)(18,19)(18,20)(18,21)(18,22)(18,23)(18,24)(18,25)(18,26)\n",
      "(19, 0)(19, 1)(19, 2)(19, 3)(19, 4)(19, 5)(19, 6)(19, 7)(19, 8)(19, 9)(19,10)(19,11)(19,12)(19,13)(19,14)(19,15)(19,16)(19,17)(19,18)(19,19)(19,20)(19,21)(19,22)(19,23)(19,24)(19,25)(19,26)\n",
      "(20, 0)(20, 1)(20, 2)(20, 3)(20, 4)(20, 5)(20, 6)(20, 7)(20, 8)(20, 9)(20,10)(20,11)(20,12)(20,13)(20,14)(20,15)(20,16)(20,17)(20,18)(20,19)(20,20)(20,21)(20,22)(20,23)(20,24)(20,25)(20,26)\n",
      "(21, 0)(21, 1)(21, 2)(21, 3)(21, 4)(21, 5)(21, 6)(21, 7)(21, 8)(21, 9)(21,10)(21,11)(21,12)(21,13)(21,14)(21,15)(21,16)(21,17)(21,18)(21,19)(21,20)(21,21)(21,22)(21,23)(21,24)(21,25)(21,26)\n",
      "(22, 0)(22, 1)(22, 2)(22, 3)(22, 4)(22, 5)(22, 6)(22, 7)(22, 8)(22, 9)(22,10)(22,11)(22,12)(22,13)(22,14)(22,15)(22,16)(22,17)(22,18)(22,19)(22,20)(22,21)(22,22)(22,23)(22,24)(22,25)(22,26)\n",
      "(23, 0)(23, 1)(23, 2)(23, 3)(23, 4)(23, 5)(23, 6)(23, 7)(23, 8)(23, 9)(23,10)(23,11)(23,12)(23,13)(23,14)(23,15)(23,16)(23,17)(23,18)(23,19)(23,20)(23,21)(23,22)(23,23)(23,24)(23,25)(23,26)\n",
      "(24, 0)(24, 1)(24, 2)(24, 3)(24, 4)(24, 5)(24, 6)(24, 7)(24, 8)(24, 9)(24,10)(24,11)(24,12)(24,13)(24,14)(24,15)(24,16)(24,17)(24,18)(24,19)(24,20)(24,21)(24,22)(24,23)(24,24)(24,25)(24,26)\n",
      "(25, 0)(25, 1)(25, 2)(25, 3)(25, 4)(25, 5)(25, 6)(25, 7)(25, 8)(25, 9)(25,10)(25,11)(25,12)(25,13)(25,14)(25,15)(25,16)(25,17)(25,18)(25,19)(25,20)(25,21)(25,22)(25,23)(25,24)(25,25)(25,26)\n",
      "(26, 0)(26, 1)(26, 2)(26, 3)(26, 4)(26, 5)(26, 6)(26, 7)(26, 8)(26, 9)(26,10)(26,11)(26,12)(26,13)(26,14)(26,15)(26,16)(26,17)(26,18)(26,19)(26,20)(26,21)(26,22)(26,23)(26,24)(26,25)(26,26)\n"
     ]
    }
   ],
   "source": [
    "for i in range(27):\n",
    "    for j in range(27):\n",
    "        print(f'({i:>2},{j:>2})', end='')\n",
    "    print()"
   ]
  },
  {
   "cell_type": "markdown",
   "metadata": {},
   "source": [
    "### 풀이"
   ]
  },
  {
   "cell_type": "code",
   "execution_count": 18,
   "metadata": {},
   "outputs": [
    {
     "name": "stdout",
     "output_type": "stream",
     "text": [
      "*********\n",
      "* ** ** *\n",
      "*********\n",
      "***   ***\n",
      "* *   * *\n",
      "***   ***\n",
      "*********\n",
      "* ** ** *\n",
      "*********\n"
     ]
    }
   ],
   "source": [
    "def draw_star(n) :\n",
    "    global Map\n",
    "    if n == 3 :\n",
    "        Map[0][:3] = Map[2][:3] = [1]*3\n",
    "        Map[1][:3] = [1, 0, 1]\n",
    "        return\n",
    "    a = n//3\n",
    "    draw_star(n//3)\n",
    "    for i in range(3) :\n",
    "        for j in range(3) :\n",
    "            if i == 1 and j == 1 :\n",
    "                continue\n",
    "            for k in range(a) :\n",
    "                Map[a*i+k][a*j:a*(j+1)] = Map[k][:a]\n",
    "N = int(input())      \n",
    "Map = [[0 for i in range(N)] for i in range(N)]\n",
    "draw_star(N)\n",
    "for i in Map :\n",
    "    for j in i :\n",
    "        if j :\n",
    "            print('*', end = '')\n",
    "        else :\n",
    "            print(' ', end = '')\n",
    "    print()"
   ]
  },
  {
   "cell_type": "markdown",
   "metadata": {},
   "source": [
    "## 11729번 - 하노이 탑 이동 순서\n",
    "\n",
    "- 문제  \n",
    "    세 개의 장대가 있고 첫 번째 장대에는 반경이 서로 다른 n개의 원판이 쌓여 있다. 각 원판은 반경이 큰 순서대로 쌓여있다. 이제 수도승들이 다음 규칙에 따라 첫 번째   장대에서 세 번째 장대로 옮기려 한다.\n",
    "\n",
    "    한 번에 한 개의 원판만을 다른 탑으로 옮길 수 있다.\n",
    "    쌓아 놓은 원판은 항상 위의 것이 아래의 것보다 작아야 한다.\n",
    "    이 작업을 수행하는데 필요한 이동 순서를 출력하는 프로그램을 작성하라. 단, 이동 횟수는 최소가 되어야 한다.\n",
    "\n",
    "    아래 그림은 원판이 5개인 경우의 예시이다.\n",
    "\n",
    "    <img src='11729.png'/>\n",
    "\n",
    "- 입력  \n",
    "    첫째 줄에 첫 번째 장대에 쌓인 원판의 개수 N (1 ≤ N ≤ 20)이 주어진다.\n",
    "\n",
    "- 출력  \n",
    "    첫째 줄에 옮긴 횟수 K를 출력한다.\n",
    "\n",
    "    두 번째 줄부터 수행 과정을 출력한다. 두 번째 줄부터 K개의 줄에 걸쳐 두 정수 A B를 빈칸을 사이에 두고 출력하는데, 이는 A번째 탑의 가장 위에 있는 원판을 B번째 탑의 가장 위로 옮긴다는 뜻이다.\n",
    "\n",
    "- 예시 입력  \n",
    "    3  \n",
    "- 예시 출력  \n",
    "    7  \n",
    "    1 3  \n",
    "    1 2  \n",
    "    3 2  \n",
    "    1 3  \n",
    "    2 1  \n",
    "    2 3  \n",
    "    1 3  "
   ]
  },
  {
   "cell_type": "code",
   "execution_count": null,
   "metadata": {},
   "outputs": [],
   "source": [
    "# 입력 : 2\n",
    "# 출력\n",
    "# 3\n",
    "# 1 2\n",
    "# 1 3\n",
    "# 2 3"
   ]
  },
  {
   "cell_type": "code",
   "execution_count": 2,
   "metadata": {},
   "outputs": [],
   "source": [
    "# 입력 : 4\n",
    "# 출력 :\n",
    "# 15\n",
    "# 1 2\n",
    "# 1 3\n",
    "# 2 3\n",
    "# 1 2\n",
    "# 3 1\n",
    "# 3 2\n",
    "# 1 2\n",
    "# 1 3\n",
    "# 2 3\n",
    "# 2 1\n",
    "# 3 1\n",
    "# 2 3\n",
    "# 1 2\n",
    "# 1 3\n",
    "# 2 3"
   ]
  },
  {
   "cell_type": "code",
   "execution_count": null,
   "metadata": {},
   "outputs": [],
   "source": [
    "# 입력 : 5\n",
    "# 출력 : \n",
    "# 31\n",
    "# 1 3\n",
    "# 1 2\n",
    "# 3 2\n",
    "# 1 3\n",
    "# 2 1\n",
    "# 2 3\n",
    "# 1 3\n",
    "# 1 2\n",
    "# 3 2\n",
    "# 3 1\n",
    "# 2 1\n",
    "# 3 2\n",
    "# 1 3\n",
    "# 1 2\n",
    "# 3 2\n",
    "# 1 3\n",
    "# 2 1\n",
    "# 2 3\n",
    "# 1 3\n",
    "# 2 1\n",
    "# 3 2\n",
    "# 3 1\n",
    "# 2 1\n",
    "# 2 3\n",
    "# 1 3\n",
    "# 1 2\n",
    "# 3 2\n",
    "# 1 3\n",
    "# 2 1\n",
    "# 2 3\n",
    "# 1 3"
   ]
  },
  {
   "cell_type": "code",
   "execution_count": 3,
   "metadata": {},
   "outputs": [],
   "source": [
    "# f1(1, 3) = 1 3\n",
    "# f1(1, 2) = 1 2\n",
    "# f1(a, b) = a b"
   ]
  },
  {
   "cell_type": "code",
   "execution_count": 6,
   "metadata": {},
   "outputs": [],
   "source": [
    "# f2(1, 2) = 1 3, 1 2, 3 2\n",
    "# f2(1, 3) = 1 2, 1 3, 2 3 = f1(1, 2), f1(1, 3), f1(2, 3)\n",
    "# f2(2, 1) = 2 3, 2 1, 3 1\n",
    "# f2(2, 3) = 2 1, 2 3, 1 3\n",
    "# f2(3, 1) = 3 2, 3 1, 2 1\n",
    "# f2(3, 2) = 3 1, 3 2, 1 2\n",
    "# c = [1, 2, 3] 차 [a, b]\n",
    "# f2(a, b) = f1(a, c), f1(a, b), f1(c, b)"
   ]
  },
  {
   "cell_type": "code",
   "execution_count": null,
   "metadata": {},
   "outputs": [],
   "source": [
    "# f3(1, 2) = 1 2, 1 3, 2 3, 1 2, 3 1, 3 2, 1 2\n",
    "#          = f2(1, 3), f1(1, 2), f2(3, 2)\n",
    "# f3(1, 3) = 1 3, 1 2, 3 2, 1 3, 2 1, 2 3, 1 3\n",
    "#          = f2(1, 2), f1(1, 3), f2(2, 3)\n",
    "# f3(2, 1) = 2 1, 2 3, 1 3, 2 3, 3 2, 3 1, 2 1\n",
    "#          = f2(2, 3), f1(1, 3), f2(3, 1)\n",
    "# f3(2, 3) = 2 3, 2 1, 3 1, 2 3, 1 2, 1 3, 2 3\n",
    "#          = f2(2, 1), f1(2, 3), f2(1, 3)\n",
    "# f3(a, b) = f2(a, c), f1(a, b), f2(c, b)"
   ]
  },
  {
   "cell_type": "code",
   "execution_count": null,
   "metadata": {},
   "outputs": [],
   "source": [
    "# f4(1, 3) \n",
    "# = 1 2, 1 3, 2 3, 1 2, 3 1, 3 2, 1 2,\n",
    "#   1 3, \n",
    "#   2 3, 2 1, 3 1, 2 3, 1 2, 1 3, 2 3\n",
    "# = f3(1, 2), f1(1, 3), f3(2, 3)\n",
    "# f4(a, b) = f3(a, c), f1(a, b), f3(c, b)"
   ]
  },
  {
   "cell_type": "code",
   "execution_count": 20,
   "metadata": {},
   "outputs": [],
   "source": [
    "def f(n, a, b):\n",
    "    if n == 1:\n",
    "        print(f'{a} {b}')\n",
    "        return\n",
    "    else:\n",
    "        temp = [1, 2, 3]\n",
    "        temp.remove(a)\n",
    "        temp.remove(b)\n",
    "        c = temp[0]\n",
    "        return f(n-1, a, c), f(1, a, b), f(n-1, c, b)"
   ]
  },
  {
   "cell_type": "code",
   "execution_count": 21,
   "metadata": {},
   "outputs": [
    {
     "name": "stdout",
     "output_type": "stream",
     "text": [
      "1 3\n",
      "1 2\n",
      "3 2\n",
      "1 3\n",
      "2 1\n",
      "2 3\n",
      "1 3\n"
     ]
    },
    {
     "data": {
      "text/plain": [
       "((None, None, None), None, (None, None, None))"
      ]
     },
     "execution_count": 21,
     "metadata": {},
     "output_type": "execute_result"
    }
   ],
   "source": [
    "f(3, 1, 3)"
   ]
  },
  {
   "cell_type": "markdown",
   "metadata": {},
   "source": [
    "# 코드 마지막"
   ]
  }
 ],
 "metadata": {
  "interpreter": {
   "hash": "569b4317022eb29baeafb3d0f1f739310808ea28ce83ca127a35db1c01070585"
  },
  "kernelspec": {
   "display_name": "Python 3.9.12 ('base')",
   "language": "python",
   "name": "python3"
  },
  "language_info": {
   "codemirror_mode": {
    "name": "ipython",
    "version": 3
   },
   "file_extension": ".py",
   "mimetype": "text/x-python",
   "name": "python",
   "nbconvert_exporter": "python",
   "pygments_lexer": "ipython3",
   "version": "3.9.12"
  },
  "orig_nbformat": 4
 },
 "nbformat": 4,
 "nbformat_minor": 2
}
