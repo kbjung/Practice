{
 "cells": [
  {
   "cell_type": "markdown",
   "metadata": {},
   "source": [
    "# 재귀"
   ]
  },
  {
   "cell_type": "markdown",
   "metadata": {},
   "source": [
    "## 10872번 - 팩토리얼\n",
    "\n",
    "- 문제  \n",
    "    0보다 크거나 같은 정수 N이 주어진다. 이때, N!을 출력하는 프로그램을 작성하시오.\n",
    "\n",
    "- 입력  \n",
    "    첫째 줄에 정수 N(0 ≤ N ≤ 12)이 주어진다.\n",
    "\n",
    "- 출력  \n",
    "    첫째 줄에 N!을 출력한다.\n",
    "\n",
    "- 예제 입력1  \n",
    "    10\n",
    "- 예제 출력1  \n",
    "    3628800\n",
    "- 예제 입력2  \n",
    "    0\n",
    "- 예제 출력2  \n",
    "    1"
   ]
  },
  {
   "cell_type": "markdown",
   "metadata": {},
   "source": [
    "### 풀이"
   ]
  },
  {
   "cell_type": "code",
   "execution_count": 2,
   "metadata": {},
   "outputs": [
    {
     "name": "stdout",
     "output_type": "stream",
     "text": [
      "1\n"
     ]
    }
   ],
   "source": [
    "N = int(input())\n",
    "result = 1\n",
    "for i in range(1, N + 1):\n",
    "    result *= i\n",
    "print(result)"
   ]
  },
  {
   "cell_type": "markdown",
   "metadata": {},
   "source": [
    "## 10870번 - 피보나치 수 5\n",
    "\n",
    "- 문제  \n",
    "    피보나치 수는 0과 1로 시작한다. 0번째 피보나치 수는 0이고, 1번째 피보나치 수는 1이다. 그 다음 2번째 부터는 바로 앞 두 피보나치 수의 합이 된다.\n",
    "\n",
    "    이를 식으로 써보면 Fn = Fn-1 + Fn-2 (n ≥ 2)가 된다.\n",
    "\n",
    "    n=17일때 까지 피보나치 수를 써보면 다음과 같다.\n",
    "\n",
    "    0, 1, 1, 2, 3, 5, 8, 13, 21, 34, 55, 89, 144, 233,  377, 610, 987, 1597\n",
    "\n",
    "    n이 주어졌을 때, n번째 피보나치 수를 구하는 프로그램을 작성하시오.\n",
    "\n",
    "- 입력  \n",
    "    첫째 줄에 n이 주어진다. n은 20보다 작거나 같은 자연수 또는 0이다.\n",
    "\n",
    "- 출력  \n",
    "    첫째 줄에 n번째 피보나치 수를 출력한다.\n",
    "\n",
    "- 예제 입력  \n",
    "    10\n",
    "- 예제 출력  \n",
    "    55"
   ]
  },
  {
   "cell_type": "markdown",
   "metadata": {},
   "source": [
    "### 풀이"
   ]
  },
  {
   "cell_type": "code",
   "execution_count": 9,
   "metadata": {},
   "outputs": [
    {
     "name": "stdout",
     "output_type": "stream",
     "text": [
      "55\n"
     ]
    }
   ],
   "source": [
    "def piv(n):\n",
    "    if n == 0:\n",
    "        return 0\n",
    "    elif n == 1:\n",
    "        return 1\n",
    "    return piv(n-1) + piv(n-2)\n",
    "p_list = [piv(i) for i in range(21)]\n",
    "n = int(input())\n",
    "print(p_list[n])"
   ]
  },
  {
   "cell_type": "markdown",
   "metadata": {},
   "source": [
    "## 25501번 - 재귀의 귀재\n",
    "\n",
    " - 문제 \n",
    "    정휘는 후배들이 재귀 함수를 잘 다루는 재귀의 귀재인지 알아보기 위해 재귀 함수와 관련된 문제를 출제하기로 했다.\n",
    "\n",
    "    팰린드롬이란, 앞에서부터 읽었을 때와 뒤에서부터 읽었을 때가 같은 문자열을 말한다. 팰린드롬의 예시로 AAA, ABBA, ABABA 등이 있고, 팰린드롬이 아닌 문자열의 예시로 ABCA, PALINDROME 등이 있다.\n",
    "\n",
    "    어떤 문자열이 팰린드롬인지 판별하는 문제는 재귀 함수를 이용해 쉽게 해결할 수 있다. 아래 코드의 isPalindrome 함수는 주어진 문자열이 팰린드롬이면 1, 팰린드롬이 아니면 0을 반환하는 함수다.\n",
    "\n",
    "    ```\n",
    "    #include <stdio.h>\n",
    "    #include <string.h>\n",
    "\n",
    "    int recursion(const char *s, int l, int r){\n",
    "        if(l >= r) return 1;\n",
    "        else if(s[l] != s[r]) return 0;\n",
    "        else return recursion(s, l+1, r-1);\n",
    "    }\n",
    "\n",
    "    int isPalindrome(const char *s){\n",
    "        return recursion(s, 0, strlen(s)-1);\n",
    "    }\n",
    "\n",
    "    int main(){\n",
    "        printf(\"ABBA: %d\\n\", isPalindrome(\"ABBA\")); // 1\n",
    "        printf(\"ABC: %d\\n\", isPalindrome(\"ABC\"));   // 0\n",
    "    }\n",
    "    ```\n",
    "\n",
    "    정휘는 위에 작성된 isPalindrome 함수를 이용하여 어떤 문자열이 팰린드롬인지 여부를 판단하려고 한다.\n",
    "\n",
    "    구체적으로는, 문자열 $S$를 isPalindrome 함수의 인자로 전달하여 팰린드롬 여부를 반환값으로 알아낼 것이다. 더불어 판별하는 과정에서 recursion 함수를 몇 번 호출하는지 셀 것이다.\n",
    "\n",
    "    정휘를 따라 여러분도 함수의 반환값과 recursion 함수의 호출 횟수를 구해보자.\n",
    "\n",
    "- 입력\n",
    "    첫째 줄에 테스트케이스의 개수 $T$가 주어진다. ($1 \\leq T \\leq 1\\,000$)\n",
    "\n",
    "    둘째 줄부터 $T$개의 줄에 알파벳 대문자로 구성된 문자열 $S$가 주어진다. ($1 \\leq \\vert S\\vert \\leq 1\\,000$)\n",
    "\n",
    "- 출력\n",
    "    각 테스트케이스마다, isPalindrome 함수의 반환값과 recursion 함수의 호출 횟수를 한 줄에 공백으로 구분하여 출력한다.\n",
    "\n",
    "- 예제 입력  \n",
    "    5  \n",
    "    AAA  \n",
    "    ABBA  \n",
    "    ABABA  \n",
    "    ABCA  \n",
    "    PALINDROME  \n",
    "- 예제 출력  \n",
    "    1 2  \n",
    "    1 3  \n",
    "    1 3  \n",
    "    0 2  \n",
    "    0 1  \n",
    "- 힌트  \n",
    "    Python 3  \n",
    "    ```python\n",
    "    def recursion(s, l, r):\n",
    "        if l >= r: return 1\n",
    "        elif s[l] != s[r]: return 0\n",
    "        else: return recursion(s, l+1, r-1)\n",
    "\n",
    "    def isPalindrome(s):\n",
    "        return recursion(s, 0, len(s)-1)\n",
    "\n",
    "    print('ABBA:', isPalindrome('ABBA'))\n",
    "    print('ABC:', isPalindrome('ABC'))\n",
    "    ```"
   ]
  },
  {
   "cell_type": "code",
   "execution_count": 1,
   "metadata": {},
   "outputs": [
    {
     "name": "stdout",
     "output_type": "stream",
     "text": [
      "ABBA: 1\n",
      "ABC: 0\n"
     ]
    }
   ],
   "source": [
    "def recursion(s, l, r):\n",
    "    if l >= r: return 1\n",
    "    elif s[l] != s[r]: return 0\n",
    "    else: return recursion(s, l+1, r-1)\n",
    "\n",
    "def isPalindrome(s):\n",
    "    return recursion(s, 0, len(s)-1)\n",
    "\n",
    "print('ABBA:', isPalindrome('ABBA'))\n",
    "print('ABC:', isPalindrome('ABC'))"
   ]
  },
  {
   "cell_type": "markdown",
   "metadata": {},
   "source": [
    "### 풀이1"
   ]
  },
  {
   "cell_type": "code",
   "execution_count": 5,
   "metadata": {},
   "outputs": [
    {
     "name": "stdout",
     "output_type": "stream",
     "text": [
      "1 2\n",
      "1 3\n",
      "1 3\n",
      "0 2\n",
      "0 1\n"
     ]
    }
   ],
   "source": [
    "def recursion(s, l, r):\n",
    "    if l >= r: return 1, l+1\n",
    "    elif s[l] != s[r]: return 0, l+1\n",
    "    else: return recursion(s, l+1, r-1)\n",
    "\n",
    "def isPalindrome(s):\n",
    "    return recursion(s, 0, len(s)-1)\n",
    "\n",
    "T = int(input())\n",
    "for _ in range(T):\n",
    "    S = input()\n",
    "    print(*isPalindrome(S))"
   ]
  },
  {
   "cell_type": "code",
   "execution_count": 6,
   "metadata": {},
   "outputs": [],
   "source": [
    "import sys\n",
    "def recursion(s, l, r):\n",
    "    if l >= r: return 1, l+1\n",
    "    elif s[l] != s[r]: return 0, l+1\n",
    "    else: return recursion(s, l+1, r-1)\n",
    "\n",
    "def isPalindrome(s):\n",
    "    return recursion(s, 0, len(s)-1)\n",
    "\n",
    "T = int(sys.stdin.readline())\n",
    "for _ in range(T):\n",
    "    S = sys.stdin.readline().rstrip()\n",
    "    print(*isPalindrome(S))"
   ]
  },
  {
   "cell_type": "markdown",
   "metadata": {},
   "source": [
    "## 24060번 - 알고리즘 수업 - 병합 정렬 1\n",
    "\n",
    "- 문제  \n",
    "    오늘도 서준이는 병합 정렬 수업 조교를 하고 있다. 아빠가 수업한 내용을 학생들이 잘 이해했는지 문제를 통해서 확인해보자.\n",
    "\n",
    "    N개의 서로 다른 양의 정수가 저장된 배열 A가 있다. 병합 정렬로 배열 A를 오름차순 정렬할 경우 배열 A에 K 번째 저장되는 수를 구해서 우리 서준이를 도와주자.\n",
    "\n",
    "    크기가 N인 배열에 대한 병합 정렬 의사 코드는 다음과 같다.\n",
    "\n",
    "    ```\n",
    "    merge_sort(A[p..r]) { # A[p..r]을 오름차순 정렬한다.\n",
    "        if (p < r) then {\n",
    "            q <- ⌊(p + r) / 2⌋;       # q는 p, r의 중간 지점\n",
    "            merge_sort(A, p, q);      # 전반부 정렬\n",
    "            merge_sort(A, q + 1, r);  # 후반부 정렬\n",
    "            merge(A, p, q, r);        # 병합\n",
    "        }\n",
    "    }\n",
    "\n",
    "    # A[p..q]와 A[q+1..r]을 병합하여 A[p..r]을 오름차순 정렬된 상태로 만든다.\n",
    "    # A[p..q]와 A[q+1..r]은 이미 오름차순으로 정렬되어 있다.\n",
    "    merge(A[], p, q, r) {\n",
    "        i <- p; j <- q + 1; t <- 1;\n",
    "        while (i ≤ q and j ≤ r) {\n",
    "            if (A[i] ≤ A[j])\n",
    "            then tmp[t++] <- A[i++]; # tmp[t] <- A[i]; t++; i++;\n",
    "            else tmp[t++] <- A[j++]; # tmp[t] <- A[j]; t++; j++;\n",
    "        }\n",
    "        while (i ≤ q)  # 왼쪽 배열 부분이 남은 경우\n",
    "            tmp[t++] <- A[i++];\n",
    "        while (j ≤ r)  # 오른쪽 배열 부분이 남은 경우\n",
    "            tmp[t++] <- A[j++];\n",
    "        i <- p; t <- 1;\n",
    "        while (i ≤ r)  # 결과를 A[p..r]에 저장\n",
    "            A[i++] <- tmp[t++]; \n",
    "    }\n",
    "    ```\n",
    "\n",
    "- 입력  \n",
    "    첫째 줄에 배열 A의 크기 N(5 ≤ N ≤ 500,000), 저장 횟수 K($1 ≤ K ≤ 10^8$)가 주어진다.\n",
    "\n",
    "    다음 줄에 서로 다른 배열 A의 원소 $A_1, A_2, ..., A_N$이 주어진다. ($1 ≤ A_i ≤ 109$)\n",
    "\n",
    "- 출력  \n",
    "    배열 A에 K 번째 저장 되는 수를 출력한다. 저장 횟수가 K 보다 작으면 -1을 출력한다.\n",
    "\n",
    "- 예제 입력1  \n",
    "    5 7  \n",
    "    4 5 1 3 2  \n",
    "- 예제 출력1  \n",
    "    3  \n",
    "    - 4 5 1 3 2 -> **4** 5 1 3 2 -> 4 **5** 1 3 2 -> **1** 5 1 3 2 -> 1 **4** 1 3 2 -> 1 4 **5** 3 2 -> 1 4 5 **2** 2 -> 1 4 5 2 **3** -> **1** 4 5 2 3 -> 1 **2** 5 2 3 -> 1 2 **3** 2 3 -> 1 2 3 **4** 3 -> 1 2 3 4 **5**. 총 12회 저장이 발생하고 일곱 번째 저장되는 수는 3이다.  \n",
    "- 예제 입력2  \n",
    "    5 13  \n",
    "    4 5 1 3 2  \n",
    "- 예제 출력2  \n",
    "    -1  \n",
    "    - 저장 횟수 12가 K 보다 작으므로 -1을 출력한다."
   ]
  },
  {
   "cell_type": "markdown",
   "metadata": {},
   "source": [
    "### 참고\n",
    "- https://www.daleseo.com/sort-merge/"
   ]
  },
  {
   "cell_type": "code",
   "execution_count": 21,
   "metadata": {},
   "outputs": [],
   "source": [
    "def merge_sort(arr):\n",
    "    def sort(low, high):\n",
    "        if high - low < 2:\n",
    "            return\n",
    "        mid = (low + high) // 2\n",
    "        sort(low, mid)\n",
    "        sort(mid, high)\n",
    "        merge(low, mid, high)\n",
    "\n",
    "    def merge(low, mid, high):\n",
    "        temp = []\n",
    "        l, m = low, mid\n",
    "        while l < mid and m < high:\n",
    "            if arr[l] < arr[m]:\n",
    "                temp.append(arr[l])\n",
    "                l += 1\n",
    "            else:\n",
    "                temp.append(arr[m])\n",
    "                m += 1\n",
    "\n",
    "        while l < mid:\n",
    "            temp.append(arr[l])\n",
    "            l += 1\n",
    "        while m < high:\n",
    "            temp.append(arr[m])\n",
    "            m += 1\n",
    "        for i in range(low, high):\n",
    "            arr[i] = temp[i - low]\n",
    "    return sort(0, len(arr))"
   ]
  },
  {
   "cell_type": "code",
   "execution_count": 22,
   "metadata": {},
   "outputs": [
    {
     "data": {
      "text/plain": [
       "[1, 2, 3, 4, 5]"
      ]
     },
     "execution_count": 22,
     "metadata": {},
     "output_type": "execute_result"
    }
   ],
   "source": [
    "a = [4, 5, 1, 3, 2]\n",
    "merge_sort(a)\n",
    "a"
   ]
  },
  {
   "cell_type": "code",
   "execution_count": 85,
   "metadata": {},
   "outputs": [],
   "source": [
    "def test(a, b):\n",
    "    global n\n",
    "    n = 0\n",
    "    if a - b < 2:\n",
    "        return\n",
    "    mid = (a + b) // 2\n",
    "    test(a, mid)\n",
    "    n += 1\n",
    "    print('test1')\n",
    "    test(mid, b)\n",
    "    n += 1\n",
    "    print('test2')\n",
    "    def m_test(a, mid, b):\n",
    "        print(f'{a}, {mid}, {b}')\n",
    "    m_test(a, mid, b)\n",
    "    n += 1"
   ]
  },
  {
   "cell_type": "code",
   "execution_count": 86,
   "metadata": {},
   "outputs": [],
   "source": [
    "test(1, 0)"
   ]
  },
  {
   "cell_type": "code",
   "execution_count": 87,
   "metadata": {},
   "outputs": [
    {
     "name": "stdout",
     "output_type": "stream",
     "text": [
      "test1\n",
      "test2\n",
      "2, 1, 0\n"
     ]
    }
   ],
   "source": [
    "test(2, 0)"
   ]
  },
  {
   "cell_type": "code",
   "execution_count": 88,
   "metadata": {},
   "outputs": [
    {
     "name": "stdout",
     "output_type": "stream",
     "text": [
      "test1\n",
      "test2\n",
      "5, 4, 3\n",
      "test1\n",
      "test2\n",
      "5, 3, 2\n",
      "test1\n",
      "test1\n",
      "test2\n",
      "2, 1, 0\n",
      "test2\n",
      "5, 2, 0\n"
     ]
    }
   ],
   "source": [
    "test(5, 0)"
   ]
  },
  {
   "cell_type": "code",
   "execution_count": 89,
   "metadata": {},
   "outputs": [
    {
     "data": {
      "text/plain": [
       "4"
      ]
     },
     "execution_count": 89,
     "metadata": {},
     "output_type": "execute_result"
    }
   ],
   "source": [
    "n"
   ]
  },
  {
   "cell_type": "code",
   "execution_count": 103,
   "metadata": {},
   "outputs": [],
   "source": [
    "def merge_sort(arr):\n",
    "    def sort(low, high):\n",
    "        global num1\n",
    "        num1 = 0\n",
    "        if high - low < 2:\n",
    "            return\n",
    "        mid = (low + high) // 2\n",
    "        sort(low, mid)\n",
    "        num1 += 1\n",
    "        print(f'num1 = {num1}')\n",
    "        print()\n",
    "        sort(mid, high)\n",
    "        num1 += 1\n",
    "        print(f'num1 = {num1}')\n",
    "        print()\n",
    "        merge(low, mid, high)\n",
    "        num1 += 1\n",
    "        print(f'num1 = {num1}')\n",
    "        print()\n",
    "\n",
    "    def merge(low, mid, high):\n",
    "        global num2\n",
    "        num2 = 1\n",
    "        temp = []\n",
    "        l, m = low, mid\n",
    "        while l < mid and m < high:\n",
    "            if arr[l] < arr[m]:\n",
    "                temp.append(arr[l])\n",
    "                print(arr[l])\n",
    "                l += 1\n",
    "                num2 += 1\n",
    "                print(f'num2 = {num2}')\n",
    "                print(temp)\n",
    "                print()\n",
    "            else:\n",
    "                temp.append(arr[m])\n",
    "                print(arr[m])\n",
    "                m += 1\n",
    "                num2 += 1\n",
    "                print(f'num2 = {num2}')\n",
    "                print(temp)\n",
    "                print()\n",
    "        while l < mid:\n",
    "            temp.append(arr[l])\n",
    "            print(arr[l])\n",
    "            l += 1\n",
    "            num2 += 1\n",
    "            print(f'num2 = {num2}')\n",
    "            print(temp)\n",
    "            print()\n",
    "        while m < high:\n",
    "            temp.append(arr[m])\n",
    "            print(arr[m])\n",
    "            m += 1\n",
    "            num2 += 1\n",
    "            print(f'num2 = {num2}')\n",
    "            print(temp)\n",
    "            print()\n",
    "        for i in range(low, high):\n",
    "            arr[i] = temp[i - low]\n",
    "    return sort(0, len(arr))"
   ]
  },
  {
   "cell_type": "code",
   "execution_count": 104,
   "metadata": {},
   "outputs": [
    {
     "name": "stdout",
     "output_type": "stream",
     "text": [
      "num1 = 1\n",
      "\n",
      "num1 = 1\n",
      "\n",
      "4\n",
      "num2 = 2\n",
      "[4]\n",
      "\n",
      "5\n",
      "num2 = 3\n",
      "[4, 5]\n",
      "\n",
      "num1 = 2\n",
      "\n",
      "num1 = 3\n",
      "\n",
      "num1 = 1\n",
      "\n",
      "num1 = 1\n",
      "\n",
      "num1 = 1\n",
      "\n",
      "2\n",
      "num2 = 2\n",
      "[2]\n",
      "\n",
      "3\n",
      "num2 = 3\n",
      "[2, 3]\n",
      "\n",
      "num1 = 2\n",
      "\n",
      "num1 = 3\n",
      "\n",
      "1\n",
      "num2 = 2\n",
      "[1]\n",
      "\n",
      "2\n",
      "num2 = 3\n",
      "[1, 2]\n",
      "\n",
      "3\n",
      "num2 = 4\n",
      "[1, 2, 3]\n",
      "\n",
      "num1 = 4\n",
      "\n",
      "num1 = 5\n",
      "\n",
      "1\n",
      "num2 = 2\n",
      "[1]\n",
      "\n",
      "2\n",
      "num2 = 3\n",
      "[1, 2]\n",
      "\n",
      "3\n",
      "num2 = 4\n",
      "[1, 2, 3]\n",
      "\n",
      "4\n",
      "num2 = 5\n",
      "[1, 2, 3, 4]\n",
      "\n",
      "5\n",
      "num2 = 6\n",
      "[1, 2, 3, 4, 5]\n",
      "\n",
      "num1 = 6\n",
      "\n"
     ]
    },
    {
     "data": {
      "text/plain": [
       "([1, 2, 3, 4, 5], 6, 6)"
      ]
     },
     "execution_count": 104,
     "metadata": {},
     "output_type": "execute_result"
    }
   ],
   "source": [
    "a = [4, 5, 1, 3, 2]\n",
    "merge_sort(a)\n",
    "a, num1, num2"
   ]
  },
  {
   "cell_type": "code",
   "execution_count": 134,
   "metadata": {},
   "outputs": [],
   "source": [
    "def merge_sort(arr):\n",
    "    global n, s, d\n",
    "    n, s = 0, 0\n",
    "    d = dict()\n",
    "    def sort(low, high):\n",
    "        if high - low < 2:\n",
    "            return\n",
    "        mid = (low + high) // 2\n",
    "        sort(low, mid)\n",
    "        sort(mid, high)\n",
    "        merge(low, mid, high)\n",
    "\n",
    "    def merge(low, mid, high):\n",
    "        global n, s, d\n",
    "        temp = []\n",
    "        l, m = low, mid\n",
    "        while l < mid and m < high:\n",
    "            if arr[l] < arr[m]:\n",
    "                n += 1\n",
    "                d[n] = arr[l]\n",
    "                print(f'n = {n}')\n",
    "                print(arr[l])\n",
    "                print()\n",
    "                temp.append(arr[l])\n",
    "                l += 1\n",
    "            else:\n",
    "                n += 1\n",
    "                d[n] = arr[m]\n",
    "                print(f'n = {n}')\n",
    "                print(arr[m])\n",
    "                print()\n",
    "                temp.append(arr[m])\n",
    "                m += 1\n",
    "        while l < mid:\n",
    "            n += 1\n",
    "            d[n] = arr[l]\n",
    "            print(f'n = {n}')\n",
    "            print(arr[l])\n",
    "            print(temp)\n",
    "            temp.append(arr[l])\n",
    "            l += 1\n",
    "        while m < high:\n",
    "            n += 1\n",
    "            d[n] = arr[m]\n",
    "            print(f'n = {n}')\n",
    "            print(arr[m])\n",
    "            print()\n",
    "            temp.append(arr[m])\n",
    "            m += 1\n",
    "        for i in range(low, high):\n",
    "            arr[i] = temp[i - low]\n",
    "        print(temp)\n",
    "        print(arr)\n",
    "        print()\n",
    "    return sort(0, len(arr))"
   ]
  },
  {
   "cell_type": "code",
   "execution_count": 137,
   "metadata": {},
   "outputs": [
    {
     "name": "stdout",
     "output_type": "stream",
     "text": [
      "n = 1\n",
      "4\n",
      "\n",
      "n = 2\n",
      "5\n",
      "\n",
      "[4, 5]\n",
      "[4, 5, 1, 3, 2]\n",
      "\n",
      "n = 3\n",
      "2\n",
      "\n",
      "n = 4\n",
      "3\n",
      "[2]\n",
      "[2, 3]\n",
      "[4, 5, 1, 2, 3]\n",
      "\n",
      "n = 5\n",
      "1\n",
      "\n",
      "n = 6\n",
      "2\n",
      "\n",
      "n = 7\n",
      "3\n",
      "\n",
      "[1, 2, 3]\n",
      "[4, 5, 1, 2, 3]\n",
      "\n",
      "n = 8\n",
      "1\n",
      "\n",
      "n = 9\n",
      "2\n",
      "\n",
      "n = 10\n",
      "3\n",
      "\n",
      "n = 11\n",
      "4\n",
      "[1, 2, 3]\n",
      "n = 12\n",
      "5\n",
      "[1, 2, 3, 4]\n",
      "[1, 2, 3, 4, 5]\n",
      "[1, 2, 3, 4, 5]\n",
      "\n"
     ]
    },
    {
     "data": {
      "text/plain": [
       "[1, 2, 3, 4, 5]"
      ]
     },
     "execution_count": 137,
     "metadata": {},
     "output_type": "execute_result"
    }
   ],
   "source": [
    "a = [4, 5, 1, 3, 2]\n",
    "merge_sort(a)\n",
    "a"
   ]
  },
  {
   "cell_type": "code",
   "execution_count": 136,
   "metadata": {},
   "outputs": [
    {
     "data": {
      "text/plain": [
       "{1: 4, 2: 5, 3: 2, 4: 3, 5: 1, 6: 2, 7: 3, 8: 1, 9: 2, 10: 3, 11: 4, 12: 5}"
      ]
     },
     "execution_count": 136,
     "metadata": {},
     "output_type": "execute_result"
    }
   ],
   "source": [
    "d"
   ]
  },
  {
   "cell_type": "code",
   "execution_count": 138,
   "metadata": {},
   "outputs": [],
   "source": [
    "def merge_sort(arr):\n",
    "    global n, d\n",
    "    n = 0\n",
    "    d = dict()\n",
    "    def sort(low, high):\n",
    "        if high - low < 2:\n",
    "            return\n",
    "        mid = (low + high) // 2\n",
    "        sort(low, mid)\n",
    "        sort(mid, high)\n",
    "        merge(low, mid, high)\n",
    "\n",
    "    def merge(low, mid, high):\n",
    "        global n, s, d\n",
    "        temp = []\n",
    "        l, m = low, mid\n",
    "        while l < mid and m < high:\n",
    "            if arr[l] < arr[m]:\n",
    "                n += 1\n",
    "                d[n] = arr[l]\n",
    "                temp.append(arr[l])\n",
    "                l += 1\n",
    "            else:\n",
    "                n += 1\n",
    "                d[n] = arr[m]\n",
    "                temp.append(arr[m])\n",
    "                m += 1\n",
    "        while l < mid:\n",
    "            n += 1\n",
    "            d[n] = arr[l]\n",
    "            temp.append(arr[l])\n",
    "            l += 1\n",
    "        while m < high:\n",
    "            n += 1\n",
    "            d[n] = arr[m]\n",
    "            temp.append(arr[m])\n",
    "            m += 1\n",
    "        for i in range(low, high):\n",
    "            arr[i] = temp[i - low]\n",
    "    return sort(0, len(arr))"
   ]
  },
  {
   "cell_type": "code",
   "execution_count": 139,
   "metadata": {},
   "outputs": [
    {
     "data": {
      "text/plain": [
       "[1, 2, 3, 4, 5]"
      ]
     },
     "execution_count": 139,
     "metadata": {},
     "output_type": "execute_result"
    }
   ],
   "source": [
    "a = [4, 5, 1, 3, 2]\n",
    "merge_sort(a)\n",
    "a"
   ]
  },
  {
   "cell_type": "code",
   "execution_count": 140,
   "metadata": {},
   "outputs": [
    {
     "data": {
      "text/plain": [
       "{1: 4, 2: 5, 3: 2, 4: 3, 5: 1, 6: 2, 7: 3, 8: 1, 9: 2, 10: 3, 11: 4, 12: 5}"
      ]
     },
     "execution_count": 140,
     "metadata": {},
     "output_type": "execute_result"
    }
   ],
   "source": [
    "d"
   ]
  },
  {
   "cell_type": "markdown",
   "metadata": {},
   "source": [
    "### 풀이1(틀림)"
   ]
  },
  {
   "cell_type": "code",
   "execution_count": 1,
   "metadata": {},
   "outputs": [
    {
     "name": "stdout",
     "output_type": "stream",
     "text": [
      "3\n"
     ]
    }
   ],
   "source": [
    "def merge_sort(arr):\n",
    "    global n, d\n",
    "    n = 0\n",
    "    d = dict()\n",
    "    def sort(low, high):\n",
    "        if high - low < 2:\n",
    "            return\n",
    "        mid = (low + high) // 2\n",
    "        sort(low, mid)\n",
    "        sort(mid, high)\n",
    "        merge(low, mid, high)\n",
    "\n",
    "    def merge(low, mid, high):\n",
    "        global n, d\n",
    "        temp = []\n",
    "        l, m = low, mid\n",
    "        while l < mid and m < high:\n",
    "            if arr[l] < arr[m]:\n",
    "                n += 1\n",
    "                d[n] = arr[l]\n",
    "                temp.append(arr[l])\n",
    "                l += 1\n",
    "            else:\n",
    "                n += 1\n",
    "                d[n] = arr[m]\n",
    "                temp.append(arr[m])\n",
    "                m += 1\n",
    "        while l < mid:\n",
    "            n += 1\n",
    "            d[n] = arr[l]\n",
    "            temp.append(arr[l])\n",
    "            l += 1\n",
    "        while m < high:\n",
    "            n += 1\n",
    "            d[n] = arr[m]\n",
    "            temp.append(arr[m])\n",
    "            m += 1\n",
    "        for i in range(low, high):\n",
    "            arr[i] = temp[i - low]\n",
    "    return sort(0, len(arr))\n",
    "N, K = map(int, input().split())\n",
    "A = list(map(int, input().split()))\n",
    "merge_sort(A)\n",
    "try:\n",
    "    print(d[K])\n",
    "except:\n",
    "    print(-1)"
   ]
  },
  {
   "cell_type": "code",
   "execution_count": 2,
   "metadata": {},
   "outputs": [
    {
     "data": {
      "text/plain": [
       "{1: 4, 2: 5, 3: 2, 4: 3, 5: 1, 6: 2, 7: 3, 8: 1, 9: 2, 10: 3, 11: 4, 12: 5}"
      ]
     },
     "execution_count": 2,
     "metadata": {},
     "output_type": "execute_result"
    }
   ],
   "source": [
    "d"
   ]
  },
  {
   "cell_type": "markdown",
   "metadata": {},
   "source": [
    "### 참고\n",
    "- https://bblackscene21.tistory.com/8"
   ]
  },
  {
   "cell_type": "code",
   "execution_count": 5,
   "metadata": {},
   "outputs": [
    {
     "name": "stdout",
     "output_type": "stream",
     "text": [
      "[1, 2, 3, 4, 5]\n"
     ]
    }
   ],
   "source": [
    "sublist = [4, 5, 1, 3, 2]\n",
    "\n",
    "def mergeSort(list):\n",
    "\tsize = len(list)\n",
    "\tif size <= 1: return list\n",
    "\n",
    "\tmid = len(list) // 2\n",
    "\tleft = mergeSort(list[:mid])\n",
    "\tright = mergeSort(list[mid:])\n",
    "\tmerged = merge(left, right)\n",
    "\treturn merged\n",
    "\n",
    "def merge(list1, list2):\n",
    "\tglobal n, d\n",
    "\tn = 0\n",
    "\td = dict()\n",
    "\tmerged = []\n",
    "\twhile len(list1) > 0 and len(list2) > 0:\n",
    "\t\tn += 1\n",
    "\t\tif list1[0] <= list2[0]:\n",
    "\t\t\td[n] = list1[0]\n",
    "\t\t\tmerged.append(list1.pop(0))\n",
    "\t\telse:\n",
    "\t\t\td[n] = list2[0]\n",
    "\t\t\tmerged.append(list2.pop(0))\n",
    "\n",
    "\tif len(list1) > 0:\n",
    "\t\tmerged += list1\n",
    "\t\tn += 1\n",
    "\t\td[n] = list1\n",
    "\tif len(list2) > 0:\n",
    "\t\tmerged += list2\n",
    "\t\tn += 1\n",
    "\t\td[n] = list2\n",
    "\n",
    "\treturn merged\n",
    "\n",
    "\n",
    "sorted = mergeSort(sublist)\n",
    "print (sorted)"
   ]
  },
  {
   "cell_type": "code",
   "execution_count": 6,
   "metadata": {},
   "outputs": [
    {
     "data": {
      "text/plain": [
       "{1: 1, 2: 2, 3: 3, 4: [4, 5]}"
      ]
     },
     "execution_count": 6,
     "metadata": {},
     "output_type": "execute_result"
    }
   ],
   "source": [
    "d"
   ]
  },
  {
   "cell_type": "code",
   "execution_count": null,
   "metadata": {},
   "outputs": [],
   "source": [
    "def mergeSort(list,p,q): #q= inclusive\n",
    "\tif p>= q: return\n",
    "\tmid = (p + q) // 2\n",
    "\tmergeSort(list, p, mid)\n",
    "\tmergeSort(list, mid+ 1, q)\n",
    "\tmerge(list, p, mid + 1, q)\n",
    "\n",
    "def merge(list, left, right, end):\n",
    "\tglobal num, d\n",
    "\tnum = 0\n",
    "\td = dict()\n",
    "\tmerged = []\n",
    "\tl, r = left, right\n",
    "\twhile l < right and r <= end:\n",
    "\t\tnum += 1\n",
    "\t\tif list[l] <= list[r]:\n",
    "\t\t\td[num] = list[l]\n",
    "\t\t\tmerged.append(list[l])\n",
    "\t\t\tl +=1\n",
    "\t\telse:\n",
    "\t\t\td[num] = list[r]\n",
    "\t\t\tmerged.append(list[r])\n",
    "\t\t\tr +=1\n",
    "\twhile l < right:\n",
    "\t\tnum += 1\n",
    "\t\td[num] = list[l]\n",
    "\t\tmerged.append(list[l])\n",
    "\t\tl +=1\n",
    "\twhile r <= end:\n",
    "\t\tnum += 1\n",
    "\t\td[num] = list[r]\n",
    "\t\tmerged.append(list[r])\n",
    "\t\tr+=1\n",
    "\n",
    "\tl = left\n",
    "\tfor n in merged:\n",
    "\t\tnum += 1\n",
    "\t\td[num] = n\n",
    "\t\tlist[l] = n\t\n",
    "\t\tl +=1\n",
    "\n",
    "sublist = [4, 5, 1, 3, 2]\n",
    "print(sublist)\n",
    "sorted = mergeSort(sublist, 0, len(sublist) - 1)\n",
    "print(sublist)"
   ]
  },
  {
   "cell_type": "code",
   "execution_count": 5,
   "metadata": {},
   "outputs": [
    {
     "name": "stdout",
     "output_type": "stream",
     "text": [
      "[4, 5, 1, 3, 2]\n",
      "[1, 2, 3, 4, 5]\n"
     ]
    }
   ],
   "source": [
    "def mergeSort(list,p,q): #q= inclusive\n",
    "\tif p>= q: return\n",
    "\tmid = (p + q) // 2\n",
    "\tmergeSort(list, p, mid)\n",
    "\tmergeSort(list, mid+ 1, q)\n",
    "\tmerge(list, p, mid + 1, q)\n",
    "\n",
    "def merge(list, left, right, end):\n",
    "\tmerged = []\n",
    "\tl, r = left, right\n",
    "\twhile l < right and r <= end:\n",
    "\t\tif list[l] <= list[r]:\n",
    "\t\t\tmerged.append(list[l])\n",
    "\t\t\tl +=1\n",
    "\t\telse:\n",
    "\t\t\tmerged.append(list[r])\n",
    "\t\t\tr +=1\n",
    "\twhile l < right:\n",
    "\t\tmerged.append(list[l])\n",
    "\t\tl +=1\n",
    "\twhile r <= end:\n",
    "\t\tmerged.append(list[r])\n",
    "\t\tr+=1\n",
    "\n",
    "\tl = left\n",
    "\tfor n in merged:\n",
    "\t\tlist[l] = n\t\n",
    "\t\tl +=1\n",
    "\n",
    "sublist = [4, 5, 1, 3, 2]\n",
    "print(sublist)\n",
    "sorted = mergeSort(sublist, 0, len(sublist) - 1)\n",
    "print(sublist)"
   ]
  },
  {
   "cell_type": "code",
   "execution_count": 10,
   "metadata": {},
   "outputs": [
    {
     "data": {
      "text/plain": [
       "{1: 1, 2: 2, 3: 3, 4: 4, 5: 5, 6: 1, 7: 2, 8: 3, 9: 4, 10: 5}"
      ]
     },
     "execution_count": 10,
     "metadata": {},
     "output_type": "execute_result"
    }
   ],
   "source": [
    "d"
   ]
  },
  {
   "cell_type": "code",
   "execution_count": 34,
   "metadata": {},
   "outputs": [],
   "source": [
    "def merge_sort(arr):\n",
    "    global num, n_dict\n",
    "    num, n_dict = 0, dict()\n",
    "    def sort(start, end):\n",
    "        if start >= end:\n",
    "            return\n",
    "        mid = (start + end) // 2\n",
    "        sort(start, mid)\n",
    "        sort(mid + 1, end)\n",
    "        merge(start, mid, end)\n",
    "\n",
    "    def merge(start, mid, end):\n",
    "        global num, n_dict\n",
    "        print(f'arr = {arr}')\n",
    "        print(f'start, mid, end = {start}, {mid}, {end}')\n",
    "        s, m = start, mid + 1\n",
    "        temp = []\n",
    "        while s <= mid and m <= end:\n",
    "            if arr[s] <= arr[m]:\n",
    "                temp.append(arr[s])\n",
    "                s += 1\n",
    "            else:\n",
    "                temp.append(arr[m])\n",
    "                m += 1\n",
    "        while s <= mid:\n",
    "            temp.append(arr[s])\n",
    "            s += 1\n",
    "        while m <= end:\n",
    "            temp.append(arr[m])\n",
    "            m += 1\n",
    "        s = start\n",
    "        t = 0\n",
    "        while s <= end:\n",
    "            num += 1\n",
    "            n_dict[num] = temp[t]\n",
    "            print(f'arr = {arr}')\n",
    "            print(f'temp = {temp}')\n",
    "            arr[s] = temp[t]\n",
    "            print(f'arr = {arr}')\n",
    "            print('===============')\n",
    "            s += 1\n",
    "            t += 1\n",
    "    return sort(0, len(arr) - 1)"
   ]
  },
  {
   "cell_type": "code",
   "execution_count": 35,
   "metadata": {},
   "outputs": [
    {
     "name": "stdout",
     "output_type": "stream",
     "text": [
      "arr = [4, 5, 1, 3, 2]\n",
      "start, mid, end = 0, 0, 1\n",
      "arr = [4, 5, 1, 3, 2]\n",
      "temp = [4, 5]\n",
      "arr = [4, 5, 1, 3, 2]\n",
      "===============\n",
      "arr = [4, 5, 1, 3, 2]\n",
      "temp = [4, 5]\n",
      "arr = [4, 5, 1, 3, 2]\n",
      "===============\n",
      "arr = [4, 5, 1, 3, 2]\n",
      "start, mid, end = 0, 1, 2\n",
      "arr = [4, 5, 1, 3, 2]\n",
      "temp = [1, 4, 5]\n",
      "arr = [1, 5, 1, 3, 2]\n",
      "===============\n",
      "arr = [1, 5, 1, 3, 2]\n",
      "temp = [1, 4, 5]\n",
      "arr = [1, 4, 1, 3, 2]\n",
      "===============\n",
      "arr = [1, 4, 1, 3, 2]\n",
      "temp = [1, 4, 5]\n",
      "arr = [1, 4, 5, 3, 2]\n",
      "===============\n",
      "arr = [1, 4, 5, 3, 2]\n",
      "start, mid, end = 3, 3, 4\n",
      "arr = [1, 4, 5, 3, 2]\n",
      "temp = [2, 3]\n",
      "arr = [1, 4, 5, 2, 2]\n",
      "===============\n",
      "arr = [1, 4, 5, 2, 2]\n",
      "temp = [2, 3]\n",
      "arr = [1, 4, 5, 2, 3]\n",
      "===============\n",
      "arr = [1, 4, 5, 2, 3]\n",
      "start, mid, end = 0, 2, 4\n",
      "arr = [1, 4, 5, 2, 3]\n",
      "temp = [1, 2, 3, 4, 5]\n",
      "arr = [1, 4, 5, 2, 3]\n",
      "===============\n",
      "arr = [1, 4, 5, 2, 3]\n",
      "temp = [1, 2, 3, 4, 5]\n",
      "arr = [1, 2, 5, 2, 3]\n",
      "===============\n",
      "arr = [1, 2, 5, 2, 3]\n",
      "temp = [1, 2, 3, 4, 5]\n",
      "arr = [1, 2, 3, 2, 3]\n",
      "===============\n",
      "arr = [1, 2, 3, 2, 3]\n",
      "temp = [1, 2, 3, 4, 5]\n",
      "arr = [1, 2, 3, 4, 3]\n",
      "===============\n",
      "arr = [1, 2, 3, 4, 3]\n",
      "temp = [1, 2, 3, 4, 5]\n",
      "arr = [1, 2, 3, 4, 5]\n",
      "===============\n",
      "sorted a = [1, 2, 3, 4, 5]\n"
     ]
    }
   ],
   "source": [
    "a = [4, 5, 1, 3, 2]\n",
    "# print(a)\n",
    "merge_sort(a)\n",
    "print(f'sorted a = {a}')"
   ]
  },
  {
   "cell_type": "code",
   "execution_count": 36,
   "metadata": {},
   "outputs": [
    {
     "data": {
      "text/plain": [
       "12"
      ]
     },
     "execution_count": 36,
     "metadata": {},
     "output_type": "execute_result"
    }
   ],
   "source": [
    "num"
   ]
  },
  {
   "cell_type": "code",
   "execution_count": 37,
   "metadata": {},
   "outputs": [
    {
     "data": {
      "text/plain": [
       "{1: 4, 2: 5, 3: 1, 4: 4, 5: 5, 6: 2, 7: 3, 8: 1, 9: 2, 10: 3, 11: 4, 12: 5}"
      ]
     },
     "execution_count": 37,
     "metadata": {},
     "output_type": "execute_result"
    }
   ],
   "source": [
    "n_dict"
   ]
  },
  {
   "cell_type": "markdown",
   "metadata": {},
   "source": [
    "### 풀이2(시간 초과)"
   ]
  },
  {
   "cell_type": "code",
   "execution_count": 50,
   "metadata": {},
   "outputs": [],
   "source": [
    "def merge_sort(arr):\n",
    "    global num, ndict\n",
    "    num, ndict = 0, dict()\n",
    "    def sort(start, end):\n",
    "        if start >= end:\n",
    "            return\n",
    "        mid = (start + end) // 2\n",
    "        sort(start, mid)\n",
    "        sort(mid + 1, end)\n",
    "        merge(start, mid, end)\n",
    "\n",
    "    def merge(start, mid, end):\n",
    "        global num, ndict\n",
    "        s, m = start, mid + 1\n",
    "        temp = []\n",
    "        while s <= mid and m <= end:\n",
    "            if arr[s] <= arr[m]:\n",
    "                temp.append(arr[s])\n",
    "                s += 1\n",
    "            else:\n",
    "                temp.append(arr[m])\n",
    "                m += 1\n",
    "        while s <= mid:\n",
    "            temp.append(arr[s])\n",
    "            s += 1\n",
    "        while m <= end:\n",
    "            temp.append(arr[m])\n",
    "            m += 1\n",
    "        s = start\n",
    "        t = 0\n",
    "        while s <= end:\n",
    "            num += 1\n",
    "            ndict[num] = temp[t]\n",
    "            arr[s] = temp[t]\n",
    "            s += 1\n",
    "            t += 1\n",
    "    return sort(0, len(arr) - 1)\n",
    "\n",
    "N, K = map(int, input().split())\n",
    "arr = list(map(int, input().split()))\n",
    "d = dict()\n",
    "merge_sort(arr)"
   ]
  },
  {
   "cell_type": "code",
   "execution_count": 51,
   "metadata": {},
   "outputs": [
    {
     "data": {
      "text/plain": [
       "3"
      ]
     },
     "execution_count": 51,
     "metadata": {},
     "output_type": "execute_result"
    }
   ],
   "source": [
    "ndict[K]"
   ]
  },
  {
   "cell_type": "code",
   "execution_count": 52,
   "metadata": {},
   "outputs": [
    {
     "data": {
      "text/plain": [
       "[1, 2, 3, 4, 5]"
      ]
     },
     "execution_count": 52,
     "metadata": {},
     "output_type": "execute_result"
    }
   ],
   "source": [
    "arr"
   ]
  },
  {
   "cell_type": "markdown",
   "metadata": {},
   "source": [
    "### 풀이3(시간 초과)"
   ]
  },
  {
   "cell_type": "code",
   "execution_count": null,
   "metadata": {},
   "outputs": [],
   "source": [
    "import sys\n",
    "def merge_sort(arr):\n",
    "    global num, n_dict\n",
    "    num, n_dict = 0, dict()\n",
    "    def sort(start, end):\n",
    "        if start >= end:\n",
    "            return\n",
    "        mid = (start + end) // 2\n",
    "        sort(start, mid)\n",
    "        sort(mid + 1, end)\n",
    "        merge(start, mid, end)\n",
    "\n",
    "    def merge(start, mid, end):\n",
    "        global num, n_dict\n",
    "        s, m = start, mid + 1\n",
    "        temp = []\n",
    "        while s <= mid and m <= end:\n",
    "            if arr[s] <= arr[m]:\n",
    "                temp.append(arr[s])\n",
    "                s += 1\n",
    "            else:\n",
    "                temp.append(arr[m])\n",
    "                m += 1\n",
    "        while s <= mid:\n",
    "            temp.append(arr[s])\n",
    "            s += 1\n",
    "        while m <= end:\n",
    "            temp.append(arr[m])\n",
    "            m += 1\n",
    "        s = start\n",
    "        t = 0\n",
    "        while s <= end:\n",
    "            num += 1\n",
    "            n_dict[num] = temp[t]\n",
    "            arr[s] = temp[t]\n",
    "            s += 1\n",
    "            t += 1\n",
    "    return sort(0, len(arr) - 1)\n",
    "\n",
    "N, K = map(int, sys.stdin.readline().rstrip().split())\n",
    "arr = list(map(int, sys.stdin.readline().rstrip().split()))\n",
    "merge_sort(arr)\n",
    "print(n_dict[K])"
   ]
  },
  {
   "cell_type": "markdown",
   "metadata": {},
   "source": [
    "### 풀이4(시간 초과)"
   ]
  },
  {
   "cell_type": "code",
   "execution_count": 62,
   "metadata": {},
   "outputs": [
    {
     "name": "stdout",
     "output_type": "stream",
     "text": [
      "3\n"
     ]
    }
   ],
   "source": [
    "def merge_sort(arr):\n",
    "    global num, ndict\n",
    "    num, ndict = 0, dict()\n",
    "    def sort(start, end):\n",
    "        if start >= end:\n",
    "            return\n",
    "        mid = (start + end) // 2\n",
    "        sort(start, mid)\n",
    "        sort(mid + 1, end)\n",
    "        merge(start, mid, end)\n",
    "\n",
    "    def merge(start, mid, end):\n",
    "        global num, ndict\n",
    "        s, m = start, mid + 1\n",
    "        temp = []\n",
    "        while s <= mid and m <= end:\n",
    "            if arr[s] <= arr[m]:\n",
    "                temp.append(arr[s])\n",
    "                s += 1\n",
    "            else:\n",
    "                temp.append(arr[m])\n",
    "                m += 1\n",
    "        while s <= mid:\n",
    "            temp.append(arr[s])\n",
    "            s += 1\n",
    "        while m <= end:\n",
    "            temp.append(arr[m])\n",
    "            m += 1\n",
    "        s = start\n",
    "        t = 0\n",
    "        while s <= end:\n",
    "            num += 1\n",
    "            ndict[num] = temp[t]\n",
    "            arr[s] = temp[t]\n",
    "            s += 1\n",
    "            t += 1\n",
    "    return sort(0, len(arr) - 1)\n",
    "\n",
    "N, K = map(int, input().split())\n",
    "arr = list(map(int, input().split()))\n",
    "d = dict()\n",
    "merge_sort(arr)\n",
    "if num >= K:\n",
    "    print(ndict[K])\n",
    "else:\n",
    "    print(-1)"
   ]
  },
  {
   "cell_type": "code",
   "execution_count": 61,
   "metadata": {},
   "outputs": [
    {
     "data": {
      "text/plain": [
       "{1: 4, 2: 5, 3: 1, 4: 4, 5: 5, 6: 2, 7: 3, 8: 1, 9: 2, 10: 3, 11: 4, 12: 5}"
      ]
     },
     "execution_count": 61,
     "metadata": {},
     "output_type": "execute_result"
    }
   ],
   "source": [
    "ndict"
   ]
  },
  {
   "cell_type": "markdown",
   "metadata": {},
   "source": [
    "### 풀이5(시간 초과)"
   ]
  },
  {
   "cell_type": "code",
   "execution_count": 67,
   "metadata": {},
   "outputs": [
    {
     "name": "stdout",
     "output_type": "stream",
     "text": [
      "-1\n"
     ]
    }
   ],
   "source": [
    "def merge_sort(arr):\n",
    "    def sort(start, end):\n",
    "        if start >= end:\n",
    "            return\n",
    "        mid = (start + end) // 2\n",
    "        sort(start, mid)\n",
    "        sort(mid + 1, end)\n",
    "        merge(start, mid, end)\n",
    "\n",
    "    def merge(start, mid, end):\n",
    "        s, m = start, mid + 1\n",
    "        temp = []\n",
    "        while s <= mid and m <= end:\n",
    "            if arr[s] <= arr[m]:\n",
    "                temp.append(arr[s])\n",
    "                s += 1\n",
    "            else:\n",
    "                temp.append(arr[m])\n",
    "                m += 1\n",
    "        while s <= mid:\n",
    "            temp.append(arr[s])\n",
    "            s += 1\n",
    "        while m <= end:\n",
    "            temp.append(arr[m])\n",
    "            m += 1\n",
    "        s = start\n",
    "        t = 0\n",
    "        while s <= end:\n",
    "            ndict[len(ndict) + 1] = temp[t]\n",
    "            arr[s] = temp[t]\n",
    "            s += 1\n",
    "            t += 1\n",
    "    return sort(0, len(arr) - 1)\n",
    "\n",
    "N, K = map(int, input().split())\n",
    "arr = list(map(int, input().split()))\n",
    "ndict = dict()\n",
    "merge_sort(arr)\n",
    "if len(ndict) >= K:\n",
    "    print(ndict[K])\n",
    "else:\n",
    "    print(-1)"
   ]
  },
  {
   "cell_type": "code",
   "execution_count": 65,
   "metadata": {},
   "outputs": [
    {
     "data": {
      "text/plain": [
       "[10, 11, 3, 4, 5]"
      ]
     },
     "execution_count": 65,
     "metadata": {},
     "output_type": "execute_result"
    }
   ],
   "source": [
    "a = [1, 2, 3, 4, 5]\n",
    "b = [10, 11]\n",
    "a[:2] = b\n",
    "a"
   ]
  },
  {
   "cell_type": "markdown",
   "metadata": {},
   "source": [
    "### 풀이6(틀림)"
   ]
  },
  {
   "cell_type": "code",
   "execution_count": null,
   "metadata": {},
   "outputs": [],
   "source": [
    "def merge_sort(arr):\n",
    "    def sort(start, end):\n",
    "        if start >= end:\n",
    "            return\n",
    "        mid = (start + end) // 2\n",
    "        sort(start, mid)\n",
    "        sort(mid + 1, end)\n",
    "        merge(start, mid, end)\n",
    "\n",
    "    def merge(start, mid, end):\n",
    "        s, m = start, mid + 1\n",
    "        temp = []\n",
    "        while s <= mid and m <= end:\n",
    "            if arr[s] <= arr[m]:\n",
    "                temp.append(arr[s])\n",
    "                s += 1\n",
    "            else:\n",
    "                temp.append(arr[m])\n",
    "                m += 1\n",
    "        while s <= mid:\n",
    "            temp.append(arr[s])\n",
    "            s += 1\n",
    "        while m <= end:\n",
    "            temp.append(arr[m])\n",
    "            m += 1\n",
    "        s = start\n",
    "        t = 0\n",
    "        while s <= end:\n",
    "            ndict[len(ndict) + 1] = temp[t]\n",
    "            s += 1\n",
    "            t += 1\n",
    "        arr[:len(temp)] = temp\n",
    "    return sort(0, len(arr) - 1)\n",
    "\n",
    "N, K = map(int, input().split())\n",
    "arr = list(map(int, input().split()))\n",
    "ndict = dict()\n",
    "merge_sort(arr)\n",
    "if len(ndict) >= K:\n",
    "    print(ndict[K])\n",
    "else:\n",
    "    print(-1)"
   ]
  },
  {
   "cell_type": "code",
   "execution_count": null,
   "metadata": {},
   "outputs": [],
   "source": [
    "import sys\n",
    "def merge_sort(arr):\n",
    "    def sort(start, end):\n",
    "        if start >= end:\n",
    "            return\n",
    "        mid = (start + end) // 2\n",
    "        sort(start, mid)\n",
    "        sort(mid + 1, end)\n",
    "        merge(start, mid, end)\n",
    "\n",
    "    def merge(start, mid, end):\n",
    "        s, m = start, mid + 1\n",
    "        temp = []\n",
    "        while s <= mid and m <= end:\n",
    "            if arr[s] <= arr[m]:\n",
    "                temp.append(arr[s])\n",
    "                s += 1\n",
    "            else:\n",
    "                temp.append(arr[m])\n",
    "                m += 1\n",
    "        while s <= mid:\n",
    "            temp.append(arr[s])\n",
    "            s += 1\n",
    "        while m <= end:\n",
    "            temp.append(arr[m])\n",
    "            m += 1\n",
    "        s = start\n",
    "        t = 0\n",
    "        while s <= end:\n",
    "            ndict[len(ndict) + 1] = temp[t]\n",
    "            s += 1\n",
    "            t += 1\n",
    "        arr[:len(temp)] = temp\n",
    "    return sort(0, len(arr) - 1)\n",
    "\n",
    "N, K = map(int, sys.stdin.readline().rstrip().split())\n",
    "arr = list(map(int, sys.stdin.readline().rstrip().split()))\n",
    "ndict = dict()\n",
    "merge_sort(arr)\n",
    "if len(ndict) >= K:\n",
    "    print(ndict[K])\n",
    "else:\n",
    "    print(-1)"
   ]
  },
  {
   "cell_type": "markdown",
   "metadata": {},
   "source": [
    "### 풀이8(시간 초과)"
   ]
  },
  {
   "cell_type": "code",
   "execution_count": null,
   "metadata": {},
   "outputs": [],
   "source": [
    "def merge_sort(arr):\n",
    "    def sort(start, end):\n",
    "        if start >= end:\n",
    "            return\n",
    "        mid = (start + end) // 2\n",
    "        sort(start, mid)\n",
    "        sort(mid + 1, end)\n",
    "        merge(start, mid, end)\n",
    "\n",
    "    def merge(start, mid, end):\n",
    "        s, m = start, mid + 1\n",
    "        temp = []\n",
    "        while s <= mid and m <= end:\n",
    "            if arr[s] <= arr[m]:\n",
    "                temp.append(arr[s])\n",
    "                s += 1\n",
    "            else:\n",
    "                temp.append(arr[m])\n",
    "                m += 1\n",
    "        while s <= mid:\n",
    "            temp.append(arr[s])\n",
    "            s += 1\n",
    "        while m <= end:\n",
    "            temp.append(arr[m])\n",
    "            m += 1\n",
    "        s = start\n",
    "        t = 0\n",
    "        while s <= end:\n",
    "            ndict[len(ndict) + 1] = temp[t]\n",
    "            s += 1\n",
    "            t += 1\n",
    "        arr[start:len(temp)] = temp\n",
    "    return sort(0, len(arr) - 1)\n",
    "\n",
    "N, K = map(int, input().split())\n",
    "arr = list(map(int, input().split()))\n",
    "ndict = dict()\n",
    "merge_sort(arr)\n",
    "if len(ndict) >= K:\n",
    "    print(ndict[K])\n",
    "else:\n",
    "    print(-1)"
   ]
  },
  {
   "cell_type": "code",
   "execution_count": null,
   "metadata": {},
   "outputs": [],
   "source": [
    "import sys\n",
    "def merge_sort(arr):\n",
    "    def sort(start, end):\n",
    "        if start >= end:\n",
    "            return\n",
    "        mid = (start + end) // 2\n",
    "        sort(start, mid)\n",
    "        sort(mid + 1, end)\n",
    "        merge(start, mid, end)\n",
    "\n",
    "    def merge(start, mid, end):\n",
    "        s, m = start, mid + 1\n",
    "        temp = []\n",
    "        while s <= mid and m <= end:\n",
    "            if arr[s] <= arr[m]:\n",
    "                temp.append(arr[s])\n",
    "                s += 1\n",
    "            else:\n",
    "                temp.append(arr[m])\n",
    "                m += 1\n",
    "        while s <= mid:\n",
    "            temp.append(arr[s])\n",
    "            s += 1\n",
    "        while m <= end:\n",
    "            temp.append(arr[m])\n",
    "            m += 1\n",
    "        s = start\n",
    "        t = 0\n",
    "        while s <= end:\n",
    "            ndict[len(ndict) + 1] = temp[t]\n",
    "            s += 1\n",
    "            t += 1\n",
    "        arr[start:len(temp)] = temp\n",
    "    return sort(0, len(arr) - 1)\n",
    "\n",
    "N, K = map(int, sys.stdin.readline().rstrip().split())\n",
    "arr = list(map(int, sys.stdin.readline().rstrip().split()))\n",
    "ndict = dict()\n",
    "merge_sort(arr)\n",
    "if len(ndict) >= K:\n",
    "    print(ndict[K])\n",
    "else:\n",
    "    print(-1)"
   ]
  },
  {
   "cell_type": "markdown",
   "metadata": {},
   "source": [
    "## 2447번 - 별 찍기 - 10"
   ]
  },
  {
   "cell_type": "markdown",
   "metadata": {},
   "source": [
    "## 11729번 - 하노이 탑 이동 순서"
   ]
  },
  {
   "cell_type": "markdown",
   "metadata": {},
   "source": [
    "# 코드 마지막"
   ]
  },
  {
   "cell_type": "markdown",
   "metadata": {},
   "source": []
  }
 ],
 "metadata": {
  "interpreter": {
   "hash": "569b4317022eb29baeafb3d0f1f739310808ea28ce83ca127a35db1c01070585"
  },
  "kernelspec": {
   "display_name": "Python 3.9.12 ('base')",
   "language": "python",
   "name": "python3"
  },
  "language_info": {
   "codemirror_mode": {
    "name": "ipython",
    "version": 3
   },
   "file_extension": ".py",
   "mimetype": "text/x-python",
   "name": "python",
   "nbconvert_exporter": "python",
   "pygments_lexer": "ipython3",
   "version": "3.9.12"
  },
  "orig_nbformat": 4
 },
 "nbformat": 4,
 "nbformat_minor": 2
}
