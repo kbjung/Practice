{
 "cells": [
  {
   "cell_type": "markdown",
   "metadata": {},
   "source": [
    "# 정수론 및 조합론"
   ]
  },
  {
   "cell_type": "markdown",
   "metadata": {},
   "source": [
    "## 5086번 - 배수와 약수\n",
    "\n",
    "- 문제  \n",
    "    4 × 3 = 12이다.\n",
    "\n",
    "    이 식을 통해 다음과 같은 사실을 알 수 있다.\n",
    "\n",
    "    3은 12의 약수이고, 12는 3의 배수이다.\n",
    "\n",
    "    4도 12의 약수이고, 12는 4의 배수이다.\n",
    "\n",
    "    두 수가 주어졌을 때, 다음 3가지 중 어떤 관계인지 구하는 프로그램을 작성하시오.\n",
    "\n",
    "    첫 번째 숫자가 두 번째 숫자의 약수이다.\n",
    "    첫 번째 숫자가 두 번째 숫자의 배수이다.\n",
    "    첫 번째 숫자가 두 번째 숫자의 약수와 배수 모두 아니다.\n",
    "- 입력  \n",
    "    입력은 여러 테스트 케이스로 이루어져 있다. 각 테스트 케이스는 10,000이 넘지않는 두 자연수로 이루어져 있다. 마지막 줄에는 0이 2개 주어진다. 두 수가 같은 경우는 없다.\n",
    "\n",
    "- 출력  \n",
    "    각 테스트 케이스마다 첫 번째 숫자가 두 번째 숫자의 약수라면 factor를, 배수라면 multiple을, 둘 다 아니라면 neither를 출력한다.\n",
    "\n",
    "- 예제 입력1  \n",
    "    8 16  \n",
    "    32 4  \n",
    "    17 5  \n",
    "    0 0  \n",
    "- 예제 출력1  \n",
    "    factor  \n",
    "    multiple  \n",
    "    neither  "
   ]
  },
  {
   "cell_type": "markdown",
   "metadata": {},
   "source": [
    "### 풀이(30840KB, 64ms, 215B)"
   ]
  },
  {
   "cell_type": "code",
   "execution_count": 1,
   "metadata": {},
   "outputs": [
    {
     "name": "stdout",
     "output_type": "stream",
     "text": [
      "factor\n",
      "multiple\n",
      "neither\n"
     ]
    }
   ],
   "source": [
    "while True:\n",
    "    a, b = map(int, input().split())\n",
    "    if a == 0 and b == 0:\n",
    "        break\n",
    "    elif b % a == 0:\n",
    "        print('factor')\n",
    "    elif a % b == 0:\n",
    "        print('multiple')\n",
    "    else:\n",
    "        print('neither')"
   ]
  },
  {
   "cell_type": "markdown",
   "metadata": {},
   "source": [
    "## 1037번 - 약수\n",
    "\n",
    "- 문제  \n",
    "    양수 A가 N의 진짜 약수가 되려면, N이 A의 배수이고, A가 1과 N이 아니어야 한다. 어떤 수 N의 진짜 약수가 모두 주어질 때, N을 구하는 프로그램을 작성하시오.\n",
    "\n",
    "- 입력  \n",
    "    첫째 줄에 N의 진짜 약수의 개수가 주어진다. 이 개수는 50보다 작거나 같은 자연수이다. 둘째 줄에는 N의 진짜 약수가 주어진다. 1,000,000보다 작거나 같고, 2보다 크거나 같은 자연수이고, 중복되지 않는다.\n",
    "\n",
    "- 출력  \n",
    "    첫째 줄에 N을 출력한다. N은 항상 32비트 부호있는 정수로 표현할 수 있다.\n",
    "\n",
    "    예제 입력|예제 출력\n",
    "    -|-\n",
    "    2</br>4 2|8\n",
    "    1</br>2|4\n",
    "    6</br>3 4 2 12 6 8|24\n",
    "    14</br>14 26456 2 28 13228 3307 7 23149 8 6614 46298 56 4 92596|185192"
   ]
  },
  {
   "cell_type": "markdown",
   "metadata": {},
   "source": [
    "### 풀이(30840KB, 68ms, 127B)"
   ]
  },
  {
   "cell_type": "code",
   "execution_count": 3,
   "metadata": {},
   "outputs": [
    {
     "name": "stdout",
     "output_type": "stream",
     "text": [
      "24\n"
     ]
    }
   ],
   "source": [
    "n = int(input())\n",
    "nums = list(map(int, input().split()))\n",
    "if n == 1:\n",
    "    print(nums[0]**2)\n",
    "else:\n",
    "    print(max(nums) * min(nums))"
   ]
  },
  {
   "cell_type": "markdown",
   "metadata": {},
   "source": [
    "## 2609번 - 최대공약수와 최소공배수\n",
    "\n",
    "- 문제  \n",
    "    두 개의 자연수를 입력받아 최대 공약수와 최소 공배수를 출력하는 프로그램을 작성하시오.\n",
    "\n",
    "- 입력  \n",
    "    첫째 줄에는 두 개의 자연수가 주어진다. 이 둘은 10,000이하의 자연수이며 사이에 한 칸의 공백이 주어진다.\n",
    "\n",
    "- 출력  \n",
    "    첫째 줄에는 입력으로 주어진 두 수의 최대공약수를, 둘째 줄에는 입력으로 주어진 두 수의 최소 공배수를 출력한다.\n",
    "\n",
    "- 예제 입력  \n",
    "    24 18  \n",
    "- 예제 출력  \n",
    "    6  \n",
    "    72"
   ]
  },
  {
   "cell_type": "markdown",
   "metadata": {},
   "source": [
    "### 풀이(30840KB, 72ms, 220B)"
   ]
  },
  {
   "cell_type": "code",
   "execution_count": 4,
   "metadata": {},
   "outputs": [
    {
     "name": "stdout",
     "output_type": "stream",
     "text": [
      "6\n",
      "72\n"
     ]
    }
   ],
   "source": [
    "A, B = map(int, input().split())\n",
    "G = 1\n",
    "i = 2\n",
    "while i <= A or i <= B:\n",
    "    if (A % i == 0) and (B % i == 0):\n",
    "        A = int(A/i)\n",
    "        B = int(B/i)\n",
    "        G *= i\n",
    "    else:\n",
    "        i += 1\n",
    "L = G * A * B\n",
    "print(G)\n",
    "print(L)"
   ]
  },
  {
   "cell_type": "markdown",
   "metadata": {},
   "source": [
    "## 1934번 - 최소공배수\n",
    "\n",
    "- 문제  \n",
    "    두 자연수 A와 B에 대해서, A의 배수이면서 B의 배수인 자연수를 A와 B의 공배수라고 한다. 이런 공배수 중에서 가장 작은 수를 최소공배수라고 한다. 예를 들어, 6과 15의 공배수는 30, 60, 90등이 있으며, 최소 공배수는 30이다.\n",
    "\n",
    "    두 자연수 A와 B가 주어졌을 때, A와 B의 최소공배수를 구하는 프로그램을 작성하시오.\n",
    "\n",
    "- 입력  \n",
    "    첫째 줄에 테스트 케이스의 개수 T(1 ≤ T ≤ 1,000)가 주어진다. 둘째 줄부터 T개의 줄에 걸쳐서 A와 B가 주어진다. (1 ≤ A, B ≤ 45,000)\n",
    "\n",
    "- 출력  \n",
    "    첫째 줄부터 T개의 줄에 A와 B의 최소공배수를 입력받은 순서대로 한 줄에 하나씩 출력한다.\n",
    "\n",
    "- 예제 입력  \n",
    "    3  \n",
    "    1 45000  \n",
    "    6 10  \n",
    "    13 17  \n",
    "- 예제 출력  \n",
    "    45000  \n",
    "    30  \n",
    "    221  "
   ]
  },
  {
   "cell_type": "markdown",
   "metadata": {},
   "source": [
    "### 풀이1(시간 초과)"
   ]
  },
  {
   "cell_type": "code",
   "execution_count": 6,
   "metadata": {},
   "outputs": [
    {
     "name": "stdout",
     "output_type": "stream",
     "text": [
      "45000\n",
      "30\n",
      "221\n"
     ]
    }
   ],
   "source": [
    "T = int(input())\n",
    "for _ in range(T):\n",
    "    A, B = map(int, input().split())\n",
    "    G = 1\n",
    "    i = 2\n",
    "    while i <= A or i <= B:\n",
    "        if (A % i == 0) and (B % i == 0):\n",
    "            A = int(A/i)\n",
    "            B = int(B/i)\n",
    "            G *= i\n",
    "        else:\n",
    "            i += 1\n",
    "    L = G * A * B\n",
    "    print(L)"
   ]
  },
  {
   "cell_type": "markdown",
   "metadata": {},
   "source": [
    "### 풀이2(시간 초과)"
   ]
  },
  {
   "cell_type": "code",
   "execution_count": null,
   "metadata": {},
   "outputs": [],
   "source": [
    "import sys\n",
    "T = int(sys.stdin.readline().rstrip())\n",
    "for _ in range(T):\n",
    "    A, B = map(int, sys.stdin.readline().rstrip().split())\n",
    "    G = 1\n",
    "    i = 2\n",
    "    while i <= A or i <= B:\n",
    "        if (A % i == 0) and (B % i == 0):\n",
    "            A = int(A/i)\n",
    "            B = int(B/i)\n",
    "            G *= i\n",
    "        else:\n",
    "            i += 1\n",
    "    L = G * A * B\n",
    "    print(L)"
   ]
  },
  {
   "cell_type": "markdown",
   "metadata": {},
   "source": [
    "### 풀이3(30840KB, 160ms, 294B)"
   ]
  },
  {
   "cell_type": "code",
   "execution_count": 15,
   "metadata": {},
   "outputs": [
    {
     "name": "stdout",
     "output_type": "stream",
     "text": [
      "45000\n",
      "30\n",
      "221\n"
     ]
    }
   ],
   "source": [
    "def func(x, y):\n",
    "    if x < y:\n",
    "        x, y = y, x\n",
    "    if y == 0:\n",
    "        return x\n",
    "    if x % y == 0:\n",
    "        return y\n",
    "    else:\n",
    "        return func(y, x % y)\n",
    "T = int(input())\n",
    "for _ in range(T):\n",
    "    A, B = map(int, input().split())\n",
    "    G = func(A, B)\n",
    "    L = G * int(A/G) * int(B/G)\n",
    "    print(L)"
   ]
  },
  {
   "cell_type": "markdown",
   "metadata": {},
   "source": [
    "## 2981번 - 검문\n",
    "\n",
    "- 문제  \n",
    "    트럭을 타고 이동하던 상근이는 경찰의 검문을 받게 되었다. 경찰은 상근이가 운반하던 화물을 하나하나 모두 확인할 것이기 때문에, 검문하는데 엄청나게 오랜 시간이 걸린다.\n",
    "\n",
    "    상근이는 시간을 때우기 위해서 수학 게임을 하기로 했다.\n",
    "\n",
    "    먼저 근처에 보이는 숫자 N개를 종이에 적는다. 그 다음, 종이에 적은 수를 M으로 나누었을 때, 나머지가 모두 같게 되는 M을 모두 찾으려고 한다. M은 1보다 커야 한다.\n",
    "\n",
    "    N개의 수가 주어졌을 때, 가능한 M을 모두 찾는 프로그램을 작성하시오.\n",
    "\n",
    "- 입력  \n",
    "    첫째 줄에 종이에 적은 수의 개수 N이 주어진다. (2 ≤ N ≤ 100)\n",
    "\n",
    "    다음 줄부터 N개 줄에는 종이에 적은 수가 하나씩 주어진다. 이 수는 모두 1보다 크거나 같고, 1,000,000,000보다 작거나 같은 자연수이다. 같은 수가 두 번 이상 주어지지 않는다.\n",
    "\n",
    "    항상 M이 하나 이상 존재하는 경우만 입력으로 주어진다.\n",
    "\n",
    "- 출력  \n",
    "    첫째 줄에 가능한 M을 공백으로 구분하여 모두 출력한다. 이때, M은 증가하는 순서이어야 한다.\n",
    "\n",
    "- 예제 입력1  \n",
    "    3  \n",
    "    6  \n",
    "    34  \n",
    "    38  \n",
    "- 예제 출력1  \n",
    "    2 4  \n",
    "\n",
    "- 예제 입력2  \n",
    "    5  \n",
    "    5  \n",
    "    17  \n",
    "    23  \n",
    "    14  \n",
    "    83  \n",
    "- 예제 출력2  \n",
    "    3"
   ]
  },
  {
   "cell_type": "code",
   "execution_count": 3,
   "metadata": {},
   "outputs": [
    {
     "data": {
      "text/plain": [
       "[1, 2, 0]"
      ]
     },
     "execution_count": 3,
     "metadata": {},
     "output_type": "execute_result"
    }
   ],
   "source": [
    "list(map(lambda x:x%3, [1, 2, 3]))"
   ]
  },
  {
   "cell_type": "markdown",
   "metadata": {},
   "source": [
    "### 풀이1(시간 초과)"
   ]
  },
  {
   "cell_type": "code",
   "execution_count": 7,
   "metadata": {},
   "outputs": [
    {
     "name": "stdout",
     "output_type": "stream",
     "text": [
      "3 "
     ]
    }
   ],
   "source": [
    "N = int(input())\n",
    "nums = [int(input()) for _ in range(N)]\n",
    "M = 2\n",
    "while M <= 10**9 and M <= min(nums):\n",
    "    temp = list(map(lambda x:x%M, nums))\n",
    "    if len(set(temp)) == 1:\n",
    "        print(M, end=' ')\n",
    "    M += 1"
   ]
  },
  {
   "cell_type": "markdown",
   "metadata": {},
   "source": [
    "### 풀이2(시간 초과)"
   ]
  },
  {
   "cell_type": "code",
   "execution_count": null,
   "metadata": {},
   "outputs": [],
   "source": [
    "import sys\n",
    "N = int(sys.stdin.readline().rstrip())\n",
    "nums = [int(sys.stdin.readline().rstrip()) for _ in range(N)]\n",
    "M = 2\n",
    "while M <= 10**9 and M <= min(nums):\n",
    "    temp = list(map(lambda x:x%M, nums))\n",
    "    if len(set(temp)) == 1:\n",
    "        print(M, end=' ')\n",
    "    M += 1"
   ]
  },
  {
   "cell_type": "markdown",
   "metadata": {},
   "source": [
    "### 풀이3(32952KB, 84ms, 571B)"
   ]
  },
  {
   "cell_type": "code",
   "execution_count": 20,
   "metadata": {},
   "outputs": [
    {
     "name": "stdout",
     "output_type": "stream",
     "text": [
      "3\n"
     ]
    }
   ],
   "source": [
    "import math\n",
    "def func(a, b):\n",
    "    if a > b:\n",
    "        a, b = b, a\n",
    "    if b % a == 0:\n",
    "        return a\n",
    "    else:\n",
    "        return func(b%a, a)\n",
    "N = int(input())\n",
    "nums = sorted([int(input()) for _ in range(N)])\n",
    "subs = []\n",
    "for i in range(N):\n",
    "    if i == N-1:\n",
    "        subs.append(nums[N-1] - nums[0])\n",
    "    else:\n",
    "        subs.append(nums[i+1] - nums[i])\n",
    "G = subs[0]\n",
    "for i in range(1, N):\n",
    "    G = func(G, subs[i])\n",
    "divs = []\n",
    "for one in range(1, math.ceil(G**0.5) + 1):\n",
    "    if G % one == 0:\n",
    "        divs.append(one)\n",
    "        divs.append(int(G/one))\n",
    "divs = sorted(set(divs))\n",
    "print(*divs[1:])"
   ]
  },
  {
   "cell_type": "code",
   "execution_count": 14,
   "metadata": {},
   "outputs": [
    {
     "data": {
      "text/plain": [
       "[28, 4, 32]"
      ]
     },
     "execution_count": 14,
     "metadata": {},
     "output_type": "execute_result"
    }
   ],
   "source": [
    "subs"
   ]
  },
  {
   "cell_type": "code",
   "execution_count": 17,
   "metadata": {},
   "outputs": [
    {
     "data": {
      "text/plain": [
       "2"
      ]
     },
     "execution_count": 17,
     "metadata": {},
     "output_type": "execute_result"
    }
   ],
   "source": [
    "math.ceil(G**0.5)"
   ]
  },
  {
   "cell_type": "code",
   "execution_count": 15,
   "metadata": {},
   "outputs": [
    {
     "data": {
      "text/plain": [
       "4"
      ]
     },
     "execution_count": 15,
     "metadata": {},
     "output_type": "execute_result"
    }
   ],
   "source": [
    "G"
   ]
  },
  {
   "cell_type": "code",
   "execution_count": 16,
   "metadata": {},
   "outputs": [
    {
     "data": {
      "text/plain": [
       "[1, 4]"
      ]
     },
     "execution_count": 16,
     "metadata": {},
     "output_type": "execute_result"
    }
   ],
   "source": [
    "divs"
   ]
  },
  {
   "cell_type": "markdown",
   "metadata": {},
   "source": [
    "### 풀이4(32952KB, 72ms, 620B)"
   ]
  },
  {
   "cell_type": "code",
   "execution_count": null,
   "metadata": {},
   "outputs": [],
   "source": [
    "import math, sys\n",
    "def func(a, b):\n",
    "    if a > b:\n",
    "        a, b = b, a\n",
    "    if b % a == 0:\n",
    "        return a\n",
    "    else:\n",
    "        return func(b%a, a)\n",
    "N = int(sys.stdin.readline().rstrip())\n",
    "nums = sorted([int(sys.stdin.readline().rstrip()) for _ in range(N)])\n",
    "subs = []\n",
    "for i in range(N):\n",
    "    if i == N-1:\n",
    "        subs.append(nums[N-1] - nums[0])\n",
    "    else:\n",
    "        subs.append(nums[i+1] - nums[i])\n",
    "G = subs[0]\n",
    "for i in range(1, N):\n",
    "    G = func(G, subs[i])\n",
    "divs = []\n",
    "for one in range(1, math.ceil(G**0.5) + 1):\n",
    "    if G % one == 0:\n",
    "        divs.append(one)\n",
    "        divs.append(int(G/one))\n",
    "divs = sorted(set(divs))\n",
    "print(*divs[1:])"
   ]
  },
  {
   "cell_type": "markdown",
   "metadata": {},
   "source": [
    "## 3036번 - 링"
   ]
  },
  {
   "cell_type": "markdown",
   "metadata": {},
   "source": [
    "## 11050번 - 이항 계수 1"
   ]
  },
  {
   "cell_type": "markdown",
   "metadata": {},
   "source": [
    "## 11051번 - 이항 계수 2"
   ]
  },
  {
   "cell_type": "markdown",
   "metadata": {},
   "source": [
    "## 1010번 - 다리 놓기"
   ]
  },
  {
   "cell_type": "markdown",
   "metadata": {},
   "source": [
    "## 9375번 - 패션왕 신해빈"
   ]
  },
  {
   "cell_type": "markdown",
   "metadata": {},
   "source": [
    "## 1676번 - 팩토리얼 0의 개수"
   ]
  },
  {
   "cell_type": "markdown",
   "metadata": {},
   "source": [
    "## 2004번 - 조합 0의 개수"
   ]
  },
  {
   "cell_type": "markdown",
   "metadata": {},
   "source": [
    "# 코드 마지막"
   ]
  }
 ],
 "metadata": {
  "interpreter": {
   "hash": "569b4317022eb29baeafb3d0f1f739310808ea28ce83ca127a35db1c01070585"
  },
  "kernelspec": {
   "display_name": "Python 3.9.12 ('base')",
   "language": "python",
   "name": "python3"
  },
  "language_info": {
   "codemirror_mode": {
    "name": "ipython",
    "version": 3
   },
   "file_extension": ".py",
   "mimetype": "text/x-python",
   "name": "python",
   "nbconvert_exporter": "python",
   "pygments_lexer": "ipython3",
   "version": "3.9.12"
  },
  "orig_nbformat": 4
 },
 "nbformat": 4,
 "nbformat_minor": 2
}
