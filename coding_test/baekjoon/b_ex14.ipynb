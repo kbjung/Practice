{
 "cells": [
  {
   "cell_type": "markdown",
   "metadata": {},
   "source": [
    "# 정수론 및 조합론"
   ]
  },
  {
   "cell_type": "markdown",
   "metadata": {},
   "source": [
    "## 5086번 - 배수와 약수\n",
    "\n",
    "- 문제  \n",
    "    4 × 3 = 12이다.\n",
    "\n",
    "    이 식을 통해 다음과 같은 사실을 알 수 있다.\n",
    "\n",
    "    3은 12의 약수이고, 12는 3의 배수이다.\n",
    "\n",
    "    4도 12의 약수이고, 12는 4의 배수이다.\n",
    "\n",
    "    두 수가 주어졌을 때, 다음 3가지 중 어떤 관계인지 구하는 프로그램을 작성하시오.\n",
    "\n",
    "    첫 번째 숫자가 두 번째 숫자의 약수이다.\n",
    "    첫 번째 숫자가 두 번째 숫자의 배수이다.\n",
    "    첫 번째 숫자가 두 번째 숫자의 약수와 배수 모두 아니다.\n",
    "- 입력  \n",
    "    입력은 여러 테스트 케이스로 이루어져 있다. 각 테스트 케이스는 10,000이 넘지않는 두 자연수로 이루어져 있다. 마지막 줄에는 0이 2개 주어진다. 두 수가 같은 경우는 없다.\n",
    "\n",
    "- 출력  \n",
    "    각 테스트 케이스마다 첫 번째 숫자가 두 번째 숫자의 약수라면 factor를, 배수라면 multiple을, 둘 다 아니라면 neither를 출력한다.\n",
    "\n",
    "- 예제 입력1  \n",
    "    8 16  \n",
    "    32 4  \n",
    "    17 5  \n",
    "    0 0  \n",
    "- 예제 출력1  \n",
    "    factor  \n",
    "    multiple  \n",
    "    neither  "
   ]
  },
  {
   "cell_type": "markdown",
   "metadata": {},
   "source": [
    "### 풀이(30840KB, 64ms, 215B)"
   ]
  },
  {
   "cell_type": "code",
   "execution_count": 1,
   "metadata": {},
   "outputs": [
    {
     "name": "stdout",
     "output_type": "stream",
     "text": [
      "factor\n",
      "multiple\n",
      "neither\n"
     ]
    }
   ],
   "source": [
    "while True:\n",
    "    a, b = map(int, input().split())\n",
    "    if a == 0 and b == 0:\n",
    "        break\n",
    "    elif b % a == 0:\n",
    "        print('factor')\n",
    "    elif a % b == 0:\n",
    "        print('multiple')\n",
    "    else:\n",
    "        print('neither')"
   ]
  },
  {
   "cell_type": "markdown",
   "metadata": {},
   "source": [
    "## 1037번 - 약수\n",
    "\n",
    "- 문제  \n",
    "    양수 A가 N의 진짜 약수가 되려면, N이 A의 배수이고, A가 1과 N이 아니어야 한다. 어떤 수 N의 진짜 약수가 모두 주어질 때, N을 구하는 프로그램을 작성하시오.\n",
    "\n",
    "- 입력  \n",
    "    첫째 줄에 N의 진짜 약수의 개수가 주어진다. 이 개수는 50보다 작거나 같은 자연수이다. 둘째 줄에는 N의 진짜 약수가 주어진다. 1,000,000보다 작거나 같고, 2보다 크거나 같은 자연수이고, 중복되지 않는다.\n",
    "\n",
    "- 출력  \n",
    "    첫째 줄에 N을 출력한다. N은 항상 32비트 부호있는 정수로 표현할 수 있다.\n",
    "\n",
    "    예제 입력|예제 출력\n",
    "    -|-\n",
    "    2</br>4 2|8\n",
    "    1</br>2|4\n",
    "    6</br>3 4 2 12 6 8|24\n",
    "    14</br>14 26456 2 28 13228 3307 7 23149 8 6614 46298 56 4 92596|185192"
   ]
  },
  {
   "cell_type": "markdown",
   "metadata": {},
   "source": [
    "### 풀이(30840KB, 68ms, 127B)"
   ]
  },
  {
   "cell_type": "code",
   "execution_count": 3,
   "metadata": {},
   "outputs": [
    {
     "name": "stdout",
     "output_type": "stream",
     "text": [
      "24\n"
     ]
    }
   ],
   "source": [
    "n = int(input())\n",
    "nums = list(map(int, input().split()))\n",
    "if n == 1:\n",
    "    print(nums[0]**2)\n",
    "else:\n",
    "    print(max(nums) * min(nums))"
   ]
  },
  {
   "cell_type": "markdown",
   "metadata": {},
   "source": [
    "## 2609번 - 최대공약수와 최소공배수\n",
    "\n",
    "- 문제  \n",
    "    두 개의 자연수를 입력받아 최대 공약수와 최소 공배수를 출력하는 프로그램을 작성하시오.\n",
    "\n",
    "- 입력  \n",
    "    첫째 줄에는 두 개의 자연수가 주어진다. 이 둘은 10,000이하의 자연수이며 사이에 한 칸의 공백이 주어진다.\n",
    "\n",
    "- 출력  \n",
    "    첫째 줄에는 입력으로 주어진 두 수의 최대공약수를, 둘째 줄에는 입력으로 주어진 두 수의 최소 공배수를 출력한다.\n",
    "\n",
    "- 예제 입력  \n",
    "    24 18  \n",
    "- 예제 출력  \n",
    "    6  \n",
    "    72"
   ]
  },
  {
   "cell_type": "markdown",
   "metadata": {},
   "source": [
    "### 풀이(30840KB, 72ms, 220B)"
   ]
  },
  {
   "cell_type": "code",
   "execution_count": 4,
   "metadata": {},
   "outputs": [
    {
     "name": "stdout",
     "output_type": "stream",
     "text": [
      "6\n",
      "72\n"
     ]
    }
   ],
   "source": [
    "A, B = map(int, input().split())\n",
    "G = 1\n",
    "i = 2\n",
    "while i <= A or i <= B:\n",
    "    if (A % i == 0) and (B % i == 0):\n",
    "        A = int(A/i)\n",
    "        B = int(B/i)\n",
    "        G *= i\n",
    "    else:\n",
    "        i += 1\n",
    "L = G * A * B\n",
    "print(G)\n",
    "print(L)"
   ]
  },
  {
   "cell_type": "markdown",
   "metadata": {},
   "source": [
    "## 1934번 - 최소공배수\n",
    "\n",
    "- 문제  \n",
    "    두 자연수 A와 B에 대해서, A의 배수이면서 B의 배수인 자연수를 A와 B의 공배수라고 한다. 이런 공배수 중에서 가장 작은 수를 최소공배수라고 한다. 예를 들어, 6과 15의 공배수는 30, 60, 90등이 있으며, 최소 공배수는 30이다.\n",
    "\n",
    "    두 자연수 A와 B가 주어졌을 때, A와 B의 최소공배수를 구하는 프로그램을 작성하시오.\n",
    "\n",
    "- 입력  \n",
    "    첫째 줄에 테스트 케이스의 개수 T(1 ≤ T ≤ 1,000)가 주어진다. 둘째 줄부터 T개의 줄에 걸쳐서 A와 B가 주어진다. (1 ≤ A, B ≤ 45,000)\n",
    "\n",
    "- 출력  \n",
    "    첫째 줄부터 T개의 줄에 A와 B의 최소공배수를 입력받은 순서대로 한 줄에 하나씩 출력한다.\n",
    "\n",
    "- 예제 입력  \n",
    "    3  \n",
    "    1 45000  \n",
    "    6 10  \n",
    "    13 17  \n",
    "- 예제 출력  \n",
    "    45000  \n",
    "    30  \n",
    "    221  "
   ]
  },
  {
   "cell_type": "markdown",
   "metadata": {},
   "source": [
    "### 풀이1(시간 초과)"
   ]
  },
  {
   "cell_type": "code",
   "execution_count": 6,
   "metadata": {},
   "outputs": [
    {
     "name": "stdout",
     "output_type": "stream",
     "text": [
      "45000\n",
      "30\n",
      "221\n"
     ]
    }
   ],
   "source": [
    "T = int(input())\n",
    "for _ in range(T):\n",
    "    A, B = map(int, input().split())\n",
    "    G = 1\n",
    "    i = 2\n",
    "    while i <= A or i <= B:\n",
    "        if (A % i == 0) and (B % i == 0):\n",
    "            A = int(A/i)\n",
    "            B = int(B/i)\n",
    "            G *= i\n",
    "        else:\n",
    "            i += 1\n",
    "    L = G * A * B\n",
    "    print(L)"
   ]
  },
  {
   "cell_type": "markdown",
   "metadata": {},
   "source": [
    "### 풀이2(시간 초과)"
   ]
  },
  {
   "cell_type": "code",
   "execution_count": null,
   "metadata": {},
   "outputs": [],
   "source": [
    "import sys\n",
    "T = int(sys.stdin.readline().rstrip())\n",
    "for _ in range(T):\n",
    "    A, B = map(int, sys.stdin.readline().rstrip().split())\n",
    "    G = 1\n",
    "    i = 2\n",
    "    while i <= A or i <= B:\n",
    "        if (A % i == 0) and (B % i == 0):\n",
    "            A = int(A/i)\n",
    "            B = int(B/i)\n",
    "            G *= i\n",
    "        else:\n",
    "            i += 1\n",
    "    L = G * A * B\n",
    "    print(L)"
   ]
  },
  {
   "cell_type": "markdown",
   "metadata": {},
   "source": [
    "### 풀이3(30840KB, 160ms, 294B)"
   ]
  },
  {
   "cell_type": "code",
   "execution_count": 15,
   "metadata": {},
   "outputs": [
    {
     "name": "stdout",
     "output_type": "stream",
     "text": [
      "45000\n",
      "30\n",
      "221\n"
     ]
    }
   ],
   "source": [
    "def func(x, y):\n",
    "    if x < y:\n",
    "        x, y = y, x\n",
    "    if y == 0:\n",
    "        return x\n",
    "    if x % y == 0:\n",
    "        return y\n",
    "    else:\n",
    "        return func(y, x % y)\n",
    "T = int(input())\n",
    "for _ in range(T):\n",
    "    A, B = map(int, input().split())\n",
    "    G = func(A, B)\n",
    "    L = G * int(A/G) * int(B/G)\n",
    "    print(L)"
   ]
  },
  {
   "cell_type": "markdown",
   "metadata": {},
   "source": [
    "## 2981번 - 검문"
   ]
  },
  {
   "cell_type": "markdown",
   "metadata": {},
   "source": [
    "## 3036번 - 링"
   ]
  },
  {
   "cell_type": "markdown",
   "metadata": {},
   "source": [
    "## 11050번 - 이항 계수 1"
   ]
  },
  {
   "cell_type": "markdown",
   "metadata": {},
   "source": [
    "## 11051번 - 이항 계수 2"
   ]
  },
  {
   "cell_type": "markdown",
   "metadata": {},
   "source": [
    "## 1010번 - 다리 놓기"
   ]
  },
  {
   "cell_type": "markdown",
   "metadata": {},
   "source": [
    "## 9375번 - 패션왕 신해빈"
   ]
  },
  {
   "cell_type": "markdown",
   "metadata": {},
   "source": [
    "## 1676번 - 팩토리얼 0의 개수"
   ]
  },
  {
   "cell_type": "markdown",
   "metadata": {},
   "source": [
    "## 2004번 - 조합 0의 개수"
   ]
  },
  {
   "cell_type": "markdown",
   "metadata": {},
   "source": [
    "# 코드 마지막"
   ]
  }
 ],
 "metadata": {
  "interpreter": {
   "hash": "569b4317022eb29baeafb3d0f1f739310808ea28ce83ca127a35db1c01070585"
  },
  "kernelspec": {
   "display_name": "Python 3.9.12 ('base')",
   "language": "python",
   "name": "python3"
  },
  "language_info": {
   "codemirror_mode": {
    "name": "ipython",
    "version": 3
   },
   "file_extension": ".py",
   "mimetype": "text/x-python",
   "name": "python",
   "nbconvert_exporter": "python",
   "pygments_lexer": "ipython3",
   "version": "3.9.12"
  },
  "orig_nbformat": 4
 },
 "nbformat": 4,
 "nbformat_minor": 2
}
