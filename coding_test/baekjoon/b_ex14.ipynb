{
 "cells": [
  {
   "cell_type": "markdown",
   "metadata": {},
   "source": [
    "# 정수론 및 조합론"
   ]
  },
  {
   "cell_type": "markdown",
   "metadata": {},
   "source": [
    "## 5086번 - 배수와 약수\n",
    "\n",
    "- 문제  \n",
    "    4 × 3 = 12이다.\n",
    "\n",
    "    이 식을 통해 다음과 같은 사실을 알 수 있다.\n",
    "\n",
    "    3은 12의 약수이고, 12는 3의 배수이다.\n",
    "\n",
    "    4도 12의 약수이고, 12는 4의 배수이다.\n",
    "\n",
    "    두 수가 주어졌을 때, 다음 3가지 중 어떤 관계인지 구하는 프로그램을 작성하시오.\n",
    "\n",
    "    첫 번째 숫자가 두 번째 숫자의 약수이다.\n",
    "    첫 번째 숫자가 두 번째 숫자의 배수이다.\n",
    "    첫 번째 숫자가 두 번째 숫자의 약수와 배수 모두 아니다.\n",
    "- 입력  \n",
    "    입력은 여러 테스트 케이스로 이루어져 있다. 각 테스트 케이스는 10,000이 넘지않는 두 자연수로 이루어져 있다. 마지막 줄에는 0이 2개 주어진다. 두 수가 같은 경우는 없다.\n",
    "\n",
    "- 출력  \n",
    "    각 테스트 케이스마다 첫 번째 숫자가 두 번째 숫자의 약수라면 factor를, 배수라면 multiple을, 둘 다 아니라면 neither를 출력한다.\n",
    "\n",
    "- 예제 입력1  \n",
    "    8 16  \n",
    "    32 4  \n",
    "    17 5  \n",
    "    0 0  \n",
    "- 예제 출력1  \n",
    "    factor  \n",
    "    multiple  \n",
    "    neither  "
   ]
  },
  {
   "cell_type": "markdown",
   "metadata": {},
   "source": [
    "### 풀이(30840KB, 64ms, 215B)"
   ]
  },
  {
   "cell_type": "code",
   "execution_count": 1,
   "metadata": {},
   "outputs": [
    {
     "name": "stdout",
     "output_type": "stream",
     "text": [
      "factor\n",
      "multiple\n",
      "neither\n"
     ]
    }
   ],
   "source": [
    "while True:\n",
    "    a, b = map(int, input().split())\n",
    "    if a == 0 and b == 0:\n",
    "        break\n",
    "    elif b % a == 0:\n",
    "        print('factor')\n",
    "    elif a % b == 0:\n",
    "        print('multiple')\n",
    "    else:\n",
    "        print('neither')"
   ]
  },
  {
   "cell_type": "markdown",
   "metadata": {},
   "source": [
    "## 1037번 - 약수\n",
    "\n",
    "- 문제  \n",
    "    양수 A가 N의 진짜 약수가 되려면, N이 A의 배수이고, A가 1과 N이 아니어야 한다. 어떤 수 N의 진짜 약수가 모두 주어질 때, N을 구하는 프로그램을 작성하시오.\n",
    "\n",
    "- 입력  \n",
    "    첫째 줄에 N의 진짜 약수의 개수가 주어진다. 이 개수는 50보다 작거나 같은 자연수이다. 둘째 줄에는 N의 진짜 약수가 주어진다. 1,000,000보다 작거나 같고, 2보다 크거나 같은 자연수이고, 중복되지 않는다.\n",
    "\n",
    "- 출력  \n",
    "    첫째 줄에 N을 출력한다. N은 항상 32비트 부호있는 정수로 표현할 수 있다.\n",
    "\n",
    "    예제 입력|예제 출력\n",
    "    -|-\n",
    "    2</br>4 2|8\n",
    "    1</br>2|4\n",
    "    6</br>3 4 2 12 6 8|24\n",
    "    14</br>14 26456 2 28 13228 3307 7 23149 8 6614 46298 56 4 92596|185192"
   ]
  },
  {
   "cell_type": "markdown",
   "metadata": {},
   "source": [
    "## 2609번 - 최대공약수와 최소공배수"
   ]
  },
  {
   "cell_type": "markdown",
   "metadata": {},
   "source": [
    "## 1934번 - 최소공배수"
   ]
  },
  {
   "cell_type": "markdown",
   "metadata": {},
   "source": [
    "## 2981번 - 검문"
   ]
  },
  {
   "cell_type": "markdown",
   "metadata": {},
   "source": [
    "## 3036번 - 링"
   ]
  },
  {
   "cell_type": "markdown",
   "metadata": {},
   "source": [
    "## 11050번 - 이항 계수 1"
   ]
  },
  {
   "cell_type": "markdown",
   "metadata": {},
   "source": [
    "## 11051번 - 이항 계수 2"
   ]
  },
  {
   "cell_type": "markdown",
   "metadata": {},
   "source": [
    "## 1010번 - 다리 놓기"
   ]
  },
  {
   "cell_type": "markdown",
   "metadata": {},
   "source": [
    "## 9375번 - 패션왕 신해빈"
   ]
  },
  {
   "cell_type": "markdown",
   "metadata": {},
   "source": [
    "## 1676번 - 팩토리얼 0의 개수"
   ]
  },
  {
   "cell_type": "markdown",
   "metadata": {},
   "source": [
    "## 2004번 - 조합 0의 개수"
   ]
  },
  {
   "cell_type": "markdown",
   "metadata": {},
   "source": [
    "# 코드 마지막"
   ]
  }
 ],
 "metadata": {
  "interpreter": {
   "hash": "569b4317022eb29baeafb3d0f1f739310808ea28ce83ca127a35db1c01070585"
  },
  "kernelspec": {
   "display_name": "Python 3.9.12 ('base')",
   "language": "python",
   "name": "python3"
  },
  "language_info": {
   "codemirror_mode": {
    "name": "ipython",
    "version": 3
   },
   "file_extension": ".py",
   "mimetype": "text/x-python",
   "name": "python",
   "nbconvert_exporter": "python",
   "pygments_lexer": "ipython3",
   "version": "3.9.12"
  },
  "orig_nbformat": 4
 },
 "nbformat": 4,
 "nbformat_minor": 2
}
