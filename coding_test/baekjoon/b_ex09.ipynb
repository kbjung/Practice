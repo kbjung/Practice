{
 "cells": [
  {
   "cell_type": "markdown",
   "metadata": {},
   "source": [
    "# 정렬"
   ]
  },
  {
   "cell_type": "markdown",
   "metadata": {},
   "source": [
    "## 2750번 - 수 정렬하기\n",
    "\n",
    "- 문제  \n",
    "    N개의 수가 주어졌을 때, 이를 오름차순으로 정렬하는 프로그램을 작성하시오.\n",
    "\n",
    "- 입력  \n",
    "    첫째 줄에 수의 개수 N(1 ≤ N ≤ 1,000)이 주어진다. 둘째 줄부터 N개의 줄에는 수 주어진다. 이 수는 절댓값이 1,000보다 작거나 같은 정수이다. 수는 중복되지 않는다.\n",
    "\n",
    "- 출력  \n",
    "    첫째 줄부터 N개의 줄에 오름차순으로 정렬한 결과를 한 줄에 하나씩 출력한다.\n",
    "\n",
    "- 예제 입력  \n",
    "    5  \n",
    "    5  \n",
    "    2  \n",
    "    3  \n",
    "    4  \n",
    "    1  \n",
    "- 예제 출력  \n",
    "    1  \n",
    "    2  \n",
    "    3  \n",
    "    4  \n",
    "    5  "
   ]
  },
  {
   "cell_type": "markdown",
   "metadata": {},
   "source": [
    "### 풀이"
   ]
  },
  {
   "cell_type": "code",
   "execution_count": 4,
   "metadata": {},
   "outputs": [
    {
     "name": "stdout",
     "output_type": "stream",
     "text": [
      "1\n",
      "2\n",
      "3\n",
      "4\n",
      "5\n"
     ]
    }
   ],
   "source": [
    "n = int(input())\n",
    "a = []\n",
    "for _ in range(n):\n",
    "    a.append( int(input()) )\n",
    "for i in sorted(a):\n",
    "    print(i)"
   ]
  },
  {
   "cell_type": "markdown",
   "metadata": {},
   "source": [
    "## 2751번 - 수 정렬하기 2\n",
    "\n",
    "- 문제  \n",
    "    N개의 수가 주어졌을 때, 이를 오름차순으로 정렬하는 프로그램을 작성하시오.\n",
    "\n",
    "- 입력  \n",
    "    첫째 줄에 수의 개수 N(1 ≤ N ≤ 1,000,000)이 주어진다. 둘째 줄부터 N개의 줄에는 수가 주어진다. 이 수는 절댓값이 1,000,000보다 작거나 같은 정수이다. 수는 중복되지 않는다.\n",
    "\n",
    "- 출력  \n",
    "    첫째 줄부터 N개의 줄에 오름차순으로 정렬한 결과를 한 줄에 하나씩 출력한다.\n",
    "\n",
    "- 예제 입력  \n",
    "    5  \n",
    "    5  \n",
    "    4  \n",
    "    3  \n",
    "    2  \n",
    "    1  \n",
    "- 예제 출력  \n",
    "    1  \n",
    "    2  \n",
    "    3  \n",
    "    4  \n",
    "    5  "
   ]
  },
  {
   "cell_type": "markdown",
   "metadata": {},
   "source": [
    "### 풀이1"
   ]
  },
  {
   "cell_type": "code",
   "execution_count": null,
   "metadata": {},
   "outputs": [],
   "source": [
    "import sys\n",
    "n = int(input())\n",
    "a = []\n",
    "for _ in range(n):\n",
    "    a.append( int(sys.stdin.readline()) )\n",
    "for i in sorted(a):\n",
    "    print(i)"
   ]
  },
  {
   "cell_type": "markdown",
   "metadata": {},
   "source": [
    "### 풀이2(시간 초과)"
   ]
  },
  {
   "cell_type": "code",
   "execution_count": 5,
   "metadata": {},
   "outputs": [
    {
     "name": "stdout",
     "output_type": "stream",
     "text": [
      "1\n",
      "2\n",
      "3\n",
      "4\n",
      "5\n"
     ]
    }
   ],
   "source": [
    "n = int(input())\n",
    "a = set()\n",
    "for _ in range(n):\n",
    "    a.add( int(input()) )\n",
    "for i in sorted(a):\n",
    "    print(i)"
   ]
  },
  {
   "cell_type": "markdown",
   "metadata": {},
   "source": [
    "## 10989번 - 수 정렬하기 3\n",
    "\n",
    "- 문제  \n",
    "    N개의 수가 주어졌을 때, 이를 오름차순으로 정렬하는 프로그램을 작성하시오.\n",
    "\n",
    "- 입력  \n",
    "    첫째 줄에 수의 개수 N(1 ≤ N ≤ 10,000,000)이 주어진다. 둘째 줄부터 N개의 줄에는 수가 주어진다. 이 수는 10,000보다 작거나 같은 자연수이다.\n",
    "\n",
    "- 출력  \n",
    "    첫째 줄부터 N개의 줄에 오름차순으로 정렬한 결과를 한 줄에 하나씩 출력한다.\n",
    "\n",
    "- 예제 입력  \n",
    "    10  \n",
    "    5  \n",
    "    2  \n",
    "    3  \n",
    "    1  \n",
    "    4  \n",
    "    2  \n",
    "    3  \n",
    "    5  \n",
    "    1  \n",
    "    7  \n",
    "- 예제 출력  \n",
    "    1  \n",
    "    1  \n",
    "    2  \n",
    "    2  \n",
    "    3  \n",
    "    3  \n",
    "    4  \n",
    "    5  \n",
    "    5  \n",
    "    7  "
   ]
  },
  {
   "cell_type": "markdown",
   "metadata": {},
   "source": [
    "### 풀이1(메모리 초과)"
   ]
  },
  {
   "cell_type": "code",
   "execution_count": 8,
   "metadata": {},
   "outputs": [
    {
     "name": "stdout",
     "output_type": "stream",
     "text": [
      "1\n",
      "1\n",
      "2\n",
      "3\n",
      "3\n",
      "3\n",
      "4\n",
      "5\n",
      "5\n",
      "7\n"
     ]
    }
   ],
   "source": [
    "a = [int(input()) for _ in range(int(input()))]\n",
    "for i in sorted(a):\n",
    "    print(i)"
   ]
  },
  {
   "cell_type": "markdown",
   "metadata": {},
   "source": [
    "### 풀이2(메모리 초과)"
   ]
  },
  {
   "cell_type": "code",
   "execution_count": null,
   "metadata": {},
   "outputs": [],
   "source": [
    "n = int(input())\n",
    "a = []\n",
    "for _ in range(n):\n",
    "    a.append( int(input()) )\n",
    "for i in sorted(a):\n",
    "    print(i)"
   ]
  },
  {
   "cell_type": "markdown",
   "metadata": {},
   "source": [
    "### 풀이3(메모리 초과)"
   ]
  },
  {
   "cell_type": "code",
   "execution_count": 11,
   "metadata": {},
   "outputs": [
    {
     "name": "stdout",
     "output_type": "stream",
     "text": [
      "1\n",
      "2\n",
      "3\n",
      "4\n",
      "5\n"
     ]
    }
   ],
   "source": [
    "a = tuple([int(input()) for _ in range(int(input()))])\n",
    "for i in sorted(a):\n",
    "    print(i)"
   ]
  },
  {
   "cell_type": "markdown",
   "metadata": {},
   "source": [
    "### 풀이4(시간 초과)"
   ]
  },
  {
   "cell_type": "code",
   "execution_count": 14,
   "metadata": {},
   "outputs": [
    {
     "name": "stdout",
     "output_type": "stream",
     "text": [
      "1\n",
      "2\n",
      "3\n",
      "4\n",
      "5\n"
     ]
    }
   ],
   "source": [
    "a = [0] * 10001\n",
    "for _ in range(int(input())):\n",
    "    a[int(input())] += 1\n",
    "for i in range(10001):\n",
    "    for j in range(a[i]):\n",
    "        print(i)"
   ]
  },
  {
   "cell_type": "markdown",
   "metadata": {},
   "source": [
    "### 풀이5(9396ms, 175B)"
   ]
  },
  {
   "cell_type": "code",
   "execution_count": null,
   "metadata": {},
   "outputs": [],
   "source": [
    "import sys\n",
    "a = [0] * 10001\n",
    "for _ in range( int(sys.stdin.readline()) ):\n",
    "    a[int(sys.stdin.readline())] += 1\n",
    "for i in range(10001):\n",
    "    for j in range(a[i]):\n",
    "        print(i)"
   ]
  },
  {
   "cell_type": "markdown",
   "metadata": {},
   "source": [
    "## 25305번 - 커트라인\n",
    "\n",
    "- 문제  \n",
    "    2022 연세대학교 미래캠퍼스 슬기로운 코딩생활에 $N$명의 학생들이 응시했다.\n",
    "\n",
    "    이들 중 점수가 가장 높은 $k$명은 상을 받을 것이다. 이 때, 상을 받는 커트라인이 몇 점인지 구하라.\n",
    "\n",
    "    커트라인이란 상을 받는 사람들 중 점수가 가장 가장 낮은 사람의 점수를 말한다.\n",
    "\n",
    "- 입력  \n",
    "    첫째 줄에는 응시자의 수 $N$과 상을 받는 사람의 수 $k$가 공백을 사이에 두고 주어진다.\n",
    "\n",
    "    둘째 줄에는 각 학생의 점수 $x$가 공백을 사이에 두고 주어진다.\n",
    "\n",
    "- 출력  \n",
    "    상을 받는 커트라인을 출력하라.\n",
    "\n",
    "- 제한  \n",
    "    $1 ≤ N ≤ 1\\,000$   \n",
    "    $1 ≤ k ≤ N$   \n",
    "    $0 ≤ x ≤ 10\\,000$   \n",
    "\n",
    "- 예제 입력  \n",
    "    5 2  \n",
    "    100 76 85 93 98  \n",
    "- 예제 출력  \n",
    "    98  "
   ]
  },
  {
   "cell_type": "markdown",
   "metadata": {},
   "source": [
    "### 풀이1"
   ]
  },
  {
   "cell_type": "code",
   "execution_count": 15,
   "metadata": {},
   "outputs": [
    {
     "name": "stdout",
     "output_type": "stream",
     "text": [
      "98\n"
     ]
    }
   ],
   "source": [
    "N, k = map(int, input().split())\n",
    "n = list( map(int, input().split()) )\n",
    "n = sorted(n, reverse=True)\n",
    "print(n[k-1])"
   ]
  },
  {
   "cell_type": "markdown",
   "metadata": {},
   "source": [
    "### 풀이2"
   ]
  },
  {
   "cell_type": "code",
   "execution_count": 1,
   "metadata": {},
   "outputs": [
    {
     "name": "stdout",
     "output_type": "stream",
     "text": [
      "98\n"
     ]
    }
   ],
   "source": [
    "N, k = map(int, input().split())\n",
    "n = list( map(int, input().split()) )\n",
    "print(sorted(n)[-k])"
   ]
  },
  {
   "cell_type": "markdown",
   "metadata": {},
   "source": [
    "## 2108번 - 통계학\n",
    "\n",
    "- 문제  \n",
    "    수를 처리하는 것은 통계학에서 상당히 중요한 일이다. 통계학에서 N개의 수를 대표하는 기본 통계값에는 다음과 같은 것들이 있다. 단, N은 홀수라고 가정하자.\n",
    "\n",
    "    산술평균 : N개의 수들의 합을 N으로 나눈 값  \n",
    "    중앙값 : N개의 수들을 증가하는 순서로 나열했을 경우 그 중앙에 위치하는 값  \n",
    "    최빈값 : N개의 수들 중 가장 많이 나타나는 값  \n",
    "    범위 : N개의 수들 중 최댓값과 최솟값의 차이  \n",
    "    N개의 수가 주어졌을 때, 네 가지 기본 통계값을 구하는 프로그램을 작성하시오.\n",
    "\n",
    "- 입력  \n",
    "    첫째 줄에 수의 개수 N(1 ≤ N ≤ 500,000)이 주어진다. 단, N은 홀수이다. 그 다음 N개의 줄에는 정수들이 주어진다. 입력되는 정수의 절댓값은 4,000을 넘지 않는다.\n",
    "\n",
    "- 출력  \n",
    "    첫째 줄에는 산술평균을 출력한다. 소수점 이하 첫째 자리에서 반올림한 값을 출력한다.\n",
    "\n",
    "    둘째 줄에는 중앙값을 출력한다.\n",
    "\n",
    "    셋째 줄에는 최빈값을 출력한다. 여러 개 있을 때에는 최빈값 중 두 번째로 작은 값을 출력한다.\n",
    "\n",
    "    넷째 줄에는 범위를 출력한다.\n",
    "\n",
    "    예시 입력|예시 출력\n",
    "    -|-\n",
    "    5</br>1</br>3</br>8</br>-2</br>2|2</br>2</br>1</br>10\n",
    "    1</br>4000|4000</br>4000</br>4000</br>0\n",
    "    5</br>-1</br>-2</br>-3</br>-1</br>-2|-2</br>-2</br>-1</br>2\n",
    "    3</br>0</br>0</br>-1|0</br>0</br>0</br>1\n",
    "\n",
    "    (0 + 0 + (-1)) / 3 = -0.333333... 이고 이를 첫째 자리에서 반올림하면 0이다. -0으로 출력하면 안된다."
   ]
  },
  {
   "cell_type": "code",
   "execution_count": 132,
   "metadata": {},
   "outputs": [
    {
     "data": {
      "text/plain": [
       "{-3: 1, -2: 2, -1: 2}"
      ]
     },
     "execution_count": 132,
     "metadata": {},
     "output_type": "execute_result"
    }
   ],
   "source": [
    "a = dict()\n",
    "b = sorted([-1, -2, -3, -1, -2])\n",
    "for one in b:\n",
    "    a[one] = b.count(one)\n",
    "a"
   ]
  },
  {
   "cell_type": "code",
   "execution_count": 133,
   "metadata": {},
   "outputs": [
    {
     "data": {
      "text/html": [
       "<div>\n",
       "<style scoped>\n",
       "    .dataframe tbody tr th:only-of-type {\n",
       "        vertical-align: middle;\n",
       "    }\n",
       "\n",
       "    .dataframe tbody tr th {\n",
       "        vertical-align: top;\n",
       "    }\n",
       "\n",
       "    .dataframe thead th {\n",
       "        text-align: right;\n",
       "    }\n",
       "</style>\n",
       "<table border=\"1\" class=\"dataframe\">\n",
       "  <thead>\n",
       "    <tr style=\"text-align: right;\">\n",
       "      <th></th>\n",
       "      <th>count</th>\n",
       "    </tr>\n",
       "  </thead>\n",
       "  <tbody>\n",
       "    <tr>\n",
       "      <th>-3</th>\n",
       "      <td>1</td>\n",
       "    </tr>\n",
       "    <tr>\n",
       "      <th>-2</th>\n",
       "      <td>2</td>\n",
       "    </tr>\n",
       "    <tr>\n",
       "      <th>-1</th>\n",
       "      <td>2</td>\n",
       "    </tr>\n",
       "  </tbody>\n",
       "</table>\n",
       "</div>"
      ],
      "text/plain": [
       "    count\n",
       "-3      1\n",
       "-2      2\n",
       "-1      2"
      ]
     },
     "execution_count": 133,
     "metadata": {},
     "output_type": "execute_result"
    }
   ],
   "source": [
    "import pandas as pd\n",
    "df = pd.DataFrame(a, index=['count']).T\n",
    "df"
   ]
  },
  {
   "cell_type": "code",
   "execution_count": 134,
   "metadata": {},
   "outputs": [
    {
     "data": {
      "text/html": [
       "<div>\n",
       "<style scoped>\n",
       "    .dataframe tbody tr th:only-of-type {\n",
       "        vertical-align: middle;\n",
       "    }\n",
       "\n",
       "    .dataframe tbody tr th {\n",
       "        vertical-align: top;\n",
       "    }\n",
       "\n",
       "    .dataframe thead th {\n",
       "        text-align: right;\n",
       "    }\n",
       "</style>\n",
       "<table border=\"1\" class=\"dataframe\">\n",
       "  <thead>\n",
       "    <tr style=\"text-align: right;\">\n",
       "      <th></th>\n",
       "      <th>count</th>\n",
       "    </tr>\n",
       "  </thead>\n",
       "  <tbody>\n",
       "    <tr>\n",
       "      <th>-2</th>\n",
       "      <td>2</td>\n",
       "    </tr>\n",
       "    <tr>\n",
       "      <th>-1</th>\n",
       "      <td>2</td>\n",
       "    </tr>\n",
       "  </tbody>\n",
       "</table>\n",
       "</div>"
      ],
      "text/plain": [
       "    count\n",
       "-2      2\n",
       "-1      2"
      ]
     },
     "execution_count": 134,
     "metadata": {},
     "output_type": "execute_result"
    }
   ],
   "source": [
    "df = df[df['count'] == max(df['count'])]\n",
    "df"
   ]
  },
  {
   "cell_type": "code",
   "execution_count": 139,
   "metadata": {},
   "outputs": [
    {
     "data": {
      "text/html": [
       "<div>\n",
       "<style scoped>\n",
       "    .dataframe tbody tr th:only-of-type {\n",
       "        vertical-align: middle;\n",
       "    }\n",
       "\n",
       "    .dataframe tbody tr th {\n",
       "        vertical-align: top;\n",
       "    }\n",
       "\n",
       "    .dataframe thead th {\n",
       "        text-align: right;\n",
       "    }\n",
       "</style>\n",
       "<table border=\"1\" class=\"dataframe\">\n",
       "  <thead>\n",
       "    <tr style=\"text-align: right;\">\n",
       "      <th></th>\n",
       "      <th>index</th>\n",
       "      <th>count</th>\n",
       "    </tr>\n",
       "  </thead>\n",
       "  <tbody>\n",
       "    <tr>\n",
       "      <th>0</th>\n",
       "      <td>-1</td>\n",
       "      <td>2</td>\n",
       "    </tr>\n",
       "    <tr>\n",
       "      <th>1</th>\n",
       "      <td>-2</td>\n",
       "      <td>2</td>\n",
       "    </tr>\n",
       "  </tbody>\n",
       "</table>\n",
       "</div>"
      ],
      "text/plain": [
       "   index  count\n",
       "0     -1      2\n",
       "1     -2      2"
      ]
     },
     "execution_count": 139,
     "metadata": {},
     "output_type": "execute_result"
    }
   ],
   "source": [
    "df = df.sort_index(ascending=False).reset_index()\n",
    "df"
   ]
  },
  {
   "cell_type": "code",
   "execution_count": 142,
   "metadata": {},
   "outputs": [
    {
     "data": {
      "text/plain": [
       "-1"
      ]
     },
     "execution_count": 142,
     "metadata": {},
     "output_type": "execute_result"
    }
   ],
   "source": [
    "df.iloc[-2, 0]"
   ]
  },
  {
   "cell_type": "code",
   "execution_count": 41,
   "metadata": {},
   "outputs": [
    {
     "data": {
      "text/plain": [
       "2"
      ]
     },
     "execution_count": 41,
     "metadata": {},
     "output_type": "execute_result"
    }
   ],
   "source": [
    "math.floor(len(n)/2)"
   ]
  },
  {
   "cell_type": "code",
   "execution_count": 39,
   "metadata": {},
   "outputs": [
    {
     "data": {
      "text/plain": [
       "[-2, 1, 2, 3, 8]"
      ]
     },
     "execution_count": 39,
     "metadata": {},
     "output_type": "execute_result"
    }
   ],
   "source": [
    "n"
   ]
  },
  {
   "cell_type": "markdown",
   "metadata": {},
   "source": [
    "### 풀이1(런타임 에러, 외부 모듈 사용 불가)"
   ]
  },
  {
   "cell_type": "code",
   "execution_count": 151,
   "metadata": {},
   "outputs": [
    {
     "name": "stdout",
     "output_type": "stream",
     "text": [
      "0\n",
      "0\n",
      "0\n",
      "1\n"
     ]
    }
   ],
   "source": [
    "import math\n",
    "import pandas as pd\n",
    "N = int(input())\n",
    "n = sorted([int(input()) for _ in range(N)])\n",
    "print(round(sum(n)/N))\n",
    "print(n[math.floor(len(n)/2)])\n",
    "a = dict()\n",
    "for one in n:\n",
    "    a[one] = n.count(one)\n",
    "s = pd.DataFrame(a, index=['count']).T\n",
    "s = s[s['count'] == max(s['count'])]\n",
    "s = s.sort_index(ascending=False).reset_index()\n",
    "if s.shape[0] == 1:\n",
    "    print(s.iloc[-1, 0])\n",
    "else:\n",
    "    print(s.iloc[-2, 0])\n",
    "print(max(n) - min(n))"
   ]
  },
  {
   "cell_type": "code",
   "execution_count": 149,
   "metadata": {},
   "outputs": [
    {
     "data": {
      "text/html": [
       "<div>\n",
       "<style scoped>\n",
       "    .dataframe tbody tr th:only-of-type {\n",
       "        vertical-align: middle;\n",
       "    }\n",
       "\n",
       "    .dataframe tbody tr th {\n",
       "        vertical-align: top;\n",
       "    }\n",
       "\n",
       "    .dataframe thead th {\n",
       "        text-align: right;\n",
       "    }\n",
       "</style>\n",
       "<table border=\"1\" class=\"dataframe\">\n",
       "  <thead>\n",
       "    <tr style=\"text-align: right;\">\n",
       "      <th></th>\n",
       "      <th>index</th>\n",
       "      <th>count</th>\n",
       "    </tr>\n",
       "  </thead>\n",
       "  <tbody>\n",
       "    <tr>\n",
       "      <th>0</th>\n",
       "      <td>0</td>\n",
       "      <td>2</td>\n",
       "    </tr>\n",
       "  </tbody>\n",
       "</table>\n",
       "</div>"
      ],
      "text/plain": [
       "   index  count\n",
       "0      0      2"
      ]
     },
     "execution_count": 149,
     "metadata": {},
     "output_type": "execute_result"
    }
   ],
   "source": [
    "s"
   ]
  },
  {
   "cell_type": "code",
   "execution_count": 153,
   "metadata": {},
   "outputs": [
    {
     "data": {
      "text/plain": [
       "[-3, -2, -2, -1, -1]"
      ]
     },
     "execution_count": 153,
     "metadata": {},
     "output_type": "execute_result"
    }
   ],
   "source": [
    "n = sorted([-1, -2, -3, -1, -2])\n",
    "n"
   ]
  },
  {
   "cell_type": "code",
   "execution_count": 163,
   "metadata": {},
   "outputs": [
    {
     "data": {
      "text/plain": [
       "[-3, -2, -1]"
      ]
     },
     "execution_count": 163,
     "metadata": {},
     "output_type": "execute_result"
    }
   ],
   "source": [
    "n2 = list(set(n))\n",
    "n2"
   ]
  },
  {
   "cell_type": "code",
   "execution_count": 164,
   "metadata": {},
   "outputs": [
    {
     "data": {
      "text/plain": [
       "[1, 2, 2]"
      ]
     },
     "execution_count": 164,
     "metadata": {},
     "output_type": "execute_result"
    }
   ],
   "source": [
    "count_n = [n.count(i) for i in n2]\n",
    "count_n"
   ]
  },
  {
   "cell_type": "code",
   "execution_count": 166,
   "metadata": {},
   "outputs": [
    {
     "name": "stdout",
     "output_type": "stream",
     "text": [
      "-3 1\n",
      "-2 2\n",
      "-1 2\n"
     ]
    }
   ],
   "source": [
    "for a, b in zip(n2, count_n):\n",
    "    print(a, b)"
   ]
  },
  {
   "cell_type": "code",
   "execution_count": 170,
   "metadata": {},
   "outputs": [
    {
     "name": "stdout",
     "output_type": "stream",
     "text": [
      "-1\n"
     ]
    }
   ],
   "source": [
    "m = []\n",
    "for a, b in zip(n2, count_n):\n",
    "    if max(count_n) == b:\n",
    "        m.append(a)\n",
    "if len(m) == 1:\n",
    "    print(m[0])\n",
    "else:\n",
    "    print(m[1])"
   ]
  },
  {
   "cell_type": "code",
   "execution_count": 171,
   "metadata": {},
   "outputs": [
    {
     "data": {
      "text/plain": [
       "[-2, -1]"
      ]
     },
     "execution_count": 171,
     "metadata": {},
     "output_type": "execute_result"
    }
   ],
   "source": [
    "m"
   ]
  },
  {
   "cell_type": "code",
   "execution_count": 172,
   "metadata": {},
   "outputs": [
    {
     "name": "stdout",
     "output_type": "stream",
     "text": [
      "-1\n"
     ]
    }
   ],
   "source": [
    "n = sorted([-1, -2, -3, -1, -2])\n",
    "n2 = list(set(n))\n",
    "count_n = [n.count(i) for i in n2]\n",
    "m = []\n",
    "for a, b in zip(n2, count_n):\n",
    "    if max(count_n) == b:\n",
    "        m.append(a)\n",
    "if len(m) == 1:\n",
    "    print(m[0])\n",
    "else:\n",
    "    print(m[1])"
   ]
  },
  {
   "cell_type": "markdown",
   "metadata": {},
   "source": [
    "### 풀이2(시간 초과)"
   ]
  },
  {
   "cell_type": "code",
   "execution_count": 180,
   "metadata": {},
   "outputs": [
    {
     "name": "stdout",
     "output_type": "stream",
     "text": [
      "0\n",
      "0\n",
      "0\n",
      "1\n"
     ]
    }
   ],
   "source": [
    "import math\n",
    "N = int(input())\n",
    "n = sorted([int(input()) for _ in range(N)])\n",
    "print(round(sum(n)/N))\n",
    "print(n[math.floor(len(n)/2)])\n",
    "n2 = sorted(list(set(n)))\n",
    "count_n = [n.count(i) for i in n2]\n",
    "m = []\n",
    "for a, b in zip(n2, count_n):\n",
    "    if max(count_n) == b:\n",
    "        m.append(a)\n",
    "if len(m) == 1:\n",
    "    print(m[0])\n",
    "else:\n",
    "    print(m[1])\n",
    "print(max(n) - min(n))"
   ]
  },
  {
   "cell_type": "code",
   "execution_count": 175,
   "metadata": {},
   "outputs": [
    {
     "data": {
      "text/plain": [
       "[-2, 1, 2, 3, 8]"
      ]
     },
     "execution_count": 175,
     "metadata": {},
     "output_type": "execute_result"
    }
   ],
   "source": [
    "n"
   ]
  },
  {
   "cell_type": "code",
   "execution_count": 176,
   "metadata": {},
   "outputs": [
    {
     "data": {
      "text/plain": [
       "[1, 2, 3, 8, -2]"
      ]
     },
     "execution_count": 176,
     "metadata": {},
     "output_type": "execute_result"
    }
   ],
   "source": [
    "n2"
   ]
  },
  {
   "cell_type": "code",
   "execution_count": 174,
   "metadata": {},
   "outputs": [
    {
     "data": {
      "text/plain": [
       "[1, 2, 3, 8, -2]"
      ]
     },
     "execution_count": 174,
     "metadata": {},
     "output_type": "execute_result"
    }
   ],
   "source": [
    "m"
   ]
  },
  {
   "cell_type": "code",
   "execution_count": 186,
   "metadata": {},
   "outputs": [
    {
     "data": {
      "text/plain": [
       "[-3, -2, -2, -1, -1, 1, 2]"
      ]
     },
     "execution_count": 186,
     "metadata": {},
     "output_type": "execute_result"
    }
   ],
   "source": [
    "n = sorted([-1, -2, -3, -1, -2, 1, 2])\n",
    "n"
   ]
  },
  {
   "cell_type": "code",
   "execution_count": 187,
   "metadata": {},
   "outputs": [],
   "source": [
    "plus = [0] * 4001\n",
    "minus = [0] * 4001"
   ]
  },
  {
   "cell_type": "code",
   "execution_count": 188,
   "metadata": {},
   "outputs": [
    {
     "name": "stdout",
     "output_type": "stream",
     "text": [
      "-1\n"
     ]
    }
   ],
   "source": [
    "for one in n:\n",
    "    if one >= 0:\n",
    "        plus[one] += 1\n",
    "    else:\n",
    "        minus[-one] += 1\n",
    "m_number = []\n",
    "if max(plus) == max(minus):\n",
    "    for i, one in enumerate(minus):\n",
    "        if one == max(minus):\n",
    "            m_number.append(-i)\n",
    "    for j, two in enumerate(plus):\n",
    "        if two == max(plus):\n",
    "            m_number.append(j)\n",
    "elif max(plus) > max(minus):\n",
    "    for j, two in enumerate(plus):\n",
    "        if two == max(plus):\n",
    "            m_number.append(j)\n",
    "else:\n",
    "    for i, one in enumerate(minus):\n",
    "        if one == max(minus):\n",
    "            m_number.append(-i)\n",
    "if len(m_number) == 1:\n",
    "    print(sorted(m_number)[0])\n",
    "else:\n",
    "    print(sorted(m_number)[1])"
   ]
  },
  {
   "cell_type": "markdown",
   "metadata": {},
   "source": [
    "### 풀이3"
   ]
  },
  {
   "cell_type": "code",
   "execution_count": 192,
   "metadata": {},
   "outputs": [
    {
     "name": "stdout",
     "output_type": "stream",
     "text": [
      "0\n",
      "0\n",
      "0\n",
      "1\n"
     ]
    }
   ],
   "source": [
    "import math\n",
    "N = int(input())\n",
    "n = sorted([int(input()) for _ in range(N)])\n",
    "print(round(sum(n)/N))\n",
    "print(n[math.floor(len(n)/2)])\n",
    "plus = [0] * 4001\n",
    "minus = [0] * 4001\n",
    "for one in n:\n",
    "    if one >= 0:\n",
    "        plus[one] += 1\n",
    "    else:\n",
    "        minus[-one] += 1\n",
    "m_number = []\n",
    "if max(plus) == max(minus):\n",
    "    for i, one in enumerate(minus):\n",
    "        if one == max(minus):\n",
    "            m_number.append(-i)\n",
    "    for j, two in enumerate(plus):\n",
    "        if two == max(plus):\n",
    "            m_number.append(j)\n",
    "elif max(plus) > max(minus):\n",
    "    for j, two in enumerate(plus):\n",
    "        if two == max(plus):\n",
    "            m_number.append(j)\n",
    "else:\n",
    "    for i, one in enumerate(minus):\n",
    "        if one == max(minus):\n",
    "            m_number.append(-i)\n",
    "if len(m_number) == 1:\n",
    "    print(sorted(m_number)[0])\n",
    "else:\n",
    "    print(sorted(m_number)[1])\n",
    "print(max(n) - min(n))"
   ]
  },
  {
   "cell_type": "code",
   "execution_count": null,
   "metadata": {},
   "outputs": [],
   "source": [
    "import math, sys\n",
    "N = int(sys.stdin.readline())\n",
    "n = sorted([int(sys.stdin.readline()) for _ in range(N)])\n",
    "print(round(sum(n)/N))\n",
    "print(n[math.floor(len(n)/2)])\n",
    "plus = [0] * 4001\n",
    "minus = [0] * 4001\n",
    "for one in n:\n",
    "    if one >= 0:\n",
    "        plus[one] += 1\n",
    "    else:\n",
    "        minus[-one] += 1\n",
    "m_number = []\n",
    "if max(plus) == max(minus):\n",
    "    for i, one in enumerate(minus):\n",
    "        if one == max(minus):\n",
    "            m_number.append(-i)\n",
    "    for j, two in enumerate(plus):\n",
    "        if two == max(plus):\n",
    "            m_number.append(j)\n",
    "elif max(plus) > max(minus):\n",
    "    for j, two in enumerate(plus):\n",
    "        if two == max(plus):\n",
    "            m_number.append(j)\n",
    "else:\n",
    "    for i, one in enumerate(minus):\n",
    "        if one == max(minus):\n",
    "            m_number.append(-i)\n",
    "if len(m_number) == 1:\n",
    "    print(sorted(m_number)[0])\n",
    "else:\n",
    "    print(sorted(m_number)[1])\n",
    "print(max(n) - min(n))"
   ]
  },
  {
   "cell_type": "code",
   "execution_count": 1,
   "metadata": {},
   "outputs": [],
   "source": [
    "import collections as c\n",
    "N = int(input())\n",
    "n = sorted([int(input()) for _ in range(N)])\n",
    "t = c.Counter(n).most_common(2)"
   ]
  },
  {
   "cell_type": "code",
   "execution_count": 2,
   "metadata": {},
   "outputs": [
    {
     "data": {
      "text/plain": [
       "[(1, 1), (2, 1)]"
      ]
     },
     "execution_count": 2,
     "metadata": {},
     "output_type": "execute_result"
    }
   ],
   "source": [
    "t"
   ]
  },
  {
   "cell_type": "code",
   "execution_count": 3,
   "metadata": {},
   "outputs": [
    {
     "data": {
      "text/plain": [
       "1"
      ]
     },
     "execution_count": 3,
     "metadata": {},
     "output_type": "execute_result"
    }
   ],
   "source": [
    "t[0][1]"
   ]
  },
  {
   "cell_type": "code",
   "execution_count": 4,
   "metadata": {},
   "outputs": [
    {
     "data": {
      "text/plain": [
       "1"
      ]
     },
     "execution_count": 4,
     "metadata": {},
     "output_type": "execute_result"
    }
   ],
   "source": [
    "t[-1][1]"
   ]
  },
  {
   "cell_type": "code",
   "execution_count": 5,
   "metadata": {},
   "outputs": [
    {
     "data": {
      "text/plain": [
       "True"
      ]
     },
     "execution_count": 5,
     "metadata": {},
     "output_type": "execute_result"
    }
   ],
   "source": [
    "t[0][1]==t[-1][1]"
   ]
  },
  {
   "cell_type": "code",
   "execution_count": 7,
   "metadata": {},
   "outputs": [
    {
     "data": {
      "text/plain": [
       "-1"
      ]
     },
     "execution_count": 7,
     "metadata": {},
     "output_type": "execute_result"
    }
   ],
   "source": [
    "-(t[0][1]==t[-1][1])"
   ]
  },
  {
   "cell_type": "code",
   "execution_count": 8,
   "metadata": {},
   "outputs": [
    {
     "data": {
      "text/plain": [
       "(2, 1)"
      ]
     },
     "execution_count": 8,
     "metadata": {},
     "output_type": "execute_result"
    }
   ],
   "source": [
    "t[-(t[0][1]==t[-1][1])]"
   ]
  },
  {
   "cell_type": "markdown",
   "metadata": {},
   "source": [
    "### 풀이4(참고 - 제출 번호 : 39729431, 아이디 : cjfcjf)"
   ]
  },
  {
   "cell_type": "code",
   "execution_count": null,
   "metadata": {},
   "outputs": [],
   "source": [
    "import collections as c\n",
    "import sys\n",
    "N = int(input())\n",
    "n = sorted([int(sys.stdin.readline()) for _ in range(N)])\n",
    "t = c.Counter(n).most_common(2)\n",
    "print(round(sum(n)/N), n[N//2], t[-(t[0][1]==t[-1][1])][0], n[-1]-n[0], sep='\\n')"
   ]
  },
  {
   "cell_type": "code",
   "execution_count": 11,
   "metadata": {},
   "outputs": [
    {
     "name": "stdout",
     "output_type": "stream",
     "text": [
      "4000\n",
      "4000\n",
      "4000\n",
      "0\n"
     ]
    }
   ],
   "source": [
    "import collections as c\n",
    "import sys\n",
    "N = int(sys.stdin.readline())\n",
    "n = sorted([int(sys.stdin.readline()) for _ in range(N)])\n",
    "t = c.Counter(n).most_common(2)\n",
    "print(round(sum(n)/N), n[N//2], t[-(t[0][1]==t[-1][1])][0], n[-1]-n[0], sep='\\n')"
   ]
  },
  {
   "cell_type": "markdown",
   "metadata": {},
   "source": [
    "## 1427번 - 소트인사이드\n",
    "\n",
    "- 문제  \n",
    "    배열을 정렬하는 것은 쉽다. 수가 주어지면, 그 수의 각 자리수를 내림차순으로 정렬해보자.\n",
    "\n",
    "- 입력  \n",
    "    첫째 줄에 정렬하려고 하는 수 N이 주어진다. N은 1,000,000,000보다 작거나 같은 자연수이다.\n",
    "\n",
    "- 출력  \n",
    "    첫째 줄에 자리수를 내림차순으로 정렬한 수를 출력한다.\n",
    "\n",
    "    예제 입력|예제 출력 \n",
    "    -|-\n",
    "    2143|4321\n",
    "    999998999|999999998\n",
    "    61423|64321\n",
    "    500613009|965310000"
   ]
  },
  {
   "cell_type": "markdown",
   "metadata": {},
   "source": [
    "### 풀이"
   ]
  },
  {
   "cell_type": "code",
   "execution_count": 4,
   "metadata": {},
   "outputs": [
    {
     "name": "stdout",
     "output_type": "stream",
     "text": [
      "965310000"
     ]
    }
   ],
   "source": [
    "array = [0]*10\n",
    "for i in input():\n",
    "    array[int(i)] += 1\n",
    "for i in range(9, -1, -1):\n",
    "    for j in range(array[i]):\n",
    "        print(i, end='')"
   ]
  },
  {
   "cell_type": "markdown",
   "metadata": {},
   "source": [
    "## 11650번 - 좌표 정렬하기\n",
    "\n",
    "- 문제  \n",
    "    2차원 평면 위의 점 N개가 주어진다. 좌표를 x좌표가 증가하는 순으로, x좌표가 같으면 y좌표가 증가하는 순서로 정렬한 다음 출력하는 프로그램을 작성하시오.\n",
    "\n",
    "- 입력  \n",
    "    첫째 줄에 점의 개수 N (1 ≤ N ≤ 100,000)이 주어진다. 둘째 줄부터 N개의 줄에는 i번점의 위치 $x_i$와 $y_i$가 주어진다. $(-100,000 ≤ x_i, y_i ≤ 100,000)$ 좌표는 항상 정수이고, 위치가 같은 두 점은 없다.\n",
    "\n",
    "- 출력  \n",
    "    첫째 줄부터 N개의 줄에 점을 정렬한 결과를 출력한다.\n",
    "\n",
    "- 예제 입력  \n",
    "    5  \n",
    "    3 4  \n",
    "    1 1  \n",
    "    1 -1  \n",
    "    2 2  \n",
    "    3 3  \n",
    "- 예제 출력  \n",
    "    1 -1  \n",
    "    1 1  \n",
    "    2 2  \n",
    "    3 3  \n",
    "    3 4  "
   ]
  },
  {
   "cell_type": "markdown",
   "metadata": {},
   "source": [
    "### 풀이"
   ]
  },
  {
   "cell_type": "code",
   "execution_count": 7,
   "metadata": {},
   "outputs": [
    {
     "name": "stdout",
     "output_type": "stream",
     "text": [
      "1 -1\n",
      "1 1\n",
      "2 2\n",
      "3 3\n",
      "3 4\n"
     ]
    }
   ],
   "source": [
    "a = []\n",
    "for _ in range( int(input()) ):\n",
    "    n1, n2 = map(int, input().split())\n",
    "    a.append((n1, n2))\n",
    "for m1, m2 in sorted(a):\n",
    "    print(m1, m2)"
   ]
  },
  {
   "cell_type": "code",
   "execution_count": null,
   "metadata": {},
   "outputs": [],
   "source": [
    "import sys\n",
    "a = []\n",
    "for _ in range( int(sys.stdin.readline()) ):\n",
    "    n1, n2 = map(int, sys.stdin.readline().split())\n",
    "    a.append((n1, n2))\n",
    "for m1, m2 in sorted(a):\n",
    "    print(m1, m2)"
   ]
  },
  {
   "cell_type": "markdown",
   "metadata": {},
   "source": [
    "## 11651번 - 좌표 정렬하기 2\n",
    "\n",
    "- 문제  \n",
    "    2차원 평면 위의 점 N개가 주어진다. 좌표를 y좌표가 증가하는 순으로, y좌표가 같으면 x좌표가 증가하는 순서로 정렬한 다음 출력하는 프로그램을 작성하시오.\n",
    "\n",
    "- 입력  \n",
    "    첫째 줄에 점의 개수 N (1 ≤ N ≤ 100,000)이 주어진다. 둘째 줄부터 N개의 줄에는 i번점의 위치 $x_i$와 $y_i$가 주어진다. $(-100,000 ≤ x_i, y_i ≤ 100,000)$ 좌표는 항상 정수이고, 위치가 같은 두 점은 없다.\n",
    "\n",
    "- 출력  \n",
    "    첫째 줄부터 N개의 줄에 점을 정렬한 결과를 출력한다.\n",
    "\n",
    "- 예제 입력  \n",
    "    5  \n",
    "    0 4  \n",
    "    1 2  \n",
    "    1 -1  \n",
    "    2 2  \n",
    "    3 3  \n",
    "- 예제 출력  \n",
    "    1 -1  \n",
    "    1 2  \n",
    "    2 2  \n",
    "    3 3  \n",
    "    0 4  "
   ]
  },
  {
   "cell_type": "markdown",
   "metadata": {},
   "source": [
    "### 풀이"
   ]
  },
  {
   "cell_type": "code",
   "execution_count": null,
   "metadata": {},
   "outputs": [],
   "source": [
    "a = []\n",
    "for _ in range( int(input()) ):\n",
    "    n1, n2 = map(int, input().split())\n",
    "    a.append((n2, n1))\n",
    "for m2, m1 in sorted(a):\n",
    "    print(m1, m2)"
   ]
  },
  {
   "cell_type": "code",
   "execution_count": 8,
   "metadata": {},
   "outputs": [
    {
     "name": "stdout",
     "output_type": "stream",
     "text": [
      "1 -1\n",
      "1 2\n",
      "2 2\n",
      "3 3\n",
      "0 4\n"
     ]
    }
   ],
   "source": [
    "import sys\n",
    "a = []\n",
    "for _ in range( int(sys.stdin.readline()) ):\n",
    "    n1, n2 = map(int, sys.stdin.readline().split())\n",
    "    a.append((n2, n1))\n",
    "for m2, m1 in sorted(a):\n",
    "    print(m1, m2)"
   ]
  },
  {
   "cell_type": "markdown",
   "metadata": {},
   "source": [
    "## 1181번 - 단어 정렬\n",
    "\n",
    "- 문제  \n",
    "    알파벳 소문자로 이루어진 N개의 단어가 들어오면 아래와 같은 조건에 따라 정렬하는 프로그램을 작성하시오.\n",
    "\n",
    "    길이가 짧은 것부터\n",
    "    길이가 같으면 사전 순으로\n",
    "- 입력  \n",
    "    첫째 줄에 단어의 개수 N이 주어진다. (1 ≤ N ≤ 20,000) 둘째 줄부터 N개의 줄에 걸쳐 알파벳 소문자로 이루어진 단어가 한 줄에 하나씩 주어진다. 주어지는 문자열의 길이는 50을 넘지 않는다.\n",
    "\n",
    "- 출력  \n",
    "    조건에 따라 정렬하여 단어들을 출력한다. 단, 같은 단어가 여러 번 입력된 경우에는 한 번씩만 출력한다.\n",
    "\n",
    "- 예제 입력  \n",
    "    13  \n",
    "    but  \n",
    "    i  \n",
    "    wont  \n",
    "    hesitate  \n",
    "    no  \n",
    "    more  \n",
    "    no  \n",
    "    more  \n",
    "    it  \n",
    "    cannot  \n",
    "    wait  \n",
    "    im  \n",
    "    yours  \n",
    "- 예제 출력  \n",
    "    i  \n",
    "    im  \n",
    "    it  \n",
    "    no  \n",
    "    but  \n",
    "    more  \n",
    "    wait  \n",
    "    wont  \n",
    "    yours  \n",
    "    cannot  \n",
    "    hesitate  "
   ]
  },
  {
   "cell_type": "code",
   "execution_count": 12,
   "metadata": {},
   "outputs": [],
   "source": [
    "temp = ['but', 'i', 'wont', 'hesitate', 'no', 'more', 'no', 'more', 'it', 'cannot', 'wait', 'im', 'yours']"
   ]
  },
  {
   "cell_type": "code",
   "execution_count": 13,
   "metadata": {},
   "outputs": [
    {
     "data": {
      "text/plain": [
       "['but',\n",
       " 'cannot',\n",
       " 'hesitate',\n",
       " 'i',\n",
       " 'im',\n",
       " 'it',\n",
       " 'more',\n",
       " 'no',\n",
       " 'wait',\n",
       " 'wont',\n",
       " 'yours']"
      ]
     },
     "execution_count": 13,
     "metadata": {},
     "output_type": "execute_result"
    }
   ],
   "source": [
    "text = sorted(list(set(temp)))\n",
    "text"
   ]
  },
  {
   "cell_type": "code",
   "execution_count": 17,
   "metadata": {},
   "outputs": [
    {
     "data": {
      "text/plain": [
       "['i',\n",
       " 'im',\n",
       " 'it',\n",
       " 'no',\n",
       " 'but',\n",
       " 'more',\n",
       " 'wait',\n",
       " 'wont',\n",
       " 'yours',\n",
       " 'cannot',\n",
       " 'hesitate']"
      ]
     },
     "execution_count": 17,
     "metadata": {},
     "output_type": "execute_result"
    }
   ],
   "source": [
    "sorted(text, key=len)"
   ]
  },
  {
   "cell_type": "markdown",
   "metadata": {},
   "source": [
    "### 풀이"
   ]
  },
  {
   "cell_type": "code",
   "execution_count": 19,
   "metadata": {},
   "outputs": [
    {
     "name": "stdout",
     "output_type": "stream",
     "text": [
      "i\n",
      "im\n",
      "it\n",
      "no\n",
      "but\n",
      "more\n",
      "wait\n",
      "wont\n",
      "yours\n",
      "cannot\n",
      "hesitate\n"
     ]
    }
   ],
   "source": [
    "text = sorted(list(set([input() for _ in range(int(input()))])))\n",
    "for one in sorted(text, key=len):\n",
    "    print(one)"
   ]
  },
  {
   "cell_type": "code",
   "execution_count": null,
   "metadata": {},
   "outputs": [],
   "source": [
    "import sys\n",
    "text = sorted(list(set([sys.stdin.readline().rstrip() for _ in range(int(sys.stdin.readline()))])))\n",
    "for one in sorted(text, key=len):\n",
    "    print(one)"
   ]
  },
  {
   "cell_type": "markdown",
   "metadata": {},
   "source": [
    "## 10814번 - 나이순 정렬\n",
    "\n",
    "- 문제  \n",
    "    온라인 저지에 가입한 사람들의 나이와 이름이 가입한 순서대로 주어진다. 이때, 회원들을 나이가 증가하는 순으로, 나이가 같으면 먼저 가입한 사람이 앞에 오는 순서로 정렬하는 프로그램을 작성하시오.\n",
    "\n",
    "- 입력  \n",
    "    첫째 줄에 온라인 저지 회원의 수 N이 주어진다. (1 ≤ N ≤ 100,000)\n",
    "\n",
    "    둘째 줄부터 N개의 줄에는 각 회원의 나이와 이름이 공백으로 구분되어 주어진다. 나이는 1보다 크거나 같으며, 200보다 작거나 같은 정수이고, 이름은 알파벳 대소문자로 이루어져 있고, 길이가 100보다 작거나 같은 문자열이다. 입력은 가입한 순서로 주어진다.\n",
    "\n",
    "- 출력  \n",
    "    첫째 줄부터 총 N개의 줄에 걸쳐 온라인 저지 회원을 나이 순, 나이가 같으면 가입한 순으로 한 줄에 한 명씩 나이와 이름을 공백으로 구분해 출력한다.\n",
    "\n",
    "- 예제 입력  \n",
    "    3  \n",
    "    21 Junkyu  \n",
    "    21 Dohyun  \n",
    "    20 Sunyoung  \n",
    "- 에제 출력  \n",
    "    20 Sunyoung  \n",
    "    21 Junkyu  \n",
    "    21 Dohyun  "
   ]
  },
  {
   "cell_type": "code",
   "execution_count": 24,
   "metadata": {},
   "outputs": [
    {
     "data": {
      "text/plain": [
       "[[20, 'Sunyoug'], [21, 'Junkyu'], [21, 'Dohyun']]"
      ]
     },
     "execution_count": 24,
     "metadata": {},
     "output_type": "execute_result"
    }
   ],
   "source": [
    "customers = [[21, 'Junkyu'] ,[21, 'Dohyun'], [20, 'Sunyoug']]\n",
    "sorted(customers, key=lambda x:x[0])"
   ]
  },
  {
   "cell_type": "markdown",
   "metadata": {},
   "source": [
    "### 풀이1"
   ]
  },
  {
   "cell_type": "code",
   "execution_count": 27,
   "metadata": {},
   "outputs": [
    {
     "name": "stdout",
     "output_type": "stream",
     "text": [
      "20 Sunyoung\n",
      "21 Junkyu\n",
      "21 Dohyun\n"
     ]
    }
   ],
   "source": [
    "customers = []\n",
    "for _ in range(int(input())):\n",
    "    temp = input().split()\n",
    "    n1, n2 = int(temp[0]), temp[1]\n",
    "    customers.append((n1, n2))\n",
    "for s1, s2 in sorted(customers, key=lambda x:x[0]):\n",
    "    print(s1, s2)"
   ]
  },
  {
   "cell_type": "code",
   "execution_count": null,
   "metadata": {},
   "outputs": [],
   "source": [
    "import sys\n",
    "customers = []\n",
    "for _ in range(int(sys.stdin.readline())):\n",
    "    temp = sys.stdin.readline().rstrip().split()\n",
    "    n1, n2 = int(temp[0]), temp[1]\n",
    "    customers.append((n1, n2))\n",
    "for s1, s2 in sorted(customers, key=lambda x:x[0]):\n",
    "    print(s1, s2)"
   ]
  },
  {
   "cell_type": "markdown",
   "metadata": {},
   "source": [
    "### 풀이2(틀림)"
   ]
  },
  {
   "cell_type": "code",
   "execution_count": 28,
   "metadata": {},
   "outputs": [
    {
     "name": "stdout",
     "output_type": "stream",
     "text": [
      "20 Sunyoung\n",
      "21 Junkyu\n",
      "21 Dohyun\n"
     ]
    }
   ],
   "source": [
    "customers = [input().split() for _ in range(int(input()))]\n",
    "for s1, s2 in sorted(customers, key=lambda x:x[0]):\n",
    "    print(s1, s2)"
   ]
  },
  {
   "cell_type": "markdown",
   "metadata": {},
   "source": [
    "## 18870번 - 좌표 압축\n",
    "- 문제  \n",
    "    수직선 위에 N개의 좌표 $X_1, X_2, ..., X_N$이 있다. 이 좌표에 좌표 압축을 적용하려고 한다.\n",
    "\n",
    "    $X_i$를 좌표 압축한 결과 $X'_i$의 값은 $X_i > X_j$를 만족하는 서로 다른 좌표의 개수와 같아야 한다.\n",
    "\n",
    "    $X_1, X_2, ..., X_N$에 좌표 압축을 적용한 결과 $X'_1, X'_2, ..., X'_N$를 출력해보자.\n",
    "\n",
    "- 입력  \n",
    "    첫째 줄에 N이 주어진다.\n",
    "\n",
    "    둘째 줄에는 공백 한 칸으로 구분된 $X_1, X_2, ..., X_N$이 주어진다.\n",
    "\n",
    "- 출력  \n",
    "    첫째 줄에 $X'_1, X'_2, ..., X'_N$을 공백 한 칸으로 구분해서 출력한다.\n",
    "\n",
    "- 제한  \n",
    "    $1 ≤ N ≤ 1,000,000$  \n",
    "    $-10^9 ≤ X_i ≤ 10^9$\n",
    "\n",
    "- 예시 입력1  \n",
    "    5  \n",
    "    2 4 -10 4 -9  \n",
    "- 예시 출력1  \n",
    "    2 3 0 3 1\n",
    "- 예시 입력2  \n",
    "    6  \n",
    "    1000 999 1000 999 1000 999  \n",
    "- 예시 출력2  \n",
    "    1 0 1 0 1 0"
   ]
  },
  {
   "cell_type": "markdown",
   "metadata": {},
   "source": [
    "### 풀이1(시간 초과)"
   ]
  },
  {
   "cell_type": "code",
   "execution_count": 35,
   "metadata": {},
   "outputs": [
    {
     "name": "stdout",
     "output_type": "stream",
     "text": [
      "2 3 0 3 1\n"
     ]
    }
   ],
   "source": [
    "N = int(input())\n",
    "n = list(map(int, input().split()))\n",
    "m = set(n)\n",
    "result = []\n",
    "for i in n:\n",
    "    c = 0\n",
    "    for j in m:\n",
    "        if i > j:\n",
    "            c += 1\n",
    "    result.append(c)\n",
    "print(*result)"
   ]
  },
  {
   "cell_type": "code",
   "execution_count": 31,
   "metadata": {},
   "outputs": [
    {
     "data": {
      "text/plain": [
       "{-10, -9, 2, 4}"
      ]
     },
     "execution_count": 31,
     "metadata": {},
     "output_type": "execute_result"
    }
   ],
   "source": [
    "m"
   ]
  },
  {
   "cell_type": "code",
   "execution_count": null,
   "metadata": {},
   "outputs": [],
   "source": [
    "import sys\n",
    "N = int(sys.stdin.readline())\n",
    "n = list(map(int, sys.stdin.readline().rstrip().split()))\n",
    "m = set(n)\n",
    "result = []\n",
    "for i in n:\n",
    "    c = 0\n",
    "    for j in m:\n",
    "        if i > j:\n",
    "            c += 1\n",
    "    result.append(c)\n",
    "print(*result)"
   ]
  },
  {
   "cell_type": "markdown",
   "metadata": {},
   "source": [
    "### 풀이2 (메모리 초과)"
   ]
  },
  {
   "cell_type": "code",
   "execution_count": 37,
   "metadata": {},
   "outputs": [
    {
     "name": "stdout",
     "output_type": "stream",
     "text": [
      "2 3 0 3 1\n"
     ]
    }
   ],
   "source": [
    "N = int(input())\n",
    "n = list(map(int, input().split()))\n",
    "m = set(n)\n",
    "length = max(list(map(abs, n)))\n",
    "limit = length + 1\n",
    "plus = [0] * limit\n",
    "minus = [0] * limit\n",
    "for i in m:\n",
    "    if i >= 0:\n",
    "        plus[i] += 1\n",
    "    else:\n",
    "        minus[-i] += 1\n",
    "result = []\n",
    "for j in n:\n",
    "    if j >= 0:\n",
    "        result.append( sum(plus[:j]) + sum(minus) )\n",
    "    if j < 0:\n",
    "        result.append( sum(minus[-(j-1):]) )\n",
    "print(*result)"
   ]
  },
  {
   "cell_type": "code",
   "execution_count": 47,
   "metadata": {},
   "outputs": [
    {
     "name": "stdout",
     "output_type": "stream",
     "text": [
      "2 3 0 3 1 "
     ]
    }
   ],
   "source": [
    "n = [2, 4, -10, 4, -9]\n",
    "m = set(n)\n",
    "for i in n:\n",
    "    print(len([j for j in m if i > j]), end=' ')"
   ]
  },
  {
   "cell_type": "markdown",
   "metadata": {},
   "source": [
    "### 풀이3(시간 초과)"
   ]
  },
  {
   "cell_type": "code",
   "execution_count": 49,
   "metadata": {},
   "outputs": [
    {
     "name": "stdout",
     "output_type": "stream",
     "text": [
      "2 3 0 3 1 "
     ]
    }
   ],
   "source": [
    "N = int(input())\n",
    "n = list(map(int, input().split()))\n",
    "m = set(n)\n",
    "for i in n:\n",
    "    print(len([j for j in m if i > j]), end=' ')"
   ]
  },
  {
   "cell_type": "code",
   "execution_count": null,
   "metadata": {},
   "outputs": [],
   "source": [
    "import sys\n",
    "N = int(sys.stdin.readline())\n",
    "n = list(map(int, sys.stdin.readline().rstrip().split()))\n",
    "m = set(n)\n",
    "for i in n:\n",
    "    print(len([j for j in m if i > j]), end=' ')"
   ]
  },
  {
   "cell_type": "markdown",
   "metadata": {},
   "source": [
    "### 풀이4(시간 초과)"
   ]
  },
  {
   "cell_type": "code",
   "execution_count": 51,
   "metadata": {},
   "outputs": [
    {
     "name": "stdout",
     "output_type": "stream",
     "text": [
      "2 3 0 3 1 "
     ]
    }
   ],
   "source": [
    "N = int(input())\n",
    "n = list(map(int, input().split()))\n",
    "m = sorted(set(n))\n",
    "for i in n:\n",
    "    print(m.index(i), end=' ')"
   ]
  },
  {
   "cell_type": "markdown",
   "metadata": {},
   "source": [
    "### 풀이5(시간 초과)"
   ]
  },
  {
   "cell_type": "code",
   "execution_count": 55,
   "metadata": {},
   "outputs": [
    {
     "name": "stdout",
     "output_type": "stream",
     "text": [
      "2 3 0 3 1 "
     ]
    }
   ],
   "source": [
    "N = int(input())\n",
    "n = list(map(int, input().split()))\n",
    "m = sorted(set(n))\n",
    "for i in n:\n",
    "    print(m.index(i), end=' ')"
   ]
  },
  {
   "cell_type": "code",
   "execution_count": 60,
   "metadata": {},
   "outputs": [
    {
     "name": "stdout",
     "output_type": "stream",
     "text": [
      "2 3 0 3 1 "
     ]
    }
   ],
   "source": [
    "n = [2, 4, -10, 4, -9]\n",
    "m = sorted(set(n))\n",
    "d = dict()\n",
    "for i in m:\n",
    "    d[i] = m.index(i)\n",
    "for i in n:\n",
    "    print(d[i], end=' ')"
   ]
  },
  {
   "cell_type": "code",
   "execution_count": 61,
   "metadata": {},
   "outputs": [
    {
     "data": {
      "text/plain": [
       "[-10, -9, 2, 4]"
      ]
     },
     "execution_count": 61,
     "metadata": {},
     "output_type": "execute_result"
    }
   ],
   "source": [
    "m"
   ]
  },
  {
   "cell_type": "markdown",
   "metadata": {},
   "source": [
    "### 풀이6(시간 초과)"
   ]
  },
  {
   "cell_type": "code",
   "execution_count": 64,
   "metadata": {},
   "outputs": [
    {
     "name": "stdout",
     "output_type": "stream",
     "text": [
      "2 3 0 3 1 "
     ]
    }
   ],
   "source": [
    "N = int(input())\n",
    "n = list(map(int, input().split()))\n",
    "m = sorted(set(n))\n",
    "d = dict()\n",
    "for i in m:\n",
    "    d[i] = m.index(i)\n",
    "for i in n:\n",
    "    print(d[i], end=' ')"
   ]
  },
  {
   "cell_type": "markdown",
   "metadata": {},
   "source": [
    "### 풀이7(2044ms, 161B)"
   ]
  },
  {
   "cell_type": "code",
   "execution_count": null,
   "metadata": {},
   "outputs": [],
   "source": [
    "N = int(input())\n",
    "n = list(map(int, input().split()))\n",
    "m = sorted(set(n))\n",
    "d = dict()\n",
    "k = 0\n",
    "for i in m:\n",
    "    d[i] = k\n",
    "    k += 1\n",
    "for i in n:\n",
    "    print(d[i], end=' ')"
   ]
  },
  {
   "cell_type": "markdown",
   "metadata": {},
   "source": [
    "### 풀이8(1992ms, 207B)"
   ]
  },
  {
   "cell_type": "code",
   "execution_count": null,
   "metadata": {},
   "outputs": [],
   "source": [
    "import sys\n",
    "N = int(sys.stdin.readline())\n",
    "n = list(map(int, sys.stdin.readline().rstrip().split()))\n",
    "m = sorted(set(n))\n",
    "d = dict()\n",
    "k = 0\n",
    "for i in m:\n",
    "    d[i] = k\n",
    "    k += 1\n",
    "for i in n:\n",
    "    print(d[i], end=' ')"
   ]
  },
  {
   "cell_type": "markdown",
   "metadata": {},
   "source": [
    "### 풀이9(2392ms, 158B)"
   ]
  },
  {
   "cell_type": "code",
   "execution_count": 65,
   "metadata": {},
   "outputs": [
    {
     "name": "stdout",
     "output_type": "stream",
     "text": [
      "2 3 0 3 1 "
     ]
    }
   ],
   "source": [
    "N = int(input())\n",
    "n = list(map(int, input().split()))\n",
    "m = sorted(set(n))\n",
    "d = dict()\n",
    "for i, s in enumerate(m):\n",
    "    d[s] = i\n",
    "for i in n:\n",
    "    print(d[i], end=' ')"
   ]
  },
  {
   "cell_type": "markdown",
   "metadata": {},
   "source": [
    "# 코드 마지막"
   ]
  }
 ],
 "metadata": {
  "interpreter": {
   "hash": "569b4317022eb29baeafb3d0f1f739310808ea28ce83ca127a35db1c01070585"
  },
  "kernelspec": {
   "display_name": "Python 3.9.12 ('base')",
   "language": "python",
   "name": "python3"
  },
  "language_info": {
   "codemirror_mode": {
    "name": "ipython",
    "version": 3
   },
   "file_extension": ".py",
   "mimetype": "text/x-python",
   "name": "python",
   "nbconvert_exporter": "python",
   "pygments_lexer": "ipython3",
   "version": "3.9.12"
  },
  "orig_nbformat": 4
 },
 "nbformat": 4,
 "nbformat_minor": 2
}
