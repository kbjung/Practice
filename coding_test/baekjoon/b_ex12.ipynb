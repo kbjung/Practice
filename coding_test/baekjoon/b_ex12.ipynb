{
 "cells": [
  {
   "cell_type": "markdown",
   "metadata": {},
   "source": [
    "# 집합과 맵"
   ]
  },
  {
   "cell_type": "markdown",
   "metadata": {},
   "source": [
    "## 10815번 - 숫자 카드\n",
    "\n",
    "- 문제  \n",
    "    숫자 카드는 정수 하나가 적혀져 있는 카드이다. 상근이는 숫자 카드 N개를 가지고 있다. 정수 M개가 주어졌을 때, 이 수가 적혀있는 숫자 카드를 상근이가 가지고 있는지 아닌지를 구하는 프로그램을 작성하시오.\n",
    "\n",
    "- 입력  \n",
    "    첫째 줄에 상근이가 가지고 있는 숫자 카드의 개수 N(1 ≤ N ≤ 500,000)이 주어진다. 둘째 줄에는 숫자 카드에 적혀있는 정수가 주어진다. 숫자 카드에 적혀있는 수는 -10,000,000보다 크거나 같고, 10,000,000보다 작거나 같다. 두 숫자 카드에 같은 수가 적혀있는 경우는 없다.\n",
    "\n",
    "    셋째 줄에는 M(1 ≤ M ≤ 500,000)이 주어진다. 넷째 줄에는 상근이가 가지고 있는 숫자 카드인지 아닌지를 구해야 할 M개의 정수가 주어지며, 이 수는 공백으로 구분되어져 있다. 이 수도 -10,000,000보다 크거나 같고, 10,000,000보다 작거나 같다\n",
    "\n",
    "- 출력  \n",
    "    첫째 줄에 입력으로 주어진 M개의 수에 대해서, 각 수가 적힌 숫자 카드를 상근이가 가지고 있으면 1을, 아니면 0을 공백으로 구분해 출력한다.\n",
    "\n",
    "- 예제 입력  \n",
    "    5  \n",
    "    6 3 2 10 -10  \n",
    "    8  \n",
    "    10 9 -5 2 3 4 5 -10  \n",
    "- 예제 출력  \n",
    "    1 0 0 1 1 0 0 1"
   ]
  },
  {
   "cell_type": "markdown",
   "metadata": {},
   "source": [
    "### 풀이1(시간 초과)"
   ]
  },
  {
   "cell_type": "code",
   "execution_count": 1,
   "metadata": {},
   "outputs": [
    {
     "name": "stdout",
     "output_type": "stream",
     "text": [
      "1 0 0 1 1 0 0 1 "
     ]
    }
   ],
   "source": [
    "N = int(input())\n",
    "h = list(map(int, input().split()))\n",
    "M = int(input())\n",
    "nums = list(map(int, input().split()))\n",
    "for a in nums:\n",
    "    if a in h:\n",
    "        print(1, end=' ')\n",
    "    else:\n",
    "        print(0, end=' ')"
   ]
  },
  {
   "cell_type": "markdown",
   "metadata": {},
   "source": [
    "### 풀이2(시간 초과)"
   ]
  },
  {
   "cell_type": "code",
   "execution_count": null,
   "metadata": {},
   "outputs": [],
   "source": [
    "import sys\n",
    "N = int(sys.stdin.readline().rstrip())\n",
    "h = list(map(int, sys.stdin.readline().rstrip().split()))\n",
    "M = int(sys.stdin.readline().rstrip())\n",
    "nums = list(map(int, sys.stdin.readline().rstrip().split()))\n",
    "for a in nums:\n",
    "    if a in h:\n",
    "        print(1, end=' ')\n",
    "    else:\n",
    "        print(0, end=' ')"
   ]
  },
  {
   "cell_type": "code",
   "execution_count": 2,
   "metadata": {},
   "outputs": [
    {
     "data": {
      "text/plain": [
       "True"
      ]
     },
     "execution_count": 2,
     "metadata": {},
     "output_type": "execute_result"
    }
   ],
   "source": [
    "1 in tuple((1, 2, 3, 4))"
   ]
  },
  {
   "cell_type": "markdown",
   "metadata": {},
   "source": [
    "### 풀이3(시간 초과)"
   ]
  },
  {
   "cell_type": "code",
   "execution_count": 3,
   "metadata": {},
   "outputs": [
    {
     "name": "stdout",
     "output_type": "stream",
     "text": [
      "1 0 0 1 1 0 0 1 "
     ]
    }
   ],
   "source": [
    "N = int(input())\n",
    "h = tuple(map(int, input().split()))\n",
    "M = int(input())\n",
    "nums = list(map(int, input().split()))\n",
    "for a in nums:\n",
    "    if a in h:\n",
    "        print(1, end=' ')\n",
    "    else:\n",
    "        print(0, end=' ')"
   ]
  },
  {
   "cell_type": "markdown",
   "metadata": {},
   "source": [
    "### 풀이3(238992KB, 940ms, 365B)"
   ]
  },
  {
   "cell_type": "code",
   "execution_count": 4,
   "metadata": {},
   "outputs": [
    {
     "name": "stdout",
     "output_type": "stream",
     "text": [
      "1 0 0 1 1 0 0 1 "
     ]
    }
   ],
   "source": [
    "N = int(input())\n",
    "h = list(map(int, input().split()))\n",
    "M = int(input())\n",
    "nums = list(map(int, input().split()))\n",
    "hp_array = [0]*(10**7+1)\n",
    "hm_array = [0]*(10**7+1)\n",
    "for one in h:\n",
    "    if one >= 0:\n",
    "        hp_array[one] = 1\n",
    "    else:\n",
    "        hm_array[-one] = 1\n",
    "for a in nums:\n",
    "    if a >= 0:\n",
    "        print(hp_array[a], end=' ')\n",
    "    else:\n",
    "        print(hm_array[-a], end=' ')"
   ]
  },
  {
   "cell_type": "markdown",
   "metadata": {},
   "source": [
    "### 참고(제출 번호 : 49365453, 아이디 : escv12)"
   ]
  },
  {
   "cell_type": "code",
   "execution_count": 5,
   "metadata": {},
   "outputs": [
    {
     "name": "stdout",
     "output_type": "stream",
     "text": [
      "1 0 0 1 1 0 0 1\n"
     ]
    }
   ],
   "source": [
    "x=input\n",
    "x()\n",
    "a=set(x().split())\n",
    "x()\n",
    "print(*[(i in a)*1 for i in x().split()])"
   ]
  },
  {
   "cell_type": "markdown",
   "metadata": {},
   "source": [
    "### 풀이4(120908KB, 544ms, 104B)"
   ]
  },
  {
   "cell_type": "code",
   "execution_count": null,
   "metadata": {},
   "outputs": [],
   "source": [
    "N = int(input())\n",
    "h = set(input().split())\n",
    "M = int(input())\n",
    "print(*[(i in h)*1 for i in input().split()])"
   ]
  },
  {
   "cell_type": "markdown",
   "metadata": {},
   "source": [
    "## 14425번 - 문자열 집합\n",
    "\n",
    "- 문제  \n",
    "    총 N개의 문자열로 이루어진 집합 S가 주어진다.\n",
    "\n",
    "    입력으로 주어지는 M개의 문자열 중에서 집합 S에 포함되어 있는 것이 총 몇 개인지 구하는 프로그램을 작성하시오.\n",
    "\n",
    "- 입력  \n",
    "    첫째 줄에 문자열의 개수 N과 M (1 ≤ N ≤ 10,000, 1 ≤ M ≤ 10,000)이 주어진다. \n",
    "\n",
    "    다음 N개의 줄에는 집합 S에 포함되어 있는 문자열들이 주어진다.\n",
    "\n",
    "    다음 M개의 줄에는 검사해야 하는 문자열들이 주어진다.\n",
    "\n",
    "    입력으로 주어지는 문자열은 알파벳 소문자로만 이루어져 있으며, 길이는 500을 넘지 않는다. 집합 S에 같은 문자열이 여러 번 주어지는 경우는 없다.\n",
    "\n",
    "- 출력  \n",
    "    첫째 줄에 M개의 문자열 중에 총 몇 개가 집합 S에 포함되어 있는지 출력한다.\n",
    "\n",
    "- 예제 입력  \n",
    "    5 11  \n",
    "    baekjoononlinejudge  \n",
    "    startlink  \n",
    "    codeplus  \n",
    "    sundaycoding  \n",
    "    codingsh  \n",
    "    baekjoon  \n",
    "    codeplus  \n",
    "    codeminus  \n",
    "    startlink  \n",
    "    starlink  \n",
    "    sundaycoding  \n",
    "    codingsh  \n",
    "    codinghs  \n",
    "    sondaycoding  \n",
    "    startrink  \n",
    "    icerink  \n",
    "- 예제 출력  \n",
    "    4"
   ]
  },
  {
   "cell_type": "markdown",
   "metadata": {},
   "source": [
    "### 풀이1(36004KB, 148ms, 242B)"
   ]
  },
  {
   "cell_type": "code",
   "execution_count": null,
   "metadata": {},
   "outputs": [],
   "source": [
    "import sys\n",
    "N, M = map(int, sys.stdin.readline().rstrip().split())\n",
    "S = set()\n",
    "result = 0\n",
    "for i in range(N):\n",
    "    S.add(sys.stdin.readline().rstrip())\n",
    "for j in range(M):\n",
    "    if sys.stdin.readline().rstrip() in S:\n",
    "        result += 1\n",
    "print(result)"
   ]
  },
  {
   "cell_type": "markdown",
   "metadata": {},
   "source": [
    "### 풀이2(36012KB, 900ms, 165B)"
   ]
  },
  {
   "cell_type": "code",
   "execution_count": 6,
   "metadata": {},
   "outputs": [
    {
     "name": "stdout",
     "output_type": "stream",
     "text": [
      "4\n"
     ]
    }
   ],
   "source": [
    "N, M = map(int, input().split())\n",
    "S = set()\n",
    "result = 0\n",
    "for i in range(N):\n",
    "    S.add(input())\n",
    "for j in range(M):\n",
    "    if input() in S:\n",
    "        result += 1\n",
    "print(result)"
   ]
  },
  {
   "cell_type": "markdown",
   "metadata": {},
   "source": [
    "## 1620번 - 나는야 포켓몬 마스터 이다솜\n",
    "\n",
    "- 문제  \n",
    "\n",
    "    <img src='1620_01.png'>\n",
    "\n",
    "    안녕? 내 이름은 이다솜. 나의 꿈은 포켓몬 마스터야. 일단 포켓몬 마스터가 되기 위해선 포켓몬을 한 마리 잡아야겠지? 근처 숲으로 가야겠어.\n",
    "\n",
    "    (뚜벅 뚜벅)\n",
    "\n",
    "    얏! 꼬렛이다. 꼬렛? 귀여운데, 나의 첫 포켓몬으로 딱 어울린데? 내가 잡고 말겠어. 가라! 몬스터볼~\n",
    "\n",
    "    (펑!) 헐랭... 왜 안 잡히지?ㅜㅜ 몬스터 볼만 던지면 되는 게 아닌가...ㅜㅠ\n",
    "\n",
    "    (터벅터벅)\n",
    "\n",
    "    어? 누구지?\n",
    "\n",
    "    <img src='1620_02.png'>\n",
    "\n",
    "    오박사 : 나는 태초마을의 포켓몬 박사 오민식 박사라네. 다솜아, 포켓몬을 잡을 때는, 일단 상대 포켓몬의 체력을 적당히 바닥으로 만들어놓고 몬스터 볼을 던져야 한단다. 자, 내 포켓몬 이상해꽃으로 한번 잡아보렴. 포켓몬의 기술을 쓰는 것을 보고 포켓몬을 줄지 안줄지 결정을 하겠네. 자 한번 해보아라. 다솜아.\n",
    "\n",
    "    이다솜 : 이상해꽃이라...음.. 꽃이니깐 왠지 햇빛을 받아서 공격을 할 것 같은데... 음... 이상해꽃! 햇빛공격!!!\n",
    "\n",
    "    (꼬렛이 이상해꽃에게 공격을 받아 체력이 25 감소했다.)    가라! 몬스터 볼!!!    (꼬렛을 잡았습니다.)    야호! 신난다. 꼬렛을 잡았다.\n",
    "\n",
    "    오박사 : 오우!! 방금 쓴 공격은 솔라빔이라고 하네.. 어떻게 공격을 한 건가? 솔라빔이란 공격에 대해서 공부를 한 건가?\n",
    "\n",
    "    이다솜 : 꽃이니깐 왠지 햇빛을 제대로 받으면 광합성을 해서 음.. 그냥 그럴 것 같아서요 ☞☜\n",
    "\n",
    "    오박사 : 다른 아이들은 넝쿨채찍이나, 나뭇잎 공격을 하는데, 다솜이는 역시 뭔가 다르구나. 그럼 나와 함께 연구소로 가자꾸나. 내가 포켓몬을 한 마리 줄 테니, 너의 꿈을 펼쳐보아라. 꿈은 이루어진단다.\n",
    "\n",
    "    이다솜 : 네! 오박사님, 고마워요.ㅜㅜ\n",
    "\n",
    "    오박사 : 가자. 나의 연구소는 너의 옆집의 아랫집이란다. 같이 가도록하자. 지금 포켓몬을 주마.\n",
    "\n",
    "    이다솜 : 네. 야호!!\n",
    "\n",
    "    <img src='1620_03.png'>\n",
    "\n",
    "    오영식 : 어? 오박사님 얘는 누구인가요?\n",
    "\n",
    "    <img src='1620_04.png'>\n",
    "\n",
    "    오박사 : 얘는 너의 라이벌이 될 친구 이다솜이라고 하네. 자, 포켓몬을 한 마리 골라보도록 해봐라 다솜아. 레이디퍼스트 네가 먼저 골라봐라.\n",
    "\n",
    "    이다솜 : 저는 생각해둔 포켓몬이 있어요. 피카츄 골라도 될까요?\n",
    "\n",
    "    오박사 : 그래 여기 피카츄가 한 마리 있단다. 피카츄를 가져가거라.\n",
    "\n",
    "    오영식 : 그럼 저는 이브이를 가져가겠어요. 그럼 나중에 보자 이다솜.\n",
    "\n",
    "    이다솜 : 그럼 꼬렛을 다시 잡으러 가야겠다. 영식아, 그리고 민식박사님 빠잉!\n",
    "\n",
    "    <img src='1620_05.png'>\n",
    "\n",
    "    이다솜 : 피카츄 공격!\n",
    "\n",
    "    <img src='1620_06.png'>\n",
    "\n",
    "    가라 몬스터 볼!\n",
    "\n",
    "    <img src='1620_07.png'>\n",
    "\n",
    "    이다솜 : 야호! 신난다. 꼬렛을 잡았다!!!!!\n",
    "\n",
    "    이다솜 : 그럼! 일단 사천왕을 이기고 오겠어!\n",
    "\n",
    "    <img src='1620_08.png'>\n",
    "\n",
    "    이다솜 : 여기가 사천왕과 대결하려면 가야하는 곳인가..\n",
    "\n",
    "    <img src='1620_09.png'>\n",
    "\n",
    "    경비원 : 사천왕과 대결을 하려면, 마을의 체육관 리더를 이겨서 배지를 8개를 모아야 한다네... 배지를 모아서 오도록 하게\n",
    "\n",
    "    이다솜 : 잉ㅠㅜ... 그럼 배지부터 모아야 하는구나ㅠㅜㅠㅜ 나쁘당 그냥 좀 봐주지..\n",
    "\n",
    "    <1 년 후>\n",
    "\n",
    "    그동안의 줄거리 : 이다솜은 일단 상록 숲의 체육관 리더에게 도전을 했다. 하지만 상록숲 체육관의 리더는 실종된 상태. 따라서 회색마을부터 도전하기로 했다. 체육관의 리더를 이기면서, 로켓단을 해체시키기도 하고, 여러 가지 사건도 있었다. 결국 전설의 포켓몬도 잡고, 이제 사천왕을 이기려고 도전하기로 했다. 사천왕은 모두 가볍게 이기고, 이제 마지막 라이벌 오!영!식! 이다.\n",
    "\n",
    "    <img src='1620_10.png'>\n",
    "\n",
    "    오영식 : 훗. 1년 전의 그 이다솜이 사천왕을 이기고 현재 포켓몬 마스터인 나에게 덤벼? 어디 한번 덤벼보시지.\n",
    "\n",
    "    이다솜 : 헐랭... 나를 우습게보네.... 한번 두고 보시지! 그럼 대결이닷!\n",
    "\n",
    "    <img src='1620_11.png'>\n",
    "\n",
    "    <img src='1620_12.png'>\n",
    "\n",
    "    <img src='1620_13.png'>\n",
    "\n",
    "    <img src='1620_14.png'>\n",
    "\n",
    "    <img src='1620_15.png'>\n",
    "\n",
    "    <img src='1620_16.png'>\n",
    "\n",
    "    <img src='1620_17.png'>\n",
    "\n",
    "    <img src='1620_18.png'>\n",
    "\n",
    "    이다솜 : 휴... 이겼다.\n",
    "\n",
    "    오영식 : 내가 지다니 분하다. ㅜㅜ\n",
    "\n",
    "    오박사 : 그럼 다솜아 이제 진정한 포켓몬 마스터가 되기 위해 도감을 완성시키도록 하여라. 일단 네가 현재 가지고 있는 포켓몬 도감에서 포켓몬의 이름을 보면 포켓몬의 번호를 말하거나, 포켓몬의 번호를 보면 포켓몬의 이름을 말하는 연습을 하도록 하여라. 나의 시험을 통과하면, 내가 새로 만든 도감을 주도록 하겠네.\n",
    "\n",
    "- 입력  \n",
    "    첫째 줄에는 도감에 수록되어 있는 포켓몬의 개수 N이랑 내가 맞춰야 하는 문제의 개수 M이 주어져. N과 M은 1보다 크거나 같고, 100,000보다 작거나 같은 자연수인데, 자연수가 뭔지는 알지? 모르면 물어봐도 괜찮아. 나는 언제든지 질문에 답해줄 준비가 되어있어.\n",
    "\n",
    "    둘째 줄부터 N개의 줄에 포켓몬의 번호가 1번인 포켓몬부터 N번에 해당하는 포켓몬까지 한 줄에 하나씩 입력으로 들어와. 포켓몬의 이름은 모두 영어로만 이루어져있고, 또, 음... 첫 글자만 대문자이고, 나머지 문자는 소문자로만 이루어져 있어. 아참! 일부 포켓몬은 마지막 문자만 대문자일 수도 있어. 포켓몬 이름의 최대 길이는 20, 최소 길이는 2야. 그 다음 줄부터 총 M개의 줄에 내가 맞춰야하는 문제가 입력으로 들어와. 문제가 알파벳으로만 들어오면 포켓몬 번호를 말해야 하고, 숫자로만 들어오면, 포켓몬 번호에 해당하는 문자를 출력해야해. 입력으로 들어오는 숫자는 반드시 1보다 크거나 같고, N보다 작거나 같고, 입력으로 들어오는 문자는 반드시 도감에 있는 포켓몬의 이름만 주어져. 그럼 화이팅!!!\n",
    "\n",
    "- 출력  \n",
    "    첫째 줄부터 차례대로 M개의 줄에 각각의 문제에 대한 답을 말해줬으면 좋겠어!!!. 입력으로 숫자가 들어왔다면 그 숫자에 해당하는 포켓몬의 이름을, 문자가 들어왔으면 그 포켓몬의 이름에 해당하는 번호를 출력하면 돼. 그럼 땡큐~\n",
    "\n",
    "    <img src='1620_19.png'>\n",
    "\n",
    "    이게 오박사님이 나에게 새로 주시려고 하는 도감이야. 너무 가지고 싶다ㅠㅜ. 꼭 만점을 받아줬으면 좋겠어!! 파이팅!!!\n",
    "\n",
    "- 예제 입력  \n",
    "    26 5  \n",
    "    Bulbasaur  \n",
    "    Ivysaur  \n",
    "    Venusaur  \n",
    "    Charmander  \n",
    "    Charmeleon  \n",
    "    Charizard  \n",
    "    Squirtle  \n",
    "    Wartortle  \n",
    "    Blastoise  \n",
    "    Caterpie  \n",
    "    Metapod  \n",
    "    Butterfree  \n",
    "    Weedle  \n",
    "    Kakuna  \n",
    "    Beedrill  \n",
    "    Pidgey  \n",
    "    Pidgeotto  \n",
    "    Pidgeot  \n",
    "    Rattata  \n",
    "    Raticate  \n",
    "    Spearow  \n",
    "    Fearow  \n",
    "    Ekans  \n",
    "    Arbok  \n",
    "    Pikachu  \n",
    "    Raichu  \n",
    "    25  \n",
    "    Raichu  \n",
    "    3  \n",
    "    Pidgey  \n",
    "    Kakuna  \n",
    "- 예제 출력  \n",
    "    Pikachu  \n",
    "    26  \n",
    "    Venusaur  \n",
    "    16  \n",
    "    14  "
   ]
  },
  {
   "cell_type": "markdown",
   "metadata": {},
   "source": [
    "### 풀이1(시간 초과)"
   ]
  },
  {
   "cell_type": "code",
   "execution_count": 2,
   "metadata": {},
   "outputs": [
    {
     "name": "stdout",
     "output_type": "stream",
     "text": [
      "Pikachu\n",
      "26\n",
      "Venusaur\n",
      "16\n",
      "14\n"
     ]
    }
   ],
   "source": [
    "N, M = map(int, input().split())\n",
    "a = [input() for _ in range(N)]\n",
    "for _ in range(M):\n",
    "    temp = input()\n",
    "    try:\n",
    "        print(a[int(temp) - 1])\n",
    "    except:\n",
    "        print(a.index(temp) + 1)"
   ]
  },
  {
   "cell_type": "markdown",
   "metadata": {},
   "source": [
    "### 풀이2(시간 초과)"
   ]
  },
  {
   "cell_type": "code",
   "execution_count": null,
   "metadata": {},
   "outputs": [],
   "source": [
    "import sys\n",
    "N, M = map(int, input().split())\n",
    "a = [sys.stdin.readline().rstrip() for _ in range(N)]\n",
    "for _ in range(M):\n",
    "    temp = sys.stdin.readline().rstrip()\n",
    "    try:\n",
    "        print(a[int(temp) - 1])\n",
    "    except:\n",
    "        print(a.index(temp) + 1)"
   ]
  },
  {
   "cell_type": "code",
   "execution_count": 4,
   "metadata": {},
   "outputs": [
    {
     "data": {
      "text/plain": [
       "'a'"
      ]
     },
     "execution_count": 4,
     "metadata": {},
     "output_type": "execute_result"
    }
   ],
   "source": [
    "temp = {1:'a', 2:'b', 3:'c'}\n",
    "temp[1]"
   ]
  },
  {
   "cell_type": "code",
   "execution_count": 5,
   "metadata": {},
   "outputs": [
    {
     "data": {
      "text/plain": [
       "{'a': 1, 'b': 2, 'c': 3}"
      ]
     },
     "execution_count": 5,
     "metadata": {},
     "output_type": "execute_result"
    }
   ],
   "source": [
    "temp2 = {b:a for a, b in temp.items()}\n",
    "temp2"
   ]
  },
  {
   "cell_type": "markdown",
   "metadata": {},
   "source": [
    "### 풀이3(시간 초과)"
   ]
  },
  {
   "cell_type": "code",
   "execution_count": 6,
   "metadata": {},
   "outputs": [
    {
     "name": "stdout",
     "output_type": "stream",
     "text": [
      "Pikachu\n",
      "26\n",
      "Venusaur\n",
      "16\n",
      "14\n"
     ]
    }
   ],
   "source": [
    "N, M = map(int, input().split())\n",
    "a = {i+1:input() for i in range(N)}\n",
    "b = {j:i for i, j in a.items()}\n",
    "for _ in range(M):\n",
    "    temp = input()\n",
    "    try:\n",
    "        print(a[int(temp)])\n",
    "    except:\n",
    "        print(b[temp])"
   ]
  },
  {
   "cell_type": "code",
   "execution_count": 7,
   "metadata": {},
   "outputs": [
    {
     "data": {
      "text/plain": [
       "{1: 'Bulbasaur',\n",
       " 2: 'Ivysaur',\n",
       " 3: 'Venusaur',\n",
       " 4: 'Charmander',\n",
       " 5: 'Charmeleon',\n",
       " 6: 'Charizard',\n",
       " 7: 'Squirtle',\n",
       " 8: 'Wartortle',\n",
       " 9: 'Blastoise',\n",
       " 10: 'Caterpie',\n",
       " 11: 'Metapod',\n",
       " 12: 'Butterfree',\n",
       " 13: 'Weedle',\n",
       " 14: 'Kakuna',\n",
       " 15: 'Beedrill',\n",
       " 16: 'Pidgey',\n",
       " 17: 'Pidgeotto',\n",
       " 18: 'Pidgeot',\n",
       " 19: 'Rattata',\n",
       " 20: 'Raticate',\n",
       " 21: 'Spearow',\n",
       " 22: 'Fearow',\n",
       " 23: 'Ekans',\n",
       " 24: 'Arbok',\n",
       " 25: 'Pikachu',\n",
       " 26: 'Raichu'}"
      ]
     },
     "execution_count": 7,
     "metadata": {},
     "output_type": "execute_result"
    }
   ],
   "source": [
    "a"
   ]
  },
  {
   "cell_type": "code",
   "execution_count": 8,
   "metadata": {},
   "outputs": [
    {
     "data": {
      "text/plain": [
       "{'Bulbasaur': 1,\n",
       " 'Ivysaur': 2,\n",
       " 'Venusaur': 3,\n",
       " 'Charmander': 4,\n",
       " 'Charmeleon': 5,\n",
       " 'Charizard': 6,\n",
       " 'Squirtle': 7,\n",
       " 'Wartortle': 8,\n",
       " 'Blastoise': 9,\n",
       " 'Caterpie': 10,\n",
       " 'Metapod': 11,\n",
       " 'Butterfree': 12,\n",
       " 'Weedle': 13,\n",
       " 'Kakuna': 14,\n",
       " 'Beedrill': 15,\n",
       " 'Pidgey': 16,\n",
       " 'Pidgeotto': 17,\n",
       " 'Pidgeot': 18,\n",
       " 'Rattata': 19,\n",
       " 'Raticate': 20,\n",
       " 'Spearow': 21,\n",
       " 'Fearow': 22,\n",
       " 'Ekans': 23,\n",
       " 'Arbok': 24,\n",
       " 'Pikachu': 25,\n",
       " 'Raichu': 26}"
      ]
     },
     "execution_count": 8,
     "metadata": {},
     "output_type": "execute_result"
    }
   ],
   "source": [
    "b"
   ]
  },
  {
   "cell_type": "markdown",
   "metadata": {},
   "source": [
    "### 풀이4(55740KB, 316ms, 287B)"
   ]
  },
  {
   "cell_type": "code",
   "execution_count": null,
   "metadata": {},
   "outputs": [],
   "source": [
    "import sys\n",
    "N, M = map(int, sys.stdin.readline().rstrip().split())\n",
    "a = {i+1:sys.stdin.readline().rstrip() for i in range(N)}\n",
    "b = {j:i for i, j in a.items()}\n",
    "for _ in range(M):\n",
    "    temp = sys.stdin.readline().rstrip()\n",
    "    try:\n",
    "        print(a[int(temp)])\n",
    "    except:\n",
    "        print(b[temp])"
   ]
  },
  {
   "cell_type": "markdown",
   "metadata": {},
   "source": [
    "## 10816번 - 숫자 카드 2\n",
    "\n",
    "- 문제  \n",
    "    숫자 카드는 정수 하나가 적혀져 있는 카드이다. 상근이는 숫자 카드 N개를 가지고 있다. 정수 M개가 주어졌을 때, 이 수가 적혀있는 숫자 카드를 상근이가 몇 개 가지고 있는지 구하는 프로그램을 작성하시오.\n",
    "\n",
    "- 입력  \n",
    "    첫째 줄에 상근이가 가지고 있는 숫자 카드의 개수 N(1 ≤ N ≤ 500,000)이 주어진다. 둘째 줄에는 숫자 카드에 적혀있는 정수가 주어진다. 숫자 카드에 적혀있는 수는 -10,000,000보다 크거나 같고, 10,000,000보다 작거나 같다.\n",
    "\n",
    "    셋째 줄에는 M(1 ≤ M ≤ 500,000)이 주어진다. 넷째 줄에는 상근이가 몇 개 가지고 있는 숫자 카드인지 구해야 할 M개의 정수가 주어지며, 이 수는 공백으로 구분되어져 있다. 이 수도 -10,000,000보다 크거나 같고, 10,000,000보다 작거나 같다.\n",
    "\n",
    "- 출력  \n",
    "    첫째 줄에 입력으로 주어진 M개의 수에 대해서, 각 수가 적힌 숫자 카드를 상근이가 몇 개 가지고 있는지를 공백으로 구분해 출력한다.\n",
    "\n",
    "- 예제 입력  \n",
    "    10  \n",
    "    6 3 2 10 10 10 -10 -10 7 3  \n",
    "    8  \n",
    "    10 9 -5 2 3 4 5 -10  \n",
    "- 예제 출력  \n",
    "    3 0 0 1 2 0 0 2  "
   ]
  },
  {
   "cell_type": "markdown",
   "metadata": {},
   "source": [
    "### 풀이1(시간 초과)"
   ]
  },
  {
   "cell_type": "code",
   "execution_count": 9,
   "metadata": {},
   "outputs": [
    {
     "name": "stdout",
     "output_type": "stream",
     "text": [
      "3 0 0 1 2 0 0 2\n"
     ]
    }
   ],
   "source": [
    "N = input()\n",
    "a = list(map(int, input().split()))\n",
    "M = input()\n",
    "print(*[a.count(x) for x in list(map(int, input().split()))])"
   ]
  },
  {
   "cell_type": "markdown",
   "metadata": {},
   "source": [
    "### 풀이2(시간 초과)"
   ]
  },
  {
   "cell_type": "code",
   "execution_count": null,
   "metadata": {},
   "outputs": [],
   "source": [
    "import sys\n",
    "N = sys.stdin.readline().rstrip()\n",
    "a = list(map(int, sys.stdin.readline().rstrip().split()))\n",
    "M = sys.stdin.readline().rstrip()\n",
    "print(*[a.count(x) for x in list(map(int, sys.stdin.readline().rstrip().split()))])"
   ]
  },
  {
   "cell_type": "markdown",
   "metadata": {},
   "source": [
    "### 풀이3(268504KB, 988ms, 311B)"
   ]
  },
  {
   "cell_type": "code",
   "execution_count": 11,
   "metadata": {},
   "outputs": [
    {
     "name": "stdout",
     "output_type": "stream",
     "text": [
      "3 0 0 1 2 0 0 0 "
     ]
    }
   ],
   "source": [
    "ap = [0]*(10**7 + 1)\n",
    "am = [0]*(10**7 + 1)\n",
    "N = input()\n",
    "a = list(map(int, input().split()))\n",
    "for i in a:\n",
    "    if i >= 0:\n",
    "        ap[i] += 1\n",
    "    else:\n",
    "        am[-i] += 1\n",
    "M = input()\n",
    "b = list(map(int, input().split()))\n",
    "for j in b:\n",
    "    if j >= 0:\n",
    "        print(ap[j], end=' ')\n",
    "    else:\n",
    "        print(am[-j], end=' ')"
   ]
  },
  {
   "cell_type": "code",
   "execution_count": 16,
   "metadata": {},
   "outputs": [
    {
     "data": {
      "text/plain": [
       "[1, 2, 5, 4]"
      ]
     },
     "execution_count": 16,
     "metadata": {},
     "output_type": "execute_result"
    }
   ],
   "source": [
    "temp = [-1, 2, -5, 4]\n",
    "temp2 = list(map(abs, temp))\n",
    "temp2"
   ]
  },
  {
   "cell_type": "code",
   "execution_count": 19,
   "metadata": {},
   "outputs": [
    {
     "data": {
      "text/plain": [
       "5"
      ]
     },
     "execution_count": 19,
     "metadata": {},
     "output_type": "execute_result"
    }
   ],
   "source": [
    "max(temp2)"
   ]
  },
  {
   "cell_type": "markdown",
   "metadata": {},
   "source": [
    "### 풀이4(index error)"
   ]
  },
  {
   "cell_type": "code",
   "execution_count": 18,
   "metadata": {},
   "outputs": [
    {
     "name": "stdout",
     "output_type": "stream",
     "text": [
      "3 0 0 1 2 0 0 2 "
     ]
    }
   ],
   "source": [
    "N = input()\n",
    "a = list(map(int, input().split()))\n",
    "m = max(list(map(abs, a)))\n",
    "ap = [0]*(m + 1)\n",
    "am = [0]*(m + 1)\n",
    "for i in a:\n",
    "    if i >= 0:\n",
    "        ap[i] += 1\n",
    "    else:\n",
    "        am[-i] += 1\n",
    "M = input()\n",
    "b = list(map(int, input().split()))\n",
    "for j in b:\n",
    "    if j >= 0:\n",
    "        print(ap[j], end=' ')\n",
    "    else:\n",
    "        print(am[-j], end=' ')"
   ]
  },
  {
   "cell_type": "markdown",
   "metadata": {},
   "source": [
    "### 참고(제출 번호 : 26983860, 아이디 : faang12594)"
   ]
  },
  {
   "cell_type": "code",
   "execution_count": null,
   "metadata": {},
   "outputs": [],
   "source": [
    "import collections as C\n",
    "I=input\n",
    "I()\n",
    "s=C.Counter(I().split())\n",
    "I()\n",
    "print(*[s[t]for t in I().split()])"
   ]
  },
  {
   "cell_type": "markdown",
   "metadata": {},
   "source": [
    "### 풀이5(130052KB, 640ms, 118B)"
   ]
  },
  {
   "cell_type": "code",
   "execution_count": 21,
   "metadata": {},
   "outputs": [
    {
     "name": "stdout",
     "output_type": "stream",
     "text": [
      "3 0 0 1 2 0 0 2\n"
     ]
    }
   ],
   "source": [
    "import collections as C\n",
    "N = input()\n",
    "a = C.Counter(input().split())\n",
    "M = input()\n",
    "print(*[a[x] for x in input().split()])"
   ]
  },
  {
   "cell_type": "code",
   "execution_count": 22,
   "metadata": {},
   "outputs": [
    {
     "data": {
      "text/plain": [
       "Counter({'6': 1, '3': 2, '2': 1, '10': 3, '-10': 2, '7': 1})"
      ]
     },
     "execution_count": 22,
     "metadata": {},
     "output_type": "execute_result"
    }
   ],
   "source": [
    "a"
   ]
  },
  {
   "cell_type": "code",
   "execution_count": 23,
   "metadata": {},
   "outputs": [
    {
     "name": "stdout",
     "output_type": "stream",
     "text": [
      "3 0 0 1 2 0 0 2\n"
     ]
    }
   ],
   "source": [
    "import collections as C\n",
    "N = input()\n",
    "a = C.Counter(input().split())\n",
    "M = input()\n",
    "b = [a[x] for x in input().split()]\n",
    "print(*b)"
   ]
  },
  {
   "cell_type": "code",
   "execution_count": 24,
   "metadata": {},
   "outputs": [
    {
     "data": {
      "text/plain": [
       "[3, 0, 0, 1, 2, 0, 0, 2]"
      ]
     },
     "execution_count": 24,
     "metadata": {},
     "output_type": "execute_result"
    }
   ],
   "source": [
    "b"
   ]
  },
  {
   "cell_type": "code",
   "execution_count": 25,
   "metadata": {},
   "outputs": [
    {
     "data": {
      "text/plain": [
       "0"
      ]
     },
     "execution_count": 25,
     "metadata": {},
     "output_type": "execute_result"
    }
   ],
   "source": [
    "a[9]"
   ]
  },
  {
   "cell_type": "markdown",
   "metadata": {},
   "source": [
    "## 1764번 - 듣보잡\n",
    "\n",
    "- 문제  \n",
    "    김진영이 듣도 못한 사람의 명단과, 보도 못한 사람의 명단이 주어질 때, 듣도 보도 못한 사람의 명단을 구하는 프로그램을 작성하시오.\n",
    "\n",
    "- 입력  \n",
    "    첫째 줄에 듣도 못한 사람의 수 N, 보도 못한 사람의 수 M이 주어진다. 이어서 둘째 줄부터 N개의 줄에 걸쳐 듣도 못한 사람의 이름과, N+2째 줄부터 보도 못한 사람의 이름이 순서대로 주어진다. 이름은 띄어쓰기 없이 알파벳 소문자로만 이루어지며, 그 길이는 20 이하이다. N, M은 500,000 이하의 자연수이다.\n",
    "\n",
    "    듣도 못한 사람의 명단에는 중복되는 이름이 없으며, 보도 못한 사람의 명단도 마찬가지이다.\n",
    "\n",
    "- 출력  \n",
    "    듣보잡의 수와 그 명단을 사전순으로 출력한다.\n",
    "\n",
    "- 예제 입력  \n",
    "    3 4  \n",
    "    ohhenrie  \n",
    "    charlie  \n",
    "    baesangwook  \n",
    "    obama  \n",
    "    baesangwook  \n",
    "    ohhenrie  \n",
    "    clinton  \n",
    "- 예제 출력  \n",
    "    2  \n",
    "    baesangwook  \n",
    "    ohhenrie  "
   ]
  },
  {
   "cell_type": "markdown",
   "metadata": {},
   "source": [
    "### 풀이1(42620KB, 3716ms, 161B)"
   ]
  },
  {
   "cell_type": "code",
   "execution_count": 3,
   "metadata": {},
   "outputs": [
    {
     "name": "stdout",
     "output_type": "stream",
     "text": [
      "2\n",
      "baesangwook\n",
      "ohhenrie\n"
     ]
    }
   ],
   "source": [
    "N, M = map(int, input().split())\n",
    "a = set([input() for _ in range(N)])\n",
    "b = set([input() for _ in range(M)])\n",
    "c = sorted(a&b)\n",
    "print(len(c))\n",
    "for i in c:\n",
    "    print(i)"
   ]
  },
  {
   "cell_type": "markdown",
   "metadata": {},
   "source": [
    "### 풀이2(42620KB, 116ms, 238B)"
   ]
  },
  {
   "cell_type": "code",
   "execution_count": null,
   "metadata": {},
   "outputs": [],
   "source": [
    "import sys\n",
    "N, M = map(int, sys.stdin.readline().rstrip().split())\n",
    "a = set([sys.stdin.readline().rstrip() for _ in range(N)])\n",
    "b = set([sys.stdin.readline().rstrip() for _ in range(M)])\n",
    "c = sorted(a&b)\n",
    "print(len(c))\n",
    "for i in c:\n",
    "    print(i)"
   ]
  },
  {
   "cell_type": "markdown",
   "metadata": {},
   "source": [
    "## 1269번 - 대칭 차집합\n",
    "\n",
    "- 문제  \n",
    "    자연수를 원소로 갖는 공집합이 아닌 두 집합 A와 B가 있다. 이때, 두 집합의 대칭 차집합의 원소의 개수를 출력하는 프로그램을 작성하시오. 두 집합 A와 B가 있을 때, (A-B)와 (B-A)의 합집합을 A와 B의 대칭 차집합이라고 한다.\n",
    "\n",
    "    예를 들어, A = { 1, 2, 4 } 이고, B = { 2, 3, 4, 5, 6 } 라고 할 때,  A-B = { 1 } 이고, B-A = { 3, 5, 6 } 이므로, 대칭 차집합의 원소의 개수는 1 + 3 = 4개이다.\n",
    "\n",
    "- 입력  \n",
    "    첫째 줄에 집합 A의 원소의 개수와 집합 B의 원소의 개수가 빈 칸을 사이에 두고 주어진다. 둘째 줄에는 집합 A의 모든 원소가, 셋째 줄에는 집합 B의 모든 원소가 빈 칸을 사이에 두고 각각 주어진다. 각 집합의 원소의 개수는 200,000을 넘지 않으며, 모든 원소의 값은 100,000,000을 넘지 않는다.\n",
    "\n",
    "- 출력  \n",
    "    첫째 줄에 대칭 차집합의 원소의 개수를 출력한다.\n",
    "\n",
    "- 예제 입력  \n",
    "    3 5  \n",
    "    1 2 4  \n",
    "    2 3 4 5 6  \n",
    "- 예제 출력  \n",
    "    4  "
   ]
  },
  {
   "cell_type": "markdown",
   "metadata": {},
   "source": [
    "### 풀이(104120KB, 276ms, 114B)"
   ]
  },
  {
   "cell_type": "code",
   "execution_count": 1,
   "metadata": {},
   "outputs": [
    {
     "name": "stdout",
     "output_type": "stream",
     "text": [
      "4\n"
     ]
    }
   ],
   "source": [
    "A, B = map(int, input().split())\n",
    "a = {x for x in input().split()}\n",
    "b = {x for x in input().split()}\n",
    "print(len(a^b))"
   ]
  },
  {
   "cell_type": "markdown",
   "metadata": {},
   "source": [
    "## 11478번 - 서로 다른 부분 문자열의 개수\n",
    "\n",
    "- 문제  \n",
    "    문자열 S가 주어졌을 때, S의 서로 다른 부분 문자열의 개수를 구하는 프로그램을 작성하시오.\n",
    "\n",
    "    부분 문자열은 S에서 연속된 일부분을 말하며, 길이가 1보다 크거나 같아야 한다.\n",
    "\n",
    "    예를 들어, ababc의 부분 문자열은 a, b, a, b, c, ab, ba, ab, bc, aba, bab, abc, abab, babc, ababc가 있고, 서로 다른것의 개수는 12개이다.\n",
    "\n",
    "- 입력  \n",
    "    첫째 줄에 문자열 S가 주어진다. S는 알파벳 소문자로만 이루어져 있고, 길이는 1,000 이하이다.\n",
    "\n",
    "- 출력  \n",
    "    첫째 줄에 S의 서로 다른 부분 문자열의 개수를 출력한다.\n",
    "\n",
    "- 예제 입력  \n",
    "    ababc  \n",
    "- 예제 출력  \n",
    "    12"
   ]
  },
  {
   "cell_type": "code",
   "execution_count": 4,
   "metadata": {},
   "outputs": [
    {
     "data": {
      "text/plain": [
       "['a', 'b', 'a', 'b', 'c']"
      ]
     },
     "execution_count": 4,
     "metadata": {},
     "output_type": "execute_result"
    }
   ],
   "source": [
    "S = 'ababc'\n",
    "num = len(S)\n",
    "list(map(str, S))"
   ]
  },
  {
   "cell_type": "code",
   "execution_count": 12,
   "metadata": {},
   "outputs": [
    {
     "data": {
      "text/plain": [
       "'a.b.a.b.c'"
      ]
     },
     "execution_count": 12,
     "metadata": {},
     "output_type": "execute_result"
    }
   ],
   "source": [
    "b = '.'.join(S)\n",
    "b"
   ]
  },
  {
   "cell_type": "code",
   "execution_count": 13,
   "metadata": {},
   "outputs": [
    {
     "data": {
      "text/plain": [
       "['a', 'b', 'a.b.c']"
      ]
     },
     "execution_count": 13,
     "metadata": {},
     "output_type": "execute_result"
    }
   ],
   "source": [
    "b.split('.', 2)"
   ]
  },
  {
   "cell_type": "code",
   "execution_count": 15,
   "metadata": {},
   "outputs": [
    {
     "name": "stdout",
     "output_type": "stream",
     "text": [
      "['a', 'b', 'a', 'b', 'c']\n",
      "[]\n",
      "['b']\n"
     ]
    }
   ],
   "source": [
    "c = list(map(str, S))\n",
    "print(c)\n",
    "print(c[1:1])\n",
    "print(c[1:2])"
   ]
  },
  {
   "cell_type": "code",
   "execution_count": 17,
   "metadata": {},
   "outputs": [
    {
     "name": "stdout",
     "output_type": "stream",
     "text": [
      "{'a', 'ba', 'c', 'b', 'bc', 'abc', 'babc', 'bab', 'ab', 'aba', 'abab', 'ababc'}\n",
      "12\n"
     ]
    }
   ],
   "source": [
    "temp = set()\n",
    "for i in range(len(S)):\n",
    "    for one in range(len(S) - i):\n",
    "        temp.add(S[one:one + i + 1])\n",
    "print(temp)\n",
    "print(len(temp))"
   ]
  },
  {
   "cell_type": "code",
   "execution_count": 18,
   "metadata": {},
   "outputs": [
    {
     "name": "stdout",
     "output_type": "stream",
     "text": [
      "['a', 'b', 'a', 'b', 'c', 'ab', 'ba', 'ab', 'bc', 'aba', 'bab', 'abc', 'abab', 'babc', 'ababc']\n",
      "15\n"
     ]
    }
   ],
   "source": [
    "temp = []\n",
    "for i in range(len(S)):\n",
    "    for one in range(len(S) - i):\n",
    "        temp.append(S[one:one + i + 1])\n",
    "print(temp)\n",
    "print(len(temp))"
   ]
  },
  {
   "cell_type": "markdown",
   "metadata": {},
   "source": [
    "### 풀이(240036KB, 600ms, 136B)"
   ]
  },
  {
   "cell_type": "code",
   "execution_count": 19,
   "metadata": {},
   "outputs": [
    {
     "name": "stdout",
     "output_type": "stream",
     "text": [
      "12\n"
     ]
    }
   ],
   "source": [
    "S = input()\n",
    "temp = set()\n",
    "for i in range(len(S)):\n",
    "    for one in range(len(S) - i):\n",
    "        temp.add(S[one:one + i + 1])\n",
    "print(len(temp))"
   ]
  },
  {
   "cell_type": "code",
   "execution_count": 20,
   "metadata": {},
   "outputs": [
    {
     "name": "stdout",
     "output_type": "stream",
     "text": [
      "12\n"
     ]
    }
   ],
   "source": [
    "S = input()\n",
    "temp = set()\n",
    "for i in range(len(S)):\n",
    "    for j in range(len(S)):\n",
    "        temp.add(S[j:j + i])\n",
    "print(len(temp))"
   ]
  },
  {
   "cell_type": "code",
   "execution_count": 24,
   "metadata": {},
   "outputs": [
    {
     "name": "stdout",
     "output_type": "stream",
     "text": [
      "c\n",
      "c\n"
     ]
    }
   ],
   "source": [
    "S = 'ababc'\n",
    "print(S[4:5])\n",
    "print(S[4:6])"
   ]
  },
  {
   "cell_type": "markdown",
   "metadata": {},
   "source": [
    "# 코드 마지막"
   ]
  }
 ],
 "metadata": {
  "interpreter": {
   "hash": "569b4317022eb29baeafb3d0f1f739310808ea28ce83ca127a35db1c01070585"
  },
  "kernelspec": {
   "display_name": "Python 3.9.12 ('base')",
   "language": "python",
   "name": "python3"
  },
  "language_info": {
   "codemirror_mode": {
    "name": "ipython",
    "version": 3
   },
   "file_extension": ".py",
   "mimetype": "text/x-python",
   "name": "python",
   "nbconvert_exporter": "python",
   "pygments_lexer": "ipython3",
   "version": "3.9.12"
  },
  "orig_nbformat": 4
 },
 "nbformat": 4,
 "nbformat_minor": 2
}
