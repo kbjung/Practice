{
 "cells": [
  {
   "cell_type": "markdown",
   "metadata": {},
   "source": [
    "# 집합과 맵"
   ]
  },
  {
   "cell_type": "markdown",
   "metadata": {},
   "source": [
    "## 10815번 - 숫자 카드\n",
    "\n",
    "- 문제  \n",
    "    숫자 카드는 정수 하나가 적혀져 있는 카드이다. 상근이는 숫자 카드 N개를 가지고 있다. 정수 M개가 주어졌을 때, 이 수가 적혀있는 숫자 카드를 상근이가 가지고 있는지 아닌지를 구하는 프로그램을 작성하시오.\n",
    "\n",
    "- 입력  \n",
    "    첫째 줄에 상근이가 가지고 있는 숫자 카드의 개수 N(1 ≤ N ≤ 500,000)이 주어진다. 둘째 줄에는 숫자 카드에 적혀있는 정수가 주어진다. 숫자 카드에 적혀있는 수는 -10,000,000보다 크거나 같고, 10,000,000보다 작거나 같다. 두 숫자 카드에 같은 수가 적혀있는 경우는 없다.\n",
    "\n",
    "    셋째 줄에는 M(1 ≤ M ≤ 500,000)이 주어진다. 넷째 줄에는 상근이가 가지고 있는 숫자 카드인지 아닌지를 구해야 할 M개의 정수가 주어지며, 이 수는 공백으로 구분되어져 있다. 이 수도 -10,000,000보다 크거나 같고, 10,000,000보다 작거나 같다\n",
    "\n",
    "- 출력  \n",
    "    첫째 줄에 입력으로 주어진 M개의 수에 대해서, 각 수가 적힌 숫자 카드를 상근이가 가지고 있으면 1을, 아니면 0을 공백으로 구분해 출력한다.\n",
    "\n",
    "- 예제 입력  \n",
    "    5  \n",
    "    6 3 2 10 -10  \n",
    "    8  \n",
    "    10 9 -5 2 3 4 5 -10  \n",
    "- 예제 출력  \n",
    "    1 0 0 1 1 0 0 1"
   ]
  },
  {
   "cell_type": "markdown",
   "metadata": {},
   "source": [
    "### 풀이1(시간 초과)"
   ]
  },
  {
   "cell_type": "code",
   "execution_count": 1,
   "metadata": {},
   "outputs": [
    {
     "name": "stdout",
     "output_type": "stream",
     "text": [
      "1 0 0 1 1 0 0 1 "
     ]
    }
   ],
   "source": [
    "N = int(input())\n",
    "h = list(map(int, input().split()))\n",
    "M = int(input())\n",
    "nums = list(map(int, input().split()))\n",
    "for a in nums:\n",
    "    if a in h:\n",
    "        print(1, end=' ')\n",
    "    else:\n",
    "        print(0, end=' ')"
   ]
  },
  {
   "cell_type": "markdown",
   "metadata": {},
   "source": [
    "### 풀이2(시간 초과)"
   ]
  },
  {
   "cell_type": "code",
   "execution_count": null,
   "metadata": {},
   "outputs": [],
   "source": [
    "import sys\n",
    "N = int(sys.stdin.readline().rstrip())\n",
    "h = list(map(int, sys.stdin.readline().rstrip().split()))\n",
    "M = int(sys.stdin.readline().rstrip())\n",
    "nums = list(map(int, sys.stdin.readline().rstrip().split()))\n",
    "for a in nums:\n",
    "    if a in h:\n",
    "        print(1, end=' ')\n",
    "    else:\n",
    "        print(0, end=' ')"
   ]
  },
  {
   "cell_type": "code",
   "execution_count": 2,
   "metadata": {},
   "outputs": [
    {
     "data": {
      "text/plain": [
       "True"
      ]
     },
     "execution_count": 2,
     "metadata": {},
     "output_type": "execute_result"
    }
   ],
   "source": [
    "1 in tuple((1, 2, 3, 4))"
   ]
  },
  {
   "cell_type": "markdown",
   "metadata": {},
   "source": [
    "### 풀이3(시간 초과)"
   ]
  },
  {
   "cell_type": "code",
   "execution_count": 3,
   "metadata": {},
   "outputs": [
    {
     "name": "stdout",
     "output_type": "stream",
     "text": [
      "1 0 0 1 1 0 0 1 "
     ]
    }
   ],
   "source": [
    "N = int(input())\n",
    "h = tuple(map(int, input().split()))\n",
    "M = int(input())\n",
    "nums = list(map(int, input().split()))\n",
    "for a in nums:\n",
    "    if a in h:\n",
    "        print(1, end=' ')\n",
    "    else:\n",
    "        print(0, end=' ')"
   ]
  },
  {
   "cell_type": "markdown",
   "metadata": {},
   "source": [
    "### 풀이3(238992KB, 940ms, 365B)"
   ]
  },
  {
   "cell_type": "code",
   "execution_count": 4,
   "metadata": {},
   "outputs": [
    {
     "name": "stdout",
     "output_type": "stream",
     "text": [
      "1 0 0 1 1 0 0 1 "
     ]
    }
   ],
   "source": [
    "N = int(input())\n",
    "h = list(map(int, input().split()))\n",
    "M = int(input())\n",
    "nums = list(map(int, input().split()))\n",
    "hp_array = [0]*(10**7+1)\n",
    "hm_array = [0]*(10**7+1)\n",
    "for one in h:\n",
    "    if one >= 0:\n",
    "        hp_array[one] = 1\n",
    "    else:\n",
    "        hm_array[-one] = 1\n",
    "for a in nums:\n",
    "    if a >= 0:\n",
    "        print(hp_array[a], end=' ')\n",
    "    else:\n",
    "        print(hm_array[-a], end=' ')"
   ]
  },
  {
   "cell_type": "markdown",
   "metadata": {},
   "source": [
    "### 참고(제출 번호 : 49365453, 아이디 : escv12)"
   ]
  },
  {
   "cell_type": "code",
   "execution_count": 5,
   "metadata": {},
   "outputs": [
    {
     "name": "stdout",
     "output_type": "stream",
     "text": [
      "1 0 0 1 1 0 0 1\n"
     ]
    }
   ],
   "source": [
    "x=input\n",
    "x()\n",
    "a=set(x().split())\n",
    "x()\n",
    "print(*[(i in a)*1 for i in x().split()])"
   ]
  },
  {
   "cell_type": "markdown",
   "metadata": {},
   "source": [
    "### 풀이4(120908KB, 544ms, 104B)"
   ]
  },
  {
   "cell_type": "code",
   "execution_count": null,
   "metadata": {},
   "outputs": [],
   "source": [
    "N = int(input())\n",
    "h = set(input().split())\n",
    "M = int(input())\n",
    "print(*[(i in h)*1 for i in input().split()])"
   ]
  },
  {
   "cell_type": "markdown",
   "metadata": {},
   "source": [
    "## 14425번 - 문자열 집합\n",
    "\n",
    "- 문제  \n",
    "    총 N개의 문자열로 이루어진 집합 S가 주어진다.\n",
    "\n",
    "    입력으로 주어지는 M개의 문자열 중에서 집합 S에 포함되어 있는 것이 총 몇 개인지 구하는 프로그램을 작성하시오.\n",
    "\n",
    "- 입력  \n",
    "    첫째 줄에 문자열의 개수 N과 M (1 ≤ N ≤ 10,000, 1 ≤ M ≤ 10,000)이 주어진다. \n",
    "\n",
    "    다음 N개의 줄에는 집합 S에 포함되어 있는 문자열들이 주어진다.\n",
    "\n",
    "    다음 M개의 줄에는 검사해야 하는 문자열들이 주어진다.\n",
    "\n",
    "    입력으로 주어지는 문자열은 알파벳 소문자로만 이루어져 있으며, 길이는 500을 넘지 않는다. 집합 S에 같은 문자열이 여러 번 주어지는 경우는 없다.\n",
    "\n",
    "- 출력  \n",
    "    첫째 줄에 M개의 문자열 중에 총 몇 개가 집합 S에 포함되어 있는지 출력한다.\n",
    "\n",
    "- 예제 입력  \n",
    "    5 11  \n",
    "    baekjoononlinejudge  \n",
    "    startlink  \n",
    "    codeplus  \n",
    "    sundaycoding  \n",
    "    codingsh  \n",
    "    baekjoon  \n",
    "    codeplus  \n",
    "    codeminus  \n",
    "    startlink  \n",
    "    starlink  \n",
    "    sundaycoding  \n",
    "    codingsh  \n",
    "    codinghs  \n",
    "    sondaycoding  \n",
    "    startrink  \n",
    "    icerink  \n",
    "- 예제 출력  \n",
    "    4"
   ]
  },
  {
   "cell_type": "markdown",
   "metadata": {},
   "source": [
    "### 풀이1(36004KB, 148ms, 242B)"
   ]
  },
  {
   "cell_type": "code",
   "execution_count": null,
   "metadata": {},
   "outputs": [],
   "source": [
    "import sys\n",
    "N, M = map(int, sys.stdin.readline().rstrip().split())\n",
    "S = set()\n",
    "result = 0\n",
    "for i in range(N):\n",
    "    S.add(sys.stdin.readline().rstrip())\n",
    "for j in range(M):\n",
    "    if sys.stdin.readline().rstrip() in S:\n",
    "        result += 1\n",
    "print(result)"
   ]
  },
  {
   "cell_type": "markdown",
   "metadata": {},
   "source": [
    "### 풀이2(36012KB, 900ms, 165B)"
   ]
  },
  {
   "cell_type": "code",
   "execution_count": 6,
   "metadata": {},
   "outputs": [
    {
     "name": "stdout",
     "output_type": "stream",
     "text": [
      "4\n"
     ]
    }
   ],
   "source": [
    "N, M = map(int, input().split())\n",
    "S = set()\n",
    "result = 0\n",
    "for i in range(N):\n",
    "    S.add(input())\n",
    "for j in range(M):\n",
    "    if input() in S:\n",
    "        result += 1\n",
    "print(result)"
   ]
  },
  {
   "cell_type": "markdown",
   "metadata": {},
   "source": [
    "## 1620번 - 나는야 포켓몬 마스터 이다솜"
   ]
  },
  {
   "cell_type": "markdown",
   "metadata": {},
   "source": [
    "## 10816번 - 숫자 카드 2"
   ]
  },
  {
   "cell_type": "markdown",
   "metadata": {},
   "source": [
    "## 1764번 - 듣보잡"
   ]
  },
  {
   "cell_type": "markdown",
   "metadata": {},
   "source": [
    "## 1269번 - 대칭 차집합"
   ]
  },
  {
   "cell_type": "markdown",
   "metadata": {},
   "source": [
    "## 11478번 - 서로 다른 부분 문자열의 개수"
   ]
  },
  {
   "cell_type": "markdown",
   "metadata": {},
   "source": [
    "# 코드 마지막"
   ]
  }
 ],
 "metadata": {
  "interpreter": {
   "hash": "569b4317022eb29baeafb3d0f1f739310808ea28ce83ca127a35db1c01070585"
  },
  "kernelspec": {
   "display_name": "Python 3.9.12 ('base')",
   "language": "python",
   "name": "python3"
  },
  "language_info": {
   "codemirror_mode": {
    "name": "ipython",
    "version": 3
   },
   "file_extension": ".py",
   "mimetype": "text/x-python",
   "name": "python",
   "nbconvert_exporter": "python",
   "pygments_lexer": "ipython3",
   "version": "3.9.12"
  },
  "orig_nbformat": 4
 },
 "nbformat": 4,
 "nbformat_minor": 2
}
