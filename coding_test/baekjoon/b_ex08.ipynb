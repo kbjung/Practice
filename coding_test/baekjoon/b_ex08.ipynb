{
 "cells": [
  {
   "cell_type": "markdown",
   "metadata": {},
   "source": [
    "# 기본 수학2"
   ]
  },
  {
   "cell_type": "markdown",
   "metadata": {},
   "source": [
    "## 1978번 - 소수 찾기\n",
    "\n",
    "- 문제  \n",
    "    주어진 수 N개 중에서 소수가 몇 개인지 찾아서 출력하는 프로그램을 작성하시오.\n",
    "\n",
    "- 입력  \n",
    "    첫 줄에 수의 개수 N이 주어진다. N은 100이하이다. 다음으로 N개의 수가 주어지는데 수는 1,000 이하의 자연수이다.\n",
    "\n",
    "- 출력  \n",
    "    주어진 수들 중 소수의 개수를 출력한다.\n",
    "\n",
    "- 예제 입력  \n",
    "    4   \n",
    "    1 3 5 7\n",
    "- 예제 출력  \n",
    "    3"
   ]
  },
  {
   "cell_type": "code",
   "execution_count": 4,
   "metadata": {},
   "outputs": [
    {
     "name": "stdout",
     "output_type": "stream",
     "text": [
      "[1, 3, 5, 7]\n"
     ]
    }
   ],
   "source": [
    "n = int(input())\n",
    "numbers = list( map(int, input().split() ) )\n",
    "\n",
    "p = []\n",
    "for one in numbers:\n",
    "    f = set()\n",
    "    for i in range(2, one):\n",
    "        if one % i == 0:\n",
    "            f.add(i)\n",
    "    if len(f) == 0:\n",
    "        p.append(one)\n",
    "print(p)"
   ]
  },
  {
   "cell_type": "markdown",
   "metadata": {},
   "source": [
    "### 풀이"
   ]
  },
  {
   "cell_type": "code",
   "execution_count": 1,
   "metadata": {},
   "outputs": [
    {
     "name": "stdout",
     "output_type": "stream",
     "text": [
      "4\n"
     ]
    }
   ],
   "source": [
    "n = int(input())\n",
    "numbers = list( map(int, input().split() ) )\n",
    "p = []\n",
    "for one in numbers:\n",
    "    f = set()\n",
    "    for i in range(2, one):\n",
    "        if one % i == 0:\n",
    "            f.add(i)\n",
    "    if one > 1 and len(f) == 0:\n",
    "        p.append(one)\n",
    "print(len(p))"
   ]
  },
  {
   "cell_type": "markdown",
   "metadata": {},
   "source": [
    "## 2581번 - 소수\n",
    "\n",
    "- 문제  \n",
    "    자연수 M과 N이 주어질 때 M이상 N이하의 자연수 중 소수인 것을 모두 골라 이들 소수의 합과 최솟값을 찾는 프로그램을 작성하시오.\n",
    "\n",
    "    예를 들어 M=60, N=100인 경우 60이상 100이하의 자연수 중 소수는 61, 67, 71, 73, 79, 83, 89, 97 총 8개가 있으므로, 이들 소수의 합은 620이고, 최솟값은 61이 된다.\n",
    "\n",
    "- 입력  \n",
    "    입력의 첫째 줄에 M이, 둘째 줄에 N이 주어진다.\n",
    "\n",
    "    M과 N은 10,000이하의 자연수이며, M은 N보다 작거나 같다.\n",
    "\n",
    "- 출력  \n",
    "    M이상 N이하의 자연수 중 소수인 것을 모두 찾아 첫째 줄에 그 합을, 둘째 줄에 그 중 최솟값을 출력한다. \n",
    "\n",
    "    단, M이상 N이하의 자연수 중 소수가 없을 경우는 첫째 줄에 -1을 출력한다.\n",
    "\n",
    "    예제 입력|예제 출력\n",
    "    -|-\n",
    "    60</br>100|620</br>61\n",
    "    64</br>65|-1\n"
   ]
  },
  {
   "cell_type": "markdown",
   "metadata": {},
   "source": [
    "### 풀이"
   ]
  },
  {
   "cell_type": "code",
   "execution_count": 7,
   "metadata": {},
   "outputs": [
    {
     "name": "stdout",
     "output_type": "stream",
     "text": [
      "620\n",
      "61\n"
     ]
    }
   ],
   "source": [
    "num1 = int(input())\n",
    "num2 = int(input())\n",
    "p = []\n",
    "for one in range(num1, num2 + 1):\n",
    "    f = set()\n",
    "    for i in range(2, one):\n",
    "        if one % i == 0:\n",
    "            f.add(i)\n",
    "    if one > 1 and len(f) == 0:\n",
    "        p.append(one)\n",
    "if len(p) != 0:\n",
    "    print(sum(p))\n",
    "    print(min(p))\n",
    "else:\n",
    "    print(-1)"
   ]
  },
  {
   "cell_type": "markdown",
   "metadata": {},
   "source": [
    "## 11653번 - 소인수분해\n",
    "\n",
    "- 문제  \n",
    "    정수 N이 주어졌을 때, 소인수분해하는 프로그램을 작성하시오.\n",
    "\n",
    "- 입력  \n",
    "    첫째 줄에 정수 N (1 ≤ N ≤ 10,000,000)이 주어진다.\n",
    "\n",
    "- 출력  \n",
    "    N의 소인수분해 결과를 한 줄에 하나씩 오름차순으로 출력한다. N이 1인 경우 아무것도 출력하지 않는다.\n",
    "\n",
    "    예제 입력|예제 출력\n",
    "    -|-\n",
    "    72|2</br>2</br>2</br>3</br>3\n",
    "    3|3\n",
    "    6|2</br>3\n",
    "    2|2\n",
    "    9991|97</br>103"
   ]
  },
  {
   "cell_type": "markdown",
   "metadata": {},
   "source": [
    "### 풀이1"
   ]
  },
  {
   "cell_type": "code",
   "execution_count": 20,
   "metadata": {},
   "outputs": [],
   "source": [
    "num = int(input())\n",
    "result = []\n",
    "i = 2\n",
    "while i <= num:\n",
    "    if num % i == 0:\n",
    "        result.append(i)\n",
    "        num = int(num / i)\n",
    "    else:\n",
    "        i += 1\n",
    "for one in result:\n",
    "    print(one)    "
   ]
  },
  {
   "cell_type": "markdown",
   "metadata": {},
   "source": [
    "### 풀이2"
   ]
  },
  {
   "cell_type": "code",
   "execution_count": 22,
   "metadata": {},
   "outputs": [
    {
     "name": "stdout",
     "output_type": "stream",
     "text": [
      "2\n",
      "2\n",
      "2\n",
      "3\n",
      "3\n"
     ]
    }
   ],
   "source": [
    "num = int(input())\n",
    "i = 2\n",
    "while i <= num:\n",
    "    if num % i == 0:\n",
    "        num = int(num / i)\n",
    "        print(i)\n",
    "    else:\n",
    "        i += 1"
   ]
  },
  {
   "cell_type": "markdown",
   "metadata": {},
   "source": [
    "## 1929번 - 소수 구하기\n",
    "\n",
    "- 문제  \n",
    "    M이상 N이하의 소수를 모두 출력하는 프로그램을 작성하시오.\n",
    "\n",
    "- 입력  \n",
    "    첫째 줄에 자연수 M과 N이 빈 칸을 사이에 두고 주어진다. (1 ≤ M ≤ N ≤ 1,000,000) M이상 N이하의 소수가 하나 이상 있는 입력만 주어진다.\n",
    "\n",
    "- 출력  \n",
    "    한 줄에 하나씩, 증가하는 순서대로 소수를 출력한다.\n",
    "\n",
    "- 예제 입력  \n",
    "    3 16\n",
    "- 예제 출력  \n",
    "    3  \n",
    "    5  \n",
    "    7  \n",
    "    11  \n",
    "    13  "
   ]
  },
  {
   "cell_type": "markdown",
   "metadata": {},
   "source": [
    "### 풀이1(시간 초과)"
   ]
  },
  {
   "cell_type": "code",
   "execution_count": 29,
   "metadata": {},
   "outputs": [
    {
     "name": "stdout",
     "output_type": "stream",
     "text": [
      "3\n",
      "5\n",
      "7\n",
      "11\n",
      "13\n"
     ]
    }
   ],
   "source": [
    "num1, num2 = map(int, input().split())\n",
    "p = set()\n",
    "for one in range(num1, num2 + 1):\n",
    "    f = set()\n",
    "    for i in range(2, one):\n",
    "        if one % i == 0:\n",
    "            f.add(i)\n",
    "    if one > 1 and len(f) == 0:\n",
    "        p.add(one)\n",
    "if len(p) != 0:\n",
    "    for j in sorted(p):\n",
    "        print(j)"
   ]
  },
  {
   "cell_type": "markdown",
   "metadata": {},
   "source": [
    "### 풀이2(시간 초과)"
   ]
  },
  {
   "cell_type": "code",
   "execution_count": 30,
   "metadata": {},
   "outputs": [
    {
     "name": "stdout",
     "output_type": "stream",
     "text": [
      "3\n",
      "5\n",
      "7\n",
      "11\n",
      "13\n"
     ]
    }
   ],
   "source": [
    "num1, num2 = map(int, input().split())\n",
    "p = set()\n",
    "for one in range(num1, num2 + 1):\n",
    "    i = 2\n",
    "    f = set()\n",
    "    while i < one:\n",
    "        if one % i == 0:\n",
    "            f.add(i)\n",
    "        i += 1\n",
    "    if one > 1 and len(f) == 0:\n",
    "        p.add(one)\n",
    "for j in sorted(p):\n",
    "    print(j)"
   ]
  },
  {
   "cell_type": "markdown",
   "metadata": {},
   "source": [
    "### 풀이3(시간 초과)"
   ]
  },
  {
   "cell_type": "code",
   "execution_count": 35,
   "metadata": {},
   "outputs": [
    {
     "name": "stdout",
     "output_type": "stream",
     "text": [
      "3\n",
      "5\n",
      "7\n",
      "11\n",
      "13\n"
     ]
    }
   ],
   "source": [
    "num1, num2 = map(int, input().split())\n",
    "r = []\n",
    "for one in range(num1, num2 + 1):\n",
    "    if one % 2 == 1:\n",
    "        r.append(one)\n",
    "p = set()\n",
    "for two in r:\n",
    "    f = set()\n",
    "    for i in range(3, two, 2):\n",
    "        if two % i == 0:\n",
    "            f.add(i)\n",
    "    if len(f) == 0:\n",
    "        p.add(two)\n",
    "if len(p) != 0:\n",
    "    for j in sorted(p):\n",
    "        print(j)"
   ]
  },
  {
   "cell_type": "markdown",
   "metadata": {},
   "source": [
    "### 풀이4(시간 초과)"
   ]
  },
  {
   "cell_type": "code",
   "execution_count": 38,
   "metadata": {},
   "outputs": [
    {
     "name": "stdout",
     "output_type": "stream",
     "text": [
      "2\n",
      "3\n",
      "5\n",
      "7\n",
      "11\n",
      "13\n"
     ]
    }
   ],
   "source": [
    "num1, num2 = map(int, input().split())\n",
    "r = [one for one in range(num1, num2 + 1) if one % 2 == 1]\n",
    "p = set([2])\n",
    "for two in r:\n",
    "    f = set()\n",
    "    for i in p:\n",
    "        if two % i == 0:\n",
    "            f.add(i)\n",
    "    if len(f) == 0:\n",
    "        p.add(two)\n",
    "for j in sorted(p):\n",
    "    print(j)"
   ]
  },
  {
   "cell_type": "markdown",
   "metadata": {},
   "source": [
    "### 풀이5(틀림)"
   ]
  },
  {
   "cell_type": "code",
   "execution_count": 41,
   "metadata": {},
   "outputs": [
    {
     "name": "stdout",
     "output_type": "stream",
     "text": [
      "3\n",
      "5\n",
      "7\n",
      "11\n",
      "13\n"
     ]
    }
   ],
   "source": [
    "import math\n",
    "def is_prime_number(x):\n",
    "    for i in range(2, int(math.sqrt(x)) + 1):\n",
    "        if x % i == 0:\n",
    "            return False\n",
    "    return True\n",
    "num1, num2 = map(int, input().split())\n",
    "r = [one for one in range(num1, num2 + 1) if one % 2 == 1]\n",
    "for one in list(filter(is_prime_number, r)):\n",
    "    print(one)"
   ]
  },
  {
   "cell_type": "markdown",
   "metadata": {},
   "source": [
    "### 풀이6(시간 초과)"
   ]
  },
  {
   "cell_type": "code",
   "execution_count": 48,
   "metadata": {},
   "outputs": [
    {
     "name": "stdout",
     "output_type": "stream",
     "text": [
      "3\n",
      "5\n",
      "7\n",
      "11\n",
      "13\n"
     ]
    }
   ],
   "source": [
    "import math\n",
    "num1, num2 = map(int, input().split())\n",
    "r = [x for x in range(num1, num2 + 1)]\n",
    "for i in range(2, int(math.sqrt(num2)) + 1):\n",
    "    j = 2\n",
    "    while i * j <= num2:\n",
    "        try:\n",
    "            r.remove(i * j) # i의 배수 제거\n",
    "        except:\n",
    "            pass\n",
    "        j += 1\n",
    "for two in r:\n",
    "    print(two)"
   ]
  },
  {
   "cell_type": "markdown",
   "metadata": {},
   "source": [
    "### 풀이7(시간 초과)"
   ]
  },
  {
   "cell_type": "code",
   "execution_count": 63,
   "metadata": {},
   "outputs": [
    {
     "name": "stdout",
     "output_type": "stream",
     "text": [
      "3\n",
      "5\n",
      "7\n",
      "11\n",
      "13\n"
     ]
    }
   ],
   "source": [
    "import math\n",
    "n1, n2 = map(int, input().split())\n",
    "array = [i for i in range(n1, n2 + 1)]\n",
    "r = [x for x in array if x % 2 ==1]\n",
    "m = max(r)\n",
    "for i in range(2, int(math.sqrt(m)) + 1):\n",
    "\t\tj = 2\n",
    "\t\twhile i * j <= n2:\n",
    "\t\t\ttry:\n",
    "\t\t\t\tarray.remove(i * j)\n",
    "\t\t\texcept:\n",
    "\t\t\t\tpass\n",
    "\t\t\tj += 1\n",
    "for one in array:\n",
    "\tprint(one)         "
   ]
  },
  {
   "cell_type": "markdown",
   "metadata": {},
   "source": [
    "### 풀이8(틀림)"
   ]
  },
  {
   "cell_type": "code",
   "execution_count": 64,
   "metadata": {},
   "outputs": [
    {
     "name": "stdout",
     "output_type": "stream",
     "text": [
      "3\n",
      "5\n",
      "7\n",
      "11\n",
      "13\n"
     ]
    }
   ],
   "source": [
    "import math\n",
    "n1, n2 = map(int, input().split())\n",
    "array = [True for i in range(n2 + 1)]\n",
    "for i in range(2, int(math.sqrt(n2)) + 1):\n",
    "\t\tj = 2\n",
    "\t\twhile i * j <= n2:\n",
    "\t\t\tarray[i * j] = False\n",
    "\t\t\tj += 1\n",
    "for i in range(n1, n2 + 1):\n",
    "\tif array[i]:\n",
    "\t\tprint(i)"
   ]
  },
  {
   "cell_type": "markdown",
   "metadata": {},
   "source": [
    "### 풀이9(460ms, 427B)"
   ]
  },
  {
   "cell_type": "code",
   "execution_count": 67,
   "metadata": {},
   "outputs": [
    {
     "name": "stdout",
     "output_type": "stream",
     "text": [
      "3\n",
      "5\n",
      "7\n",
      "11\n",
      "13\n"
     ]
    }
   ],
   "source": [
    "import math\n",
    "def is_prime_number(n):\n",
    "    array = [True for i in range(n+1)]\n",
    "    for i in range(2, int(math.sqrt(n)) + 1):\n",
    "        if array[i] == True:\n",
    "            j = 2\n",
    "            while i * j <= n:\n",
    "                array[i * j] = False\n",
    "                j += 1\n",
    "    return [ i for i in range(2, n+1) if array[i] ]\n",
    "n1, n2 = map(int, input().split())\n",
    "p = is_prime_number(n2)\n",
    "p = [x for x in p if x >= n1]\n",
    "for one in p:\n",
    "    print(one)"
   ]
  },
  {
   "cell_type": "markdown",
   "metadata": {},
   "source": [
    "### 풀이10(680ms, 350B)"
   ]
  },
  {
   "cell_type": "code",
   "execution_count": 72,
   "metadata": {},
   "outputs": [
    {
     "name": "stdout",
     "output_type": "stream",
     "text": [
      "3\n",
      "5\n",
      "7\n",
      "11\n",
      "13\n"
     ]
    }
   ],
   "source": [
    "import math\n",
    "n1, n2 = map(int, input().split())\n",
    "array = [True for i in range(n2 + 1)]\n",
    "for i in range(2, int(math.sqrt(n2)) + 1):\n",
    "    if array[i] == True:\n",
    "        j = 2\n",
    "        while i * j <= n2:\n",
    "            array[i * j] = False\n",
    "            j += 1\n",
    "p = [x for x in range(2, n2 + 1) if array[x]]\n",
    "p = [x for x in p if x >= n1]\n",
    "for one in p:\n",
    "    print(one)"
   ]
  },
  {
   "cell_type": "markdown",
   "metadata": {},
   "source": [
    "## 4948번 - 베르트랑 공준\n",
    "\n",
    "- 문제  \n",
    "    베르트랑 공준은 임의의 자연수 n에 대하여, n보다 크고, 2n보다 작거나 같은 소수는 적어도 하나 존재한다는 내용을 담고 있다.\n",
    "\n",
    "    이 명제는 조제프 베르트랑이 1845년에 추측했고, 파프누티 체비쇼프가 1850년에 증명했다.\n",
    "\n",
    "    예를 들어, 10보다 크고, 20보다 작거나 같은 소수는 4개가 있다. (11, 13, 17, 19) 또, 14보다 크고, 28보다 작거나 같은 소수는 3개가 있다. (17,19, 23)\n",
    "\n",
    "    자연수 n이 주어졌을 때, n보다 크고, 2n보다 작거나 같은 소수의 개수를 구하는 프로그램을 작성하시오. \n",
    "\n",
    "- 입력  \n",
    "    입력은 여러 개의 테스트 케이스로 이루어져 있다. 각 케이스는 n을 포함하는 한 줄로 이루어져 있다.\n",
    "\n",
    "    입력의 마지막에는 0이 주어진다.\n",
    "\n",
    "- 출력  \n",
    "    각 테스트 케이스에 대해서, n보다 크고, 2n보다 작거나 같은 소수의 개수를 출력한다.\n",
    "\n",
    "- 제한  \n",
    "    1 ≤ n ≤ 123,456\n",
    "\n",
    "- 예제 입력  \n",
    "    1  \n",
    "    10  \n",
    "    13  \n",
    "    100  \n",
    "    1000  \n",
    "    10000  \n",
    "    100000  \n",
    "    0  \n",
    "- 예제 출력  \n",
    "    1  \n",
    "    4  \n",
    "    3  \n",
    "    21  \n",
    "    135  \n",
    "    1033  \n",
    "    8392  "
   ]
  },
  {
   "cell_type": "markdown",
   "metadata": {},
   "source": [
    "### 풀이1(시간 초과)"
   ]
  },
  {
   "cell_type": "code",
   "execution_count": 6,
   "metadata": {},
   "outputs": [
    {
     "name": "stdout",
     "output_type": "stream",
     "text": [
      "1\n",
      "4\n",
      "3\n",
      "21\n",
      "135\n",
      "1033\n",
      "8392\n"
     ]
    }
   ],
   "source": [
    "import math\n",
    "n = int(input())\n",
    "while n != 0:\n",
    "    array = [True for x in range(2*n+1)]  \n",
    "    for i in range(2, int(math.sqrt(2*n)) + 1):\n",
    "        if array[i] == True:\n",
    "            j = 2\n",
    "            while i * j <= 2*n:\n",
    "                array[i * j] = False\n",
    "                j += 1\n",
    "    p = [x for x in range(2, 2*n + 1) if array[x] and x > n]\n",
    "    print(len(p))\n",
    "    n = int(input())"
   ]
  },
  {
   "cell_type": "markdown",
   "metadata": {},
   "source": [
    "### 풀이2(시간 초과)"
   ]
  },
  {
   "cell_type": "code",
   "execution_count": 7,
   "metadata": {},
   "outputs": [],
   "source": [
    "import math, sys\n",
    "n = int(sys.stdin.readline())\n",
    "while n != 0:\n",
    "    array = [True for x in range(2*n+1)]  \n",
    "    for i in range(2, int(math.sqrt(2*n)) + 1):\n",
    "        if array[i] == True:\n",
    "            j = 2\n",
    "            while i * j <= 2*n:\n",
    "                array[i * j] = False\n",
    "                j += 1\n",
    "    p = [x for x in range(2, 2*n + 1) if array[x] and x > n]\n",
    "    print(len(p))\n",
    "    n = int(sys.stdin.readline())"
   ]
  },
  {
   "cell_type": "markdown",
   "metadata": {},
   "source": [
    "### 풀이3(시간 초과)"
   ]
  },
  {
   "cell_type": "code",
   "execution_count": null,
   "metadata": {},
   "outputs": [],
   "source": [
    "import math, sys\n",
    "while True:\n",
    "    n = int(sys.stdin.readline())\n",
    "    if n == 0:\n",
    "        break\n",
    "    else:\n",
    "        array = [True for x in range(2*n+1)]  \n",
    "        for i in range(2, int(math.sqrt(2*n)) + 1):\n",
    "            if array[i] == True:\n",
    "                j = 2\n",
    "                while i * j <= 2*n:\n",
    "                    array[i * j] = False\n",
    "                    j += 1\n",
    "        p = [x for x in range(2, 2*n + 1) if array[x] and x > n]\n",
    "        print(len(p))"
   ]
  },
  {
   "cell_type": "code",
   "execution_count": 1,
   "metadata": {},
   "outputs": [
    {
     "name": "stdout",
     "output_type": "stream",
     "text": [
      "1\n",
      "4\n",
      "3\n",
      "21\n",
      "135\n",
      "1033\n",
      "8392\n"
     ]
    }
   ],
   "source": [
    "import math\n",
    "while True:\n",
    "    n = int(input())\n",
    "    if n == 0:\n",
    "        break\n",
    "    else:\n",
    "        array = [True for x in range(2*n+1)]  \n",
    "        for i in range(2, int(math.sqrt(2*n)) + 1):\n",
    "            if array[i] == True:\n",
    "                j = 2\n",
    "                while i * j <= 2*n:\n",
    "                    array[i * j] = False\n",
    "                    j += 1\n",
    "        p = [x for x in range(2, 2*n + 1) if array[x] and x > n]\n",
    "        print(len(p))"
   ]
  },
  {
   "cell_type": "markdown",
   "metadata": {},
   "source": [
    "### 풀이4(시간 초과)"
   ]
  },
  {
   "cell_type": "code",
   "execution_count": 3,
   "metadata": {},
   "outputs": [
    {
     "name": "stdout",
     "output_type": "stream",
     "text": [
      "1\n",
      "4\n",
      "3\n",
      "21\n",
      "135\n",
      "1033\n",
      "8392\n"
     ]
    }
   ],
   "source": [
    "import math\n",
    "while True:\n",
    "    n = int(input())\n",
    "    if n == 0:\n",
    "        break\n",
    "    else:\n",
    "        array = [True for x in range(2*n+1)]  \n",
    "        for i in range(2, int(math.sqrt(2*n)) + 1):\n",
    "            if array[i] == True:\n",
    "                j = 2\n",
    "                while i * j <= 2*n:\n",
    "                    array[i * j] = False\n",
    "                    j += 1\n",
    "        p = array[n+1:2*n+1]\n",
    "        print(sum(p))"
   ]
  },
  {
   "cell_type": "markdown",
   "metadata": {},
   "source": [
    "### 풀이5(시간 초과)"
   ]
  },
  {
   "cell_type": "code",
   "execution_count": null,
   "metadata": {},
   "outputs": [],
   "source": [
    "import math, sys\n",
    "while True:\n",
    "    n = int(sys.stdin.readline())\n",
    "    if n == 0:\n",
    "        break\n",
    "    else:\n",
    "        array = [True for x in range(2*n+1)]  \n",
    "        for i in range(2, int(math.sqrt(2*n)) + 1):\n",
    "            if array[i] == True:\n",
    "                j = 2\n",
    "                while i * j <= 2*n:\n",
    "                    array[i * j] = False\n",
    "                    j += 1\n",
    "        p = array[n+1:2*n+1]\n",
    "        print(sum(p))"
   ]
  },
  {
   "cell_type": "markdown",
   "metadata": {},
   "source": [
    "### 풀이6(시간 초과)"
   ]
  },
  {
   "cell_type": "code",
   "execution_count": null,
   "metadata": {},
   "outputs": [],
   "source": [
    "import math, sys\n",
    "array = [True for x in range(2*123456 + 1)]  \n",
    "while True:\n",
    "    n = int(sys.stdin.readline())\n",
    "    if n == 0:\n",
    "        break\n",
    "    else:\n",
    "        for i in range(2, int(math.sqrt(2*n)) + 1):\n",
    "            if array[i] == True:\n",
    "                j = 2\n",
    "                while i*j <= 2*n:\n",
    "                    array[i*j] = False\n",
    "                    j += 1\n",
    "        p = array[n + 1:2*n + 1]\n",
    "        print(sum(p))"
   ]
  },
  {
   "cell_type": "markdown",
   "metadata": {},
   "source": [
    "### 풀이7(280ms, 355B)"
   ]
  },
  {
   "cell_type": "code",
   "execution_count": 6,
   "metadata": {},
   "outputs": [
    {
     "name": "stdout",
     "output_type": "stream",
     "text": [
      "1\n",
      "4\n",
      "3\n",
      "21\n",
      "135\n",
      "1033\n",
      "8392\n"
     ]
    }
   ],
   "source": [
    "import math\n",
    "array = [True for x in range(2*123456 + 1)]  \n",
    "for i in range(2, int(math.sqrt(2*123456)) + 1):\n",
    "    if array[i] == True:\n",
    "        j = 2\n",
    "        while i*j <= 2*123456:\n",
    "            array[i*j] = False\n",
    "            j += 1\n",
    "while True:\n",
    "    n = int(input())\n",
    "    if n == 0:\n",
    "        break\n",
    "    else:\n",
    "        p = array[n + 1 : 2*n +1]\n",
    "        print(sum(p))"
   ]
  },
  {
   "cell_type": "markdown",
   "metadata": {},
   "source": [
    "### 풀이8(288ms, 285B)"
   ]
  },
  {
   "cell_type": "code",
   "execution_count": 8,
   "metadata": {},
   "outputs": [
    {
     "name": "stdout",
     "output_type": "stream",
     "text": [
      "1\n",
      "4\n",
      "3\n"
     ]
    }
   ],
   "source": [
    "import math\n",
    "k = 123456\n",
    "array = [True for x in range(2*k + 1)]  \n",
    "for i in range(2, int(math.sqrt(2*k)) + 1):\n",
    "    if array[i] == True:\n",
    "        j = 2\n",
    "        while i*j <= 2*k:\n",
    "            array[i*j] = False\n",
    "            j += 1\n",
    "while n := int(input()):\n",
    "    print(sum(array[n + 1 : 2*n +1]))"
   ]
  },
  {
   "cell_type": "markdown",
   "metadata": {},
   "source": [
    "## 9020번 - 골드바흐의 추측\n",
    "\n",
    "- 문제  \n",
    "    1보다 큰 자연수 중에서  1과 자기 자신을 제외한 약수가 없는 자연수를 소수라고 한다. 예를 들어, 5는 1과 5를 제외한 약수가 없기 때문에 소수이다. 하지만, 6은 6 = 2 × 3     이기 때문에 소수가 아니다.\n",
    "\n",
    "    골드바흐의 추측은 유명한 정수론의 미해결 문제로, 2보다 큰 모든 짝수는 두 소수의 합으로 나타낼 수 있다는 것이다. 이러한 수를 골드바흐 수라고 한다. 또, 짝수를 두     소수의 합으로 나타내는 표현을 그 수의 골드바흐 파티션이라고 한다. 예를 들면, 4 = 2 + 2, 6 = 3 + 3, 8 = 3 + 5, 10 = 5 + 5, 12 = 5 + 7, 14 = 3 + 11, 14 = 7 + 7이다.  10000보다 작거나 같은 모든 짝수 n에 대한 골드바흐 파티션은 존재한다.\n",
    "\n",
    "    2보다 큰 짝수 n이 주어졌을 때, n의 골드바흐 파티션을 출력하는 프로그램을 작성하시오. 만약 가능한 n의 골드바흐 파티션이 여러 가지인 경우에는 두 소수의 차이가 가장   작은 것을 출력한다.\n",
    "\n",
    "- 입력  \n",
    "    첫째 줄에 테스트 케이스의 개수 T가 주어진다. 각 테스트 케이스는 한 줄로 이루어져 있고 짝수 n이 주어진다.\n",
    "\n",
    "- 출력  \n",
    "    각 테스트 케이스에 대해서 주어진 n의 골드바흐 파티션을 출력한다. 출력하는 소수는 작은 것부터 먼저 출력하며, 공백으로 구분한다.\n",
    "\n",
    "- 제한  \n",
    "    4 ≤ n ≤ 10,000\n",
    "\n",
    "- 예제 입력  \n",
    "    3  \n",
    "    8  \n",
    "    10  \n",
    "    16  \n",
    "- 예제 출력  \n",
    "    3 5  \n",
    "    5 5  \n",
    "    5 11  "
   ]
  },
  {
   "cell_type": "code",
   "execution_count": 12,
   "metadata": {},
   "outputs": [
    {
     "data": {
      "text/plain": [
       "[(1, 1), (1, 2), (1, 3), (2, 1), (2, 2), (2, 3), (3, 1), (3, 2), (3, 3)]"
      ]
     },
     "execution_count": 12,
     "metadata": {},
     "output_type": "execute_result"
    }
   ],
   "source": [
    "from itertools import product\n",
    "list(product([1, 2, 3], repeat=2))"
   ]
  },
  {
   "cell_type": "markdown",
   "metadata": {},
   "source": [
    "### 풀이1(시간 초과)"
   ]
  },
  {
   "cell_type": "code",
   "execution_count": 16,
   "metadata": {},
   "outputs": [
    {
     "name": "stdout",
     "output_type": "stream",
     "text": [
      "47 53\n"
     ]
    }
   ],
   "source": [
    "import math\n",
    "from itertools import product\n",
    "array = [True for i in range(10001)]\n",
    "for i in range(2, 101):\n",
    "    if array[i] == True:\n",
    "        j = 2\n",
    "        while i*j <= 10000:\n",
    "            array[i*j] = False\n",
    "            j += 1\n",
    "p = [x for x in range(2, 10001) if array[x]]\n",
    "for _ in range( int(input()) ):\n",
    "    num = int(input())\n",
    "    temp = p[:num]\n",
    "    s = list(product(temp, repeat=2))\n",
    "    s2 = [s[i] for i, n in enumerate(s) if sum(n) == num]\n",
    "    s3 = [abs(x1 - x2) for x1, x2 in s2]\n",
    "    idx = s3.index(min(s3))\n",
    "    n1, n2 = s2[idx]\n",
    "    print(n1, n2)"
   ]
  },
  {
   "cell_type": "markdown",
   "metadata": {},
   "source": [
    "### 풀이2(시간 초과)"
   ]
  },
  {
   "cell_type": "code",
   "execution_count": 19,
   "metadata": {},
   "outputs": [
    {
     "name": "stdout",
     "output_type": "stream",
     "text": [
      "3 5\n",
      "5 5\n",
      "5 11\n"
     ]
    }
   ],
   "source": [
    "array = [True for i in range(10001)]\n",
    "for i in range(2, 101):\n",
    "    if array[i] == True:\n",
    "        j = 2\n",
    "        while i*j <= 10000:\n",
    "            array[i*j] = False\n",
    "            j += 1\n",
    "p = [x for x in range(2, 10001) if array[x]]\n",
    "for _ in range( int(input()) ):\n",
    "    num = int(input())\n",
    "    temp = p[:num]\n",
    "    s = []\n",
    "    for one in temp:\n",
    "        if num - one in temp:\n",
    "            n1, n2 = one, num - one\n",
    "            s.append((n1, n2))\n",
    "    s2 = [abs(x1 - x2) for x1, x2 in s]\n",
    "    print(*s[s2.index(min(s2))])"
   ]
  },
  {
   "cell_type": "markdown",
   "metadata": {},
   "source": [
    "### 풀이3(시간 초과)"
   ]
  },
  {
   "cell_type": "code",
   "execution_count": null,
   "metadata": {},
   "outputs": [],
   "source": [
    "import sys\n",
    "array = [True for i in range(10001)]\n",
    "for i in range(2, 101):\n",
    "    if array[i] == True:\n",
    "        j = 2\n",
    "        while i*j <= 10000:\n",
    "            array[i*j] = False\n",
    "            j += 1\n",
    "p = [x for x in range(2, 10001) if array[x]]\n",
    "for _ in range( int(input()) ):\n",
    "    num = int(sys.stdin.readline())\n",
    "    temp = p[:num]\n",
    "    s = []\n",
    "    for one in temp:\n",
    "        if num - one in temp:\n",
    "            n1, n2 = one, num - one\n",
    "            s.append((n1, n2))\n",
    "    s2 = [abs(x1 - x2) for x1, x2 in s]\n",
    "    print(*s[s2.index(min(s2))])"
   ]
  },
  {
   "cell_type": "markdown",
   "metadata": {},
   "source": [
    "### 풀이4(시간 초과)"
   ]
  },
  {
   "cell_type": "code",
   "execution_count": 23,
   "metadata": {},
   "outputs": [
    {
     "name": "stdout",
     "output_type": "stream",
     "text": [
      "3 5\n",
      "5 5\n",
      "5 11\n"
     ]
    }
   ],
   "source": [
    "array = [True for i in range(10001)]\n",
    "for i in range(2, 101):\n",
    "    if array[i] == True:\n",
    "        j = 2\n",
    "        while i*j <= 10000:\n",
    "            array[i*j] = False\n",
    "            j += 1\n",
    "p = [x for x in range(2, 10001) if array[x]]\n",
    "for _ in range( int(input()) ):\n",
    "    num = int(input())\n",
    "    temp = p[:num]\n",
    "    s = [(one, num - one) for one in temp if num - one in temp]\n",
    "    s2 = [abs(x1 - x2) for x1, x2 in s]\n",
    "    print(*s[s2.index(min(s2))])"
   ]
  },
  {
   "cell_type": "markdown",
   "metadata": {},
   "source": [
    "### 풀이5(시간 초과)"
   ]
  },
  {
   "cell_type": "code",
   "execution_count": 45,
   "metadata": {},
   "outputs": [
    {
     "name": "stdout",
     "output_type": "stream",
     "text": [
      "3 5\n",
      "5 5\n",
      "5 11\n"
     ]
    }
   ],
   "source": [
    "array = [True for i in range(10001)]\n",
    "for i in range(2, 101):\n",
    "    if array[i] == True:\n",
    "        j = 2\n",
    "        while i*j <= 10000:\n",
    "            array[i*j] = False\n",
    "            j += 1\n",
    "p = [x for x in range(2, 10001) if array[x]]\n",
    "for _ in range( int(input()) ):\n",
    "    num = int(input())\n",
    "    temp = p[:num]\n",
    "    h = temp[:int(len(temp)/2 + 1)]\n",
    "    h = h[::-1]\n",
    "    s = [(num - one, one) for one in h if num - one in temp]\n",
    "    s2 = [abs(x1 - x2) for x1, x2 in s]\n",
    "    print(*s[s2.index(min(s2))])"
   ]
  },
  {
   "cell_type": "markdown",
   "metadata": {},
   "source": [
    "### 풀이6(틀림)"
   ]
  },
  {
   "cell_type": "code",
   "execution_count": 60,
   "metadata": {},
   "outputs": [
    {
     "name": "stdout",
     "output_type": "stream",
     "text": [
      "3 5\n",
      "5 5\n",
      "5 11\n"
     ]
    }
   ],
   "source": [
    "array = [True for i in range(10001)]\n",
    "for i in range(2, 101):\n",
    "    if array[i] == True:\n",
    "        j = 2\n",
    "        while i*j <= 10000:\n",
    "            array[i*j] = False\n",
    "            j += 1\n",
    "p = [x for x in range(2, 10001) if array[x]]\n",
    "for _ in range( int(input()) ):\n",
    "    num = int(input())\n",
    "    temp = list(filter(lambda x: x <= num, p))\n",
    "    for i in range(int(len(temp)/2), len(temp)):\n",
    "        if num - temp[i] in temp:\n",
    "            n1, n2 = num - temp[i], temp[i]\n",
    "            print(n1, n2)\n",
    "            break"
   ]
  },
  {
   "cell_type": "markdown",
   "metadata": {},
   "source": [
    "### 풀이7(틀림)"
   ]
  },
  {
   "cell_type": "code",
   "execution_count": 65,
   "metadata": {},
   "outputs": [
    {
     "name": "stdout",
     "output_type": "stream",
     "text": [
      "3 5\n",
      "5 5\n",
      "5 11\n"
     ]
    }
   ],
   "source": [
    "array = [True for i in range(10001)]\n",
    "for i in range(2, 101):\n",
    "    if array[i] == True:\n",
    "        j = 2\n",
    "        while i*j <= 10000:\n",
    "            array[i*j] = False\n",
    "            j += 1\n",
    "p = [x for x in range(2, 10001) if array[x]]\n",
    "for _ in range( int(input()) ):\n",
    "    num = int(input())\n",
    "    temp = list(filter(lambda x: x <= num, p))\n",
    "    for i in range(int(len(temp)/2), len(temp)):\n",
    "        if num - temp[i] in temp:\n",
    "            n1, n2 = num - temp[i], temp[i]\n",
    "            t = [n1, n2]\n",
    "            print(*sorted(t))\n",
    "            break"
   ]
  },
  {
   "cell_type": "code",
   "execution_count": 63,
   "metadata": {},
   "outputs": [
    {
     "data": {
      "text/plain": [
       "[2, 3, 5, 7]"
      ]
     },
     "execution_count": 63,
     "metadata": {},
     "output_type": "execute_result"
    }
   ],
   "source": [
    "temp"
   ]
  },
  {
   "cell_type": "markdown",
   "metadata": {},
   "source": [
    "### 풀이8(틀림)"
   ]
  },
  {
   "cell_type": "code",
   "execution_count": 75,
   "metadata": {},
   "outputs": [
    {
     "name": "stdout",
     "output_type": "stream",
     "text": [
      "3 5 \n",
      "5 5 \n",
      "5 7 \n",
      "7 7 \n",
      "5 11 \n"
     ]
    }
   ],
   "source": [
    "array = [True for i in range(10001)]\n",
    "for i in range(2, 101):\n",
    "    if array[i] == True:\n",
    "        j = 2\n",
    "        while i*j <= 10000:\n",
    "            array[i*j] = False\n",
    "            j += 1\n",
    "p = [x for x in range(2, 10001) if array[x]]\n",
    "for _ in range( int(input()) ):\n",
    "    num = int(input())\n",
    "    temp = list(filter(lambda x: x <= num, p))\n",
    "    for i in range(int(len(temp)/2), -1, -1):\n",
    "        if num - temp[i] in temp:\n",
    "            n1, n2 = num - temp[i], temp[i]\n",
    "            t = sorted([n1, n2])\n",
    "            for j in t:\n",
    "                print(j, end=' ')\n",
    "            break\n",
    "    print()"
   ]
  },
  {
   "cell_type": "markdown",
   "metadata": {},
   "source": [
    "### 풀이9(틀림)"
   ]
  },
  {
   "cell_type": "code",
   "execution_count": 93,
   "metadata": {},
   "outputs": [
    {
     "name": "stdout",
     "output_type": "stream",
     "text": [
      "11 23\n"
     ]
    }
   ],
   "source": [
    "array = [True for i in range(10001)]\n",
    "for i in range(2, 101):\n",
    "    if array[i] == True:\n",
    "        j = 2\n",
    "        while i*j <= 10000:\n",
    "            array[i*j] = False\n",
    "            j += 1\n",
    "p = [x for x in range(2, 10001) if array[x]]\n",
    "for _ in range( int(input()) ):\n",
    "    num = int(input())\n",
    "    temp = list(filter(lambda x: x <= num, p))\n",
    "    h = int(len(temp)/2)\n",
    "    for i in range(h):\n",
    "        if num - temp[h - i] in temp:\n",
    "            n1, n2 = num - temp[h - i], temp[h - i]\n",
    "            t = [n1, n2]\n",
    "            print(*sorted(t))\n",
    "            break"
   ]
  },
  {
   "cell_type": "code",
   "execution_count": 88,
   "metadata": {},
   "outputs": [
    {
     "data": {
      "text/plain": [
       "[2, 3, 5, 7, 11, 13, 17, 19, 23, 29, 31]"
      ]
     },
     "execution_count": 88,
     "metadata": {},
     "output_type": "execute_result"
    }
   ],
   "source": [
    "temp"
   ]
  },
  {
   "cell_type": "code",
   "execution_count": 91,
   "metadata": {},
   "outputs": [
    {
     "data": {
      "text/plain": [
       "11"
      ]
     },
     "execution_count": 91,
     "metadata": {},
     "output_type": "execute_result"
    }
   ],
   "source": [
    "len(temp)"
   ]
  },
  {
   "cell_type": "code",
   "execution_count": 90,
   "metadata": {},
   "outputs": [
    {
     "data": {
      "text/plain": [
       "5"
      ]
     },
     "execution_count": 90,
     "metadata": {},
     "output_type": "execute_result"
    }
   ],
   "source": [
    "int(len(temp)/2)"
   ]
  },
  {
   "cell_type": "code",
   "execution_count": 89,
   "metadata": {},
   "outputs": [
    {
     "data": {
      "text/plain": [
       "13"
      ]
     },
     "execution_count": 89,
     "metadata": {},
     "output_type": "execute_result"
    }
   ],
   "source": [
    "temp[int(len(temp)/2)]"
   ]
  },
  {
   "cell_type": "markdown",
   "metadata": {},
   "source": [
    "### 풀이10(틀림)"
   ]
  },
  {
   "cell_type": "code",
   "execution_count": 102,
   "metadata": {},
   "outputs": [
    {
     "name": "stdout",
     "output_type": "stream",
     "text": [
      "11 11\n"
     ]
    }
   ],
   "source": [
    "import math\n",
    "array = [True for i in range(10001)]\n",
    "for i in range(2, 101):\n",
    "    if array[i] == True:\n",
    "        j = 2\n",
    "        while i*j <= 10000:\n",
    "            array[i*j] = False\n",
    "            j += 1\n",
    "p = [x for x in range(2, 10001) if array[x]]\n",
    "for _ in range( int(input()) ):\n",
    "    num = int(input())\n",
    "    temp = list(filter(lambda x: x <= num, p))\n",
    "    h = math.ceil(len(temp)/2)\n",
    "    for i in range(h):\n",
    "        if num - temp[h - i] in temp:\n",
    "            n1, n2 = num - temp[h - i], temp[h - i]\n",
    "            t = [n1, n2]\n",
    "            print(*sorted(t))\n",
    "            break"
   ]
  },
  {
   "cell_type": "code",
   "execution_count": 95,
   "metadata": {},
   "outputs": [
    {
     "data": {
      "text/plain": [
       "6"
      ]
     },
     "execution_count": 95,
     "metadata": {},
     "output_type": "execute_result"
    }
   ],
   "source": [
    "math.ceil(6)"
   ]
  },
  {
   "cell_type": "code",
   "execution_count": 96,
   "metadata": {},
   "outputs": [
    {
     "data": {
      "text/plain": [
       "7"
      ]
     },
     "execution_count": 96,
     "metadata": {},
     "output_type": "execute_result"
    }
   ],
   "source": [
    "math.ceil(6.7)"
   ]
  },
  {
   "cell_type": "code",
   "execution_count": 104,
   "metadata": {},
   "outputs": [
    {
     "data": {
      "text/plain": [
       "[2, 3, 5, 7, 11]"
      ]
     },
     "execution_count": 104,
     "metadata": {},
     "output_type": "execute_result"
    }
   ],
   "source": [
    "array = [True for i in range(10001)]\n",
    "for i in range(2, 101):\n",
    "    if array[i] == True:\n",
    "        j = 2\n",
    "        while i*j <= 10000:\n",
    "            array[i*j] = False\n",
    "            j += 1\n",
    "p = [x for x in range(2, 10001) if array[x]]\n",
    "p[:5]"
   ]
  },
  {
   "cell_type": "code",
   "execution_count": 113,
   "metadata": {},
   "outputs": [
    {
     "name": "stdout",
     "output_type": "stream",
     "text": [
      "5 7\n",
      "7 7\n"
     ]
    }
   ],
   "source": [
    "for _ in range( int(input()) ):\n",
    "    num = int(input())\n",
    "    temp = list(filter(lambda x: x <= num, p))\n",
    "    h = math.ceil(len(temp)/2)\n",
    "    for i in range(h):\n",
    "        one = temp[h + i]\n",
    "        if num - one in temp:\n",
    "            n1, n2 = num - one, one\n",
    "            t = [n1, n2]\n",
    "            print(*sorted(t))\n",
    "            break"
   ]
  },
  {
   "cell_type": "code",
   "execution_count": 114,
   "metadata": {},
   "outputs": [
    {
     "data": {
      "text/plain": [
       "[2, 3, 5, 7, 11, 13]"
      ]
     },
     "execution_count": 114,
     "metadata": {},
     "output_type": "execute_result"
    }
   ],
   "source": [
    "temp"
   ]
  },
  {
   "cell_type": "code",
   "execution_count": 107,
   "metadata": {},
   "outputs": [
    {
     "data": {
      "text/plain": [
       "24"
      ]
     },
     "execution_count": 107,
     "metadata": {},
     "output_type": "execute_result"
    }
   ],
   "source": [
    "len(temp)"
   ]
  },
  {
   "cell_type": "code",
   "execution_count": 108,
   "metadata": {},
   "outputs": [
    {
     "data": {
      "text/plain": [
       "12.0"
      ]
     },
     "execution_count": 108,
     "metadata": {},
     "output_type": "execute_result"
    }
   ],
   "source": [
    "len(temp)/2"
   ]
  },
  {
   "cell_type": "code",
   "execution_count": 109,
   "metadata": {},
   "outputs": [
    {
     "data": {
      "text/plain": [
       "12"
      ]
     },
     "execution_count": 109,
     "metadata": {},
     "output_type": "execute_result"
    }
   ],
   "source": [
    "math.ceil(len(temp)/2)"
   ]
  },
  {
   "cell_type": "code",
   "execution_count": 110,
   "metadata": {},
   "outputs": [
    {
     "data": {
      "text/plain": [
       "41"
      ]
     },
     "execution_count": 110,
     "metadata": {},
     "output_type": "execute_result"
    }
   ],
   "source": [
    "temp[math.ceil(len(temp)/2)]"
   ]
  },
  {
   "cell_type": "markdown",
   "metadata": {},
   "source": [
    "### 풀이11(544ms, 374B)"
   ]
  },
  {
   "cell_type": "code",
   "execution_count": 138,
   "metadata": {},
   "outputs": [
    {
     "name": "stdout",
     "output_type": "stream",
     "text": [
      "53 61\n"
     ]
    }
   ],
   "source": [
    "array = [True for i in range(10001)]\n",
    "for i in range(2, 101):\n",
    "    if array[i] == True:\n",
    "        j = 2\n",
    "        while i*j <= 10000:\n",
    "            array[i*j] = False\n",
    "            j += 1\n",
    "for _ in range( int(input()) ):\n",
    "    num = int(input())\n",
    "    h = int(num/2)\n",
    "    for i in range(h):\n",
    "        if array[h-i] and array[num - (h-i)]:\n",
    "            print(h-i, num - (h-i))\n",
    "            break"
   ]
  },
  {
   "cell_type": "markdown",
   "metadata": {},
   "source": [
    "# 코드 마지막"
   ]
  }
 ],
 "metadata": {
  "interpreter": {
   "hash": "569b4317022eb29baeafb3d0f1f739310808ea28ce83ca127a35db1c01070585"
  },
  "kernelspec": {
   "display_name": "Python 3.9.12 ('base')",
   "language": "python",
   "name": "python3"
  },
  "language_info": {
   "codemirror_mode": {
    "name": "ipython",
    "version": 3
   },
   "file_extension": ".py",
   "mimetype": "text/x-python",
   "name": "python",
   "nbconvert_exporter": "python",
   "pygments_lexer": "ipython3",
   "version": "3.9.12"
  },
  "orig_nbformat": 4
 },
 "nbformat": 4,
 "nbformat_minor": 2
}
