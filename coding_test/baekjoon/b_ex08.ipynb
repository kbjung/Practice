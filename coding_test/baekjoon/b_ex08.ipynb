{
 "cells": [
  {
   "cell_type": "markdown",
   "metadata": {},
   "source": [
    "# 기본 수학2"
   ]
  },
  {
   "cell_type": "markdown",
   "metadata": {},
   "source": [
    "## 1978번 - 소수 찾기\n",
    "\n",
    "- 문제  \n",
    "    주어진 수 N개 중에서 소수가 몇 개인지 찾아서 출력하는 프로그램을 작성하시오.\n",
    "\n",
    "- 입력  \n",
    "    첫 줄에 수의 개수 N이 주어진다. N은 100이하이다. 다음으로 N개의 수가 주어지는데 수는 1,000 이하의 자연수이다.\n",
    "\n",
    "- 출력  \n",
    "    주어진 수들 중 소수의 개수를 출력한다.\n",
    "\n",
    "- 예제 입력  \n",
    "    4   \n",
    "    1 3 5 7\n",
    "- 예제 출력  \n",
    "    3"
   ]
  },
  {
   "cell_type": "code",
   "execution_count": 4,
   "metadata": {},
   "outputs": [
    {
     "name": "stdout",
     "output_type": "stream",
     "text": [
      "[1, 3, 5, 7]\n"
     ]
    }
   ],
   "source": [
    "n = int(input())\n",
    "numbers = list( map(int, input().split() ) )\n",
    "\n",
    "p = []\n",
    "for one in numbers:\n",
    "    f = set()\n",
    "    for i in range(2, one):\n",
    "        if one % i == 0:\n",
    "            f.add(i)\n",
    "    if len(f) == 0:\n",
    "        p.append(one)\n",
    "print(p)"
   ]
  },
  {
   "cell_type": "markdown",
   "metadata": {},
   "source": [
    "### 풀이"
   ]
  },
  {
   "cell_type": "code",
   "execution_count": 1,
   "metadata": {},
   "outputs": [
    {
     "name": "stdout",
     "output_type": "stream",
     "text": [
      "4\n"
     ]
    }
   ],
   "source": [
    "n = int(input())\n",
    "numbers = list( map(int, input().split() ) )\n",
    "p = []\n",
    "for one in numbers:\n",
    "    f = set()\n",
    "    for i in range(2, one):\n",
    "        if one % i == 0:\n",
    "            f.add(i)\n",
    "    if one > 1 and len(f) == 0:\n",
    "        p.append(one)\n",
    "print(len(p))"
   ]
  },
  {
   "cell_type": "markdown",
   "metadata": {},
   "source": [
    "## 2581번 - 소수\n",
    "\n",
    "- 문제  \n",
    "    자연수 M과 N이 주어질 때 M이상 N이하의 자연수 중 소수인 것을 모두 골라 이들 소수의 합과 최솟값을 찾는 프로그램을 작성하시오.\n",
    "\n",
    "    예를 들어 M=60, N=100인 경우 60이상 100이하의 자연수 중 소수는 61, 67, 71, 73, 79, 83, 89, 97 총 8개가 있으므로, 이들 소수의 합은 620이고, 최솟값은 61이 된다.\n",
    "\n",
    "- 입력  \n",
    "    입력의 첫째 줄에 M이, 둘째 줄에 N이 주어진다.\n",
    "\n",
    "    M과 N은 10,000이하의 자연수이며, M은 N보다 작거나 같다.\n",
    "\n",
    "- 출력  \n",
    "    M이상 N이하의 자연수 중 소수인 것을 모두 찾아 첫째 줄에 그 합을, 둘째 줄에 그 중 최솟값을 출력한다. \n",
    "\n",
    "    단, M이상 N이하의 자연수 중 소수가 없을 경우는 첫째 줄에 -1을 출력한다.\n",
    "\n",
    "    예제 입력|예제 출력\n",
    "    -|-\n",
    "    60</br>100|620</br>61\n",
    "    64</br>65|-1\n"
   ]
  },
  {
   "cell_type": "markdown",
   "metadata": {},
   "source": [
    "### 풀이"
   ]
  },
  {
   "cell_type": "code",
   "execution_count": 7,
   "metadata": {},
   "outputs": [
    {
     "name": "stdout",
     "output_type": "stream",
     "text": [
      "620\n",
      "61\n"
     ]
    }
   ],
   "source": [
    "num1 = int(input())\n",
    "num2 = int(input())\n",
    "p = []\n",
    "for one in range(num1, num2 + 1):\n",
    "    f = set()\n",
    "    for i in range(2, one):\n",
    "        if one % i == 0:\n",
    "            f.add(i)\n",
    "    if one > 1 and len(f) == 0:\n",
    "        p.append(one)\n",
    "if len(p) != 0:\n",
    "    print(sum(p))\n",
    "    print(min(p))\n",
    "else:\n",
    "    print(-1)"
   ]
  },
  {
   "cell_type": "markdown",
   "metadata": {},
   "source": [
    "## 11653번 - 소인수분해\n",
    "\n",
    "- 문제  \n",
    "    정수 N이 주어졌을 때, 소인수분해하는 프로그램을 작성하시오.\n",
    "\n",
    "- 입력  \n",
    "    첫째 줄에 정수 N (1 ≤ N ≤ 10,000,000)이 주어진다.\n",
    "\n",
    "- 출력  \n",
    "    N의 소인수분해 결과를 한 줄에 하나씩 오름차순으로 출력한다. N이 1인 경우 아무것도 출력하지 않는다.\n",
    "\n",
    "    예제 입력|예제 출력\n",
    "    -|-\n",
    "    72|2</br>2</br>2</br>3</br>3\n",
    "    3|3\n",
    "    6|2</br>3\n",
    "    2|2\n",
    "    9991|97</br>103"
   ]
  },
  {
   "cell_type": "code",
   "execution_count": 20,
   "metadata": {},
   "outputs": [],
   "source": [
    "num = int(input())\n",
    "result = []\n",
    "i = 2\n",
    "while i <= num:\n",
    "    if num % i == 0:\n",
    "        result.append(i)\n",
    "        num = int(num / i)\n",
    "    else:\n",
    "        i += 1\n",
    "for one in result:\n",
    "    print(one)    "
   ]
  },
  {
   "cell_type": "code",
   "execution_count": 22,
   "metadata": {},
   "outputs": [
    {
     "name": "stdout",
     "output_type": "stream",
     "text": [
      "2\n",
      "2\n",
      "2\n",
      "3\n",
      "3\n"
     ]
    }
   ],
   "source": [
    "num = int(input())\n",
    "i = 2\n",
    "while i <= num:\n",
    "    if num % i == 0:\n",
    "        num = int(num / i)\n",
    "        print(i)\n",
    "    else:\n",
    "        i += 1"
   ]
  },
  {
   "cell_type": "markdown",
   "metadata": {},
   "source": [
    "## 1929번 - 소수 구하기\n",
    "\n",
    "- 문제  \n",
    "    M이상 N이하의 소수를 모두 출력하는 프로그램을 작성하시오.\n",
    "\n",
    "- 입력  \n",
    "    첫째 줄에 자연수 M과 N이 빈 칸을 사이에 두고 주어진다. (1 ≤ M ≤ N ≤ 1,000,000) M이상 N이하의 소수가 하나 이상 있는 입력만 주어진다.\n",
    "\n",
    "- 출력  \n",
    "    한 줄에 하나씩, 증가하는 순서대로 소수를 출력한다.\n",
    "\n",
    "- 예제 입력  \n",
    "    3 16\n",
    "- 예제 출력  \n",
    "    3  \n",
    "    5  \n",
    "    7  \n",
    "    11  \n",
    "    13  "
   ]
  },
  {
   "cell_type": "markdown",
   "metadata": {},
   "source": [
    "### 풀이1(시간 초과)"
   ]
  },
  {
   "cell_type": "code",
   "execution_count": 29,
   "metadata": {},
   "outputs": [
    {
     "name": "stdout",
     "output_type": "stream",
     "text": [
      "3\n",
      "5\n",
      "7\n",
      "11\n",
      "13\n"
     ]
    }
   ],
   "source": [
    "num1, num2 = map(int, input().split())\n",
    "p = set()\n",
    "for one in range(num1, num2 + 1):\n",
    "    f = set()\n",
    "    for i in range(2, one):\n",
    "        if one % i == 0:\n",
    "            f.add(i)\n",
    "    if one > 1 and len(f) == 0:\n",
    "        p.add(one)\n",
    "if len(p) != 0:\n",
    "    for j in sorted(p):\n",
    "        print(j)"
   ]
  },
  {
   "cell_type": "markdown",
   "metadata": {},
   "source": [
    "### 풀이2(시간 초과)"
   ]
  },
  {
   "cell_type": "code",
   "execution_count": 30,
   "metadata": {},
   "outputs": [
    {
     "name": "stdout",
     "output_type": "stream",
     "text": [
      "3\n",
      "5\n",
      "7\n",
      "11\n",
      "13\n"
     ]
    }
   ],
   "source": [
    "num1, num2 = map(int, input().split())\n",
    "p = set()\n",
    "for one in range(num1, num2 + 1):\n",
    "    i = 2\n",
    "    f = set()\n",
    "    while i < one:\n",
    "        if one % i == 0:\n",
    "            f.add(i)\n",
    "        i += 1\n",
    "    if one > 1 and len(f) == 0:\n",
    "        p.add(one)\n",
    "for j in sorted(p):\n",
    "    print(j)"
   ]
  },
  {
   "cell_type": "markdown",
   "metadata": {},
   "source": [
    "### 풀이3(시간 초과)"
   ]
  },
  {
   "cell_type": "code",
   "execution_count": 35,
   "metadata": {},
   "outputs": [
    {
     "name": "stdout",
     "output_type": "stream",
     "text": [
      "3\n",
      "5\n",
      "7\n",
      "11\n",
      "13\n"
     ]
    }
   ],
   "source": [
    "num1, num2 = map(int, input().split())\n",
    "r = []\n",
    "for one in range(num1, num2 + 1):\n",
    "    if one % 2 == 1:\n",
    "        r.append(one)\n",
    "p = set()\n",
    "for two in r:\n",
    "    f = set()\n",
    "    for i in range(3, two, 2):\n",
    "        if two % i == 0:\n",
    "            f.add(i)\n",
    "    if len(f) == 0:\n",
    "        p.add(two)\n",
    "if len(p) != 0:\n",
    "    for j in sorted(p):\n",
    "        print(j)"
   ]
  },
  {
   "cell_type": "markdown",
   "metadata": {},
   "source": [
    "### 풀이4(시간 초과)"
   ]
  },
  {
   "cell_type": "code",
   "execution_count": 38,
   "metadata": {},
   "outputs": [
    {
     "name": "stdout",
     "output_type": "stream",
     "text": [
      "2\n",
      "3\n",
      "5\n",
      "7\n",
      "11\n",
      "13\n"
     ]
    }
   ],
   "source": [
    "num1, num2 = map(int, input().split())\n",
    "r = [one for one in range(num1, num2 + 1) if one % 2 == 1]\n",
    "p = set([2])\n",
    "for two in r:\n",
    "    f = set()\n",
    "    for i in p:\n",
    "        if two % i == 0:\n",
    "            f.add(i)\n",
    "    if len(f) == 0:\n",
    "        p.add(two)\n",
    "for j in sorted(p):\n",
    "    print(j)"
   ]
  },
  {
   "cell_type": "markdown",
   "metadata": {},
   "source": [
    "### 풀이5(틀림)"
   ]
  },
  {
   "cell_type": "code",
   "execution_count": 41,
   "metadata": {},
   "outputs": [
    {
     "name": "stdout",
     "output_type": "stream",
     "text": [
      "3\n",
      "5\n",
      "7\n",
      "11\n",
      "13\n"
     ]
    }
   ],
   "source": [
    "import math\n",
    "def is_prime_number(x):\n",
    "    for i in range(2, int(math.sqrt(x)) + 1):\n",
    "        if x % i == 0:\n",
    "            return False\n",
    "    return True\n",
    "num1, num2 = map(int, input().split())\n",
    "r = [one for one in range(num1, num2 + 1) if one % 2 == 1]\n",
    "for one in list(filter(is_prime_number, r)):\n",
    "    print(one)"
   ]
  },
  {
   "cell_type": "markdown",
   "metadata": {},
   "source": [
    "### 풀이6(시간 초과)"
   ]
  },
  {
   "cell_type": "code",
   "execution_count": 48,
   "metadata": {},
   "outputs": [
    {
     "name": "stdout",
     "output_type": "stream",
     "text": [
      "3\n",
      "5\n",
      "7\n",
      "11\n",
      "13\n"
     ]
    }
   ],
   "source": [
    "import math\n",
    "num1, num2 = map(int, input().split())\n",
    "r = [x for x in range(num1, num2 + 1)]\n",
    "for i in range(2, int(math.sqrt(num2)) + 1):\n",
    "    j = 2\n",
    "    while i * j <= num2:\n",
    "        try:\n",
    "            r.remove(i * j) # i의 배수 제거\n",
    "        except:\n",
    "            pass\n",
    "        j += 1\n",
    "for two in r:\n",
    "    print(two)"
   ]
  },
  {
   "cell_type": "markdown",
   "metadata": {},
   "source": [
    "### 풀이7(시간 초과)"
   ]
  },
  {
   "cell_type": "code",
   "execution_count": 63,
   "metadata": {},
   "outputs": [
    {
     "name": "stdout",
     "output_type": "stream",
     "text": [
      "3\n",
      "5\n",
      "7\n",
      "11\n",
      "13\n"
     ]
    }
   ],
   "source": [
    "import math\n",
    "n1, n2 = map(int, input().split())\n",
    "array = [i for i in range(n1, n2 + 1)]\n",
    "r = [x for x in array if x % 2 ==1]\n",
    "m = max(r)\n",
    "for i in range(2, int(math.sqrt(m)) + 1):\n",
    "\t\tj = 2\n",
    "\t\twhile i * j <= n2:\n",
    "\t\t\ttry:\n",
    "\t\t\t\tarray.remove(i * j)\n",
    "\t\t\texcept:\n",
    "\t\t\t\tpass\n",
    "\t\t\tj += 1\n",
    "for one in array:\n",
    "\tprint(one)         "
   ]
  },
  {
   "cell_type": "markdown",
   "metadata": {},
   "source": [
    "### 풀이8(틀림)"
   ]
  },
  {
   "cell_type": "code",
   "execution_count": 64,
   "metadata": {},
   "outputs": [
    {
     "name": "stdout",
     "output_type": "stream",
     "text": [
      "3\n",
      "5\n",
      "7\n",
      "11\n",
      "13\n"
     ]
    }
   ],
   "source": [
    "import math\n",
    "n1, n2 = map(int, input().split())\n",
    "array = [True for i in range(n2 + 1)]\n",
    "for i in range(2, int(math.sqrt(n2)) + 1):\n",
    "\t\tj = 2\n",
    "\t\twhile i * j <= n2:\n",
    "\t\t\tarray[i * j] = False\n",
    "\t\t\tj += 1\n",
    "for i in range(n1, n2 + 1):\n",
    "\tif array[i]:\n",
    "\t\tprint(i)"
   ]
  },
  {
   "cell_type": "markdown",
   "metadata": {},
   "source": [
    "### 풀이9(427B, 460ms)"
   ]
  },
  {
   "cell_type": "code",
   "execution_count": 67,
   "metadata": {},
   "outputs": [
    {
     "name": "stdout",
     "output_type": "stream",
     "text": [
      "3\n",
      "5\n",
      "7\n",
      "11\n",
      "13\n"
     ]
    }
   ],
   "source": [
    "import math\n",
    "def is_prime_number(n):\n",
    "    array = [True for i in range(n+1)]\n",
    "    for i in range(2, int(math.sqrt(n)) + 1):\n",
    "        if array[i] == True:\n",
    "            j = 2\n",
    "            while i * j <= n:\n",
    "                array[i * j] = False\n",
    "                j += 1\n",
    "    return [ i for i in range(2, n+1) if array[i] ]\n",
    "n1, n2 = map(int, input().split())\n",
    "p = is_prime_number(n2)\n",
    "p = [x for x in p if x >= n1]\n",
    "for one in p:\n",
    "    print(one)"
   ]
  },
  {
   "cell_type": "markdown",
   "metadata": {},
   "source": [
    "### 풀이10(350B, 680ms)"
   ]
  },
  {
   "cell_type": "code",
   "execution_count": 72,
   "metadata": {},
   "outputs": [
    {
     "name": "stdout",
     "output_type": "stream",
     "text": [
      "3\n",
      "5\n",
      "7\n",
      "11\n",
      "13\n"
     ]
    }
   ],
   "source": [
    "import math\n",
    "n1, n2 = map(int, input().split())\n",
    "array = [True for i in range(n2 + 1)]\n",
    "for i in range(2, int(math.sqrt(n2)) + 1):\n",
    "    if array[i] == True:\n",
    "        j = 2\n",
    "        while i * j <= n2:\n",
    "            array[i * j] = False\n",
    "            j += 1\n",
    "p = [x for x in range(2, n2 + 1) if array[x]]\n",
    "p = [x for x in p if x >= n1]\n",
    "for one in p:\n",
    "    print(one)"
   ]
  },
  {
   "cell_type": "markdown",
   "metadata": {},
   "source": [
    "## 4948번 - 베르트랑 공준"
   ]
  },
  {
   "cell_type": "markdown",
   "metadata": {},
   "source": [
    "## 9020번 - 골드바흐의 추측"
   ]
  },
  {
   "cell_type": "code",
   "execution_count": null,
   "metadata": {},
   "outputs": [],
   "source": []
  }
 ],
 "metadata": {
  "interpreter": {
   "hash": "569b4317022eb29baeafb3d0f1f739310808ea28ce83ca127a35db1c01070585"
  },
  "kernelspec": {
   "display_name": "Python 3.9.12 ('base')",
   "language": "python",
   "name": "python3"
  },
  "language_info": {
   "codemirror_mode": {
    "name": "ipython",
    "version": 3
   },
   "file_extension": ".py",
   "mimetype": "text/x-python",
   "name": "python",
   "nbconvert_exporter": "python",
   "pygments_lexer": "ipython3",
   "version": "3.9.12"
  },
  "orig_nbformat": 4
 },
 "nbformat": 4,
 "nbformat_minor": 2
}
