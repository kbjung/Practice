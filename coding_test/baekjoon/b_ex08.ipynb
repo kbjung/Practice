{
 "cells": [
  {
   "cell_type": "markdown",
   "metadata": {},
   "source": [
    "# 기본 수학2"
   ]
  },
  {
   "cell_type": "markdown",
   "metadata": {},
   "source": [
    "## 1978번 - 소수 찾기\n",
    "\n",
    "- 문제  \n",
    "    주어진 수 N개 중에서 소수가 몇 개인지 찾아서 출력하는 프로그램을 작성하시오.\n",
    "\n",
    "- 입력  \n",
    "    첫 줄에 수의 개수 N이 주어진다. N은 100이하이다. 다음으로 N개의 수가 주어지는데 수는 1,000 이하의 자연수이다.\n",
    "\n",
    "- 출력  \n",
    "    주어진 수들 중 소수의 개수를 출력한다.\n",
    "\n",
    "- 예제 입력  \n",
    "    4   \n",
    "    1 3 5 7\n",
    "- 예제 출력  \n",
    "    3"
   ]
  },
  {
   "cell_type": "code",
   "execution_count": 4,
   "metadata": {},
   "outputs": [
    {
     "name": "stdout",
     "output_type": "stream",
     "text": [
      "[1, 3, 5, 7]\n"
     ]
    }
   ],
   "source": [
    "n = int(input())\n",
    "numbers = list( map(int, input().split() ) )\n",
    "\n",
    "p = []\n",
    "for one in numbers:\n",
    "    f = set()\n",
    "    for i in range(2, one):\n",
    "        if one % i == 0:\n",
    "            f.add(i)\n",
    "    if len(f) == 0:\n",
    "        p.append(one)\n",
    "print(p)"
   ]
  },
  {
   "cell_type": "code",
   "execution_count": 7,
   "metadata": {},
   "outputs": [
    {
     "name": "stdout",
     "output_type": "stream",
     "text": [
      "4\n"
     ]
    }
   ],
   "source": [
    "n = int(input())\n",
    "numbers = list( map(int, input().split() ) )\n",
    "p = []\n",
    "for one in numbers:\n",
    "    f = set()\n",
    "    for i in range(2, one):\n",
    "        if one % i == 0:\n",
    "            f.add(i)\n",
    "    if len(f) == 0:\n",
    "        p.append(one)\n",
    "try:\n",
    "    p.remove(1)\n",
    "except:\n",
    "    pass\n",
    "print(len(p))"
   ]
  },
  {
   "cell_type": "markdown",
   "metadata": {},
   "source": [
    "## 2581번 - 소수"
   ]
  },
  {
   "cell_type": "markdown",
   "metadata": {},
   "source": [
    "## 11653번 - 소인수분해"
   ]
  },
  {
   "cell_type": "markdown",
   "metadata": {},
   "source": [
    "## 1929번 - 소수 구하기"
   ]
  },
  {
   "cell_type": "markdown",
   "metadata": {},
   "source": [
    "## 4948번 - 베르트랑 공준"
   ]
  },
  {
   "cell_type": "markdown",
   "metadata": {},
   "source": [
    "## 9020번 - 골드바흐의 추측"
   ]
  },
  {
   "cell_type": "code",
   "execution_count": null,
   "metadata": {},
   "outputs": [],
   "source": []
  }
 ],
 "metadata": {
  "interpreter": {
   "hash": "569b4317022eb29baeafb3d0f1f739310808ea28ce83ca127a35db1c01070585"
  },
  "kernelspec": {
   "display_name": "Python 3.9.12 ('base')",
   "language": "python",
   "name": "python3"
  },
  "language_info": {
   "codemirror_mode": {
    "name": "ipython",
    "version": 3
   },
   "file_extension": ".py",
   "mimetype": "text/x-python",
   "name": "python",
   "nbconvert_exporter": "python",
   "pygments_lexer": "ipython3",
   "version": "3.9.12"
  },
  "orig_nbformat": 4
 },
 "nbformat": 4,
 "nbformat_minor": 2
}
