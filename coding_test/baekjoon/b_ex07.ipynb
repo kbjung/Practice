{
 "cells": [
  {
   "cell_type": "markdown",
   "metadata": {},
   "source": [
    "# 기본 수학 1"
   ]
  },
  {
   "cell_type": "markdown",
   "metadata": {},
   "source": [
    "## 1712번 - 손익분기점\n",
    "\n",
    "- 문제  \n",
    "    월드전자는 노트북을 제조하고 판매하는 회사이다. 노트북 판매 대수에 상관없이 매년 임대료, 재산세, 보험료, 급여 등 A만원의 고정 비용이 들며, 한 대의 노트북을 생산하는 데에는 재료비와 인건비 등 총 B만원의 가변 비용이 든다고 한다.\n",
    "\n",
    "    예를 들어 A=1,000, B=70이라고 하자. 이 경우 노트북을 한 대 생산하는 데는 총 1,070만원이 들며, 열 대 생산하는 데는 총 1,700만원이 든다.\n",
    "\n",
    "    노트북 가격이 C만원으로 책정되었다고 한다. 일반적으로 생산 대수를 늘려 가다 보면 어느 순간 총 수입(판매비용)이 총 비용(=고정비용+가변비용)보다 많아지게 된다. 최초로 총 수입이 총 비용보다 많아져 이익이 발생하는 지점을 손익분기점(BREAK-EVEN POINT)이라고 한다.\n",
    "\n",
    "    A, B, C가 주어졌을 때, 손익분기점을 구하는 프로그램을 작성하시오.\n",
    "\n",
    "- 입력  \n",
    "    첫째 줄에 A, B, C가 빈 칸을 사이에 두고 순서대로 주어진다. A, B, C는 21억 이하의 자연수이다.\n",
    "\n",
    "- 출력  \n",
    "    첫 번째 줄에 손익분기점 즉 최초로 이익이 발생하는 판매량을 출력한다. 손익분기점이 존재하지 않으면 -1을 출력한다.\n",
    "\n",
    "    예제 입력|예제 출력\n",
    "    -|-\n",
    "    1000 70 170|11\n",
    "    3 2 1|-1\n",
    "    2100000000 9 10|2100000001"
   ]
  },
  {
   "cell_type": "markdown",
   "metadata": {},
   "source": [
    "### 풀이"
   ]
  },
  {
   "cell_type": "code",
   "execution_count": 10,
   "metadata": {},
   "outputs": [
    {
     "name": "stdout",
     "output_type": "stream",
     "text": [
      "2100000001\n"
     ]
    }
   ],
   "source": [
    "A, B, C = map(int, input().split())\n",
    "if C - B <= 0:\n",
    "    i = -1\n",
    "else:\n",
    "    i = A // (C-B) + 1\n",
    "print(i)"
   ]
  },
  {
   "cell_type": "markdown",
   "metadata": {},
   "source": [
    "## 2292번 - 벌집\n",
    "\n",
    "- 문제  \n",
    "\n",
    "    <center><img src='img/2292.png' width='30%' height='30%'/></center>\n",
    "\n",
    "    위의 그림과 같이 육각형으로 이루어진 벌집이 있다. 그림에서 보는 바와 같이 중앙의 방 1부터 시작해서 이웃하는 방에 돌아가면서 1씩 증가하는 번호를 주소로 매길 수 있다. 숫자 N이 주어졌을 때, 벌집의 중앙 1에서 N번 방까지 최소 개수의 방을 지나서 갈 때 몇 개의 방을 지나가는지(시작과 끝을 포함하여)를 계산하는 프로그램을 작성하시오. 예를 들면, 13까지는 3개, 58까지는 5개를 지난다.\n",
    "\n",
    "- 입력  \n",
    "    첫째 줄에 N(1 ≤ N ≤ 1,000,000,000)이 주어진다.\n",
    "\n",
    "- 출력  \n",
    "    입력으로 주어진 방까지 최소 개수의 방을 지나서 갈 때 몇 개의 방을 지나는지 출력한다.\n",
    "\n",
    "- 예제 입력  \n",
    "    13\n",
    "- 예제 출력  \n",
    "    3"
   ]
  },
  {
   "cell_type": "code",
   "execution_count": null,
   "metadata": {},
   "outputs": [],
   "source": [
    "# 1단계 : 1 - 1개\n",
    "# 2단계 : 2 ~ 7 - 6개\n",
    "# 3단계 : 8 ~ 19 - 12개\n",
    "# 4단계 : 20 ~ 37  - 18개\n",
    "\n",
    "# 규칙\n",
    "    # n단계 끝수 : 1 + (6*k, k=1~(n-1)번 합)"
   ]
  },
  {
   "cell_type": "markdown",
   "metadata": {},
   "source": [
    "### 풀이"
   ]
  },
  {
   "cell_type": "code",
   "execution_count": 21,
   "metadata": {},
   "outputs": [
    {
     "name": "stdout",
     "output_type": "stream",
     "text": [
      "3\n"
     ]
    }
   ],
   "source": [
    "num = int(input())\n",
    "n = 1\n",
    "k = 0\n",
    "while True:\n",
    "    k += 6*(n-1)\n",
    "    end_num = 1 + k\n",
    "    if num <= end_num:\n",
    "        break\n",
    "    n += 1\n",
    "print(n)"
   ]
  },
  {
   "cell_type": "markdown",
   "metadata": {},
   "source": [
    "## 1193번 - 분수찾기\n",
    "\n",
    "- 문제  \n",
    "    무한히 큰 배열에 다음과 같이 분수들이 적혀있다.\n",
    "\n",
    "    1/1|1/2|1/3|1/4|1/5| …\n",
    "    -- |-- |-- |-- |-- |--\n",
    "    2/1|2/2|2/3|2/4| … | …\n",
    "    3/1|3/2|3/3| … | … | … \n",
    "    4/1|4/2| … | … | … | … \n",
    "    5/1| … | … | … | … | … \n",
    "     … | … | … | … | … | …\n",
    "     \n",
    "    이와 같이 나열된 분수들을 1/1 → 1/2 → 2/1 → 3/1 → 2/2 → … 과 같은 지그재그 순서로 차례대로 1번, 2번, 3번, 4번, 5번, … 분수라고 하자.\n",
    "\n",
    "    X가 주어졌을 때, X번째 분수를 구하는 프로그램을 작성하시오.\n",
    "\n",
    "- 입력  \n",
    "    첫째 줄에 X(1 ≤ X ≤ 10,000,000)가 주어진다.\n",
    "\n",
    "- 출력  \n",
    "    첫째 줄에 분수를 출력한다.\n",
    "\n",
    "    예시 입력|예시 출력\n",
    "    -|-\n",
    "    1|1/1\n",
    "    2|1/2\n",
    "    3|2/1\n",
    "    4|3/1\n",
    "    5|2/2\n",
    "    6|1/3\n",
    "    7|1/4\n",
    "    8|2/3\n",
    "    9|3/2\n",
    "    14|2/4"
   ]
  },
  {
   "cell_type": "code",
   "execution_count": null,
   "metadata": {},
   "outputs": [],
   "source": [
    "# 1 : 1/1 -> 2 -> 1개\n",
    "# 2 : 1/2 -> 3\n",
    "# 3 : 2/1 -> 3 -> 2개\n",
    "# 4 : 3/1 -> 4\n",
    "# 5 : 2/2 -> 4\n",
    "# 6 : 1/3 -> 4 -> 3개\n",
    "# 7 : 1/4 -> 5"
   ]
  },
  {
   "cell_type": "code",
   "execution_count": null,
   "metadata": {},
   "outputs": [],
   "source": [
    "# 1. 입력한 수를 그룹으로 나눈다.\n",
    "    # (1), (2,3), (4,5,6), (7,8,9,10), ...\n",
    "# 2. 그룹의 마지막 수의 규칙을 찾는다.\n",
    "    # 1, 3, 6, 10, ...\n",
    "    # a = n*(n-1)/2 + n\n",
    "    # a : n번째 그룹의 첫 수\n",
    "# 3. n그룹에 매칭되는 분수를 리스트로 만든다.\n",
    "    # 분수 : a/b\n",
    "    # 만약 n+1 이 짝수면, b : 1씩 증가\n",
    "        # n-1번 반복 : b += 1, a = n+1 - b \n",
    "    # 만약 n+1 이 홀수면, a : 1씩 증가\n",
    "        # n-1번 반복 : a += 1, b = n+1 - a \n",
    "# 4. 입력한 수의 n그룹에서 순서를 찾는다.\n",
    "    # 입력한 수 % n -> 리스트의 인덱스"
   ]
  },
  {
   "cell_type": "markdown",
   "metadata": {},
   "source": [
    "### 풀이"
   ]
  },
  {
   "cell_type": "code",
   "execution_count": 50,
   "metadata": {},
   "outputs": [
    {
     "name": "stdout",
     "output_type": "stream",
     "text": [
      "2/4\n"
     ]
    }
   ],
   "source": [
    "num = int(input())\n",
    "n = 1\n",
    "while True:\n",
    "    end_num = n*(n-1)/2 + n\n",
    "    if num <= end_num:\n",
    "        break\n",
    "    n += 1\n",
    "if n % 2 == 0:\n",
    "    g_list = []\n",
    "    a = 1\n",
    "    b = n + 1 - a\n",
    "    g_list.append(f'{a}/{b}')\n",
    "    for i in range(n-1):\n",
    "        a += 1\n",
    "        b = n + 1 - a\n",
    "        g_list.append(f'{a}/{b}')\n",
    "    idx = int( num - (end_num + 1) )\n",
    "    print(g_list[idx])\n",
    "else:\n",
    "    g_list = []\n",
    "    b = 1\n",
    "    a = n + 1 - b\n",
    "    g_list.append(f'{a}/{b}')\n",
    "    for i in range(n-1):\n",
    "        b += 1\n",
    "        a = n + 1 - b\n",
    "        g_list.append(f'{a}/{b}')\n",
    "    idx = int( num - (end_num + 1) )\n",
    "    print(g_list[idx])"
   ]
  },
  {
   "cell_type": "code",
   "execution_count": 51,
   "metadata": {},
   "outputs": [
    {
     "data": {
      "text/plain": [
       "['5/1', '4/2', '3/3', '2/4', '1/5']"
      ]
     },
     "execution_count": 51,
     "metadata": {},
     "output_type": "execute_result"
    }
   ],
   "source": [
    "g_list"
   ]
  },
  {
   "cell_type": "markdown",
   "metadata": {},
   "source": [
    "## 2869번 - 달팽이는 올라가고 싶다\n",
    "\n",
    "- 문제  \n",
    "    땅 위에 달팽이가 있다. 이 달팽이는 높이가 V미터인 나무 막대를 올라갈 것이다.\n",
    "\n",
    "    달팽이는 낮에 A미터 올라갈 수 있다. 하지만, 밤에 잠을 자는 동안 B미터 미끄러진다. 또, 정상에 올라간 후에는 미끄러지지 않는다.\n",
    "\n",
    "    달팽이가 나무 막대를 모두 올라가려면, 며칠이 걸리는지 구하는 프로그램을 작성하시오.\n",
    "\n",
    "- 입력  \n",
    "    첫째 줄에 세 정수 A, B, V가 공백으로 구분되어서 주어진다. (1 ≤ B < A ≤ V ≤ 1,000,000,000)\n",
    "\n",
    "- 출력  \n",
    "    첫째 줄에 달팽이가 나무 막대를 모두 올라가는데 며칠이 걸리는지 출력한다.\n",
    "\n",
    "    예제 입력|예제 출력\n",
    "    -|-\n",
    "    2 1 5|4\n",
    "    5 1 6|2\n",
    "    100 99 1000000000|999999901\n",
    "    5 3 10|4"
   ]
  },
  {
   "cell_type": "markdown",
   "metadata": {},
   "source": [
    "### 풀이"
   ]
  },
  {
   "cell_type": "code",
   "execution_count": 65,
   "metadata": {},
   "outputs": [
    {
     "data": {
      "text/plain": [
       "999999901"
      ]
     },
     "execution_count": 65,
     "metadata": {},
     "output_type": "execute_result"
    }
   ],
   "source": [
    "import math\n",
    "A, B, V = map(int, input().split())\n",
    "print( math.ceil( (V - A) / (A - B) ) + 1 )"
   ]
  },
  {
   "cell_type": "markdown",
   "metadata": {},
   "source": [
    "## 10250번 - ACM 호텔\n",
    "\n",
    "- 문제  \n",
    "    <img src='img/10250_01.png' width='30%' height='30%' align='right'/>\n",
    "    ACM 호텔 매니저 지우는 손님이 도착하는 대로 빈 방을 배정하고 있다. 고객 설문조사에 따르면 손님들은 호텔 정문으로부터 걸어서 가장 짧은 거리에 있는 방을 선호한다고   한다. 여러분은 지우를 도와 줄 프로그램을 작성하고자 한다. 즉 설문조사 결과 대로 호텔 정문으로부터 걷는 거리가 가장 짧도록 방을 배정하는 프로그램을 작성하고자 한다.\n",
    "    \n",
    "    문제를 단순화하기 위해서 호텔은 직사각형 모양이라고 가정하자. 각 층에 W 개의 방이 있는 H 층 건물이라고 가정하자 (1 ≤ H, W ≤ 99). 그리고 엘리베이터는 가장 왼쪽에    있다고 가정하자(그림 1 참고). 이런 형태의 호텔을 H × W 형태 호텔이라고 부른다. 호텔 정문은 일층 엘리베이터 바로 앞에 있는데, 정문에서 엘리베이터까지의 거리는  무시한다. 또 모든 인접한 두 방 사이의 거리는 같은 거리(거리 1)라고 가정하고 호텔의 정면 쪽에만 방이 있다고 가정한다.\n",
    "    \n",
    "    <img src='img/10250_02.png' width='40%' height='40%'/>\n",
    "\n",
    "    그림 1. H = 6 이고 W = 12 인 H × W 호텔을 간략하게 나타낸 그림\n",
    "\n",
    "    방 번호는 YXX 나 YYXX 형태인데 여기서 Y 나 YY 는 층 수를 나타내고 XX 는 엘리베이터에서부터 세었을 때의 번호를 나타낸다. 즉, 그림 1 에서 빗금으로 표시한 방은 305    호가 된다.\n",
    "\n",
    "    손님은 엘리베이터를 타고 이동하는 거리는 신경 쓰지 않는다. 다만 걷는 거리가 같을 때에는 아래층의 방을 더 선호한다. 예를 들면 102 호 방보다는 301 호 방을 더     선호하는데, 102 호는 거리 2 만큼 걸어야 하지만 301 호는 거리 1 만큼만 걸으면 되기 때문이다. 같은 이유로 102 호보다 2101 호를 더 선호한다.\n",
    "\n",
    "    여러분이 작성할 프로그램은 초기에 모든 방이 비어있다고 가정하에 이 정책에 따라 N 번째로 도착한 손님에게 배정될 방 번호를 계산하는 프로그램이다. 첫 번째 손님은 101  호, 두 번째 손님은 201 호 등과 같이 배정한다. 그림 1 의 경우를 예로 들면, H = 6이므로 10 번째 손님은 402 호에 배정해야 한다.\n",
    "\n",
    "- 입력  \n",
    "    프로그램은 표준 입력에서 입력 데이터를 받는다. 프로그램의 입력은 T 개의 테스트 데이터로 이루어져 있는데 T 는 입력의 맨 첫 줄에 주어진다. 각 테스트 데이터는 한 행으로서 H, W, N, 세 정수를 포함하고 있으며 각각 호텔의 층 수, 각 층의 방 수, 몇 번째 손님인지를 나타낸다(1 ≤ H, W ≤ 99, 1 ≤ N ≤ H × W). \n",
    "\n",
    "- 출력  \n",
    "    프로그램은 표준 출력에 출력한다. 각 테스트 데이터마다 정확히 한 행을 출력하는데, 내용은 N 번째 손님에게 배정되어야 하는 방 번호를 출력한다.\n",
    "\n",
    "- 예시 입력  \n",
    "    2  \n",
    "    6 12 10  \n",
    "    30 50 72  \n",
    "- 예시 출력  \n",
    "    402  \n",
    "    1203"
   ]
  },
  {
   "cell_type": "markdown",
   "metadata": {},
   "source": [
    "### 풀이1\n",
    "- 오류 : 백준에서 '{len(W)}' 인식 못함"
   ]
  },
  {
   "cell_type": "code",
   "execution_count": 86,
   "metadata": {},
   "outputs": [
    {
     "name": "stdout",
     "output_type": "stream",
     "text": [
      "402\n",
      "1203\n"
     ]
    }
   ],
   "source": [
    "r = int(input())\n",
    "for i in range(r):\n",
    "    H, W, N = map(int, input().split())\n",
    "    W = str(W)\n",
    "    if N % H != 0:\n",
    "        Y = N % H\n",
    "        X = N // H + 1\n",
    "        print(f'{Y}{X:0>{len(W)}}')\n",
    "    else:\n",
    "        Y = H\n",
    "        X = N // H\n",
    "        print(f'{Y}{X:0>{len(W)}}')\n",
    "            "
   ]
  },
  {
   "cell_type": "markdown",
   "metadata": {},
   "source": [
    "### 풀이1-1\n",
    "- '{len(W)}' -> 2로 변경"
   ]
  },
  {
   "cell_type": "code",
   "execution_count": 85,
   "metadata": {},
   "outputs": [
    {
     "name": "stdout",
     "output_type": "stream",
     "text": [
      "402\n",
      "1203\n"
     ]
    }
   ],
   "source": [
    "r = int(input())\n",
    "for i in range(r):\n",
    "    H, W, N = map(int, input().split())\n",
    "    W = str(W)\n",
    "    if N % H != 0:\n",
    "        Y = N % H\n",
    "        X = N // H + 1\n",
    "        print(f'{Y}{X:0>2}')\n",
    "    else:\n",
    "        Y = H\n",
    "        X = N // H\n",
    "        print(f'{Y}{X:0>2}')"
   ]
  },
  {
   "cell_type": "code",
   "execution_count": 89,
   "metadata": {},
   "outputs": [
    {
     "data": {
      "text/plain": [
       "0"
      ]
     },
     "execution_count": 89,
     "metadata": {},
     "output_type": "execute_result"
    }
   ],
   "source": [
    "11 * bool(0)"
   ]
  },
  {
   "cell_type": "code",
   "execution_count": 90,
   "metadata": {},
   "outputs": [
    {
     "data": {
      "text/plain": [
       "11"
      ]
     },
     "execution_count": 90,
     "metadata": {},
     "output_type": "execute_result"
    }
   ],
   "source": [
    "11 * bool(1)"
   ]
  },
  {
   "cell_type": "code",
   "execution_count": 103,
   "metadata": {},
   "outputs": [
    {
     "name": "stdout",
     "output_type": "stream",
     "text": [
      "1002\n",
      "4203\n"
     ]
    }
   ],
   "source": [
    "r = int(input())\n",
    "for i in range(r):\n",
    "    H, W, N = map(int, input().split())\n",
    "    W = str(W)\n",
    "    Y = (N % H)*bool(~bool(N % H)) + H*bool(N % H)\n",
    "    X = N // H + 1*bool(N % H)\n",
    "    print(f'{Y}{X:0>2}')"
   ]
  },
  {
   "cell_type": "code",
   "execution_count": 98,
   "metadata": {},
   "outputs": [
    {
     "data": {
      "text/plain": [
       "-1"
      ]
     },
     "execution_count": 98,
     "metadata": {},
     "output_type": "execute_result"
    }
   ],
   "source": [
    "~bool(0)"
   ]
  },
  {
   "cell_type": "code",
   "execution_count": 96,
   "metadata": {},
   "outputs": [
    {
     "data": {
      "text/plain": [
       "False"
      ]
     },
     "execution_count": 96,
     "metadata": {},
     "output_type": "execute_result"
    }
   ],
   "source": [
    "bool(0)"
   ]
  },
  {
   "cell_type": "code",
   "execution_count": 101,
   "metadata": {},
   "outputs": [
    {
     "data": {
      "text/plain": [
       "True"
      ]
     },
     "execution_count": 101,
     "metadata": {},
     "output_type": "execute_result"
    }
   ],
   "source": [
    "bool(~bool(0))"
   ]
  },
  {
   "cell_type": "code",
   "execution_count": 104,
   "metadata": {},
   "outputs": [
    {
     "data": {
      "text/plain": [
       "10"
      ]
     },
     "execution_count": 104,
     "metadata": {},
     "output_type": "execute_result"
    }
   ],
   "source": [
    "(10 % 6)*bool(~bool(10 % 6)) + 6*bool(10 % 6)"
   ]
  },
  {
   "cell_type": "code",
   "execution_count": 105,
   "metadata": {},
   "outputs": [
    {
     "data": {
      "text/plain": [
       "4"
      ]
     },
     "execution_count": 105,
     "metadata": {},
     "output_type": "execute_result"
    }
   ],
   "source": [
    "(10 % 6)*bool(~bool(10 % 6))"
   ]
  },
  {
   "cell_type": "code",
   "execution_count": 106,
   "metadata": {},
   "outputs": [
    {
     "data": {
      "text/plain": [
       "True"
      ]
     },
     "execution_count": 106,
     "metadata": {},
     "output_type": "execute_result"
    }
   ],
   "source": [
    "bool(~bool(10 % 6))"
   ]
  },
  {
   "cell_type": "code",
   "execution_count": 107,
   "metadata": {},
   "outputs": [
    {
     "data": {
      "text/plain": [
       "-2"
      ]
     },
     "execution_count": 107,
     "metadata": {},
     "output_type": "execute_result"
    }
   ],
   "source": [
    "~bool(10 % 6)"
   ]
  },
  {
   "cell_type": "code",
   "execution_count": 109,
   "metadata": {},
   "outputs": [
    {
     "data": {
      "text/plain": [
       "False"
      ]
     },
     "execution_count": 109,
     "metadata": {},
     "output_type": "execute_result"
    }
   ],
   "source": [
    "not bool(10 % 6)"
   ]
  },
  {
   "cell_type": "markdown",
   "metadata": {},
   "source": [
    "### 풀이2"
   ]
  },
  {
   "cell_type": "code",
   "execution_count": 114,
   "metadata": {},
   "outputs": [
    {
     "name": "stdout",
     "output_type": "stream",
     "text": [
      "402\n",
      "1203\n"
     ]
    }
   ],
   "source": [
    "for i in range(int(input())):\n",
    "    H, W, N = map(int, input().split())\n",
    "    Y = (N % H)*bool(N % H) + H*(not bool(N % H) )\n",
    "    X = N // H + 1*bool(N % H)\n",
    "    print(f'{Y}{X:0>2}')"
   ]
  },
  {
   "cell_type": "markdown",
   "metadata": {},
   "source": [
    "## 2275번 - 부녀회장이 될테야\n",
    "\n",
    "- 문제  \n",
    "    평소 반상회에 참석하는 것을 좋아하는 주희는 이번 기회에 부녀회장이 되고 싶어 각 층의 사람들을 불러 모아 반상회를 주최하려고 한다.\n",
    "\n",
    "    이 아파트에 거주를 하려면 조건이 있는데, “a층의 b호에 살려면 자신의 아래(a-1)층의 1호부터 b호까지 사람들의 수의 합만큼 사람들을 데려와 살아야 한다” 는 계약 조항을 꼭 지키고 들어와야 한다.\n",
    "\n",
    "    아파트에 비어있는 집은 없고 모든 거주민들이 이 계약 조건을 지키고 왔다고 가정했을 때, 주어지는 양의 정수 k와 n에 대해 k층에 n호에는 몇 명이 살고 있는지 출력하라. 단, 아파트에는 0층부터 있고 각층에는 1호부터 있으며, 0층의 i호에는 i명이 산다.\n",
    "\n",
    "- 입력  \n",
    "    첫 번째 줄에 Test case의 수 T가 주어진다. 그리고 각각의 케이스마다 입력으로 첫 번째 줄에 정수 k, 두 번째 줄에 정수 n이 주어진다\n",
    "\n",
    "- 출력  \n",
    "    각각의 Test case에 대해서 해당 집에 거주민 수를 출력하라.\n",
    "\n",
    "- 제한  \n",
    "    1 ≤ k, n ≤ 14\n",
    "\n",
    "- 예제 입력  \n",
    "    2  \n",
    "    1  \n",
    "    3  \n",
    "    2  \n",
    "    3  \n",
    "- 예제 출력  \n",
    "    6  \n",
    "    10"
   ]
  },
  {
   "cell_type": "code",
   "execution_count": 21,
   "metadata": {},
   "outputs": [],
   "source": [
    "def num(a, b):\n",
    "    if a == 0:\n",
    "        return b\n",
    "    else:\n",
    "        s = 0\n",
    "        for i in range(1, b+1):\n",
    "            s += num(a-1, i)\n",
    "        return s"
   ]
  },
  {
   "cell_type": "code",
   "execution_count": 22,
   "metadata": {},
   "outputs": [
    {
     "data": {
      "text/plain": [
       "3"
      ]
     },
     "execution_count": 22,
     "metadata": {},
     "output_type": "execute_result"
    }
   ],
   "source": [
    "num(0, 3)"
   ]
  },
  {
   "cell_type": "code",
   "execution_count": 23,
   "metadata": {},
   "outputs": [
    {
     "data": {
      "text/plain": [
       "6"
      ]
     },
     "execution_count": 23,
     "metadata": {},
     "output_type": "execute_result"
    }
   ],
   "source": [
    "num(1, 3)"
   ]
  },
  {
   "cell_type": "code",
   "execution_count": 24,
   "metadata": {},
   "outputs": [
    {
     "data": {
      "text/plain": [
       "10"
      ]
     },
     "execution_count": 24,
     "metadata": {},
     "output_type": "execute_result"
    }
   ],
   "source": [
    "num(2, 3)"
   ]
  },
  {
   "cell_type": "code",
   "execution_count": 25,
   "metadata": {},
   "outputs": [
    {
     "data": {
      "text/plain": [
       "15"
      ]
     },
     "execution_count": 25,
     "metadata": {},
     "output_type": "execute_result"
    }
   ],
   "source": [
    "num(3, 3)"
   ]
  },
  {
   "cell_type": "markdown",
   "metadata": {},
   "source": [
    "### 풀이(시간초과)"
   ]
  },
  {
   "cell_type": "code",
   "execution_count": 26,
   "metadata": {},
   "outputs": [
    {
     "name": "stdout",
     "output_type": "stream",
     "text": [
      "6\n",
      "10\n"
     ]
    }
   ],
   "source": [
    "def num(a, b):\n",
    "    if a == 0:\n",
    "        return b\n",
    "    else:\n",
    "        s = 0\n",
    "        for i in range(1, b+1):\n",
    "            s += num(a-1, i)\n",
    "        return s\n",
    "\n",
    "r = int(input())\n",
    "for _ in range(r):\n",
    "    a = int(input())\n",
    "    b = int(input())\n",
    "    print(num(a, b))"
   ]
  },
  {
   "cell_type": "markdown",
   "metadata": {},
   "source": [
    "### 풀이2(시간초과)"
   ]
  },
  {
   "cell_type": "code",
   "execution_count": 1,
   "metadata": {},
   "outputs": [
    {
     "name": "stdout",
     "output_type": "stream",
     "text": [
      "35\n"
     ]
    }
   ],
   "source": [
    "def num(a, b):\n",
    "    if a == 0:\n",
    "        return b\n",
    "    else:\n",
    "        s = 0\n",
    "        i = 1\n",
    "        while i <= b:\n",
    "            s += num(a-1, i)\n",
    "            i += 1\n",
    "        return s\n",
    "\n",
    "r = int(input())\n",
    "for _ in range(r):\n",
    "    a = int(input())\n",
    "    b = int(input())\n",
    "    print(num(a, b))"
   ]
  },
  {
   "cell_type": "markdown",
   "metadata": {},
   "source": [
    "### 풀이3(시간 초과)\n",
    "- jupyter에선 실행 X"
   ]
  },
  {
   "cell_type": "code",
   "execution_count": 28,
   "metadata": {},
   "outputs": [],
   "source": [
    "import sys\n",
    "def num(a, b):\n",
    "    if a == 0:\n",
    "        return b\n",
    "    else:\n",
    "        s = 0\n",
    "        for i in range(1, b+1):\n",
    "            s += num(a-1, i)\n",
    "        return s\n",
    "r = int(sys.stdin.readline())\n",
    "for _ in range(r):\n",
    "    a = int(sys.stdin.readline())\n",
    "    b = int(sys.stdin.readline())\n",
    "    print(num(a, b))"
   ]
  },
  {
   "cell_type": "markdown",
   "metadata": {},
   "source": [
    "### 풀이4(시간 초과)"
   ]
  },
  {
   "cell_type": "code",
   "execution_count": 4,
   "metadata": {},
   "outputs": [
    {
     "name": "stdout",
     "output_type": "stream",
     "text": [
      "6\n",
      "10\n"
     ]
    }
   ],
   "source": [
    "import sys\n",
    "def num(a, b):\n",
    "    if a == 0:\n",
    "        return b\n",
    "    elif b == 1:\n",
    "        return 1\n",
    "    else:\n",
    "        return num(a, b-1) + num(a-1, b)\n",
    "r = int(input())\n",
    "for _ in range(r):\n",
    "    a = int(input())\n",
    "    b = int(input())\n",
    "    print(num(a, b))"
   ]
  },
  {
   "cell_type": "markdown",
   "metadata": {},
   "source": [
    "### 풀이5"
   ]
  },
  {
   "cell_type": "code",
   "execution_count": 11,
   "metadata": {},
   "outputs": [
    {
     "name": "stdout",
     "output_type": "stream",
     "text": [
      "15\n"
     ]
    }
   ],
   "source": [
    "def combi(a, b):\n",
    "    up = 1\n",
    "    for n in range(a+b, a+1, -1):\n",
    "        up *= n\n",
    "    down = 1\n",
    "    for r in range(1, b):\n",
    "        down *= r\n",
    "    return int(up / down)\n",
    "r = int(input())\n",
    "for _ in range(r):\n",
    "    a = int(input())\n",
    "    b = int(input())\n",
    "    print(combi(a, b))"
   ]
  },
  {
   "cell_type": "markdown",
   "metadata": {},
   "source": [
    "### 풀이6"
   ]
  },
  {
   "cell_type": "code",
   "execution_count": 14,
   "metadata": {},
   "outputs": [
    {
     "name": "stdout",
     "output_type": "stream",
     "text": [
      "15\n"
     ]
    }
   ],
   "source": [
    "import math\n",
    "for _ in range(int(input())):\n",
    "    a = int(input())\n",
    "    b = int(input())\n",
    "    print(math.comb(a+b, b-1))"
   ]
  },
  {
   "cell_type": "markdown",
   "metadata": {},
   "source": [
    "## 2839번 - 설탕 배달\n",
    "\n",
    "- 문제  \n",
    "    상근이는 요즘 설탕공장에서 설탕을 배달하고 있다. 상근이는 지금 사탕가게에 설탕을 정확하게 N킬로그램을 배달해야 한다. 설탕공장에서 만드는 설탕은 봉지에 담겨져 있다. 봉지는 3킬로그램 봉지와 5킬로그램 봉지가 있다.\n",
    "\n",
    "    상근이는 귀찮기 때문에, 최대한 적은 봉지를 들고 가려고 한다. 예를 들어, 18킬로그램 설탕을 배달해야 할 때, 3킬로그램 봉지 6개를 가져가도 되지만, 5킬로그램 3개와 3킬로그램 1개를 배달하면, 더 적은 개수의 봉지를 배달할 수 있다.\n",
    "\n",
    "    상근이가 설탕을 정확하게 N킬로그램 배달해야 할 때, 봉지 몇 개를 가져가면 되는지 그 수를 구하는 프로그램을 작성하시오.\n",
    "\n",
    "- 입력  \n",
    "    첫째 줄에 N이 주어진다. (3 ≤ N ≤ 5000)\n",
    "\n",
    "- 출력  \n",
    "    상근이가 배달하는 봉지의 최소 개수를 출력한다. 만약, 정확하게 N킬로그램을 만들 수 없다면 -1을 출력한다.\n",
    "\n",
    "    예제 입력|예제 출력\n",
    "    -|-\n",
    "    18|4\n",
    "    4|-1\n",
    "    6|2\n",
    "    9|3\n",
    "    11|3"
   ]
  },
  {
   "cell_type": "code",
   "execution_count": 6,
   "metadata": {},
   "outputs": [],
   "source": [
    "from itertools import product, combinations_with_replacement"
   ]
  },
  {
   "cell_type": "code",
   "execution_count": 5,
   "metadata": {},
   "outputs": [
    {
     "name": "stdout",
     "output_type": "stream",
     "text": [
      "(3, 3)\n",
      "(3, 5)\n",
      "(5, 3)\n",
      "(5, 5)\n"
     ]
    }
   ],
   "source": [
    "for i in product([3, 5], repeat=2):\n",
    "    print(i)"
   ]
  },
  {
   "cell_type": "code",
   "execution_count": 8,
   "metadata": {},
   "outputs": [
    {
     "name": "stdout",
     "output_type": "stream",
     "text": [
      "(3, 3)\n",
      "(3, 5)\n",
      "(5, 5)\n"
     ]
    }
   ],
   "source": [
    "for i in combinations_with_replacement([3, 5], 2):\n",
    "    print(i)"
   ]
  },
  {
   "cell_type": "code",
   "execution_count": 9,
   "metadata": {},
   "outputs": [
    {
     "name": "stdout",
     "output_type": "stream",
     "text": [
      "6\n",
      "8\n",
      "10\n"
     ]
    }
   ],
   "source": [
    "for i in combinations_with_replacement([3, 5], 2):\n",
    "    print(sum(i))"
   ]
  },
  {
   "cell_type": "code",
   "execution_count": 10,
   "metadata": {},
   "outputs": [
    {
     "data": {
      "text/plain": [
       "{(3, 3), (3, 5), (5, 5)}"
      ]
     },
     "execution_count": 10,
     "metadata": {},
     "output_type": "execute_result"
    }
   ],
   "source": [
    "c_set = set()\n",
    "for i in combinations_with_replacement([3, 5], 2):\n",
    "    c_set.add(i)\n",
    "c_set"
   ]
  },
  {
   "cell_type": "code",
   "execution_count": 11,
   "metadata": {},
   "outputs": [
    {
     "name": "stdout",
     "output_type": "stream",
     "text": [
      "6\n",
      "8\n",
      "10\n"
     ]
    }
   ],
   "source": [
    "for j in c_set:\n",
    "    print(sum(j))"
   ]
  },
  {
   "cell_type": "code",
   "execution_count": 20,
   "metadata": {},
   "outputs": [
    {
     "name": "stdout",
     "output_type": "stream",
     "text": [
      "-1\n"
     ]
    }
   ],
   "source": [
    "import math\n",
    "from itertools import combinations_with_replacement\n",
    "num = 9\n",
    "r = math.ceil(num / 5)\n",
    "c_set = set()\n",
    "for i in combinations_with_replacement([3, 5], r):\n",
    "    c_set.add(sum(i))\n",
    "if num in c_set:\n",
    "    print(r)\n",
    "else:\n",
    "    print(-1)"
   ]
  },
  {
   "cell_type": "code",
   "execution_count": 37,
   "metadata": {},
   "outputs": [
    {
     "data": {
      "text/plain": [
       "[[3, 5], [6, 8, 10], [9, 11, 13, 15]]"
      ]
     },
     "execution_count": 37,
     "metadata": {},
     "output_type": "execute_result"
    }
   ],
   "source": [
    "num = 9\n",
    "c_list = []\n",
    "r = math.ceil(num/3)\n",
    "for i in range(1, r+1):\n",
    "    b_list = []\n",
    "    for j in combinations_with_replacement([3, 5], i):\n",
    "        b_list.append(sum(j))\n",
    "    c_list.append(b_list)\n",
    "c_list"
   ]
  },
  {
   "cell_type": "code",
   "execution_count": 39,
   "metadata": {},
   "outputs": [
    {
     "data": {
      "text/plain": [
       "False"
      ]
     },
     "execution_count": 39,
     "metadata": {},
     "output_type": "execute_result"
    }
   ],
   "source": [
    "3 in c_list"
   ]
  },
  {
   "cell_type": "code",
   "execution_count": 32,
   "metadata": {},
   "outputs": [
    {
     "name": "stdout",
     "output_type": "stream",
     "text": [
      "3\n"
     ]
    }
   ],
   "source": [
    "for i, one in enumerate(c_list):\n",
    "    if num in one:\n",
    "        n = i+1\n",
    "print(n)"
   ]
  },
  {
   "cell_type": "markdown",
   "metadata": {},
   "source": [
    "### 풀이1(시간 초과)"
   ]
  },
  {
   "cell_type": "code",
   "execution_count": 49,
   "metadata": {},
   "outputs": [
    {
     "name": "stdout",
     "output_type": "stream",
     "text": [
      "3\n"
     ]
    }
   ],
   "source": [
    "import math\n",
    "from itertools import combinations_with_replacement\n",
    "num = int(input())\n",
    "n = 0\n",
    "c_list = []\n",
    "r = math.ceil(num/3)\n",
    "for i in range(1, r+1):\n",
    "    b_list = []\n",
    "    for j in combinations_with_replacement([3, 5], i):\n",
    "        b_list.append(sum(j))\n",
    "    c_list.append(b_list)\n",
    "for idx, one in enumerate(c_list):\n",
    "    if num in one:\n",
    "        n = idx+1\n",
    "        break\n",
    "if n != 0:\n",
    "    print(n)\n",
    "else:\n",
    "    print(-1)"
   ]
  },
  {
   "cell_type": "code",
   "execution_count": 61,
   "metadata": {},
   "outputs": [
    {
     "data": {
      "text/plain": [
       "[0, 1, 2, 3]"
      ]
     },
     "execution_count": 61,
     "metadata": {},
     "output_type": "execute_result"
    }
   ],
   "source": [
    "num = 9\n",
    "r = 3\n",
    "a_list = [i for i in range(r+1)]\n",
    "a_list"
   ]
  },
  {
   "cell_type": "code",
   "execution_count": 62,
   "metadata": {},
   "outputs": [
    {
     "name": "stdout",
     "output_type": "stream",
     "text": [
      "0 0\n",
      "0 1\n",
      "0 2\n",
      "0 3\n",
      "1 0\n",
      "1 1\n",
      "1 2\n",
      "1 3\n",
      "2 0\n",
      "2 1\n",
      "2 2\n",
      "2 3\n",
      "3 0\n",
      "3 1\n",
      "3 2\n",
      "3 3\n"
     ]
    }
   ],
   "source": [
    "for j in product(a_list, repeat=2):\n",
    "    a, b = j\n",
    "    print(a, b)"
   ]
  },
  {
   "cell_type": "code",
   "execution_count": 63,
   "metadata": {},
   "outputs": [],
   "source": [
    "def func(a, b):\n",
    "    return 3*a + 5*b"
   ]
  },
  {
   "cell_type": "code",
   "execution_count": 64,
   "metadata": {},
   "outputs": [
    {
     "data": {
      "text/plain": [
       "[(3, 0)]"
      ]
     },
     "execution_count": 64,
     "metadata": {},
     "output_type": "execute_result"
    }
   ],
   "source": [
    "b_list = []\n",
    "for j in product(a_list, repeat=2):\n",
    "    a, b = j\n",
    "    if num == func(a, b):\n",
    "        b_list.append(j)\n",
    "b_list"
   ]
  },
  {
   "cell_type": "code",
   "execution_count": 65,
   "metadata": {},
   "outputs": [
    {
     "data": {
      "text/plain": [
       "[(1, 3), (6, 0)]"
      ]
     },
     "execution_count": 65,
     "metadata": {},
     "output_type": "execute_result"
    }
   ],
   "source": [
    "def func(a, b):\n",
    "    return 3*a + 5*b\n",
    "num = 18\n",
    "r = math.ceil(num/3)\n",
    "a_list = [i for i in range(r+1)]\n",
    "b_list = []\n",
    "for j in product(a_list, repeat=2):\n",
    "    a, b = j\n",
    "    if num == func(a, b):\n",
    "        b_list.append(j)\n",
    "b_list"
   ]
  },
  {
   "cell_type": "code",
   "execution_count": 68,
   "metadata": {},
   "outputs": [
    {
     "name": "stdout",
     "output_type": "stream",
     "text": [
      "4\n"
     ]
    }
   ],
   "source": [
    "c_list = []\n",
    "for one in b_list:\n",
    "    c_list.append(sum(one))\n",
    "print(min(c_list))"
   ]
  },
  {
   "cell_type": "code",
   "execution_count": 91,
   "metadata": {},
   "outputs": [
    {
     "name": "stdout",
     "output_type": "stream",
     "text": [
      "0 0\n",
      "0 1\n",
      "0 2\n",
      "1 0\n",
      "1 1\n",
      "1 2\n",
      "2 0\n",
      "2 1\n",
      "2 2\n"
     ]
    }
   ],
   "source": [
    "\n",
    "for a, b in product([0, 1, 2], repeat=2):\n",
    "    print(a, b)"
   ]
  },
  {
   "cell_type": "markdown",
   "metadata": {},
   "source": [
    "### 풀이2"
   ]
  },
  {
   "cell_type": "code",
   "execution_count": 93,
   "metadata": {},
   "outputs": [
    {
     "name": "stdout",
     "output_type": "stream",
     "text": [
      "4\n"
     ]
    }
   ],
   "source": [
    "import math\n",
    "from itertools import product\n",
    "num = int(input())\n",
    "r = math.ceil(num/3)\n",
    "a_list = [i for i in range(r+1)]\n",
    "b_list = []\n",
    "for a, b in product(a_list, repeat=2):\n",
    "    if num == 3*a + 5*b:\n",
    "        b_list.append(a + b)\n",
    "if len(b_list) != 0:\n",
    "    print(min(b_list))\n",
    "else:\n",
    "    print(-1)"
   ]
  },
  {
   "cell_type": "code",
   "execution_count": 106,
   "metadata": {},
   "outputs": [
    {
     "name": "stdout",
     "output_type": "stream",
     "text": [
      "-1\n"
     ]
    }
   ],
   "source": [
    "import math\n",
    "from itertools import product\n",
    "num = int(input())\n",
    "r = math.ceil(num/3)\n",
    "a_list = [i for i in range(r+1)]\n",
    "b_list = []\n",
    "for a, b in product(a_list, repeat=2):\n",
    "    if num == 3*a + 5*b:\n",
    "        b_list.append(a + b)\n",
    "print(min(b_list) if len(b_list) != 0 else -1)"
   ]
  },
  {
   "cell_type": "markdown",
   "metadata": {},
   "source": [
    "### 풀이3\n",
    "- 참고(제출 번호 : 13499795, 아이디 : smismi79)"
   ]
  },
  {
   "cell_type": "code",
   "execution_count": 104,
   "metadata": {},
   "outputs": [
    {
     "name": "stdout",
     "output_type": "stream",
     "text": [
      "4\n"
     ]
    }
   ],
   "source": [
    "num = int(input())\n",
    "c = 0\n",
    "while num % 5 and num > 0:\n",
    "    num -= 3\n",
    "    c += 1\n",
    "print(-1 if num % 5 else num//5 + c)"
   ]
  },
  {
   "cell_type": "markdown",
   "metadata": {},
   "source": [
    "## 10757번 - 큰 수 A + B\n",
    "\n",
    "- 문제  \n",
    "    두 정수 A와 B를 입력받은 다음, A+B를 출력하는 프로그램을 작성하시오.\n",
    "\n",
    "- 입력  \n",
    "    첫째 줄에 A와 B가 주어진다. (0 < A,B < $10^{10000}$)\n",
    "\n",
    "- 출력  \n",
    "    첫째 줄에 A+B를 출력한다.\n",
    "\n",
    "- 예제 입력  \n",
    "    9223372036854775807 9223372036854775808\n",
    "- 예제 출력 \n",
    "    18446744073709551615"
   ]
  },
  {
   "cell_type": "code",
   "execution_count": 112,
   "metadata": {},
   "outputs": [
    {
     "name": "stdout",
     "output_type": "stream",
     "text": [
      "18446744073709551615\n"
     ]
    }
   ],
   "source": [
    "a, b = map(int, input().split())\n",
    "print(a+b)"
   ]
  },
  {
   "cell_type": "markdown",
   "metadata": {},
   "source": [
    "# 코드 마지막"
   ]
  }
 ],
 "metadata": {
  "interpreter": {
   "hash": "569b4317022eb29baeafb3d0f1f739310808ea28ce83ca127a35db1c01070585"
  },
  "kernelspec": {
   "display_name": "Python 3.9.12 ('base')",
   "language": "python",
   "name": "python3"
  },
  "language_info": {
   "codemirror_mode": {
    "name": "ipython",
    "version": 3
   },
   "file_extension": ".py",
   "mimetype": "text/x-python",
   "name": "python",
   "nbconvert_exporter": "python",
   "pygments_lexer": "ipython3",
   "version": "3.9.12"
  },
  "orig_nbformat": 4
 },
 "nbformat": 4,
 "nbformat_minor": 2
}
