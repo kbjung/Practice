{
 "cells": [
  {
   "cell_type": "markdown",
   "metadata": {},
   "source": [
    "# 기본 수학 1"
   ]
  },
  {
   "cell_type": "markdown",
   "metadata": {},
   "source": [
    "## 1712번 - 손익분기점\n",
    "\n",
    "- 문제  \n",
    "    월드전자는 노트북을 제조하고 판매하는 회사이다. 노트북 판매 대수에 상관없이 매년 임대료, 재산세, 보험료, 급여 등 A만원의 고정 비용이 들며, 한 대의 노트북을 생산하는 데에는 재료비와 인건비 등 총 B만원의 가변 비용이 든다고 한다.\n",
    "\n",
    "    예를 들어 A=1,000, B=70이라고 하자. 이 경우 노트북을 한 대 생산하는 데는 총 1,070만원이 들며, 열 대 생산하는 데는 총 1,700만원이 든다.\n",
    "\n",
    "    노트북 가격이 C만원으로 책정되었다고 한다. 일반적으로 생산 대수를 늘려 가다 보면 어느 순간 총 수입(판매비용)이 총 비용(=고정비용+가변비용)보다 많아지게 된다. 최초로 총 수입이 총 비용보다 많아져 이익이 발생하는 지점을 손익분기점(BREAK-EVEN POINT)이라고 한다.\n",
    "\n",
    "    A, B, C가 주어졌을 때, 손익분기점을 구하는 프로그램을 작성하시오.\n",
    "\n",
    "- 입력  \n",
    "    첫째 줄에 A, B, C가 빈 칸을 사이에 두고 순서대로 주어진다. A, B, C는 21억 이하의 자연수이다.\n",
    "\n",
    "- 출력  \n",
    "    첫 번째 줄에 손익분기점 즉 최초로 이익이 발생하는 판매량을 출력한다. 손익분기점이 존재하지 않으면 -1을 출력한다.\n",
    "\n",
    "    예제 입력|예제 출력\n",
    "    -|-\n",
    "    1000 70 170|11\n",
    "    3 2 1|-1\n",
    "    2100000000 9 10|2100000001"
   ]
  },
  {
   "cell_type": "code",
   "execution_count": 10,
   "metadata": {},
   "outputs": [
    {
     "name": "stdout",
     "output_type": "stream",
     "text": [
      "2100000001\n"
     ]
    }
   ],
   "source": [
    "A, B, C = map(int, input().split())\n",
    "if C - B <= 0:\n",
    "    i = -1\n",
    "else:\n",
    "    i = A // (C-B) + 1\n",
    "print(i)"
   ]
  },
  {
   "cell_type": "markdown",
   "metadata": {},
   "source": [
    "## 2292번 - 벌집\n",
    "\n",
    "- 문제  \n",
    "\n",
    "    <center><img src='2292.png' width='30%' height='30%'/></center>\n",
    "\n",
    "    위의 그림과 같이 육각형으로 이루어진 벌집이 있다. 그림에서 보는 바와 같이 중앙의 방 1부터 시작해서 이웃하는 방에 돌아가면서 1씩 증가하는 번호를 주소로 매길 수 있다. 숫자 N이 주어졌을 때, 벌집의 중앙 1에서 N번 방까지 최소 개수의 방을 지나서 갈 때 몇 개의 방을 지나가는지(시작과 끝을 포함하여)를 계산하는 프로그램을 작성하시오. 예를 들면, 13까지는 3개, 58까지는 5개를 지난다.\n",
    "\n",
    "- 입력  \n",
    "    첫째 줄에 N(1 ≤ N ≤ 1,000,000,000)이 주어진다.\n",
    "\n",
    "- 출력  \n",
    "    입력으로 주어진 방까지 최소 개수의 방을 지나서 갈 때 몇 개의 방을 지나는지 출력한다.\n",
    "\n",
    "- 예제 입력  \n",
    "    13\n",
    "- 예제 출력  \n",
    "    3"
   ]
  },
  {
   "cell_type": "code",
   "execution_count": null,
   "metadata": {},
   "outputs": [],
   "source": [
    "# 1단계 : 1 - 1개\n",
    "# 2단계 : 2 ~ 7 - 6개\n",
    "# 3단계 : 8 ~ 19 - 12개\n",
    "# 4단계 : 20 ~ 37  - 18개\n",
    "\n",
    "# 규칙\n",
    "    # n단계 끝수 : 1 + (6*k, k=1~(n-1)번 합)"
   ]
  },
  {
   "cell_type": "code",
   "execution_count": 21,
   "metadata": {},
   "outputs": [
    {
     "name": "stdout",
     "output_type": "stream",
     "text": [
      "3\n"
     ]
    }
   ],
   "source": [
    "num = int(input())\n",
    "n = 1\n",
    "k = 0\n",
    "while True:\n",
    "    k += 6*(n-1)\n",
    "    end_num = 1 + k\n",
    "    if num <= end_num:\n",
    "        break\n",
    "    n += 1\n",
    "print(n)"
   ]
  },
  {
   "cell_type": "markdown",
   "metadata": {},
   "source": [
    "## 1193번 - 분수찾기\n",
    "\n",
    "- 문제  \n",
    "    무한히 큰 배열에 다음과 같이 분수들이 적혀있다.\n",
    "\n",
    "    1/1|1/2|1/3|1/4|1/5| …\n",
    "    -- |-- |-- |-- |-- |--\n",
    "    2/1|2/2|2/3|2/4| … | …\n",
    "    3/1|3/2|3/3| … | … | … \n",
    "    4/1|4/2| … | … | … | … \n",
    "    5/1| … | … | … | … | … \n",
    "     … | … | … | … | … | …\n",
    "     \n",
    "    이와 같이 나열된 분수들을 1/1 → 1/2 → 2/1 → 3/1 → 2/2 → … 과 같은 지그재그 순서로 차례대로 1번, 2번, 3번, 4번, 5번, … 분수라고 하자.\n",
    "\n",
    "    X가 주어졌을 때, X번째 분수를 구하는 프로그램을 작성하시오.\n",
    "\n",
    "- 입력  \n",
    "    첫째 줄에 X(1 ≤ X ≤ 10,000,000)가 주어진다.\n",
    "\n",
    "- 출력  \n",
    "    첫째 줄에 분수를 출력한다.\n",
    "\n",
    "    예시 입력|예시 출력\n",
    "    -|-\n",
    "    1|1/1\n",
    "    2|1/2\n",
    "    3|2/1\n",
    "    4|3/1\n",
    "    5|2/2\n",
    "    6|1/3\n",
    "    7|1/4\n",
    "    8|2/3\n",
    "    9|3/2\n",
    "    14|2/4"
   ]
  },
  {
   "cell_type": "code",
   "execution_count": null,
   "metadata": {},
   "outputs": [],
   "source": [
    "# 1 : 1/1 -> 2 -> 1개\n",
    "# 2 : 1/2 -> 3\n",
    "# 3 : 2/1 -> 3 -> 2개\n",
    "# 4 : 3/1 -> 4\n",
    "# 5 : 2/2 -> 4\n",
    "# 6 : 1/3 -> 4 -> 3개\n",
    "# 7 : 1/4 -> 5"
   ]
  },
  {
   "cell_type": "code",
   "execution_count": null,
   "metadata": {},
   "outputs": [],
   "source": [
    "# 1. 입력한 수를 그룹으로 나눈다.\n",
    "    # (1), (2,3), (4,5,6), (7,8,9,10), ...\n",
    "# 2. 그룹의 마지막 수의 규칙을 찾는다.\n",
    "    # 1, 3, 6, 10, ...\n",
    "    # a = n*(n-1)/2 + n\n",
    "    # a : n번째 그룹의 첫 수\n",
    "# 3. n그룹에 매칭되는 분수를 리스트로 만든다.\n",
    "    # 분수 : a/b\n",
    "    # 만약 n+1 이 짝수면, b : 1씩 증가\n",
    "        # n-1번 반복 : b += 1, a = n+1 - b \n",
    "    # 만약 n+1 이 홀수면, a : 1씩 증가\n",
    "        # n-1번 반복 : a += 1, b = n+1 - a \n",
    "# 4. 입력한 수의 n그룹에서 순서를 찾는다.\n",
    "    # 입력한 수 % n -> 리스트의 인덱스"
   ]
  },
  {
   "cell_type": "code",
   "execution_count": 50,
   "metadata": {},
   "outputs": [
    {
     "name": "stdout",
     "output_type": "stream",
     "text": [
      "2/4\n"
     ]
    }
   ],
   "source": [
    "num = int(input())\n",
    "n = 1\n",
    "while True:\n",
    "    end_num = n*(n-1)/2 + n\n",
    "    if num <= end_num:\n",
    "        break\n",
    "    n += 1\n",
    "if n % 2 == 0:\n",
    "    g_list = []\n",
    "    a = 1\n",
    "    b = n + 1 - a\n",
    "    g_list.append(f'{a}/{b}')\n",
    "    for i in range(n-1):\n",
    "        a += 1\n",
    "        b = n + 1 - a\n",
    "        g_list.append(f'{a}/{b}')\n",
    "    idx = int( num - (end_num + 1) )\n",
    "    print(g_list[idx])\n",
    "else:\n",
    "    g_list = []\n",
    "    b = 1\n",
    "    a = n + 1 - b\n",
    "    g_list.append(f'{a}/{b}')\n",
    "    for i in range(n-1):\n",
    "        b += 1\n",
    "        a = n + 1 - b\n",
    "        g_list.append(f'{a}/{b}')\n",
    "    idx = int( num - (end_num + 1) )\n",
    "    print(g_list[idx])"
   ]
  },
  {
   "cell_type": "code",
   "execution_count": 51,
   "metadata": {},
   "outputs": [
    {
     "data": {
      "text/plain": [
       "['5/1', '4/2', '3/3', '2/4', '1/5']"
      ]
     },
     "execution_count": 51,
     "metadata": {},
     "output_type": "execute_result"
    }
   ],
   "source": [
    "g_list"
   ]
  },
  {
   "cell_type": "markdown",
   "metadata": {},
   "source": [
    "## 2869번 - 달팽이는 올라가고 싶다"
   ]
  },
  {
   "cell_type": "markdown",
   "metadata": {},
   "source": [
    "## 10250번 - ACM 호텔"
   ]
  },
  {
   "cell_type": "markdown",
   "metadata": {},
   "source": [
    "## 2275번 - 부녀회장이 될테야"
   ]
  },
  {
   "cell_type": "markdown",
   "metadata": {},
   "source": [
    "## 2839번 - 설탕 배달"
   ]
  },
  {
   "cell_type": "markdown",
   "metadata": {},
   "source": [
    "## 10757번 - 큰 수 A + B"
   ]
  },
  {
   "cell_type": "markdown",
   "metadata": {},
   "source": [
    "# 코드 마지막"
   ]
  }
 ],
 "metadata": {
  "interpreter": {
   "hash": "569b4317022eb29baeafb3d0f1f739310808ea28ce83ca127a35db1c01070585"
  },
  "kernelspec": {
   "display_name": "Python 3.9.12 ('base')",
   "language": "python",
   "name": "python3"
  },
  "language_info": {
   "codemirror_mode": {
    "name": "ipython",
    "version": 3
   },
   "file_extension": ".py",
   "mimetype": "text/x-python",
   "name": "python",
   "nbconvert_exporter": "python",
   "pygments_lexer": "ipython3",
   "version": "3.9.12"
  },
  "orig_nbformat": 4
 },
 "nbformat": 4,
 "nbformat_minor": 2
}
